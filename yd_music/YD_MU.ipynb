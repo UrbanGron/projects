{
 "cells": [
  {
   "cell_type": "markdown",
   "metadata": {
    "id": "E0vqbgi9ay0H"
   },
   "source": [
    "# Яндекс.Музыка"
   ]
  },
  {
   "cell_type": "markdown",
   "metadata": {
    "id": "VUC88oWjTJw2"
   },
   "source": [
    "Сравнение Москвы и Петербурга окружено мифами. Например:\n",
    " * Москва — мегаполис, подчинённый жёсткому ритму рабочей недели;\n",
    " * Петербург — культурная столица, со своими вкусами.\n",
    "\n",
    "На данных Яндекс.Музыки вы сравните поведение пользователей двух столиц.\n",
    "\n",
    "**Цель исследования** — проверьте три гипотезы:\n",
    "1. Активность пользователей зависит от дня недели. Причём в Москве и Петербурге это проявляется по-разному.\n",
    "2. В понедельник утром в Москве преобладают одни жанры, а в Петербурге — другие. Так же и вечером пятницы преобладают разные жанры — в зависимости от города. \n",
    "3. Москва и Петербург предпочитают разные жанры музыки. В Москве чаще слушают поп-музыку, в Петербурге — русский рэп.\n",
    "\n",
    "**Ход исследования**\n",
    "\n",
    "Данные о поведении пользователей вы получите из файла `yandex_music_project.csv`. О качестве данных ничего не известно. Поэтому перед проверкой гипотез понадобится обзор данных. \n",
    "\n",
    "Вы проверите данные на ошибки и оцените их влияние на исследование. Затем, на этапе предобработки вы поищете возможность исправить самые критичные ошибки данных.\n",
    " \n",
    "Таким образом, исследование пройдёт в три этапа:\n",
    " 1. Обзор данных.\n",
    " 2. Предобработка данных.\n",
    " 3. Проверка гипотез.\n",
    "\n"
   ]
  },
  {
   "cell_type": "markdown",
   "metadata": {
    "id": "Ml1hmfXC_Zcs"
   },
   "source": [
    "## Обзор данных\n",
    "\n",
    "Составьте первое представление о данных Яндекс.Музыки.\n",
    "\n",
    "\n"
   ]
  },
  {
   "cell_type": "code",
   "execution_count": 1,
   "metadata": {
    "id": "AXN7PHPN_Zcs"
   },
   "outputs": [],
   "source": [
    "import pandas as pd# импорт библиотеки pandas"
   ]
  },
  {
   "cell_type": "code",
   "execution_count": 2,
   "metadata": {
    "id": "fFVu7vqh_Zct"
   },
   "outputs": [],
   "source": [
    "df = pd.read_csv('/datasets/yandex_music_project.csv') # чтение файла с данными и сохранение в df"
   ]
  },
  {
   "cell_type": "code",
   "execution_count": 3,
   "metadata": {
    "id": "oWTVX3gW_Zct"
   },
   "outputs": [
    {
     "data": {
      "text/html": [
       "<div>\n",
       "<style scoped>\n",
       "    .dataframe tbody tr th:only-of-type {\n",
       "        vertical-align: middle;\n",
       "    }\n",
       "\n",
       "    .dataframe tbody tr th {\n",
       "        vertical-align: top;\n",
       "    }\n",
       "\n",
       "    .dataframe thead th {\n",
       "        text-align: right;\n",
       "    }\n",
       "</style>\n",
       "<table border=\"1\" class=\"dataframe\">\n",
       "  <thead>\n",
       "    <tr style=\"text-align: right;\">\n",
       "      <th></th>\n",
       "      <th>userID</th>\n",
       "      <th>Track</th>\n",
       "      <th>artist</th>\n",
       "      <th>genre</th>\n",
       "      <th>City</th>\n",
       "      <th>time</th>\n",
       "      <th>Day</th>\n",
       "    </tr>\n",
       "  </thead>\n",
       "  <tbody>\n",
       "    <tr>\n",
       "      <td>0</td>\n",
       "      <td>FFB692EC</td>\n",
       "      <td>Kamigata To Boots</td>\n",
       "      <td>The Mass Missile</td>\n",
       "      <td>rock</td>\n",
       "      <td>Saint-Petersburg</td>\n",
       "      <td>20:28:33</td>\n",
       "      <td>Wednesday</td>\n",
       "    </tr>\n",
       "    <tr>\n",
       "      <td>1</td>\n",
       "      <td>55204538</td>\n",
       "      <td>Delayed Because of Accident</td>\n",
       "      <td>Andreas Rönnberg</td>\n",
       "      <td>rock</td>\n",
       "      <td>Moscow</td>\n",
       "      <td>14:07:09</td>\n",
       "      <td>Friday</td>\n",
       "    </tr>\n",
       "    <tr>\n",
       "      <td>2</td>\n",
       "      <td>20EC38</td>\n",
       "      <td>Funiculì funiculà</td>\n",
       "      <td>Mario Lanza</td>\n",
       "      <td>pop</td>\n",
       "      <td>Saint-Petersburg</td>\n",
       "      <td>20:58:07</td>\n",
       "      <td>Wednesday</td>\n",
       "    </tr>\n",
       "    <tr>\n",
       "      <td>3</td>\n",
       "      <td>A3DD03C9</td>\n",
       "      <td>Dragons in the Sunset</td>\n",
       "      <td>Fire + Ice</td>\n",
       "      <td>folk</td>\n",
       "      <td>Saint-Petersburg</td>\n",
       "      <td>08:37:09</td>\n",
       "      <td>Monday</td>\n",
       "    </tr>\n",
       "    <tr>\n",
       "      <td>4</td>\n",
       "      <td>E2DC1FAE</td>\n",
       "      <td>Soul People</td>\n",
       "      <td>Space Echo</td>\n",
       "      <td>dance</td>\n",
       "      <td>Moscow</td>\n",
       "      <td>08:34:34</td>\n",
       "      <td>Monday</td>\n",
       "    </tr>\n",
       "    <tr>\n",
       "      <td>5</td>\n",
       "      <td>842029A1</td>\n",
       "      <td>Преданная</td>\n",
       "      <td>IMPERVTOR</td>\n",
       "      <td>rusrap</td>\n",
       "      <td>Saint-Petersburg</td>\n",
       "      <td>13:09:41</td>\n",
       "      <td>Friday</td>\n",
       "    </tr>\n",
       "    <tr>\n",
       "      <td>6</td>\n",
       "      <td>4CB90AA5</td>\n",
       "      <td>True</td>\n",
       "      <td>Roman Messer</td>\n",
       "      <td>dance</td>\n",
       "      <td>Moscow</td>\n",
       "      <td>13:00:07</td>\n",
       "      <td>Wednesday</td>\n",
       "    </tr>\n",
       "    <tr>\n",
       "      <td>7</td>\n",
       "      <td>F03E1C1F</td>\n",
       "      <td>Feeling This Way</td>\n",
       "      <td>Polina Griffith</td>\n",
       "      <td>dance</td>\n",
       "      <td>Moscow</td>\n",
       "      <td>20:47:49</td>\n",
       "      <td>Wednesday</td>\n",
       "    </tr>\n",
       "    <tr>\n",
       "      <td>8</td>\n",
       "      <td>8FA1D3BE</td>\n",
       "      <td>И вновь продолжается бой</td>\n",
       "      <td>NaN</td>\n",
       "      <td>ruspop</td>\n",
       "      <td>Moscow</td>\n",
       "      <td>09:17:40</td>\n",
       "      <td>Friday</td>\n",
       "    </tr>\n",
       "    <tr>\n",
       "      <td>9</td>\n",
       "      <td>E772D5C0</td>\n",
       "      <td>Pessimist</td>\n",
       "      <td>NaN</td>\n",
       "      <td>dance</td>\n",
       "      <td>Saint-Petersburg</td>\n",
       "      <td>21:20:49</td>\n",
       "      <td>Wednesday</td>\n",
       "    </tr>\n",
       "  </tbody>\n",
       "</table>\n",
       "</div>"
      ],
      "text/plain": [
       "     userID                        Track            artist   genre  \\\n",
       "0  FFB692EC            Kamigata To Boots  The Mass Missile    rock   \n",
       "1  55204538  Delayed Because of Accident  Andreas Rönnberg    rock   \n",
       "2    20EC38            Funiculì funiculà       Mario Lanza     pop   \n",
       "3  A3DD03C9        Dragons in the Sunset        Fire + Ice    folk   \n",
       "4  E2DC1FAE                  Soul People        Space Echo   dance   \n",
       "5  842029A1                    Преданная         IMPERVTOR  rusrap   \n",
       "6  4CB90AA5                         True      Roman Messer   dance   \n",
       "7  F03E1C1F             Feeling This Way   Polina Griffith   dance   \n",
       "8  8FA1D3BE     И вновь продолжается бой               NaN  ruspop   \n",
       "9  E772D5C0                    Pessimist               NaN   dance   \n",
       "\n",
       "             City        time        Day  \n",
       "0  Saint-Petersburg  20:28:33  Wednesday  \n",
       "1            Moscow  14:07:09     Friday  \n",
       "2  Saint-Petersburg  20:58:07  Wednesday  \n",
       "3  Saint-Petersburg  08:37:09     Monday  \n",
       "4            Moscow  08:34:34     Monday  \n",
       "5  Saint-Petersburg  13:09:41     Friday  \n",
       "6            Moscow  13:00:07  Wednesday  \n",
       "7            Moscow  20:47:49  Wednesday  \n",
       "8            Moscow  09:17:40     Friday  \n",
       "9  Saint-Petersburg  21:20:49  Wednesday  "
      ]
     },
     "execution_count": 3,
     "metadata": {},
     "output_type": "execute_result"
    }
   ],
   "source": [
    "df.head(10)# получение первых 10 строк таблицы df"
   ]
  },
  {
   "cell_type": "code",
   "execution_count": 4,
   "metadata": {
    "id": "DSf2kIb-_Zct"
   },
   "outputs": [
    {
     "name": "stdout",
     "output_type": "stream",
     "text": [
      "<class 'pandas.core.frame.DataFrame'>\n",
      "RangeIndex: 65079 entries, 0 to 65078\n",
      "Data columns (total 7 columns):\n",
      "  userID    65079 non-null object\n",
      "Track       63848 non-null object\n",
      "artist      57876 non-null object\n",
      "genre       63881 non-null object\n",
      "  City      65079 non-null object\n",
      "time        65079 non-null object\n",
      "Day         65079 non-null object\n",
      "dtypes: object(7)\n",
      "memory usage: 3.5+ MB\n"
     ]
    }
   ],
   "source": [
    "df.info() # получение общей информации о данных в таблице df"
   ]
  },
  {
   "cell_type": "markdown",
   "metadata": {
    "id": "TaQ2Iwbr_Zct"
   },
   "source": [
    "Итак, в таблице семь столбцов. Тип данных во всех столбцах — `object`.\n",
    "\n",
    "Согласно документации к данным:\n",
    "* `userID` — идентификатор пользователя;\n",
    "* `Track` — название трека;  \n",
    "* `artist` — имя исполнителя;\n",
    "* `genre` — название жанра;\n",
    "* `City` — город пользователя;\n",
    "* `time` — время начала прослушивания;\n",
    "* `Day` — день недели.\n",
    "\n",
    "В названиях колонок видны три нарушения стиля:\n",
    "1. Строчные буквы сочетаются с прописными.\n",
    "2. Встречаются пробелы.\n",
    "3. Найдите ещё одну проблему в названии колонок и опишите её в этом пункте. # Не увидел кроме пробелов и строчных буквх проблем в названиях столбцов\n",
    "\n",
    "\n",
    "\n",
    "Количество значений в столбцах различается. Значит, в данных есть пропущенные значения.\n"
   ]
  },
  {
   "cell_type": "markdown",
   "metadata": {
    "id": "MCB6-dXG_Zct"
   },
   "source": [
    "**Выводы**\n",
    "\n",
    "В каждой строке таблицы — данные о прослушанном треке. Часть колонок описывает саму композицию: название, исполнителя и жанр. Остальные данные рассказывают о пользователе: из какого он города, когда он слушал музыку. \n",
    "\n",
    "Предварительно можно утверждать, что, данных достаточно для проверки гипотез. Но встречаются пропуски в данных, а в названиях колонок — расхождения с хорошим стилем.\n",
    "\n",
    "Чтобы двигаться дальше, нужно устранить проблемы в данных."
   ]
  },
  {
   "cell_type": "markdown",
   "metadata": {
    "id": "SjYF6Ub9_Zct"
   },
   "source": [
    "## Предобработка данных\n"
   ]
  },
  {
   "cell_type": "markdown",
   "metadata": {
    "id": "dIaKXr29_Zct"
   },
   "source": [
    "### Стиль заголовков\n"
   ]
  },
  {
   "cell_type": "code",
   "execution_count": 5,
   "metadata": {
    "id": "oKOTdF_Q_Zct"
   },
   "outputs": [
    {
     "data": {
      "text/plain": [
       "Index(['  userID', 'Track', 'artist', 'genre', '  City  ', 'time', 'Day'], dtype='object')"
      ]
     },
     "execution_count": 5,
     "metadata": {},
     "output_type": "execute_result"
    }
   ],
   "source": [
    "df.columns # перечень названий столбцов таблицы df"
   ]
  },
  {
   "cell_type": "markdown",
   "metadata": {
    "id": "zj5534cv_Zct"
   },
   "source": [
    "Приведите названия в соответствие с хорошим стилем:\n",
    "* несколько слов в названии запишите в «змеином_регистре»,\n",
    "* все символы сделайте строчными,\n",
    "* устраните пробелы.\n",
    "\n",
    "Для этого переименуйте колонки так:\n",
    "* `'  userID'` → `'user_id'`;\n",
    "* `'Track'` → `'track'`;\n",
    "* `'  City  '` → `'city'`;\n",
    "* `'Day'` → `'day'`."
   ]
  },
  {
   "cell_type": "code",
   "execution_count": 6,
   "metadata": {
    "id": "ISlFqs5y_Zct"
   },
   "outputs": [],
   "source": [
    "df = df.rename(columns = {'  userID':'user_id','Track':'track','  City  ':'city','Day':'day' }) # переименование столбцов"
   ]
  },
  {
   "cell_type": "markdown",
   "metadata": {
    "id": "1dqbh00J_Zct"
   },
   "source": [
    "Проверьте результат. Для этого ещё раз выведите на экран названия столбцов:"
   ]
  },
  {
   "cell_type": "code",
   "execution_count": 7,
   "metadata": {
    "id": "d4NOAmTW_Zct"
   },
   "outputs": [
    {
     "data": {
      "text/plain": [
       "Index(['user_id', 'track', 'artist', 'genre', 'city', 'time', 'day'], dtype='object')"
      ]
     },
     "metadata": {},
     "output_type": "display_data"
    }
   ],
   "source": [
    "display(df.columns)# проверка результатов - перечень названий столбцов"
   ]
  },
  {
   "cell_type": "markdown",
   "metadata": {
    "id": "5ISfbcfY_Zct"
   },
   "source": [
    "### Пропуски значений\n",
    "Сначала посчитайте, сколько в таблице пропущенных значений. Для этого достаточно двух методов `pandas`:"
   ]
  },
  {
   "cell_type": "code",
   "execution_count": 8,
   "metadata": {
    "id": "RskX29qr_Zct"
   },
   "outputs": [
    {
     "data": {
      "text/plain": [
       "user_id       0\n",
       "track      1231\n",
       "artist     7203\n",
       "genre      1198\n",
       "city          0\n",
       "time          0\n",
       "day           0\n",
       "dtype: int64"
      ]
     },
     "execution_count": 8,
     "metadata": {},
     "output_type": "execute_result"
    }
   ],
   "source": [
    "df.isna().sum() # подсчёт пропусков"
   ]
  },
  {
   "cell_type": "markdown",
   "metadata": {
    "id": "qubhgnlO_Zct"
   },
   "source": [
    "Не все пропущенные значения влияют на исследование. Так в `track` и `artist` пропуски не важны для вашей работы. Достаточно заменить их явными обозначениями.\n",
    "\n",
    "Но пропуски в `genre` могут помешать сравнению музыкальных вкусов в Москве и Санкт-Петербурге. На практике было бы правильно установить причину пропусков и восстановить данные. Такой возможности нет в учебном проекте. Придётся:\n",
    "* заполнить и эти пропуски явными обозначениями,\n",
    "* оценить, насколько они повредят расчётам. "
   ]
  },
  {
   "cell_type": "markdown",
   "metadata": {
    "id": "fSv2laPA_Zct"
   },
   "source": [
    "Замените пропущенные значения в столбцах `track`, `artist` и `genre` на строку `'unknown'`. Для этого создайте список `columns_to_replace`, переберите его элементы циклом `for` и для каждого столбца выполните замену пропущенных значений:"
   ]
  },
  {
   "cell_type": "code",
   "execution_count": 9,
   "metadata": {
    "id": "KplB5qWs_Zct"
   },
   "outputs": [],
   "source": [
    "columns_to_replace = ['track', 'artist', 'genre'] #обьявили список\n",
    "for column in columns_to_replace:\n",
    "    df[column] = df[column].fillna('unknown') # перебор названий столбцов в цикле и замена пропущенных значений на 'unknown'\n",
    "\n",
    "\n",
    "\n",
    "\n"
   ]
  },
  {
   "cell_type": "markdown",
   "metadata": {
    "id": "Ilsm-MZo_Zct"
   },
   "source": [
    "Убедитесь, что в таблице не осталось пропусков. Для этого ещё раз посчитайте пропущенные значения."
   ]
  },
  {
   "cell_type": "code",
   "execution_count": 10,
   "metadata": {
    "id": "Tq4nYRX4_Zct"
   },
   "outputs": [
    {
     "data": {
      "text/plain": [
       "user_id    0\n",
       "track      0\n",
       "artist     0\n",
       "genre      0\n",
       "city       0\n",
       "time       0\n",
       "day        0\n",
       "dtype: int64"
      ]
     },
     "execution_count": 10,
     "metadata": {},
     "output_type": "execute_result"
    }
   ],
   "source": [
    "df.isna().sum()# подсчёт пропусков"
   ]
  },
  {
   "cell_type": "markdown",
   "metadata": {
    "id": "BWKRtBJ3_Zct"
   },
   "source": [
    "### Дубликаты\n",
    "Посчитайте явные дубликаты в таблице одной командой:"
   ]
  },
  {
   "cell_type": "code",
   "execution_count": 11,
   "metadata": {
    "id": "36eES_S0_Zct"
   },
   "outputs": [
    {
     "data": {
      "text/plain": [
       "3826"
      ]
     },
     "execution_count": 11,
     "metadata": {},
     "output_type": "execute_result"
    }
   ],
   "source": [
    "df.duplicated().sum() # подсчёт явных дубликатов"
   ]
  },
  {
   "cell_type": "markdown",
   "metadata": {
    "id": "Ot25h6XR_Zct"
   },
   "source": [
    "Вызовите специальный метод `pandas`, чтобы удалить явные дубликаты:"
   ]
  },
  {
   "cell_type": "code",
   "execution_count": 12,
   "metadata": {
    "id": "exFHq6tt_Zct"
   },
   "outputs": [],
   "source": [
    "df = df.drop_duplicates().reset_index(drop=True)   # Не сохроняем старые индексы \n",
    "# удаление явных дубликатов (с удалением старых индексов и формированием новых)"
   ]
  },
  {
   "cell_type": "markdown",
   "metadata": {
    "id": "Im2YwBEG_Zct"
   },
   "source": [
    "Ещё раз посчитайте явные дубликаты в таблице — убедитесь, что полностью от них избавились:"
   ]
  },
  {
   "cell_type": "code",
   "execution_count": 13,
   "metadata": {
    "id": "-8PuNWQ0_Zct"
   },
   "outputs": [
    {
     "data": {
      "text/plain": [
       "0"
      ]
     },
     "execution_count": 13,
     "metadata": {},
     "output_type": "execute_result"
    }
   ],
   "source": [
    "df.duplicated().sum() # проверка на отсутствие дубликатов"
   ]
  },
  {
   "cell_type": "markdown",
   "metadata": {
    "id": "QlFBsxAr_Zct"
   },
   "source": [
    "Теперь избавьтесь от неявных дубликатов в колонке `genre`. Например, название одного и того же жанра может быть записано немного по-разному. Такие ошибки тоже повлияют на результат исследования."
   ]
  },
  {
   "cell_type": "markdown",
   "metadata": {
    "id": "eSjWwsOh_Zct"
   },
   "source": [
    "Выведите на экран список уникальных названий жанров, отсортированный в алфавитном порядке. Для этого:\n",
    "* извлеките нужный столбец датафрейма, \n",
    "* примените к нему метод сортировки,\n",
    "* для отсортированного столбца вызовите метод, который вернёт уникальные значения из столбца."
   ]
  },
  {
   "cell_type": "code",
   "execution_count": 14,
   "metadata": {
    "id": "JIUcqzZN_Zct"
   },
   "outputs": [
    {
     "data": {
      "text/plain": [
       "array(['acid', 'acoustic', 'action', 'adult', 'africa', 'afrikaans',\n",
       "       'alternative', 'alternativepunk', 'ambient', 'americana',\n",
       "       'animated', 'anime', 'arabesk', 'arabic', 'arena',\n",
       "       'argentinetango', 'art', 'audiobook', 'author', 'avantgarde',\n",
       "       'axé', 'baile', 'balkan', 'beats', 'bigroom', 'black', 'bluegrass',\n",
       "       'blues', 'bollywood', 'bossa', 'brazilian', 'breakbeat', 'breaks',\n",
       "       'broadway', 'cantautori', 'cantopop', 'canzone', 'caribbean',\n",
       "       'caucasian', 'celtic', 'chamber', 'chanson', 'children', 'chill',\n",
       "       'chinese', 'choral', 'christian', 'christmas', 'classical',\n",
       "       'classicmetal', 'club', 'colombian', 'comedy', 'conjazz',\n",
       "       'contemporary', 'country', 'cuban', 'dance', 'dancehall',\n",
       "       'dancepop', 'dark', 'death', 'deep', 'deutschrock', 'deutschspr',\n",
       "       'dirty', 'disco', 'dnb', 'documentary', 'downbeat', 'downtempo',\n",
       "       'drum', 'dub', 'dubstep', 'eastern', 'easy', 'electronic',\n",
       "       'electropop', 'emo', 'entehno', 'epicmetal', 'estrada', 'ethnic',\n",
       "       'eurofolk', 'european', 'experimental', 'extrememetal', 'fado',\n",
       "       'fairytail', 'film', 'fitness', 'flamenco', 'folk', 'folklore',\n",
       "       'folkmetal', 'folkrock', 'folktronica', 'forró', 'frankreich',\n",
       "       'französisch', 'french', 'funk', 'future', 'gangsta', 'garage',\n",
       "       'german', 'ghazal', 'gitarre', 'glitch', 'gospel', 'gothic',\n",
       "       'grime', 'grunge', 'gypsy', 'handsup', \"hard'n'heavy\", 'hardcore',\n",
       "       'hardstyle', 'hardtechno', 'hip', 'hip-hop', 'hiphop',\n",
       "       'historisch', 'holiday', 'hop', 'horror', 'house', 'hymn', 'idm',\n",
       "       'independent', 'indian', 'indie', 'indipop', 'industrial',\n",
       "       'inspirational', 'instrumental', 'international', 'irish', 'jam',\n",
       "       'japanese', 'jazz', 'jewish', 'jpop', 'jungle', 'k-pop',\n",
       "       'karadeniz', 'karaoke', 'kayokyoku', 'korean', 'laiko', 'latin',\n",
       "       'latino', 'leftfield', 'local', 'lounge', 'loungeelectronic',\n",
       "       'lovers', 'malaysian', 'mandopop', 'marschmusik', 'meditative',\n",
       "       'mediterranean', 'melodic', 'metal', 'metalcore', 'mexican',\n",
       "       'middle', 'minimal', 'miscellaneous', 'modern', 'mood', 'mpb',\n",
       "       'muslim', 'native', 'neoklassik', 'neue', 'new', 'newage',\n",
       "       'newwave', 'nu', 'nujazz', 'numetal', 'oceania', 'old', 'opera',\n",
       "       'orchestral', 'other', 'piano', 'podcasts', 'pop', 'popdance',\n",
       "       'popelectronic', 'popeurodance', 'poprussian', 'post',\n",
       "       'posthardcore', 'postrock', 'power', 'progmetal', 'progressive',\n",
       "       'psychedelic', 'punjabi', 'punk', 'quebecois', 'ragga', 'ram',\n",
       "       'rancheras', 'rap', 'rave', 'reggae', 'reggaeton', 'regional',\n",
       "       'relax', 'religious', 'retro', 'rhythm', 'rnb', 'rnr', 'rock',\n",
       "       'rockabilly', 'rockalternative', 'rockindie', 'rockother',\n",
       "       'romance', 'roots', 'ruspop', 'rusrap', 'rusrock', 'russian',\n",
       "       'salsa', 'samba', 'scenic', 'schlager', 'self', 'sertanejo',\n",
       "       'shanson', 'shoegazing', 'showtunes', 'singer', 'ska', 'skarock',\n",
       "       'slow', 'smooth', 'soft', 'soul', 'soulful', 'sound', 'soundtrack',\n",
       "       'southern', 'specialty', 'speech', 'spiritual', 'sport',\n",
       "       'stonerrock', 'surf', 'swing', 'synthpop', 'synthrock',\n",
       "       'sängerportrait', 'tango', 'tanzorchester', 'taraftar', 'tatar',\n",
       "       'tech', 'techno', 'teen', 'thrash', 'top', 'traditional',\n",
       "       'tradjazz', 'trance', 'tribal', 'trip', 'triphop', 'tropical',\n",
       "       'türk', 'türkçe', 'ukrrock', 'unknown', 'urban', 'uzbek',\n",
       "       'variété', 'vi', 'videogame', 'vocal', 'western', 'world',\n",
       "       'worldbeat', 'ïîï', 'электроника'], dtype=object)"
      ]
     },
     "metadata": {},
     "output_type": "display_data"
    }
   ],
   "source": [
    "display(df['genre'].sort_values(ascending = True).unique())# Просмотр уникальных названий жанров"
   ]
  },
  {
   "cell_type": "markdown",
   "metadata": {
    "id": "qej-Qmuo_Zct"
   },
   "source": [
    "Просмотрите список и найдите неявные дубликаты названия `hiphop`. Это могут быть названия с ошибками или альтернативные названия того же жанра.\n",
    "\n",
    "Вы увидите следующие неявные дубликаты:\n",
    "* *hip*,\n",
    "* *hop*,\n",
    "* *hip-hop*.\n",
    "\n",
    "Чтобы очистить от них таблицу, напишите функцию `replace_wrong_genres()` с двумя параметрами: \n",
    "* `wrong_genres` — список дубликатов,\n",
    "* `correct_genre` — строка с правильным значением.\n",
    "\n",
    "Функция должна исправить колонку `genre` в таблице `df`: заменить каждое значение из списка `wrong_genres` на значение из `correct_genre`."
   ]
  },
  {
   "cell_type": "code",
   "execution_count": 15,
   "metadata": {
    "id": "ErNDkmns_Zct"
   },
   "outputs": [],
   "source": [
    "def replace_wrong_genres(wrong_genres, correct_genre):# Функция для замены неявных дубликатов\n",
    "    for worng_genre in worng_genres:\n",
    "        df['genre'] = df['genre'].replace(worng_genre, correct_genre)"
   ]
  },
  {
   "cell_type": "markdown",
   "metadata": {
    "id": "aDoBJxbA_Zct"
   },
   "source": [
    "Вызовите `replace_wrong_genres()` и передайте ей такие аргументы, чтобы она устранила неявные дубликаты: вместо `hip`, `hop` и `hip-hop` в таблице должно быть значение `hiphop`:"
   ]
  },
  {
   "cell_type": "code",
   "execution_count": 16,
   "metadata": {
    "id": "YN5i2hpmSo09"
   },
   "outputs": [
    {
     "data": {
      "text/plain": [
       "array(['rock', 'pop', 'folk', 'dance', 'rusrap', 'ruspop', 'world',\n",
       "       'electronic', 'unknown', 'alternative', 'children', 'rnb',\n",
       "       'hiphop', 'jazz', 'postrock', 'latin', 'classical', 'metal',\n",
       "       'reggae', 'tatar', 'blues', 'instrumental', 'rusrock', 'dnb',\n",
       "       'türk', 'post', 'country', 'psychedelic', 'conjazz', 'indie',\n",
       "       'posthardcore', 'local', 'avantgarde', 'punk', 'videogame',\n",
       "       'techno', 'house', 'christmas', 'melodic', 'caucasian',\n",
       "       'reggaeton', 'soundtrack', 'singer', 'ska', 'shanson', 'ambient',\n",
       "       'film', 'western', 'rap', 'beats', \"hard'n'heavy\", 'progmetal',\n",
       "       'minimal', 'contemporary', 'new', 'soul', 'holiday', 'german',\n",
       "       'tropical', 'fairytail', 'spiritual', 'urban', 'gospel', 'nujazz',\n",
       "       'folkmetal', 'trance', 'miscellaneous', 'anime', 'hardcore',\n",
       "       'progressive', 'chanson', 'numetal', 'vocal', 'estrada', 'russian',\n",
       "       'classicmetal', 'dubstep', 'club', 'deep', 'southern', 'black',\n",
       "       'folkrock', 'fitness', 'french', 'disco', 'religious', 'drum',\n",
       "       'extrememetal', 'türkçe', 'experimental', 'easy', 'metalcore',\n",
       "       'modern', 'argentinetango', 'old', 'breaks', 'eurofolk',\n",
       "       'stonerrock', 'industrial', 'funk', 'jpop', 'middle', 'variété',\n",
       "       'other', 'adult', 'christian', 'gothic', 'international', 'muslim',\n",
       "       'relax', 'schlager', 'caribbean', 'ukrrock', 'nu', 'breakbeat',\n",
       "       'comedy', 'chill', 'newage', 'specialty', 'uzbek', 'k-pop',\n",
       "       'balkan', 'chinese', 'meditative', 'dub', 'power', 'death',\n",
       "       'grime', 'arabesk', 'romance', 'flamenco', 'leftfield', 'european',\n",
       "       'tech', 'newwave', 'dancehall', 'mpb', 'piano', 'top', 'bigroom',\n",
       "       'opera', 'celtic', 'tradjazz', 'acoustic', 'epicmetal',\n",
       "       'historisch', 'downbeat', 'downtempo', 'africa', 'audiobook',\n",
       "       'jewish', 'sängerportrait', 'deutschrock', 'eastern', 'action',\n",
       "       'future', 'electropop', 'folklore', 'bollywood', 'marschmusik',\n",
       "       'rnr', 'karaoke', 'indian', 'rancheras', 'электроника',\n",
       "       'afrikaans', 'tango', 'rhythm', 'sound', 'deutschspr', 'trip',\n",
       "       'lovers', 'choral', 'dancepop', 'podcasts', 'retro', 'smooth',\n",
       "       'mexican', 'brazilian', 'ïîï', 'mood', 'surf', 'author', 'gangsta',\n",
       "       'triphop', 'inspirational', 'idm', 'ethnic', 'bluegrass',\n",
       "       'broadway', 'animated', 'americana', 'karadeniz', 'rockabilly',\n",
       "       'colombian', 'self', 'synthrock', 'sertanejo', 'japanese',\n",
       "       'canzone', 'swing', 'lounge', 'sport', 'korean', 'ragga',\n",
       "       'traditional', 'gitarre', 'frankreich', 'alternativepunk', 'emo',\n",
       "       'laiko', 'cantopop', 'glitch', 'documentary', 'rockalternative',\n",
       "       'thrash', 'hymn', 'oceania', 'rockother', 'popeurodance', 'dark',\n",
       "       'vi', 'grunge', 'hardstyle', 'samba', 'garage', 'soft', 'art',\n",
       "       'folktronica', 'entehno', 'mediterranean', 'chamber', 'cuban',\n",
       "       'taraftar', 'rockindie', 'gypsy', 'hardtechno', 'shoegazing',\n",
       "       'skarock', 'bossa', 'salsa', 'latino', 'worldbeat', 'malaysian',\n",
       "       'baile', 'ghazal', 'loungeelectronic', 'arabic', 'popelectronic',\n",
       "       'acid', 'kayokyoku', 'neoklassik', 'tribal', 'tanzorchester',\n",
       "       'native', 'independent', 'cantautori', 'handsup', 'poprussian',\n",
       "       'punjabi', 'synthpop', 'rave', 'französisch', 'quebecois',\n",
       "       'speech', 'soulful', 'teen', 'jam', 'ram', 'horror', 'scenic',\n",
       "       'orchestral', 'neue', 'roots', 'slow', 'jungle', 'indipop', 'axé',\n",
       "       'fado', 'showtunes', 'arena', 'irish', 'mandopop', 'forró',\n",
       "       'popdance', 'dirty', 'regional'], dtype=object)"
      ]
     },
     "metadata": {},
     "output_type": "display_data"
    }
   ],
   "source": [
    "worng_genres = ['hip','hop','hip-hop']\n",
    "coorect_genre = 'hiphop'\n",
    "replace_wrong_genres(worng_genres,coorect_genre)\n",
    "display(df['genre'].unique())\n",
    "\n",
    "\n",
    "\n",
    "\n",
    "# Устранение неявных дубликатов"
   ]
  },
  {
   "cell_type": "markdown",
   "metadata": {
    "id": "zQKF16_RG15m"
   },
   "source": [
    "Проверьте, что заменили неправильные названия:\n",
    "\n",
    "*   hip\n",
    "*   hop\n",
    "*   hip-hop\n",
    "\n",
    "Выведите отсортированный список уникальных значений столбца `genre`:"
   ]
  },
  {
   "cell_type": "code",
   "execution_count": 17,
   "metadata": {
    "id": "wvixALnFG15m"
   },
   "outputs": [
    {
     "data": {
      "text/plain": [
       "array(['rock', 'pop', 'folk', 'dance', 'rusrap', 'ruspop', 'world',\n",
       "       'electronic', 'unknown', 'alternative', 'children', 'rnb',\n",
       "       'hiphop', 'jazz', 'postrock', 'latin', 'classical', 'metal',\n",
       "       'reggae', 'tatar', 'blues', 'instrumental', 'rusrock', 'dnb',\n",
       "       'türk', 'post', 'country', 'psychedelic', 'conjazz', 'indie',\n",
       "       'posthardcore', 'local', 'avantgarde', 'punk', 'videogame',\n",
       "       'techno', 'house', 'christmas', 'melodic', 'caucasian',\n",
       "       'reggaeton', 'soundtrack', 'singer', 'ska', 'shanson', 'ambient',\n",
       "       'film', 'western', 'rap', 'beats', \"hard'n'heavy\", 'progmetal',\n",
       "       'minimal', 'contemporary', 'new', 'soul', 'holiday', 'german',\n",
       "       'tropical', 'fairytail', 'spiritual', 'urban', 'gospel', 'nujazz',\n",
       "       'folkmetal', 'trance', 'miscellaneous', 'anime', 'hardcore',\n",
       "       'progressive', 'chanson', 'numetal', 'vocal', 'estrada', 'russian',\n",
       "       'classicmetal', 'dubstep', 'club', 'deep', 'southern', 'black',\n",
       "       'folkrock', 'fitness', 'french', 'disco', 'religious', 'drum',\n",
       "       'extrememetal', 'türkçe', 'experimental', 'easy', 'metalcore',\n",
       "       'modern', 'argentinetango', 'old', 'breaks', 'eurofolk',\n",
       "       'stonerrock', 'industrial', 'funk', 'jpop', 'middle', 'variété',\n",
       "       'other', 'adult', 'christian', 'gothic', 'international', 'muslim',\n",
       "       'relax', 'schlager', 'caribbean', 'ukrrock', 'nu', 'breakbeat',\n",
       "       'comedy', 'chill', 'newage', 'specialty', 'uzbek', 'k-pop',\n",
       "       'balkan', 'chinese', 'meditative', 'dub', 'power', 'death',\n",
       "       'grime', 'arabesk', 'romance', 'flamenco', 'leftfield', 'european',\n",
       "       'tech', 'newwave', 'dancehall', 'mpb', 'piano', 'top', 'bigroom',\n",
       "       'opera', 'celtic', 'tradjazz', 'acoustic', 'epicmetal',\n",
       "       'historisch', 'downbeat', 'downtempo', 'africa', 'audiobook',\n",
       "       'jewish', 'sängerportrait', 'deutschrock', 'eastern', 'action',\n",
       "       'future', 'electropop', 'folklore', 'bollywood', 'marschmusik',\n",
       "       'rnr', 'karaoke', 'indian', 'rancheras', 'электроника',\n",
       "       'afrikaans', 'tango', 'rhythm', 'sound', 'deutschspr', 'trip',\n",
       "       'lovers', 'choral', 'dancepop', 'podcasts', 'retro', 'smooth',\n",
       "       'mexican', 'brazilian', 'ïîï', 'mood', 'surf', 'author', 'gangsta',\n",
       "       'triphop', 'inspirational', 'idm', 'ethnic', 'bluegrass',\n",
       "       'broadway', 'animated', 'americana', 'karadeniz', 'rockabilly',\n",
       "       'colombian', 'self', 'synthrock', 'sertanejo', 'japanese',\n",
       "       'canzone', 'swing', 'lounge', 'sport', 'korean', 'ragga',\n",
       "       'traditional', 'gitarre', 'frankreich', 'alternativepunk', 'emo',\n",
       "       'laiko', 'cantopop', 'glitch', 'documentary', 'rockalternative',\n",
       "       'thrash', 'hymn', 'oceania', 'rockother', 'popeurodance', 'dark',\n",
       "       'vi', 'grunge', 'hardstyle', 'samba', 'garage', 'soft', 'art',\n",
       "       'folktronica', 'entehno', 'mediterranean', 'chamber', 'cuban',\n",
       "       'taraftar', 'rockindie', 'gypsy', 'hardtechno', 'shoegazing',\n",
       "       'skarock', 'bossa', 'salsa', 'latino', 'worldbeat', 'malaysian',\n",
       "       'baile', 'ghazal', 'loungeelectronic', 'arabic', 'popelectronic',\n",
       "       'acid', 'kayokyoku', 'neoklassik', 'tribal', 'tanzorchester',\n",
       "       'native', 'independent', 'cantautori', 'handsup', 'poprussian',\n",
       "       'punjabi', 'synthpop', 'rave', 'französisch', 'quebecois',\n",
       "       'speech', 'soulful', 'teen', 'jam', 'ram', 'horror', 'scenic',\n",
       "       'orchestral', 'neue', 'roots', 'slow', 'jungle', 'indipop', 'axé',\n",
       "       'fado', 'showtunes', 'arena', 'irish', 'mandopop', 'forró',\n",
       "       'popdance', 'dirty', 'regional'], dtype=object)"
      ]
     },
     "metadata": {},
     "output_type": "display_data"
    }
   ],
   "source": [
    "display(df['genre'].unique())# Проверка на неявные дубликаты"
   ]
  },
  {
   "cell_type": "markdown",
   "metadata": {
    "id": "jz6a9-7HQUDd"
   },
   "source": [
    "**Выводы**\n",
    "\n",
    "Предобработка обнаружила три проблемы в данных:\n",
    "\n",
    "- нарушения в стиле заголовков,\n",
    "- пропущенные значения,\n",
    "- дубликаты — явные и неявные.\n",
    "\n",
    "Вы исправили заголовки, чтобы упростить работу с таблицей. Без дубликатов исследование станет более точным.\n",
    "\n",
    "Пропущенные значения вы заменили на `'unknown'`. Ещё предстоит увидеть, не повредят ли исследованию пропуски в колонке `genre`.\n",
    "\n",
    "Теперь можно перейти к проверке гипотез. "
   ]
  },
  {
   "cell_type": "markdown",
   "metadata": {
    "id": "WttZHXH0SqKk"
   },
   "source": [
    "## Проверка гипотез"
   ]
  },
  {
   "cell_type": "markdown",
   "metadata": {
    "id": "Im936VVi_Zcu"
   },
   "source": [
    "### Сравнение поведения пользователей двух столиц"
   ]
  },
  {
   "cell_type": "markdown",
   "metadata": {
    "id": "nwt_MuaL_Zcu"
   },
   "source": [
    "Первая гипотеза утверждает, что пользователи по-разному слушают музыку в Москве и Санкт-Петербурге. Проверьте это предположение по данным о трёх днях недели — понедельнике, среде и пятнице. Для этого:\n",
    "\n",
    "* Разделите пользователей Москвы и Санкт-Петербурга\n",
    "* Сравните, сколько треков послушала каждая группа пользователей в понедельник, среду и пятницу.\n"
   ]
  },
  {
   "cell_type": "markdown",
   "metadata": {
    "id": "8Dw_YMmT_Zcu"
   },
   "source": [
    "Для тренировки сначала выполните каждый из расчётов по отдельности. \n",
    "\n",
    "Оцените активность пользователей в каждом городе. Сгруппируйте данные по городу и посчитайте прослушивания в каждой группе.\n",
    "\n"
   ]
  },
  {
   "cell_type": "code",
   "execution_count": 18,
   "metadata": {
    "id": "0_Qs96oh_Zcu"
   },
   "outputs": [
    {
     "data": {
      "text/plain": [
       "city\n",
       "Moscow              42741\n",
       "Saint-Petersburg    18512\n",
       "Name: time, dtype: int64"
      ]
     },
     "metadata": {},
     "output_type": "display_data"
    }
   ],
   "source": [
    "\n",
    "city_group = df.groupby('city')['time'].count()\n",
    "display(city_group)# Подсчёт прослушиваний в каждом городе"
   ]
  },
  {
   "cell_type": "markdown",
   "metadata": {
    "id": "dzli3w8o_Zcu"
   },
   "source": [
    "В Москве прослушиваний больше, чем в Петербурге. Из этого не следует, что московские пользователи чаще слушают музыку. Просто самих пользователей в Москве больше.\n",
    "\n",
    "Теперь сгруппируйте данные по дню недели и подсчитайте прослушивания в понедельник, среду и пятницу. Учтите, что в данных есть информация только о прослушиваниях только за эти дни.\n"
   ]
  },
  {
   "cell_type": "code",
   "execution_count": 19,
   "metadata": {
    "id": "uZMKjiJz_Zcu",
    "scrolled": true
   },
   "outputs": [
    {
     "data": {
      "text/plain": [
       "day\n",
       "Friday       21840\n",
       "Monday       21354\n",
       "Wednesday    18059\n",
       "Name: time, dtype: int64"
      ]
     },
     "metadata": {},
     "output_type": "display_data"
    }
   ],
   "source": [
    "#day = df.groupby('day').count()\n",
    "mondey = df.groupby('day')['time'].count()# Подсчёт прослушиваний в каждый из трёх дней\n",
    "display(mondey)"
   ]
  },
  {
   "cell_type": "markdown",
   "metadata": {
    "id": "cC2tNrlL_Zcu"
   },
   "source": [
    "В среднем пользователи из двух городов менее активны по средам. Но картина может измениться, если рассмотреть каждый город в отдельности."
   ]
  },
  {
   "cell_type": "markdown",
   "metadata": {
    "id": "POzs8bGa_Zcu"
   },
   "source": [
    "Вы видели, как работает группировка по городу и по дням недели. Теперь напишите функцию, которая объединит два эти расчёта.\n",
    "\n",
    "Создайте функцию `number_tracks()`, которая посчитает прослушивания для заданного дня и города. Ей понадобятся два параметра:\n",
    "* день недели,\n",
    "* название города.\n",
    "\n",
    "В функции сохраните в переменную строки исходной таблицы, у которых значение:\n",
    "  * в колонке `day` равно параметру `day`,\n",
    "  * в колонке `city` равно параметру `city`.\n",
    "\n",
    "Для этого примените последовательную фильтрацию с логической индексацией.\n",
    "\n",
    "Затем посчитайте значения в столбце `user_id` получившейся таблицы. Результат сохраните в новую переменную. Верните эту переменную из функции."
   ]
  },
  {
   "cell_type": "code",
   "execution_count": 20,
   "metadata": {
    "id": "Nz3GdQB1_Zcu"
   },
   "outputs": [],
   "source": [
    "def number_tracks(day, city): # <создание функции number_tracks()> обьявили функцию # Объявляется функция с двумя параметрами: day, city.\n",
    "    track_list = df[df['day'] == day] # фильтр что значение day в df равно day # В переменной track_list сохраняются те строки таблицы df, для которых # значение в столбце 'day' равно параметру day и одновременно значение\n",
    "    track_list = track_list[track_list['city'] == city] # лоическа фильтр второе услови что для переменной  track_list соблюдается условие day и city  # в столбце 'city' равно параметру city (используйте последовательную фильтрацию с помощью логической индексации).\n",
    "    track_list = track_list['user_id'].count() # В переменной c сохраняется число значений столбца 'user_id',рассчитанное методом count() для таблицы track_list.\n",
    "    return track_list # Функция возвращает число - значение track_list_count.\n",
    "\n",
    " \n",
    "\n",
    "\n",
    "\n",
    "\n",
    "\n",
    "\n",
    "\n",
    "\n",
    "\n",
    "\n",
    "\n",
    "\n",
    "\n",
    "\n",
    "\n",
    "\n",
    "\n",
    "# Функция для подсчёта прослушиваний для конкретного города и дня.\n",
    "# С помощью последовательной фильтрации с логической индексацией она \n",
    "# сначала получит из исходной таблицы строки с нужным днём,\n",
    "# затем из результата отфильтрует строки с нужным городом,\n",
    "# методом count() посчитает количество значений в колонке user_id. \n",
    "# Это количество функция вернёт в качестве результата"
   ]
  },
  {
   "cell_type": "markdown",
   "metadata": {
    "id": "ytf7xFrFJQ2r"
   },
   "source": [
    "Вызовите `number_tracks()` шесть раз, меняя значение параметров — так, чтобы получить данные для каждого города в каждый из трёх дней."
   ]
  },
  {
   "cell_type": "code",
   "execution_count": 21,
   "metadata": {
    "id": "rJcRATNQ_Zcu"
   },
   "outputs": [
    {
     "data": {
      "text/plain": [
       "15740"
      ]
     },
     "metadata": {},
     "output_type": "display_data"
    }
   ],
   "source": [
    "number_tracks('Monday','Moscow')\n",
    "display(number_tracks('Monday','Moscow'))# количество прослушиваний в Москве по понедельникам"
   ]
  },
  {
   "cell_type": "code",
   "execution_count": 22,
   "metadata": {
    "id": "hq_ncZ5T_Zcu"
   },
   "outputs": [
    {
     "data": {
      "text/plain": [
       "5614"
      ]
     },
     "metadata": {},
     "output_type": "display_data"
    }
   ],
   "source": [
    "number_tracks('Monday','Saint-Petersburg')\n",
    "display(number_tracks('Monday','Saint-Petersburg'))# количество прослушиваний в Санкт-Петербурге по понедельникам"
   ]
  },
  {
   "cell_type": "code",
   "execution_count": 23,
   "metadata": {
    "id": "_NTy2VPU_Zcu"
   },
   "outputs": [
    {
     "data": {
      "text/plain": [
       "11056"
      ]
     },
     "metadata": {},
     "output_type": "display_data"
    }
   ],
   "source": [
    "number_tracks('Wednesday','Moscow')\n",
    "display(number_tracks('Wednesday','Moscow'))# количество прослушиваний в Москве по средам"
   ]
  },
  {
   "cell_type": "code",
   "execution_count": 24,
   "metadata": {
    "id": "j2y3TAwo_Zcu"
   },
   "outputs": [
    {
     "data": {
      "text/plain": [
       "7003"
      ]
     },
     "metadata": {},
     "output_type": "display_data"
    }
   ],
   "source": [
    "number_tracks('Wednesday','Saint-Petersburg')\n",
    "display(number_tracks('Wednesday','Saint-Petersburg'))# количество прослушиваний в Санкт-Петербурге по средам"
   ]
  },
  {
   "cell_type": "code",
   "execution_count": 25,
   "metadata": {
    "id": "vYDw5u_K_Zcu"
   },
   "outputs": [
    {
     "data": {
      "text/plain": [
       "15945"
      ]
     },
     "metadata": {},
     "output_type": "display_data"
    }
   ],
   "source": [
    "number_tracks('Friday','Moscow')\n",
    "display(number_tracks('Friday','Moscow'))# количество прослушиваний в Москве по пятницам"
   ]
  },
  {
   "cell_type": "code",
   "execution_count": 26,
   "metadata": {
    "id": "8_yzFtW3_Zcu"
   },
   "outputs": [
    {
     "data": {
      "text/plain": [
       "5895"
      ]
     },
     "metadata": {},
     "output_type": "display_data"
    }
   ],
   "source": [
    "number_tracks('Friday','Saint-Petersburg')\n",
    "display(number_tracks('Friday','Saint-Petersburg')) # количество прослушиваний в Санкт-Петербурге по пятницам"
   ]
  },
  {
   "cell_type": "markdown",
   "metadata": {
    "id": "7QXffbO-_Zcu"
   },
   "source": [
    "Создайте c помощью конструктора `pd.DataFrame` таблицу, где\n",
    "* названия колонок — `['city', 'monday', 'wednesday', 'friday']`;\n",
    "* данные — результаты, которые вы получили с помощью `number_tracks`."
   ]
  },
  {
   "cell_type": "code",
   "execution_count": 27,
   "metadata": {
    "id": "APAcLpOr_Zcu"
   },
   "outputs": [
    {
     "data": {
      "text/html": [
       "<div>\n",
       "<style scoped>\n",
       "    .dataframe tbody tr th:only-of-type {\n",
       "        vertical-align: middle;\n",
       "    }\n",
       "\n",
       "    .dataframe tbody tr th {\n",
       "        vertical-align: top;\n",
       "    }\n",
       "\n",
       "    .dataframe thead th {\n",
       "        text-align: right;\n",
       "    }\n",
       "</style>\n",
       "<table border=\"1\" class=\"dataframe\">\n",
       "  <thead>\n",
       "    <tr style=\"text-align: right;\">\n",
       "      <th></th>\n",
       "      <th>city</th>\n",
       "      <th>monday</th>\n",
       "      <th>wednesday</th>\n",
       "      <th>friday</th>\n",
       "    </tr>\n",
       "  </thead>\n",
       "  <tbody>\n",
       "    <tr>\n",
       "      <td>0</td>\n",
       "      <td>Moscow</td>\n",
       "      <td>15740</td>\n",
       "      <td>11056</td>\n",
       "      <td>15945</td>\n",
       "    </tr>\n",
       "    <tr>\n",
       "      <td>1</td>\n",
       "      <td>Saint-Petersburg</td>\n",
       "      <td>5614</td>\n",
       "      <td>7003</td>\n",
       "      <td>5895</td>\n",
       "    </tr>\n",
       "  </tbody>\n",
       "</table>\n",
       "</div>"
      ],
      "text/plain": [
       "               city  monday  wednesday  friday\n",
       "0            Moscow   15740      11056   15945\n",
       "1  Saint-Petersburg    5614       7003    5895"
      ]
     },
     "execution_count": 27,
     "metadata": {},
     "output_type": "execute_result"
    }
   ],
   "source": [
    "columns = ['city', 'monday', 'wednesday', 'friday'] #Столбцы таблицы\n",
    "city_data = [['Moscow',15740,11056,15945],['Saint-Petersburg',5614,7003,5895]] #Список с данными\n",
    "pd.DataFrame(data=city_data,columns = columns) # Создание таблицы\n",
    "# Таблица с результатами"
   ]
  },
  {
   "cell_type": "markdown",
   "metadata": {
    "id": "-EgPIHYu_Zcu"
   },
   "source": [
    "**Выводы**\n",
    "\n",
    "Данные показывают разницу поведения пользователей:\n",
    "\n",
    "- В Москве пик прослушиваний приходится на понедельник и пятницу, а в среду заметен спад.\n",
    "- В Петербурге, наоборот, больше слушают музыку по средам. Активность в понедельник и пятницу здесь почти в равной мере уступает среде.\n",
    "\n",
    "Значит, данные говорят в пользу первой гипотезы."
   ]
  },
  {
   "cell_type": "markdown",
   "metadata": {
    "id": "atZAxtq4_Zcu"
   },
   "source": [
    "### Музыка в начале и в конце недели"
   ]
  },
  {
   "cell_type": "markdown",
   "metadata": {
    "id": "eXrQqXFH_Zcu"
   },
   "source": [
    "Согласно второй гипотезе, утром в понедельник в Москве преобладают одни жанры, а в Петербурге — другие. Так же и вечером пятницы преобладают разные жанры — в зависимости от города."
   ]
  },
  {
   "cell_type": "markdown",
   "metadata": {
    "id": "S8UcW6Hw_Zcu"
   },
   "source": [
    "Сохраните таблицы с данными в две переменные:\n",
    "* по Москве — в `moscow_general`;\n",
    "* по Санкт-Петербургу — в `spb_general`."
   ]
  },
  {
   "cell_type": "code",
   "execution_count": 28,
   "metadata": {
    "id": "qeaFfM_P_Zcu"
   },
   "outputs": [],
   "source": [
    "moscow_general = df[df['city'] == 'Moscow']# получение таблицы moscow_general из тех строк таблицы df, \n",
    "# для которых значение в столбце 'city' равно 'Moscow'\n"
   ]
  },
  {
   "cell_type": "code",
   "execution_count": 29,
   "metadata": {
    "id": "ORaVRKto_Zcu"
   },
   "outputs": [],
   "source": [
    "spb_general = df[df['city'] == 'Saint-Petersburg']# получение таблицы spb_general из тех строк таблицы df,\n",
    "# для которых значение в столбце 'city' равно 'Saint-Petersburg'\n"
   ]
  },
  {
   "cell_type": "markdown",
   "metadata": {
    "id": "MEJV-CX2_Zcu"
   },
   "source": [
    "Создайте функцию `genre_weekday()` с четырьмя параметрами:\n",
    "* таблица (датафрейм) с данными,\n",
    "* день недели,\n",
    "* начальная временная метка в формате 'hh:mm', \n",
    "* последняя временная метка в формате 'hh:mm'.\n",
    "\n",
    "Функция должна вернуть информацию о топ-10 жанров тех треков, которые прослушивали в указанный день, в промежутке между двумя отметками времени."
   ]
  },
  {
   "cell_type": "code",
   "execution_count": 30,
   "metadata": {
    "id": "laJT9BYl_Zcu"
   },
   "outputs": [],
   "source": [
    "def genre_weekday(table,day,time1,time2):\n",
    "    genre_df = table[table['day'] == day]\n",
    "    genre_df = genre_df[genre_df['time'] > time1]\n",
    "    genre_df = genre_df[genre_df['time'] < time2]\n",
    "    genre_df_count = genre_df.groupby('genre')['user_id'].count()\n",
    "    genre_df_sorted = genre_df_count.sort_values(ascending = False)\n",
    "    return genre_df_sorted.head(10)\n",
    "    \n",
    "\n",
    "    \n",
    "    \n",
    "    \n",
    "# Объявление функции genre_weekday() с параметрами table, day, time1, time2,\n",
    "# которая возвращает информацию о самых популярных жанрах в указанный день в\n",
    "# заданное время:\n",
    "# 1) в переменную genre_df сохраняются те строки переданного датафрейма table, для\n",
    "#    которых одновременно:\n",
    "#    - значение в столбце day равно значению аргумента day\n",
    "#    - значение в столбце time больше значения аргумента time1\n",
    "#    - значение в столбце time меньше значения аргумента time2\n",
    "#    Используйте последовательную фильтрацию с помощью логической индексации.\n",
    "# 2) сгруппировать датафрейм genre_df по столбцу genre, взять один из его\n",
    "#    столбцов и посчитать методом count() количество записей для каждого из\n",
    "#    присутствующих жанров, получившийся Series записать в переменную\n",
    "#    genre_df_count\n",
    "# 3) отсортировать genre_df_count по убыванию встречаемости и сохранить\n",
    "#    в переменную genre_df_sorted\n",
    "# 4) вернуть Series из 10 первых значений genre_df_sorted, это будут топ-10\n",
    "#    популярных жанров (в указанный день, в заданное время)"
   ]
  },
  {
   "cell_type": "markdown",
   "metadata": {
    "id": "la2s2_PF_Zcu"
   },
   "source": [
    "Cравните результаты функции `genre_weekday()` для Москвы и Санкт-Петербурга в понедельник утром (с 7:00 до 11:00) и в пятницу вечером (с 17:00 до 23:00):"
   ]
  },
  {
   "cell_type": "code",
   "execution_count": 31,
   "metadata": {
    "id": "yz7itPUQ_Zcu"
   },
   "outputs": [
    {
     "data": {
      "text/plain": [
       "genre\n",
       "pop            781\n",
       "dance          549\n",
       "electronic     480\n",
       "rock           474\n",
       "hiphop         286\n",
       "ruspop         186\n",
       "world          181\n",
       "rusrap         175\n",
       "alternative    164\n",
       "unknown        161\n",
       "Name: user_id, dtype: int64"
      ]
     },
     "execution_count": 31,
     "metadata": {},
     "output_type": "execute_result"
    }
   ],
   "source": [
    "genre_weekday(moscow_general,'Monday','07:00', '11:00')\n",
    "# вызов функции для утра понедельника в Москве (вместо df — таблица moscow_general)\n",
    "# объекты, хранящие время, являются строками и сравниваются как строки\n",
    "# пример вызова: genre_weekday(moscow_general, 'Monday', '07:00', '11:00')"
   ]
  },
  {
   "cell_type": "code",
   "execution_count": 32,
   "metadata": {
    "id": "kwUcHPdy_Zcu"
   },
   "outputs": [
    {
     "data": {
      "text/plain": [
       "genre\n",
       "pop            218\n",
       "dance          182\n",
       "rock           162\n",
       "electronic     147\n",
       "hiphop          80\n",
       "ruspop          64\n",
       "alternative     58\n",
       "rusrap          55\n",
       "jazz            44\n",
       "classical       40\n",
       "Name: user_id, dtype: int64"
      ]
     },
     "execution_count": 32,
     "metadata": {},
     "output_type": "execute_result"
    }
   ],
   "source": [
    "genre_weekday(spb_general,'Monday','07:00', '11:00')\n",
    "# вызов функции для утра понедельника в Петербурге (вместо df — таблица spb_general)"
   ]
  },
  {
   "cell_type": "code",
   "execution_count": 33,
   "metadata": {
    "id": "EzXVRE1o_Zcu"
   },
   "outputs": [
    {
     "data": {
      "text/plain": [
       "genre\n",
       "pop            713\n",
       "rock           517\n",
       "dance          495\n",
       "electronic     482\n",
       "hiphop         273\n",
       "world          208\n",
       "ruspop         170\n",
       "alternative    163\n",
       "classical      163\n",
       "rusrap         142\n",
       "Name: user_id, dtype: int64"
      ]
     },
     "execution_count": 33,
     "metadata": {},
     "output_type": "execute_result"
    }
   ],
   "source": [
    "genre_weekday(moscow_general,'Friday','17:00', '23:00')# вызов функции для вечера пятницы в Москве"
   ]
  },
  {
   "cell_type": "code",
   "execution_count": 34,
   "metadata": {
    "id": "JZaEKu5v_Zcu"
   },
   "outputs": [
    {
     "data": {
      "text/plain": [
       "genre\n",
       "pop            256\n",
       "rock           216\n",
       "electronic     216\n",
       "dance          210\n",
       "hiphop          97\n",
       "alternative     63\n",
       "jazz            61\n",
       "classical       60\n",
       "rusrap          59\n",
       "world           54\n",
       "Name: user_id, dtype: int64"
      ]
     },
     "execution_count": 34,
     "metadata": {},
     "output_type": "execute_result"
    }
   ],
   "source": [
    "genre_weekday(spb_general,'Friday','17:00', '23:00')# вызов функции для вечера пятницы в Петербурге"
   ]
  },
  {
   "cell_type": "markdown",
   "metadata": {
    "id": "wrCe4MNX_Zcu"
   },
   "source": [
    "**Выводы**\n",
    "\n",
    "Если сравнить топ-10 жанров в понедельник утром, можно сделать такие выводы:\n",
    "\n",
    "1. В Москве и Петербурге слушают похожую музыку. Единственное отличие — в московский рейтинг вошёл жанр “world”, а в петербургский — джаз и классика.\n",
    "\n",
    "2. В Москве пропущенных значений оказалось так много, что значение `'unknown'` заняло десятое место среди самых популярных жанров. Значит, пропущенные значения занимают существенную долю в данных и угрожают достоверности исследования.\n",
    "\n",
    "Вечер пятницы не меняет эту картину. Некоторые жанры поднимаются немного выше, другие спускаются, но в целом топ-10 остаётся тем же самым.\n",
    "\n",
    "Таким образом, вторая гипотеза подтвердилась лишь частично:\n",
    "* Пользователи слушают похожую музыку в начале недели и в конце.\n",
    "* Разница между Москвой и Петербургом не слишком выражена. В Москве чаще слушают русскую популярную музыку, в Петербурге — джаз.\n",
    "\n",
    "Однако пропуски в данных ставят под сомнение этот результат. В Москве их так много, что рейтинг топ-10 мог бы выглядеть иначе, если бы не утерянные  данные о жанрах."
   ]
  },
  {
   "cell_type": "markdown",
   "metadata": {
    "id": "JolODAqr_Zcu"
   },
   "source": [
    "### Жанровые предпочтения в Москве и Петербурге\n",
    "\n",
    "Гипотеза: Петербург — столица рэпа, музыку этого жанра там слушают чаще, чем в Москве.  А Москва — город контрастов, в котором, тем не менее, преобладает поп-музыка."
   ]
  },
  {
   "cell_type": "markdown",
   "metadata": {
    "id": "DlegSvaT_Zcu"
   },
   "source": [
    "Сгруппируйте таблицу `moscow_general` по жанру и посчитайте прослушивания треков каждого жанра методом `count()`. Затем отсортируйте результат в порядке убывания и сохраните его в таблице `moscow_genres`."
   ]
  },
  {
   "cell_type": "code",
   "execution_count": 35,
   "metadata": {
    "id": "r19lIPke_Zcu",
    "scrolled": true
   },
   "outputs": [],
   "source": [
    "moscow_genres =  moscow_general.groupby('genre')['genre'].count() \n",
    "# одной строкой: группировка таблицы moscow_general по столбцу 'genre', \n",
    "# подсчёт числа значений 'genre' в этой группировке методом count(), \n",
    "moscow_genres = moscow_genres.sort_values(ascending = False)# сортировка получившегося Series в порядке убывания и сохранение в moscow_genres"
   ]
  },
  {
   "cell_type": "markdown",
   "metadata": {
    "id": "6kMuomxTiIr8"
   },
   "source": [
    "Выведите на экран первые десять строк `moscow_genres`:"
   ]
  },
  {
   "cell_type": "code",
   "execution_count": 36,
   "metadata": {
    "id": "WhCSooF8_Zcv"
   },
   "outputs": [
    {
     "data": {
      "text/plain": [
       "genre\n",
       "pop            5892\n",
       "dance          4435\n",
       "rock           3965\n",
       "electronic     3786\n",
       "hiphop         2096\n",
       "classical      1616\n",
       "world          1432\n",
       "alternative    1379\n",
       "ruspop         1372\n",
       "rusrap         1161\n",
       "Name: genre, dtype: int64"
      ]
     },
     "metadata": {},
     "output_type": "display_data"
    }
   ],
   "source": [
    "display(moscow_genres.head(10))# просмотр первых 10 строк moscow_genres"
   ]
  },
  {
   "cell_type": "markdown",
   "metadata": {
    "id": "cnPG2vnN_Zcv"
   },
   "source": [
    "Теперь повторите то же и для Петербурга.\n",
    "\n",
    "Сгруппируйте таблицу `spb_general` по жанру. Посчитайте прослушивания треков каждого жанра. Результат отсортируйте в порядке убывания и сохраните в таблице `spb_genres`:\n"
   ]
  },
  {
   "cell_type": "code",
   "execution_count": 37,
   "metadata": {
    "id": "gluLIpE7_Zcv"
   },
   "outputs": [],
   "source": [
    "spb_genres = spb_general.groupby('genre')['genre'].count()# одной строкой: группировка таблицы spb_general по столбцу 'genre', \n",
    "# подсчёт числа значений 'genre' в этой группировке методом count(), \n",
    "# сортировка получившегося Series в порядке убывания и сохранение в spb_genres\n",
    "spb_genres = spb_genres.sort_values(ascending = False)"
   ]
  },
  {
   "cell_type": "markdown",
   "metadata": {
    "id": "5Doha_ODgyQ8"
   },
   "source": [
    "Выведите на экран первые десять строк `spb_genres`:"
   ]
  },
  {
   "cell_type": "code",
   "execution_count": 38,
   "metadata": {
    "id": "uaGJHjVU_Zcv"
   },
   "outputs": [
    {
     "data": {
      "text/plain": [
       "genre\n",
       "pop            2431\n",
       "dance          1932\n",
       "rock           1879\n",
       "electronic     1736\n",
       "hiphop          960\n",
       "alternative     649\n",
       "classical       646\n",
       "rusrap          564\n",
       "ruspop          538\n",
       "world           515\n",
       "Name: genre, dtype: int64"
      ]
     },
     "metadata": {},
     "output_type": "display_data"
    }
   ],
   "source": [
    "display(spb_genres.head(10))# просмотр первых 10 строк spb_genres"
   ]
  },
  {
   "cell_type": "markdown",
   "metadata": {
    "id": "RY51YJYu_Zcv"
   },
   "source": [
    "**Выводы**"
   ]
  },
  {
   "cell_type": "markdown",
   "metadata": {
    "id": "nVhnJEm__Zcv"
   },
   "source": [
    "Гипотеза частично подтвердилась:\n",
    "* Поп-музыка — самый популярный жанр в Москве, как и предполагала гипотеза. Более того, в топ-10 жанров встречается близкий жанр — русская популярная музыка.\n",
    "* Вопреки ожиданиям, рэп одинаково популярен в Москве и Петербурге. \n"
   ]
  },
  {
   "cell_type": "markdown",
   "metadata": {},
   "source": [
    "<div class=\"alert alert-success\">\n",
    "<b>✔️ Комментарий ревьюера:</b> \n",
    "<br>Отлично, с жанровыми предпочтениями тоже разобрались.\n",
    "</div>"
   ]
  },
  {
   "cell_type": "markdown",
   "metadata": {
    "id": "ykKQ0N65_Zcv"
   },
   "source": [
    "## Итоги исследования"
   ]
  },
  {
   "cell_type": "markdown",
   "metadata": {
    "id": "tjUwbHb3_Zcv"
   },
   "source": [
    "Вы проверили три гипотезы и установили:\n",
    "\n",
    "1. День недели по-разному влияет на активность пользователей в Москве и Петербурге. \n",
    "\n",
    "Первая гипотеза полностью подтвердилась.\n",
    "\n",
    "2. Музыкальные предпочтения не сильно меняются в течение недели — будь то Москва или Петербург. Небольшие различия заметны в начале недели, по понедельникам:\n",
    "* в Москве слушают музыку жанра “world”,\n",
    "* в Петербурге — джаз и классику.\n",
    "\n",
    "Таким образом, вторая гипотеза подтвердилась лишь отчасти. Этот результат мог оказаться иным, если бы не пропуски в данных.\n",
    "\n",
    "3. Во вкусах пользователей Москвы и Петербурга больше общего чем различий. Вопреки ожиданиям, предпочтения жанров в Петербурге напоминают московские.\n",
    "\n",
    "Третья гипотеза не подтвердилась. Если различия в предпочтениях и существуют, на основной массе пользователей они незаметны.\n",
    "\n",
    "**На практике исследования содержат проверки статистических гипотез.**\n",
    "Из данных одного сервиса не всегда можно сделать вывод о всех жителях города.\n",
    "Проверки статистических гипотез покажут, насколько они достоверны, исходя из имеющихся данных. \n",
    "С методами проверок гипотез вы ещё познакомитесь в следующих темах."
   ]
  }
 ],
 "metadata": {
  "ExecuteTimeLog": [
   {
    "duration": 524,
    "start_time": "2022-01-16T11:26:50.027Z"
   },
   {
    "duration": 1777,
    "start_time": "2022-01-16T11:29:03.030Z"
   },
   {
    "duration": 109,
    "start_time": "2022-01-16T11:30:04.346Z"
   },
   {
    "duration": 14,
    "start_time": "2022-01-16T11:30:24.255Z"
   },
   {
    "duration": 22,
    "start_time": "2022-01-16T11:30:46.087Z"
   },
   {
    "duration": 4,
    "start_time": "2022-01-16T11:39:11.143Z"
   },
   {
    "duration": 3,
    "start_time": "2022-01-16T11:43:25.460Z"
   },
   {
    "duration": 18,
    "start_time": "2022-01-16T11:43:35.983Z"
   },
   {
    "duration": 4,
    "start_time": "2022-01-16T11:43:39.672Z"
   },
   {
    "duration": 345,
    "start_time": "2022-01-16T11:45:29.153Z"
   },
   {
    "duration": 20,
    "start_time": "2022-01-16T11:45:42.327Z"
   },
   {
    "duration": 70,
    "start_time": "2022-01-16T12:01:12.104Z"
   },
   {
    "duration": 15,
    "start_time": "2022-01-16T12:01:26.011Z"
   },
   {
    "duration": 20,
    "start_time": "2022-01-16T12:01:40.701Z"
   },
   {
    "duration": 51,
    "start_time": "2022-01-16T12:02:33.094Z"
   },
   {
    "duration": 76,
    "start_time": "2022-01-16T12:06:02.612Z"
   },
   {
    "duration": 45,
    "start_time": "2022-01-16T12:06:12.310Z"
   },
   {
    "duration": 52,
    "start_time": "2022-01-16T12:07:42.238Z"
   },
   {
    "duration": 46,
    "start_time": "2022-01-16T12:07:45.621Z"
   },
   {
    "duration": 228,
    "start_time": "2022-01-16T12:11:36.471Z"
   },
   {
    "duration": 239,
    "start_time": "2022-01-16T12:12:30.912Z"
   },
   {
    "duration": 6,
    "start_time": "2022-01-16T12:12:48.733Z"
   },
   {
    "duration": 3,
    "start_time": "2022-01-16T12:25:43.338Z"
   },
   {
    "duration": 487,
    "start_time": "2022-01-16T12:29:07.798Z"
   },
   {
    "duration": 451,
    "start_time": "2022-01-16T12:29:26.143Z"
   },
   {
    "duration": 445,
    "start_time": "2022-01-16T12:29:49.332Z"
   },
   {
    "duration": 3,
    "start_time": "2022-01-16T12:30:15.509Z"
   },
   {
    "duration": 424,
    "start_time": "2022-01-16T12:30:17.993Z"
   },
   {
    "duration": 3,
    "start_time": "2022-01-16T12:31:00.641Z"
   },
   {
    "duration": 15,
    "start_time": "2022-01-16T12:31:02.783Z"
   },
   {
    "duration": 22,
    "start_time": "2022-01-16T12:31:14.429Z"
   },
   {
    "duration": 20,
    "start_time": "2022-01-16T12:31:18.516Z"
   },
   {
    "duration": 3,
    "start_time": "2022-01-16T12:31:35.406Z"
   },
   {
    "duration": 18,
    "start_time": "2022-01-16T12:31:42.599Z"
   },
   {
    "duration": 3,
    "start_time": "2022-01-16T12:33:47.347Z"
   },
   {
    "duration": 19,
    "start_time": "2022-01-16T12:33:49.627Z"
   },
   {
    "duration": 2,
    "start_time": "2022-01-16T12:51:24.827Z"
   },
   {
    "duration": 115,
    "start_time": "2022-01-16T12:51:24.831Z"
   },
   {
    "duration": 9,
    "start_time": "2022-01-16T12:51:24.948Z"
   },
   {
    "duration": 22,
    "start_time": "2022-01-16T12:51:24.959Z"
   },
   {
    "duration": 3,
    "start_time": "2022-01-16T12:51:24.982Z"
   },
   {
    "duration": 31,
    "start_time": "2022-01-16T12:51:24.987Z"
   },
   {
    "duration": 4,
    "start_time": "2022-01-16T12:51:25.021Z"
   },
   {
    "duration": 21,
    "start_time": "2022-01-16T12:51:25.026Z"
   },
   {
    "duration": 15,
    "start_time": "2022-01-16T12:51:25.048Z"
   },
   {
    "duration": 18,
    "start_time": "2022-01-16T12:51:25.065Z"
   },
   {
    "duration": 69,
    "start_time": "2022-01-16T12:51:25.085Z"
   },
   {
    "duration": 60,
    "start_time": "2022-01-16T12:51:25.156Z"
   },
   {
    "duration": 43,
    "start_time": "2022-01-16T12:51:25.217Z"
   },
   {
    "duration": 5,
    "start_time": "2022-01-16T12:51:25.262Z"
   },
   {
    "duration": 2,
    "start_time": "2022-01-16T12:51:25.269Z"
   },
   {
    "duration": 17,
    "start_time": "2022-01-16T12:51:25.273Z"
   },
   {
    "duration": 6,
    "start_time": "2022-01-16T12:51:25.312Z"
   },
   {
    "duration": 2,
    "start_time": "2022-01-16T12:51:25.319Z"
   },
   {
    "duration": 5,
    "start_time": "2022-01-16T12:51:25.324Z"
   },
   {
    "duration": 4,
    "start_time": "2022-01-16T12:51:25.330Z"
   },
   {
    "duration": 6,
    "start_time": "2022-01-16T12:51:25.335Z"
   },
   {
    "duration": 4,
    "start_time": "2022-01-16T12:51:25.342Z"
   },
   {
    "duration": 4,
    "start_time": "2022-01-16T12:51:25.347Z"
   },
   {
    "duration": 4,
    "start_time": "2022-01-16T12:51:25.352Z"
   },
   {
    "duration": 4,
    "start_time": "2022-01-16T12:51:25.357Z"
   },
   {
    "duration": 6,
    "start_time": "2022-01-16T12:51:25.362Z"
   },
   {
    "duration": 4,
    "start_time": "2022-01-16T12:51:25.369Z"
   },
   {
    "duration": 4,
    "start_time": "2022-01-16T12:51:25.375Z"
   },
   {
    "duration": 4,
    "start_time": "2022-01-16T12:51:25.380Z"
   },
   {
    "duration": 27,
    "start_time": "2022-01-16T12:51:25.385Z"
   },
   {
    "duration": 2,
    "start_time": "2022-01-16T12:51:25.413Z"
   },
   {
    "duration": 5,
    "start_time": "2022-01-16T12:51:25.416Z"
   },
   {
    "duration": 6,
    "start_time": "2022-01-16T12:51:25.422Z"
   },
   {
    "duration": 5,
    "start_time": "2022-01-16T12:51:25.429Z"
   },
   {
    "duration": 5,
    "start_time": "2022-01-16T12:51:25.435Z"
   },
   {
    "duration": 3,
    "start_time": "2022-01-16T12:51:25.442Z"
   },
   {
    "duration": 6,
    "start_time": "2022-01-16T12:51:25.447Z"
   },
   {
    "duration": 5,
    "start_time": "2022-01-16T12:51:25.454Z"
   },
   {
    "duration": 7,
    "start_time": "2022-01-16T13:14:45.478Z"
   },
   {
    "duration": 2,
    "start_time": "2022-01-16T13:17:37.141Z"
   },
   {
    "duration": 13,
    "start_time": "2022-01-16T13:17:39.577Z"
   },
   {
    "duration": 7,
    "start_time": "2022-01-16T13:17:53.951Z"
   },
   {
    "duration": 73,
    "start_time": "2022-01-16T13:19:45.203Z"
   },
   {
    "duration": 10,
    "start_time": "2022-01-16T13:19:51.655Z"
   },
   {
    "duration": 235,
    "start_time": "2022-01-16T13:21:58.108Z"
   },
   {
    "duration": 9,
    "start_time": "2022-01-16T13:22:13.775Z"
   },
   {
    "duration": 10,
    "start_time": "2022-01-16T13:22:27.901Z"
   },
   {
    "duration": 223,
    "start_time": "2022-01-16T13:23:39.537Z"
   },
   {
    "duration": 10,
    "start_time": "2022-01-16T13:23:44.628Z"
   },
   {
    "duration": 11,
    "start_time": "2022-01-16T13:28:15.071Z"
   },
   {
    "duration": 3,
    "start_time": "2022-01-16T13:28:24.248Z"
   },
   {
    "duration": 6,
    "start_time": "2022-01-16T13:28:40.083Z"
   },
   {
    "duration": 273,
    "start_time": "2022-01-16T13:30:16.801Z"
   },
   {
    "duration": 10,
    "start_time": "2022-01-16T13:30:26.402Z"
   },
   {
    "duration": 224,
    "start_time": "2022-01-16T13:31:03.487Z"
   },
   {
    "duration": 11,
    "start_time": "2022-01-16T13:32:04.103Z"
   },
   {
    "duration": 7,
    "start_time": "2022-01-16T13:35:59.897Z"
   },
   {
    "duration": 3,
    "start_time": "2022-01-16T13:36:16.288Z"
   },
   {
    "duration": 24,
    "start_time": "2022-01-16T13:37:25.658Z"
   },
   {
    "duration": 119,
    "start_time": "2022-01-16T13:40:23.572Z"
   },
   {
    "duration": 120,
    "start_time": "2022-01-16T13:40:37.552Z"
   },
   {
    "duration": 102,
    "start_time": "2022-01-16T13:41:04.509Z"
   },
   {
    "duration": 5646,
    "start_time": "2022-01-16T13:41:17.145Z"
   },
   {
    "duration": 5607,
    "start_time": "2022-01-16T13:41:31.461Z"
   },
   {
    "duration": 27,
    "start_time": "2022-01-16T13:42:45.245Z"
   },
   {
    "duration": 283,
    "start_time": "2022-01-16T13:43:59.700Z"
   },
   {
    "duration": 297,
    "start_time": "2022-01-16T13:44:26.719Z"
   },
   {
    "duration": 27,
    "start_time": "2022-01-16T13:44:39.557Z"
   },
   {
    "duration": 122,
    "start_time": "2022-01-16T13:46:28.962Z"
   },
   {
    "duration": 5468,
    "start_time": "2022-01-16T13:47:42.343Z"
   },
   {
    "duration": 24,
    "start_time": "2022-01-16T13:47:56.763Z"
   },
   {
    "duration": 27,
    "start_time": "2022-01-16T13:56:58.968Z"
   },
   {
    "duration": 9,
    "start_time": "2022-01-16T13:57:45.128Z"
   },
   {
    "duration": 50,
    "start_time": "2022-01-16T17:26:23.463Z"
   },
   {
    "duration": 44,
    "start_time": "2022-01-16T17:26:36.063Z"
   },
   {
    "duration": 46,
    "start_time": "2022-01-16T17:26:44.636Z"
   },
   {
    "duration": 42,
    "start_time": "2022-01-16T17:26:52.882Z"
   },
   {
    "duration": 6,
    "start_time": "2022-01-17T09:55:58.509Z"
   },
   {
    "duration": 384,
    "start_time": "2022-01-17T09:56:21.842Z"
   },
   {
    "duration": 291,
    "start_time": "2022-01-17T09:56:47.288Z"
   },
   {
    "duration": 768,
    "start_time": "2022-01-17T09:56:57.199Z"
   },
   {
    "duration": 210,
    "start_time": "2022-01-17T09:56:57.969Z"
   },
   {
    "duration": 30,
    "start_time": "2022-01-17T09:56:58.182Z"
   },
   {
    "duration": 54,
    "start_time": "2022-01-17T09:56:58.215Z"
   },
   {
    "duration": 19,
    "start_time": "2022-01-17T09:56:58.272Z"
   },
   {
    "duration": 33,
    "start_time": "2022-01-17T09:56:58.293Z"
   },
   {
    "duration": 7,
    "start_time": "2022-01-17T09:56:58.329Z"
   },
   {
    "duration": 54,
    "start_time": "2022-01-17T09:56:58.342Z"
   },
   {
    "duration": 24,
    "start_time": "2022-01-17T09:56:58.399Z"
   },
   {
    "duration": 46,
    "start_time": "2022-01-17T09:56:58.426Z"
   },
   {
    "duration": 104,
    "start_time": "2022-01-17T09:56:58.474Z"
   },
   {
    "duration": 131,
    "start_time": "2022-01-17T09:56:58.581Z"
   },
   {
    "duration": 97,
    "start_time": "2022-01-17T09:56:58.715Z"
   },
   {
    "duration": 11,
    "start_time": "2022-01-17T09:56:58.815Z"
   },
   {
    "duration": 5,
    "start_time": "2022-01-17T09:56:58.830Z"
   },
   {
    "duration": 53,
    "start_time": "2022-01-17T09:56:58.838Z"
   },
   {
    "duration": 10,
    "start_time": "2022-01-17T09:56:58.894Z"
   },
   {
    "duration": 23,
    "start_time": "2022-01-17T09:56:58.908Z"
   },
   {
    "duration": 24,
    "start_time": "2022-01-17T09:56:58.969Z"
   },
   {
    "duration": 79,
    "start_time": "2022-01-17T09:56:58.996Z"
   },
   {
    "duration": 3,
    "start_time": "2022-01-17T09:56:59.078Z"
   },
   {
    "duration": 13,
    "start_time": "2022-01-17T09:56:59.083Z"
   },
   {
    "duration": 6,
    "start_time": "2022-01-17T09:56:59.101Z"
   },
   {
    "duration": 19,
    "start_time": "2022-01-17T09:56:59.110Z"
   },
   {
    "duration": 12,
    "start_time": "2022-01-17T09:56:59.132Z"
   },
   {
    "duration": 7,
    "start_time": "2022-01-17T09:56:59.147Z"
   },
   {
    "duration": 6,
    "start_time": "2022-01-17T09:56:59.168Z"
   },
   {
    "duration": 10,
    "start_time": "2022-01-17T09:56:59.177Z"
   },
   {
    "duration": 10,
    "start_time": "2022-01-17T09:56:59.189Z"
   },
   {
    "duration": 12,
    "start_time": "2022-01-17T09:56:59.201Z"
   },
   {
    "duration": 10,
    "start_time": "2022-01-17T09:56:59.216Z"
   },
   {
    "duration": 8,
    "start_time": "2022-01-17T09:56:59.229Z"
   },
   {
    "duration": 27,
    "start_time": "2022-01-17T09:56:59.240Z"
   },
   {
    "duration": 10,
    "start_time": "2022-01-17T09:56:59.270Z"
   },
   {
    "duration": 11,
    "start_time": "2022-01-17T09:56:59.283Z"
   },
   {
    "duration": 7,
    "start_time": "2022-01-17T09:56:59.297Z"
   },
   {
    "duration": 13,
    "start_time": "2022-01-17T09:56:59.306Z"
   },
   {
    "duration": 14,
    "start_time": "2022-01-17T09:56:59.322Z"
   },
   {
    "duration": 16,
    "start_time": "2022-01-17T09:57:22.044Z"
   },
   {
    "duration": 5,
    "start_time": "2022-01-17T10:02:06.288Z"
   },
   {
    "duration": 5,
    "start_time": "2022-01-17T10:02:58.759Z"
   },
   {
    "duration": 18,
    "start_time": "2022-01-17T10:03:20.363Z"
   },
   {
    "duration": 329,
    "start_time": "2022-01-17T10:03:48.297Z"
   },
   {
    "duration": 12,
    "start_time": "2022-01-17T10:04:02.064Z"
   },
   {
    "duration": 13,
    "start_time": "2022-01-17T10:04:29.304Z"
   },
   {
    "duration": 13,
    "start_time": "2022-01-17T10:04:42.376Z"
   },
   {
    "duration": 13,
    "start_time": "2022-01-17T10:05:03.428Z"
   },
   {
    "duration": 11,
    "start_time": "2022-01-17T10:05:16.593Z"
   },
   {
    "duration": 18,
    "start_time": "2022-01-17T10:05:27.209Z"
   },
   {
    "duration": 19,
    "start_time": "2022-01-17T10:06:45.300Z"
   },
   {
    "duration": 8424,
    "start_time": "2022-01-17T10:06:48.836Z"
   },
   {
    "duration": 17,
    "start_time": "2022-01-17T10:07:55.088Z"
   },
   {
    "duration": 21,
    "start_time": "2022-01-17T10:07:58.406Z"
   },
   {
    "duration": 21,
    "start_time": "2022-01-17T10:08:04.208Z"
   },
   {
    "duration": 18,
    "start_time": "2022-01-17T10:10:01.877Z"
   },
   {
    "duration": 20,
    "start_time": "2022-01-17T10:10:04.939Z"
   },
   {
    "duration": 656,
    "start_time": "2022-01-17T10:10:50.626Z"
   },
   {
    "duration": 19,
    "start_time": "2022-01-17T10:11:15.597Z"
   },
   {
    "duration": 27,
    "start_time": "2022-01-17T10:11:18.340Z"
   },
   {
    "duration": 39,
    "start_time": "2022-01-17T10:12:17.022Z"
   },
   {
    "duration": 38,
    "start_time": "2022-01-17T10:16:11.873Z"
   },
   {
    "duration": 34,
    "start_time": "2022-01-17T10:16:34.366Z"
   },
   {
    "duration": 35,
    "start_time": "2022-01-17T10:26:03.040Z"
   },
   {
    "duration": 34,
    "start_time": "2022-01-17T10:26:32.949Z"
   },
   {
    "duration": 39,
    "start_time": "2022-01-17T10:28:17.751Z"
   },
   {
    "duration": 296,
    "start_time": "2022-01-17T10:28:50.525Z"
   },
   {
    "duration": 33,
    "start_time": "2022-01-17T10:29:09.277Z"
   },
   {
    "duration": 358,
    "start_time": "2022-01-17T13:07:09.388Z"
   },
   {
    "duration": 13,
    "start_time": "2022-01-17T13:14:25.802Z"
   },
   {
    "duration": 16,
    "start_time": "2022-01-17T13:23:25.281Z"
   },
   {
    "duration": 26,
    "start_time": "2022-01-17T13:23:38.119Z"
   },
   {
    "duration": 23,
    "start_time": "2022-01-17T13:23:53.561Z"
   },
   {
    "duration": 17,
    "start_time": "2022-01-17T13:24:20.867Z"
   },
   {
    "duration": 8,
    "start_time": "2022-01-17T13:44:13.620Z"
   },
   {
    "duration": 5,
    "start_time": "2022-01-17T13:46:33.372Z"
   },
   {
    "duration": 63,
    "start_time": "2022-01-17T13:48:39.688Z"
   },
   {
    "duration": 39,
    "start_time": "2022-01-17T13:51:19.239Z"
   },
   {
    "duration": 7,
    "start_time": "2022-01-17T16:21:20.404Z"
   },
   {
    "duration": 435,
    "start_time": "2022-01-17T16:21:23.826Z"
   },
   {
    "duration": 5,
    "start_time": "2022-01-17T16:21:34.899Z"
   },
   {
    "duration": 801,
    "start_time": "2022-01-17T16:21:42.130Z"
   },
   {
    "duration": 182,
    "start_time": "2022-01-17T16:21:42.933Z"
   },
   {
    "duration": 46,
    "start_time": "2022-01-17T16:21:43.118Z"
   },
   {
    "duration": 39,
    "start_time": "2022-01-17T16:21:43.167Z"
   },
   {
    "duration": 6,
    "start_time": "2022-01-17T16:21:43.210Z"
   },
   {
    "duration": 55,
    "start_time": "2022-01-17T16:21:43.219Z"
   },
   {
    "duration": 6,
    "start_time": "2022-01-17T16:21:43.277Z"
   },
   {
    "duration": 32,
    "start_time": "2022-01-17T16:21:43.287Z"
   },
   {
    "duration": 47,
    "start_time": "2022-01-17T16:21:43.332Z"
   },
   {
    "duration": 34,
    "start_time": "2022-01-17T16:21:43.382Z"
   },
   {
    "duration": 153,
    "start_time": "2022-01-17T16:21:43.419Z"
   },
   {
    "duration": 150,
    "start_time": "2022-01-17T16:21:43.575Z"
   },
   {
    "duration": 97,
    "start_time": "2022-01-17T16:21:43.728Z"
   },
   {
    "duration": 9,
    "start_time": "2022-01-17T16:21:43.827Z"
   },
   {
    "duration": 22,
    "start_time": "2022-01-17T16:21:43.839Z"
   },
   {
    "duration": 31,
    "start_time": "2022-01-17T16:21:43.864Z"
   },
   {
    "duration": 10,
    "start_time": "2022-01-17T16:21:43.898Z"
   },
   {
    "duration": 52,
    "start_time": "2022-01-17T16:21:43.911Z"
   },
   {
    "duration": 18,
    "start_time": "2022-01-17T16:21:43.966Z"
   },
   {
    "duration": 7,
    "start_time": "2022-01-17T16:21:43.988Z"
   },
   {
    "duration": 72,
    "start_time": "2022-01-17T16:21:43.998Z"
   },
   {
    "duration": 51,
    "start_time": "2022-01-17T16:21:44.073Z"
   },
   {
    "duration": 56,
    "start_time": "2022-01-17T16:21:44.132Z"
   },
   {
    "duration": 41,
    "start_time": "2022-01-17T16:21:44.191Z"
   },
   {
    "duration": 64,
    "start_time": "2022-01-17T16:21:44.235Z"
   },
   {
    "duration": 60,
    "start_time": "2022-01-17T16:21:44.301Z"
   },
   {
    "duration": 17,
    "start_time": "2022-01-17T16:21:44.364Z"
   },
   {
    "duration": 24,
    "start_time": "2022-01-17T16:21:44.384Z"
   },
   {
    "duration": 16,
    "start_time": "2022-01-17T16:21:44.411Z"
   },
   {
    "duration": 30,
    "start_time": "2022-01-17T16:21:44.430Z"
   },
   {
    "duration": 41,
    "start_time": "2022-01-17T16:21:44.464Z"
   },
   {
    "duration": 56,
    "start_time": "2022-01-17T16:21:44.507Z"
   },
   {
    "duration": 3,
    "start_time": "2022-01-17T16:21:44.565Z"
   },
   {
    "duration": 9,
    "start_time": "2022-01-17T16:21:44.571Z"
   },
   {
    "duration": 12,
    "start_time": "2022-01-17T16:21:44.583Z"
   },
   {
    "duration": 8,
    "start_time": "2022-01-17T16:21:44.599Z"
   },
   {
    "duration": 7,
    "start_time": "2022-01-17T16:21:44.610Z"
   },
   {
    "duration": 6,
    "start_time": "2022-01-17T16:21:44.620Z"
   },
   {
    "duration": 37,
    "start_time": "2022-01-17T16:21:48.964Z"
   },
   {
    "duration": 36,
    "start_time": "2022-01-17T16:21:52.693Z"
   },
   {
    "duration": 5,
    "start_time": "2022-01-17T16:22:29.481Z"
   },
   {
    "duration": 1881,
    "start_time": "2022-01-17T16:22:40.004Z"
   },
   {
    "duration": 9796,
    "start_time": "2022-01-17T16:22:45.527Z"
   },
   {
    "duration": 5,
    "start_time": "2022-01-17T16:23:10.402Z"
   },
   {
    "duration": 47,
    "start_time": "2022-01-17T16:23:13.408Z"
   },
   {
    "duration": 7,
    "start_time": "2022-01-17T16:24:31.160Z"
   },
   {
    "duration": 38,
    "start_time": "2022-01-17T16:24:35.388Z"
   },
   {
    "duration": 40,
    "start_time": "2022-01-17T16:26:08.256Z"
   },
   {
    "duration": 5,
    "start_time": "2022-01-17T16:56:06.274Z"
   },
   {
    "duration": 774,
    "start_time": "2022-01-17T16:56:09.677Z"
   },
   {
    "duration": 6,
    "start_time": "2022-01-17T16:57:28.038Z"
   },
   {
    "duration": 39,
    "start_time": "2022-01-17T16:57:31.234Z"
   },
   {
    "duration": 5,
    "start_time": "2022-01-17T16:58:08.577Z"
   },
   {
    "duration": 52,
    "start_time": "2022-01-17T16:58:10.957Z"
   },
   {
    "duration": 6,
    "start_time": "2022-01-17T16:58:32.336Z"
   },
   {
    "duration": 51,
    "start_time": "2022-01-17T16:58:35.587Z"
   },
   {
    "duration": 6,
    "start_time": "2022-01-17T16:59:31.255Z"
   },
   {
    "duration": 73,
    "start_time": "2022-01-17T16:59:33.728Z"
   },
   {
    "duration": 5,
    "start_time": "2022-01-17T17:00:11.617Z"
   },
   {
    "duration": 33,
    "start_time": "2022-01-17T17:00:14.805Z"
   },
   {
    "duration": 32,
    "start_time": "2022-01-17T17:07:39.704Z"
   },
   {
    "duration": 24,
    "start_time": "2022-01-17T17:10:14.915Z"
   },
   {
    "duration": 6,
    "start_time": "2022-01-17T17:10:50.040Z"
   },
   {
    "duration": 36,
    "start_time": "2022-01-17T17:10:52.389Z"
   },
   {
    "duration": 42,
    "start_time": "2022-01-17T17:10:57.082Z"
   },
   {
    "duration": 6,
    "start_time": "2022-01-17T17:11:37.467Z"
   },
   {
    "duration": 746,
    "start_time": "2022-01-17T17:11:40.582Z"
   },
   {
    "duration": 6,
    "start_time": "2022-01-17T17:11:50.349Z"
   },
   {
    "duration": 9523,
    "start_time": "2022-01-17T17:11:52.416Z"
   },
   {
    "duration": 5,
    "start_time": "2022-01-17T17:13:09.536Z"
   },
   {
    "duration": 9367,
    "start_time": "2022-01-17T17:13:12.363Z"
   },
   {
    "duration": 6,
    "start_time": "2022-01-17T17:15:39.586Z"
   },
   {
    "duration": 8792,
    "start_time": "2022-01-17T17:15:42.415Z"
   },
   {
    "duration": 9322,
    "start_time": "2022-01-17T17:21:07.320Z"
   },
   {
    "duration": 9048,
    "start_time": "2022-01-17T17:21:21.216Z"
   },
   {
    "duration": 4,
    "start_time": "2022-01-17T17:21:49.165Z"
   },
   {
    "duration": 238,
    "start_time": "2022-01-17T17:21:49.172Z"
   },
   {
    "duration": 23,
    "start_time": "2022-01-17T17:21:49.414Z"
   },
   {
    "duration": 49,
    "start_time": "2022-01-17T17:21:49.439Z"
   },
   {
    "duration": 6,
    "start_time": "2022-01-17T17:21:49.491Z"
   },
   {
    "duration": 26,
    "start_time": "2022-01-17T17:21:49.499Z"
   },
   {
    "duration": 34,
    "start_time": "2022-01-17T17:21:49.529Z"
   },
   {
    "duration": 32,
    "start_time": "2022-01-17T17:21:49.567Z"
   },
   {
    "duration": 23,
    "start_time": "2022-01-17T17:21:49.601Z"
   },
   {
    "duration": 59,
    "start_time": "2022-01-17T17:21:49.626Z"
   },
   {
    "duration": 101,
    "start_time": "2022-01-17T17:21:49.687Z"
   },
   {
    "duration": 110,
    "start_time": "2022-01-17T17:21:49.791Z"
   },
   {
    "duration": 85,
    "start_time": "2022-01-17T17:21:49.904Z"
   },
   {
    "duration": 9,
    "start_time": "2022-01-17T17:21:49.991Z"
   },
   {
    "duration": 11,
    "start_time": "2022-01-17T17:21:50.002Z"
   },
   {
    "duration": 47,
    "start_time": "2022-01-17T17:21:50.015Z"
   },
   {
    "duration": 9,
    "start_time": "2022-01-17T17:21:50.065Z"
   },
   {
    "duration": 16,
    "start_time": "2022-01-17T17:21:50.077Z"
   },
   {
    "duration": 14,
    "start_time": "2022-01-17T17:21:50.098Z"
   },
   {
    "duration": 45,
    "start_time": "2022-01-17T17:21:50.115Z"
   },
   {
    "duration": 43,
    "start_time": "2022-01-17T17:21:50.162Z"
   },
   {
    "duration": 51,
    "start_time": "2022-01-17T17:21:50.208Z"
   },
   {
    "duration": 48,
    "start_time": "2022-01-17T17:21:50.263Z"
   },
   {
    "duration": 74,
    "start_time": "2022-01-17T17:21:50.314Z"
   },
   {
    "duration": 56,
    "start_time": "2022-01-17T17:21:50.391Z"
   },
   {
    "duration": 51,
    "start_time": "2022-01-17T17:21:50.461Z"
   },
   {
    "duration": 17,
    "start_time": "2022-01-17T17:21:50.515Z"
   },
   {
    "duration": 15,
    "start_time": "2022-01-17T17:21:50.558Z"
   },
   {
    "duration": 14,
    "start_time": "2022-01-17T17:21:50.576Z"
   },
   {
    "duration": 6,
    "start_time": "2022-01-17T17:21:50.593Z"
   },
   {
    "duration": 66,
    "start_time": "2022-01-17T17:21:50.601Z"
   },
   {
    "duration": 33,
    "start_time": "2022-01-17T17:21:50.670Z"
   },
   {
    "duration": 3,
    "start_time": "2022-01-17T17:21:50.706Z"
   },
   {
    "duration": 6,
    "start_time": "2022-01-17T17:21:50.711Z"
   },
   {
    "duration": 39,
    "start_time": "2022-01-17T17:21:50.720Z"
   },
   {
    "duration": 8,
    "start_time": "2022-01-17T17:21:50.762Z"
   },
   {
    "duration": 6,
    "start_time": "2022-01-17T17:21:50.772Z"
   },
   {
    "duration": 8,
    "start_time": "2022-01-17T17:21:50.781Z"
   },
   {
    "duration": 7,
    "start_time": "2022-01-17T17:22:57.046Z"
   },
   {
    "duration": 48,
    "start_time": "2022-01-17T17:22:59.033Z"
   },
   {
    "duration": 6,
    "start_time": "2022-01-17T17:24:32.465Z"
   },
   {
    "duration": 9144,
    "start_time": "2022-01-17T17:24:35.024Z"
   },
   {
    "duration": 7,
    "start_time": "2022-01-17T17:25:14.643Z"
   },
   {
    "duration": 8789,
    "start_time": "2022-01-17T17:25:17.598Z"
   },
   {
    "duration": 5,
    "start_time": "2022-01-17T17:25:58.070Z"
   },
   {
    "duration": 9758,
    "start_time": "2022-01-17T17:25:59.035Z"
   },
   {
    "duration": 105,
    "start_time": "2022-01-17T17:28:06.289Z"
   },
   {
    "duration": 6,
    "start_time": "2022-01-17T17:28:12.407Z"
   },
   {
    "duration": 24,
    "start_time": "2022-01-17T17:28:14.718Z"
   },
   {
    "duration": 6,
    "start_time": "2022-01-17T17:28:46.740Z"
   },
   {
    "duration": 27,
    "start_time": "2022-01-17T17:28:48.906Z"
   },
   {
    "duration": 27,
    "start_time": "2022-01-17T17:28:53.397Z"
   },
   {
    "duration": 6,
    "start_time": "2022-01-17T17:30:28.419Z"
   },
   {
    "duration": 8761,
    "start_time": "2022-01-17T17:30:31.349Z"
   },
   {
    "duration": 6,
    "start_time": "2022-01-17T17:30:47.719Z"
   },
   {
    "duration": 4649,
    "start_time": "2022-01-17T17:30:50.324Z"
   },
   {
    "duration": 6,
    "start_time": "2022-01-17T17:31:12.298Z"
   },
   {
    "duration": 8568,
    "start_time": "2022-01-17T17:31:15.351Z"
   },
   {
    "duration": 7,
    "start_time": "2022-01-17T17:32:42.117Z"
   },
   {
    "duration": 8956,
    "start_time": "2022-01-17T17:32:47.389Z"
   },
   {
    "duration": 6,
    "start_time": "2022-01-17T17:34:30.509Z"
   },
   {
    "duration": 5,
    "start_time": "2022-01-17T17:34:50.471Z"
   },
   {
    "duration": 35,
    "start_time": "2022-01-17T17:34:52.665Z"
   },
   {
    "duration": 7,
    "start_time": "2022-01-17T17:39:34.779Z"
   },
   {
    "duration": 10177,
    "start_time": "2022-01-17T17:39:37.980Z"
   },
   {
    "duration": 6,
    "start_time": "2022-01-17T17:40:13.547Z"
   },
   {
    "duration": 7,
    "start_time": "2022-01-17T17:40:52.048Z"
   },
   {
    "duration": 719,
    "start_time": "2022-01-17T17:41:03.116Z"
   },
   {
    "duration": 8,
    "start_time": "2022-01-17T17:43:56.576Z"
   },
   {
    "duration": 31,
    "start_time": "2022-01-17T17:43:59.061Z"
   },
   {
    "duration": 6,
    "start_time": "2022-01-17T17:45:34.683Z"
   },
   {
    "duration": 35,
    "start_time": "2022-01-17T17:45:37.925Z"
   },
   {
    "duration": 29,
    "start_time": "2022-01-17T17:47:25.371Z"
   },
   {
    "duration": 34,
    "start_time": "2022-01-17T17:47:28.347Z"
   },
   {
    "duration": 5,
    "start_time": "2022-01-17T17:47:34.813Z"
   },
   {
    "duration": 31,
    "start_time": "2022-01-17T17:47:36.474Z"
   },
   {
    "duration": 5,
    "start_time": "2022-01-17T17:48:35.549Z"
   },
   {
    "duration": 5,
    "start_time": "2022-01-17T17:48:54.564Z"
   },
   {
    "duration": 6,
    "start_time": "2022-01-17T17:49:08.866Z"
   },
   {
    "duration": 358,
    "start_time": "2022-01-17T17:49:58.224Z"
   },
   {
    "duration": 4,
    "start_time": "2022-01-17T17:50:04.018Z"
   },
   {
    "duration": 611,
    "start_time": "2022-01-17T17:50:04.026Z"
   },
   {
    "duration": 21,
    "start_time": "2022-01-17T17:50:04.639Z"
   },
   {
    "duration": 35,
    "start_time": "2022-01-17T17:50:04.663Z"
   },
   {
    "duration": 5,
    "start_time": "2022-01-17T17:50:04.700Z"
   },
   {
    "duration": 52,
    "start_time": "2022-01-17T17:50:04.707Z"
   },
   {
    "duration": 5,
    "start_time": "2022-01-17T17:50:04.763Z"
   },
   {
    "duration": 39,
    "start_time": "2022-01-17T17:50:04.771Z"
   },
   {
    "duration": 24,
    "start_time": "2022-01-17T17:50:04.812Z"
   },
   {
    "duration": 46,
    "start_time": "2022-01-17T17:50:04.839Z"
   },
   {
    "duration": 95,
    "start_time": "2022-01-17T17:50:04.888Z"
   },
   {
    "duration": 102,
    "start_time": "2022-01-17T17:50:04.986Z"
   },
   {
    "duration": 86,
    "start_time": "2022-01-17T17:50:05.091Z"
   },
   {
    "duration": 9,
    "start_time": "2022-01-17T17:50:05.179Z"
   },
   {
    "duration": 16,
    "start_time": "2022-01-17T17:50:05.190Z"
   },
   {
    "duration": 35,
    "start_time": "2022-01-17T17:50:05.208Z"
   },
   {
    "duration": 16,
    "start_time": "2022-01-17T17:50:05.245Z"
   },
   {
    "duration": 21,
    "start_time": "2022-01-17T17:50:05.263Z"
   },
   {
    "duration": 14,
    "start_time": "2022-01-17T17:50:05.289Z"
   },
   {
    "duration": 4,
    "start_time": "2022-01-17T17:50:05.306Z"
   },
   {
    "duration": 79,
    "start_time": "2022-01-17T17:50:05.313Z"
   },
   {
    "duration": 30,
    "start_time": "2022-01-17T17:50:05.395Z"
   },
   {
    "duration": 49,
    "start_time": "2022-01-17T17:50:05.428Z"
   },
   {
    "duration": 29,
    "start_time": "2022-01-17T17:50:05.480Z"
   },
   {
    "duration": 59,
    "start_time": "2022-01-17T17:50:05.511Z"
   },
   {
    "duration": 31,
    "start_time": "2022-01-17T17:50:05.572Z"
   },
   {
    "duration": 12,
    "start_time": "2022-01-17T17:50:05.606Z"
   },
   {
    "duration": 47,
    "start_time": "2022-01-17T17:50:05.620Z"
   },
   {
    "duration": 13,
    "start_time": "2022-01-17T17:50:05.669Z"
   },
   {
    "duration": 5,
    "start_time": "2022-01-17T17:50:05.684Z"
   },
   {
    "duration": 34,
    "start_time": "2022-01-17T17:50:05.692Z"
   },
   {
    "duration": 48,
    "start_time": "2022-01-17T17:50:05.729Z"
   },
   {
    "duration": 3,
    "start_time": "2022-01-17T17:50:05.779Z"
   },
   {
    "duration": 4,
    "start_time": "2022-01-17T17:50:05.785Z"
   },
   {
    "duration": 5,
    "start_time": "2022-01-17T17:50:05.792Z"
   },
   {
    "duration": 4,
    "start_time": "2022-01-17T17:50:05.800Z"
   },
   {
    "duration": 53,
    "start_time": "2022-01-17T17:50:05.806Z"
   },
   {
    "duration": 6,
    "start_time": "2022-01-17T17:50:05.861Z"
   },
   {
    "duration": 7,
    "start_time": "2022-01-17T17:50:05.870Z"
   },
   {
    "duration": 320,
    "start_time": "2022-01-17T17:50:05.880Z"
   },
   {
    "duration": 1606,
    "start_time": "2022-01-17T17:50:20.308Z"
   },
   {
    "duration": 112,
    "start_time": "2022-01-17T17:51:49.419Z"
   },
   {
    "duration": 5,
    "start_time": "2022-01-17T17:51:59.925Z"
   },
   {
    "duration": 1515,
    "start_time": "2022-01-17T17:52:04.106Z"
   },
   {
    "duration": 100,
    "start_time": "2022-01-17T17:53:07.409Z"
   },
   {
    "duration": 1528,
    "start_time": "2022-01-17T17:54:50.017Z"
   },
   {
    "duration": 6,
    "start_time": "2022-01-17T17:55:05.238Z"
   },
   {
    "duration": 41,
    "start_time": "2022-01-17T17:55:10.478Z"
   },
   {
    "duration": 30,
    "start_time": "2022-01-17T18:34:21.999Z"
   },
   {
    "duration": 28,
    "start_time": "2022-01-17T18:34:48.422Z"
   },
   {
    "duration": 339,
    "start_time": "2022-01-17T18:41:17.133Z"
   },
   {
    "duration": 115,
    "start_time": "2022-01-17T18:41:31.407Z"
   },
   {
    "duration": 339,
    "start_time": "2022-01-17T18:42:13.230Z"
   },
   {
    "duration": 466,
    "start_time": "2022-01-17T18:45:30.555Z"
   },
   {
    "duration": 43,
    "start_time": "2022-01-17T18:45:54.357Z"
   },
   {
    "duration": 65,
    "start_time": "2022-01-17T18:50:15.451Z"
   },
   {
    "duration": 68,
    "start_time": "2022-01-17T18:50:17.837Z"
   },
   {
    "duration": 15,
    "start_time": "2022-01-17T18:50:46.586Z"
   },
   {
    "duration": 19,
    "start_time": "2022-01-17T18:51:48.172Z"
   },
   {
    "duration": 55,
    "start_time": "2022-01-17T18:52:20.166Z"
   },
   {
    "duration": 18,
    "start_time": "2022-01-17T18:52:22.740Z"
   },
   {
    "duration": 3,
    "start_time": "2022-01-17T18:52:29.205Z"
   },
   {
    "duration": 200,
    "start_time": "2022-01-17T18:52:29.210Z"
   },
   {
    "duration": 16,
    "start_time": "2022-01-17T18:52:29.413Z"
   },
   {
    "duration": 49,
    "start_time": "2022-01-17T18:52:29.431Z"
   },
   {
    "duration": 5,
    "start_time": "2022-01-17T18:52:29.482Z"
   },
   {
    "duration": 20,
    "start_time": "2022-01-17T18:52:29.489Z"
   },
   {
    "duration": 5,
    "start_time": "2022-01-17T18:52:29.511Z"
   },
   {
    "duration": 65,
    "start_time": "2022-01-17T18:52:29.518Z"
   },
   {
    "duration": 21,
    "start_time": "2022-01-17T18:52:29.587Z"
   },
   {
    "duration": 50,
    "start_time": "2022-01-17T18:52:29.611Z"
   },
   {
    "duration": 80,
    "start_time": "2022-01-17T18:52:29.663Z"
   },
   {
    "duration": 87,
    "start_time": "2022-01-17T18:52:29.759Z"
   },
   {
    "duration": 80,
    "start_time": "2022-01-17T18:52:29.849Z"
   },
   {
    "duration": 28,
    "start_time": "2022-01-17T18:52:29.932Z"
   },
   {
    "duration": 3,
    "start_time": "2022-01-17T18:52:29.963Z"
   },
   {
    "duration": 21,
    "start_time": "2022-01-17T18:52:29.969Z"
   },
   {
    "duration": 9,
    "start_time": "2022-01-17T18:52:29.992Z"
   },
   {
    "duration": 18,
    "start_time": "2022-01-17T18:52:30.004Z"
   },
   {
    "duration": 16,
    "start_time": "2022-01-17T18:52:30.060Z"
   },
   {
    "duration": 5,
    "start_time": "2022-01-17T18:52:30.079Z"
   },
   {
    "duration": 40,
    "start_time": "2022-01-17T18:52:30.087Z"
   },
   {
    "duration": 62,
    "start_time": "2022-01-17T18:52:30.129Z"
   },
   {
    "duration": 32,
    "start_time": "2022-01-17T18:52:30.194Z"
   },
   {
    "duration": 52,
    "start_time": "2022-01-17T18:52:30.228Z"
   },
   {
    "duration": 34,
    "start_time": "2022-01-17T18:52:30.282Z"
   },
   {
    "duration": 61,
    "start_time": "2022-01-17T18:52:30.319Z"
   },
   {
    "duration": 12,
    "start_time": "2022-01-17T18:52:30.385Z"
   },
   {
    "duration": 24,
    "start_time": "2022-01-17T18:52:30.400Z"
   },
   {
    "duration": 33,
    "start_time": "2022-01-17T18:52:30.427Z"
   },
   {
    "duration": 5,
    "start_time": "2022-01-17T18:52:30.463Z"
   },
   {
    "duration": 39,
    "start_time": "2022-01-17T18:52:30.470Z"
   },
   {
    "duration": 22,
    "start_time": "2022-01-17T18:52:30.511Z"
   },
   {
    "duration": 52,
    "start_time": "2022-01-17T18:52:30.535Z"
   },
   {
    "duration": 23,
    "start_time": "2022-01-17T18:52:30.589Z"
   },
   {
    "duration": 86,
    "start_time": "2022-01-17T18:52:30.614Z"
   },
   {
    "duration": 19,
    "start_time": "2022-01-17T18:52:30.702Z"
   },
   {
    "duration": 8,
    "start_time": "2022-01-17T18:52:30.724Z"
   },
   {
    "duration": 36,
    "start_time": "2022-01-17T18:52:30.735Z"
   },
   {
    "duration": 17,
    "start_time": "2022-01-17T18:57:26.449Z"
   },
   {
    "duration": 53,
    "start_time": "2022-01-17T19:00:06.269Z"
   },
   {
    "duration": 17,
    "start_time": "2022-01-17T19:00:07.912Z"
   },
   {
    "duration": 54,
    "start_time": "2022-01-17T19:00:21.949Z"
   },
   {
    "duration": 25,
    "start_time": "2022-01-17T19:00:24.726Z"
   },
   {
    "duration": 4,
    "start_time": "2022-01-17T19:00:31.783Z"
   },
   {
    "duration": 199,
    "start_time": "2022-01-17T19:00:31.789Z"
   },
   {
    "duration": 15,
    "start_time": "2022-01-17T19:00:31.991Z"
   },
   {
    "duration": 55,
    "start_time": "2022-01-17T19:00:32.009Z"
   },
   {
    "duration": 9,
    "start_time": "2022-01-17T19:00:32.066Z"
   },
   {
    "duration": 20,
    "start_time": "2022-01-17T19:00:32.077Z"
   },
   {
    "duration": 5,
    "start_time": "2022-01-17T19:00:32.099Z"
   },
   {
    "duration": 64,
    "start_time": "2022-01-17T19:00:32.108Z"
   },
   {
    "duration": 23,
    "start_time": "2022-01-17T19:00:32.175Z"
   },
   {
    "duration": 31,
    "start_time": "2022-01-17T19:00:32.200Z"
   },
   {
    "duration": 111,
    "start_time": "2022-01-17T19:00:32.233Z"
   },
   {
    "duration": 97,
    "start_time": "2022-01-17T19:00:32.347Z"
   },
   {
    "duration": 84,
    "start_time": "2022-01-17T19:00:32.446Z"
   },
   {
    "duration": 28,
    "start_time": "2022-01-17T19:00:32.532Z"
   },
   {
    "duration": 4,
    "start_time": "2022-01-17T19:00:32.562Z"
   },
   {
    "duration": 23,
    "start_time": "2022-01-17T19:00:32.568Z"
   },
   {
    "duration": 9,
    "start_time": "2022-01-17T19:00:32.593Z"
   },
   {
    "duration": 54,
    "start_time": "2022-01-17T19:00:32.605Z"
   },
   {
    "duration": 16,
    "start_time": "2022-01-17T19:00:32.661Z"
   },
   {
    "duration": 5,
    "start_time": "2022-01-17T19:00:32.679Z"
   },
   {
    "duration": 39,
    "start_time": "2022-01-17T19:00:32.686Z"
   },
   {
    "duration": 57,
    "start_time": "2022-01-17T19:00:32.727Z"
   },
   {
    "duration": 31,
    "start_time": "2022-01-17T19:00:32.789Z"
   },
   {
    "duration": 57,
    "start_time": "2022-01-17T19:00:32.822Z"
   },
   {
    "duration": 34,
    "start_time": "2022-01-17T19:00:32.882Z"
   },
   {
    "duration": 52,
    "start_time": "2022-01-17T19:00:32.918Z"
   },
   {
    "duration": 12,
    "start_time": "2022-01-17T19:00:32.972Z"
   },
   {
    "duration": 18,
    "start_time": "2022-01-17T19:00:32.986Z"
   },
   {
    "duration": 14,
    "start_time": "2022-01-17T19:00:33.007Z"
   },
   {
    "duration": 37,
    "start_time": "2022-01-17T19:00:33.023Z"
   },
   {
    "duration": 35,
    "start_time": "2022-01-17T19:00:33.062Z"
   },
   {
    "duration": 22,
    "start_time": "2022-01-17T19:00:33.099Z"
   },
   {
    "duration": 54,
    "start_time": "2022-01-17T19:00:33.123Z"
   },
   {
    "duration": 22,
    "start_time": "2022-01-17T19:00:33.179Z"
   },
   {
    "duration": 77,
    "start_time": "2022-01-17T19:00:33.204Z"
   },
   {
    "duration": 17,
    "start_time": "2022-01-17T19:00:33.283Z"
   },
   {
    "duration": 4,
    "start_time": "2022-01-17T19:00:33.302Z"
   },
   {
    "duration": 8,
    "start_time": "2022-01-17T19:00:33.309Z"
   },
   {
    "duration": 17,
    "start_time": "2022-01-17T19:00:36.984Z"
   },
   {
    "duration": 70,
    "start_time": "2022-01-17T19:00:50.905Z"
   },
   {
    "duration": 16,
    "start_time": "2022-01-17T19:00:52.213Z"
   },
   {
    "duration": 54,
    "start_time": "2022-01-17T19:01:13.505Z"
   },
   {
    "duration": 16,
    "start_time": "2022-01-17T19:01:15.874Z"
   },
   {
    "duration": 54,
    "start_time": "2022-01-17T19:04:53.164Z"
   },
   {
    "duration": 17,
    "start_time": "2022-01-17T19:04:55.177Z"
   },
   {
    "duration": 15,
    "start_time": "2022-01-17T19:04:57.682Z"
   },
   {
    "duration": 3,
    "start_time": "2022-01-17T19:05:02.222Z"
   },
   {
    "duration": 207,
    "start_time": "2022-01-17T19:05:02.228Z"
   },
   {
    "duration": 24,
    "start_time": "2022-01-17T19:05:02.438Z"
   },
   {
    "duration": 32,
    "start_time": "2022-01-17T19:05:02.464Z"
   },
   {
    "duration": 5,
    "start_time": "2022-01-17T19:05:02.498Z"
   },
   {
    "duration": 53,
    "start_time": "2022-01-17T19:05:02.506Z"
   },
   {
    "duration": 5,
    "start_time": "2022-01-17T19:05:02.562Z"
   },
   {
    "duration": 32,
    "start_time": "2022-01-17T19:05:02.570Z"
   },
   {
    "duration": 22,
    "start_time": "2022-01-17T19:05:02.605Z"
   },
   {
    "duration": 61,
    "start_time": "2022-01-17T19:05:02.629Z"
   },
   {
    "duration": 94,
    "start_time": "2022-01-17T19:05:02.692Z"
   },
   {
    "duration": 101,
    "start_time": "2022-01-17T19:05:02.788Z"
   },
   {
    "duration": 82,
    "start_time": "2022-01-17T19:05:02.892Z"
   },
   {
    "duration": 10,
    "start_time": "2022-01-17T19:05:02.976Z"
   },
   {
    "duration": 4,
    "start_time": "2022-01-17T19:05:02.988Z"
   },
   {
    "duration": 21,
    "start_time": "2022-01-17T19:05:02.994Z"
   },
   {
    "duration": 43,
    "start_time": "2022-01-17T19:05:03.018Z"
   },
   {
    "duration": 16,
    "start_time": "2022-01-17T19:05:03.064Z"
   },
   {
    "duration": 15,
    "start_time": "2022-01-17T19:05:03.082Z"
   },
   {
    "duration": 5,
    "start_time": "2022-01-17T19:05:03.099Z"
   },
   {
    "duration": 78,
    "start_time": "2022-01-17T19:05:03.107Z"
   },
   {
    "duration": 31,
    "start_time": "2022-01-17T19:05:03.187Z"
   },
   {
    "duration": 51,
    "start_time": "2022-01-17T19:05:03.223Z"
   },
   {
    "duration": 28,
    "start_time": "2022-01-17T19:05:03.277Z"
   },
   {
    "duration": 53,
    "start_time": "2022-01-17T19:05:03.308Z"
   },
   {
    "duration": 31,
    "start_time": "2022-01-17T19:05:03.364Z"
   },
   {
    "duration": 12,
    "start_time": "2022-01-17T19:05:03.397Z"
   },
   {
    "duration": 49,
    "start_time": "2022-01-17T19:05:03.411Z"
   },
   {
    "duration": 14,
    "start_time": "2022-01-17T19:05:03.463Z"
   },
   {
    "duration": 7,
    "start_time": "2022-01-17T19:05:03.479Z"
   },
   {
    "duration": 36,
    "start_time": "2022-01-17T19:05:03.488Z"
   },
   {
    "duration": 50,
    "start_time": "2022-01-17T19:05:03.527Z"
   },
   {
    "duration": 30,
    "start_time": "2022-01-17T19:05:03.579Z"
   },
   {
    "duration": 52,
    "start_time": "2022-01-17T19:05:03.611Z"
   },
   {
    "duration": 62,
    "start_time": "2022-01-17T19:05:03.665Z"
   },
   {
    "duration": 33,
    "start_time": "2022-01-17T19:05:03.729Z"
   },
   {
    "duration": 4,
    "start_time": "2022-01-17T19:05:03.765Z"
   },
   {
    "duration": 7,
    "start_time": "2022-01-17T19:05:03.771Z"
   },
   {
    "duration": 367,
    "start_time": "2022-01-17T19:05:35.829Z"
   },
   {
    "duration": 746,
    "start_time": "2022-01-17T19:05:49.292Z"
   },
   {
    "duration": 197,
    "start_time": "2022-01-17T19:05:50.041Z"
   },
   {
    "duration": 32,
    "start_time": "2022-01-17T19:05:50.241Z"
   },
   {
    "duration": 33,
    "start_time": "2022-01-17T19:05:50.277Z"
   },
   {
    "duration": 5,
    "start_time": "2022-01-17T19:05:50.312Z"
   },
   {
    "duration": 61,
    "start_time": "2022-01-17T19:05:50.320Z"
   },
   {
    "duration": 6,
    "start_time": "2022-01-17T19:05:50.384Z"
   },
   {
    "duration": 31,
    "start_time": "2022-01-17T19:05:50.393Z"
   },
   {
    "duration": 50,
    "start_time": "2022-01-17T19:05:50.427Z"
   },
   {
    "duration": 30,
    "start_time": "2022-01-17T19:05:50.480Z"
   },
   {
    "duration": 115,
    "start_time": "2022-01-17T19:05:50.512Z"
   },
   {
    "duration": 120,
    "start_time": "2022-01-17T19:05:50.630Z"
   },
   {
    "duration": 79,
    "start_time": "2022-01-17T19:05:50.753Z"
   },
   {
    "duration": 26,
    "start_time": "2022-01-17T19:05:50.835Z"
   },
   {
    "duration": 4,
    "start_time": "2022-01-17T19:05:50.863Z"
   },
   {
    "duration": 26,
    "start_time": "2022-01-17T19:05:50.869Z"
   },
   {
    "duration": 9,
    "start_time": "2022-01-17T19:05:50.897Z"
   },
   {
    "duration": 52,
    "start_time": "2022-01-17T19:05:50.909Z"
   },
   {
    "duration": 16,
    "start_time": "2022-01-17T19:05:50.963Z"
   },
   {
    "duration": 6,
    "start_time": "2022-01-17T19:05:50.982Z"
   },
   {
    "duration": 70,
    "start_time": "2022-01-17T19:05:50.990Z"
   },
   {
    "duration": 34,
    "start_time": "2022-01-17T19:05:51.063Z"
   },
   {
    "duration": 32,
    "start_time": "2022-01-17T19:05:51.102Z"
   },
   {
    "duration": 31,
    "start_time": "2022-01-17T19:05:51.160Z"
   },
   {
    "duration": 39,
    "start_time": "2022-01-17T19:05:51.193Z"
   },
   {
    "duration": 62,
    "start_time": "2022-01-17T19:05:51.234Z"
   },
   {
    "duration": 13,
    "start_time": "2022-01-17T19:05:51.299Z"
   },
   {
    "duration": 46,
    "start_time": "2022-01-17T19:05:51.314Z"
   },
   {
    "duration": 12,
    "start_time": "2022-01-17T19:05:51.363Z"
   },
   {
    "duration": 6,
    "start_time": "2022-01-17T19:05:51.378Z"
   },
   {
    "duration": 45,
    "start_time": "2022-01-17T19:05:51.387Z"
   },
   {
    "duration": 54,
    "start_time": "2022-01-17T19:05:51.434Z"
   },
   {
    "duration": 41,
    "start_time": "2022-01-17T19:05:51.491Z"
   },
   {
    "duration": 57,
    "start_time": "2022-01-17T19:05:51.535Z"
   },
   {
    "duration": 421,
    "start_time": "2022-01-17T19:05:51.595Z"
   },
   {
    "duration": -45,
    "start_time": "2022-01-17T19:05:52.065Z"
   },
   {
    "duration": -52,
    "start_time": "2022-01-17T19:05:52.074Z"
   },
   {
    "duration": -55,
    "start_time": "2022-01-17T19:05:52.079Z"
   },
   {
    "duration": 307,
    "start_time": "2022-01-17T19:06:13.543Z"
   },
   {
    "duration": 294,
    "start_time": "2022-01-17T19:06:47.852Z"
   },
   {
    "duration": 3,
    "start_time": "2022-01-17T19:07:10.049Z"
   },
   {
    "duration": 219,
    "start_time": "2022-01-17T19:07:10.055Z"
   },
   {
    "duration": 16,
    "start_time": "2022-01-17T19:07:10.277Z"
   },
   {
    "duration": 33,
    "start_time": "2022-01-17T19:07:10.296Z"
   },
   {
    "duration": 28,
    "start_time": "2022-01-17T19:07:10.332Z"
   },
   {
    "duration": 21,
    "start_time": "2022-01-17T19:07:10.363Z"
   },
   {
    "duration": 7,
    "start_time": "2022-01-17T19:07:10.387Z"
   },
   {
    "duration": 69,
    "start_time": "2022-01-17T19:07:10.397Z"
   },
   {
    "duration": 22,
    "start_time": "2022-01-17T19:07:10.471Z"
   },
   {
    "duration": 30,
    "start_time": "2022-01-17T19:07:10.497Z"
   },
   {
    "duration": 105,
    "start_time": "2022-01-17T19:07:10.530Z"
   },
   {
    "duration": 107,
    "start_time": "2022-01-17T19:07:10.637Z"
   },
   {
    "duration": 83,
    "start_time": "2022-01-17T19:07:10.746Z"
   },
   {
    "duration": 29,
    "start_time": "2022-01-17T19:07:10.832Z"
   },
   {
    "duration": 5,
    "start_time": "2022-01-17T19:07:10.864Z"
   },
   {
    "duration": 24,
    "start_time": "2022-01-17T19:07:10.872Z"
   },
   {
    "duration": 11,
    "start_time": "2022-01-17T19:07:10.899Z"
   },
   {
    "duration": 59,
    "start_time": "2022-01-17T19:07:10.913Z"
   },
   {
    "duration": 16,
    "start_time": "2022-01-17T19:07:10.975Z"
   },
   {
    "duration": 5,
    "start_time": "2022-01-17T19:07:10.994Z"
   },
   {
    "duration": 92,
    "start_time": "2022-01-17T19:07:11.002Z"
   },
   {
    "duration": 34,
    "start_time": "2022-01-17T19:07:11.097Z"
   },
   {
    "duration": 50,
    "start_time": "2022-01-17T19:07:11.133Z"
   },
   {
    "duration": 33,
    "start_time": "2022-01-17T19:07:11.185Z"
   },
   {
    "duration": 63,
    "start_time": "2022-01-17T19:07:11.221Z"
   },
   {
    "duration": 34,
    "start_time": "2022-01-17T19:07:11.287Z"
   },
   {
    "duration": 36,
    "start_time": "2022-01-17T19:07:11.325Z"
   },
   {
    "duration": 17,
    "start_time": "2022-01-17T19:07:11.364Z"
   },
   {
    "duration": 13,
    "start_time": "2022-01-17T19:07:11.384Z"
   },
   {
    "duration": 5,
    "start_time": "2022-01-17T19:07:11.399Z"
   },
   {
    "duration": 71,
    "start_time": "2022-01-17T19:07:11.406Z"
   },
   {
    "duration": 23,
    "start_time": "2022-01-17T19:07:11.480Z"
   },
   {
    "duration": 30,
    "start_time": "2022-01-17T19:07:11.505Z"
   },
   {
    "duration": 23,
    "start_time": "2022-01-17T19:07:11.560Z"
   },
   {
    "duration": 1179,
    "start_time": "2022-01-17T19:07:11.586Z"
   },
   {
    "duration": -35,
    "start_time": "2022-01-17T19:07:12.803Z"
   },
   {
    "duration": -51,
    "start_time": "2022-01-17T19:07:12.821Z"
   },
   {
    "duration": -62,
    "start_time": "2022-01-17T19:07:12.833Z"
   },
   {
    "duration": 4,
    "start_time": "2022-01-17T19:08:26.817Z"
   },
   {
    "duration": 381,
    "start_time": "2022-01-17T19:08:30.962Z"
   },
   {
    "duration": 398,
    "start_time": "2022-01-17T19:09:48.210Z"
   },
   {
    "duration": 438,
    "start_time": "2022-01-17T19:09:59.010Z"
   },
   {
    "duration": 339,
    "start_time": "2022-01-17T19:10:55.916Z"
   },
   {
    "duration": 368,
    "start_time": "2022-01-17T19:12:07.114Z"
   },
   {
    "duration": 379,
    "start_time": "2022-01-17T19:12:20.489Z"
   },
   {
    "duration": 44,
    "start_time": "2022-01-17T19:13:55.483Z"
   },
   {
    "duration": 17,
    "start_time": "2022-01-17T19:13:58.264Z"
   },
   {
    "duration": 51,
    "start_time": "2022-01-17T19:14:35.797Z"
   },
   {
    "duration": 18,
    "start_time": "2022-01-17T19:14:39.567Z"
   },
   {
    "duration": 99,
    "start_time": "2022-01-17T19:15:22.113Z"
   },
   {
    "duration": 6,
    "start_time": "2022-01-17T19:15:31.303Z"
   },
   {
    "duration": 6,
    "start_time": "2022-01-17T19:17:50.307Z"
   },
   {
    "duration": 687,
    "start_time": "2022-01-17T19:17:53.162Z"
   },
   {
    "duration": 6,
    "start_time": "2022-01-17T19:18:11.413Z"
   },
   {
    "duration": 25,
    "start_time": "2022-01-17T19:18:14.098Z"
   },
   {
    "duration": 3,
    "start_time": "2022-01-17T19:18:22.526Z"
   },
   {
    "duration": 233,
    "start_time": "2022-01-17T19:18:22.536Z"
   },
   {
    "duration": 16,
    "start_time": "2022-01-17T19:18:22.772Z"
   },
   {
    "duration": 42,
    "start_time": "2022-01-17T19:18:22.791Z"
   },
   {
    "duration": 24,
    "start_time": "2022-01-17T19:18:22.836Z"
   },
   {
    "duration": 32,
    "start_time": "2022-01-17T19:18:22.863Z"
   },
   {
    "duration": 5,
    "start_time": "2022-01-17T19:18:22.897Z"
   },
   {
    "duration": 47,
    "start_time": "2022-01-17T19:18:22.904Z"
   },
   {
    "duration": 22,
    "start_time": "2022-01-17T19:18:22.953Z"
   },
   {
    "duration": 36,
    "start_time": "2022-01-17T19:18:22.979Z"
   },
   {
    "duration": 98,
    "start_time": "2022-01-17T19:18:23.018Z"
   },
   {
    "duration": 106,
    "start_time": "2022-01-17T19:18:23.119Z"
   },
   {
    "duration": 84,
    "start_time": "2022-01-17T19:18:23.227Z"
   },
   {
    "duration": 10,
    "start_time": "2022-01-17T19:18:23.313Z"
   },
   {
    "duration": 12,
    "start_time": "2022-01-17T19:18:23.325Z"
   },
   {
    "duration": 44,
    "start_time": "2022-01-17T19:18:23.339Z"
   },
   {
    "duration": 18,
    "start_time": "2022-01-17T19:18:23.385Z"
   },
   {
    "duration": 19,
    "start_time": "2022-01-17T19:18:23.405Z"
   },
   {
    "duration": 41,
    "start_time": "2022-01-17T19:18:23.427Z"
   },
   {
    "duration": 5,
    "start_time": "2022-01-17T19:18:23.470Z"
   },
   {
    "duration": 55,
    "start_time": "2022-01-17T19:18:23.477Z"
   },
   {
    "duration": 39,
    "start_time": "2022-01-17T19:18:23.535Z"
   },
   {
    "duration": 29,
    "start_time": "2022-01-17T19:18:23.576Z"
   },
   {
    "duration": 52,
    "start_time": "2022-01-17T19:18:23.607Z"
   },
   {
    "duration": 36,
    "start_time": "2022-01-17T19:18:23.661Z"
   },
   {
    "duration": 33,
    "start_time": "2022-01-17T19:18:23.699Z"
   },
   {
    "duration": 33,
    "start_time": "2022-01-17T19:18:23.734Z"
   },
   {
    "duration": 27,
    "start_time": "2022-01-17T19:18:23.772Z"
   },
   {
    "duration": 14,
    "start_time": "2022-01-17T19:18:23.802Z"
   },
   {
    "duration": 8,
    "start_time": "2022-01-17T19:18:23.819Z"
   },
   {
    "duration": 47,
    "start_time": "2022-01-17T19:18:23.829Z"
   },
   {
    "duration": 19,
    "start_time": "2022-01-17T19:18:23.879Z"
   },
   {
    "duration": 23,
    "start_time": "2022-01-17T19:18:23.901Z"
   },
   {
    "duration": 47,
    "start_time": "2022-01-17T19:18:23.927Z"
   },
   {
    "duration": 48,
    "start_time": "2022-01-17T19:18:23.976Z"
   },
   {
    "duration": 6,
    "start_time": "2022-01-17T19:18:24.027Z"
   },
   {
    "duration": 27,
    "start_time": "2022-01-17T19:18:24.035Z"
   },
   {
    "duration": 22,
    "start_time": "2022-01-17T19:18:24.065Z"
   },
   {
    "duration": 329,
    "start_time": "2022-01-17T19:18:59.768Z"
   },
   {
    "duration": 304,
    "start_time": "2022-01-17T19:19:07.978Z"
   },
   {
    "duration": 24,
    "start_time": "2022-01-17T19:19:15.899Z"
   },
   {
    "duration": 436,
    "start_time": "2022-01-17T19:21:20.406Z"
   },
   {
    "duration": 317,
    "start_time": "2022-01-17T19:21:33.266Z"
   },
   {
    "duration": 4,
    "start_time": "2022-01-17T19:23:57.270Z"
   },
   {
    "duration": 225,
    "start_time": "2022-01-17T19:23:57.277Z"
   },
   {
    "duration": 23,
    "start_time": "2022-01-17T19:23:57.505Z"
   },
   {
    "duration": 65,
    "start_time": "2022-01-17T19:23:57.532Z"
   },
   {
    "duration": 6,
    "start_time": "2022-01-17T19:23:57.600Z"
   },
   {
    "duration": 51,
    "start_time": "2022-01-17T19:23:57.609Z"
   },
   {
    "duration": 6,
    "start_time": "2022-01-17T19:23:57.663Z"
   },
   {
    "duration": 52,
    "start_time": "2022-01-17T19:23:57.673Z"
   },
   {
    "duration": 44,
    "start_time": "2022-01-17T19:23:57.729Z"
   },
   {
    "duration": 43,
    "start_time": "2022-01-17T19:23:57.776Z"
   },
   {
    "duration": 115,
    "start_time": "2022-01-17T19:23:57.822Z"
   },
   {
    "duration": 105,
    "start_time": "2022-01-17T19:23:57.940Z"
   },
   {
    "duration": 91,
    "start_time": "2022-01-17T19:23:58.047Z"
   },
   {
    "duration": 22,
    "start_time": "2022-01-17T19:23:58.141Z"
   },
   {
    "duration": 5,
    "start_time": "2022-01-17T19:23:58.166Z"
   },
   {
    "duration": 23,
    "start_time": "2022-01-17T19:23:58.174Z"
   },
   {
    "duration": 10,
    "start_time": "2022-01-17T19:23:58.200Z"
   },
   {
    "duration": 57,
    "start_time": "2022-01-17T19:23:58.213Z"
   },
   {
    "duration": 14,
    "start_time": "2022-01-17T19:23:58.273Z"
   },
   {
    "duration": 4,
    "start_time": "2022-01-17T19:23:58.290Z"
   },
   {
    "duration": 75,
    "start_time": "2022-01-17T19:23:58.297Z"
   },
   {
    "duration": 34,
    "start_time": "2022-01-17T19:23:58.376Z"
   },
   {
    "duration": 64,
    "start_time": "2022-01-17T19:23:58.416Z"
   },
   {
    "duration": 31,
    "start_time": "2022-01-17T19:23:58.484Z"
   },
   {
    "duration": 62,
    "start_time": "2022-01-17T19:23:58.518Z"
   },
   {
    "duration": 34,
    "start_time": "2022-01-17T19:23:58.583Z"
   },
   {
    "duration": 39,
    "start_time": "2022-01-17T19:23:58.620Z"
   },
   {
    "duration": 15,
    "start_time": "2022-01-17T19:23:58.663Z"
   },
   {
    "duration": 14,
    "start_time": "2022-01-17T19:23:58.680Z"
   },
   {
    "duration": 7,
    "start_time": "2022-01-17T19:23:58.697Z"
   },
   {
    "duration": 65,
    "start_time": "2022-01-17T19:23:58.707Z"
   },
   {
    "duration": 18,
    "start_time": "2022-01-17T19:23:58.775Z"
   },
   {
    "duration": 22,
    "start_time": "2022-01-17T19:23:58.795Z"
   },
   {
    "duration": 48,
    "start_time": "2022-01-17T19:23:58.819Z"
   },
   {
    "duration": 405,
    "start_time": "2022-01-17T19:23:58.869Z"
   },
   {
    "duration": -24,
    "start_time": "2022-01-17T19:23:59.300Z"
   },
   {
    "duration": -26,
    "start_time": "2022-01-17T19:23:59.303Z"
   },
   {
    "duration": -27,
    "start_time": "2022-01-17T19:23:59.306Z"
   },
   {
    "duration": 50,
    "start_time": "2022-01-17T19:24:48.365Z"
   },
   {
    "duration": 112,
    "start_time": "2022-01-17T19:24:51.311Z"
   },
   {
    "duration": 18,
    "start_time": "2022-01-17T19:24:58.344Z"
   },
   {
    "duration": 25,
    "start_time": "2022-01-17T19:25:10.382Z"
   },
   {
    "duration": 16,
    "start_time": "2022-01-17T19:25:15.139Z"
   },
   {
    "duration": 13,
    "start_time": "2022-01-17T19:25:17.025Z"
   },
   {
    "duration": 51,
    "start_time": "2022-01-17T19:25:21.389Z"
   },
   {
    "duration": 401,
    "start_time": "2022-01-17T19:25:28.252Z"
   },
   {
    "duration": 17,
    "start_time": "2022-01-17T19:27:27.274Z"
   },
   {
    "duration": 22,
    "start_time": "2022-01-17T19:29:42.685Z"
   },
   {
    "duration": 317,
    "start_time": "2022-01-17T19:29:57.969Z"
   },
   {
    "duration": 6,
    "start_time": "2022-01-17T19:30:14.001Z"
   },
   {
    "duration": 26,
    "start_time": "2022-01-17T19:30:16.449Z"
   },
   {
    "duration": 6,
    "start_time": "2022-01-17T19:30:45.297Z"
   },
   {
    "duration": 25,
    "start_time": "2022-01-17T19:30:47.937Z"
   },
   {
    "duration": 6,
    "start_time": "2022-01-17T19:31:09.454Z"
   },
   {
    "duration": 741,
    "start_time": "2022-01-17T19:31:11.287Z"
   },
   {
    "duration": 6,
    "start_time": "2022-01-17T19:31:29.130Z"
   },
   {
    "duration": 25,
    "start_time": "2022-01-17T19:31:31.255Z"
   },
   {
    "duration": 316,
    "start_time": "2022-01-17T19:32:06.232Z"
   },
   {
    "duration": 368,
    "start_time": "2022-01-17T19:32:37.997Z"
   },
   {
    "duration": 403,
    "start_time": "2022-01-17T19:32:46.658Z"
   },
   {
    "duration": 425,
    "start_time": "2022-01-17T19:32:55.024Z"
   },
   {
    "duration": 70,
    "start_time": "2022-01-17T19:33:04.659Z"
   },
   {
    "duration": 17,
    "start_time": "2022-01-17T19:33:08.264Z"
   },
   {
    "duration": 54,
    "start_time": "2022-01-17T19:33:37.062Z"
   },
   {
    "duration": 26,
    "start_time": "2022-01-17T19:33:38.988Z"
   },
   {
    "duration": 6152,
    "start_time": "2022-01-17T19:35:31.679Z"
   },
   {
    "duration": -32,
    "start_time": "2022-01-17T19:35:37.866Z"
   },
   {
    "duration": 11,
    "start_time": "2022-01-17T19:35:46.829Z"
   },
   {
    "duration": 7,
    "start_time": "2022-01-17T19:35:49.623Z"
   },
   {
    "duration": 1406,
    "start_time": "2022-01-17T19:36:00.379Z"
   },
   {
    "duration": 13,
    "start_time": "2022-01-17T19:36:01.960Z"
   },
   {
    "duration": 473,
    "start_time": "2022-01-17T19:36:30.424Z"
   },
   {
    "duration": 15,
    "start_time": "2022-01-17T19:36:48.744Z"
   },
   {
    "duration": 7,
    "start_time": "2022-01-17T19:36:51.888Z"
   },
   {
    "duration": 308,
    "start_time": "2022-01-17T19:43:58.748Z"
   },
   {
    "duration": 10,
    "start_time": "2022-01-17T19:44:17.367Z"
   },
   {
    "duration": 6,
    "start_time": "2022-01-17T19:44:19.242Z"
   },
   {
    "duration": 703,
    "start_time": "2022-01-21T05:53:57.962Z"
   },
   {
    "duration": 168,
    "start_time": "2022-01-21T05:53:58.668Z"
   },
   {
    "duration": 23,
    "start_time": "2022-01-21T05:53:58.839Z"
   },
   {
    "duration": 34,
    "start_time": "2022-01-21T05:53:58.864Z"
   },
   {
    "duration": 5,
    "start_time": "2022-01-21T05:53:58.924Z"
   },
   {
    "duration": 27,
    "start_time": "2022-01-21T05:53:58.931Z"
   },
   {
    "duration": 10,
    "start_time": "2022-01-21T05:53:58.961Z"
   },
   {
    "duration": 55,
    "start_time": "2022-01-21T05:53:58.973Z"
   },
   {
    "duration": 20,
    "start_time": "2022-01-21T05:53:59.032Z"
   },
   {
    "duration": 29,
    "start_time": "2022-01-21T05:53:59.055Z"
   },
   {
    "duration": 99,
    "start_time": "2022-01-21T05:53:59.087Z"
   },
   {
    "duration": 110,
    "start_time": "2022-01-21T05:53:59.189Z"
   },
   {
    "duration": 82,
    "start_time": "2022-01-21T05:53:59.302Z"
   },
   {
    "duration": 8,
    "start_time": "2022-01-21T05:53:59.387Z"
   },
   {
    "duration": 4,
    "start_time": "2022-01-21T05:53:59.397Z"
   },
   {
    "duration": 27,
    "start_time": "2022-01-21T05:53:59.428Z"
   },
   {
    "duration": 13,
    "start_time": "2022-01-21T05:53:59.458Z"
   },
   {
    "duration": 20,
    "start_time": "2022-01-21T05:53:59.474Z"
   },
   {
    "duration": 19,
    "start_time": "2022-01-21T05:53:59.524Z"
   },
   {
    "duration": 6,
    "start_time": "2022-01-21T05:53:59.546Z"
   },
   {
    "duration": 70,
    "start_time": "2022-01-21T05:53:59.555Z"
   },
   {
    "duration": 42,
    "start_time": "2022-01-21T05:53:59.628Z"
   },
   {
    "duration": 53,
    "start_time": "2022-01-21T05:53:59.672Z"
   },
   {
    "duration": 31,
    "start_time": "2022-01-21T05:53:59.727Z"
   },
   {
    "duration": 37,
    "start_time": "2022-01-21T05:53:59.761Z"
   },
   {
    "duration": 33,
    "start_time": "2022-01-21T05:53:59.823Z"
   },
   {
    "duration": 11,
    "start_time": "2022-01-21T05:53:59.861Z"
   },
   {
    "duration": 17,
    "start_time": "2022-01-21T05:53:59.875Z"
   },
   {
    "duration": 12,
    "start_time": "2022-01-21T05:53:59.922Z"
   },
   {
    "duration": 7,
    "start_time": "2022-01-21T05:53:59.937Z"
   },
   {
    "duration": 30,
    "start_time": "2022-01-21T05:53:59.947Z"
   },
   {
    "duration": 55,
    "start_time": "2022-01-21T05:53:59.979Z"
   },
   {
    "duration": 23,
    "start_time": "2022-01-21T05:54:00.037Z"
   },
   {
    "duration": 17,
    "start_time": "2022-01-21T05:54:00.062Z"
   },
   {
    "duration": 44,
    "start_time": "2022-01-21T05:54:00.082Z"
   },
   {
    "duration": 7,
    "start_time": "2022-01-21T05:54:00.128Z"
   },
   {
    "duration": 15,
    "start_time": "2022-01-21T05:54:00.138Z"
   },
   {
    "duration": 16,
    "start_time": "2022-01-21T05:54:00.156Z"
   },
   {
    "duration": 49,
    "start_time": "2022-01-21T12:37:29.670Z"
   },
   {
    "duration": 170,
    "start_time": "2022-01-21T12:40:54.765Z"
   },
   {
    "duration": 129,
    "start_time": "2022-01-21T12:41:09.326Z"
   },
   {
    "duration": 543,
    "start_time": "2022-01-21T12:41:14.324Z"
   },
   {
    "duration": 141,
    "start_time": "2022-01-21T12:41:14.869Z"
   },
   {
    "duration": 19,
    "start_time": "2022-01-21T12:41:15.013Z"
   },
   {
    "duration": 27,
    "start_time": "2022-01-21T12:41:15.034Z"
   },
   {
    "duration": 56,
    "start_time": "2022-01-21T12:41:15.063Z"
   },
   {
    "duration": 305,
    "start_time": "2022-01-21T12:41:14.816Z"
   },
   {
    "duration": 303,
    "start_time": "2022-01-21T12:41:14.819Z"
   },
   {
    "duration": 301,
    "start_time": "2022-01-21T12:41:14.822Z"
   },
   {
    "duration": 300,
    "start_time": "2022-01-21T12:41:14.824Z"
   },
   {
    "duration": 298,
    "start_time": "2022-01-21T12:41:14.827Z"
   },
   {
    "duration": 297,
    "start_time": "2022-01-21T12:41:14.829Z"
   },
   {
    "duration": 295,
    "start_time": "2022-01-21T12:41:14.832Z"
   },
   {
    "duration": 294,
    "start_time": "2022-01-21T12:41:14.834Z"
   },
   {
    "duration": 282,
    "start_time": "2022-01-21T12:41:14.847Z"
   },
   {
    "duration": 281,
    "start_time": "2022-01-21T12:41:14.849Z"
   },
   {
    "duration": 280,
    "start_time": "2022-01-21T12:41:14.851Z"
   },
   {
    "duration": 279,
    "start_time": "2022-01-21T12:41:14.853Z"
   },
   {
    "duration": 270,
    "start_time": "2022-01-21T12:41:14.863Z"
   },
   {
    "duration": 269,
    "start_time": "2022-01-21T12:41:14.865Z"
   },
   {
    "duration": 268,
    "start_time": "2022-01-21T12:41:14.867Z"
   },
   {
    "duration": 268,
    "start_time": "2022-01-21T12:41:14.869Z"
   },
   {
    "duration": 267,
    "start_time": "2022-01-21T12:41:14.871Z"
   },
   {
    "duration": 267,
    "start_time": "2022-01-21T12:41:14.872Z"
   },
   {
    "duration": 266,
    "start_time": "2022-01-21T12:41:14.874Z"
   },
   {
    "duration": 260,
    "start_time": "2022-01-21T12:41:14.881Z"
   },
   {
    "duration": 259,
    "start_time": "2022-01-21T12:41:14.883Z"
   },
   {
    "duration": 258,
    "start_time": "2022-01-21T12:41:14.885Z"
   },
   {
    "duration": 257,
    "start_time": "2022-01-21T12:41:14.887Z"
   },
   {
    "duration": 257,
    "start_time": "2022-01-21T12:41:14.888Z"
   },
   {
    "duration": 256,
    "start_time": "2022-01-21T12:41:14.890Z"
   },
   {
    "duration": 255,
    "start_time": "2022-01-21T12:41:14.892Z"
   },
   {
    "duration": 254,
    "start_time": "2022-01-21T12:41:14.894Z"
   },
   {
    "duration": 255,
    "start_time": "2022-01-21T12:41:14.895Z"
   },
   {
    "duration": 249,
    "start_time": "2022-01-21T12:41:14.902Z"
   },
   {
    "duration": 248,
    "start_time": "2022-01-21T12:41:14.904Z"
   },
   {
    "duration": 243,
    "start_time": "2022-01-21T12:41:14.910Z"
   },
   {
    "duration": 242,
    "start_time": "2022-01-21T12:41:14.912Z"
   },
   {
    "duration": 241,
    "start_time": "2022-01-21T12:41:14.914Z"
   },
   {
    "duration": 240,
    "start_time": "2022-01-21T12:41:14.916Z"
   },
   {
    "duration": 60,
    "start_time": "2022-01-21T12:41:28.080Z"
   },
   {
    "duration": 279,
    "start_time": "2022-01-21T12:42:08.691Z"
   },
   {
    "duration": 640,
    "start_time": "2022-01-21T12:42:25.966Z"
   },
   {
    "duration": 44,
    "start_time": "2022-01-21T12:43:21.209Z"
   },
   {
    "duration": 46,
    "start_time": "2022-01-21T12:44:02.538Z"
   },
   {
    "duration": 41,
    "start_time": "2022-01-21T12:48:55.167Z"
   },
   {
    "duration": 1465,
    "start_time": "2022-01-21T18:02:03.661Z"
   },
   {
    "duration": 403,
    "start_time": "2022-01-21T18:02:05.129Z"
   },
   {
    "duration": 24,
    "start_time": "2022-01-21T18:02:05.536Z"
   },
   {
    "duration": 89,
    "start_time": "2022-01-21T18:02:05.563Z"
   },
   {
    "duration": 6,
    "start_time": "2022-01-21T18:02:05.654Z"
   },
   {
    "duration": 81,
    "start_time": "2022-01-21T18:02:05.662Z"
   },
   {
    "duration": 78,
    "start_time": "2022-01-21T18:02:05.746Z"
   },
   {
    "duration": 38,
    "start_time": "2022-01-21T18:02:05.828Z"
   },
   {
    "duration": 24,
    "start_time": "2022-01-21T18:02:05.924Z"
   },
   {
    "duration": 80,
    "start_time": "2022-01-21T18:02:05.950Z"
   },
   {
    "duration": 191,
    "start_time": "2022-01-21T18:02:06.033Z"
   },
   {
    "duration": 196,
    "start_time": "2022-01-21T18:02:06.227Z"
   },
   {
    "duration": 129,
    "start_time": "2022-01-21T18:02:06.426Z"
   },
   {
    "duration": 168,
    "start_time": "2022-01-21T18:02:06.557Z"
   },
   {
    "duration": 5,
    "start_time": "2022-01-21T18:02:06.728Z"
   },
   {
    "duration": 87,
    "start_time": "2022-01-21T18:02:06.736Z"
   },
   {
    "duration": 9,
    "start_time": "2022-01-21T18:02:06.825Z"
   },
   {
    "duration": 14,
    "start_time": "2022-01-21T18:02:06.837Z"
   },
   {
    "duration": 79,
    "start_time": "2022-01-21T18:02:06.853Z"
   },
   {
    "duration": 5,
    "start_time": "2022-01-21T18:02:06.935Z"
   },
   {
    "duration": 107,
    "start_time": "2022-01-21T18:02:06.942Z"
   },
   {
    "duration": 84,
    "start_time": "2022-01-21T18:02:07.052Z"
   },
   {
    "duration": 96,
    "start_time": "2022-01-21T18:02:07.141Z"
   },
   {
    "duration": 25,
    "start_time": "2022-01-21T18:02:07.239Z"
   },
   {
    "duration": 33,
    "start_time": "2022-01-21T18:02:07.322Z"
   },
   {
    "duration": 88,
    "start_time": "2022-01-21T18:02:07.358Z"
   },
   {
    "duration": 11,
    "start_time": "2022-01-21T18:02:07.448Z"
   },
   {
    "duration": 14,
    "start_time": "2022-01-21T18:02:07.524Z"
   },
   {
    "duration": 12,
    "start_time": "2022-01-21T18:02:07.541Z"
   },
   {
    "duration": 86,
    "start_time": "2022-01-21T18:02:07.556Z"
   },
   {
    "duration": 81,
    "start_time": "2022-01-21T18:02:07.645Z"
   },
   {
    "duration": 18,
    "start_time": "2022-01-21T18:02:07.729Z"
   },
   {
    "duration": 86,
    "start_time": "2022-01-21T18:02:07.750Z"
   },
   {
    "duration": 16,
    "start_time": "2022-01-21T18:02:07.839Z"
   },
   {
    "duration": 71,
    "start_time": "2022-01-21T18:02:07.857Z"
   },
   {
    "duration": 7,
    "start_time": "2022-01-21T18:02:07.930Z"
   },
   {
    "duration": 13,
    "start_time": "2022-01-21T18:02:07.940Z"
   },
   {
    "duration": 68,
    "start_time": "2022-01-21T18:02:07.956Z"
   },
   {
    "duration": 33,
    "start_time": "2022-01-21T18:02:45.815Z"
   }
  ],
  "colab": {
   "collapsed_sections": [
    "E0vqbgi9ay0H",
    "VUC88oWjTJw2"
   ],
   "name": "yandex_music_project_2021.2.ipynb",
   "provenance": []
  },
  "kernelspec": {
   "display_name": "Python 3 (ipykernel)",
   "language": "python",
   "name": "python3"
  },
  "language_info": {
   "codemirror_mode": {
    "name": "ipython",
    "version": 3
   },
   "file_extension": ".py",
   "mimetype": "text/x-python",
   "name": "python",
   "nbconvert_exporter": "python",
   "pygments_lexer": "ipython3",
   "version": "3.9.15"
  },
  "toc": {
   "base_numbering": 1,
   "nav_menu": {},
   "number_sections": true,
   "sideBar": true,
   "skip_h1_title": true,
   "title_cell": "Table of Contents",
   "title_sidebar": "Contents",
   "toc_cell": false,
   "toc_position": {},
   "toc_section_display": true,
   "toc_window_display": true
  }
 },
 "nbformat": 4,
 "nbformat_minor": 1
}
