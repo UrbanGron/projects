{
 "cells": [
  {
   "cell_type": "markdown",
   "id": "d341c50f",
   "metadata": {},
   "source": [
    "# Исследование надежности заемщиков."
   ]
  },
  {
   "cell_type": "markdown",
   "id": "2a65a7f8",
   "metadata": {},
   "source": [
    "# Введение\n",
    "## Цели проекта\n",
    "1. Определить влияние наличие детей, семейного положения, дохода на возврат крелита в срок "
   ]
  },
  {
   "cell_type": "markdown",
   "id": "07261d16",
   "metadata": {},
   "source": [
    "### Шаг 1. Обзор данных"
   ]
  },
  {
   "cell_type": "code",
   "execution_count": 69,
   "id": "f42db824",
   "metadata": {},
   "outputs": [],
   "source": [
    "import pandas as pd\n",
    "df = pd.read_csv('/datasets/data.csv')"
   ]
  },
  {
   "cell_type": "code",
   "execution_count": 70,
   "id": "2e61fa00",
   "metadata": {},
   "outputs": [
    {
     "name": "stdout",
     "output_type": "stream",
     "text": [
      "<class 'pandas.core.frame.DataFrame'>\n",
      "RangeIndex: 21525 entries, 0 to 21524\n",
      "Data columns (total 12 columns):\n",
      "children            21525 non-null int64\n",
      "days_employed       19351 non-null float64\n",
      "dob_years           21525 non-null int64\n",
      "education           21525 non-null object\n",
      "education_id        21525 non-null int64\n",
      "family_status       21525 non-null object\n",
      "family_status_id    21525 non-null int64\n",
      "gender              21525 non-null object\n",
      "income_type         21525 non-null object\n",
      "debt                21525 non-null int64\n",
      "total_income        19351 non-null float64\n",
      "purpose             21525 non-null object\n",
      "dtypes: float64(2), int64(5), object(5)\n",
      "memory usage: 2.0+ MB\n"
     ]
    }
   ],
   "source": [
    "df.info() # общая информация "
   ]
  },
  {
   "cell_type": "code",
   "execution_count": 71,
   "id": "ee1e0481",
   "metadata": {},
   "outputs": [
    {
     "data": {
      "text/html": [
       "<div>\n",
       "<style scoped>\n",
       "    .dataframe tbody tr th:only-of-type {\n",
       "        vertical-align: middle;\n",
       "    }\n",
       "\n",
       "    .dataframe tbody tr th {\n",
       "        vertical-align: top;\n",
       "    }\n",
       "\n",
       "    .dataframe thead th {\n",
       "        text-align: right;\n",
       "    }\n",
       "</style>\n",
       "<table border=\"1\" class=\"dataframe\">\n",
       "  <thead>\n",
       "    <tr style=\"text-align: right;\">\n",
       "      <th></th>\n",
       "      <th>children</th>\n",
       "      <th>days_employed</th>\n",
       "      <th>dob_years</th>\n",
       "      <th>education</th>\n",
       "      <th>education_id</th>\n",
       "      <th>family_status</th>\n",
       "      <th>family_status_id</th>\n",
       "      <th>gender</th>\n",
       "      <th>income_type</th>\n",
       "      <th>debt</th>\n",
       "      <th>total_income</th>\n",
       "      <th>purpose</th>\n",
       "    </tr>\n",
       "  </thead>\n",
       "  <tbody>\n",
       "    <tr>\n",
       "      <td>0</td>\n",
       "      <td>1</td>\n",
       "      <td>-8437.673028</td>\n",
       "      <td>42</td>\n",
       "      <td>высшее</td>\n",
       "      <td>0</td>\n",
       "      <td>женат / замужем</td>\n",
       "      <td>0</td>\n",
       "      <td>F</td>\n",
       "      <td>сотрудник</td>\n",
       "      <td>0</td>\n",
       "      <td>253875.639453</td>\n",
       "      <td>покупка жилья</td>\n",
       "    </tr>\n",
       "    <tr>\n",
       "      <td>1</td>\n",
       "      <td>1</td>\n",
       "      <td>-4024.803754</td>\n",
       "      <td>36</td>\n",
       "      <td>среднее</td>\n",
       "      <td>1</td>\n",
       "      <td>женат / замужем</td>\n",
       "      <td>0</td>\n",
       "      <td>F</td>\n",
       "      <td>сотрудник</td>\n",
       "      <td>0</td>\n",
       "      <td>112080.014102</td>\n",
       "      <td>приобретение автомобиля</td>\n",
       "    </tr>\n",
       "    <tr>\n",
       "      <td>2</td>\n",
       "      <td>0</td>\n",
       "      <td>-5623.422610</td>\n",
       "      <td>33</td>\n",
       "      <td>Среднее</td>\n",
       "      <td>1</td>\n",
       "      <td>женат / замужем</td>\n",
       "      <td>0</td>\n",
       "      <td>M</td>\n",
       "      <td>сотрудник</td>\n",
       "      <td>0</td>\n",
       "      <td>145885.952297</td>\n",
       "      <td>покупка жилья</td>\n",
       "    </tr>\n",
       "    <tr>\n",
       "      <td>3</td>\n",
       "      <td>3</td>\n",
       "      <td>-4124.747207</td>\n",
       "      <td>32</td>\n",
       "      <td>среднее</td>\n",
       "      <td>1</td>\n",
       "      <td>женат / замужем</td>\n",
       "      <td>0</td>\n",
       "      <td>M</td>\n",
       "      <td>сотрудник</td>\n",
       "      <td>0</td>\n",
       "      <td>267628.550329</td>\n",
       "      <td>дополнительное образование</td>\n",
       "    </tr>\n",
       "    <tr>\n",
       "      <td>4</td>\n",
       "      <td>0</td>\n",
       "      <td>340266.072047</td>\n",
       "      <td>53</td>\n",
       "      <td>среднее</td>\n",
       "      <td>1</td>\n",
       "      <td>гражданский брак</td>\n",
       "      <td>1</td>\n",
       "      <td>F</td>\n",
       "      <td>пенсионер</td>\n",
       "      <td>0</td>\n",
       "      <td>158616.077870</td>\n",
       "      <td>сыграть свадьбу</td>\n",
       "    </tr>\n",
       "    <tr>\n",
       "      <td>5</td>\n",
       "      <td>0</td>\n",
       "      <td>-926.185831</td>\n",
       "      <td>27</td>\n",
       "      <td>высшее</td>\n",
       "      <td>0</td>\n",
       "      <td>гражданский брак</td>\n",
       "      <td>1</td>\n",
       "      <td>M</td>\n",
       "      <td>компаньон</td>\n",
       "      <td>0</td>\n",
       "      <td>255763.565419</td>\n",
       "      <td>покупка жилья</td>\n",
       "    </tr>\n",
       "    <tr>\n",
       "      <td>6</td>\n",
       "      <td>0</td>\n",
       "      <td>-2879.202052</td>\n",
       "      <td>43</td>\n",
       "      <td>высшее</td>\n",
       "      <td>0</td>\n",
       "      <td>женат / замужем</td>\n",
       "      <td>0</td>\n",
       "      <td>F</td>\n",
       "      <td>компаньон</td>\n",
       "      <td>0</td>\n",
       "      <td>240525.971920</td>\n",
       "      <td>операции с жильем</td>\n",
       "    </tr>\n",
       "    <tr>\n",
       "      <td>7</td>\n",
       "      <td>0</td>\n",
       "      <td>-152.779569</td>\n",
       "      <td>50</td>\n",
       "      <td>СРЕДНЕЕ</td>\n",
       "      <td>1</td>\n",
       "      <td>женат / замужем</td>\n",
       "      <td>0</td>\n",
       "      <td>M</td>\n",
       "      <td>сотрудник</td>\n",
       "      <td>0</td>\n",
       "      <td>135823.934197</td>\n",
       "      <td>образование</td>\n",
       "    </tr>\n",
       "    <tr>\n",
       "      <td>8</td>\n",
       "      <td>2</td>\n",
       "      <td>-6929.865299</td>\n",
       "      <td>35</td>\n",
       "      <td>ВЫСШЕЕ</td>\n",
       "      <td>0</td>\n",
       "      <td>гражданский брак</td>\n",
       "      <td>1</td>\n",
       "      <td>F</td>\n",
       "      <td>сотрудник</td>\n",
       "      <td>0</td>\n",
       "      <td>95856.832424</td>\n",
       "      <td>на проведение свадьбы</td>\n",
       "    </tr>\n",
       "    <tr>\n",
       "      <td>9</td>\n",
       "      <td>0</td>\n",
       "      <td>-2188.756445</td>\n",
       "      <td>41</td>\n",
       "      <td>среднее</td>\n",
       "      <td>1</td>\n",
       "      <td>женат / замужем</td>\n",
       "      <td>0</td>\n",
       "      <td>M</td>\n",
       "      <td>сотрудник</td>\n",
       "      <td>0</td>\n",
       "      <td>144425.938277</td>\n",
       "      <td>покупка жилья для семьи</td>\n",
       "    </tr>\n",
       "  </tbody>\n",
       "</table>\n",
       "</div>"
      ],
      "text/plain": [
       "   children  days_employed  dob_years education  education_id  \\\n",
       "0         1   -8437.673028         42    высшее             0   \n",
       "1         1   -4024.803754         36   среднее             1   \n",
       "2         0   -5623.422610         33   Среднее             1   \n",
       "3         3   -4124.747207         32   среднее             1   \n",
       "4         0  340266.072047         53   среднее             1   \n",
       "5         0    -926.185831         27    высшее             0   \n",
       "6         0   -2879.202052         43    высшее             0   \n",
       "7         0    -152.779569         50   СРЕДНЕЕ             1   \n",
       "8         2   -6929.865299         35    ВЫСШЕЕ             0   \n",
       "9         0   -2188.756445         41   среднее             1   \n",
       "\n",
       "      family_status  family_status_id gender income_type  debt   total_income  \\\n",
       "0   женат / замужем                 0      F   сотрудник     0  253875.639453   \n",
       "1   женат / замужем                 0      F   сотрудник     0  112080.014102   \n",
       "2   женат / замужем                 0      M   сотрудник     0  145885.952297   \n",
       "3   женат / замужем                 0      M   сотрудник     0  267628.550329   \n",
       "4  гражданский брак                 1      F   пенсионер     0  158616.077870   \n",
       "5  гражданский брак                 1      M   компаньон     0  255763.565419   \n",
       "6   женат / замужем                 0      F   компаньон     0  240525.971920   \n",
       "7   женат / замужем                 0      M   сотрудник     0  135823.934197   \n",
       "8  гражданский брак                 1      F   сотрудник     0   95856.832424   \n",
       "9   женат / замужем                 0      M   сотрудник     0  144425.938277   \n",
       "\n",
       "                      purpose  \n",
       "0               покупка жилья  \n",
       "1     приобретение автомобиля  \n",
       "2               покупка жилья  \n",
       "3  дополнительное образование  \n",
       "4             сыграть свадьбу  \n",
       "5               покупка жилья  \n",
       "6           операции с жильем  \n",
       "7                 образование  \n",
       "8       на проведение свадьбы  \n",
       "9     покупка жилья для семьи  "
      ]
     },
     "execution_count": 71,
     "metadata": {},
     "output_type": "execute_result"
    }
   ],
   "source": [
    "df.head(10) # первые 10 строк датафрейма "
   ]
  },
  {
   "cell_type": "markdown",
   "id": "fcdcc419",
   "metadata": {},
   "source": [
    "### Шаг 2.1 Заполнение пропусков"
   ]
  },
  {
   "cell_type": "code",
   "execution_count": 72,
   "id": "f2971dce",
   "metadata": {},
   "outputs": [
    {
     "data": {
      "text/plain": [
       "children               0\n",
       "days_employed       2174\n",
       "dob_years              0\n",
       "education              0\n",
       "education_id           0\n",
       "family_status          0\n",
       "family_status_id       0\n",
       "gender                 0\n",
       "income_type            0\n",
       "debt                   0\n",
       "total_income        2174\n",
       "purpose                0\n",
       "dtype: int64"
      ]
     },
     "execution_count": 72,
     "metadata": {},
     "output_type": "execute_result"
    }
   ],
   "source": [
    "df.isna().sum()# подсчет пропусковb"
   ]
  },
  {
   "cell_type": "code",
   "execution_count": 73,
   "id": "b571adab",
   "metadata": {},
   "outputs": [
    {
     "data": {
      "text/html": [
       "<div>\n",
       "<style scoped>\n",
       "    .dataframe tbody tr th:only-of-type {\n",
       "        vertical-align: middle;\n",
       "    }\n",
       "\n",
       "    .dataframe tbody tr th {\n",
       "        vertical-align: top;\n",
       "    }\n",
       "\n",
       "    .dataframe thead th {\n",
       "        text-align: right;\n",
       "    }\n",
       "</style>\n",
       "<table border=\"1\" class=\"dataframe\">\n",
       "  <thead>\n",
       "    <tr style=\"text-align: right;\">\n",
       "      <th></th>\n",
       "      <th>children</th>\n",
       "      <th>days_employed</th>\n",
       "      <th>dob_years</th>\n",
       "      <th>education_id</th>\n",
       "      <th>family_status_id</th>\n",
       "      <th>debt</th>\n",
       "      <th>total_income</th>\n",
       "    </tr>\n",
       "  </thead>\n",
       "  <tbody>\n",
       "    <tr>\n",
       "      <td>count</td>\n",
       "      <td>21525.000000</td>\n",
       "      <td>19351.000000</td>\n",
       "      <td>21525.000000</td>\n",
       "      <td>21525.000000</td>\n",
       "      <td>21525.000000</td>\n",
       "      <td>21525.000000</td>\n",
       "      <td>1.935100e+04</td>\n",
       "    </tr>\n",
       "    <tr>\n",
       "      <td>mean</td>\n",
       "      <td>0.538908</td>\n",
       "      <td>63046.497661</td>\n",
       "      <td>43.293380</td>\n",
       "      <td>0.817236</td>\n",
       "      <td>0.972544</td>\n",
       "      <td>0.080883</td>\n",
       "      <td>1.674223e+05</td>\n",
       "    </tr>\n",
       "    <tr>\n",
       "      <td>std</td>\n",
       "      <td>1.381587</td>\n",
       "      <td>140827.311974</td>\n",
       "      <td>12.574584</td>\n",
       "      <td>0.548138</td>\n",
       "      <td>1.420324</td>\n",
       "      <td>0.272661</td>\n",
       "      <td>1.029716e+05</td>\n",
       "    </tr>\n",
       "    <tr>\n",
       "      <td>min</td>\n",
       "      <td>-1.000000</td>\n",
       "      <td>-18388.949901</td>\n",
       "      <td>0.000000</td>\n",
       "      <td>0.000000</td>\n",
       "      <td>0.000000</td>\n",
       "      <td>0.000000</td>\n",
       "      <td>2.066726e+04</td>\n",
       "    </tr>\n",
       "    <tr>\n",
       "      <td>25%</td>\n",
       "      <td>0.000000</td>\n",
       "      <td>-2747.423625</td>\n",
       "      <td>33.000000</td>\n",
       "      <td>1.000000</td>\n",
       "      <td>0.000000</td>\n",
       "      <td>0.000000</td>\n",
       "      <td>1.030532e+05</td>\n",
       "    </tr>\n",
       "    <tr>\n",
       "      <td>50%</td>\n",
       "      <td>0.000000</td>\n",
       "      <td>-1203.369529</td>\n",
       "      <td>42.000000</td>\n",
       "      <td>1.000000</td>\n",
       "      <td>0.000000</td>\n",
       "      <td>0.000000</td>\n",
       "      <td>1.450179e+05</td>\n",
       "    </tr>\n",
       "    <tr>\n",
       "      <td>75%</td>\n",
       "      <td>1.000000</td>\n",
       "      <td>-291.095954</td>\n",
       "      <td>53.000000</td>\n",
       "      <td>1.000000</td>\n",
       "      <td>1.000000</td>\n",
       "      <td>0.000000</td>\n",
       "      <td>2.034351e+05</td>\n",
       "    </tr>\n",
       "    <tr>\n",
       "      <td>max</td>\n",
       "      <td>20.000000</td>\n",
       "      <td>401755.400475</td>\n",
       "      <td>75.000000</td>\n",
       "      <td>4.000000</td>\n",
       "      <td>4.000000</td>\n",
       "      <td>1.000000</td>\n",
       "      <td>2.265604e+06</td>\n",
       "    </tr>\n",
       "  </tbody>\n",
       "</table>\n",
       "</div>"
      ],
      "text/plain": [
       "           children  days_employed     dob_years  education_id  \\\n",
       "count  21525.000000   19351.000000  21525.000000  21525.000000   \n",
       "mean       0.538908   63046.497661     43.293380      0.817236   \n",
       "std        1.381587  140827.311974     12.574584      0.548138   \n",
       "min       -1.000000  -18388.949901      0.000000      0.000000   \n",
       "25%        0.000000   -2747.423625     33.000000      1.000000   \n",
       "50%        0.000000   -1203.369529     42.000000      1.000000   \n",
       "75%        1.000000    -291.095954     53.000000      1.000000   \n",
       "max       20.000000  401755.400475     75.000000      4.000000   \n",
       "\n",
       "       family_status_id          debt  total_income  \n",
       "count      21525.000000  21525.000000  1.935100e+04  \n",
       "mean           0.972544      0.080883  1.674223e+05  \n",
       "std            1.420324      0.272661  1.029716e+05  \n",
       "min            0.000000      0.000000  2.066726e+04  \n",
       "25%            0.000000      0.000000  1.030532e+05  \n",
       "50%            0.000000      0.000000  1.450179e+05  \n",
       "75%            1.000000      0.000000  2.034351e+05  \n",
       "max            4.000000      1.000000  2.265604e+06  "
      ]
     },
     "execution_count": 73,
     "metadata": {},
     "output_type": "execute_result"
    }
   ],
   "source": [
    "df.describe() # заранее посмотрим на аномалии в данных "
   ]
  },
  {
   "cell_type": "code",
   "execution_count": 74,
   "id": "f379518b",
   "metadata": {},
   "outputs": [
    {
     "data": {
      "text/html": [
       "<div>\n",
       "<style scoped>\n",
       "    .dataframe tbody tr th:only-of-type {\n",
       "        vertical-align: middle;\n",
       "    }\n",
       "\n",
       "    .dataframe tbody tr th {\n",
       "        vertical-align: top;\n",
       "    }\n",
       "\n",
       "    .dataframe thead th {\n",
       "        text-align: right;\n",
       "    }\n",
       "</style>\n",
       "<table border=\"1\" class=\"dataframe\">\n",
       "  <thead>\n",
       "    <tr style=\"text-align: right;\">\n",
       "      <th></th>\n",
       "      <th>count</th>\n",
       "      <th>mean</th>\n",
       "      <th>std</th>\n",
       "      <th>min</th>\n",
       "      <th>25%</th>\n",
       "      <th>50%</th>\n",
       "      <th>75%</th>\n",
       "      <th>max</th>\n",
       "    </tr>\n",
       "  </thead>\n",
       "  <tbody>\n",
       "    <tr>\n",
       "      <td>children</td>\n",
       "      <td>21525.0</td>\n",
       "      <td>0.538908</td>\n",
       "      <td>1.381587</td>\n",
       "      <td>-1.000000</td>\n",
       "      <td>0.000000</td>\n",
       "      <td>0.000000</td>\n",
       "      <td>1.000000</td>\n",
       "      <td>2.000000e+01</td>\n",
       "    </tr>\n",
       "    <tr>\n",
       "      <td>days_employed</td>\n",
       "      <td>19351.0</td>\n",
       "      <td>63046.497661</td>\n",
       "      <td>140827.311974</td>\n",
       "      <td>-18388.949901</td>\n",
       "      <td>-2747.423625</td>\n",
       "      <td>-1203.369529</td>\n",
       "      <td>-291.095954</td>\n",
       "      <td>4.017554e+05</td>\n",
       "    </tr>\n",
       "    <tr>\n",
       "      <td>dob_years</td>\n",
       "      <td>21525.0</td>\n",
       "      <td>43.293380</td>\n",
       "      <td>12.574584</td>\n",
       "      <td>0.000000</td>\n",
       "      <td>33.000000</td>\n",
       "      <td>42.000000</td>\n",
       "      <td>53.000000</td>\n",
       "      <td>7.500000e+01</td>\n",
       "    </tr>\n",
       "    <tr>\n",
       "      <td>education_id</td>\n",
       "      <td>21525.0</td>\n",
       "      <td>0.817236</td>\n",
       "      <td>0.548138</td>\n",
       "      <td>0.000000</td>\n",
       "      <td>1.000000</td>\n",
       "      <td>1.000000</td>\n",
       "      <td>1.000000</td>\n",
       "      <td>4.000000e+00</td>\n",
       "    </tr>\n",
       "    <tr>\n",
       "      <td>family_status_id</td>\n",
       "      <td>21525.0</td>\n",
       "      <td>0.972544</td>\n",
       "      <td>1.420324</td>\n",
       "      <td>0.000000</td>\n",
       "      <td>0.000000</td>\n",
       "      <td>0.000000</td>\n",
       "      <td>1.000000</td>\n",
       "      <td>4.000000e+00</td>\n",
       "    </tr>\n",
       "    <tr>\n",
       "      <td>debt</td>\n",
       "      <td>21525.0</td>\n",
       "      <td>0.080883</td>\n",
       "      <td>0.272661</td>\n",
       "      <td>0.000000</td>\n",
       "      <td>0.000000</td>\n",
       "      <td>0.000000</td>\n",
       "      <td>0.000000</td>\n",
       "      <td>1.000000e+00</td>\n",
       "    </tr>\n",
       "    <tr>\n",
       "      <td>total_income</td>\n",
       "      <td>19351.0</td>\n",
       "      <td>167422.302208</td>\n",
       "      <td>102971.566448</td>\n",
       "      <td>20667.263793</td>\n",
       "      <td>103053.152913</td>\n",
       "      <td>145017.937533</td>\n",
       "      <td>203435.067663</td>\n",
       "      <td>2.265604e+06</td>\n",
       "    </tr>\n",
       "  </tbody>\n",
       "</table>\n",
       "</div>"
      ],
      "text/plain": [
       "                    count           mean            std           min  \\\n",
       "children          21525.0       0.538908       1.381587     -1.000000   \n",
       "days_employed     19351.0   63046.497661  140827.311974 -18388.949901   \n",
       "dob_years         21525.0      43.293380      12.574584      0.000000   \n",
       "education_id      21525.0       0.817236       0.548138      0.000000   \n",
       "family_status_id  21525.0       0.972544       1.420324      0.000000   \n",
       "debt              21525.0       0.080883       0.272661      0.000000   \n",
       "total_income      19351.0  167422.302208  102971.566448  20667.263793   \n",
       "\n",
       "                            25%            50%            75%           max  \n",
       "children               0.000000       0.000000       1.000000  2.000000e+01  \n",
       "days_employed      -2747.423625   -1203.369529    -291.095954  4.017554e+05  \n",
       "dob_years             33.000000      42.000000      53.000000  7.500000e+01  \n",
       "education_id           1.000000       1.000000       1.000000  4.000000e+00  \n",
       "family_status_id       0.000000       0.000000       1.000000  4.000000e+00  \n",
       "debt                   0.000000       0.000000       0.000000  1.000000e+00  \n",
       "total_income      103053.152913  145017.937533  203435.067663  2.265604e+06  "
      ]
     },
     "execution_count": 74,
     "metadata": {},
     "output_type": "execute_result"
    }
   ],
   "source": [
    "df.describe().T"
   ]
  },
  {
   "cell_type": "code",
   "execution_count": 75,
   "id": "237d3dec",
   "metadata": {
    "scrolled": true
   },
   "outputs": [
    {
     "data": {
      "text/plain": [
       "children            0\n",
       "days_employed       0\n",
       "dob_years           0\n",
       "education           0\n",
       "education_id        0\n",
       "family_status       0\n",
       "family_status_id    0\n",
       "gender              0\n",
       "income_type         0\n",
       "debt                0\n",
       "total_income        0\n",
       "purpose             0\n",
       "dtype: int64"
      ]
     },
     "metadata": {},
     "output_type": "display_data"
    }
   ],
   "source": [
    "df['days_employed'] = pd.to_numeric(df['days_employed'],errors='coerce').abs() # переводим в столбец в численные данные и методом abc убираем отрицательные значения\n",
    "df['total_income'] = pd.to_numeric(df['total_income'],errors='coerce') # то же самое что и с 'days_employed' но в столбце нет отрицательных значений\n",
    "\n",
    "\n",
    "\n",
    "def replace_nan_median(column_name): # функция для замены пропущенных значений на медиану \n",
    "    df[column_name] = df[column_name].fillna(df[column_name].median())\n",
    "\n",
    "\n",
    "replace_nan_median('days_employed') # вызов функции\n",
    "replace_nan_median('total_income') # вызов  функции \n",
    "display(df.isna().sum()) # проверяем заменили ли мы пропуски медианой \n"
   ]
  },
  {
   "cell_type": "markdown",
   "id": "58adb65a",
   "metadata": {},
   "source": [
    "Перевод столбцов в значение int и убираем отрицательные значения \n",
    "Функция replace_nan_median для замены значений на медиану "
   ]
  },
  {
   "cell_type": "markdown",
   "id": "0989e33c",
   "metadata": {},
   "source": [
    "Пропущенные значения имели формат nan \n",
    "пропуски состовляли 10 % \n",
    "Пропуски могли возникнуть по двум причинам:\n",
    "1 - Эти данные просто не указали\n",
    "2 - Ошибка при выгрузке\n",
    "Заполнять пропуски медианой лучше т.к она при сильных отклонениях в данных в ту или иную сторону покажет правельное значение\n",
    "UPD Так как я делал старую версию проекта сначала я уже знал об отрицатильных значениях и убрал их раньше "
   ]
  },
  {
   "cell_type": "markdown",
   "id": "0f5e3aaa",
   "metadata": {},
   "source": [
    "### Шаг 2.2 Проверка данных на аномалии и исправления."
   ]
  },
  {
   "cell_type": "code",
   "execution_count": 76,
   "id": "85ec8fa9",
   "metadata": {},
   "outputs": [
    {
     "data": {
      "text/html": [
       "<div>\n",
       "<style scoped>\n",
       "    .dataframe tbody tr th:only-of-type {\n",
       "        vertical-align: middle;\n",
       "    }\n",
       "\n",
       "    .dataframe tbody tr th {\n",
       "        vertical-align: top;\n",
       "    }\n",
       "\n",
       "    .dataframe thead th {\n",
       "        text-align: right;\n",
       "    }\n",
       "</style>\n",
       "<table border=\"1\" class=\"dataframe\">\n",
       "  <thead>\n",
       "    <tr style=\"text-align: right;\">\n",
       "      <th></th>\n",
       "      <th>children</th>\n",
       "      <th>days_employed</th>\n",
       "      <th>dob_years</th>\n",
       "      <th>education_id</th>\n",
       "      <th>family_status_id</th>\n",
       "      <th>debt</th>\n",
       "      <th>total_income</th>\n",
       "    </tr>\n",
       "  </thead>\n",
       "  <tbody>\n",
       "    <tr>\n",
       "      <td>count</td>\n",
       "      <td>21525.000000</td>\n",
       "      <td>21525.000000</td>\n",
       "      <td>21525.000000</td>\n",
       "      <td>21525.000000</td>\n",
       "      <td>21525.000000</td>\n",
       "      <td>21525.000000</td>\n",
       "      <td>2.152500e+04</td>\n",
       "    </tr>\n",
       "    <tr>\n",
       "      <td>mean</td>\n",
       "      <td>0.538908</td>\n",
       "      <td>60378.032733</td>\n",
       "      <td>43.293380</td>\n",
       "      <td>0.817236</td>\n",
       "      <td>0.972544</td>\n",
       "      <td>0.080883</td>\n",
       "      <td>1.651595e+05</td>\n",
       "    </tr>\n",
       "    <tr>\n",
       "      <td>std</td>\n",
       "      <td>1.381587</td>\n",
       "      <td>133257.558514</td>\n",
       "      <td>12.574584</td>\n",
       "      <td>0.548138</td>\n",
       "      <td>1.420324</td>\n",
       "      <td>0.272661</td>\n",
       "      <td>9.786607e+04</td>\n",
       "    </tr>\n",
       "    <tr>\n",
       "      <td>min</td>\n",
       "      <td>-1.000000</td>\n",
       "      <td>24.141633</td>\n",
       "      <td>0.000000</td>\n",
       "      <td>0.000000</td>\n",
       "      <td>0.000000</td>\n",
       "      <td>0.000000</td>\n",
       "      <td>2.066726e+04</td>\n",
       "    </tr>\n",
       "    <tr>\n",
       "      <td>25%</td>\n",
       "      <td>0.000000</td>\n",
       "      <td>1025.608174</td>\n",
       "      <td>33.000000</td>\n",
       "      <td>1.000000</td>\n",
       "      <td>0.000000</td>\n",
       "      <td>0.000000</td>\n",
       "      <td>1.077982e+05</td>\n",
       "    </tr>\n",
       "    <tr>\n",
       "      <td>50%</td>\n",
       "      <td>0.000000</td>\n",
       "      <td>2194.220567</td>\n",
       "      <td>42.000000</td>\n",
       "      <td>1.000000</td>\n",
       "      <td>0.000000</td>\n",
       "      <td>0.000000</td>\n",
       "      <td>1.450179e+05</td>\n",
       "    </tr>\n",
       "    <tr>\n",
       "      <td>75%</td>\n",
       "      <td>1.000000</td>\n",
       "      <td>4779.587738</td>\n",
       "      <td>53.000000</td>\n",
       "      <td>1.000000</td>\n",
       "      <td>1.000000</td>\n",
       "      <td>0.000000</td>\n",
       "      <td>1.955436e+05</td>\n",
       "    </tr>\n",
       "    <tr>\n",
       "      <td>max</td>\n",
       "      <td>20.000000</td>\n",
       "      <td>401755.400475</td>\n",
       "      <td>75.000000</td>\n",
       "      <td>4.000000</td>\n",
       "      <td>4.000000</td>\n",
       "      <td>1.000000</td>\n",
       "      <td>2.265604e+06</td>\n",
       "    </tr>\n",
       "  </tbody>\n",
       "</table>\n",
       "</div>"
      ],
      "text/plain": [
       "           children  days_employed     dob_years  education_id  \\\n",
       "count  21525.000000   21525.000000  21525.000000  21525.000000   \n",
       "mean       0.538908   60378.032733     43.293380      0.817236   \n",
       "std        1.381587  133257.558514     12.574584      0.548138   \n",
       "min       -1.000000      24.141633      0.000000      0.000000   \n",
       "25%        0.000000    1025.608174     33.000000      1.000000   \n",
       "50%        0.000000    2194.220567     42.000000      1.000000   \n",
       "75%        1.000000    4779.587738     53.000000      1.000000   \n",
       "max       20.000000  401755.400475     75.000000      4.000000   \n",
       "\n",
       "       family_status_id          debt  total_income  \n",
       "count      21525.000000  21525.000000  2.152500e+04  \n",
       "mean           0.972544      0.080883  1.651595e+05  \n",
       "std            1.420324      0.272661  9.786607e+04  \n",
       "min            0.000000      0.000000  2.066726e+04  \n",
       "25%            0.000000      0.000000  1.077982e+05  \n",
       "50%            0.000000      0.000000  1.450179e+05  \n",
       "75%            1.000000      0.000000  1.955436e+05  \n",
       "max            4.000000      1.000000  2.265604e+06  "
      ]
     },
     "metadata": {},
     "output_type": "display_data"
    },
    {
     "name": "stdout",
     "output_type": "stream",
     "text": [
      "<class 'pandas.core.frame.DataFrame'>\n",
      "RangeIndex: 21525 entries, 0 to 21524\n",
      "Data columns (total 12 columns):\n",
      "children            21525 non-null int64\n",
      "days_employed       21525 non-null float64\n",
      "dob_years           21525 non-null int64\n",
      "education           21525 non-null object\n",
      "education_id        21525 non-null int64\n",
      "family_status       21525 non-null object\n",
      "family_status_id    21525 non-null int64\n",
      "gender              21525 non-null object\n",
      "income_type         21525 non-null object\n",
      "debt                21525 non-null int64\n",
      "total_income        21525 non-null float64\n",
      "purpose             21525 non-null object\n",
      "dtypes: float64(2), int64(5), object(5)\n",
      "memory usage: 2.0+ MB\n"
     ]
    },
    {
     "data": {
      "text/plain": [
       "None"
      ]
     },
     "metadata": {},
     "output_type": "display_data"
    }
   ],
   "source": [
    "display(df.describe())\n",
    "display(df.info())"
   ]
  },
  {
   "cell_type": "markdown",
   "id": "35668369",
   "metadata": {},
   "source": [
    "Остались только странные значение в children -1 "
   ]
  },
  {
   "cell_type": "code",
   "execution_count": 77,
   "id": "3a8dce83",
   "metadata": {},
   "outputs": [],
   "source": [
    "df['children'] = df['children'].abs() "
   ]
  },
  {
   "cell_type": "markdown",
   "id": "dc78cca5",
   "metadata": {},
   "source": [
    "еще было замечено отрицательное значение в столбце children исправим это"
   ]
  },
  {
   "cell_type": "markdown",
   "id": "fa9e84ad",
   "metadata": {},
   "source": [
    "Предпологаю что с значением children -1 произошла та же ошибка что и отрицательным стажем "
   ]
  },
  {
   "cell_type": "markdown",
   "id": "76f5c40c",
   "metadata": {},
   "source": [
    "### Шаг 2.3. Изменение типов данных."
   ]
  },
  {
   "cell_type": "code",
   "execution_count": 78,
   "id": "40c824c7",
   "metadata": {},
   "outputs": [
    {
     "data": {
      "text/html": [
       "<div>\n",
       "<style scoped>\n",
       "    .dataframe tbody tr th:only-of-type {\n",
       "        vertical-align: middle;\n",
       "    }\n",
       "\n",
       "    .dataframe tbody tr th {\n",
       "        vertical-align: top;\n",
       "    }\n",
       "\n",
       "    .dataframe thead th {\n",
       "        text-align: right;\n",
       "    }\n",
       "</style>\n",
       "<table border=\"1\" class=\"dataframe\">\n",
       "  <thead>\n",
       "    <tr style=\"text-align: right;\">\n",
       "      <th></th>\n",
       "      <th>children</th>\n",
       "      <th>days_employed</th>\n",
       "      <th>dob_years</th>\n",
       "      <th>education</th>\n",
       "      <th>education_id</th>\n",
       "      <th>family_status</th>\n",
       "      <th>family_status_id</th>\n",
       "      <th>gender</th>\n",
       "      <th>income_type</th>\n",
       "      <th>debt</th>\n",
       "      <th>total_income</th>\n",
       "      <th>purpose</th>\n",
       "    </tr>\n",
       "  </thead>\n",
       "  <tbody>\n",
       "    <tr>\n",
       "      <td>0</td>\n",
       "      <td>1</td>\n",
       "      <td>8437</td>\n",
       "      <td>42</td>\n",
       "      <td>высшее</td>\n",
       "      <td>0</td>\n",
       "      <td>женат / замужем</td>\n",
       "      <td>0</td>\n",
       "      <td>F</td>\n",
       "      <td>сотрудник</td>\n",
       "      <td>0</td>\n",
       "      <td>253875</td>\n",
       "      <td>покупка жилья</td>\n",
       "    </tr>\n",
       "    <tr>\n",
       "      <td>1</td>\n",
       "      <td>1</td>\n",
       "      <td>4024</td>\n",
       "      <td>36</td>\n",
       "      <td>среднее</td>\n",
       "      <td>1</td>\n",
       "      <td>женат / замужем</td>\n",
       "      <td>0</td>\n",
       "      <td>F</td>\n",
       "      <td>сотрудник</td>\n",
       "      <td>0</td>\n",
       "      <td>112080</td>\n",
       "      <td>приобретение автомобиля</td>\n",
       "    </tr>\n",
       "    <tr>\n",
       "      <td>2</td>\n",
       "      <td>0</td>\n",
       "      <td>5623</td>\n",
       "      <td>33</td>\n",
       "      <td>Среднее</td>\n",
       "      <td>1</td>\n",
       "      <td>женат / замужем</td>\n",
       "      <td>0</td>\n",
       "      <td>M</td>\n",
       "      <td>сотрудник</td>\n",
       "      <td>0</td>\n",
       "      <td>145885</td>\n",
       "      <td>покупка жилья</td>\n",
       "    </tr>\n",
       "    <tr>\n",
       "      <td>3</td>\n",
       "      <td>3</td>\n",
       "      <td>4124</td>\n",
       "      <td>32</td>\n",
       "      <td>среднее</td>\n",
       "      <td>1</td>\n",
       "      <td>женат / замужем</td>\n",
       "      <td>0</td>\n",
       "      <td>M</td>\n",
       "      <td>сотрудник</td>\n",
       "      <td>0</td>\n",
       "      <td>267628</td>\n",
       "      <td>дополнительное образование</td>\n",
       "    </tr>\n",
       "    <tr>\n",
       "      <td>4</td>\n",
       "      <td>0</td>\n",
       "      <td>340266</td>\n",
       "      <td>53</td>\n",
       "      <td>среднее</td>\n",
       "      <td>1</td>\n",
       "      <td>гражданский брак</td>\n",
       "      <td>1</td>\n",
       "      <td>F</td>\n",
       "      <td>пенсионер</td>\n",
       "      <td>0</td>\n",
       "      <td>158616</td>\n",
       "      <td>сыграть свадьбу</td>\n",
       "    </tr>\n",
       "    <tr>\n",
       "      <td>5</td>\n",
       "      <td>0</td>\n",
       "      <td>926</td>\n",
       "      <td>27</td>\n",
       "      <td>высшее</td>\n",
       "      <td>0</td>\n",
       "      <td>гражданский брак</td>\n",
       "      <td>1</td>\n",
       "      <td>M</td>\n",
       "      <td>компаньон</td>\n",
       "      <td>0</td>\n",
       "      <td>255763</td>\n",
       "      <td>покупка жилья</td>\n",
       "    </tr>\n",
       "    <tr>\n",
       "      <td>6</td>\n",
       "      <td>0</td>\n",
       "      <td>2879</td>\n",
       "      <td>43</td>\n",
       "      <td>высшее</td>\n",
       "      <td>0</td>\n",
       "      <td>женат / замужем</td>\n",
       "      <td>0</td>\n",
       "      <td>F</td>\n",
       "      <td>компаньон</td>\n",
       "      <td>0</td>\n",
       "      <td>240525</td>\n",
       "      <td>операции с жильем</td>\n",
       "    </tr>\n",
       "    <tr>\n",
       "      <td>7</td>\n",
       "      <td>0</td>\n",
       "      <td>152</td>\n",
       "      <td>50</td>\n",
       "      <td>СРЕДНЕЕ</td>\n",
       "      <td>1</td>\n",
       "      <td>женат / замужем</td>\n",
       "      <td>0</td>\n",
       "      <td>M</td>\n",
       "      <td>сотрудник</td>\n",
       "      <td>0</td>\n",
       "      <td>135823</td>\n",
       "      <td>образование</td>\n",
       "    </tr>\n",
       "    <tr>\n",
       "      <td>8</td>\n",
       "      <td>2</td>\n",
       "      <td>6929</td>\n",
       "      <td>35</td>\n",
       "      <td>ВЫСШЕЕ</td>\n",
       "      <td>0</td>\n",
       "      <td>гражданский брак</td>\n",
       "      <td>1</td>\n",
       "      <td>F</td>\n",
       "      <td>сотрудник</td>\n",
       "      <td>0</td>\n",
       "      <td>95856</td>\n",
       "      <td>на проведение свадьбы</td>\n",
       "    </tr>\n",
       "    <tr>\n",
       "      <td>9</td>\n",
       "      <td>0</td>\n",
       "      <td>2188</td>\n",
       "      <td>41</td>\n",
       "      <td>среднее</td>\n",
       "      <td>1</td>\n",
       "      <td>женат / замужем</td>\n",
       "      <td>0</td>\n",
       "      <td>M</td>\n",
       "      <td>сотрудник</td>\n",
       "      <td>0</td>\n",
       "      <td>144425</td>\n",
       "      <td>покупка жилья для семьи</td>\n",
       "    </tr>\n",
       "  </tbody>\n",
       "</table>\n",
       "</div>"
      ],
      "text/plain": [
       "   children  days_employed  dob_years education  education_id  \\\n",
       "0         1           8437         42    высшее             0   \n",
       "1         1           4024         36   среднее             1   \n",
       "2         0           5623         33   Среднее             1   \n",
       "3         3           4124         32   среднее             1   \n",
       "4         0         340266         53   среднее             1   \n",
       "5         0            926         27    высшее             0   \n",
       "6         0           2879         43    высшее             0   \n",
       "7         0            152         50   СРЕДНЕЕ             1   \n",
       "8         2           6929         35    ВЫСШЕЕ             0   \n",
       "9         0           2188         41   среднее             1   \n",
       "\n",
       "      family_status  family_status_id gender income_type  debt  total_income  \\\n",
       "0   женат / замужем                 0      F   сотрудник     0        253875   \n",
       "1   женат / замужем                 0      F   сотрудник     0        112080   \n",
       "2   женат / замужем                 0      M   сотрудник     0        145885   \n",
       "3   женат / замужем                 0      M   сотрудник     0        267628   \n",
       "4  гражданский брак                 1      F   пенсионер     0        158616   \n",
       "5  гражданский брак                 1      M   компаньон     0        255763   \n",
       "6   женат / замужем                 0      F   компаньон     0        240525   \n",
       "7   женат / замужем                 0      M   сотрудник     0        135823   \n",
       "8  гражданский брак                 1      F   сотрудник     0         95856   \n",
       "9   женат / замужем                 0      M   сотрудник     0        144425   \n",
       "\n",
       "                      purpose  \n",
       "0               покупка жилья  \n",
       "1     приобретение автомобиля  \n",
       "2               покупка жилья  \n",
       "3  дополнительное образование  \n",
       "4             сыграть свадьбу  \n",
       "5               покупка жилья  \n",
       "6           операции с жильем  \n",
       "7                 образование  \n",
       "8       на проведение свадьбы  \n",
       "9     покупка жилья для семьи  "
      ]
     },
     "execution_count": 78,
     "metadata": {},
     "output_type": "execute_result"
    }
   ],
   "source": [
    "df['days_employed'] = df['days_employed'].astype('int') \n",
    "df['total_income'] = df['total_income'].astype('int')\n",
    "df.head(10)\n"
   ]
  },
  {
   "cell_type": "markdown",
   "id": "4bb8094d",
   "metadata": {},
   "source": [
    "отбрасываем дробную часть от столбцов days_employed и total_income"
   ]
  },
  {
   "cell_type": "code",
   "execution_count": 79,
   "id": "08d3ff25",
   "metadata": {},
   "outputs": [
    {
     "name": "stdout",
     "output_type": "stream",
     "text": [
      "<class 'pandas.core.frame.DataFrame'>\n",
      "RangeIndex: 21525 entries, 0 to 21524\n",
      "Data columns (total 12 columns):\n",
      "children            21525 non-null int64\n",
      "days_employed       21525 non-null int64\n",
      "dob_years           21525 non-null int64\n",
      "education           21525 non-null object\n",
      "education_id        21525 non-null int64\n",
      "family_status       21525 non-null object\n",
      "family_status_id    21525 non-null int64\n",
      "gender              21525 non-null object\n",
      "income_type         21525 non-null object\n",
      "debt                21525 non-null int64\n",
      "total_income        21525 non-null int64\n",
      "purpose             21525 non-null object\n",
      "dtypes: int64(7), object(5)\n",
      "memory usage: 11.3 MB\n"
     ]
    }
   ],
   "source": [
    "df.info(memory_usage='deep')"
   ]
  },
  {
   "cell_type": "code",
   "execution_count": 80,
   "id": "fd0bc173",
   "metadata": {
    "scrolled": true
   },
   "outputs": [
    {
     "data": {
      "text/html": [
       "<div>\n",
       "<style scoped>\n",
       "    .dataframe tbody tr th:only-of-type {\n",
       "        vertical-align: middle;\n",
       "    }\n",
       "\n",
       "    .dataframe tbody tr th {\n",
       "        vertical-align: top;\n",
       "    }\n",
       "\n",
       "    .dataframe thead th {\n",
       "        text-align: right;\n",
       "    }\n",
       "</style>\n",
       "<table border=\"1\" class=\"dataframe\">\n",
       "  <thead>\n",
       "    <tr style=\"text-align: right;\">\n",
       "      <th></th>\n",
       "      <th>children</th>\n",
       "      <th>days_employed</th>\n",
       "      <th>dob_years</th>\n",
       "      <th>education</th>\n",
       "      <th>education_id</th>\n",
       "      <th>family_status</th>\n",
       "      <th>family_status_id</th>\n",
       "      <th>gender</th>\n",
       "      <th>income_type</th>\n",
       "      <th>debt</th>\n",
       "      <th>total_income</th>\n",
       "      <th>purpose</th>\n",
       "    </tr>\n",
       "  </thead>\n",
       "  <tbody>\n",
       "    <tr>\n",
       "      <td>0</td>\n",
       "      <td>1</td>\n",
       "      <td>8437</td>\n",
       "      <td>42</td>\n",
       "      <td>высшее</td>\n",
       "      <td>0</td>\n",
       "      <td>женат / замужем</td>\n",
       "      <td>0</td>\n",
       "      <td>F</td>\n",
       "      <td>сотрудник</td>\n",
       "      <td>0</td>\n",
       "      <td>253875</td>\n",
       "      <td>покупка жилья</td>\n",
       "    </tr>\n",
       "    <tr>\n",
       "      <td>1</td>\n",
       "      <td>1</td>\n",
       "      <td>4024</td>\n",
       "      <td>36</td>\n",
       "      <td>среднее</td>\n",
       "      <td>1</td>\n",
       "      <td>женат / замужем</td>\n",
       "      <td>0</td>\n",
       "      <td>F</td>\n",
       "      <td>сотрудник</td>\n",
       "      <td>0</td>\n",
       "      <td>112080</td>\n",
       "      <td>приобретение автомобиля</td>\n",
       "    </tr>\n",
       "    <tr>\n",
       "      <td>2</td>\n",
       "      <td>0</td>\n",
       "      <td>5623</td>\n",
       "      <td>33</td>\n",
       "      <td>Среднее</td>\n",
       "      <td>1</td>\n",
       "      <td>женат / замужем</td>\n",
       "      <td>0</td>\n",
       "      <td>M</td>\n",
       "      <td>сотрудник</td>\n",
       "      <td>0</td>\n",
       "      <td>145885</td>\n",
       "      <td>покупка жилья</td>\n",
       "    </tr>\n",
       "    <tr>\n",
       "      <td>3</td>\n",
       "      <td>3</td>\n",
       "      <td>4124</td>\n",
       "      <td>32</td>\n",
       "      <td>среднее</td>\n",
       "      <td>1</td>\n",
       "      <td>женат / замужем</td>\n",
       "      <td>0</td>\n",
       "      <td>M</td>\n",
       "      <td>сотрудник</td>\n",
       "      <td>0</td>\n",
       "      <td>267628</td>\n",
       "      <td>дополнительное образование</td>\n",
       "    </tr>\n",
       "    <tr>\n",
       "      <td>4</td>\n",
       "      <td>0</td>\n",
       "      <td>340266</td>\n",
       "      <td>53</td>\n",
       "      <td>среднее</td>\n",
       "      <td>1</td>\n",
       "      <td>гражданский брак</td>\n",
       "      <td>1</td>\n",
       "      <td>F</td>\n",
       "      <td>пенсионер</td>\n",
       "      <td>0</td>\n",
       "      <td>158616</td>\n",
       "      <td>сыграть свадьбу</td>\n",
       "    </tr>\n",
       "    <tr>\n",
       "      <td>5</td>\n",
       "      <td>0</td>\n",
       "      <td>926</td>\n",
       "      <td>27</td>\n",
       "      <td>высшее</td>\n",
       "      <td>0</td>\n",
       "      <td>гражданский брак</td>\n",
       "      <td>1</td>\n",
       "      <td>M</td>\n",
       "      <td>компаньон</td>\n",
       "      <td>0</td>\n",
       "      <td>255763</td>\n",
       "      <td>покупка жилья</td>\n",
       "    </tr>\n",
       "    <tr>\n",
       "      <td>6</td>\n",
       "      <td>0</td>\n",
       "      <td>2879</td>\n",
       "      <td>43</td>\n",
       "      <td>высшее</td>\n",
       "      <td>0</td>\n",
       "      <td>женат / замужем</td>\n",
       "      <td>0</td>\n",
       "      <td>F</td>\n",
       "      <td>компаньон</td>\n",
       "      <td>0</td>\n",
       "      <td>240525</td>\n",
       "      <td>операции с жильем</td>\n",
       "    </tr>\n",
       "    <tr>\n",
       "      <td>7</td>\n",
       "      <td>0</td>\n",
       "      <td>152</td>\n",
       "      <td>50</td>\n",
       "      <td>СРЕДНЕЕ</td>\n",
       "      <td>1</td>\n",
       "      <td>женат / замужем</td>\n",
       "      <td>0</td>\n",
       "      <td>M</td>\n",
       "      <td>сотрудник</td>\n",
       "      <td>0</td>\n",
       "      <td>135823</td>\n",
       "      <td>образование</td>\n",
       "    </tr>\n",
       "    <tr>\n",
       "      <td>8</td>\n",
       "      <td>2</td>\n",
       "      <td>6929</td>\n",
       "      <td>35</td>\n",
       "      <td>ВЫСШЕЕ</td>\n",
       "      <td>0</td>\n",
       "      <td>гражданский брак</td>\n",
       "      <td>1</td>\n",
       "      <td>F</td>\n",
       "      <td>сотрудник</td>\n",
       "      <td>0</td>\n",
       "      <td>95856</td>\n",
       "      <td>на проведение свадьбы</td>\n",
       "    </tr>\n",
       "    <tr>\n",
       "      <td>9</td>\n",
       "      <td>0</td>\n",
       "      <td>2188</td>\n",
       "      <td>41</td>\n",
       "      <td>среднее</td>\n",
       "      <td>1</td>\n",
       "      <td>женат / замужем</td>\n",
       "      <td>0</td>\n",
       "      <td>M</td>\n",
       "      <td>сотрудник</td>\n",
       "      <td>0</td>\n",
       "      <td>144425</td>\n",
       "      <td>покупка жилья для семьи</td>\n",
       "    </tr>\n",
       "  </tbody>\n",
       "</table>\n",
       "</div>"
      ],
      "text/plain": [
       "   children  days_employed  dob_years education  education_id  \\\n",
       "0         1           8437         42    высшее             0   \n",
       "1         1           4024         36   среднее             1   \n",
       "2         0           5623         33   Среднее             1   \n",
       "3         3           4124         32   среднее             1   \n",
       "4         0         340266         53   среднее             1   \n",
       "5         0            926         27    высшее             0   \n",
       "6         0           2879         43    высшее             0   \n",
       "7         0            152         50   СРЕДНЕЕ             1   \n",
       "8         2           6929         35    ВЫСШЕЕ             0   \n",
       "9         0           2188         41   среднее             1   \n",
       "\n",
       "      family_status  family_status_id gender income_type  debt  total_income  \\\n",
       "0   женат / замужем                 0      F   сотрудник     0        253875   \n",
       "1   женат / замужем                 0      F   сотрудник     0        112080   \n",
       "2   женат / замужем                 0      M   сотрудник     0        145885   \n",
       "3   женат / замужем                 0      M   сотрудник     0        267628   \n",
       "4  гражданский брак                 1      F   пенсионер     0        158616   \n",
       "5  гражданский брак                 1      M   компаньон     0        255763   \n",
       "6   женат / замужем                 0      F   компаньон     0        240525   \n",
       "7   женат / замужем                 0      M   сотрудник     0        135823   \n",
       "8  гражданский брак                 1      F   сотрудник     0         95856   \n",
       "9   женат / замужем                 0      M   сотрудник     0        144425   \n",
       "\n",
       "                      purpose  \n",
       "0               покупка жилья  \n",
       "1     приобретение автомобиля  \n",
       "2               покупка жилья  \n",
       "3  дополнительное образование  \n",
       "4             сыграть свадьбу  \n",
       "5               покупка жилья  \n",
       "6           операции с жильем  \n",
       "7                 образование  \n",
       "8       на проведение свадьбы  \n",
       "9     покупка жилья для семьи  "
      ]
     },
     "execution_count": 80,
     "metadata": {},
     "output_type": "execute_result"
    }
   ],
   "source": [
    "df['days_employed'] = df['days_employed'].astype('int32') \n",
    "df['total_income'] = df['total_income'].astype('int32')\n",
    "df['children'] = df['children'].astype('int32')\n",
    "df['education_id'] = df['education_id'].astype('int32')\n",
    "df['family_status_id'] = df['family_status_id'].astype('int32')\n",
    "df['debt'] = df['debt'].astype('int32')\n",
    "df['income_type'] = df['income_type'].astype('category')\n",
    "\n",
    "\n",
    "df.head(10)"
   ]
  },
  {
   "cell_type": "code",
   "execution_count": 81,
   "id": "053070b4",
   "metadata": {},
   "outputs": [
    {
     "name": "stdout",
     "output_type": "stream",
     "text": [
      "<class 'pandas.core.frame.DataFrame'>\n",
      "RangeIndex: 21525 entries, 0 to 21524\n",
      "Data columns (total 12 columns):\n",
      "children            21525 non-null int32\n",
      "days_employed       21525 non-null int32\n",
      "dob_years           21525 non-null int64\n",
      "education           21525 non-null object\n",
      "education_id        21525 non-null int32\n",
      "family_status       21525 non-null object\n",
      "family_status_id    21525 non-null int32\n",
      "gender              21525 non-null object\n",
      "income_type         21525 non-null category\n",
      "debt                21525 non-null int32\n",
      "total_income        21525 non-null int32\n",
      "purpose             21525 non-null object\n",
      "dtypes: category(1), int32(6), int64(1), object(4)\n",
      "memory usage: 8.8 MB\n"
     ]
    }
   ],
   "source": [
    "df.info(memory_usage='deep')"
   ]
  },
  {
   "cell_type": "markdown",
   "id": "231b8358",
   "metadata": {},
   "source": [
    "### Шаг 2.4. Удаление дубликатов."
   ]
  },
  {
   "cell_type": "code",
   "execution_count": 82,
   "id": "b474f7ed",
   "metadata": {},
   "outputs": [
    {
     "data": {
      "text/html": [
       "<div>\n",
       "<style scoped>\n",
       "    .dataframe tbody tr th:only-of-type {\n",
       "        vertical-align: middle;\n",
       "    }\n",
       "\n",
       "    .dataframe tbody tr th {\n",
       "        vertical-align: top;\n",
       "    }\n",
       "\n",
       "    .dataframe thead th {\n",
       "        text-align: right;\n",
       "    }\n",
       "</style>\n",
       "<table border=\"1\" class=\"dataframe\">\n",
       "  <thead>\n",
       "    <tr style=\"text-align: right;\">\n",
       "      <th></th>\n",
       "      <th>children</th>\n",
       "      <th>days_employed</th>\n",
       "      <th>dob_years</th>\n",
       "      <th>education</th>\n",
       "      <th>education_id</th>\n",
       "      <th>family_status</th>\n",
       "      <th>family_status_id</th>\n",
       "      <th>gender</th>\n",
       "      <th>income_type</th>\n",
       "      <th>debt</th>\n",
       "      <th>total_income</th>\n",
       "      <th>purpose</th>\n",
       "    </tr>\n",
       "  </thead>\n",
       "  <tbody>\n",
       "    <tr>\n",
       "      <td>2849</td>\n",
       "      <td>0</td>\n",
       "      <td>2194</td>\n",
       "      <td>41</td>\n",
       "      <td>среднее</td>\n",
       "      <td>1</td>\n",
       "      <td>женат / замужем</td>\n",
       "      <td>0</td>\n",
       "      <td>F</td>\n",
       "      <td>сотрудник</td>\n",
       "      <td>0</td>\n",
       "      <td>145017</td>\n",
       "      <td>покупка жилья для семьи</td>\n",
       "    </tr>\n",
       "    <tr>\n",
       "      <td>4182</td>\n",
       "      <td>1</td>\n",
       "      <td>2194</td>\n",
       "      <td>34</td>\n",
       "      <td>ВЫСШЕЕ</td>\n",
       "      <td>0</td>\n",
       "      <td>гражданский брак</td>\n",
       "      <td>1</td>\n",
       "      <td>F</td>\n",
       "      <td>сотрудник</td>\n",
       "      <td>0</td>\n",
       "      <td>145017</td>\n",
       "      <td>свадьба</td>\n",
       "    </tr>\n",
       "    <tr>\n",
       "      <td>4851</td>\n",
       "      <td>0</td>\n",
       "      <td>2194</td>\n",
       "      <td>60</td>\n",
       "      <td>среднее</td>\n",
       "      <td>1</td>\n",
       "      <td>гражданский брак</td>\n",
       "      <td>1</td>\n",
       "      <td>F</td>\n",
       "      <td>пенсионер</td>\n",
       "      <td>0</td>\n",
       "      <td>145017</td>\n",
       "      <td>свадьба</td>\n",
       "    </tr>\n",
       "    <tr>\n",
       "      <td>5557</td>\n",
       "      <td>0</td>\n",
       "      <td>2194</td>\n",
       "      <td>58</td>\n",
       "      <td>среднее</td>\n",
       "      <td>1</td>\n",
       "      <td>гражданский брак</td>\n",
       "      <td>1</td>\n",
       "      <td>F</td>\n",
       "      <td>пенсионер</td>\n",
       "      <td>0</td>\n",
       "      <td>145017</td>\n",
       "      <td>сыграть свадьбу</td>\n",
       "    </tr>\n",
       "    <tr>\n",
       "      <td>7808</td>\n",
       "      <td>0</td>\n",
       "      <td>2194</td>\n",
       "      <td>57</td>\n",
       "      <td>среднее</td>\n",
       "      <td>1</td>\n",
       "      <td>гражданский брак</td>\n",
       "      <td>1</td>\n",
       "      <td>F</td>\n",
       "      <td>пенсионер</td>\n",
       "      <td>0</td>\n",
       "      <td>145017</td>\n",
       "      <td>на проведение свадьбы</td>\n",
       "    </tr>\n",
       "    <tr>\n",
       "      <td>8583</td>\n",
       "      <td>0</td>\n",
       "      <td>2194</td>\n",
       "      <td>58</td>\n",
       "      <td>высшее</td>\n",
       "      <td>0</td>\n",
       "      <td>Не женат / не замужем</td>\n",
       "      <td>4</td>\n",
       "      <td>F</td>\n",
       "      <td>пенсионер</td>\n",
       "      <td>0</td>\n",
       "      <td>145017</td>\n",
       "      <td>дополнительное образование</td>\n",
       "    </tr>\n",
       "    <tr>\n",
       "      <td>9238</td>\n",
       "      <td>2</td>\n",
       "      <td>2194</td>\n",
       "      <td>34</td>\n",
       "      <td>среднее</td>\n",
       "      <td>1</td>\n",
       "      <td>женат / замужем</td>\n",
       "      <td>0</td>\n",
       "      <td>F</td>\n",
       "      <td>сотрудник</td>\n",
       "      <td>0</td>\n",
       "      <td>145017</td>\n",
       "      <td>покупка жилья для сдачи</td>\n",
       "    </tr>\n",
       "    <tr>\n",
       "      <td>9528</td>\n",
       "      <td>0</td>\n",
       "      <td>2194</td>\n",
       "      <td>66</td>\n",
       "      <td>среднее</td>\n",
       "      <td>1</td>\n",
       "      <td>вдовец / вдова</td>\n",
       "      <td>2</td>\n",
       "      <td>F</td>\n",
       "      <td>пенсионер</td>\n",
       "      <td>0</td>\n",
       "      <td>145017</td>\n",
       "      <td>операции со своей недвижимостью</td>\n",
       "    </tr>\n",
       "    <tr>\n",
       "      <td>9627</td>\n",
       "      <td>0</td>\n",
       "      <td>2194</td>\n",
       "      <td>56</td>\n",
       "      <td>среднее</td>\n",
       "      <td>1</td>\n",
       "      <td>женат / замужем</td>\n",
       "      <td>0</td>\n",
       "      <td>F</td>\n",
       "      <td>пенсионер</td>\n",
       "      <td>0</td>\n",
       "      <td>145017</td>\n",
       "      <td>операции со своей недвижимостью</td>\n",
       "    </tr>\n",
       "    <tr>\n",
       "      <td>10462</td>\n",
       "      <td>0</td>\n",
       "      <td>2194</td>\n",
       "      <td>62</td>\n",
       "      <td>среднее</td>\n",
       "      <td>1</td>\n",
       "      <td>женат / замужем</td>\n",
       "      <td>0</td>\n",
       "      <td>F</td>\n",
       "      <td>пенсионер</td>\n",
       "      <td>0</td>\n",
       "      <td>145017</td>\n",
       "      <td>покупка коммерческой недвижимости</td>\n",
       "    </tr>\n",
       "    <tr>\n",
       "      <td>10697</td>\n",
       "      <td>0</td>\n",
       "      <td>2194</td>\n",
       "      <td>40</td>\n",
       "      <td>среднее</td>\n",
       "      <td>1</td>\n",
       "      <td>гражданский брак</td>\n",
       "      <td>1</td>\n",
       "      <td>F</td>\n",
       "      <td>компаньон</td>\n",
       "      <td>0</td>\n",
       "      <td>145017</td>\n",
       "      <td>сыграть свадьбу</td>\n",
       "    </tr>\n",
       "    <tr>\n",
       "      <td>10864</td>\n",
       "      <td>0</td>\n",
       "      <td>2194</td>\n",
       "      <td>62</td>\n",
       "      <td>среднее</td>\n",
       "      <td>1</td>\n",
       "      <td>женат / замужем</td>\n",
       "      <td>0</td>\n",
       "      <td>F</td>\n",
       "      <td>пенсионер</td>\n",
       "      <td>0</td>\n",
       "      <td>145017</td>\n",
       "      <td>ремонт жилью</td>\n",
       "    </tr>\n",
       "    <tr>\n",
       "      <td>10994</td>\n",
       "      <td>0</td>\n",
       "      <td>2194</td>\n",
       "      <td>62</td>\n",
       "      <td>среднее</td>\n",
       "      <td>1</td>\n",
       "      <td>женат / замужем</td>\n",
       "      <td>0</td>\n",
       "      <td>F</td>\n",
       "      <td>пенсионер</td>\n",
       "      <td>0</td>\n",
       "      <td>145017</td>\n",
       "      <td>ремонт жилью</td>\n",
       "    </tr>\n",
       "    <tr>\n",
       "      <td>11791</td>\n",
       "      <td>0</td>\n",
       "      <td>2194</td>\n",
       "      <td>47</td>\n",
       "      <td>среднее</td>\n",
       "      <td>1</td>\n",
       "      <td>женат / замужем</td>\n",
       "      <td>0</td>\n",
       "      <td>F</td>\n",
       "      <td>сотрудник</td>\n",
       "      <td>0</td>\n",
       "      <td>145017</td>\n",
       "      <td>строительство недвижимости</td>\n",
       "    </tr>\n",
       "    <tr>\n",
       "      <td>12373</td>\n",
       "      <td>0</td>\n",
       "      <td>2194</td>\n",
       "      <td>58</td>\n",
       "      <td>среднее</td>\n",
       "      <td>1</td>\n",
       "      <td>женат / замужем</td>\n",
       "      <td>0</td>\n",
       "      <td>M</td>\n",
       "      <td>сотрудник</td>\n",
       "      <td>0</td>\n",
       "      <td>145017</td>\n",
       "      <td>покупка недвижимости</td>\n",
       "    </tr>\n",
       "    <tr>\n",
       "      <td>12375</td>\n",
       "      <td>1</td>\n",
       "      <td>2194</td>\n",
       "      <td>37</td>\n",
       "      <td>среднее</td>\n",
       "      <td>1</td>\n",
       "      <td>женат / замужем</td>\n",
       "      <td>0</td>\n",
       "      <td>F</td>\n",
       "      <td>сотрудник</td>\n",
       "      <td>0</td>\n",
       "      <td>145017</td>\n",
       "      <td>покупка недвижимости</td>\n",
       "    </tr>\n",
       "    <tr>\n",
       "      <td>12736</td>\n",
       "      <td>0</td>\n",
       "      <td>2194</td>\n",
       "      <td>59</td>\n",
       "      <td>среднее</td>\n",
       "      <td>1</td>\n",
       "      <td>женат / замужем</td>\n",
       "      <td>0</td>\n",
       "      <td>F</td>\n",
       "      <td>пенсионер</td>\n",
       "      <td>0</td>\n",
       "      <td>145017</td>\n",
       "      <td>заняться образованием</td>\n",
       "    </tr>\n",
       "    <tr>\n",
       "      <td>13025</td>\n",
       "      <td>1</td>\n",
       "      <td>2194</td>\n",
       "      <td>44</td>\n",
       "      <td>среднее</td>\n",
       "      <td>1</td>\n",
       "      <td>женат / замужем</td>\n",
       "      <td>0</td>\n",
       "      <td>F</td>\n",
       "      <td>сотрудник</td>\n",
       "      <td>0</td>\n",
       "      <td>145017</td>\n",
       "      <td>сделка с подержанным автомобилем</td>\n",
       "    </tr>\n",
       "    <tr>\n",
       "      <td>13639</td>\n",
       "      <td>0</td>\n",
       "      <td>2194</td>\n",
       "      <td>64</td>\n",
       "      <td>среднее</td>\n",
       "      <td>1</td>\n",
       "      <td>женат / замужем</td>\n",
       "      <td>0</td>\n",
       "      <td>F</td>\n",
       "      <td>пенсионер</td>\n",
       "      <td>0</td>\n",
       "      <td>145017</td>\n",
       "      <td>автомобиль</td>\n",
       "    </tr>\n",
       "    <tr>\n",
       "      <td>13773</td>\n",
       "      <td>0</td>\n",
       "      <td>2194</td>\n",
       "      <td>35</td>\n",
       "      <td>среднее</td>\n",
       "      <td>1</td>\n",
       "      <td>гражданский брак</td>\n",
       "      <td>1</td>\n",
       "      <td>F</td>\n",
       "      <td>сотрудник</td>\n",
       "      <td>0</td>\n",
       "      <td>145017</td>\n",
       "      <td>сыграть свадьбу</td>\n",
       "    </tr>\n",
       "    <tr>\n",
       "      <td>13878</td>\n",
       "      <td>1</td>\n",
       "      <td>2194</td>\n",
       "      <td>31</td>\n",
       "      <td>среднее</td>\n",
       "      <td>1</td>\n",
       "      <td>женат / замужем</td>\n",
       "      <td>0</td>\n",
       "      <td>F</td>\n",
       "      <td>компаньон</td>\n",
       "      <td>0</td>\n",
       "      <td>145017</td>\n",
       "      <td>покупка жилья</td>\n",
       "    </tr>\n",
       "    <tr>\n",
       "      <td>13942</td>\n",
       "      <td>0</td>\n",
       "      <td>2194</td>\n",
       "      <td>44</td>\n",
       "      <td>среднее</td>\n",
       "      <td>1</td>\n",
       "      <td>женат / замужем</td>\n",
       "      <td>0</td>\n",
       "      <td>F</td>\n",
       "      <td>сотрудник</td>\n",
       "      <td>0</td>\n",
       "      <td>145017</td>\n",
       "      <td>приобретение автомобиля</td>\n",
       "    </tr>\n",
       "    <tr>\n",
       "      <td>14432</td>\n",
       "      <td>2</td>\n",
       "      <td>2194</td>\n",
       "      <td>36</td>\n",
       "      <td>высшее</td>\n",
       "      <td>0</td>\n",
       "      <td>женат / замужем</td>\n",
       "      <td>0</td>\n",
       "      <td>F</td>\n",
       "      <td>госслужащий</td>\n",
       "      <td>0</td>\n",
       "      <td>145017</td>\n",
       "      <td>получение образования</td>\n",
       "    </tr>\n",
       "    <tr>\n",
       "      <td>14832</td>\n",
       "      <td>0</td>\n",
       "      <td>2194</td>\n",
       "      <td>50</td>\n",
       "      <td>среднее</td>\n",
       "      <td>1</td>\n",
       "      <td>Не женат / не замужем</td>\n",
       "      <td>4</td>\n",
       "      <td>F</td>\n",
       "      <td>сотрудник</td>\n",
       "      <td>0</td>\n",
       "      <td>145017</td>\n",
       "      <td>недвижимость</td>\n",
       "    </tr>\n",
       "    <tr>\n",
       "      <td>15091</td>\n",
       "      <td>0</td>\n",
       "      <td>2194</td>\n",
       "      <td>58</td>\n",
       "      <td>среднее</td>\n",
       "      <td>1</td>\n",
       "      <td>гражданский брак</td>\n",
       "      <td>1</td>\n",
       "      <td>M</td>\n",
       "      <td>сотрудник</td>\n",
       "      <td>0</td>\n",
       "      <td>145017</td>\n",
       "      <td>на проведение свадьбы</td>\n",
       "    </tr>\n",
       "    <tr>\n",
       "      <td>15188</td>\n",
       "      <td>0</td>\n",
       "      <td>2194</td>\n",
       "      <td>60</td>\n",
       "      <td>среднее</td>\n",
       "      <td>1</td>\n",
       "      <td>женат / замужем</td>\n",
       "      <td>0</td>\n",
       "      <td>M</td>\n",
       "      <td>сотрудник</td>\n",
       "      <td>0</td>\n",
       "      <td>145017</td>\n",
       "      <td>покупка недвижимости</td>\n",
       "    </tr>\n",
       "    <tr>\n",
       "      <td>15273</td>\n",
       "      <td>0</td>\n",
       "      <td>2194</td>\n",
       "      <td>57</td>\n",
       "      <td>среднее</td>\n",
       "      <td>1</td>\n",
       "      <td>гражданский брак</td>\n",
       "      <td>1</td>\n",
       "      <td>F</td>\n",
       "      <td>пенсионер</td>\n",
       "      <td>0</td>\n",
       "      <td>145017</td>\n",
       "      <td>свадьба</td>\n",
       "    </tr>\n",
       "    <tr>\n",
       "      <td>16176</td>\n",
       "      <td>0</td>\n",
       "      <td>2194</td>\n",
       "      <td>47</td>\n",
       "      <td>среднее</td>\n",
       "      <td>1</td>\n",
       "      <td>женат / замужем</td>\n",
       "      <td>0</td>\n",
       "      <td>F</td>\n",
       "      <td>сотрудник</td>\n",
       "      <td>0</td>\n",
       "      <td>145017</td>\n",
       "      <td>ремонт жилью</td>\n",
       "    </tr>\n",
       "    <tr>\n",
       "      <td>16378</td>\n",
       "      <td>0</td>\n",
       "      <td>2194</td>\n",
       "      <td>46</td>\n",
       "      <td>среднее</td>\n",
       "      <td>1</td>\n",
       "      <td>женат / замужем</td>\n",
       "      <td>0</td>\n",
       "      <td>F</td>\n",
       "      <td>сотрудник</td>\n",
       "      <td>0</td>\n",
       "      <td>145017</td>\n",
       "      <td>высшее образование</td>\n",
       "    </tr>\n",
       "    <tr>\n",
       "      <td>16902</td>\n",
       "      <td>2</td>\n",
       "      <td>2194</td>\n",
       "      <td>39</td>\n",
       "      <td>среднее</td>\n",
       "      <td>1</td>\n",
       "      <td>гражданский брак</td>\n",
       "      <td>1</td>\n",
       "      <td>F</td>\n",
       "      <td>сотрудник</td>\n",
       "      <td>0</td>\n",
       "      <td>145017</td>\n",
       "      <td>сыграть свадьбу</td>\n",
       "    </tr>\n",
       "    <tr>\n",
       "      <td>16904</td>\n",
       "      <td>1</td>\n",
       "      <td>2194</td>\n",
       "      <td>32</td>\n",
       "      <td>высшее</td>\n",
       "      <td>0</td>\n",
       "      <td>женат / замужем</td>\n",
       "      <td>0</td>\n",
       "      <td>F</td>\n",
       "      <td>сотрудник</td>\n",
       "      <td>0</td>\n",
       "      <td>145017</td>\n",
       "      <td>на покупку подержанного автомобиля</td>\n",
       "    </tr>\n",
       "    <tr>\n",
       "      <td>17379</td>\n",
       "      <td>0</td>\n",
       "      <td>2194</td>\n",
       "      <td>54</td>\n",
       "      <td>высшее</td>\n",
       "      <td>0</td>\n",
       "      <td>женат / замужем</td>\n",
       "      <td>0</td>\n",
       "      <td>M</td>\n",
       "      <td>компаньон</td>\n",
       "      <td>0</td>\n",
       "      <td>145017</td>\n",
       "      <td>операции с коммерческой недвижимостью</td>\n",
       "    </tr>\n",
       "    <tr>\n",
       "      <td>17755</td>\n",
       "      <td>1</td>\n",
       "      <td>2194</td>\n",
       "      <td>43</td>\n",
       "      <td>среднее</td>\n",
       "      <td>1</td>\n",
       "      <td>женат / замужем</td>\n",
       "      <td>0</td>\n",
       "      <td>M</td>\n",
       "      <td>сотрудник</td>\n",
       "      <td>0</td>\n",
       "      <td>145017</td>\n",
       "      <td>заняться образованием</td>\n",
       "    </tr>\n",
       "    <tr>\n",
       "      <td>17774</td>\n",
       "      <td>1</td>\n",
       "      <td>2194</td>\n",
       "      <td>40</td>\n",
       "      <td>среднее</td>\n",
       "      <td>1</td>\n",
       "      <td>гражданский брак</td>\n",
       "      <td>1</td>\n",
       "      <td>F</td>\n",
       "      <td>компаньон</td>\n",
       "      <td>0</td>\n",
       "      <td>145017</td>\n",
       "      <td>строительство жилой недвижимости</td>\n",
       "    </tr>\n",
       "    <tr>\n",
       "      <td>18328</td>\n",
       "      <td>0</td>\n",
       "      <td>2194</td>\n",
       "      <td>29</td>\n",
       "      <td>высшее</td>\n",
       "      <td>0</td>\n",
       "      <td>женат / замужем</td>\n",
       "      <td>0</td>\n",
       "      <td>M</td>\n",
       "      <td>сотрудник</td>\n",
       "      <td>0</td>\n",
       "      <td>145017</td>\n",
       "      <td>покупка жилой недвижимости</td>\n",
       "    </tr>\n",
       "    <tr>\n",
       "      <td>18349</td>\n",
       "      <td>1</td>\n",
       "      <td>2194</td>\n",
       "      <td>30</td>\n",
       "      <td>высшее</td>\n",
       "      <td>0</td>\n",
       "      <td>женат / замужем</td>\n",
       "      <td>0</td>\n",
       "      <td>F</td>\n",
       "      <td>госслужащий</td>\n",
       "      <td>0</td>\n",
       "      <td>145017</td>\n",
       "      <td>покупка жилья для семьи</td>\n",
       "    </tr>\n",
       "    <tr>\n",
       "      <td>18428</td>\n",
       "      <td>0</td>\n",
       "      <td>2194</td>\n",
       "      <td>64</td>\n",
       "      <td>среднее</td>\n",
       "      <td>1</td>\n",
       "      <td>женат / замужем</td>\n",
       "      <td>0</td>\n",
       "      <td>F</td>\n",
       "      <td>пенсионер</td>\n",
       "      <td>0</td>\n",
       "      <td>145017</td>\n",
       "      <td>жилье</td>\n",
       "    </tr>\n",
       "    <tr>\n",
       "      <td>18521</td>\n",
       "      <td>0</td>\n",
       "      <td>2194</td>\n",
       "      <td>56</td>\n",
       "      <td>среднее</td>\n",
       "      <td>1</td>\n",
       "      <td>гражданский брак</td>\n",
       "      <td>1</td>\n",
       "      <td>F</td>\n",
       "      <td>сотрудник</td>\n",
       "      <td>0</td>\n",
       "      <td>145017</td>\n",
       "      <td>сыграть свадьбу</td>\n",
       "    </tr>\n",
       "    <tr>\n",
       "      <td>18563</td>\n",
       "      <td>0</td>\n",
       "      <td>2194</td>\n",
       "      <td>54</td>\n",
       "      <td>среднее</td>\n",
       "      <td>1</td>\n",
       "      <td>женат / замужем</td>\n",
       "      <td>0</td>\n",
       "      <td>F</td>\n",
       "      <td>сотрудник</td>\n",
       "      <td>0</td>\n",
       "      <td>145017</td>\n",
       "      <td>операции со своей недвижимостью</td>\n",
       "    </tr>\n",
       "    <tr>\n",
       "      <td>18755</td>\n",
       "      <td>0</td>\n",
       "      <td>2194</td>\n",
       "      <td>58</td>\n",
       "      <td>среднее</td>\n",
       "      <td>1</td>\n",
       "      <td>женат / замужем</td>\n",
       "      <td>0</td>\n",
       "      <td>F</td>\n",
       "      <td>пенсионер</td>\n",
       "      <td>0</td>\n",
       "      <td>145017</td>\n",
       "      <td>заняться образованием</td>\n",
       "    </tr>\n",
       "    <tr>\n",
       "      <td>19041</td>\n",
       "      <td>0</td>\n",
       "      <td>2194</td>\n",
       "      <td>56</td>\n",
       "      <td>среднее</td>\n",
       "      <td>1</td>\n",
       "      <td>гражданский брак</td>\n",
       "      <td>1</td>\n",
       "      <td>F</td>\n",
       "      <td>сотрудник</td>\n",
       "      <td>0</td>\n",
       "      <td>145017</td>\n",
       "      <td>на проведение свадьбы</td>\n",
       "    </tr>\n",
       "    <tr>\n",
       "      <td>19184</td>\n",
       "      <td>0</td>\n",
       "      <td>2194</td>\n",
       "      <td>46</td>\n",
       "      <td>среднее</td>\n",
       "      <td>1</td>\n",
       "      <td>женат / замужем</td>\n",
       "      <td>0</td>\n",
       "      <td>F</td>\n",
       "      <td>сотрудник</td>\n",
       "      <td>0</td>\n",
       "      <td>145017</td>\n",
       "      <td>свой автомобиль</td>\n",
       "    </tr>\n",
       "    <tr>\n",
       "      <td>19321</td>\n",
       "      <td>0</td>\n",
       "      <td>2194</td>\n",
       "      <td>23</td>\n",
       "      <td>среднее</td>\n",
       "      <td>1</td>\n",
       "      <td>Не женат / не замужем</td>\n",
       "      <td>4</td>\n",
       "      <td>F</td>\n",
       "      <td>сотрудник</td>\n",
       "      <td>0</td>\n",
       "      <td>145017</td>\n",
       "      <td>сделка с подержанным автомобилем</td>\n",
       "    </tr>\n",
       "    <tr>\n",
       "      <td>19387</td>\n",
       "      <td>0</td>\n",
       "      <td>2194</td>\n",
       "      <td>38</td>\n",
       "      <td>высшее</td>\n",
       "      <td>0</td>\n",
       "      <td>гражданский брак</td>\n",
       "      <td>1</td>\n",
       "      <td>F</td>\n",
       "      <td>компаньон</td>\n",
       "      <td>0</td>\n",
       "      <td>145017</td>\n",
       "      <td>на проведение свадьбы</td>\n",
       "    </tr>\n",
       "    <tr>\n",
       "      <td>19688</td>\n",
       "      <td>0</td>\n",
       "      <td>2194</td>\n",
       "      <td>61</td>\n",
       "      <td>среднее</td>\n",
       "      <td>1</td>\n",
       "      <td>женат / замужем</td>\n",
       "      <td>0</td>\n",
       "      <td>F</td>\n",
       "      <td>пенсионер</td>\n",
       "      <td>0</td>\n",
       "      <td>145017</td>\n",
       "      <td>операции с недвижимостью</td>\n",
       "    </tr>\n",
       "    <tr>\n",
       "      <td>19832</td>\n",
       "      <td>0</td>\n",
       "      <td>2194</td>\n",
       "      <td>48</td>\n",
       "      <td>среднее</td>\n",
       "      <td>1</td>\n",
       "      <td>женат / замужем</td>\n",
       "      <td>0</td>\n",
       "      <td>F</td>\n",
       "      <td>сотрудник</td>\n",
       "      <td>0</td>\n",
       "      <td>145017</td>\n",
       "      <td>ремонт жилью</td>\n",
       "    </tr>\n",
       "    <tr>\n",
       "      <td>19946</td>\n",
       "      <td>0</td>\n",
       "      <td>2194</td>\n",
       "      <td>57</td>\n",
       "      <td>среднее</td>\n",
       "      <td>1</td>\n",
       "      <td>женат / замужем</td>\n",
       "      <td>0</td>\n",
       "      <td>F</td>\n",
       "      <td>сотрудник</td>\n",
       "      <td>0</td>\n",
       "      <td>145017</td>\n",
       "      <td>сделка с подержанным автомобилем</td>\n",
       "    </tr>\n",
       "    <tr>\n",
       "      <td>20116</td>\n",
       "      <td>0</td>\n",
       "      <td>2194</td>\n",
       "      <td>57</td>\n",
       "      <td>среднее</td>\n",
       "      <td>1</td>\n",
       "      <td>гражданский брак</td>\n",
       "      <td>1</td>\n",
       "      <td>M</td>\n",
       "      <td>пенсионер</td>\n",
       "      <td>0</td>\n",
       "      <td>145017</td>\n",
       "      <td>свадьба</td>\n",
       "    </tr>\n",
       "    <tr>\n",
       "      <td>20165</td>\n",
       "      <td>0</td>\n",
       "      <td>2194</td>\n",
       "      <td>42</td>\n",
       "      <td>среднее</td>\n",
       "      <td>1</td>\n",
       "      <td>женат / замужем</td>\n",
       "      <td>0</td>\n",
       "      <td>F</td>\n",
       "      <td>сотрудник</td>\n",
       "      <td>0</td>\n",
       "      <td>145017</td>\n",
       "      <td>покупка жилья для семьи</td>\n",
       "    </tr>\n",
       "    <tr>\n",
       "      <td>20702</td>\n",
       "      <td>0</td>\n",
       "      <td>2194</td>\n",
       "      <td>64</td>\n",
       "      <td>среднее</td>\n",
       "      <td>1</td>\n",
       "      <td>женат / замужем</td>\n",
       "      <td>0</td>\n",
       "      <td>F</td>\n",
       "      <td>пенсионер</td>\n",
       "      <td>0</td>\n",
       "      <td>145017</td>\n",
       "      <td>дополнительное образование</td>\n",
       "    </tr>\n",
       "    <tr>\n",
       "      <td>21032</td>\n",
       "      <td>0</td>\n",
       "      <td>2194</td>\n",
       "      <td>60</td>\n",
       "      <td>среднее</td>\n",
       "      <td>1</td>\n",
       "      <td>женат / замужем</td>\n",
       "      <td>0</td>\n",
       "      <td>F</td>\n",
       "      <td>пенсионер</td>\n",
       "      <td>0</td>\n",
       "      <td>145017</td>\n",
       "      <td>заняться образованием</td>\n",
       "    </tr>\n",
       "    <tr>\n",
       "      <td>21132</td>\n",
       "      <td>0</td>\n",
       "      <td>2194</td>\n",
       "      <td>47</td>\n",
       "      <td>среднее</td>\n",
       "      <td>1</td>\n",
       "      <td>женат / замужем</td>\n",
       "      <td>0</td>\n",
       "      <td>F</td>\n",
       "      <td>сотрудник</td>\n",
       "      <td>0</td>\n",
       "      <td>145017</td>\n",
       "      <td>ремонт жилью</td>\n",
       "    </tr>\n",
       "    <tr>\n",
       "      <td>21281</td>\n",
       "      <td>1</td>\n",
       "      <td>2194</td>\n",
       "      <td>30</td>\n",
       "      <td>высшее</td>\n",
       "      <td>0</td>\n",
       "      <td>женат / замужем</td>\n",
       "      <td>0</td>\n",
       "      <td>F</td>\n",
       "      <td>сотрудник</td>\n",
       "      <td>0</td>\n",
       "      <td>145017</td>\n",
       "      <td>покупка коммерческой недвижимости</td>\n",
       "    </tr>\n",
       "    <tr>\n",
       "      <td>21415</td>\n",
       "      <td>0</td>\n",
       "      <td>2194</td>\n",
       "      <td>54</td>\n",
       "      <td>среднее</td>\n",
       "      <td>1</td>\n",
       "      <td>женат / замужем</td>\n",
       "      <td>0</td>\n",
       "      <td>F</td>\n",
       "      <td>пенсионер</td>\n",
       "      <td>0</td>\n",
       "      <td>145017</td>\n",
       "      <td>операции с жильем</td>\n",
       "    </tr>\n",
       "  </tbody>\n",
       "</table>\n",
       "</div>"
      ],
      "text/plain": [
       "       children  days_employed  dob_years education  education_id  \\\n",
       "2849          0           2194         41   среднее             1   \n",
       "4182          1           2194         34    ВЫСШЕЕ             0   \n",
       "4851          0           2194         60   среднее             1   \n",
       "5557          0           2194         58   среднее             1   \n",
       "7808          0           2194         57   среднее             1   \n",
       "8583          0           2194         58    высшее             0   \n",
       "9238          2           2194         34   среднее             1   \n",
       "9528          0           2194         66   среднее             1   \n",
       "9627          0           2194         56   среднее             1   \n",
       "10462         0           2194         62   среднее             1   \n",
       "10697         0           2194         40   среднее             1   \n",
       "10864         0           2194         62   среднее             1   \n",
       "10994         0           2194         62   среднее             1   \n",
       "11791         0           2194         47   среднее             1   \n",
       "12373         0           2194         58   среднее             1   \n",
       "12375         1           2194         37   среднее             1   \n",
       "12736         0           2194         59   среднее             1   \n",
       "13025         1           2194         44   среднее             1   \n",
       "13639         0           2194         64   среднее             1   \n",
       "13773         0           2194         35   среднее             1   \n",
       "13878         1           2194         31   среднее             1   \n",
       "13942         0           2194         44   среднее             1   \n",
       "14432         2           2194         36    высшее             0   \n",
       "14832         0           2194         50   среднее             1   \n",
       "15091         0           2194         58   среднее             1   \n",
       "15188         0           2194         60   среднее             1   \n",
       "15273         0           2194         57   среднее             1   \n",
       "16176         0           2194         47   среднее             1   \n",
       "16378         0           2194         46   среднее             1   \n",
       "16902         2           2194         39   среднее             1   \n",
       "16904         1           2194         32    высшее             0   \n",
       "17379         0           2194         54    высшее             0   \n",
       "17755         1           2194         43   среднее             1   \n",
       "17774         1           2194         40   среднее             1   \n",
       "18328         0           2194         29    высшее             0   \n",
       "18349         1           2194         30    высшее             0   \n",
       "18428         0           2194         64   среднее             1   \n",
       "18521         0           2194         56   среднее             1   \n",
       "18563         0           2194         54   среднее             1   \n",
       "18755         0           2194         58   среднее             1   \n",
       "19041         0           2194         56   среднее             1   \n",
       "19184         0           2194         46   среднее             1   \n",
       "19321         0           2194         23   среднее             1   \n",
       "19387         0           2194         38    высшее             0   \n",
       "19688         0           2194         61   среднее             1   \n",
       "19832         0           2194         48   среднее             1   \n",
       "19946         0           2194         57   среднее             1   \n",
       "20116         0           2194         57   среднее             1   \n",
       "20165         0           2194         42   среднее             1   \n",
       "20702         0           2194         64   среднее             1   \n",
       "21032         0           2194         60   среднее             1   \n",
       "21132         0           2194         47   среднее             1   \n",
       "21281         1           2194         30    высшее             0   \n",
       "21415         0           2194         54   среднее             1   \n",
       "\n",
       "               family_status  family_status_id gender  income_type  debt  \\\n",
       "2849         женат / замужем                 0      F    сотрудник     0   \n",
       "4182        гражданский брак                 1      F    сотрудник     0   \n",
       "4851        гражданский брак                 1      F    пенсионер     0   \n",
       "5557        гражданский брак                 1      F    пенсионер     0   \n",
       "7808        гражданский брак                 1      F    пенсионер     0   \n",
       "8583   Не женат / не замужем                 4      F    пенсионер     0   \n",
       "9238         женат / замужем                 0      F    сотрудник     0   \n",
       "9528          вдовец / вдова                 2      F    пенсионер     0   \n",
       "9627         женат / замужем                 0      F    пенсионер     0   \n",
       "10462        женат / замужем                 0      F    пенсионер     0   \n",
       "10697       гражданский брак                 1      F    компаньон     0   \n",
       "10864        женат / замужем                 0      F    пенсионер     0   \n",
       "10994        женат / замужем                 0      F    пенсионер     0   \n",
       "11791        женат / замужем                 0      F    сотрудник     0   \n",
       "12373        женат / замужем                 0      M    сотрудник     0   \n",
       "12375        женат / замужем                 0      F    сотрудник     0   \n",
       "12736        женат / замужем                 0      F    пенсионер     0   \n",
       "13025        женат / замужем                 0      F    сотрудник     0   \n",
       "13639        женат / замужем                 0      F    пенсионер     0   \n",
       "13773       гражданский брак                 1      F    сотрудник     0   \n",
       "13878        женат / замужем                 0      F    компаньон     0   \n",
       "13942        женат / замужем                 0      F    сотрудник     0   \n",
       "14432        женат / замужем                 0      F  госслужащий     0   \n",
       "14832  Не женат / не замужем                 4      F    сотрудник     0   \n",
       "15091       гражданский брак                 1      M    сотрудник     0   \n",
       "15188        женат / замужем                 0      M    сотрудник     0   \n",
       "15273       гражданский брак                 1      F    пенсионер     0   \n",
       "16176        женат / замужем                 0      F    сотрудник     0   \n",
       "16378        женат / замужем                 0      F    сотрудник     0   \n",
       "16902       гражданский брак                 1      F    сотрудник     0   \n",
       "16904        женат / замужем                 0      F    сотрудник     0   \n",
       "17379        женат / замужем                 0      M    компаньон     0   \n",
       "17755        женат / замужем                 0      M    сотрудник     0   \n",
       "17774       гражданский брак                 1      F    компаньон     0   \n",
       "18328        женат / замужем                 0      M    сотрудник     0   \n",
       "18349        женат / замужем                 0      F  госслужащий     0   \n",
       "18428        женат / замужем                 0      F    пенсионер     0   \n",
       "18521       гражданский брак                 1      F    сотрудник     0   \n",
       "18563        женат / замужем                 0      F    сотрудник     0   \n",
       "18755        женат / замужем                 0      F    пенсионер     0   \n",
       "19041       гражданский брак                 1      F    сотрудник     0   \n",
       "19184        женат / замужем                 0      F    сотрудник     0   \n",
       "19321  Не женат / не замужем                 4      F    сотрудник     0   \n",
       "19387       гражданский брак                 1      F    компаньон     0   \n",
       "19688        женат / замужем                 0      F    пенсионер     0   \n",
       "19832        женат / замужем                 0      F    сотрудник     0   \n",
       "19946        женат / замужем                 0      F    сотрудник     0   \n",
       "20116       гражданский брак                 1      M    пенсионер     0   \n",
       "20165        женат / замужем                 0      F    сотрудник     0   \n",
       "20702        женат / замужем                 0      F    пенсионер     0   \n",
       "21032        женат / замужем                 0      F    пенсионер     0   \n",
       "21132        женат / замужем                 0      F    сотрудник     0   \n",
       "21281        женат / замужем                 0      F    сотрудник     0   \n",
       "21415        женат / замужем                 0      F    пенсионер     0   \n",
       "\n",
       "       total_income                                purpose  \n",
       "2849         145017                покупка жилья для семьи  \n",
       "4182         145017                                свадьба  \n",
       "4851         145017                                свадьба  \n",
       "5557         145017                        сыграть свадьбу  \n",
       "7808         145017                  на проведение свадьбы  \n",
       "8583         145017             дополнительное образование  \n",
       "9238         145017                покупка жилья для сдачи  \n",
       "9528         145017        операции со своей недвижимостью  \n",
       "9627         145017        операции со своей недвижимостью  \n",
       "10462        145017      покупка коммерческой недвижимости  \n",
       "10697        145017                        сыграть свадьбу  \n",
       "10864        145017                           ремонт жилью  \n",
       "10994        145017                           ремонт жилью  \n",
       "11791        145017             строительство недвижимости  \n",
       "12373        145017                   покупка недвижимости  \n",
       "12375        145017                   покупка недвижимости  \n",
       "12736        145017                  заняться образованием  \n",
       "13025        145017       сделка с подержанным автомобилем  \n",
       "13639        145017                             автомобиль  \n",
       "13773        145017                        сыграть свадьбу  \n",
       "13878        145017                          покупка жилья  \n",
       "13942        145017                приобретение автомобиля  \n",
       "14432        145017                  получение образования  \n",
       "14832        145017                           недвижимость  \n",
       "15091        145017                  на проведение свадьбы  \n",
       "15188        145017                   покупка недвижимости  \n",
       "15273        145017                                свадьба  \n",
       "16176        145017                           ремонт жилью  \n",
       "16378        145017                     высшее образование  \n",
       "16902        145017                        сыграть свадьбу  \n",
       "16904        145017     на покупку подержанного автомобиля  \n",
       "17379        145017  операции с коммерческой недвижимостью  \n",
       "17755        145017                  заняться образованием  \n",
       "17774        145017       строительство жилой недвижимости  \n",
       "18328        145017             покупка жилой недвижимости  \n",
       "18349        145017                покупка жилья для семьи  \n",
       "18428        145017                                  жилье  \n",
       "18521        145017                        сыграть свадьбу  \n",
       "18563        145017        операции со своей недвижимостью  \n",
       "18755        145017                  заняться образованием  \n",
       "19041        145017                  на проведение свадьбы  \n",
       "19184        145017                        свой автомобиль  \n",
       "19321        145017       сделка с подержанным автомобилем  \n",
       "19387        145017                  на проведение свадьбы  \n",
       "19688        145017               операции с недвижимостью  \n",
       "19832        145017                           ремонт жилью  \n",
       "19946        145017       сделка с подержанным автомобилем  \n",
       "20116        145017                                свадьба  \n",
       "20165        145017                покупка жилья для семьи  \n",
       "20702        145017             дополнительное образование  \n",
       "21032        145017                  заняться образованием  \n",
       "21132        145017                           ремонт жилью  \n",
       "21281        145017      покупка коммерческой недвижимости  \n",
       "21415        145017                      операции с жильем  "
      ]
     },
     "metadata": {},
     "output_type": "display_data"
    },
    {
     "data": {
      "text/plain": [
       "54"
      ]
     },
     "execution_count": 82,
     "metadata": {},
     "output_type": "execute_result"
    }
   ],
   "source": [
    "duplicated_df = df[df.duplicated()]\n",
    "display(duplicated_df)\n",
    "df.duplicated().sum()"
   ]
  },
  {
   "cell_type": "markdown",
   "id": "5efe9115",
   "metadata": {},
   "source": [
    "подсчет явынх дубликатов"
   ]
  },
  {
   "cell_type": "code",
   "execution_count": 83,
   "id": "3cfcf172",
   "metadata": {},
   "outputs": [
    {
     "data": {
      "text/plain": [
       "0"
      ]
     },
     "execution_count": 83,
     "metadata": {},
     "output_type": "execute_result"
    }
   ],
   "source": [
    "df = df.drop_duplicates().reset_index(drop=True)\n",
    "df.duplicated().sum() "
   ]
  },
  {
   "cell_type": "markdown",
   "id": "edeec21a",
   "metadata": {},
   "source": [
    "удаление дубликтов и обновление индексов\n",
    "проверяем удаление дубликатов "
   ]
  },
  {
   "cell_type": "code",
   "execution_count": 84,
   "id": "5d103719",
   "metadata": {},
   "outputs": [
    {
     "data": {
      "text/plain": [
       "array([ 0,  1,  2,  3,  4,  5, 20])"
      ]
     },
     "metadata": {},
     "output_type": "display_data"
    },
    {
     "data": {
      "text/plain": [
       "array(['ВЫСШЕЕ', 'Высшее', 'НАЧАЛЬНОЕ', 'НЕОКОНЧЕННОЕ ВЫСШЕЕ',\n",
       "       'Начальное', 'Неоконченное высшее', 'СРЕДНЕЕ', 'Среднее',\n",
       "       'УЧЕНАЯ СТЕПЕНЬ', 'Ученая степень', 'высшее', 'начальное',\n",
       "       'неоконченное высшее', 'среднее', 'ученая степень'], dtype=object)"
      ]
     },
     "metadata": {},
     "output_type": "display_data"
    },
    {
     "data": {
      "text/plain": [
       "array([0, 1, 2, 3, 4])"
      ]
     },
     "metadata": {},
     "output_type": "display_data"
    },
    {
     "data": {
      "text/plain": [
       "array(['Не женат / не замужем', 'в разводе', 'вдовец / вдова',\n",
       "       'гражданский брак', 'женат / замужем'], dtype=object)"
      ]
     },
     "metadata": {},
     "output_type": "display_data"
    },
    {
     "data": {
      "text/plain": [
       "array([0, 1, 2, 3, 4])"
      ]
     },
     "metadata": {},
     "output_type": "display_data"
    },
    {
     "data": {
      "text/plain": [
       "array(['F', 'M', 'XNA'], dtype=object)"
      ]
     },
     "metadata": {},
     "output_type": "display_data"
    },
    {
     "data": {
      "text/plain": [
       "[безработный, в декрете, госслужащий, компаньон, пенсионер, предприниматель, сотрудник, студент]\n",
       "Categories (8, object): [безработный, в декрете, госслужащий, компаньон, пенсионер, предприниматель, сотрудник, студент]"
      ]
     },
     "metadata": {},
     "output_type": "display_data"
    },
    {
     "data": {
      "text/plain": [
       "array([0, 1])"
      ]
     },
     "metadata": {},
     "output_type": "display_data"
    },
    {
     "data": {
      "text/plain": [
       "array(['автомобили', 'автомобиль', 'высшее образование',\n",
       "       'дополнительное образование', 'жилье',\n",
       "       'заняться высшим образованием', 'заняться образованием',\n",
       "       'на покупку автомобиля', 'на покупку подержанного автомобиля',\n",
       "       'на покупку своего автомобиля', 'на проведение свадьбы',\n",
       "       'недвижимость', 'образование', 'операции с жильем',\n",
       "       'операции с коммерческой недвижимостью',\n",
       "       'операции с недвижимостью', 'операции со своей недвижимостью',\n",
       "       'покупка жилой недвижимости', 'покупка жилья',\n",
       "       'покупка жилья для сдачи', 'покупка жилья для семьи',\n",
       "       'покупка коммерческой недвижимости', 'покупка недвижимости',\n",
       "       'покупка своего жилья', 'получение высшего образования',\n",
       "       'получение дополнительного образования', 'получение образования',\n",
       "       'приобретение автомобиля', 'профильное образование',\n",
       "       'ремонт жилью', 'свадьба', 'свой автомобиль',\n",
       "       'сделка с автомобилем', 'сделка с подержанным автомобилем',\n",
       "       'строительство жилой недвижимости', 'строительство недвижимости',\n",
       "       'строительство собственной недвижимости', 'сыграть свадьбу'],\n",
       "      dtype=object)"
      ]
     },
     "metadata": {},
     "output_type": "display_data"
    }
   ],
   "source": [
    "display(df['children'].sort_values(ascending = True).unique())\n",
    "\n",
    "display(df['education'].sort_values(ascending = True).unique())\n",
    "\n",
    "display(df['education_id'].sort_values(ascending = True).unique())\n",
    "\n",
    "display(df['family_status'].sort_values(ascending = True).unique())\n",
    "\n",
    "display(df['family_status_id'].sort_values(ascending = True).unique())\n",
    "\n",
    "display(df['gender'].sort_values(ascending = True).unique())\n",
    "\n",
    "display(df['income_type'].sort_values(ascending = True).unique())\n",
    "\n",
    "display(df['debt'].sort_values(ascending = True).unique())\n",
    "\n",
    "display(df['purpose'].sort_values(ascending = True).unique())\n",
    "\n"
   ]
  },
  {
   "cell_type": "markdown",
   "id": "fab00cc1",
   "metadata": {},
   "source": [
    "смотрим уникальные значения в датафрейме "
   ]
  },
  {
   "cell_type": "code",
   "execution_count": 96,
   "id": "762aa77c",
   "metadata": {},
   "outputs": [
    {
     "data": {
      "text/plain": [
       "среднее                13705\n",
       "высшее                  4710\n",
       "СРЕДНЕЕ                  772\n",
       "Среднее                  711\n",
       "неоконченное высшее      668\n",
       "ВЫСШЕЕ                   273\n",
       "Высшее                   268\n",
       "начальное                250\n",
       "Неоконченное высшее       47\n",
       "НЕОКОНЧЕННОЕ ВЫСШЕЕ       29\n",
       "НАЧАЛЬНОЕ                 17\n",
       "Начальное                 15\n",
       "ученая степень             4\n",
       "Ученая степень             1\n",
       "УЧЕНАЯ СТЕПЕНЬ             1\n",
       "Name: education, dtype: int64"
      ]
     },
     "metadata": {},
     "output_type": "display_data"
    },
    {
     "data": {
      "text/plain": [
       "женат / замужем          12344\n",
       "гражданский брак          4163\n",
       "Не женат / не замужем     2810\n",
       "в разводе                 1195\n",
       "вдовец / вдова             959\n",
       "Name: family_status, dtype: int64"
      ]
     },
     "metadata": {},
     "output_type": "display_data"
    },
    {
     "data": {
      "text/plain": [
       "сотрудник          11091\n",
       "компаньон           5080\n",
       "пенсионер           3837\n",
       "госслужащий         1457\n",
       "предприниматель        2\n",
       "безработный            2\n",
       "студент                1\n",
       "в декрете              1\n",
       "Name: income_type, dtype: int64"
      ]
     },
     "metadata": {},
     "output_type": "display_data"
    },
    {
     "data": {
      "text/plain": [
       "свадьба                                   793\n",
       "на проведение свадьбы                     773\n",
       "сыграть свадьбу                           769\n",
       "операции с недвижимостью                  675\n",
       "покупка коммерческой недвижимости         662\n",
       "покупка жилья для сдачи                   652\n",
       "операции с жильем                         652\n",
       "операции с коммерческой недвижимостью     650\n",
       "покупка жилья                             646\n",
       "жилье                                     646\n",
       "покупка жилья для семьи                   638\n",
       "строительство собственной недвижимости    635\n",
       "недвижимость                              633\n",
       "операции со своей недвижимостью           627\n",
       "строительство жилой недвижимости          625\n",
       "покупка недвижимости                      621\n",
       "покупка своего жилья                      620\n",
       "строительство недвижимости                619\n",
       "ремонт жилью                              607\n",
       "покупка жилой недвижимости                606\n",
       "на покупку своего автомобиля              505\n",
       "заняться высшим образованием              496\n",
       "автомобиль                                494\n",
       "сделка с подержанным автомобилем          486\n",
       "свой автомобиль                           479\n",
       "автомобили                                478\n",
       "на покупку подержанного автомобиля        478\n",
       "на покупку автомобиля                     472\n",
       "приобретение автомобиля                   461\n",
       "дополнительное образование                460\n",
       "сделка с автомобилем                      455\n",
       "высшее образование                        452\n",
       "получение дополнительного образования     447\n",
       "образование                               447\n",
       "получение образования                     442\n",
       "профильное образование                    436\n",
       "получение высшего образования             426\n",
       "заняться образованием                     408\n",
       "Name: purpose, dtype: int64"
      ]
     },
     "metadata": {},
     "output_type": "display_data"
    }
   ],
   "source": [
    "display(df['education'].value_counts())\n",
    "display(df['family_status'].value_counts())\n",
    "display(df['income_type'].value_counts())\n",
    "display(df['purpose'].value_counts())\n"
   ]
  },
  {
   "cell_type": "markdown",
   "id": "203f9b69",
   "metadata": {},
   "source": [
    "посмотрим на неявные дубликаты и видим разный регист в education и family_status"
   ]
  },
  {
   "cell_type": "code",
   "execution_count": 97,
   "id": "89c22bb0",
   "metadata": {
    "scrolled": true
   },
   "outputs": [
    {
     "data": {
      "text/plain": [
       "среднее                15188\n",
       "высшее                  5251\n",
       "неоконченное высшее      744\n",
       "начальное                282\n",
       "ученая степень             6\n",
       "Name: education, dtype: int64"
      ]
     },
     "metadata": {},
     "output_type": "display_data"
    },
    {
     "data": {
      "text/plain": [
       "женат / замужем          12344\n",
       "гражданский брак          4163\n",
       "не женат / не замужем     2810\n",
       "в разводе                 1195\n",
       "вдовец / вдова             959\n",
       "Name: family_status, dtype: int64"
      ]
     },
     "metadata": {},
     "output_type": "display_data"
    }
   ],
   "source": [
    "df['education'] = df['education'].str.lower()\n",
    "df['family_status'] = df['family_status'].str.lower()\n",
    "display(df['education'].value_counts())\n",
    "display(df['family_status'].value_counts())\n"
   ]
  },
  {
   "cell_type": "markdown",
   "id": "fa5fbc61",
   "metadata": {},
   "source": [
    "приведем все к нижнему регистру и проверим результат "
   ]
  },
  {
   "cell_type": "markdown",
   "id": "f0faffdc",
   "metadata": {},
   "source": [
    "Для поиска янвых дубликатов использовали drop_duplicates()\n",
    "Для неявных sort_values(ascending = True).unique()\n",
    "Дубликаты появились из-за человеческого фактора, разный регистр "
   ]
  },
  {
   "cell_type": "markdown",
   "id": "250fa4d7",
   "metadata": {},
   "source": [
    "### Шаг 2.5. Формирование дополнительных датафреймов словарей, декомпозиция исходного датафрейма."
   ]
  },
  {
   "cell_type": "code",
   "execution_count": 98,
   "id": "b65cbebe",
   "metadata": {},
   "outputs": [
    {
     "data": {
      "text/html": [
       "<div>\n",
       "<style scoped>\n",
       "    .dataframe tbody tr th:only-of-type {\n",
       "        vertical-align: middle;\n",
       "    }\n",
       "\n",
       "    .dataframe tbody tr th {\n",
       "        vertical-align: top;\n",
       "    }\n",
       "\n",
       "    .dataframe thead th {\n",
       "        text-align: right;\n",
       "    }\n",
       "</style>\n",
       "<table border=\"1\" class=\"dataframe\">\n",
       "  <thead>\n",
       "    <tr style=\"text-align: right;\">\n",
       "      <th></th>\n",
       "      <th>education_id</th>\n",
       "      <th>education</th>\n",
       "    </tr>\n",
       "  </thead>\n",
       "  <tbody>\n",
       "    <tr>\n",
       "      <td>0</td>\n",
       "      <td>0</td>\n",
       "      <td>высшее</td>\n",
       "    </tr>\n",
       "    <tr>\n",
       "      <td>1</td>\n",
       "      <td>1</td>\n",
       "      <td>среднее</td>\n",
       "    </tr>\n",
       "    <tr>\n",
       "      <td>2</td>\n",
       "      <td>2</td>\n",
       "      <td>неоконченное высшее</td>\n",
       "    </tr>\n",
       "    <tr>\n",
       "      <td>3</td>\n",
       "      <td>3</td>\n",
       "      <td>начальное</td>\n",
       "    </tr>\n",
       "    <tr>\n",
       "      <td>4</td>\n",
       "      <td>4</td>\n",
       "      <td>ученая степень</td>\n",
       "    </tr>\n",
       "  </tbody>\n",
       "</table>\n",
       "</div>"
      ],
      "text/plain": [
       "   education_id            education\n",
       "0             0               высшее\n",
       "1             1              среднее\n",
       "2             2  неоконченное высшее\n",
       "3             3            начальное\n",
       "4             4       ученая степень"
      ]
     },
     "metadata": {},
     "output_type": "display_data"
    }
   ],
   "source": [
    "data1 = df[['education_id', 'education']]\n",
    "columns1 = ['education_id', 'education']\n",
    "new_education = pd.DataFrame(data= data1, columns = columns1) # создаем новый датафрйем new_education\n",
    "new_education =new_education.drop_duplicates().reset_index(drop = True)\n",
    "display(new_education.head(10)) "
   ]
  },
  {
   "cell_type": "code",
   "execution_count": 99,
   "id": "bc7f4e9d",
   "metadata": {},
   "outputs": [
    {
     "data": {
      "text/html": [
       "<div>\n",
       "<style scoped>\n",
       "    .dataframe tbody tr th:only-of-type {\n",
       "        vertical-align: middle;\n",
       "    }\n",
       "\n",
       "    .dataframe tbody tr th {\n",
       "        vertical-align: top;\n",
       "    }\n",
       "\n",
       "    .dataframe thead th {\n",
       "        text-align: right;\n",
       "    }\n",
       "</style>\n",
       "<table border=\"1\" class=\"dataframe\">\n",
       "  <thead>\n",
       "    <tr style=\"text-align: right;\">\n",
       "      <th></th>\n",
       "      <th>family_status_id</th>\n",
       "      <th>family_status</th>\n",
       "    </tr>\n",
       "  </thead>\n",
       "  <tbody>\n",
       "    <tr>\n",
       "      <td>0</td>\n",
       "      <td>0</td>\n",
       "      <td>женат / замужем</td>\n",
       "    </tr>\n",
       "    <tr>\n",
       "      <td>1</td>\n",
       "      <td>1</td>\n",
       "      <td>гражданский брак</td>\n",
       "    </tr>\n",
       "    <tr>\n",
       "      <td>2</td>\n",
       "      <td>2</td>\n",
       "      <td>вдовец / вдова</td>\n",
       "    </tr>\n",
       "    <tr>\n",
       "      <td>3</td>\n",
       "      <td>3</td>\n",
       "      <td>в разводе</td>\n",
       "    </tr>\n",
       "    <tr>\n",
       "      <td>4</td>\n",
       "      <td>4</td>\n",
       "      <td>не женат / не замужем</td>\n",
       "    </tr>\n",
       "  </tbody>\n",
       "</table>\n",
       "</div>"
      ],
      "text/plain": [
       "   family_status_id          family_status\n",
       "0                 0        женат / замужем\n",
       "1                 1       гражданский брак\n",
       "2                 2         вдовец / вдова\n",
       "3                 3              в разводе\n",
       "4                 4  не женат / не замужем"
      ]
     },
     "metadata": {},
     "output_type": "display_data"
    }
   ],
   "source": [
    "data2 = df[['family_status_id','family_status']]\n",
    "columns2 = ['family_status_id','family_status']\n",
    "new_family = pd.DataFrame(data= data2, columns = columns2)\n",
    "new_family =new_family.drop_duplicates().reset_index(drop = True)\n",
    "display(new_family.head(10))\n"
   ]
  },
  {
   "cell_type": "markdown",
   "id": "a5d3a89f",
   "metadata": {},
   "source": [
    "создаем новый датафрйем"
   ]
  },
  {
   "cell_type": "code",
   "execution_count": 100,
   "id": "0d2f8842",
   "metadata": {
    "scrolled": true
   },
   "outputs": [
    {
     "data": {
      "text/html": [
       "<div>\n",
       "<style scoped>\n",
       "    .dataframe tbody tr th:only-of-type {\n",
       "        vertical-align: middle;\n",
       "    }\n",
       "\n",
       "    .dataframe tbody tr th {\n",
       "        vertical-align: top;\n",
       "    }\n",
       "\n",
       "    .dataframe thead th {\n",
       "        text-align: right;\n",
       "    }\n",
       "</style>\n",
       "<table border=\"1\" class=\"dataframe\">\n",
       "  <thead>\n",
       "    <tr style=\"text-align: right;\">\n",
       "      <th></th>\n",
       "      <th>children</th>\n",
       "      <th>days_employed</th>\n",
       "      <th>dob_years</th>\n",
       "      <th>education_id</th>\n",
       "      <th>family_status_id</th>\n",
       "      <th>gender</th>\n",
       "      <th>income_type</th>\n",
       "      <th>debt</th>\n",
       "      <th>total_income</th>\n",
       "      <th>purpose</th>\n",
       "      <th>total_income_category</th>\n",
       "      <th>purpose_category</th>\n",
       "      <th>children_group</th>\n",
       "      <th>family_status_id_group</th>\n",
       "      <th>debt_group</th>\n",
       "    </tr>\n",
       "  </thead>\n",
       "  <tbody>\n",
       "    <tr>\n",
       "      <td>0</td>\n",
       "      <td>1</td>\n",
       "      <td>8437</td>\n",
       "      <td>42</td>\n",
       "      <td>0</td>\n",
       "      <td>0</td>\n",
       "      <td>F</td>\n",
       "      <td>сотрудник</td>\n",
       "      <td>0</td>\n",
       "      <td>253875</td>\n",
       "      <td>покупка жилья</td>\n",
       "      <td>B</td>\n",
       "      <td>операции с недвижимостью</td>\n",
       "      <td>с детьми</td>\n",
       "      <td>в браке</td>\n",
       "      <td>не было долгов</td>\n",
       "    </tr>\n",
       "    <tr>\n",
       "      <td>1</td>\n",
       "      <td>1</td>\n",
       "      <td>4024</td>\n",
       "      <td>36</td>\n",
       "      <td>1</td>\n",
       "      <td>0</td>\n",
       "      <td>F</td>\n",
       "      <td>сотрудник</td>\n",
       "      <td>0</td>\n",
       "      <td>112080</td>\n",
       "      <td>приобретение автомобиля</td>\n",
       "      <td>C</td>\n",
       "      <td>операции с автомобилем</td>\n",
       "      <td>с детьми</td>\n",
       "      <td>в браке</td>\n",
       "      <td>не было долгов</td>\n",
       "    </tr>\n",
       "    <tr>\n",
       "      <td>2</td>\n",
       "      <td>0</td>\n",
       "      <td>5623</td>\n",
       "      <td>33</td>\n",
       "      <td>1</td>\n",
       "      <td>0</td>\n",
       "      <td>M</td>\n",
       "      <td>сотрудник</td>\n",
       "      <td>0</td>\n",
       "      <td>145885</td>\n",
       "      <td>покупка жилья</td>\n",
       "      <td>C</td>\n",
       "      <td>операции с недвижимостью</td>\n",
       "      <td>бездетные</td>\n",
       "      <td>в браке</td>\n",
       "      <td>не было долгов</td>\n",
       "    </tr>\n",
       "    <tr>\n",
       "      <td>3</td>\n",
       "      <td>3</td>\n",
       "      <td>4124</td>\n",
       "      <td>32</td>\n",
       "      <td>1</td>\n",
       "      <td>0</td>\n",
       "      <td>M</td>\n",
       "      <td>сотрудник</td>\n",
       "      <td>0</td>\n",
       "      <td>267628</td>\n",
       "      <td>дополнительное образование</td>\n",
       "      <td>B</td>\n",
       "      <td>получение образования</td>\n",
       "      <td>с детьми</td>\n",
       "      <td>в браке</td>\n",
       "      <td>не было долгов</td>\n",
       "    </tr>\n",
       "    <tr>\n",
       "      <td>4</td>\n",
       "      <td>0</td>\n",
       "      <td>340266</td>\n",
       "      <td>53</td>\n",
       "      <td>1</td>\n",
       "      <td>1</td>\n",
       "      <td>F</td>\n",
       "      <td>пенсионер</td>\n",
       "      <td>0</td>\n",
       "      <td>158616</td>\n",
       "      <td>сыграть свадьбу</td>\n",
       "      <td>C</td>\n",
       "      <td>проведение свадьбы</td>\n",
       "      <td>бездетные</td>\n",
       "      <td>гражданский брак</td>\n",
       "      <td>не было долгов</td>\n",
       "    </tr>\n",
       "    <tr>\n",
       "      <td>5</td>\n",
       "      <td>0</td>\n",
       "      <td>926</td>\n",
       "      <td>27</td>\n",
       "      <td>0</td>\n",
       "      <td>1</td>\n",
       "      <td>M</td>\n",
       "      <td>компаньон</td>\n",
       "      <td>0</td>\n",
       "      <td>255763</td>\n",
       "      <td>покупка жилья</td>\n",
       "      <td>B</td>\n",
       "      <td>операции с недвижимостью</td>\n",
       "      <td>бездетные</td>\n",
       "      <td>гражданский брак</td>\n",
       "      <td>не было долгов</td>\n",
       "    </tr>\n",
       "    <tr>\n",
       "      <td>6</td>\n",
       "      <td>0</td>\n",
       "      <td>2879</td>\n",
       "      <td>43</td>\n",
       "      <td>0</td>\n",
       "      <td>0</td>\n",
       "      <td>F</td>\n",
       "      <td>компаньон</td>\n",
       "      <td>0</td>\n",
       "      <td>240525</td>\n",
       "      <td>операции с жильем</td>\n",
       "      <td>B</td>\n",
       "      <td>операции с недвижимостью</td>\n",
       "      <td>бездетные</td>\n",
       "      <td>в браке</td>\n",
       "      <td>не было долгов</td>\n",
       "    </tr>\n",
       "    <tr>\n",
       "      <td>7</td>\n",
       "      <td>0</td>\n",
       "      <td>152</td>\n",
       "      <td>50</td>\n",
       "      <td>1</td>\n",
       "      <td>0</td>\n",
       "      <td>M</td>\n",
       "      <td>сотрудник</td>\n",
       "      <td>0</td>\n",
       "      <td>135823</td>\n",
       "      <td>образование</td>\n",
       "      <td>C</td>\n",
       "      <td>получение образования</td>\n",
       "      <td>бездетные</td>\n",
       "      <td>в браке</td>\n",
       "      <td>не было долгов</td>\n",
       "    </tr>\n",
       "    <tr>\n",
       "      <td>8</td>\n",
       "      <td>2</td>\n",
       "      <td>6929</td>\n",
       "      <td>35</td>\n",
       "      <td>0</td>\n",
       "      <td>1</td>\n",
       "      <td>F</td>\n",
       "      <td>сотрудник</td>\n",
       "      <td>0</td>\n",
       "      <td>95856</td>\n",
       "      <td>на проведение свадьбы</td>\n",
       "      <td>C</td>\n",
       "      <td>проведение свадьбы</td>\n",
       "      <td>с детьми</td>\n",
       "      <td>гражданский брак</td>\n",
       "      <td>не было долгов</td>\n",
       "    </tr>\n",
       "    <tr>\n",
       "      <td>9</td>\n",
       "      <td>0</td>\n",
       "      <td>2188</td>\n",
       "      <td>41</td>\n",
       "      <td>1</td>\n",
       "      <td>0</td>\n",
       "      <td>M</td>\n",
       "      <td>сотрудник</td>\n",
       "      <td>0</td>\n",
       "      <td>144425</td>\n",
       "      <td>покупка жилья для семьи</td>\n",
       "      <td>C</td>\n",
       "      <td>операции с недвижимостью</td>\n",
       "      <td>бездетные</td>\n",
       "      <td>в браке</td>\n",
       "      <td>не было долгов</td>\n",
       "    </tr>\n",
       "    <tr>\n",
       "      <td>10</td>\n",
       "      <td>2</td>\n",
       "      <td>4171</td>\n",
       "      <td>36</td>\n",
       "      <td>0</td>\n",
       "      <td>0</td>\n",
       "      <td>M</td>\n",
       "      <td>компаньон</td>\n",
       "      <td>0</td>\n",
       "      <td>113943</td>\n",
       "      <td>покупка недвижимости</td>\n",
       "      <td>C</td>\n",
       "      <td>операции с недвижимостью</td>\n",
       "      <td>с детьми</td>\n",
       "      <td>в браке</td>\n",
       "      <td>не было долгов</td>\n",
       "    </tr>\n",
       "    <tr>\n",
       "      <td>11</td>\n",
       "      <td>0</td>\n",
       "      <td>792</td>\n",
       "      <td>40</td>\n",
       "      <td>1</td>\n",
       "      <td>0</td>\n",
       "      <td>F</td>\n",
       "      <td>сотрудник</td>\n",
       "      <td>0</td>\n",
       "      <td>77069</td>\n",
       "      <td>покупка коммерческой недвижимости</td>\n",
       "      <td>C</td>\n",
       "      <td>операции с недвижимостью</td>\n",
       "      <td>бездетные</td>\n",
       "      <td>в браке</td>\n",
       "      <td>не было долгов</td>\n",
       "    </tr>\n",
       "    <tr>\n",
       "      <td>12</td>\n",
       "      <td>0</td>\n",
       "      <td>2194</td>\n",
       "      <td>65</td>\n",
       "      <td>1</td>\n",
       "      <td>1</td>\n",
       "      <td>M</td>\n",
       "      <td>пенсионер</td>\n",
       "      <td>0</td>\n",
       "      <td>145017</td>\n",
       "      <td>сыграть свадьбу</td>\n",
       "      <td>C</td>\n",
       "      <td>проведение свадьбы</td>\n",
       "      <td>бездетные</td>\n",
       "      <td>гражданский брак</td>\n",
       "      <td>не было долгов</td>\n",
       "    </tr>\n",
       "    <tr>\n",
       "      <td>13</td>\n",
       "      <td>0</td>\n",
       "      <td>1846</td>\n",
       "      <td>54</td>\n",
       "      <td>2</td>\n",
       "      <td>0</td>\n",
       "      <td>F</td>\n",
       "      <td>сотрудник</td>\n",
       "      <td>0</td>\n",
       "      <td>130458</td>\n",
       "      <td>приобретение автомобиля</td>\n",
       "      <td>C</td>\n",
       "      <td>операции с автомобилем</td>\n",
       "      <td>бездетные</td>\n",
       "      <td>в браке</td>\n",
       "      <td>не было долгов</td>\n",
       "    </tr>\n",
       "    <tr>\n",
       "      <td>14</td>\n",
       "      <td>0</td>\n",
       "      <td>1844</td>\n",
       "      <td>56</td>\n",
       "      <td>0</td>\n",
       "      <td>1</td>\n",
       "      <td>F</td>\n",
       "      <td>компаньон</td>\n",
       "      <td>1</td>\n",
       "      <td>165127</td>\n",
       "      <td>покупка жилой недвижимости</td>\n",
       "      <td>C</td>\n",
       "      <td>операции с недвижимостью</td>\n",
       "      <td>бездетные</td>\n",
       "      <td>гражданский брак</td>\n",
       "      <td>долг был</td>\n",
       "    </tr>\n",
       "    <tr>\n",
       "      <td>15</td>\n",
       "      <td>1</td>\n",
       "      <td>972</td>\n",
       "      <td>26</td>\n",
       "      <td>1</td>\n",
       "      <td>0</td>\n",
       "      <td>F</td>\n",
       "      <td>сотрудник</td>\n",
       "      <td>0</td>\n",
       "      <td>116820</td>\n",
       "      <td>строительство собственной недвижимости</td>\n",
       "      <td>C</td>\n",
       "      <td>операции с недвижимостью</td>\n",
       "      <td>с детьми</td>\n",
       "      <td>в браке</td>\n",
       "      <td>не было долгов</td>\n",
       "    </tr>\n",
       "    <tr>\n",
       "      <td>16</td>\n",
       "      <td>0</td>\n",
       "      <td>1719</td>\n",
       "      <td>35</td>\n",
       "      <td>1</td>\n",
       "      <td>0</td>\n",
       "      <td>F</td>\n",
       "      <td>сотрудник</td>\n",
       "      <td>0</td>\n",
       "      <td>289202</td>\n",
       "      <td>недвижимость</td>\n",
       "      <td>B</td>\n",
       "      <td>операции с недвижимостью</td>\n",
       "      <td>бездетные</td>\n",
       "      <td>в браке</td>\n",
       "      <td>не было долгов</td>\n",
       "    </tr>\n",
       "    <tr>\n",
       "      <td>17</td>\n",
       "      <td>0</td>\n",
       "      <td>2369</td>\n",
       "      <td>33</td>\n",
       "      <td>0</td>\n",
       "      <td>1</td>\n",
       "      <td>M</td>\n",
       "      <td>сотрудник</td>\n",
       "      <td>0</td>\n",
       "      <td>90410</td>\n",
       "      <td>строительство недвижимости</td>\n",
       "      <td>C</td>\n",
       "      <td>операции с недвижимостью</td>\n",
       "      <td>бездетные</td>\n",
       "      <td>гражданский брак</td>\n",
       "      <td>не было долгов</td>\n",
       "    </tr>\n",
       "    <tr>\n",
       "      <td>18</td>\n",
       "      <td>0</td>\n",
       "      <td>400281</td>\n",
       "      <td>53</td>\n",
       "      <td>1</td>\n",
       "      <td>2</td>\n",
       "      <td>F</td>\n",
       "      <td>пенсионер</td>\n",
       "      <td>0</td>\n",
       "      <td>56823</td>\n",
       "      <td>на покупку подержанного автомобиля</td>\n",
       "      <td>C</td>\n",
       "      <td>операции с автомобилем</td>\n",
       "      <td>бездетные</td>\n",
       "      <td>одинокие</td>\n",
       "      <td>не было долгов</td>\n",
       "    </tr>\n",
       "    <tr>\n",
       "      <td>19</td>\n",
       "      <td>0</td>\n",
       "      <td>10038</td>\n",
       "      <td>48</td>\n",
       "      <td>1</td>\n",
       "      <td>3</td>\n",
       "      <td>F</td>\n",
       "      <td>сотрудник</td>\n",
       "      <td>0</td>\n",
       "      <td>242831</td>\n",
       "      <td>на покупку своего автомобиля</td>\n",
       "      <td>B</td>\n",
       "      <td>операции с автомобилем</td>\n",
       "      <td>бездетные</td>\n",
       "      <td>одинокие</td>\n",
       "      <td>не было долгов</td>\n",
       "    </tr>\n",
       "  </tbody>\n",
       "</table>\n",
       "</div>"
      ],
      "text/plain": [
       "    children  days_employed  dob_years  education_id  family_status_id gender  \\\n",
       "0          1           8437         42             0                 0      F   \n",
       "1          1           4024         36             1                 0      F   \n",
       "2          0           5623         33             1                 0      M   \n",
       "3          3           4124         32             1                 0      M   \n",
       "4          0         340266         53             1                 1      F   \n",
       "5          0            926         27             0                 1      M   \n",
       "6          0           2879         43             0                 0      F   \n",
       "7          0            152         50             1                 0      M   \n",
       "8          2           6929         35             0                 1      F   \n",
       "9          0           2188         41             1                 0      M   \n",
       "10         2           4171         36             0                 0      M   \n",
       "11         0            792         40             1                 0      F   \n",
       "12         0           2194         65             1                 1      M   \n",
       "13         0           1846         54             2                 0      F   \n",
       "14         0           1844         56             0                 1      F   \n",
       "15         1            972         26             1                 0      F   \n",
       "16         0           1719         35             1                 0      F   \n",
       "17         0           2369         33             0                 1      M   \n",
       "18         0         400281         53             1                 2      F   \n",
       "19         0          10038         48             1                 3      F   \n",
       "\n",
       "   income_type  debt  total_income                                 purpose  \\\n",
       "0    сотрудник     0        253875                           покупка жилья   \n",
       "1    сотрудник     0        112080                 приобретение автомобиля   \n",
       "2    сотрудник     0        145885                           покупка жилья   \n",
       "3    сотрудник     0        267628              дополнительное образование   \n",
       "4    пенсионер     0        158616                         сыграть свадьбу   \n",
       "5    компаньон     0        255763                           покупка жилья   \n",
       "6    компаньон     0        240525                       операции с жильем   \n",
       "7    сотрудник     0        135823                             образование   \n",
       "8    сотрудник     0         95856                   на проведение свадьбы   \n",
       "9    сотрудник     0        144425                 покупка жилья для семьи   \n",
       "10   компаньон     0        113943                    покупка недвижимости   \n",
       "11   сотрудник     0         77069       покупка коммерческой недвижимости   \n",
       "12   пенсионер     0        145017                         сыграть свадьбу   \n",
       "13   сотрудник     0        130458                 приобретение автомобиля   \n",
       "14   компаньон     1        165127              покупка жилой недвижимости   \n",
       "15   сотрудник     0        116820  строительство собственной недвижимости   \n",
       "16   сотрудник     0        289202                            недвижимость   \n",
       "17   сотрудник     0         90410              строительство недвижимости   \n",
       "18   пенсионер     0         56823      на покупку подержанного автомобиля   \n",
       "19   сотрудник     0        242831            на покупку своего автомобиля   \n",
       "\n",
       "   total_income_category          purpose_category children_group  \\\n",
       "0                      B  операции с недвижимостью       с детьми   \n",
       "1                      C    операции с автомобилем       с детьми   \n",
       "2                      C  операции с недвижимостью      бездетные   \n",
       "3                      B     получение образования       с детьми   \n",
       "4                      C        проведение свадьбы      бездетные   \n",
       "5                      B  операции с недвижимостью      бездетные   \n",
       "6                      B  операции с недвижимостью      бездетные   \n",
       "7                      C     получение образования      бездетные   \n",
       "8                      C        проведение свадьбы       с детьми   \n",
       "9                      C  операции с недвижимостью      бездетные   \n",
       "10                     C  операции с недвижимостью       с детьми   \n",
       "11                     C  операции с недвижимостью      бездетные   \n",
       "12                     C        проведение свадьбы      бездетные   \n",
       "13                     C    операции с автомобилем      бездетные   \n",
       "14                     C  операции с недвижимостью      бездетные   \n",
       "15                     C  операции с недвижимостью       с детьми   \n",
       "16                     B  операции с недвижимостью      бездетные   \n",
       "17                     C  операции с недвижимостью      бездетные   \n",
       "18                     C    операции с автомобилем      бездетные   \n",
       "19                     B    операции с автомобилем      бездетные   \n",
       "\n",
       "   family_status_id_group      debt_group  \n",
       "0                 в браке  не было долгов  \n",
       "1                 в браке  не было долгов  \n",
       "2                 в браке  не было долгов  \n",
       "3                 в браке  не было долгов  \n",
       "4        гражданский брак  не было долгов  \n",
       "5        гражданский брак  не было долгов  \n",
       "6                 в браке  не было долгов  \n",
       "7                 в браке  не было долгов  \n",
       "8        гражданский брак  не было долгов  \n",
       "9                 в браке  не было долгов  \n",
       "10                в браке  не было долгов  \n",
       "11                в браке  не было долгов  \n",
       "12       гражданский брак  не было долгов  \n",
       "13                в браке  не было долгов  \n",
       "14       гражданский брак        долг был  \n",
       "15                в браке  не было долгов  \n",
       "16                в браке  не было долгов  \n",
       "17       гражданский брак  не было долгов  \n",
       "18               одинокие  не было долгов  \n",
       "19               одинокие  не было долгов  "
      ]
     },
     "metadata": {},
     "output_type": "display_data"
    }
   ],
   "source": [
    "df = df.drop(columns=['education','family_status'])\n",
    "display(df.head(20)) "
   ]
  },
  {
   "cell_type": "markdown",
   "id": "46efe611",
   "metadata": {},
   "source": [
    "удаляем столбцы из исохдного датафрейма "
   ]
  },
  {
   "cell_type": "markdown",
   "id": "7092fb98",
   "metadata": {},
   "source": [
    "### Шаг 2.6. Категоризация дохода."
   ]
  },
  {
   "cell_type": "code",
   "execution_count": 86,
   "id": "9fd35d16",
   "metadata": {},
   "outputs": [
    {
     "data": {
      "text/plain": [
       "C    16033\n",
       "B     5041\n",
       "D      350\n",
       "A       25\n",
       "E       22\n",
       "Name: total_income_category, dtype: int64"
      ]
     },
     "metadata": {},
     "output_type": "display_data"
    }
   ],
   "source": [
    "def total_income_fun (income):\n",
    "    if income <= 30000:\n",
    "        return 'E'\n",
    "    if  income >=30001 and income <= 50000:\n",
    "        return 'D'\n",
    "    if income >= 50001 and income <= 200000:\n",
    "        return 'C'\n",
    "    if income >= 200001 and income <= 1000000:\n",
    "        return 'B'\n",
    "    if income >= 1000001:\n",
    "        return 'A'\n",
    "df['total_income_category'] = df['total_income'].apply(total_income_fun)        \n",
    "display(df['total_income_category'].value_counts())  \n"
   ]
  },
  {
   "cell_type": "markdown",
   "id": "d90133c3",
   "metadata": {},
   "source": [
    "функция для присваивания катеогрии по доходу в качестве аргумента берет весь столбец total_income"
   ]
  },
  {
   "cell_type": "markdown",
   "id": "8ed7e80a",
   "metadata": {},
   "source": [
    "### Шаг 2.7. Категоризация целей кредита."
   ]
  },
  {
   "cell_type": "code",
   "execution_count": 87,
   "id": "f5c73cb9",
   "metadata": {},
   "outputs": [
    {
     "data": {
      "text/plain": [
       "операции с недвижимостью    10814\n",
       "операции с автомобилем       4308\n",
       "получение образования        4014\n",
       "проведение свадьбы           2335\n",
       "Name: purpose_category, dtype: int64"
      ]
     },
     "metadata": {},
     "output_type": "display_data"
    }
   ],
   "source": [
    "def purpose_category_fun (purpose):\n",
    "    if 'жиль' in purpose or 'недвиж' in purpose:\n",
    "        return 'операции с недвижимостью'\n",
    "    if 'авто' in purpose:\n",
    "        return 'операции с автомобилем'\n",
    "    if 'образов' in purpose:\n",
    "        return 'получение образования'\n",
    "    if 'свадь' in purpose:\n",
    "        return 'проведение свадьбы'\n",
    "    return 'цель не найдена'\n",
    "df['purpose_category'] = df['purpose'].apply(purpose_category_fun) # применяем функцию к всему столбцу \n",
    "display(df['purpose_category'].value_counts())\n"
   ]
  },
  {
   "cell_type": "markdown",
   "id": "e338c083",
   "metadata": {},
   "source": [
    "функция для опеределения целей кредита"
   ]
  },
  {
   "cell_type": "markdown",
   "id": "bebeb8b3",
   "metadata": {},
   "source": [
    "### Ответы на вопросы."
   ]
  },
  {
   "cell_type": "code",
   "execution_count": 88,
   "id": "5ffe7d8b",
   "metadata": {},
   "outputs": [
    {
     "data": {
      "text/plain": [
       "бездетные    14107\n",
       "с детьми      7364\n",
       "Name: children_group, dtype: int64"
      ]
     },
     "metadata": {},
     "output_type": "display_data"
    }
   ],
   "source": [
    "def children_group (children):\n",
    "    if children == 0:\n",
    "        return 'бездетные'\n",
    "    if children <= 20:\n",
    "        return 'с детьми'\n",
    "    return 'ошибка'\n",
    "\n",
    "df['children_group'] = df['children'].apply(children_group)\n",
    "display(df['children_group'].value_counts())\n"
   ]
  },
  {
   "cell_type": "markdown",
   "id": "387e8303",
   "metadata": {},
   "source": [
    "функция для катеогрий по кол-ву детей \n",
    "почему не может быть 20 детей ? может их усыновили ? \n",
    "Отнесем их к катеогрии с детьми\n",
    " "
   ]
  },
  {
   "cell_type": "code",
   "execution_count": 89,
   "id": "4b55e521",
   "metadata": {},
   "outputs": [
    {
     "data": {
      "text/plain": [
       "в браке             12344\n",
       "одинокие             4964\n",
       "гражданский брак     4163\n",
       "Name: family_status_id_group, dtype: int64"
      ]
     },
     "metadata": {},
     "output_type": "display_data"
    }
   ],
   "source": [
    "def family_status_group (family_status): \n",
    "    if family_status == 0:\n",
    "        return 'в браке'\n",
    "    if family_status == 1:\n",
    "        return 'гражданский брак'\n",
    "    return 'одинокие'\n",
    "df['family_status_id_group'] = df['family_status_id'].apply(family_status_group)\n",
    "display(df['family_status_id_group'].value_counts())"
   ]
  },
  {
   "cell_type": "markdown",
   "id": "e5e17156",
   "metadata": {},
   "source": [
    "функция для катеогрий по типу проживания "
   ]
  },
  {
   "cell_type": "code",
   "execution_count": 90,
   "id": "d986a74f",
   "metadata": {},
   "outputs": [
    {
     "data": {
      "text/plain": [
       "не было долгов    19730\n",
       "долг был           1741\n",
       "Name: debt_group, dtype: int64"
      ]
     },
     "metadata": {},
     "output_type": "display_data"
    }
   ],
   "source": [
    "def debt_group (debt): \n",
    "    if debt == 0:\n",
    "        return 'не было долгов'\n",
    "    return 'долг был'\n",
    "df['debt_group'] = df['debt'].apply(debt_group)\n",
    "display(df['debt_group'].value_counts())"
   ]
  },
  {
   "cell_type": "markdown",
   "id": "cb2b58fa",
   "metadata": {},
   "source": [
    "функция для группировки по долгу"
   ]
  },
  {
   "cell_type": "markdown",
   "id": "a799b30e",
   "metadata": {},
   "source": [
    "##### Вопрос 1:"
   ]
  },
  {
   "cell_type": "code",
   "execution_count": 91,
   "id": "f2392891",
   "metadata": {
    "scrolled": true
   },
   "outputs": [
    {
     "data": {
      "text/html": [
       "<div>\n",
       "<style scoped>\n",
       "    .dataframe tbody tr th:only-of-type {\n",
       "        vertical-align: middle;\n",
       "    }\n",
       "\n",
       "    .dataframe tbody tr th {\n",
       "        vertical-align: top;\n",
       "    }\n",
       "\n",
       "    .dataframe thead th {\n",
       "        text-align: right;\n",
       "    }\n",
       "</style>\n",
       "<table border=\"1\" class=\"dataframe\">\n",
       "  <thead>\n",
       "    <tr style=\"text-align: right;\">\n",
       "      <th>debt_group</th>\n",
       "      <th>долг был</th>\n",
       "      <th>не было долгов</th>\n",
       "    </tr>\n",
       "    <tr>\n",
       "      <th>children_group</th>\n",
       "      <th></th>\n",
       "      <th></th>\n",
       "    </tr>\n",
       "  </thead>\n",
       "  <tbody>\n",
       "    <tr>\n",
       "      <td>бездетные</td>\n",
       "      <td>1063</td>\n",
       "      <td>13044</td>\n",
       "    </tr>\n",
       "    <tr>\n",
       "      <td>с детьми</td>\n",
       "      <td>678</td>\n",
       "      <td>6686</td>\n",
       "    </tr>\n",
       "  </tbody>\n",
       "</table>\n",
       "</div>"
      ],
      "text/plain": [
       "debt_group      долг был  не было долгов\n",
       "children_group                          \n",
       "бездетные           1063           13044\n",
       "с детьми             678            6686"
      ]
     },
     "metadata": {},
     "output_type": "display_data"
    }
   ],
   "source": [
    "data_children = df.pivot_table(index = ['children_group'], columns = 'debt_group' , values = 'debt' ,aggfunc='count')\n",
    "display(data_children) \n"
   ]
  },
  {
   "cell_type": "markdown",
   "id": "6b38691d",
   "metadata": {},
   "source": [
    "сортировка по детям "
   ]
  },
  {
   "cell_type": "code",
   "execution_count": 92,
   "id": "df97b071",
   "metadata": {},
   "outputs": [
    {
     "data": {
      "text/html": [
       "<div>\n",
       "<style scoped>\n",
       "    .dataframe tbody tr th:only-of-type {\n",
       "        vertical-align: middle;\n",
       "    }\n",
       "\n",
       "    .dataframe tbody tr th {\n",
       "        vertical-align: top;\n",
       "    }\n",
       "\n",
       "    .dataframe thead th {\n",
       "        text-align: right;\n",
       "    }\n",
       "</style>\n",
       "<table border=\"1\" class=\"dataframe\">\n",
       "  <thead>\n",
       "    <tr style=\"text-align: right;\">\n",
       "      <th>debt_group</th>\n",
       "      <th>долг был</th>\n",
       "      <th>не было долгов</th>\n",
       "    </tr>\n",
       "    <tr>\n",
       "      <th>family_status_id_group</th>\n",
       "      <th></th>\n",
       "      <th></th>\n",
       "    </tr>\n",
       "  </thead>\n",
       "  <tbody>\n",
       "    <tr>\n",
       "      <td>в браке</td>\n",
       "      <td>931</td>\n",
       "      <td>11413</td>\n",
       "    </tr>\n",
       "    <tr>\n",
       "      <td>гражданский брак</td>\n",
       "      <td>388</td>\n",
       "      <td>3775</td>\n",
       "    </tr>\n",
       "    <tr>\n",
       "      <td>одинокие</td>\n",
       "      <td>422</td>\n",
       "      <td>4542</td>\n",
       "    </tr>\n",
       "  </tbody>\n",
       "</table>\n",
       "</div>"
      ],
      "text/plain": [
       "debt_group              долг был  не было долгов\n",
       "family_status_id_group                          \n",
       "в браке                      931           11413\n",
       "гражданский брак             388            3775\n",
       "одинокие                     422            4542"
      ]
     },
     "metadata": {},
     "output_type": "display_data"
    }
   ],
   "source": [
    "data_family = df.pivot_table(index = ['family_status_id_group'], columns = 'debt_group' , values = 'debt' ,aggfunc='count')\n",
    "display(data_family) "
   ]
  },
  {
   "cell_type": "markdown",
   "id": "b705dbcd",
   "metadata": {},
   "source": [
    "сортировка по статус брака "
   ]
  },
  {
   "cell_type": "code",
   "execution_count": 93,
   "id": "cf9ae00e",
   "metadata": {},
   "outputs": [
    {
     "data": {
      "text/html": [
       "<div>\n",
       "<style scoped>\n",
       "    .dataframe tbody tr th:only-of-type {\n",
       "        vertical-align: middle;\n",
       "    }\n",
       "\n",
       "    .dataframe tbody tr th {\n",
       "        vertical-align: top;\n",
       "    }\n",
       "\n",
       "    .dataframe thead th {\n",
       "        text-align: right;\n",
       "    }\n",
       "</style>\n",
       "<table border=\"1\" class=\"dataframe\">\n",
       "  <thead>\n",
       "    <tr style=\"text-align: right;\">\n",
       "      <th>debt_group</th>\n",
       "      <th>долг был</th>\n",
       "      <th>не было долгов</th>\n",
       "    </tr>\n",
       "    <tr>\n",
       "      <th>total_income_category</th>\n",
       "      <th></th>\n",
       "      <th></th>\n",
       "    </tr>\n",
       "  </thead>\n",
       "  <tbody>\n",
       "    <tr>\n",
       "      <td>A</td>\n",
       "      <td>2</td>\n",
       "      <td>23</td>\n",
       "    </tr>\n",
       "    <tr>\n",
       "      <td>B</td>\n",
       "      <td>356</td>\n",
       "      <td>4685</td>\n",
       "    </tr>\n",
       "    <tr>\n",
       "      <td>C</td>\n",
       "      <td>1360</td>\n",
       "      <td>14673</td>\n",
       "    </tr>\n",
       "    <tr>\n",
       "      <td>D</td>\n",
       "      <td>21</td>\n",
       "      <td>329</td>\n",
       "    </tr>\n",
       "    <tr>\n",
       "      <td>E</td>\n",
       "      <td>2</td>\n",
       "      <td>20</td>\n",
       "    </tr>\n",
       "  </tbody>\n",
       "</table>\n",
       "</div>"
      ],
      "text/plain": [
       "debt_group             долг был  не было долгов\n",
       "total_income_category                          \n",
       "A                             2              23\n",
       "B                           356            4685\n",
       "C                          1360           14673\n",
       "D                            21             329\n",
       "E                             2              20"
      ]
     },
     "metadata": {},
     "output_type": "display_data"
    }
   ],
   "source": [
    "data_income = df.pivot_table(index = ['total_income_category'], columns = 'debt_group' , values = 'debt' ,aggfunc='count')\n",
    "display(data_income) "
   ]
  },
  {
   "cell_type": "markdown",
   "id": "019a35af",
   "metadata": {},
   "source": [
    "сортировка по доходу"
   ]
  },
  {
   "cell_type": "code",
   "execution_count": 94,
   "id": "b285adc6",
   "metadata": {},
   "outputs": [
    {
     "data": {
      "text/html": [
       "<div>\n",
       "<style scoped>\n",
       "    .dataframe tbody tr th:only-of-type {\n",
       "        vertical-align: middle;\n",
       "    }\n",
       "\n",
       "    .dataframe tbody tr th {\n",
       "        vertical-align: top;\n",
       "    }\n",
       "\n",
       "    .dataframe thead th {\n",
       "        text-align: right;\n",
       "    }\n",
       "</style>\n",
       "<table border=\"1\" class=\"dataframe\">\n",
       "  <thead>\n",
       "    <tr style=\"text-align: right;\">\n",
       "      <th>debt_group</th>\n",
       "      <th>долг был</th>\n",
       "      <th>не было долгов</th>\n",
       "    </tr>\n",
       "    <tr>\n",
       "      <th>purpose_category</th>\n",
       "      <th></th>\n",
       "      <th></th>\n",
       "    </tr>\n",
       "  </thead>\n",
       "  <tbody>\n",
       "    <tr>\n",
       "      <td>операции с автомобилем</td>\n",
       "      <td>403</td>\n",
       "      <td>3905</td>\n",
       "    </tr>\n",
       "    <tr>\n",
       "      <td>операции с недвижимостью</td>\n",
       "      <td>782</td>\n",
       "      <td>10032</td>\n",
       "    </tr>\n",
       "    <tr>\n",
       "      <td>получение образования</td>\n",
       "      <td>370</td>\n",
       "      <td>3644</td>\n",
       "    </tr>\n",
       "    <tr>\n",
       "      <td>проведение свадьбы</td>\n",
       "      <td>186</td>\n",
       "      <td>2149</td>\n",
       "    </tr>\n",
       "  </tbody>\n",
       "</table>\n",
       "</div>"
      ],
      "text/plain": [
       "debt_group                долг был  не было долгов\n",
       "purpose_category                                  \n",
       "операции с автомобилем         403            3905\n",
       "операции с недвижимостью       782           10032\n",
       "получение образования          370            3644\n",
       "проведение свадьбы             186            2149"
      ]
     },
     "metadata": {},
     "output_type": "display_data"
    }
   ],
   "source": [
    "data_purpose = df.pivot_table(index = ['purpose_category'], columns = 'debt_group' , values = 'debt' ,aggfunc='count')\n",
    "display(data_purpose) "
   ]
  },
  {
   "cell_type": "markdown",
   "id": "892bb001",
   "metadata": {},
   "source": [
    "сортировка по цели получения "
   ]
  },
  {
   "cell_type": "markdown",
   "id": "56aed607",
   "metadata": {},
   "source": [
    "Тут демонстрируем сводные таблицы по катеоргиям ответ на все вопросы ниже "
   ]
  },
  {
   "cell_type": "markdown",
   "id": "c61103a8",
   "metadata": {},
   "source": [
    "##### Вывод 1:"
   ]
  },
  {
   "cell_type": "code",
   "execution_count": 95,
   "id": "d51864de",
   "metadata": {},
   "outputs": [
    {
     "data": {
      "text/html": [
       "<div>\n",
       "<style scoped>\n",
       "    .dataframe tbody tr th:only-of-type {\n",
       "        vertical-align: middle;\n",
       "    }\n",
       "\n",
       "    .dataframe tbody tr th {\n",
       "        vertical-align: top;\n",
       "    }\n",
       "\n",
       "    .dataframe thead th {\n",
       "        text-align: right;\n",
       "    }\n",
       "</style>\n",
       "<table border=\"1\" class=\"dataframe\">\n",
       "  <thead>\n",
       "    <tr style=\"text-align: right;\">\n",
       "      <th>debt_group</th>\n",
       "      <th>долг был</th>\n",
       "      <th>не было долгов</th>\n",
       "      <th>проценты с проблемами</th>\n",
       "    </tr>\n",
       "    <tr>\n",
       "      <th>children_group</th>\n",
       "      <th></th>\n",
       "      <th></th>\n",
       "      <th></th>\n",
       "    </tr>\n",
       "  </thead>\n",
       "  <tbody>\n",
       "    <tr>\n",
       "      <td>бездетные</td>\n",
       "      <td>1063</td>\n",
       "      <td>13044</td>\n",
       "      <td>7.535266</td>\n",
       "    </tr>\n",
       "    <tr>\n",
       "      <td>с детьми</td>\n",
       "      <td>678</td>\n",
       "      <td>6686</td>\n",
       "      <td>9.206953</td>\n",
       "    </tr>\n",
       "  </tbody>\n",
       "</table>\n",
       "</div>"
      ],
      "text/plain": [
       "debt_group      долг был  не было долгов  проценты с проблемами\n",
       "children_group                                                 \n",
       "бездетные           1063           13044               7.535266\n",
       "с детьми             678            6686               9.206953"
      ]
     },
     "metadata": {},
     "output_type": "display_data"
    },
    {
     "data": {
      "text/html": [
       "<div>\n",
       "<style scoped>\n",
       "    .dataframe tbody tr th:only-of-type {\n",
       "        vertical-align: middle;\n",
       "    }\n",
       "\n",
       "    .dataframe tbody tr th {\n",
       "        vertical-align: top;\n",
       "    }\n",
       "\n",
       "    .dataframe thead th {\n",
       "        text-align: right;\n",
       "    }\n",
       "</style>\n",
       "<table border=\"1\" class=\"dataframe\">\n",
       "  <thead>\n",
       "    <tr style=\"text-align: right;\">\n",
       "      <th>debt_group</th>\n",
       "      <th>долг был</th>\n",
       "      <th>не было долгов</th>\n",
       "      <th>проценты с проблемами</th>\n",
       "    </tr>\n",
       "    <tr>\n",
       "      <th>family_status_id_group</th>\n",
       "      <th></th>\n",
       "      <th></th>\n",
       "      <th></th>\n",
       "    </tr>\n",
       "  </thead>\n",
       "  <tbody>\n",
       "    <tr>\n",
       "      <td>в браке</td>\n",
       "      <td>931</td>\n",
       "      <td>11413</td>\n",
       "      <td>7.542126</td>\n",
       "    </tr>\n",
       "    <tr>\n",
       "      <td>гражданский брак</td>\n",
       "      <td>388</td>\n",
       "      <td>3775</td>\n",
       "      <td>9.320202</td>\n",
       "    </tr>\n",
       "    <tr>\n",
       "      <td>одинокие</td>\n",
       "      <td>422</td>\n",
       "      <td>4542</td>\n",
       "      <td>8.501209</td>\n",
       "    </tr>\n",
       "  </tbody>\n",
       "</table>\n",
       "</div>"
      ],
      "text/plain": [
       "debt_group              долг был  не было долгов  проценты с проблемами\n",
       "family_status_id_group                                                 \n",
       "в браке                      931           11413               7.542126\n",
       "гражданский брак             388            3775               9.320202\n",
       "одинокие                     422            4542               8.501209"
      ]
     },
     "metadata": {},
     "output_type": "display_data"
    },
    {
     "data": {
      "text/html": [
       "<div>\n",
       "<style scoped>\n",
       "    .dataframe tbody tr th:only-of-type {\n",
       "        vertical-align: middle;\n",
       "    }\n",
       "\n",
       "    .dataframe tbody tr th {\n",
       "        vertical-align: top;\n",
       "    }\n",
       "\n",
       "    .dataframe thead th {\n",
       "        text-align: right;\n",
       "    }\n",
       "</style>\n",
       "<table border=\"1\" class=\"dataframe\">\n",
       "  <thead>\n",
       "    <tr style=\"text-align: right;\">\n",
       "      <th>debt_group</th>\n",
       "      <th>долг был</th>\n",
       "      <th>не было долгов</th>\n",
       "      <th>проценты с проблемами</th>\n",
       "    </tr>\n",
       "    <tr>\n",
       "      <th>total_income_category</th>\n",
       "      <th></th>\n",
       "      <th></th>\n",
       "      <th></th>\n",
       "    </tr>\n",
       "  </thead>\n",
       "  <tbody>\n",
       "    <tr>\n",
       "      <td>A</td>\n",
       "      <td>2</td>\n",
       "      <td>23</td>\n",
       "      <td>8.000000</td>\n",
       "    </tr>\n",
       "    <tr>\n",
       "      <td>B</td>\n",
       "      <td>356</td>\n",
       "      <td>4685</td>\n",
       "      <td>7.062091</td>\n",
       "    </tr>\n",
       "    <tr>\n",
       "      <td>C</td>\n",
       "      <td>1360</td>\n",
       "      <td>14673</td>\n",
       "      <td>8.482505</td>\n",
       "    </tr>\n",
       "    <tr>\n",
       "      <td>D</td>\n",
       "      <td>21</td>\n",
       "      <td>329</td>\n",
       "      <td>6.000000</td>\n",
       "    </tr>\n",
       "    <tr>\n",
       "      <td>E</td>\n",
       "      <td>2</td>\n",
       "      <td>20</td>\n",
       "      <td>9.090909</td>\n",
       "    </tr>\n",
       "  </tbody>\n",
       "</table>\n",
       "</div>"
      ],
      "text/plain": [
       "debt_group             долг был  не было долгов  проценты с проблемами\n",
       "total_income_category                                                 \n",
       "A                             2              23               8.000000\n",
       "B                           356            4685               7.062091\n",
       "C                          1360           14673               8.482505\n",
       "D                            21             329               6.000000\n",
       "E                             2              20               9.090909"
      ]
     },
     "metadata": {},
     "output_type": "display_data"
    },
    {
     "data": {
      "text/html": [
       "<div>\n",
       "<style scoped>\n",
       "    .dataframe tbody tr th:only-of-type {\n",
       "        vertical-align: middle;\n",
       "    }\n",
       "\n",
       "    .dataframe tbody tr th {\n",
       "        vertical-align: top;\n",
       "    }\n",
       "\n",
       "    .dataframe thead th {\n",
       "        text-align: right;\n",
       "    }\n",
       "</style>\n",
       "<table border=\"1\" class=\"dataframe\">\n",
       "  <thead>\n",
       "    <tr style=\"text-align: right;\">\n",
       "      <th>debt_group</th>\n",
       "      <th>долг был</th>\n",
       "      <th>не было долгов</th>\n",
       "      <th>проценты с проблемами</th>\n",
       "    </tr>\n",
       "    <tr>\n",
       "      <th>purpose_category</th>\n",
       "      <th></th>\n",
       "      <th></th>\n",
       "      <th></th>\n",
       "    </tr>\n",
       "  </thead>\n",
       "  <tbody>\n",
       "    <tr>\n",
       "      <td>операции с автомобилем</td>\n",
       "      <td>403</td>\n",
       "      <td>3905</td>\n",
       "      <td>9.354689</td>\n",
       "    </tr>\n",
       "    <tr>\n",
       "      <td>операции с недвижимостью</td>\n",
       "      <td>782</td>\n",
       "      <td>10032</td>\n",
       "      <td>7.231367</td>\n",
       "    </tr>\n",
       "    <tr>\n",
       "      <td>получение образования</td>\n",
       "      <td>370</td>\n",
       "      <td>3644</td>\n",
       "      <td>9.217738</td>\n",
       "    </tr>\n",
       "    <tr>\n",
       "      <td>проведение свадьбы</td>\n",
       "      <td>186</td>\n",
       "      <td>2149</td>\n",
       "      <td>7.965739</td>\n",
       "    </tr>\n",
       "  </tbody>\n",
       "</table>\n",
       "</div>"
      ],
      "text/plain": [
       "debt_group                долг был  не было долгов  проценты с проблемами\n",
       "purpose_category                                                         \n",
       "операции с автомобилем         403            3905               9.354689\n",
       "операции с недвижимостью       782           10032               7.231367\n",
       "получение образования          370            3644               9.217738\n",
       "проведение свадьбы             186            2149               7.965739"
      ]
     },
     "metadata": {},
     "output_type": "display_data"
    }
   ],
   "source": [
    "def final_df (data):\n",
    "    def final_row(row):\n",
    "        return row['долг был'] / (row['долг был']+row['не было долгов'])*100\n",
    "    data['проценты с проблемами'] = data.apply(final_row,axis=1)\n",
    "    return data\n",
    "display(final_df(data_children))\n",
    "display(final_df(data_family))\n",
    "display(final_df(data_income))\n",
    "display(final_df(data_purpose))\n"
   ]
  },
  {
   "cell_type": "markdown",
   "id": "789f4e8b",
   "metadata": {},
   "source": [
    "функция для поиска зависимостей делит всех у кого были проблемы с возвратом на всех кто брал кредит "
   ]
  },
  {
   "cell_type": "markdown",
   "id": "5334a919",
   "metadata": {},
   "source": [
    "1- Зависимость наличие детей и возврата в кредита в срок : Люди без детей 7% были проблемы с возвратом, с наличием детей 9%\n",
    "2 - Семейное положение и возврат в срок : в браке (официальном) 7.5% проблем\n",
    "гражданский 9.3% проблем\n",
    "Одинокие - 8.5%\n",
    "Самый низкий риск у людей в браке \n",
    "3- Доход на возврат в срок самая безрисковая категория D - 6% , самый выссокий риск у катеории E - 9 % (но там довольно маленькая выборка )\n",
    "4 - Цели кредита самый низкий риск у операции с недвижимостью 7.2%, самый выскойи у операции с автомобилем 9.3 % "
   ]
  },
  {
   "cell_type": "markdown",
   "id": "dd2d0a52",
   "metadata": {},
   "source": [
    "## Общий вывод:"
   ]
  },
  {
   "cell_type": "markdown",
   "id": "f2b07045",
   "metadata": {},
   "source": [
    "Наличие детей минимально влияет на проблемы с возвратом кредита \n",
    "Семейное положение так же имеет минимальное влияние на проблемы с возвратом кредита в срок порядка 2%\n",
    "Самые большие отклонения находьтся в доходе там разница может достигать 3% "
   ]
  },
  {
   "cell_type": "markdown",
   "id": "c83e4132",
   "metadata": {},
   "source": [
    "\n",
    "Произвели группировку и рассчеты  по признакам : \n",
    "1. Наличие детей \n",
    "2. Семейное положение \n",
    "3. Общий доход \n",
    "Вывод: \n",
    "1. Наличие детей существено не сказывается на возврат в срок. Разница между группами между группами 1.7% в пользу группы без детей\n",
    "2. Семейное положение так же не играет существенной роли на возврат в срок. Разница в группах 1.8% в полбзу группы  'в браке'\n",
    "3. По котегориям дохода уже существует более заметная разница там разница между самой выско рисковой и самой низкорисковой группой 3%\n",
    "4. По группам цели кредита самое большое колебание в группах 2.1%"
   ]
  }
 ],
 "metadata": {
  "ExecuteTimeLog": [
   {
    "duration": 561,
    "start_time": "2022-02-05T10:38:54.485Z"
   },
   {
    "duration": 69,
    "start_time": "2022-02-05T10:38:58.477Z"
   },
   {
    "duration": 11,
    "start_time": "2022-02-05T10:39:16.559Z"
   },
   {
    "duration": 20,
    "start_time": "2022-02-05T10:41:02.603Z"
   },
   {
    "duration": 6,
    "start_time": "2022-02-05T10:50:54.381Z"
   },
   {
    "duration": 10,
    "start_time": "2022-02-05T10:51:11.089Z"
   },
   {
    "duration": 100,
    "start_time": "2022-02-05T10:51:36.109Z"
   },
   {
    "duration": 6,
    "start_time": "2022-02-05T10:51:43.362Z"
   },
   {
    "duration": 4,
    "start_time": "2022-02-05T11:17:55.746Z"
   },
   {
    "duration": 63,
    "start_time": "2022-02-05T11:18:58.907Z"
   },
   {
    "duration": 23,
    "start_time": "2022-02-05T11:19:10.533Z"
   },
   {
    "duration": 27,
    "start_time": "2022-02-05T11:20:40.769Z"
   },
   {
    "duration": 28,
    "start_time": "2022-02-05T11:21:28.621Z"
   },
   {
    "duration": 65,
    "start_time": "2022-02-05T11:21:35.486Z"
   },
   {
    "duration": 11,
    "start_time": "2022-02-05T11:21:35.554Z"
   },
   {
    "duration": 27,
    "start_time": "2022-02-05T11:21:35.566Z"
   },
   {
    "duration": 12,
    "start_time": "2022-02-05T11:21:35.595Z"
   },
   {
    "duration": 28,
    "start_time": "2022-02-05T11:21:35.608Z"
   },
   {
    "duration": 35,
    "start_time": "2022-02-05T11:23:58.499Z"
   },
   {
    "duration": 13,
    "start_time": "2022-02-05T11:24:39.310Z"
   },
   {
    "duration": 12,
    "start_time": "2022-02-05T11:25:10.536Z"
   },
   {
    "duration": 42,
    "start_time": "2022-02-05T11:31:20.477Z"
   },
   {
    "duration": 3,
    "start_time": "2022-02-05T11:31:55.481Z"
   },
   {
    "duration": 12,
    "start_time": "2022-02-05T11:31:58.350Z"
   },
   {
    "duration": 35,
    "start_time": "2022-02-05T11:34:56.595Z"
   },
   {
    "duration": 72,
    "start_time": "2022-02-05T11:36:28.808Z"
   },
   {
    "duration": 7,
    "start_time": "2022-02-05T11:37:03.928Z"
   },
   {
    "duration": 23,
    "start_time": "2022-02-05T11:38:33.835Z"
   },
   {
    "duration": 21,
    "start_time": "2022-02-05T11:39:31.095Z"
   },
   {
    "duration": 30,
    "start_time": "2022-02-05T11:40:33.459Z"
   },
   {
    "duration": 32,
    "start_time": "2022-02-05T11:40:43.288Z"
   },
   {
    "duration": 31,
    "start_time": "2022-02-05T11:40:46.810Z"
   },
   {
    "duration": 359,
    "start_time": "2022-02-05T12:09:46.351Z"
   },
   {
    "duration": 277,
    "start_time": "2022-02-05T12:10:07.961Z"
   },
   {
    "duration": 5,
    "start_time": "2022-02-05T12:10:37.944Z"
   },
   {
    "duration": 10,
    "start_time": "2022-02-05T12:10:51.557Z"
   },
   {
    "duration": 10,
    "start_time": "2022-02-05T12:11:30.988Z"
   },
   {
    "duration": 306,
    "start_time": "2022-02-05T12:13:44.171Z"
   },
   {
    "duration": 9,
    "start_time": "2022-02-05T12:13:57.119Z"
   },
   {
    "duration": 12,
    "start_time": "2022-02-05T12:14:42.231Z"
   },
   {
    "duration": 262,
    "start_time": "2022-02-05T12:38:11.166Z"
   },
   {
    "duration": 284,
    "start_time": "2022-02-05T12:38:34.880Z"
   },
   {
    "duration": 11,
    "start_time": "2022-02-05T12:39:30.547Z"
   },
   {
    "duration": 257,
    "start_time": "2022-02-05T12:43:57.260Z"
   },
   {
    "duration": 276,
    "start_time": "2022-02-05T12:44:55.684Z"
   },
   {
    "duration": 11,
    "start_time": "2022-02-05T12:46:12.063Z"
   },
   {
    "duration": 9,
    "start_time": "2022-02-05T12:46:19.814Z"
   },
   {
    "duration": 12,
    "start_time": "2022-02-05T12:46:30.078Z"
   },
   {
    "duration": 62,
    "start_time": "2022-02-05T12:46:54.569Z"
   },
   {
    "duration": 8,
    "start_time": "2022-02-05T12:46:54.633Z"
   },
   {
    "duration": 38,
    "start_time": "2022-02-05T12:46:54.643Z"
   },
   {
    "duration": 12,
    "start_time": "2022-02-05T12:46:54.682Z"
   },
   {
    "duration": 48,
    "start_time": "2022-02-05T12:46:54.696Z"
   },
   {
    "duration": 4,
    "start_time": "2022-02-05T12:46:54.746Z"
   },
   {
    "duration": 40,
    "start_time": "2022-02-05T12:46:54.751Z"
   },
   {
    "duration": 41,
    "start_time": "2022-02-05T12:46:54.793Z"
   },
   {
    "duration": 40,
    "start_time": "2022-02-05T12:46:54.836Z"
   },
   {
    "duration": 100,
    "start_time": "2022-02-05T12:46:54.878Z"
   },
   {
    "duration": 20,
    "start_time": "2022-02-05T12:46:54.980Z"
   },
   {
    "duration": 31,
    "start_time": "2022-02-05T12:46:55.002Z"
   },
   {
    "duration": 43,
    "start_time": "2022-02-05T12:46:55.034Z"
   },
   {
    "duration": 25,
    "start_time": "2022-02-05T12:46:55.079Z"
   },
   {
    "duration": 8,
    "start_time": "2022-02-05T12:47:02.451Z"
   },
   {
    "duration": 13,
    "start_time": "2022-02-05T12:47:09.141Z"
   },
   {
    "duration": 14,
    "start_time": "2022-02-05T12:48:10.574Z"
   },
   {
    "duration": 11,
    "start_time": "2022-02-05T12:49:15.831Z"
   },
   {
    "duration": 12,
    "start_time": "2022-02-05T12:49:38.479Z"
   },
   {
    "duration": 13,
    "start_time": "2022-02-05T12:50:13.500Z"
   },
   {
    "duration": 13,
    "start_time": "2022-02-05T12:56:38.772Z"
   },
   {
    "duration": 2,
    "start_time": "2022-02-05T13:35:04.447Z"
   },
   {
    "duration": 1310,
    "start_time": "2022-02-05T13:35:53.323Z"
   },
   {
    "duration": 12,
    "start_time": "2022-02-05T13:36:05.626Z"
   },
   {
    "duration": 30,
    "start_time": "2022-02-05T13:36:17.069Z"
   },
   {
    "duration": 19,
    "start_time": "2022-02-05T13:40:10.262Z"
   },
   {
    "duration": 21,
    "start_time": "2022-02-05T13:40:40.218Z"
   },
   {
    "duration": 92,
    "start_time": "2022-02-05T13:40:51.601Z"
   },
   {
    "duration": 19,
    "start_time": "2022-02-05T13:40:57.960Z"
   },
   {
    "duration": 24,
    "start_time": "2022-02-05T13:44:36.012Z"
   },
   {
    "duration": 60,
    "start_time": "2022-02-05T13:44:48.534Z"
   },
   {
    "duration": 9,
    "start_time": "2022-02-05T13:44:48.596Z"
   },
   {
    "duration": 44,
    "start_time": "2022-02-05T13:44:48.607Z"
   },
   {
    "duration": 18,
    "start_time": "2022-02-05T13:44:48.653Z"
   },
   {
    "duration": 34,
    "start_time": "2022-02-05T13:44:48.673Z"
   },
   {
    "duration": 3,
    "start_time": "2022-02-05T13:44:48.709Z"
   },
   {
    "duration": 24,
    "start_time": "2022-02-05T13:44:48.713Z"
   },
   {
    "duration": 57,
    "start_time": "2022-02-05T13:44:48.739Z"
   },
   {
    "duration": 24,
    "start_time": "2022-02-05T13:44:48.799Z"
   },
   {
    "duration": 98,
    "start_time": "2022-02-05T13:44:48.825Z"
   },
   {
    "duration": 47,
    "start_time": "2022-02-05T13:44:48.924Z"
   },
   {
    "duration": 28,
    "start_time": "2022-02-05T13:44:48.973Z"
   },
   {
    "duration": 11,
    "start_time": "2022-02-05T13:44:49.002Z"
   },
   {
    "duration": 11,
    "start_time": "2022-02-05T13:44:49.015Z"
   },
   {
    "duration": 11,
    "start_time": "2022-02-05T13:44:49.028Z"
   },
   {
    "duration": 20,
    "start_time": "2022-02-05T13:44:49.072Z"
   },
   {
    "duration": 8,
    "start_time": "2022-02-05T13:56:41.551Z"
   },
   {
    "duration": 332,
    "start_time": "2022-02-05T13:59:40.947Z"
   },
   {
    "duration": 133,
    "start_time": "2022-02-05T14:09:35.339Z"
   },
   {
    "duration": 23,
    "start_time": "2022-02-05T14:09:42.542Z"
   },
   {
    "duration": 15,
    "start_time": "2022-02-05T14:10:25.911Z"
   },
   {
    "duration": 7263,
    "start_time": "2022-02-05T14:16:26.124Z"
   },
   {
    "duration": 14,
    "start_time": "2022-02-05T14:16:54.194Z"
   },
   {
    "duration": 12,
    "start_time": "2022-02-05T16:04:59.298Z"
   },
   {
    "duration": 6623,
    "start_time": "2022-02-05T16:05:15.759Z"
   },
   {
    "duration": 6711,
    "start_time": "2022-02-05T16:09:35.506Z"
   },
   {
    "duration": 11,
    "start_time": "2022-02-05T16:09:58.083Z"
   },
   {
    "duration": 11,
    "start_time": "2022-02-05T16:10:45.554Z"
   },
   {
    "duration": 304,
    "start_time": "2022-02-05T16:18:45.560Z"
   },
   {
    "duration": 715,
    "start_time": "2022-02-05T16:20:55.972Z"
   },
   {
    "duration": 107,
    "start_time": "2022-02-05T16:21:40.502Z"
   },
   {
    "duration": 105,
    "start_time": "2022-02-05T16:21:53.616Z"
   },
   {
    "duration": 298,
    "start_time": "2022-02-05T16:22:11.232Z"
   },
   {
    "duration": 20,
    "start_time": "2022-02-05T16:22:38.166Z"
   },
   {
    "duration": 20,
    "start_time": "2022-02-05T16:23:28.725Z"
   },
   {
    "duration": 299,
    "start_time": "2022-02-05T16:24:08.545Z"
   },
   {
    "duration": 21,
    "start_time": "2022-02-05T16:24:29.305Z"
   },
   {
    "duration": 20,
    "start_time": "2022-02-05T16:27:08.283Z"
   },
   {
    "duration": 112,
    "start_time": "2022-02-05T16:30:42.184Z"
   },
   {
    "duration": 18,
    "start_time": "2022-02-05T16:30:49.588Z"
   },
   {
    "duration": 276,
    "start_time": "2022-02-05T16:31:27.707Z"
   },
   {
    "duration": 18,
    "start_time": "2022-02-05T16:31:59.674Z"
   },
   {
    "duration": 18,
    "start_time": "2022-02-05T16:36:04.885Z"
   },
   {
    "duration": 18,
    "start_time": "2022-02-05T16:37:05.982Z"
   },
   {
    "duration": 17,
    "start_time": "2022-02-05T16:38:15.741Z"
   },
   {
    "duration": 17,
    "start_time": "2022-02-05T16:38:38.821Z"
   },
   {
    "duration": 17,
    "start_time": "2022-02-05T16:40:19.065Z"
   },
   {
    "duration": 21,
    "start_time": "2022-02-05T16:41:40.011Z"
   },
   {
    "duration": 19,
    "start_time": "2022-02-05T16:43:24.295Z"
   },
   {
    "duration": 19,
    "start_time": "2022-02-05T16:43:53.004Z"
   },
   {
    "duration": 82,
    "start_time": "2022-02-05T18:38:28.272Z"
   },
   {
    "duration": 263,
    "start_time": "2022-02-05T18:38:42.605Z"
   },
   {
    "duration": 296,
    "start_time": "2022-02-05T18:39:01.380Z"
   },
   {
    "duration": 267,
    "start_time": "2022-02-05T18:39:11.114Z"
   },
   {
    "duration": 1097,
    "start_time": "2022-02-05T18:40:18.359Z"
   },
   {
    "duration": 268,
    "start_time": "2022-02-05T18:46:39.357Z"
   },
   {
    "duration": 267,
    "start_time": "2022-02-05T18:47:23.384Z"
   },
   {
    "duration": 312,
    "start_time": "2022-02-05T18:47:50.253Z"
   },
   {
    "duration": 324,
    "start_time": "2022-02-05T18:48:26.824Z"
   },
   {
    "duration": 312,
    "start_time": "2022-02-05T18:52:12.259Z"
   },
   {
    "duration": 6583,
    "start_time": "2022-02-05T18:54:31.316Z"
   },
   {
    "duration": 7077,
    "start_time": "2022-02-05T18:55:01.249Z"
   },
   {
    "duration": 64,
    "start_time": "2022-02-05T18:55:29.311Z"
   },
   {
    "duration": 8,
    "start_time": "2022-02-05T18:55:29.376Z"
   },
   {
    "duration": 28,
    "start_time": "2022-02-05T18:55:29.386Z"
   },
   {
    "duration": 13,
    "start_time": "2022-02-05T18:55:29.415Z"
   },
   {
    "duration": 67,
    "start_time": "2022-02-05T18:55:29.429Z"
   },
   {
    "duration": 3,
    "start_time": "2022-02-05T18:55:29.498Z"
   },
   {
    "duration": 17,
    "start_time": "2022-02-05T18:55:29.502Z"
   },
   {
    "duration": 75,
    "start_time": "2022-02-05T18:55:29.520Z"
   },
   {
    "duration": 27,
    "start_time": "2022-02-05T18:55:29.597Z"
   },
   {
    "duration": 365,
    "start_time": "2022-02-05T18:55:29.626Z"
   },
   {
    "duration": -64,
    "start_time": "2022-02-05T18:55:30.057Z"
   },
   {
    "duration": -77,
    "start_time": "2022-02-05T18:55:30.071Z"
   },
   {
    "duration": -91,
    "start_time": "2022-02-05T18:55:30.086Z"
   },
   {
    "duration": -96,
    "start_time": "2022-02-05T18:55:30.092Z"
   },
   {
    "duration": -103,
    "start_time": "2022-02-05T18:55:30.100Z"
   },
   {
    "duration": -105,
    "start_time": "2022-02-05T18:55:30.104Z"
   },
   {
    "duration": -115,
    "start_time": "2022-02-05T18:55:30.115Z"
   },
   {
    "duration": -118,
    "start_time": "2022-02-05T18:55:30.119Z"
   },
   {
    "duration": -119,
    "start_time": "2022-02-05T18:55:30.122Z"
   },
   {
    "duration": -129,
    "start_time": "2022-02-05T18:55:30.133Z"
   },
   {
    "duration": -132,
    "start_time": "2022-02-05T18:55:30.137Z"
   },
   {
    "duration": -138,
    "start_time": "2022-02-05T18:55:30.144Z"
   },
   {
    "duration": -139,
    "start_time": "2022-02-05T18:55:30.146Z"
   },
   {
    "duration": -141,
    "start_time": "2022-02-05T18:55:30.149Z"
   },
   {
    "duration": -143,
    "start_time": "2022-02-05T18:55:30.153Z"
   },
   {
    "duration": -144,
    "start_time": "2022-02-05T18:55:30.155Z"
   },
   {
    "duration": 343,
    "start_time": "2022-02-05T18:56:15.655Z"
   },
   {
    "duration": 65,
    "start_time": "2022-02-05T18:56:26.478Z"
   },
   {
    "duration": 11,
    "start_time": "2022-02-05T18:57:35.106Z"
   },
   {
    "duration": 96,
    "start_time": "2022-02-05T18:58:04.646Z"
   },
   {
    "duration": 10,
    "start_time": "2022-02-05T18:58:31.369Z"
   },
   {
    "duration": 273,
    "start_time": "2022-02-05T19:00:04.958Z"
   },
   {
    "duration": 10,
    "start_time": "2022-02-05T19:00:17.894Z"
   },
   {
    "duration": 18,
    "start_time": "2022-02-05T19:00:20.517Z"
   },
   {
    "duration": 285,
    "start_time": "2022-02-05T19:00:24.996Z"
   },
   {
    "duration": 64,
    "start_time": "2022-02-05T19:00:37.237Z"
   },
   {
    "duration": 9,
    "start_time": "2022-02-05T19:00:37.303Z"
   },
   {
    "duration": 71,
    "start_time": "2022-02-05T19:00:37.314Z"
   },
   {
    "duration": 16,
    "start_time": "2022-02-05T19:00:37.387Z"
   },
   {
    "duration": 68,
    "start_time": "2022-02-05T19:00:37.405Z"
   },
   {
    "duration": 4,
    "start_time": "2022-02-05T19:00:37.475Z"
   },
   {
    "duration": 18,
    "start_time": "2022-02-05T19:00:37.481Z"
   },
   {
    "duration": 94,
    "start_time": "2022-02-05T19:00:37.501Z"
   },
   {
    "duration": 28,
    "start_time": "2022-02-05T19:00:37.599Z"
   },
   {
    "duration": 99,
    "start_time": "2022-02-05T19:00:37.629Z"
   },
   {
    "duration": 46,
    "start_time": "2022-02-05T19:00:37.730Z"
   },
   {
    "duration": 28,
    "start_time": "2022-02-05T19:00:37.778Z"
   },
   {
    "duration": 11,
    "start_time": "2022-02-05T19:00:37.807Z"
   },
   {
    "duration": 51,
    "start_time": "2022-02-05T19:00:37.820Z"
   },
   {
    "duration": 13,
    "start_time": "2022-02-05T19:00:37.873Z"
   },
   {
    "duration": 12,
    "start_time": "2022-02-05T19:00:37.888Z"
   },
   {
    "duration": 12,
    "start_time": "2022-02-05T19:00:37.901Z"
   },
   {
    "duration": 10,
    "start_time": "2022-02-05T19:00:37.915Z"
   },
   {
    "duration": 51,
    "start_time": "2022-02-05T19:00:37.927Z"
   },
   {
    "duration": 18,
    "start_time": "2022-02-05T19:00:37.980Z"
   },
   {
    "duration": 18,
    "start_time": "2022-02-05T19:00:38.000Z"
   },
   {
    "duration": 15,
    "start_time": "2022-02-05T19:00:38.019Z"
   },
   {
    "duration": 45,
    "start_time": "2022-02-05T19:00:38.036Z"
   },
   {
    "duration": 16,
    "start_time": "2022-02-05T19:00:38.082Z"
   },
   {
    "duration": 351,
    "start_time": "2022-02-05T19:00:38.100Z"
   },
   {
    "duration": 90,
    "start_time": "2022-02-05T19:00:38.453Z"
   },
   {
    "duration": 330,
    "start_time": "2022-02-05T19:01:10.664Z"
   },
   {
    "duration": 318,
    "start_time": "2022-02-05T19:02:01.724Z"
   },
   {
    "duration": 322,
    "start_time": "2022-02-05T19:02:14.237Z"
   },
   {
    "duration": 323,
    "start_time": "2022-02-06T11:53:36.323Z"
   },
   {
    "duration": 607,
    "start_time": "2022-02-06T11:53:40.886Z"
   },
   {
    "duration": 8,
    "start_time": "2022-02-06T11:53:41.494Z"
   },
   {
    "duration": 26,
    "start_time": "2022-02-06T11:53:41.504Z"
   },
   {
    "duration": 48,
    "start_time": "2022-02-06T11:53:41.532Z"
   },
   {
    "duration": 37,
    "start_time": "2022-02-06T11:53:41.582Z"
   },
   {
    "duration": 3,
    "start_time": "2022-02-06T11:53:41.621Z"
   },
   {
    "duration": 48,
    "start_time": "2022-02-06T11:53:41.625Z"
   },
   {
    "duration": 40,
    "start_time": "2022-02-06T11:53:41.675Z"
   },
   {
    "duration": 56,
    "start_time": "2022-02-06T11:53:41.716Z"
   },
   {
    "duration": 98,
    "start_time": "2022-02-06T11:53:41.774Z"
   },
   {
    "duration": 18,
    "start_time": "2022-02-06T11:53:41.873Z"
   },
   {
    "duration": 28,
    "start_time": "2022-02-06T11:53:41.892Z"
   },
   {
    "duration": 50,
    "start_time": "2022-02-06T11:53:41.922Z"
   },
   {
    "duration": 14,
    "start_time": "2022-02-06T11:53:41.973Z"
   },
   {
    "duration": 12,
    "start_time": "2022-02-06T11:53:41.989Z"
   },
   {
    "duration": 13,
    "start_time": "2022-02-06T11:53:42.002Z"
   },
   {
    "duration": 12,
    "start_time": "2022-02-06T11:53:42.016Z"
   },
   {
    "duration": 50,
    "start_time": "2022-02-06T11:53:42.030Z"
   },
   {
    "duration": 10,
    "start_time": "2022-02-06T11:53:42.082Z"
   },
   {
    "duration": 10,
    "start_time": "2022-02-06T11:53:42.093Z"
   },
   {
    "duration": 21,
    "start_time": "2022-02-06T11:53:42.104Z"
   },
   {
    "duration": 52,
    "start_time": "2022-02-06T11:53:42.126Z"
   },
   {
    "duration": 15,
    "start_time": "2022-02-06T11:53:42.181Z"
   },
   {
    "duration": 16,
    "start_time": "2022-02-06T11:53:42.198Z"
   },
   {
    "duration": 363,
    "start_time": "2022-02-06T11:53:42.215Z"
   },
   {
    "duration": 91,
    "start_time": "2022-02-06T11:53:42.580Z"
   },
   {
    "duration": 20,
    "start_time": "2022-02-06T11:54:03.413Z"
   },
   {
    "duration": 332,
    "start_time": "2022-02-06T11:57:59.826Z"
   },
   {
    "duration": 313,
    "start_time": "2022-02-06T11:58:06.076Z"
   },
   {
    "duration": 319,
    "start_time": "2022-02-06T11:58:15.545Z"
   },
   {
    "duration": 90,
    "start_time": "2022-02-06T12:03:58.826Z"
   },
   {
    "duration": 14,
    "start_time": "2022-02-06T12:04:03.564Z"
   },
   {
    "duration": 17,
    "start_time": "2022-02-06T12:09:34.660Z"
   },
   {
    "duration": 403,
    "start_time": "2022-02-06T12:13:11.638Z"
   },
   {
    "duration": 8,
    "start_time": "2022-02-06T12:18:17.054Z"
   },
   {
    "duration": 8,
    "start_time": "2022-02-06T12:19:22.521Z"
   },
   {
    "duration": 8,
    "start_time": "2022-02-06T12:19:51.326Z"
   },
   {
    "duration": 8,
    "start_time": "2022-02-06T12:21:07.811Z"
   },
   {
    "duration": 12,
    "start_time": "2022-02-06T12:25:33.380Z"
   },
   {
    "duration": 17,
    "start_time": "2022-02-06T12:26:06.496Z"
   },
   {
    "duration": 300,
    "start_time": "2022-02-06T12:27:29.976Z"
   },
   {
    "duration": 21,
    "start_time": "2022-02-06T12:27:41.420Z"
   },
   {
    "duration": 24,
    "start_time": "2022-02-06T12:30:36.290Z"
   },
   {
    "duration": 27,
    "start_time": "2022-02-06T12:30:57.551Z"
   },
   {
    "duration": 66,
    "start_time": "2022-02-06T12:31:06.872Z"
   },
   {
    "duration": 8,
    "start_time": "2022-02-06T12:31:06.939Z"
   },
   {
    "duration": 31,
    "start_time": "2022-02-06T12:31:06.972Z"
   },
   {
    "duration": 14,
    "start_time": "2022-02-06T12:31:07.005Z"
   },
   {
    "duration": 71,
    "start_time": "2022-02-06T12:31:07.021Z"
   },
   {
    "duration": 2,
    "start_time": "2022-02-06T12:31:07.094Z"
   },
   {
    "duration": 13,
    "start_time": "2022-02-06T12:31:07.098Z"
   },
   {
    "duration": 71,
    "start_time": "2022-02-06T12:31:07.113Z"
   },
   {
    "duration": 24,
    "start_time": "2022-02-06T12:31:07.186Z"
   },
   {
    "duration": 99,
    "start_time": "2022-02-06T12:31:07.212Z"
   },
   {
    "duration": 18,
    "start_time": "2022-02-06T12:31:07.312Z"
   },
   {
    "duration": 65,
    "start_time": "2022-02-06T12:31:07.331Z"
   },
   {
    "duration": 11,
    "start_time": "2022-02-06T12:31:07.398Z"
   },
   {
    "duration": 12,
    "start_time": "2022-02-06T12:31:07.411Z"
   },
   {
    "duration": 12,
    "start_time": "2022-02-06T12:31:07.424Z"
   },
   {
    "duration": 14,
    "start_time": "2022-02-06T12:31:07.472Z"
   },
   {
    "duration": 12,
    "start_time": "2022-02-06T12:31:07.487Z"
   },
   {
    "duration": 13,
    "start_time": "2022-02-06T12:31:07.501Z"
   },
   {
    "duration": 10,
    "start_time": "2022-02-06T12:31:07.515Z"
   },
   {
    "duration": 49,
    "start_time": "2022-02-06T12:31:07.527Z"
   },
   {
    "duration": 16,
    "start_time": "2022-02-06T12:31:07.578Z"
   },
   {
    "duration": 23,
    "start_time": "2022-02-06T12:31:07.596Z"
   },
   {
    "duration": 2,
    "start_time": "2022-02-06T12:31:07.622Z"
   },
   {
    "duration": 57,
    "start_time": "2022-02-06T12:31:07.625Z"
   },
   {
    "duration": 15,
    "start_time": "2022-02-06T12:31:07.684Z"
   },
   {
    "duration": 15,
    "start_time": "2022-02-06T12:31:07.701Z"
   },
   {
    "duration": 2,
    "start_time": "2022-02-06T12:31:07.718Z"
   },
   {
    "duration": 61,
    "start_time": "2022-02-06T12:32:25.483Z"
   },
   {
    "duration": 8,
    "start_time": "2022-02-06T12:32:25.545Z"
   },
   {
    "duration": 35,
    "start_time": "2022-02-06T12:32:25.555Z"
   },
   {
    "duration": 12,
    "start_time": "2022-02-06T12:32:25.591Z"
   },
   {
    "duration": 33,
    "start_time": "2022-02-06T12:32:25.604Z"
   },
   {
    "duration": 33,
    "start_time": "2022-02-06T12:32:25.638Z"
   },
   {
    "duration": 11,
    "start_time": "2022-02-06T12:32:25.673Z"
   },
   {
    "duration": 39,
    "start_time": "2022-02-06T12:32:25.686Z"
   },
   {
    "duration": 64,
    "start_time": "2022-02-06T12:32:25.727Z"
   },
   {
    "duration": 94,
    "start_time": "2022-02-06T12:32:25.792Z"
   },
   {
    "duration": 17,
    "start_time": "2022-02-06T12:32:25.887Z"
   },
   {
    "duration": 27,
    "start_time": "2022-02-06T12:32:25.906Z"
   },
   {
    "duration": 45,
    "start_time": "2022-02-06T12:32:25.935Z"
   },
   {
    "duration": 12,
    "start_time": "2022-02-06T12:32:25.982Z"
   },
   {
    "duration": 12,
    "start_time": "2022-02-06T12:32:25.996Z"
   },
   {
    "duration": 13,
    "start_time": "2022-02-06T12:32:26.010Z"
   },
   {
    "duration": 14,
    "start_time": "2022-02-06T12:32:26.072Z"
   },
   {
    "duration": 11,
    "start_time": "2022-02-06T12:32:26.088Z"
   },
   {
    "duration": 10,
    "start_time": "2022-02-06T12:32:26.101Z"
   },
   {
    "duration": 10,
    "start_time": "2022-02-06T12:32:26.112Z"
   },
   {
    "duration": 58,
    "start_time": "2022-02-06T12:32:26.124Z"
   },
   {
    "duration": 15,
    "start_time": "2022-02-06T12:32:26.184Z"
   },
   {
    "duration": 17,
    "start_time": "2022-02-06T12:32:26.202Z"
   },
   {
    "duration": 57,
    "start_time": "2022-02-06T12:32:26.221Z"
   },
   {
    "duration": 22,
    "start_time": "2022-02-06T12:32:26.279Z"
   },
   {
    "duration": 31,
    "start_time": "2022-02-06T13:09:16.862Z"
   },
   {
    "duration": 104,
    "start_time": "2022-02-16T10:40:34.815Z"
   },
   {
    "duration": 362,
    "start_time": "2022-02-16T10:42:13.123Z"
   },
   {
    "duration": 873,
    "start_time": "2022-02-16T10:42:19.407Z"
   },
   {
    "duration": 14,
    "start_time": "2022-02-16T10:42:20.283Z"
   },
   {
    "duration": 38,
    "start_time": "2022-02-16T10:42:20.300Z"
   },
   {
    "duration": 48,
    "start_time": "2022-02-16T10:42:20.341Z"
   },
   {
    "duration": 49,
    "start_time": "2022-02-16T10:42:20.392Z"
   },
   {
    "duration": 88,
    "start_time": "2022-02-16T10:42:20.443Z"
   },
   {
    "duration": 4,
    "start_time": "2022-02-16T10:42:20.533Z"
   },
   {
    "duration": 31,
    "start_time": "2022-02-16T10:42:20.540Z"
   },
   {
    "duration": 105,
    "start_time": "2022-02-16T10:42:20.575Z"
   },
   {
    "duration": 64,
    "start_time": "2022-02-16T10:42:20.683Z"
   },
   {
    "duration": 144,
    "start_time": "2022-02-16T10:42:20.749Z"
   },
   {
    "duration": 54,
    "start_time": "2022-02-16T10:42:20.895Z"
   },
   {
    "duration": 75,
    "start_time": "2022-02-16T10:42:20.952Z"
   },
   {
    "duration": 19,
    "start_time": "2022-02-16T10:42:21.029Z"
   },
   {
    "duration": 20,
    "start_time": "2022-02-16T10:42:21.050Z"
   },
   {
    "duration": 66,
    "start_time": "2022-02-16T10:42:21.072Z"
   },
   {
    "duration": 29,
    "start_time": "2022-02-16T10:42:21.140Z"
   },
   {
    "duration": 51,
    "start_time": "2022-02-16T10:42:21.172Z"
   },
   {
    "duration": 19,
    "start_time": "2022-02-16T10:42:21.226Z"
   },
   {
    "duration": 26,
    "start_time": "2022-02-16T10:42:21.247Z"
   },
   {
    "duration": 52,
    "start_time": "2022-02-16T10:42:21.276Z"
   },
   {
    "duration": 37,
    "start_time": "2022-02-16T10:42:21.330Z"
   },
   {
    "duration": 63,
    "start_time": "2022-02-16T10:42:21.369Z"
   },
   {
    "duration": 27,
    "start_time": "2022-02-16T10:42:21.435Z"
   },
   {
    "duration": 63,
    "start_time": "2022-02-16T10:42:21.464Z"
   },
   {
    "duration": 40,
    "start_time": "2022-02-16T10:42:21.530Z"
   },
   {
    "duration": 25,
    "start_time": "2022-02-16T10:42:38.810Z"
   },
   {
    "duration": 23,
    "start_time": "2022-02-16T10:43:04.139Z"
   },
   {
    "duration": 108,
    "start_time": "2022-02-16T10:43:28.446Z"
   },
   {
    "duration": 17,
    "start_time": "2022-02-16T10:44:57.142Z"
   },
   {
    "duration": 46,
    "start_time": "2022-02-16T10:45:18.884Z"
   },
   {
    "duration": 50,
    "start_time": "2022-02-16T10:45:43.699Z"
   },
   {
    "duration": 148,
    "start_time": "2022-02-16T11:18:20.091Z"
   },
   {
    "duration": 25,
    "start_time": "2022-02-16T11:26:44.238Z"
   },
   {
    "duration": 39,
    "start_time": "2022-02-16T11:27:06.351Z"
   },
   {
    "duration": 240,
    "start_time": "2022-02-16T11:27:19.825Z"
   },
   {
    "duration": 30,
    "start_time": "2022-02-16T11:30:52.174Z"
   },
   {
    "duration": 147,
    "start_time": "2022-02-16T11:30:59.370Z"
   },
   {
    "duration": 5,
    "start_time": "2022-02-16T11:31:37.113Z"
   },
   {
    "duration": 36,
    "start_time": "2022-02-16T11:36:47.245Z"
   },
   {
    "duration": 196,
    "start_time": "2022-02-16T11:36:53.867Z"
   },
   {
    "duration": 55,
    "start_time": "2022-02-16T11:40:21.866Z"
   },
   {
    "duration": 61,
    "start_time": "2022-02-16T11:47:19.537Z"
   },
   {
    "duration": 23,
    "start_time": "2022-02-16T11:47:19.600Z"
   },
   {
    "duration": 19,
    "start_time": "2022-02-16T11:47:19.626Z"
   },
   {
    "duration": 14,
    "start_time": "2022-02-16T11:47:19.648Z"
   },
   {
    "duration": 95,
    "start_time": "2022-02-16T11:47:19.664Z"
   },
   {
    "duration": 65,
    "start_time": "2022-02-16T11:47:19.761Z"
   },
   {
    "duration": 19,
    "start_time": "2022-02-16T11:47:19.828Z"
   },
   {
    "duration": 96,
    "start_time": "2022-02-16T11:47:19.851Z"
   },
   {
    "duration": 5,
    "start_time": "2022-02-16T11:47:19.950Z"
   },
   {
    "duration": 27,
    "start_time": "2022-02-16T11:47:19.959Z"
   },
   {
    "duration": 108,
    "start_time": "2022-02-16T11:47:20.025Z"
   },
   {
    "duration": 32,
    "start_time": "2022-02-16T11:47:20.135Z"
   },
   {
    "duration": 106,
    "start_time": "2022-02-16T11:47:20.169Z"
   },
   {
    "duration": 85,
    "start_time": "2022-02-16T11:47:20.278Z"
   },
   {
    "duration": 62,
    "start_time": "2022-02-16T11:47:20.365Z"
   },
   {
    "duration": 130,
    "start_time": "2022-02-16T11:47:20.429Z"
   },
   {
    "duration": 95,
    "start_time": "2022-02-16T11:47:20.562Z"
   },
   {
    "duration": -28,
    "start_time": "2022-02-16T11:47:20.688Z"
   },
   {
    "duration": -29,
    "start_time": "2022-02-16T11:47:20.690Z"
   },
   {
    "duration": -30,
    "start_time": "2022-02-16T11:47:20.692Z"
   },
   {
    "duration": -32,
    "start_time": "2022-02-16T11:47:20.696Z"
   },
   {
    "duration": -33,
    "start_time": "2022-02-16T11:47:20.698Z"
   },
   {
    "duration": -34,
    "start_time": "2022-02-16T11:47:20.700Z"
   },
   {
    "duration": -41,
    "start_time": "2022-02-16T11:47:20.708Z"
   },
   {
    "duration": -42,
    "start_time": "2022-02-16T11:47:20.711Z"
   },
   {
    "duration": -45,
    "start_time": "2022-02-16T11:47:20.715Z"
   },
   {
    "duration": -46,
    "start_time": "2022-02-16T11:47:20.717Z"
   },
   {
    "duration": -46,
    "start_time": "2022-02-16T11:47:20.719Z"
   },
   {
    "duration": -47,
    "start_time": "2022-02-16T11:47:20.721Z"
   },
   {
    "duration": -51,
    "start_time": "2022-02-16T11:47:20.727Z"
   },
   {
    "duration": -52,
    "start_time": "2022-02-16T11:47:20.729Z"
   },
   {
    "duration": -52,
    "start_time": "2022-02-16T11:47:20.731Z"
   },
   {
    "duration": 369,
    "start_time": "2022-02-16T11:47:26.020Z"
   },
   {
    "duration": 17,
    "start_time": "2022-02-16T11:47:37.452Z"
   },
   {
    "duration": 22,
    "start_time": "2022-02-16T11:47:40.191Z"
   },
   {
    "duration": 20,
    "start_time": "2022-02-16T11:47:42.632Z"
   },
   {
    "duration": 29,
    "start_time": "2022-02-16T11:47:45.267Z"
   },
   {
    "duration": 27,
    "start_time": "2022-02-16T11:47:48.142Z"
   },
   {
    "duration": 332,
    "start_time": "2022-02-16T11:47:50.497Z"
   },
   {
    "duration": 59,
    "start_time": "2022-02-16T11:48:11.695Z"
   },
   {
    "duration": 21,
    "start_time": "2022-02-16T11:48:11.757Z"
   },
   {
    "duration": 20,
    "start_time": "2022-02-16T11:48:11.822Z"
   },
   {
    "duration": 17,
    "start_time": "2022-02-16T11:48:11.846Z"
   },
   {
    "duration": 90,
    "start_time": "2022-02-16T11:48:11.867Z"
   },
   {
    "duration": 75,
    "start_time": "2022-02-16T11:48:11.960Z"
   },
   {
    "duration": 22,
    "start_time": "2022-02-16T11:48:12.038Z"
   },
   {
    "duration": 94,
    "start_time": "2022-02-16T11:48:12.064Z"
   },
   {
    "duration": 5,
    "start_time": "2022-02-16T11:48:12.162Z"
   },
   {
    "duration": 26,
    "start_time": "2022-02-16T11:48:12.169Z"
   },
   {
    "duration": 110,
    "start_time": "2022-02-16T11:48:12.224Z"
   },
   {
    "duration": 31,
    "start_time": "2022-02-16T11:48:12.336Z"
   },
   {
    "duration": 104,
    "start_time": "2022-02-16T11:48:12.369Z"
   },
   {
    "duration": 82,
    "start_time": "2022-02-16T11:48:12.476Z"
   },
   {
    "duration": 66,
    "start_time": "2022-02-16T11:48:12.561Z"
   },
   {
    "duration": 143,
    "start_time": "2022-02-16T11:48:12.629Z"
   },
   {
    "duration": 118,
    "start_time": "2022-02-16T11:48:12.774Z"
   },
   {
    "duration": -26,
    "start_time": "2022-02-16T11:48:12.921Z"
   },
   {
    "duration": -26,
    "start_time": "2022-02-16T11:48:12.923Z"
   },
   {
    "duration": -29,
    "start_time": "2022-02-16T11:48:12.928Z"
   },
   {
    "duration": -30,
    "start_time": "2022-02-16T11:48:12.930Z"
   },
   {
    "duration": -31,
    "start_time": "2022-02-16T11:48:12.932Z"
   },
   {
    "duration": -49,
    "start_time": "2022-02-16T11:48:12.952Z"
   },
   {
    "duration": -50,
    "start_time": "2022-02-16T11:48:12.954Z"
   },
   {
    "duration": -62,
    "start_time": "2022-02-16T11:48:12.967Z"
   },
   {
    "duration": -62,
    "start_time": "2022-02-16T11:48:12.969Z"
   },
   {
    "duration": -63,
    "start_time": "2022-02-16T11:48:12.971Z"
   },
   {
    "duration": -64,
    "start_time": "2022-02-16T11:48:12.973Z"
   },
   {
    "duration": -63,
    "start_time": "2022-02-16T11:48:12.974Z"
   },
   {
    "duration": -63,
    "start_time": "2022-02-16T11:48:12.976Z"
   },
   {
    "duration": -64,
    "start_time": "2022-02-16T11:48:12.978Z"
   },
   {
    "duration": -63,
    "start_time": "2022-02-16T11:48:12.979Z"
   },
   {
    "duration": 23,
    "start_time": "2022-02-16T11:48:22.636Z"
   },
   {
    "duration": 24,
    "start_time": "2022-02-16T11:48:25.025Z"
   },
   {
    "duration": 18,
    "start_time": "2022-02-16T11:48:26.927Z"
   },
   {
    "duration": 18,
    "start_time": "2022-02-16T11:48:28.900Z"
   },
   {
    "duration": 20,
    "start_time": "2022-02-16T11:48:30.882Z"
   },
   {
    "duration": 36,
    "start_time": "2022-02-16T11:48:32.778Z"
   },
   {
    "duration": 27,
    "start_time": "2022-02-16T11:48:34.393Z"
   },
   {
    "duration": 28,
    "start_time": "2022-02-16T11:48:36.218Z"
   },
   {
    "duration": 37,
    "start_time": "2022-02-16T11:48:38.481Z"
   },
   {
    "duration": 37,
    "start_time": "2022-02-16T12:01:03.450Z"
   },
   {
    "duration": 31,
    "start_time": "2022-02-16T12:01:33.698Z"
   },
   {
    "duration": 48,
    "start_time": "2022-02-16T12:01:37.543Z"
   },
   {
    "duration": 20,
    "start_time": "2022-02-16T12:01:43.072Z"
   },
   {
    "duration": 21,
    "start_time": "2022-02-16T12:01:45.756Z"
   },
   {
    "duration": 31,
    "start_time": "2022-02-16T12:01:50.404Z"
   }
  ],
  "kernelspec": {
   "display_name": "Python 3 (ipykernel)",
   "language": "python",
   "name": "python3"
  },
  "language_info": {
   "codemirror_mode": {
    "name": "ipython",
    "version": 3
   },
   "file_extension": ".py",
   "mimetype": "text/x-python",
   "name": "python",
   "nbconvert_exporter": "python",
   "pygments_lexer": "ipython3",
   "version": "3.9.15"
  },
  "toc": {
   "base_numbering": 1,
   "nav_menu": {},
   "number_sections": true,
   "sideBar": true,
   "skip_h1_title": true,
   "title_cell": "Table of Contents",
   "title_sidebar": "Contents",
   "toc_cell": false,
   "toc_position": {},
   "toc_section_display": true,
   "toc_window_display": false
  }
 },
 "nbformat": 4,
 "nbformat_minor": 5
}
