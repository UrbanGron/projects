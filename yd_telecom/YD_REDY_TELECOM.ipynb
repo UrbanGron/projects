{
 "cells": [
  {
   "cell_type": "markdown",
   "metadata": {},
   "source": [
    "<h1>Содержание<span class=\"tocSkip\"></span></h1>\n",
    "<div class=\"toc\"><ul class=\"toc-item\"><li><span><a href=\"#Изучение-данных-из-файла\" data-toc-modified-id=\"Изучение-данных-из-файла-1\"><span class=\"toc-item-num\">1&nbsp;&nbsp;</span>Изучение данных из файла</a></span><ul class=\"toc-item\"><li><span><a href=\"#Вывод\" data-toc-modified-id=\"Вывод-1.1\"><span class=\"toc-item-num\">1.1&nbsp;&nbsp;</span>Вывод</a></span></li></ul></li><li><span><a href=\"#Предобработка-данных\" data-toc-modified-id=\"Предобработка-данных-2\"><span class=\"toc-item-num\">2&nbsp;&nbsp;</span>Предобработка данных</a></span><ul class=\"toc-item\"><li><span><a href=\"#Вывод\" data-toc-modified-id=\"Вывод-2.1\"><span class=\"toc-item-num\">2.1&nbsp;&nbsp;</span>Вывод</a></span></li></ul></li><li><span><a href=\"#Расчёты-и-добавление-результатов-в-таблицу\" data-toc-modified-id=\"Расчёты-и-добавление-результатов-в-таблицу-3\"><span class=\"toc-item-num\">3&nbsp;&nbsp;</span>Расчёты и добавление результатов в таблицу</a></span></li><li><span><a href=\"#Исследовательский-анализ-данных\" data-toc-modified-id=\"Исследовательский-анализ-данных-4\"><span class=\"toc-item-num\">4&nbsp;&nbsp;</span>Исследовательский анализ данных</a></span><ul class=\"toc-item\"><li><span><a href=\"#Избавимся-от-выбросов\" data-toc-modified-id=\"Избавимся-от-выбросов-4.1\"><span class=\"toc-item-num\">4.1&nbsp;&nbsp;</span>Избавимся от выбросов</a></span></li><li><span><a href=\"#Факторы-влияния\" data-toc-modified-id=\"Факторы-влияния-4.2\"><span class=\"toc-item-num\">4.2&nbsp;&nbsp;</span>Факторы влияния</a></span></li><li><span><a href=\"#Населенные-пункты\" data-toc-modified-id=\"Населенные-пункты-4.3\"><span class=\"toc-item-num\">4.3&nbsp;&nbsp;</span>Населенные пункты</a></span></li><li><span><a href=\"#Расстояние-до-центра\" data-toc-modified-id=\"Расстояние-до-центра-4.4\"><span class=\"toc-item-num\">4.4&nbsp;&nbsp;</span>Расстояние до центра</a></span></li></ul></li><li><span><a href=\"#Общий-вывод\" data-toc-modified-id=\"Общий-вывод-5\"><span class=\"toc-item-num\">5&nbsp;&nbsp;</span>Общий вывод</a></span></li><li><span><a href=\"#Чек-лист-готовности-проекта\" data-toc-modified-id=\"Чек-лист-готовности-проекта-6\"><span class=\"toc-item-num\">6&nbsp;&nbsp;</span>Чек-лист готовности проекта</a></span></li></ul></div>\n"
   ]
  },
  {
   "cell_type": "markdown",
   "metadata": {},
   "source": [
    "# Определение перспективного тарифа для телеком-компании\n",
    "\n",
    "Описание проекта\n",
    "Вы аналитик компании «Мегалайн» — федерального оператора сотовой связи. Клиентам предлагают два тарифных плана: «Смарт» и «Ультра». Чтобы скорректировать рекламный бюджет, коммерческий департамент хочет понять, какой тариф приносит больше денег.\n",
    "Вам предстоит сделать предварительный анализ тарифов на небольшой выборке клиентов. В вашем распоряжении данные 500 пользователей «Мегалайна»: кто они, откуда, каким тарифом пользуются, сколько звонков и сообщений каждый отправил за 2018 год. Нужно проанализировать поведение клиентов и сделать вывод — какой тариф лучше.\n",
    "Описание тарифов\n",
    "Тариф «Смарт»\n",
    "Ежемесячная плата: 550 рублей\n",
    "Включено 500 минут разговора, 50 сообщений и 15 Гб интернет-трафика\n",
    "Стоимость услуг сверх тарифного пакета:\n",
    "минута разговора: 3 рубля\n",
    "сообщение: 3 рубля\n",
    "1 Гб интернет-трафика: 200 рублей\n",
    "Тариф «Ультра»\n",
    "Ежемесячная плата: 1950 рублей\n",
    "Включено 3000 минут разговора, 1000 сообщений и 30 Гб интернет-трафика\n",
    "Стоимость услуг сверх тарифного пакета:\n",
    "минута разговора: 1 рубль\n",
    "сообщение: 1 рубль\n",
    "1 Гб интернет-трафика: 150 рублей\n",
    "Примечание:"
   ]
  },
  {
   "cell_type": "markdown",
   "metadata": {},
   "source": [
    "##  Изучение данных из файла"
   ]
  },
  {
   "cell_type": "code",
   "execution_count": 1,
   "metadata": {},
   "outputs": [],
   "source": [
    "import pandas as pd\n",
    "import matplotlib.pyplot as plt\n",
    "import numpy as np\n",
    "from scipy import stats as st\n",
    "import math"
   ]
  },
  {
   "cell_type": "code",
   "execution_count": 2,
   "metadata": {},
   "outputs": [],
   "source": [
    "df_calls = pd.read_csv('/datasets/calls.csv')\n",
    "df_internet = pd.read_csv('/datasets/internet.csv',index_col=0)\n",
    "df_messages = pd.read_csv('/datasets/messages.csv')\n",
    "df_tariffs = pd.read_csv('/datasets/tariffs.csv')\n",
    "df_users = pd.read_csv('/datasets/users.csv')"
   ]
  },
  {
   "cell_type": "markdown",
   "metadata": {},
   "source": [
    "Прочитаем таблицы и сохраним в переменные "
   ]
  },
  {
   "cell_type": "code",
   "execution_count": 3,
   "metadata": {},
   "outputs": [
    {
     "data": {
      "text/html": [
       "<div>\n",
       "<style scoped>\n",
       "    .dataframe tbody tr th:only-of-type {\n",
       "        vertical-align: middle;\n",
       "    }\n",
       "\n",
       "    .dataframe tbody tr th {\n",
       "        vertical-align: top;\n",
       "    }\n",
       "\n",
       "    .dataframe thead th {\n",
       "        text-align: right;\n",
       "    }\n",
       "</style>\n",
       "<table border=\"1\" class=\"dataframe\">\n",
       "  <thead>\n",
       "    <tr style=\"text-align: right;\">\n",
       "      <th></th>\n",
       "      <th>id</th>\n",
       "      <th>call_date</th>\n",
       "      <th>duration</th>\n",
       "      <th>user_id</th>\n",
       "    </tr>\n",
       "  </thead>\n",
       "  <tbody>\n",
       "    <tr>\n",
       "      <th>0</th>\n",
       "      <td>1000_0</td>\n",
       "      <td>2018-07-25</td>\n",
       "      <td>0.00</td>\n",
       "      <td>1000</td>\n",
       "    </tr>\n",
       "    <tr>\n",
       "      <th>1</th>\n",
       "      <td>1000_1</td>\n",
       "      <td>2018-08-17</td>\n",
       "      <td>0.00</td>\n",
       "      <td>1000</td>\n",
       "    </tr>\n",
       "    <tr>\n",
       "      <th>2</th>\n",
       "      <td>1000_2</td>\n",
       "      <td>2018-06-11</td>\n",
       "      <td>2.85</td>\n",
       "      <td>1000</td>\n",
       "    </tr>\n",
       "    <tr>\n",
       "      <th>3</th>\n",
       "      <td>1000_3</td>\n",
       "      <td>2018-09-21</td>\n",
       "      <td>13.80</td>\n",
       "      <td>1000</td>\n",
       "    </tr>\n",
       "    <tr>\n",
       "      <th>4</th>\n",
       "      <td>1000_4</td>\n",
       "      <td>2018-12-15</td>\n",
       "      <td>5.18</td>\n",
       "      <td>1000</td>\n",
       "    </tr>\n",
       "    <tr>\n",
       "      <th>5</th>\n",
       "      <td>1000_5</td>\n",
       "      <td>2018-11-02</td>\n",
       "      <td>0.00</td>\n",
       "      <td>1000</td>\n",
       "    </tr>\n",
       "    <tr>\n",
       "      <th>6</th>\n",
       "      <td>1000_6</td>\n",
       "      <td>2018-10-18</td>\n",
       "      <td>0.00</td>\n",
       "      <td>1000</td>\n",
       "    </tr>\n",
       "    <tr>\n",
       "      <th>7</th>\n",
       "      <td>1000_7</td>\n",
       "      <td>2018-08-22</td>\n",
       "      <td>18.31</td>\n",
       "      <td>1000</td>\n",
       "    </tr>\n",
       "    <tr>\n",
       "      <th>8</th>\n",
       "      <td>1000_8</td>\n",
       "      <td>2018-09-15</td>\n",
       "      <td>18.44</td>\n",
       "      <td>1000</td>\n",
       "    </tr>\n",
       "    <tr>\n",
       "      <th>9</th>\n",
       "      <td>1000_9</td>\n",
       "      <td>2018-08-15</td>\n",
       "      <td>0.00</td>\n",
       "      <td>1000</td>\n",
       "    </tr>\n",
       "    <tr>\n",
       "      <th>10</th>\n",
       "      <td>1000_10</td>\n",
       "      <td>2018-08-22</td>\n",
       "      <td>5.03</td>\n",
       "      <td>1000</td>\n",
       "    </tr>\n",
       "    <tr>\n",
       "      <th>11</th>\n",
       "      <td>1000_11</td>\n",
       "      <td>2018-05-28</td>\n",
       "      <td>18.82</td>\n",
       "      <td>1000</td>\n",
       "    </tr>\n",
       "    <tr>\n",
       "      <th>12</th>\n",
       "      <td>1000_12</td>\n",
       "      <td>2018-07-05</td>\n",
       "      <td>2.02</td>\n",
       "      <td>1000</td>\n",
       "    </tr>\n",
       "    <tr>\n",
       "      <th>13</th>\n",
       "      <td>1000_13</td>\n",
       "      <td>2018-09-29</td>\n",
       "      <td>7.15</td>\n",
       "      <td>1000</td>\n",
       "    </tr>\n",
       "    <tr>\n",
       "      <th>14</th>\n",
       "      <td>1000_14</td>\n",
       "      <td>2018-12-11</td>\n",
       "      <td>9.13</td>\n",
       "      <td>1000</td>\n",
       "    </tr>\n",
       "    <tr>\n",
       "      <th>15</th>\n",
       "      <td>1000_15</td>\n",
       "      <td>2018-07-27</td>\n",
       "      <td>9.36</td>\n",
       "      <td>1000</td>\n",
       "    </tr>\n",
       "    <tr>\n",
       "      <th>16</th>\n",
       "      <td>1000_16</td>\n",
       "      <td>2018-08-11</td>\n",
       "      <td>4.08</td>\n",
       "      <td>1000</td>\n",
       "    </tr>\n",
       "    <tr>\n",
       "      <th>17</th>\n",
       "      <td>1000_17</td>\n",
       "      <td>2018-08-02</td>\n",
       "      <td>12.63</td>\n",
       "      <td>1000</td>\n",
       "    </tr>\n",
       "    <tr>\n",
       "      <th>18</th>\n",
       "      <td>1000_18</td>\n",
       "      <td>2018-06-15</td>\n",
       "      <td>4.46</td>\n",
       "      <td>1000</td>\n",
       "    </tr>\n",
       "    <tr>\n",
       "      <th>19</th>\n",
       "      <td>1000_19</td>\n",
       "      <td>2018-11-02</td>\n",
       "      <td>15.08</td>\n",
       "      <td>1000</td>\n",
       "    </tr>\n",
       "  </tbody>\n",
       "</table>\n",
       "</div>"
      ],
      "text/plain": [
       "         id   call_date  duration  user_id\n",
       "0    1000_0  2018-07-25      0.00     1000\n",
       "1    1000_1  2018-08-17      0.00     1000\n",
       "2    1000_2  2018-06-11      2.85     1000\n",
       "3    1000_3  2018-09-21     13.80     1000\n",
       "4    1000_4  2018-12-15      5.18     1000\n",
       "5    1000_5  2018-11-02      0.00     1000\n",
       "6    1000_6  2018-10-18      0.00     1000\n",
       "7    1000_7  2018-08-22     18.31     1000\n",
       "8    1000_8  2018-09-15     18.44     1000\n",
       "9    1000_9  2018-08-15      0.00     1000\n",
       "10  1000_10  2018-08-22      5.03     1000\n",
       "11  1000_11  2018-05-28     18.82     1000\n",
       "12  1000_12  2018-07-05      2.02     1000\n",
       "13  1000_13  2018-09-29      7.15     1000\n",
       "14  1000_14  2018-12-11      9.13     1000\n",
       "15  1000_15  2018-07-27      9.36     1000\n",
       "16  1000_16  2018-08-11      4.08     1000\n",
       "17  1000_17  2018-08-02     12.63     1000\n",
       "18  1000_18  2018-06-15      4.46     1000\n",
       "19  1000_19  2018-11-02     15.08     1000"
      ]
     },
     "execution_count": 3,
     "metadata": {},
     "output_type": "execute_result"
    }
   ],
   "source": [
    "df_calls.head(20)"
   ]
  },
  {
   "cell_type": "code",
   "execution_count": 4,
   "metadata": {},
   "outputs": [
    {
     "name": "stdout",
     "output_type": "stream",
     "text": [
      "<class 'pandas.core.frame.DataFrame'>\n",
      "RangeIndex: 202607 entries, 0 to 202606\n",
      "Data columns (total 4 columns):\n",
      " #   Column     Non-Null Count   Dtype  \n",
      "---  ------     --------------   -----  \n",
      " 0   id         202607 non-null  object \n",
      " 1   call_date  202607 non-null  object \n",
      " 2   duration   202607 non-null  float64\n",
      " 3   user_id    202607 non-null  int64  \n",
      "dtypes: float64(1), int64(1), object(2)\n",
      "memory usage: 6.2+ MB\n"
     ]
    }
   ],
   "source": [
    "df_calls.info()"
   ]
  },
  {
   "cell_type": "markdown",
   "metadata": {},
   "source": [
    "Посмотрим инфо пропусков нет\n",
    "1. id — уникальный номер звонка\n",
    "2. call_date — дата звонка\n",
    "3. duration — длительность звонка в минутах\n",
    "4. user_id — идентификатор пользователя, сделавшего звонок"
   ]
  },
  {
   "cell_type": "code",
   "execution_count": 5,
   "metadata": {},
   "outputs": [
    {
     "data": {
      "text/html": [
       "<div>\n",
       "<style scoped>\n",
       "    .dataframe tbody tr th:only-of-type {\n",
       "        vertical-align: middle;\n",
       "    }\n",
       "\n",
       "    .dataframe tbody tr th {\n",
       "        vertical-align: top;\n",
       "    }\n",
       "\n",
       "    .dataframe thead th {\n",
       "        text-align: right;\n",
       "    }\n",
       "</style>\n",
       "<table border=\"1\" class=\"dataframe\">\n",
       "  <thead>\n",
       "    <tr style=\"text-align: right;\">\n",
       "      <th></th>\n",
       "      <th>id</th>\n",
       "      <th>mb_used</th>\n",
       "      <th>session_date</th>\n",
       "      <th>user_id</th>\n",
       "    </tr>\n",
       "  </thead>\n",
       "  <tbody>\n",
       "    <tr>\n",
       "      <th>0</th>\n",
       "      <td>1000_0</td>\n",
       "      <td>112.95</td>\n",
       "      <td>2018-11-25</td>\n",
       "      <td>1000</td>\n",
       "    </tr>\n",
       "    <tr>\n",
       "      <th>1</th>\n",
       "      <td>1000_1</td>\n",
       "      <td>1052.81</td>\n",
       "      <td>2018-09-07</td>\n",
       "      <td>1000</td>\n",
       "    </tr>\n",
       "    <tr>\n",
       "      <th>2</th>\n",
       "      <td>1000_2</td>\n",
       "      <td>1197.26</td>\n",
       "      <td>2018-06-25</td>\n",
       "      <td>1000</td>\n",
       "    </tr>\n",
       "    <tr>\n",
       "      <th>3</th>\n",
       "      <td>1000_3</td>\n",
       "      <td>550.27</td>\n",
       "      <td>2018-08-22</td>\n",
       "      <td>1000</td>\n",
       "    </tr>\n",
       "    <tr>\n",
       "      <th>4</th>\n",
       "      <td>1000_4</td>\n",
       "      <td>302.56</td>\n",
       "      <td>2018-09-24</td>\n",
       "      <td>1000</td>\n",
       "    </tr>\n",
       "    <tr>\n",
       "      <th>5</th>\n",
       "      <td>1000_5</td>\n",
       "      <td>399.97</td>\n",
       "      <td>2018-10-02</td>\n",
       "      <td>1000</td>\n",
       "    </tr>\n",
       "    <tr>\n",
       "      <th>6</th>\n",
       "      <td>1000_6</td>\n",
       "      <td>540.08</td>\n",
       "      <td>2018-09-07</td>\n",
       "      <td>1000</td>\n",
       "    </tr>\n",
       "    <tr>\n",
       "      <th>7</th>\n",
       "      <td>1000_7</td>\n",
       "      <td>415.70</td>\n",
       "      <td>2018-07-11</td>\n",
       "      <td>1000</td>\n",
       "    </tr>\n",
       "    <tr>\n",
       "      <th>8</th>\n",
       "      <td>1000_8</td>\n",
       "      <td>505.40</td>\n",
       "      <td>2018-10-08</td>\n",
       "      <td>1000</td>\n",
       "    </tr>\n",
       "    <tr>\n",
       "      <th>9</th>\n",
       "      <td>1000_9</td>\n",
       "      <td>345.54</td>\n",
       "      <td>2018-09-03</td>\n",
       "      <td>1000</td>\n",
       "    </tr>\n",
       "  </tbody>\n",
       "</table>\n",
       "</div>"
      ],
      "text/plain": [
       "       id  mb_used session_date  user_id\n",
       "0  1000_0   112.95   2018-11-25     1000\n",
       "1  1000_1  1052.81   2018-09-07     1000\n",
       "2  1000_2  1197.26   2018-06-25     1000\n",
       "3  1000_3   550.27   2018-08-22     1000\n",
       "4  1000_4   302.56   2018-09-24     1000\n",
       "5  1000_5   399.97   2018-10-02     1000\n",
       "6  1000_6   540.08   2018-09-07     1000\n",
       "7  1000_7   415.70   2018-07-11     1000\n",
       "8  1000_8   505.40   2018-10-08     1000\n",
       "9  1000_9   345.54   2018-09-03     1000"
      ]
     },
     "execution_count": 5,
     "metadata": {},
     "output_type": "execute_result"
    }
   ],
   "source": [
    "df_internet.head(10)\n"
   ]
  },
  {
   "cell_type": "code",
   "execution_count": 6,
   "metadata": {},
   "outputs": [
    {
     "name": "stdout",
     "output_type": "stream",
     "text": [
      "<class 'pandas.core.frame.DataFrame'>\n",
      "Int64Index: 149396 entries, 0 to 149395\n",
      "Data columns (total 4 columns):\n",
      " #   Column        Non-Null Count   Dtype  \n",
      "---  ------        --------------   -----  \n",
      " 0   id            149396 non-null  object \n",
      " 1   mb_used       149396 non-null  float64\n",
      " 2   session_date  149396 non-null  object \n",
      " 3   user_id       149396 non-null  int64  \n",
      "dtypes: float64(1), int64(1), object(2)\n",
      "memory usage: 5.7+ MB\n"
     ]
    }
   ],
   "source": [
    "df_internet.info()"
   ]
  },
  {
   "cell_type": "markdown",
   "metadata": {},
   "source": [
    "Пропусков нет в столбце  Unnamed: 0 - можно переиминовать лишний пробел\n",
    "1. id — уникальный номер сессии\n",
    "2. mb_used — объём потраченного за сессию интернет-трафика (в мегабайтах)\n",
    "3. session_date — дата интернет-сессии\n",
    "4. user_id — идентификатор пользователя"
   ]
  },
  {
   "cell_type": "code",
   "execution_count": 7,
   "metadata": {},
   "outputs": [
    {
     "data": {
      "text/html": [
       "<div>\n",
       "<style scoped>\n",
       "    .dataframe tbody tr th:only-of-type {\n",
       "        vertical-align: middle;\n",
       "    }\n",
       "\n",
       "    .dataframe tbody tr th {\n",
       "        vertical-align: top;\n",
       "    }\n",
       "\n",
       "    .dataframe thead th {\n",
       "        text-align: right;\n",
       "    }\n",
       "</style>\n",
       "<table border=\"1\" class=\"dataframe\">\n",
       "  <thead>\n",
       "    <tr style=\"text-align: right;\">\n",
       "      <th></th>\n",
       "      <th>id</th>\n",
       "      <th>message_date</th>\n",
       "      <th>user_id</th>\n",
       "    </tr>\n",
       "  </thead>\n",
       "  <tbody>\n",
       "    <tr>\n",
       "      <th>0</th>\n",
       "      <td>1000_0</td>\n",
       "      <td>2018-06-27</td>\n",
       "      <td>1000</td>\n",
       "    </tr>\n",
       "    <tr>\n",
       "      <th>1</th>\n",
       "      <td>1000_1</td>\n",
       "      <td>2018-10-08</td>\n",
       "      <td>1000</td>\n",
       "    </tr>\n",
       "    <tr>\n",
       "      <th>2</th>\n",
       "      <td>1000_2</td>\n",
       "      <td>2018-08-04</td>\n",
       "      <td>1000</td>\n",
       "    </tr>\n",
       "    <tr>\n",
       "      <th>3</th>\n",
       "      <td>1000_3</td>\n",
       "      <td>2018-06-16</td>\n",
       "      <td>1000</td>\n",
       "    </tr>\n",
       "    <tr>\n",
       "      <th>4</th>\n",
       "      <td>1000_4</td>\n",
       "      <td>2018-12-05</td>\n",
       "      <td>1000</td>\n",
       "    </tr>\n",
       "    <tr>\n",
       "      <th>5</th>\n",
       "      <td>1000_5</td>\n",
       "      <td>2018-06-20</td>\n",
       "      <td>1000</td>\n",
       "    </tr>\n",
       "    <tr>\n",
       "      <th>6</th>\n",
       "      <td>1000_6</td>\n",
       "      <td>2018-11-19</td>\n",
       "      <td>1000</td>\n",
       "    </tr>\n",
       "    <tr>\n",
       "      <th>7</th>\n",
       "      <td>1000_7</td>\n",
       "      <td>2018-10-29</td>\n",
       "      <td>1000</td>\n",
       "    </tr>\n",
       "    <tr>\n",
       "      <th>8</th>\n",
       "      <td>1000_8</td>\n",
       "      <td>2018-06-25</td>\n",
       "      <td>1000</td>\n",
       "    </tr>\n",
       "    <tr>\n",
       "      <th>9</th>\n",
       "      <td>1000_9</td>\n",
       "      <td>2018-12-18</td>\n",
       "      <td>1000</td>\n",
       "    </tr>\n",
       "  </tbody>\n",
       "</table>\n",
       "</div>"
      ],
      "text/plain": [
       "       id message_date  user_id\n",
       "0  1000_0   2018-06-27     1000\n",
       "1  1000_1   2018-10-08     1000\n",
       "2  1000_2   2018-08-04     1000\n",
       "3  1000_3   2018-06-16     1000\n",
       "4  1000_4   2018-12-05     1000\n",
       "5  1000_5   2018-06-20     1000\n",
       "6  1000_6   2018-11-19     1000\n",
       "7  1000_7   2018-10-29     1000\n",
       "8  1000_8   2018-06-25     1000\n",
       "9  1000_9   2018-12-18     1000"
      ]
     },
     "execution_count": 7,
     "metadata": {},
     "output_type": "execute_result"
    }
   ],
   "source": [
    "df_messages.head(10)"
   ]
  },
  {
   "cell_type": "code",
   "execution_count": 8,
   "metadata": {},
   "outputs": [
    {
     "name": "stdout",
     "output_type": "stream",
     "text": [
      "<class 'pandas.core.frame.DataFrame'>\n",
      "RangeIndex: 123036 entries, 0 to 123035\n",
      "Data columns (total 3 columns):\n",
      " #   Column        Non-Null Count   Dtype \n",
      "---  ------        --------------   ----- \n",
      " 0   id            123036 non-null  object\n",
      " 1   message_date  123036 non-null  object\n",
      " 2   user_id       123036 non-null  int64 \n",
      "dtypes: int64(1), object(2)\n",
      "memory usage: 2.8+ MB\n"
     ]
    }
   ],
   "source": [
    "df_messages.info()"
   ]
  },
  {
   "cell_type": "code",
   "execution_count": 9,
   "metadata": {},
   "outputs": [
    {
     "data": {
      "text/html": [
       "<div>\n",
       "<style scoped>\n",
       "    .dataframe tbody tr th:only-of-type {\n",
       "        vertical-align: middle;\n",
       "    }\n",
       "\n",
       "    .dataframe tbody tr th {\n",
       "        vertical-align: top;\n",
       "    }\n",
       "\n",
       "    .dataframe thead th {\n",
       "        text-align: right;\n",
       "    }\n",
       "</style>\n",
       "<table border=\"1\" class=\"dataframe\">\n",
       "  <thead>\n",
       "    <tr style=\"text-align: right;\">\n",
       "      <th></th>\n",
       "      <th>messages_included</th>\n",
       "      <th>mb_per_month_included</th>\n",
       "      <th>minutes_included</th>\n",
       "      <th>rub_monthly_fee</th>\n",
       "      <th>rub_per_gb</th>\n",
       "      <th>rub_per_message</th>\n",
       "      <th>rub_per_minute</th>\n",
       "      <th>tariff_name</th>\n",
       "    </tr>\n",
       "  </thead>\n",
       "  <tbody>\n",
       "    <tr>\n",
       "      <th>0</th>\n",
       "      <td>50</td>\n",
       "      <td>15360</td>\n",
       "      <td>500</td>\n",
       "      <td>550</td>\n",
       "      <td>200</td>\n",
       "      <td>3</td>\n",
       "      <td>3</td>\n",
       "      <td>smart</td>\n",
       "    </tr>\n",
       "    <tr>\n",
       "      <th>1</th>\n",
       "      <td>1000</td>\n",
       "      <td>30720</td>\n",
       "      <td>3000</td>\n",
       "      <td>1950</td>\n",
       "      <td>150</td>\n",
       "      <td>1</td>\n",
       "      <td>1</td>\n",
       "      <td>ultra</td>\n",
       "    </tr>\n",
       "  </tbody>\n",
       "</table>\n",
       "</div>"
      ],
      "text/plain": [
       "   messages_included  mb_per_month_included  minutes_included  \\\n",
       "0                 50                  15360               500   \n",
       "1               1000                  30720              3000   \n",
       "\n",
       "   rub_monthly_fee  rub_per_gb  rub_per_message  rub_per_minute tariff_name  \n",
       "0              550         200                3               3       smart  \n",
       "1             1950         150                1               1       ultra  "
      ]
     },
     "execution_count": 9,
     "metadata": {},
     "output_type": "execute_result"
    }
   ],
   "source": [
    "df_tariffs.head(10)"
   ]
  },
  {
   "cell_type": "markdown",
   "metadata": {},
   "source": [
    "1. tariff_name — название тарифа\n",
    "2. rub_monthly_fee — ежемесячная абонентская плата в рублях\n",
    "3. minutes_included — количество минут разговора в месяц, включённых в абонентскую плату\n",
    "4. messages_included — количество сообщений в месяц, включённых в абонентскую плату\n",
    "5. mb_per_month_included — объём интернет-трафика, включённого в абонентскую плату (в мегабайтах)\n",
    "6. rub_per_minute — стоимость минуты разговора сверх тарифного пакета (например, если в тарифе 100 минут разговора в месяц, то со 101 минуты будет взиматься плата)\n",
    "7. rub_per_message — стоимость отправки сообщения сверх тарифного пакета\n",
    "8. rub_per_gb — стоимость дополнительного гигабайта интернет-трафика сверх тарифного пакета (1 гигабайт = 1024 мегабайта)"
   ]
  },
  {
   "cell_type": "code",
   "execution_count": 10,
   "metadata": {},
   "outputs": [
    {
     "name": "stdout",
     "output_type": "stream",
     "text": [
      "<class 'pandas.core.frame.DataFrame'>\n",
      "RangeIndex: 2 entries, 0 to 1\n",
      "Data columns (total 8 columns):\n",
      " #   Column                 Non-Null Count  Dtype \n",
      "---  ------                 --------------  ----- \n",
      " 0   messages_included      2 non-null      int64 \n",
      " 1   mb_per_month_included  2 non-null      int64 \n",
      " 2   minutes_included       2 non-null      int64 \n",
      " 3   rub_monthly_fee        2 non-null      int64 \n",
      " 4   rub_per_gb             2 non-null      int64 \n",
      " 5   rub_per_message        2 non-null      int64 \n",
      " 6   rub_per_minute         2 non-null      int64 \n",
      " 7   tariff_name            2 non-null      object\n",
      "dtypes: int64(7), object(1)\n",
      "memory usage: 256.0+ bytes\n"
     ]
    }
   ],
   "source": [
    "df_tariffs.info()"
   ]
  },
  {
   "cell_type": "code",
   "execution_count": 11,
   "metadata": {},
   "outputs": [
    {
     "data": {
      "text/html": [
       "<div>\n",
       "<style scoped>\n",
       "    .dataframe tbody tr th:only-of-type {\n",
       "        vertical-align: middle;\n",
       "    }\n",
       "\n",
       "    .dataframe tbody tr th {\n",
       "        vertical-align: top;\n",
       "    }\n",
       "\n",
       "    .dataframe thead th {\n",
       "        text-align: right;\n",
       "    }\n",
       "</style>\n",
       "<table border=\"1\" class=\"dataframe\">\n",
       "  <thead>\n",
       "    <tr style=\"text-align: right;\">\n",
       "      <th></th>\n",
       "      <th>user_id</th>\n",
       "      <th>age</th>\n",
       "      <th>churn_date</th>\n",
       "      <th>city</th>\n",
       "      <th>first_name</th>\n",
       "      <th>last_name</th>\n",
       "      <th>reg_date</th>\n",
       "      <th>tariff</th>\n",
       "    </tr>\n",
       "  </thead>\n",
       "  <tbody>\n",
       "    <tr>\n",
       "      <th>0</th>\n",
       "      <td>1000</td>\n",
       "      <td>52</td>\n",
       "      <td>NaN</td>\n",
       "      <td>Краснодар</td>\n",
       "      <td>Рафаил</td>\n",
       "      <td>Верещагин</td>\n",
       "      <td>2018-05-25</td>\n",
       "      <td>ultra</td>\n",
       "    </tr>\n",
       "    <tr>\n",
       "      <th>1</th>\n",
       "      <td>1001</td>\n",
       "      <td>41</td>\n",
       "      <td>NaN</td>\n",
       "      <td>Москва</td>\n",
       "      <td>Иван</td>\n",
       "      <td>Ежов</td>\n",
       "      <td>2018-11-01</td>\n",
       "      <td>smart</td>\n",
       "    </tr>\n",
       "    <tr>\n",
       "      <th>2</th>\n",
       "      <td>1002</td>\n",
       "      <td>59</td>\n",
       "      <td>NaN</td>\n",
       "      <td>Стерлитамак</td>\n",
       "      <td>Евгений</td>\n",
       "      <td>Абрамович</td>\n",
       "      <td>2018-06-17</td>\n",
       "      <td>smart</td>\n",
       "    </tr>\n",
       "    <tr>\n",
       "      <th>3</th>\n",
       "      <td>1003</td>\n",
       "      <td>23</td>\n",
       "      <td>NaN</td>\n",
       "      <td>Москва</td>\n",
       "      <td>Белла</td>\n",
       "      <td>Белякова</td>\n",
       "      <td>2018-08-17</td>\n",
       "      <td>ultra</td>\n",
       "    </tr>\n",
       "    <tr>\n",
       "      <th>4</th>\n",
       "      <td>1004</td>\n",
       "      <td>68</td>\n",
       "      <td>NaN</td>\n",
       "      <td>Новокузнецк</td>\n",
       "      <td>Татьяна</td>\n",
       "      <td>Авдеенко</td>\n",
       "      <td>2018-05-14</td>\n",
       "      <td>ultra</td>\n",
       "    </tr>\n",
       "    <tr>\n",
       "      <th>5</th>\n",
       "      <td>1005</td>\n",
       "      <td>67</td>\n",
       "      <td>NaN</td>\n",
       "      <td>Набережные Челны</td>\n",
       "      <td>Афанасий</td>\n",
       "      <td>Горлов</td>\n",
       "      <td>2018-01-25</td>\n",
       "      <td>smart</td>\n",
       "    </tr>\n",
       "    <tr>\n",
       "      <th>6</th>\n",
       "      <td>1006</td>\n",
       "      <td>21</td>\n",
       "      <td>NaN</td>\n",
       "      <td>Ульяновск</td>\n",
       "      <td>Леонид</td>\n",
       "      <td>Ермолаев</td>\n",
       "      <td>2018-02-26</td>\n",
       "      <td>smart</td>\n",
       "    </tr>\n",
       "    <tr>\n",
       "      <th>7</th>\n",
       "      <td>1007</td>\n",
       "      <td>65</td>\n",
       "      <td>NaN</td>\n",
       "      <td>Москва</td>\n",
       "      <td>Юна</td>\n",
       "      <td>Березина</td>\n",
       "      <td>2018-04-19</td>\n",
       "      <td>smart</td>\n",
       "    </tr>\n",
       "    <tr>\n",
       "      <th>8</th>\n",
       "      <td>1008</td>\n",
       "      <td>63</td>\n",
       "      <td>NaN</td>\n",
       "      <td>Челябинск</td>\n",
       "      <td>Рустэм</td>\n",
       "      <td>Пономарёв</td>\n",
       "      <td>2018-12-19</td>\n",
       "      <td>smart</td>\n",
       "    </tr>\n",
       "    <tr>\n",
       "      <th>9</th>\n",
       "      <td>1009</td>\n",
       "      <td>24</td>\n",
       "      <td>NaN</td>\n",
       "      <td>Пермь</td>\n",
       "      <td>Василиса</td>\n",
       "      <td>Блинова</td>\n",
       "      <td>2018-03-22</td>\n",
       "      <td>smart</td>\n",
       "    </tr>\n",
       "  </tbody>\n",
       "</table>\n",
       "</div>"
      ],
      "text/plain": [
       "   user_id  age churn_date              city first_name  last_name  \\\n",
       "0     1000   52        NaN         Краснодар     Рафаил  Верещагин   \n",
       "1     1001   41        NaN            Москва       Иван       Ежов   \n",
       "2     1002   59        NaN       Стерлитамак    Евгений  Абрамович   \n",
       "3     1003   23        NaN            Москва      Белла   Белякова   \n",
       "4     1004   68        NaN       Новокузнецк    Татьяна   Авдеенко   \n",
       "5     1005   67        NaN  Набережные Челны   Афанасий     Горлов   \n",
       "6     1006   21        NaN         Ульяновск     Леонид   Ермолаев   \n",
       "7     1007   65        NaN            Москва        Юна   Березина   \n",
       "8     1008   63        NaN         Челябинск     Рустэм  Пономарёв   \n",
       "9     1009   24        NaN             Пермь   Василиса    Блинова   \n",
       "\n",
       "     reg_date tariff  \n",
       "0  2018-05-25  ultra  \n",
       "1  2018-11-01  smart  \n",
       "2  2018-06-17  smart  \n",
       "3  2018-08-17  ultra  \n",
       "4  2018-05-14  ultra  \n",
       "5  2018-01-25  smart  \n",
       "6  2018-02-26  smart  \n",
       "7  2018-04-19  smart  \n",
       "8  2018-12-19  smart  \n",
       "9  2018-03-22  smart  "
      ]
     },
     "execution_count": 11,
     "metadata": {},
     "output_type": "execute_result"
    }
   ],
   "source": [
    "df_users.head(10)"
   ]
  },
  {
   "cell_type": "markdown",
   "metadata": {},
   "source": [
    "Так есть пропуски в столбце churn_date но мы знаем что если значение пропущенно то тариф еще дейстовал значит заполнение пропусков не нужно \n",
    "1. user_id — уникальный идентификатор пользователя\n",
    "2. first_name — имя пользователя\n",
    "3. last_name — фамилия пользователя\n",
    "4. age — возраст пользователя (годы)\n",
    "5. reg_date — дата подключения тарифа (день, месяц, год)\n",
    "6. churn_date — дата прекращения пользования тарифом (если значение пропущено, то тариф ещё действовал на момент выгрузки данных)\n",
    "7. city — город проживания пользователя\n",
    "8. tariff — название тарифного плана"
   ]
  },
  {
   "cell_type": "markdown",
   "metadata": {},
   "source": [
    "Вывод:\n",
    "Пропущенных значений которые нужно заменить в данных нет, нужно первести данные в нужные форматы минуты и гигабайты округлить в большую сторону, а даты перевест в datatime"
   ]
  },
  {
   "cell_type": "markdown",
   "metadata": {},
   "source": [
    "### Предобработка df_calls"
   ]
  },
  {
   "cell_type": "code",
   "execution_count": 12,
   "metadata": {},
   "outputs": [
    {
     "data": {
      "text/html": [
       "<div>\n",
       "<style scoped>\n",
       "    .dataframe tbody tr th:only-of-type {\n",
       "        vertical-align: middle;\n",
       "    }\n",
       "\n",
       "    .dataframe tbody tr th {\n",
       "        vertical-align: top;\n",
       "    }\n",
       "\n",
       "    .dataframe thead th {\n",
       "        text-align: right;\n",
       "    }\n",
       "</style>\n",
       "<table border=\"1\" class=\"dataframe\">\n",
       "  <thead>\n",
       "    <tr style=\"text-align: right;\">\n",
       "      <th></th>\n",
       "      <th>count</th>\n",
       "      <th>mean</th>\n",
       "      <th>std</th>\n",
       "      <th>min</th>\n",
       "      <th>25%</th>\n",
       "      <th>50%</th>\n",
       "      <th>75%</th>\n",
       "      <th>max</th>\n",
       "    </tr>\n",
       "  </thead>\n",
       "  <tbody>\n",
       "    <tr>\n",
       "      <th>duration</th>\n",
       "      <td>202607.0</td>\n",
       "      <td>6.755887</td>\n",
       "      <td>5.843365</td>\n",
       "      <td>0.0</td>\n",
       "      <td>1.3</td>\n",
       "      <td>6.0</td>\n",
       "      <td>10.7</td>\n",
       "      <td>38.0</td>\n",
       "    </tr>\n",
       "    <tr>\n",
       "      <th>user_id</th>\n",
       "      <td>202607.0</td>\n",
       "      <td>1253.940619</td>\n",
       "      <td>144.722751</td>\n",
       "      <td>1000.0</td>\n",
       "      <td>1126.0</td>\n",
       "      <td>1260.0</td>\n",
       "      <td>1379.0</td>\n",
       "      <td>1499.0</td>\n",
       "    </tr>\n",
       "  </tbody>\n",
       "</table>\n",
       "</div>"
      ],
      "text/plain": [
       "             count         mean         std     min     25%     50%     75%  \\\n",
       "duration  202607.0     6.755887    5.843365     0.0     1.3     6.0    10.7   \n",
       "user_id   202607.0  1253.940619  144.722751  1000.0  1126.0  1260.0  1379.0   \n",
       "\n",
       "             max  \n",
       "duration    38.0  \n",
       "user_id   1499.0  "
      ]
     },
     "execution_count": 12,
     "metadata": {},
     "output_type": "execute_result"
    }
   ],
   "source": [
    "df_calls.describe().T"
   ]
  },
  {
   "cell_type": "code",
   "execution_count": 13,
   "metadata": {},
   "outputs": [
    {
     "data": {
      "text/plain": [
       "39613"
      ]
     },
     "execution_count": 13,
     "metadata": {},
     "output_type": "execute_result"
    }
   ],
   "source": [
    "df_calls.query('duration == 0')['duration'].count()\n",
    "#Посмотрим сколько пропущенных звонков "
   ]
  },
  {
   "cell_type": "code",
   "execution_count": 14,
   "metadata": {},
   "outputs": [],
   "source": [
    "# Функция замены типа данных для столбцов с датой:\n",
    "def to_date(df, column):\n",
    "    df[column] = pd.to_datetime(df[column], format='%Y-%m-%d')"
   ]
  },
  {
   "cell_type": "code",
   "execution_count": 15,
   "metadata": {},
   "outputs": [],
   "source": [
    "# Функция округления в большую сторону и изменения типа до целочисленного\n",
    "def round_int(df, column):\n",
    "    df[column] = np.ceil(df[column])\n",
    "    df[column].astype(int)\n",
    "#def round_int(df, column):\n",
    "    #df[column] = np.ceil(df[column])\n",
    "    #df[column].astype(int)"
   ]
  },
  {
   "cell_type": "code",
   "execution_count": 16,
   "metadata": {},
   "outputs": [],
   "source": [
    "to_date(df_calls,'call_date')"
   ]
  },
  {
   "cell_type": "code",
   "execution_count": 17,
   "metadata": {},
   "outputs": [],
   "source": [
    "round_int(df_calls,'duration')"
   ]
  },
  {
   "cell_type": "code",
   "execution_count": 18,
   "metadata": {},
   "outputs": [],
   "source": [
    "#df_calls['weekday'] = df_calls['call_date'].dt.weekday\n",
    "df_calls['month'] = df_calls['call_date'].astype('datetime64[M]')\n",
    "#df_calls['year'] = df_calls['call_date'].dt.year\n",
    "#Добавим день месяц год"
   ]
  },
  {
   "cell_type": "code",
   "execution_count": 19,
   "metadata": {},
   "outputs": [
    {
     "data": {
      "text/plain": [
       "<AxesSubplot:>"
      ]
     },
     "execution_count": 19,
     "metadata": {},
     "output_type": "execute_result"
    },
    {
     "data": {
      "image/png": "[encoded data removed]",
      "text/plain": [
       "<Figure size 432x288 with 1 Axes>"
      ]
     },
     "metadata": {
      "needs_background": "light"
     },
     "output_type": "display_data"
    }
   ],
   "source": [
    "df_calls['duration'].hist()"
   ]
  },
  {
   "cell_type": "markdown",
   "metadata": {},
   "source": [
    "Так у нас довольно много 0 звонков , по условиям это пропущенные звонки пока их не трогаем "
   ]
  },
  {
   "cell_type": "code",
   "execution_count": 20,
   "metadata": {},
   "outputs": [
    {
     "data": {
      "text/html": [
       "<div>\n",
       "<style scoped>\n",
       "    .dataframe tbody tr th:only-of-type {\n",
       "        vertical-align: middle;\n",
       "    }\n",
       "\n",
       "    .dataframe tbody tr th {\n",
       "        vertical-align: top;\n",
       "    }\n",
       "\n",
       "    .dataframe thead th {\n",
       "        text-align: right;\n",
       "    }\n",
       "</style>\n",
       "<table border=\"1\" class=\"dataframe\">\n",
       "  <thead>\n",
       "    <tr style=\"text-align: right;\">\n",
       "      <th></th>\n",
       "      <th>id</th>\n",
       "      <th>call_date</th>\n",
       "      <th>duration</th>\n",
       "      <th>user_id</th>\n",
       "      <th>month</th>\n",
       "    </tr>\n",
       "  </thead>\n",
       "  <tbody>\n",
       "    <tr>\n",
       "      <th>0</th>\n",
       "      <td>1000_0</td>\n",
       "      <td>2018-07-25</td>\n",
       "      <td>0.0</td>\n",
       "      <td>1000</td>\n",
       "      <td>2018-07-01</td>\n",
       "    </tr>\n",
       "    <tr>\n",
       "      <th>1</th>\n",
       "      <td>1000_1</td>\n",
       "      <td>2018-08-17</td>\n",
       "      <td>0.0</td>\n",
       "      <td>1000</td>\n",
       "      <td>2018-08-01</td>\n",
       "    </tr>\n",
       "    <tr>\n",
       "      <th>2</th>\n",
       "      <td>1000_2</td>\n",
       "      <td>2018-06-11</td>\n",
       "      <td>3.0</td>\n",
       "      <td>1000</td>\n",
       "      <td>2018-06-01</td>\n",
       "    </tr>\n",
       "    <tr>\n",
       "      <th>3</th>\n",
       "      <td>1000_3</td>\n",
       "      <td>2018-09-21</td>\n",
       "      <td>14.0</td>\n",
       "      <td>1000</td>\n",
       "      <td>2018-09-01</td>\n",
       "    </tr>\n",
       "    <tr>\n",
       "      <th>4</th>\n",
       "      <td>1000_4</td>\n",
       "      <td>2018-12-15</td>\n",
       "      <td>6.0</td>\n",
       "      <td>1000</td>\n",
       "      <td>2018-12-01</td>\n",
       "    </tr>\n",
       "    <tr>\n",
       "      <th>5</th>\n",
       "      <td>1000_5</td>\n",
       "      <td>2018-11-02</td>\n",
       "      <td>0.0</td>\n",
       "      <td>1000</td>\n",
       "      <td>2018-11-01</td>\n",
       "    </tr>\n",
       "    <tr>\n",
       "      <th>6</th>\n",
       "      <td>1000_6</td>\n",
       "      <td>2018-10-18</td>\n",
       "      <td>0.0</td>\n",
       "      <td>1000</td>\n",
       "      <td>2018-10-01</td>\n",
       "    </tr>\n",
       "    <tr>\n",
       "      <th>7</th>\n",
       "      <td>1000_7</td>\n",
       "      <td>2018-08-22</td>\n",
       "      <td>19.0</td>\n",
       "      <td>1000</td>\n",
       "      <td>2018-08-01</td>\n",
       "    </tr>\n",
       "    <tr>\n",
       "      <th>8</th>\n",
       "      <td>1000_8</td>\n",
       "      <td>2018-09-15</td>\n",
       "      <td>19.0</td>\n",
       "      <td>1000</td>\n",
       "      <td>2018-09-01</td>\n",
       "    </tr>\n",
       "    <tr>\n",
       "      <th>9</th>\n",
       "      <td>1000_9</td>\n",
       "      <td>2018-08-15</td>\n",
       "      <td>0.0</td>\n",
       "      <td>1000</td>\n",
       "      <td>2018-08-01</td>\n",
       "    </tr>\n",
       "    <tr>\n",
       "      <th>10</th>\n",
       "      <td>1000_10</td>\n",
       "      <td>2018-08-22</td>\n",
       "      <td>6.0</td>\n",
       "      <td>1000</td>\n",
       "      <td>2018-08-01</td>\n",
       "    </tr>\n",
       "    <tr>\n",
       "      <th>11</th>\n",
       "      <td>1000_11</td>\n",
       "      <td>2018-05-28</td>\n",
       "      <td>19.0</td>\n",
       "      <td>1000</td>\n",
       "      <td>2018-05-01</td>\n",
       "    </tr>\n",
       "    <tr>\n",
       "      <th>12</th>\n",
       "      <td>1000_12</td>\n",
       "      <td>2018-07-05</td>\n",
       "      <td>3.0</td>\n",
       "      <td>1000</td>\n",
       "      <td>2018-07-01</td>\n",
       "    </tr>\n",
       "    <tr>\n",
       "      <th>13</th>\n",
       "      <td>1000_13</td>\n",
       "      <td>2018-09-29</td>\n",
       "      <td>8.0</td>\n",
       "      <td>1000</td>\n",
       "      <td>2018-09-01</td>\n",
       "    </tr>\n",
       "    <tr>\n",
       "      <th>14</th>\n",
       "      <td>1000_14</td>\n",
       "      <td>2018-12-11</td>\n",
       "      <td>10.0</td>\n",
       "      <td>1000</td>\n",
       "      <td>2018-12-01</td>\n",
       "    </tr>\n",
       "    <tr>\n",
       "      <th>15</th>\n",
       "      <td>1000_15</td>\n",
       "      <td>2018-07-27</td>\n",
       "      <td>10.0</td>\n",
       "      <td>1000</td>\n",
       "      <td>2018-07-01</td>\n",
       "    </tr>\n",
       "    <tr>\n",
       "      <th>16</th>\n",
       "      <td>1000_16</td>\n",
       "      <td>2018-08-11</td>\n",
       "      <td>5.0</td>\n",
       "      <td>1000</td>\n",
       "      <td>2018-08-01</td>\n",
       "    </tr>\n",
       "    <tr>\n",
       "      <th>17</th>\n",
       "      <td>1000_17</td>\n",
       "      <td>2018-08-02</td>\n",
       "      <td>13.0</td>\n",
       "      <td>1000</td>\n",
       "      <td>2018-08-01</td>\n",
       "    </tr>\n",
       "    <tr>\n",
       "      <th>18</th>\n",
       "      <td>1000_18</td>\n",
       "      <td>2018-06-15</td>\n",
       "      <td>5.0</td>\n",
       "      <td>1000</td>\n",
       "      <td>2018-06-01</td>\n",
       "    </tr>\n",
       "    <tr>\n",
       "      <th>19</th>\n",
       "      <td>1000_19</td>\n",
       "      <td>2018-11-02</td>\n",
       "      <td>16.0</td>\n",
       "      <td>1000</td>\n",
       "      <td>2018-11-01</td>\n",
       "    </tr>\n",
       "  </tbody>\n",
       "</table>\n",
       "</div>"
      ],
      "text/plain": [
       "         id  call_date  duration  user_id      month\n",
       "0    1000_0 2018-07-25       0.0     1000 2018-07-01\n",
       "1    1000_1 2018-08-17       0.0     1000 2018-08-01\n",
       "2    1000_2 2018-06-11       3.0     1000 2018-06-01\n",
       "3    1000_3 2018-09-21      14.0     1000 2018-09-01\n",
       "4    1000_4 2018-12-15       6.0     1000 2018-12-01\n",
       "5    1000_5 2018-11-02       0.0     1000 2018-11-01\n",
       "6    1000_6 2018-10-18       0.0     1000 2018-10-01\n",
       "7    1000_7 2018-08-22      19.0     1000 2018-08-01\n",
       "8    1000_8 2018-09-15      19.0     1000 2018-09-01\n",
       "9    1000_9 2018-08-15       0.0     1000 2018-08-01\n",
       "10  1000_10 2018-08-22       6.0     1000 2018-08-01\n",
       "11  1000_11 2018-05-28      19.0     1000 2018-05-01\n",
       "12  1000_12 2018-07-05       3.0     1000 2018-07-01\n",
       "13  1000_13 2018-09-29       8.0     1000 2018-09-01\n",
       "14  1000_14 2018-12-11      10.0     1000 2018-12-01\n",
       "15  1000_15 2018-07-27      10.0     1000 2018-07-01\n",
       "16  1000_16 2018-08-11       5.0     1000 2018-08-01\n",
       "17  1000_17 2018-08-02      13.0     1000 2018-08-01\n",
       "18  1000_18 2018-06-15       5.0     1000 2018-06-01\n",
       "19  1000_19 2018-11-02      16.0     1000 2018-11-01"
      ]
     },
     "metadata": {},
     "output_type": "display_data"
    },
    {
     "name": "stdout",
     "output_type": "stream",
     "text": [
      "<class 'pandas.core.frame.DataFrame'>\n",
      "RangeIndex: 202607 entries, 0 to 202606\n",
      "Data columns (total 5 columns):\n",
      " #   Column     Non-Null Count   Dtype         \n",
      "---  ------     --------------   -----         \n",
      " 0   id         202607 non-null  object        \n",
      " 1   call_date  202607 non-null  datetime64[ns]\n",
      " 2   duration   202607 non-null  float64       \n",
      " 3   user_id    202607 non-null  int64         \n",
      " 4   month      202607 non-null  datetime64[ns]\n",
      "dtypes: datetime64[ns](2), float64(1), int64(1), object(1)\n",
      "memory usage: 7.7+ MB\n"
     ]
    },
    {
     "data": {
      "text/plain": [
       "None"
      ]
     },
     "metadata": {},
     "output_type": "display_data"
    }
   ],
   "source": [
    "display(df_calls.head(20))\n",
    "display(df_calls.info())\n",
    "#проверим все ли правильно"
   ]
  },
  {
   "cell_type": "markdown",
   "metadata": {},
   "source": [
    "### Предобработка df_internet"
   ]
  },
  {
   "cell_type": "code",
   "execution_count": 21,
   "metadata": {},
   "outputs": [],
   "source": [
    "to_date(df_internet,'session_date')\n",
    "round_int(df_internet,'mb_used')\n",
    "# Переведт в дататим и округлим значения"
   ]
  },
  {
   "cell_type": "code",
   "execution_count": 22,
   "metadata": {},
   "outputs": [
    {
     "data": {
      "text/html": [
       "<div>\n",
       "<style scoped>\n",
       "    .dataframe tbody tr th:only-of-type {\n",
       "        vertical-align: middle;\n",
       "    }\n",
       "\n",
       "    .dataframe tbody tr th {\n",
       "        vertical-align: top;\n",
       "    }\n",
       "\n",
       "    .dataframe thead th {\n",
       "        text-align: right;\n",
       "    }\n",
       "</style>\n",
       "<table border=\"1\" class=\"dataframe\">\n",
       "  <thead>\n",
       "    <tr style=\"text-align: right;\">\n",
       "      <th></th>\n",
       "      <th>id</th>\n",
       "      <th>mb_used</th>\n",
       "      <th>session_date</th>\n",
       "      <th>user_id</th>\n",
       "    </tr>\n",
       "  </thead>\n",
       "  <tbody>\n",
       "    <tr>\n",
       "      <th>0</th>\n",
       "      <td>1000_0</td>\n",
       "      <td>113.0</td>\n",
       "      <td>2018-11-25</td>\n",
       "      <td>1000</td>\n",
       "    </tr>\n",
       "    <tr>\n",
       "      <th>1</th>\n",
       "      <td>1000_1</td>\n",
       "      <td>1053.0</td>\n",
       "      <td>2018-09-07</td>\n",
       "      <td>1000</td>\n",
       "    </tr>\n",
       "    <tr>\n",
       "      <th>2</th>\n",
       "      <td>1000_2</td>\n",
       "      <td>1198.0</td>\n",
       "      <td>2018-06-25</td>\n",
       "      <td>1000</td>\n",
       "    </tr>\n",
       "    <tr>\n",
       "      <th>3</th>\n",
       "      <td>1000_3</td>\n",
       "      <td>551.0</td>\n",
       "      <td>2018-08-22</td>\n",
       "      <td>1000</td>\n",
       "    </tr>\n",
       "    <tr>\n",
       "      <th>4</th>\n",
       "      <td>1000_4</td>\n",
       "      <td>303.0</td>\n",
       "      <td>2018-09-24</td>\n",
       "      <td>1000</td>\n",
       "    </tr>\n",
       "    <tr>\n",
       "      <th>5</th>\n",
       "      <td>1000_5</td>\n",
       "      <td>400.0</td>\n",
       "      <td>2018-10-02</td>\n",
       "      <td>1000</td>\n",
       "    </tr>\n",
       "    <tr>\n",
       "      <th>6</th>\n",
       "      <td>1000_6</td>\n",
       "      <td>541.0</td>\n",
       "      <td>2018-09-07</td>\n",
       "      <td>1000</td>\n",
       "    </tr>\n",
       "    <tr>\n",
       "      <th>7</th>\n",
       "      <td>1000_7</td>\n",
       "      <td>416.0</td>\n",
       "      <td>2018-07-11</td>\n",
       "      <td>1000</td>\n",
       "    </tr>\n",
       "    <tr>\n",
       "      <th>8</th>\n",
       "      <td>1000_8</td>\n",
       "      <td>506.0</td>\n",
       "      <td>2018-10-08</td>\n",
       "      <td>1000</td>\n",
       "    </tr>\n",
       "    <tr>\n",
       "      <th>9</th>\n",
       "      <td>1000_9</td>\n",
       "      <td>346.0</td>\n",
       "      <td>2018-09-03</td>\n",
       "      <td>1000</td>\n",
       "    </tr>\n",
       "  </tbody>\n",
       "</table>\n",
       "</div>"
      ],
      "text/plain": [
       "       id  mb_used session_date  user_id\n",
       "0  1000_0    113.0   2018-11-25     1000\n",
       "1  1000_1   1053.0   2018-09-07     1000\n",
       "2  1000_2   1198.0   2018-06-25     1000\n",
       "3  1000_3    551.0   2018-08-22     1000\n",
       "4  1000_4    303.0   2018-09-24     1000\n",
       "5  1000_5    400.0   2018-10-02     1000\n",
       "6  1000_6    541.0   2018-09-07     1000\n",
       "7  1000_7    416.0   2018-07-11     1000\n",
       "8  1000_8    506.0   2018-10-08     1000\n",
       "9  1000_9    346.0   2018-09-03     1000"
      ]
     },
     "execution_count": 22,
     "metadata": {},
     "output_type": "execute_result"
    }
   ],
   "source": [
    "df_internet.head(10)"
   ]
  },
  {
   "cell_type": "code",
   "execution_count": 23,
   "metadata": {},
   "outputs": [],
   "source": [
    "df_internet['gb_used'] = (df_internet['mb_used']/1024)\n",
    "#Добавим гигабайты "
   ]
  },
  {
   "cell_type": "code",
   "execution_count": 24,
   "metadata": {},
   "outputs": [],
   "source": [
    "df_internet['month'] = df_internet['session_date'].astype('datetime64[M]')\n",
    "#добавим месяц"
   ]
  },
  {
   "cell_type": "code",
   "execution_count": 25,
   "metadata": {},
   "outputs": [],
   "source": [
    "#df_internet = df_internet.drop(columns=['Unnamed: 0'],axis = 1)\n",
    "#удалим столбец "
   ]
  },
  {
   "cell_type": "code",
   "execution_count": 26,
   "metadata": {},
   "outputs": [
    {
     "data": {
      "text/html": [
       "<div>\n",
       "<style scoped>\n",
       "    .dataframe tbody tr th:only-of-type {\n",
       "        vertical-align: middle;\n",
       "    }\n",
       "\n",
       "    .dataframe tbody tr th {\n",
       "        vertical-align: top;\n",
       "    }\n",
       "\n",
       "    .dataframe thead th {\n",
       "        text-align: right;\n",
       "    }\n",
       "</style>\n",
       "<table border=\"1\" class=\"dataframe\">\n",
       "  <thead>\n",
       "    <tr style=\"text-align: right;\">\n",
       "      <th></th>\n",
       "      <th>id</th>\n",
       "      <th>mb_used</th>\n",
       "      <th>session_date</th>\n",
       "      <th>user_id</th>\n",
       "      <th>gb_used</th>\n",
       "      <th>month</th>\n",
       "    </tr>\n",
       "  </thead>\n",
       "  <tbody>\n",
       "    <tr>\n",
       "      <th>0</th>\n",
       "      <td>1000_0</td>\n",
       "      <td>113.0</td>\n",
       "      <td>2018-11-25</td>\n",
       "      <td>1000</td>\n",
       "      <td>0.110352</td>\n",
       "      <td>2018-11-01</td>\n",
       "    </tr>\n",
       "    <tr>\n",
       "      <th>1</th>\n",
       "      <td>1000_1</td>\n",
       "      <td>1053.0</td>\n",
       "      <td>2018-09-07</td>\n",
       "      <td>1000</td>\n",
       "      <td>1.028320</td>\n",
       "      <td>2018-09-01</td>\n",
       "    </tr>\n",
       "    <tr>\n",
       "      <th>2</th>\n",
       "      <td>1000_2</td>\n",
       "      <td>1198.0</td>\n",
       "      <td>2018-06-25</td>\n",
       "      <td>1000</td>\n",
       "      <td>1.169922</td>\n",
       "      <td>2018-06-01</td>\n",
       "    </tr>\n",
       "    <tr>\n",
       "      <th>3</th>\n",
       "      <td>1000_3</td>\n",
       "      <td>551.0</td>\n",
       "      <td>2018-08-22</td>\n",
       "      <td>1000</td>\n",
       "      <td>0.538086</td>\n",
       "      <td>2018-08-01</td>\n",
       "    </tr>\n",
       "    <tr>\n",
       "      <th>4</th>\n",
       "      <td>1000_4</td>\n",
       "      <td>303.0</td>\n",
       "      <td>2018-09-24</td>\n",
       "      <td>1000</td>\n",
       "      <td>0.295898</td>\n",
       "      <td>2018-09-01</td>\n",
       "    </tr>\n",
       "    <tr>\n",
       "      <th>5</th>\n",
       "      <td>1000_5</td>\n",
       "      <td>400.0</td>\n",
       "      <td>2018-10-02</td>\n",
       "      <td>1000</td>\n",
       "      <td>0.390625</td>\n",
       "      <td>2018-10-01</td>\n",
       "    </tr>\n",
       "    <tr>\n",
       "      <th>6</th>\n",
       "      <td>1000_6</td>\n",
       "      <td>541.0</td>\n",
       "      <td>2018-09-07</td>\n",
       "      <td>1000</td>\n",
       "      <td>0.528320</td>\n",
       "      <td>2018-09-01</td>\n",
       "    </tr>\n",
       "    <tr>\n",
       "      <th>7</th>\n",
       "      <td>1000_7</td>\n",
       "      <td>416.0</td>\n",
       "      <td>2018-07-11</td>\n",
       "      <td>1000</td>\n",
       "      <td>0.406250</td>\n",
       "      <td>2018-07-01</td>\n",
       "    </tr>\n",
       "    <tr>\n",
       "      <th>8</th>\n",
       "      <td>1000_8</td>\n",
       "      <td>506.0</td>\n",
       "      <td>2018-10-08</td>\n",
       "      <td>1000</td>\n",
       "      <td>0.494141</td>\n",
       "      <td>2018-10-01</td>\n",
       "    </tr>\n",
       "    <tr>\n",
       "      <th>9</th>\n",
       "      <td>1000_9</td>\n",
       "      <td>346.0</td>\n",
       "      <td>2018-09-03</td>\n",
       "      <td>1000</td>\n",
       "      <td>0.337891</td>\n",
       "      <td>2018-09-01</td>\n",
       "    </tr>\n",
       "  </tbody>\n",
       "</table>\n",
       "</div>"
      ],
      "text/plain": [
       "       id  mb_used session_date  user_id   gb_used      month\n",
       "0  1000_0    113.0   2018-11-25     1000  0.110352 2018-11-01\n",
       "1  1000_1   1053.0   2018-09-07     1000  1.028320 2018-09-01\n",
       "2  1000_2   1198.0   2018-06-25     1000  1.169922 2018-06-01\n",
       "3  1000_3    551.0   2018-08-22     1000  0.538086 2018-08-01\n",
       "4  1000_4    303.0   2018-09-24     1000  0.295898 2018-09-01\n",
       "5  1000_5    400.0   2018-10-02     1000  0.390625 2018-10-01\n",
       "6  1000_6    541.0   2018-09-07     1000  0.528320 2018-09-01\n",
       "7  1000_7    416.0   2018-07-11     1000  0.406250 2018-07-01\n",
       "8  1000_8    506.0   2018-10-08     1000  0.494141 2018-10-01\n",
       "9  1000_9    346.0   2018-09-03     1000  0.337891 2018-09-01"
      ]
     },
     "execution_count": 26,
     "metadata": {},
     "output_type": "execute_result"
    }
   ],
   "source": [
    "df_internet.head(10)"
   ]
  },
  {
   "cell_type": "code",
   "execution_count": 27,
   "metadata": {},
   "outputs": [
    {
     "data": {
      "text/plain": [
       "<AxesSubplot:>"
      ]
     },
     "execution_count": 27,
     "metadata": {},
     "output_type": "execute_result"
    },
    {
     "data": {
      "image/png": "[encoded data removed]",
      "text/plain": [
       "<Figure size 432x288 with 1 Axes>"
      ]
     },
     "metadata": {
      "needs_background": "light"
     },
     "output_type": "display_data"
    }
   ],
   "source": [
    "df_internet['mb_used'].hist()"
   ]
  },
  {
   "cell_type": "code",
   "execution_count": 28,
   "metadata": {},
   "outputs": [
    {
     "data": {
      "text/plain": [
       "<AxesSubplot:>"
      ]
     },
     "execution_count": 28,
     "metadata": {},
     "output_type": "execute_result"
    },
    {
     "data": {
      "image/png": "[encoded data removed]",
      "text/plain": [
       "<Figure size 432x288 with 1 Axes>"
      ]
     },
     "metadata": {
      "needs_background": "light"
     },
     "output_type": "display_data"
    }
   ],
   "source": [
    "df_internet['gb_used'].hist(bins=5)"
   ]
  },
  {
   "cell_type": "markdown",
   "metadata": {},
   "source": [
    "После окруuления у нас остались люде кто не использует интернет, это нормально удалять не будем "
   ]
  },
  {
   "cell_type": "markdown",
   "metadata": {},
   "source": [
    "### Предобработка df_messages"
   ]
  },
  {
   "cell_type": "code",
   "execution_count": 29,
   "metadata": {},
   "outputs": [],
   "source": [
    "to_date(df_messages,'message_date')"
   ]
  },
  {
   "cell_type": "code",
   "execution_count": 30,
   "metadata": {},
   "outputs": [],
   "source": [
    "df_messages['month'] = df_messages['message_date'].astype('datetime64[M]')\n",
    "#добавим месяц"
   ]
  },
  {
   "cell_type": "code",
   "execution_count": 31,
   "metadata": {},
   "outputs": [
    {
     "data": {
      "text/html": [
       "<div>\n",
       "<style scoped>\n",
       "    .dataframe tbody tr th:only-of-type {\n",
       "        vertical-align: middle;\n",
       "    }\n",
       "\n",
       "    .dataframe tbody tr th {\n",
       "        vertical-align: top;\n",
       "    }\n",
       "\n",
       "    .dataframe thead th {\n",
       "        text-align: right;\n",
       "    }\n",
       "</style>\n",
       "<table border=\"1\" class=\"dataframe\">\n",
       "  <thead>\n",
       "    <tr style=\"text-align: right;\">\n",
       "      <th></th>\n",
       "      <th>id</th>\n",
       "      <th>message_date</th>\n",
       "      <th>user_id</th>\n",
       "      <th>month</th>\n",
       "    </tr>\n",
       "  </thead>\n",
       "  <tbody>\n",
       "    <tr>\n",
       "      <th>0</th>\n",
       "      <td>1000_0</td>\n",
       "      <td>2018-06-27</td>\n",
       "      <td>1000</td>\n",
       "      <td>2018-06-01</td>\n",
       "    </tr>\n",
       "    <tr>\n",
       "      <th>1</th>\n",
       "      <td>1000_1</td>\n",
       "      <td>2018-10-08</td>\n",
       "      <td>1000</td>\n",
       "      <td>2018-10-01</td>\n",
       "    </tr>\n",
       "    <tr>\n",
       "      <th>2</th>\n",
       "      <td>1000_2</td>\n",
       "      <td>2018-08-04</td>\n",
       "      <td>1000</td>\n",
       "      <td>2018-08-01</td>\n",
       "    </tr>\n",
       "    <tr>\n",
       "      <th>3</th>\n",
       "      <td>1000_3</td>\n",
       "      <td>2018-06-16</td>\n",
       "      <td>1000</td>\n",
       "      <td>2018-06-01</td>\n",
       "    </tr>\n",
       "    <tr>\n",
       "      <th>4</th>\n",
       "      <td>1000_4</td>\n",
       "      <td>2018-12-05</td>\n",
       "      <td>1000</td>\n",
       "      <td>2018-12-01</td>\n",
       "    </tr>\n",
       "  </tbody>\n",
       "</table>\n",
       "</div>"
      ],
      "text/plain": [
       "       id message_date  user_id      month\n",
       "0  1000_0   2018-06-27     1000 2018-06-01\n",
       "1  1000_1   2018-10-08     1000 2018-10-01\n",
       "2  1000_2   2018-08-04     1000 2018-08-01\n",
       "3  1000_3   2018-06-16     1000 2018-06-01\n",
       "4  1000_4   2018-12-05     1000 2018-12-01"
      ]
     },
     "execution_count": 31,
     "metadata": {},
     "output_type": "execute_result"
    }
   ],
   "source": [
    "df_messages.head()"
   ]
  },
  {
   "cell_type": "markdown",
   "metadata": {},
   "source": [
    "### Пердобработка df_users"
   ]
  },
  {
   "cell_type": "code",
   "execution_count": 32,
   "metadata": {},
   "outputs": [],
   "source": [
    "#приведем даты в столбцах churn_date и reg_date к соответствующим форматам\n",
    "df_users['reg_date'] = pd.to_datetime(df_users['reg_date'], format='%Y-%m-%d')\n",
    "df_users['churn_date'] = pd.to_datetime(df_users['churn_date'], format='%Y-%m-%d')\n",
    "\n",
    "#добавим информацию о тарифах в users в виде 0 и 1\n",
    "def tariff_id(row):\n",
    "    if row == 'smart':\n",
    "        return 0\n",
    "    elif row == 'ultra':\n",
    "        return 1\n",
    "df_users['tariff_id'] = df_users['tariff'].apply(tariff_id)"
   ]
  },
  {
   "cell_type": "code",
   "execution_count": 33,
   "metadata": {},
   "outputs": [
    {
     "data": {
      "text/html": [
       "<div>\n",
       "<style scoped>\n",
       "    .dataframe tbody tr th:only-of-type {\n",
       "        vertical-align: middle;\n",
       "    }\n",
       "\n",
       "    .dataframe tbody tr th {\n",
       "        vertical-align: top;\n",
       "    }\n",
       "\n",
       "    .dataframe thead th {\n",
       "        text-align: right;\n",
       "    }\n",
       "</style>\n",
       "<table border=\"1\" class=\"dataframe\">\n",
       "  <thead>\n",
       "    <tr style=\"text-align: right;\">\n",
       "      <th></th>\n",
       "      <th>user_id</th>\n",
       "      <th>age</th>\n",
       "      <th>churn_date</th>\n",
       "      <th>city</th>\n",
       "      <th>first_name</th>\n",
       "      <th>last_name</th>\n",
       "      <th>reg_date</th>\n",
       "      <th>tariff</th>\n",
       "      <th>tariff_id</th>\n",
       "    </tr>\n",
       "  </thead>\n",
       "  <tbody>\n",
       "    <tr>\n",
       "      <th>0</th>\n",
       "      <td>1000</td>\n",
       "      <td>52</td>\n",
       "      <td>NaT</td>\n",
       "      <td>Краснодар</td>\n",
       "      <td>Рафаил</td>\n",
       "      <td>Верещагин</td>\n",
       "      <td>2018-05-25</td>\n",
       "      <td>ultra</td>\n",
       "      <td>1</td>\n",
       "    </tr>\n",
       "    <tr>\n",
       "      <th>1</th>\n",
       "      <td>1001</td>\n",
       "      <td>41</td>\n",
       "      <td>NaT</td>\n",
       "      <td>Москва</td>\n",
       "      <td>Иван</td>\n",
       "      <td>Ежов</td>\n",
       "      <td>2018-11-01</td>\n",
       "      <td>smart</td>\n",
       "      <td>0</td>\n",
       "    </tr>\n",
       "    <tr>\n",
       "      <th>2</th>\n",
       "      <td>1002</td>\n",
       "      <td>59</td>\n",
       "      <td>NaT</td>\n",
       "      <td>Стерлитамак</td>\n",
       "      <td>Евгений</td>\n",
       "      <td>Абрамович</td>\n",
       "      <td>2018-06-17</td>\n",
       "      <td>smart</td>\n",
       "      <td>0</td>\n",
       "    </tr>\n",
       "    <tr>\n",
       "      <th>3</th>\n",
       "      <td>1003</td>\n",
       "      <td>23</td>\n",
       "      <td>NaT</td>\n",
       "      <td>Москва</td>\n",
       "      <td>Белла</td>\n",
       "      <td>Белякова</td>\n",
       "      <td>2018-08-17</td>\n",
       "      <td>ultra</td>\n",
       "      <td>1</td>\n",
       "    </tr>\n",
       "    <tr>\n",
       "      <th>4</th>\n",
       "      <td>1004</td>\n",
       "      <td>68</td>\n",
       "      <td>NaT</td>\n",
       "      <td>Новокузнецк</td>\n",
       "      <td>Татьяна</td>\n",
       "      <td>Авдеенко</td>\n",
       "      <td>2018-05-14</td>\n",
       "      <td>ultra</td>\n",
       "      <td>1</td>\n",
       "    </tr>\n",
       "    <tr>\n",
       "      <th>5</th>\n",
       "      <td>1005</td>\n",
       "      <td>67</td>\n",
       "      <td>NaT</td>\n",
       "      <td>Набережные Челны</td>\n",
       "      <td>Афанасий</td>\n",
       "      <td>Горлов</td>\n",
       "      <td>2018-01-25</td>\n",
       "      <td>smart</td>\n",
       "      <td>0</td>\n",
       "    </tr>\n",
       "    <tr>\n",
       "      <th>6</th>\n",
       "      <td>1006</td>\n",
       "      <td>21</td>\n",
       "      <td>NaT</td>\n",
       "      <td>Ульяновск</td>\n",
       "      <td>Леонид</td>\n",
       "      <td>Ермолаев</td>\n",
       "      <td>2018-02-26</td>\n",
       "      <td>smart</td>\n",
       "      <td>0</td>\n",
       "    </tr>\n",
       "    <tr>\n",
       "      <th>7</th>\n",
       "      <td>1007</td>\n",
       "      <td>65</td>\n",
       "      <td>NaT</td>\n",
       "      <td>Москва</td>\n",
       "      <td>Юна</td>\n",
       "      <td>Березина</td>\n",
       "      <td>2018-04-19</td>\n",
       "      <td>smart</td>\n",
       "      <td>0</td>\n",
       "    </tr>\n",
       "    <tr>\n",
       "      <th>8</th>\n",
       "      <td>1008</td>\n",
       "      <td>63</td>\n",
       "      <td>NaT</td>\n",
       "      <td>Челябинск</td>\n",
       "      <td>Рустэм</td>\n",
       "      <td>Пономарёв</td>\n",
       "      <td>2018-12-19</td>\n",
       "      <td>smart</td>\n",
       "      <td>0</td>\n",
       "    </tr>\n",
       "    <tr>\n",
       "      <th>9</th>\n",
       "      <td>1009</td>\n",
       "      <td>24</td>\n",
       "      <td>NaT</td>\n",
       "      <td>Пермь</td>\n",
       "      <td>Василиса</td>\n",
       "      <td>Блинова</td>\n",
       "      <td>2018-03-22</td>\n",
       "      <td>smart</td>\n",
       "      <td>0</td>\n",
       "    </tr>\n",
       "  </tbody>\n",
       "</table>\n",
       "</div>"
      ],
      "text/plain": [
       "   user_id  age churn_date              city first_name  last_name   reg_date  \\\n",
       "0     1000   52        NaT         Краснодар     Рафаил  Верещагин 2018-05-25   \n",
       "1     1001   41        NaT            Москва       Иван       Ежов 2018-11-01   \n",
       "2     1002   59        NaT       Стерлитамак    Евгений  Абрамович 2018-06-17   \n",
       "3     1003   23        NaT            Москва      Белла   Белякова 2018-08-17   \n",
       "4     1004   68        NaT       Новокузнецк    Татьяна   Авдеенко 2018-05-14   \n",
       "5     1005   67        NaT  Набережные Челны   Афанасий     Горлов 2018-01-25   \n",
       "6     1006   21        NaT         Ульяновск     Леонид   Ермолаев 2018-02-26   \n",
       "7     1007   65        NaT            Москва        Юна   Березина 2018-04-19   \n",
       "8     1008   63        NaT         Челябинск     Рустэм  Пономарёв 2018-12-19   \n",
       "9     1009   24        NaT             Пермь   Василиса    Блинова 2018-03-22   \n",
       "\n",
       "  tariff  tariff_id  \n",
       "0  ultra          1  \n",
       "1  smart          0  \n",
       "2  smart          0  \n",
       "3  ultra          1  \n",
       "4  ultra          1  \n",
       "5  smart          0  \n",
       "6  smart          0  \n",
       "7  smart          0  \n",
       "8  smart          0  \n",
       "9  smart          0  "
      ]
     },
     "execution_count": 33,
     "metadata": {},
     "output_type": "execute_result"
    }
   ],
   "source": [
    "df_users.head(10)"
   ]
  },
  {
   "cell_type": "markdown",
   "metadata": {},
   "source": [
    "### Перобработка df_tariffs"
   ]
  },
  {
   "cell_type": "code",
   "execution_count": 34,
   "metadata": {},
   "outputs": [
    {
     "data": {
      "text/html": [
       "<div>\n",
       "<style scoped>\n",
       "    .dataframe tbody tr th:only-of-type {\n",
       "        vertical-align: middle;\n",
       "    }\n",
       "\n",
       "    .dataframe tbody tr th {\n",
       "        vertical-align: top;\n",
       "    }\n",
       "\n",
       "    .dataframe thead th {\n",
       "        text-align: right;\n",
       "    }\n",
       "</style>\n",
       "<table border=\"1\" class=\"dataframe\">\n",
       "  <thead>\n",
       "    <tr style=\"text-align: right;\">\n",
       "      <th></th>\n",
       "      <th>messages_included</th>\n",
       "      <th>mb_per_month_included</th>\n",
       "      <th>minutes_included</th>\n",
       "      <th>rub_monthly_fee</th>\n",
       "      <th>rub_per_gb</th>\n",
       "      <th>rub_per_message</th>\n",
       "      <th>rub_per_minute</th>\n",
       "      <th>tariff_name</th>\n",
       "      <th>gb_per_month_included</th>\n",
       "    </tr>\n",
       "  </thead>\n",
       "  <tbody>\n",
       "    <tr>\n",
       "      <th>0</th>\n",
       "      <td>50</td>\n",
       "      <td>15360</td>\n",
       "      <td>500</td>\n",
       "      <td>550</td>\n",
       "      <td>200</td>\n",
       "      <td>3</td>\n",
       "      <td>3</td>\n",
       "      <td>smart</td>\n",
       "      <td>15.0</td>\n",
       "    </tr>\n",
       "    <tr>\n",
       "      <th>1</th>\n",
       "      <td>1000</td>\n",
       "      <td>30720</td>\n",
       "      <td>3000</td>\n",
       "      <td>1950</td>\n",
       "      <td>150</td>\n",
       "      <td>1</td>\n",
       "      <td>1</td>\n",
       "      <td>ultra</td>\n",
       "      <td>30.0</td>\n",
       "    </tr>\n",
       "  </tbody>\n",
       "</table>\n",
       "</div>"
      ],
      "text/plain": [
       "   messages_included  mb_per_month_included  minutes_included  \\\n",
       "0                 50                  15360               500   \n",
       "1               1000                  30720              3000   \n",
       "\n",
       "   rub_monthly_fee  rub_per_gb  rub_per_message  rub_per_minute tariff_name  \\\n",
       "0              550         200                3               3       smart   \n",
       "1             1950         150                1               1       ultra   \n",
       "\n",
       "   gb_per_month_included  \n",
       "0                   15.0  \n",
       "1                   30.0  "
      ]
     },
     "metadata": {},
     "output_type": "display_data"
    }
   ],
   "source": [
    "df_tariffs['gb_per_month_included'] = df_tariffs['mb_per_month_included']/1024\n",
    "display(df_tariffs)\n",
    "\n",
    "#переведём мегабайты в гигибайты и сохраним эти значения в столбце gb_per_month_included"
   ]
  },
  {
   "cell_type": "markdown",
   "metadata": {},
   "source": [
    "### Посчитаем трафик и звонки"
   ]
  },
  {
   "cell_type": "code",
   "execution_count": 35,
   "metadata": {},
   "outputs": [
    {
     "data": {
      "text/html": [
       "<div>\n",
       "<style scoped>\n",
       "    .dataframe tbody tr th:only-of-type {\n",
       "        vertical-align: middle;\n",
       "    }\n",
       "\n",
       "    .dataframe tbody tr th {\n",
       "        vertical-align: top;\n",
       "    }\n",
       "\n",
       "    .dataframe thead th {\n",
       "        text-align: right;\n",
       "    }\n",
       "</style>\n",
       "<table border=\"1\" class=\"dataframe\">\n",
       "  <thead>\n",
       "    <tr style=\"text-align: right;\">\n",
       "      <th></th>\n",
       "      <th>user_id</th>\n",
       "      <th>month</th>\n",
       "      <th>call_numbers</th>\n",
       "      <th>call_duration</th>\n",
       "    </tr>\n",
       "  </thead>\n",
       "  <tbody>\n",
       "    <tr>\n",
       "      <th>0</th>\n",
       "      <td>1000</td>\n",
       "      <td>2018-05-01</td>\n",
       "      <td>22</td>\n",
       "      <td>159.0</td>\n",
       "    </tr>\n",
       "    <tr>\n",
       "      <th>1</th>\n",
       "      <td>1000</td>\n",
       "      <td>2018-06-01</td>\n",
       "      <td>43</td>\n",
       "      <td>172.0</td>\n",
       "    </tr>\n",
       "    <tr>\n",
       "      <th>2</th>\n",
       "      <td>1000</td>\n",
       "      <td>2018-07-01</td>\n",
       "      <td>47</td>\n",
       "      <td>340.0</td>\n",
       "    </tr>\n",
       "    <tr>\n",
       "      <th>3</th>\n",
       "      <td>1000</td>\n",
       "      <td>2018-08-01</td>\n",
       "      <td>52</td>\n",
       "      <td>408.0</td>\n",
       "    </tr>\n",
       "    <tr>\n",
       "      <th>4</th>\n",
       "      <td>1000</td>\n",
       "      <td>2018-09-01</td>\n",
       "      <td>58</td>\n",
       "      <td>466.0</td>\n",
       "    </tr>\n",
       "    <tr>\n",
       "      <th>...</th>\n",
       "      <td>...</td>\n",
       "      <td>...</td>\n",
       "      <td>...</td>\n",
       "      <td>...</td>\n",
       "    </tr>\n",
       "    <tr>\n",
       "      <th>3169</th>\n",
       "      <td>1498</td>\n",
       "      <td>2018-10-01</td>\n",
       "      <td>41</td>\n",
       "      <td>247.0</td>\n",
       "    </tr>\n",
       "    <tr>\n",
       "      <th>3170</th>\n",
       "      <td>1499</td>\n",
       "      <td>2018-09-01</td>\n",
       "      <td>9</td>\n",
       "      <td>70.0</td>\n",
       "    </tr>\n",
       "    <tr>\n",
       "      <th>3171</th>\n",
       "      <td>1499</td>\n",
       "      <td>2018-10-01</td>\n",
       "      <td>68</td>\n",
       "      <td>449.0</td>\n",
       "    </tr>\n",
       "    <tr>\n",
       "      <th>3172</th>\n",
       "      <td>1499</td>\n",
       "      <td>2018-11-01</td>\n",
       "      <td>74</td>\n",
       "      <td>612.0</td>\n",
       "    </tr>\n",
       "    <tr>\n",
       "      <th>3173</th>\n",
       "      <td>1499</td>\n",
       "      <td>2018-12-01</td>\n",
       "      <td>69</td>\n",
       "      <td>492.0</td>\n",
       "    </tr>\n",
       "  </tbody>\n",
       "</table>\n",
       "<p>3174 rows × 4 columns</p>\n",
       "</div>"
      ],
      "text/plain": [
       "      user_id      month  call_numbers  call_duration\n",
       "0        1000 2018-05-01            22          159.0\n",
       "1        1000 2018-06-01            43          172.0\n",
       "2        1000 2018-07-01            47          340.0\n",
       "3        1000 2018-08-01            52          408.0\n",
       "4        1000 2018-09-01            58          466.0\n",
       "...       ...        ...           ...            ...\n",
       "3169     1498 2018-10-01            41          247.0\n",
       "3170     1499 2018-09-01             9           70.0\n",
       "3171     1499 2018-10-01            68          449.0\n",
       "3172     1499 2018-11-01            74          612.0\n",
       "3173     1499 2018-12-01            69          492.0\n",
       "\n",
       "[3174 rows x 4 columns]"
      ]
     },
     "metadata": {},
     "output_type": "display_data"
    }
   ],
   "source": [
    "data_calls_pivot = df_calls.pivot_table(index=['user_id','month'],values=['duration'],aggfunc=('sum','count')).reset_index()\n",
    "data_calls_pivot.columns = ['user_id', 'month', 'call_numbers', 'call_duration']\n",
    "display(data_calls_pivot)"
   ]
  },
  {
   "cell_type": "markdown",
   "metadata": {},
   "source": [
    "Кол-во звонков по месяцами их длинна"
   ]
  },
  {
   "cell_type": "code",
   "execution_count": 36,
   "metadata": {},
   "outputs": [
    {
     "data": {
      "text/html": [
       "<div>\n",
       "<style scoped>\n",
       "    .dataframe tbody tr th:only-of-type {\n",
       "        vertical-align: middle;\n",
       "    }\n",
       "\n",
       "    .dataframe tbody tr th {\n",
       "        vertical-align: top;\n",
       "    }\n",
       "\n",
       "    .dataframe thead th {\n",
       "        text-align: right;\n",
       "    }\n",
       "</style>\n",
       "<table border=\"1\" class=\"dataframe\">\n",
       "  <thead>\n",
       "    <tr style=\"text-align: right;\">\n",
       "      <th></th>\n",
       "      <th>id</th>\n",
       "      <th>message_date</th>\n",
       "      <th>user_id</th>\n",
       "      <th>month</th>\n",
       "    </tr>\n",
       "  </thead>\n",
       "  <tbody>\n",
       "    <tr>\n",
       "      <th>0</th>\n",
       "      <td>1000_0</td>\n",
       "      <td>2018-06-27</td>\n",
       "      <td>1000</td>\n",
       "      <td>2018-06-01</td>\n",
       "    </tr>\n",
       "    <tr>\n",
       "      <th>1</th>\n",
       "      <td>1000_1</td>\n",
       "      <td>2018-10-08</td>\n",
       "      <td>1000</td>\n",
       "      <td>2018-10-01</td>\n",
       "    </tr>\n",
       "    <tr>\n",
       "      <th>2</th>\n",
       "      <td>1000_2</td>\n",
       "      <td>2018-08-04</td>\n",
       "      <td>1000</td>\n",
       "      <td>2018-08-01</td>\n",
       "    </tr>\n",
       "    <tr>\n",
       "      <th>3</th>\n",
       "      <td>1000_3</td>\n",
       "      <td>2018-06-16</td>\n",
       "      <td>1000</td>\n",
       "      <td>2018-06-01</td>\n",
       "    </tr>\n",
       "    <tr>\n",
       "      <th>4</th>\n",
       "      <td>1000_4</td>\n",
       "      <td>2018-12-05</td>\n",
       "      <td>1000</td>\n",
       "      <td>2018-12-01</td>\n",
       "    </tr>\n",
       "  </tbody>\n",
       "</table>\n",
       "</div>"
      ],
      "text/plain": [
       "       id message_date  user_id      month\n",
       "0  1000_0   2018-06-27     1000 2018-06-01\n",
       "1  1000_1   2018-10-08     1000 2018-10-01\n",
       "2  1000_2   2018-08-04     1000 2018-08-01\n",
       "3  1000_3   2018-06-16     1000 2018-06-01\n",
       "4  1000_4   2018-12-05     1000 2018-12-01"
      ]
     },
     "execution_count": 36,
     "metadata": {},
     "output_type": "execute_result"
    }
   ],
   "source": [
    "df_messages.head()"
   ]
  },
  {
   "cell_type": "code",
   "execution_count": 37,
   "metadata": {},
   "outputs": [
    {
     "data": {
      "text/html": [
       "<div>\n",
       "<style scoped>\n",
       "    .dataframe tbody tr th:only-of-type {\n",
       "        vertical-align: middle;\n",
       "    }\n",
       "\n",
       "    .dataframe tbody tr th {\n",
       "        vertical-align: top;\n",
       "    }\n",
       "\n",
       "    .dataframe thead th {\n",
       "        text-align: right;\n",
       "    }\n",
       "</style>\n",
       "<table border=\"1\" class=\"dataframe\">\n",
       "  <thead>\n",
       "    <tr style=\"text-align: right;\">\n",
       "      <th></th>\n",
       "      <th>user_id</th>\n",
       "      <th>month</th>\n",
       "      <th>message_numbers</th>\n",
       "    </tr>\n",
       "  </thead>\n",
       "  <tbody>\n",
       "    <tr>\n",
       "      <th>0</th>\n",
       "      <td>1000</td>\n",
       "      <td>2018-05-01</td>\n",
       "      <td>22</td>\n",
       "    </tr>\n",
       "    <tr>\n",
       "      <th>1</th>\n",
       "      <td>1000</td>\n",
       "      <td>2018-06-01</td>\n",
       "      <td>60</td>\n",
       "    </tr>\n",
       "    <tr>\n",
       "      <th>2</th>\n",
       "      <td>1000</td>\n",
       "      <td>2018-07-01</td>\n",
       "      <td>75</td>\n",
       "    </tr>\n",
       "    <tr>\n",
       "      <th>3</th>\n",
       "      <td>1000</td>\n",
       "      <td>2018-08-01</td>\n",
       "      <td>81</td>\n",
       "    </tr>\n",
       "    <tr>\n",
       "      <th>4</th>\n",
       "      <td>1000</td>\n",
       "      <td>2018-09-01</td>\n",
       "      <td>57</td>\n",
       "    </tr>\n",
       "    <tr>\n",
       "      <th>...</th>\n",
       "      <td>...</td>\n",
       "      <td>...</td>\n",
       "      <td>...</td>\n",
       "    </tr>\n",
       "    <tr>\n",
       "      <th>2712</th>\n",
       "      <td>1498</td>\n",
       "      <td>2018-10-01</td>\n",
       "      <td>42</td>\n",
       "    </tr>\n",
       "    <tr>\n",
       "      <th>2713</th>\n",
       "      <td>1499</td>\n",
       "      <td>2018-09-01</td>\n",
       "      <td>11</td>\n",
       "    </tr>\n",
       "    <tr>\n",
       "      <th>2714</th>\n",
       "      <td>1499</td>\n",
       "      <td>2018-10-01</td>\n",
       "      <td>48</td>\n",
       "    </tr>\n",
       "    <tr>\n",
       "      <th>2715</th>\n",
       "      <td>1499</td>\n",
       "      <td>2018-11-01</td>\n",
       "      <td>59</td>\n",
       "    </tr>\n",
       "    <tr>\n",
       "      <th>2716</th>\n",
       "      <td>1499</td>\n",
       "      <td>2018-12-01</td>\n",
       "      <td>66</td>\n",
       "    </tr>\n",
       "  </tbody>\n",
       "</table>\n",
       "<p>2717 rows × 3 columns</p>\n",
       "</div>"
      ],
      "text/plain": [
       "      user_id      month  message_numbers\n",
       "0        1000 2018-05-01               22\n",
       "1        1000 2018-06-01               60\n",
       "2        1000 2018-07-01               75\n",
       "3        1000 2018-08-01               81\n",
       "4        1000 2018-09-01               57\n",
       "...       ...        ...              ...\n",
       "2712     1498 2018-10-01               42\n",
       "2713     1499 2018-09-01               11\n",
       "2714     1499 2018-10-01               48\n",
       "2715     1499 2018-11-01               59\n",
       "2716     1499 2018-12-01               66\n",
       "\n",
       "[2717 rows x 3 columns]"
      ]
     },
     "metadata": {},
     "output_type": "display_data"
    }
   ],
   "source": [
    "data_message_pivot = df_messages.pivot_table(index=['user_id','month'],values='id',aggfunc=('count')).reset_index()\n",
    "data_message_pivot.columns = ['user_id', 'month', 'message_numbers']\n",
    "display(data_message_pivot)"
   ]
  },
  {
   "cell_type": "markdown",
   "metadata": {},
   "source": [
    "Посчитали кол-во смс"
   ]
  },
  {
   "cell_type": "code",
   "execution_count": 38,
   "metadata": {},
   "outputs": [
    {
     "data": {
      "text/html": [
       "<div>\n",
       "<style scoped>\n",
       "    .dataframe tbody tr th:only-of-type {\n",
       "        vertical-align: middle;\n",
       "    }\n",
       "\n",
       "    .dataframe tbody tr th {\n",
       "        vertical-align: top;\n",
       "    }\n",
       "\n",
       "    .dataframe thead th {\n",
       "        text-align: right;\n",
       "    }\n",
       "</style>\n",
       "<table border=\"1\" class=\"dataframe\">\n",
       "  <thead>\n",
       "    <tr style=\"text-align: right;\">\n",
       "      <th></th>\n",
       "      <th>id</th>\n",
       "      <th>mb_used</th>\n",
       "      <th>session_date</th>\n",
       "      <th>user_id</th>\n",
       "      <th>gb_used</th>\n",
       "      <th>month</th>\n",
       "    </tr>\n",
       "  </thead>\n",
       "  <tbody>\n",
       "    <tr>\n",
       "      <th>0</th>\n",
       "      <td>1000_0</td>\n",
       "      <td>113.0</td>\n",
       "      <td>2018-11-25</td>\n",
       "      <td>1000</td>\n",
       "      <td>0.110352</td>\n",
       "      <td>2018-11-01</td>\n",
       "    </tr>\n",
       "    <tr>\n",
       "      <th>1</th>\n",
       "      <td>1000_1</td>\n",
       "      <td>1053.0</td>\n",
       "      <td>2018-09-07</td>\n",
       "      <td>1000</td>\n",
       "      <td>1.028320</td>\n",
       "      <td>2018-09-01</td>\n",
       "    </tr>\n",
       "    <tr>\n",
       "      <th>2</th>\n",
       "      <td>1000_2</td>\n",
       "      <td>1198.0</td>\n",
       "      <td>2018-06-25</td>\n",
       "      <td>1000</td>\n",
       "      <td>1.169922</td>\n",
       "      <td>2018-06-01</td>\n",
       "    </tr>\n",
       "    <tr>\n",
       "      <th>3</th>\n",
       "      <td>1000_3</td>\n",
       "      <td>551.0</td>\n",
       "      <td>2018-08-22</td>\n",
       "      <td>1000</td>\n",
       "      <td>0.538086</td>\n",
       "      <td>2018-08-01</td>\n",
       "    </tr>\n",
       "    <tr>\n",
       "      <th>4</th>\n",
       "      <td>1000_4</td>\n",
       "      <td>303.0</td>\n",
       "      <td>2018-09-24</td>\n",
       "      <td>1000</td>\n",
       "      <td>0.295898</td>\n",
       "      <td>2018-09-01</td>\n",
       "    </tr>\n",
       "    <tr>\n",
       "      <th>5</th>\n",
       "      <td>1000_5</td>\n",
       "      <td>400.0</td>\n",
       "      <td>2018-10-02</td>\n",
       "      <td>1000</td>\n",
       "      <td>0.390625</td>\n",
       "      <td>2018-10-01</td>\n",
       "    </tr>\n",
       "    <tr>\n",
       "      <th>6</th>\n",
       "      <td>1000_6</td>\n",
       "      <td>541.0</td>\n",
       "      <td>2018-09-07</td>\n",
       "      <td>1000</td>\n",
       "      <td>0.528320</td>\n",
       "      <td>2018-09-01</td>\n",
       "    </tr>\n",
       "    <tr>\n",
       "      <th>7</th>\n",
       "      <td>1000_7</td>\n",
       "      <td>416.0</td>\n",
       "      <td>2018-07-11</td>\n",
       "      <td>1000</td>\n",
       "      <td>0.406250</td>\n",
       "      <td>2018-07-01</td>\n",
       "    </tr>\n",
       "    <tr>\n",
       "      <th>8</th>\n",
       "      <td>1000_8</td>\n",
       "      <td>506.0</td>\n",
       "      <td>2018-10-08</td>\n",
       "      <td>1000</td>\n",
       "      <td>0.494141</td>\n",
       "      <td>2018-10-01</td>\n",
       "    </tr>\n",
       "    <tr>\n",
       "      <th>9</th>\n",
       "      <td>1000_9</td>\n",
       "      <td>346.0</td>\n",
       "      <td>2018-09-03</td>\n",
       "      <td>1000</td>\n",
       "      <td>0.337891</td>\n",
       "      <td>2018-09-01</td>\n",
       "    </tr>\n",
       "  </tbody>\n",
       "</table>\n",
       "</div>"
      ],
      "text/plain": [
       "       id  mb_used session_date  user_id   gb_used      month\n",
       "0  1000_0    113.0   2018-11-25     1000  0.110352 2018-11-01\n",
       "1  1000_1   1053.0   2018-09-07     1000  1.028320 2018-09-01\n",
       "2  1000_2   1198.0   2018-06-25     1000  1.169922 2018-06-01\n",
       "3  1000_3    551.0   2018-08-22     1000  0.538086 2018-08-01\n",
       "4  1000_4    303.0   2018-09-24     1000  0.295898 2018-09-01\n",
       "5  1000_5    400.0   2018-10-02     1000  0.390625 2018-10-01\n",
       "6  1000_6    541.0   2018-09-07     1000  0.528320 2018-09-01\n",
       "7  1000_7    416.0   2018-07-11     1000  0.406250 2018-07-01\n",
       "8  1000_8    506.0   2018-10-08     1000  0.494141 2018-10-01\n",
       "9  1000_9    346.0   2018-09-03     1000  0.337891 2018-09-01"
      ]
     },
     "execution_count": 38,
     "metadata": {},
     "output_type": "execute_result"
    }
   ],
   "source": [
    "df_internet.head(10)"
   ]
  },
  {
   "cell_type": "code",
   "execution_count": 39,
   "metadata": {},
   "outputs": [],
   "source": [
    "df_internet_pivot = df_internet.pivot_table(index=['user_id','month'],values='gb_used',aggfunc='sum')\n",
    "df_internet_pivot = df_internet_pivot['gb_used'].apply(np.ceil).reset_index()\n",
    "df_internet_pivot.columns = ['user_id','month','gb_used']\n",
    "df_internet_pivot= df_internet_pivot"
   ]
  },
  {
   "cell_type": "markdown",
   "metadata": {},
   "source": [
    "Посчитаем объем трафика и округлим в большу сторону"
   ]
  },
  {
   "cell_type": "code",
   "execution_count": 40,
   "metadata": {},
   "outputs": [
    {
     "data": {
      "text/html": [
       "<div>\n",
       "<style scoped>\n",
       "    .dataframe tbody tr th:only-of-type {\n",
       "        vertical-align: middle;\n",
       "    }\n",
       "\n",
       "    .dataframe tbody tr th {\n",
       "        vertical-align: top;\n",
       "    }\n",
       "\n",
       "    .dataframe thead th {\n",
       "        text-align: right;\n",
       "    }\n",
       "</style>\n",
       "<table border=\"1\" class=\"dataframe\">\n",
       "  <thead>\n",
       "    <tr style=\"text-align: right;\">\n",
       "      <th></th>\n",
       "      <th>user_id</th>\n",
       "      <th>month</th>\n",
       "      <th>gb_used</th>\n",
       "    </tr>\n",
       "  </thead>\n",
       "  <tbody>\n",
       "    <tr>\n",
       "      <th>799</th>\n",
       "      <td>1124</td>\n",
       "      <td>2018-10-01</td>\n",
       "      <td>49.0</td>\n",
       "    </tr>\n",
       "    <tr>\n",
       "      <th>1524</th>\n",
       "      <td>1240</td>\n",
       "      <td>2018-08-01</td>\n",
       "      <td>48.0</td>\n",
       "    </tr>\n",
       "    <tr>\n",
       "      <th>1622</th>\n",
       "      <td>1255</td>\n",
       "      <td>2018-07-01</td>\n",
       "      <td>45.0</td>\n",
       "    </tr>\n",
       "    <tr>\n",
       "      <th>1901</th>\n",
       "      <td>1300</td>\n",
       "      <td>2018-11-01</td>\n",
       "      <td>44.0</td>\n",
       "    </tr>\n",
       "    <tr>\n",
       "      <th>1528</th>\n",
       "      <td>1240</td>\n",
       "      <td>2018-12-01</td>\n",
       "      <td>43.0</td>\n",
       "    </tr>\n",
       "    <tr>\n",
       "      <th>1620</th>\n",
       "      <td>1255</td>\n",
       "      <td>2018-05-01</td>\n",
       "      <td>43.0</td>\n",
       "    </tr>\n",
       "    <tr>\n",
       "      <th>1164</th>\n",
       "      <td>1180</td>\n",
       "      <td>2018-10-01</td>\n",
       "      <td>43.0</td>\n",
       "    </tr>\n",
       "    <tr>\n",
       "      <th>383</th>\n",
       "      <td>1060</td>\n",
       "      <td>2018-12-01</td>\n",
       "      <td>43.0</td>\n",
       "    </tr>\n",
       "    <tr>\n",
       "      <th>159</th>\n",
       "      <td>1024</td>\n",
       "      <td>2018-11-01</td>\n",
       "      <td>43.0</td>\n",
       "    </tr>\n",
       "    <tr>\n",
       "      <th>2413</th>\n",
       "      <td>1380</td>\n",
       "      <td>2018-12-01</td>\n",
       "      <td>43.0</td>\n",
       "    </tr>\n",
       "  </tbody>\n",
       "</table>\n",
       "</div>"
      ],
      "text/plain": [
       "      user_id      month  gb_used\n",
       "799      1124 2018-10-01     49.0\n",
       "1524     1240 2018-08-01     48.0\n",
       "1622     1255 2018-07-01     45.0\n",
       "1901     1300 2018-11-01     44.0\n",
       "1528     1240 2018-12-01     43.0\n",
       "1620     1255 2018-05-01     43.0\n",
       "1164     1180 2018-10-01     43.0\n",
       "383      1060 2018-12-01     43.0\n",
       "159      1024 2018-11-01     43.0\n",
       "2413     1380 2018-12-01     43.0"
      ]
     },
     "execution_count": 40,
     "metadata": {},
     "output_type": "execute_result"
    }
   ],
   "source": [
    "df_internet_pivot.sort_values(by='gb_used', ascending=False).head(10)\n",
    "#Топ 10 по использованному трафику "
   ]
  },
  {
   "cell_type": "code",
   "execution_count": 41,
   "metadata": {},
   "outputs": [
    {
     "data": {
      "text/plain": [
       "array([1000, 1001, 1002, 1003, 1004, 1005, 1006, 1007, 1008, 1009, 1010,\n",
       "       1011, 1012, 1013, 1014, 1015, 1016, 1017, 1018, 1019, 1020, 1021,\n",
       "       1022, 1023, 1024, 1025, 1026, 1027, 1028, 1029, 1030, 1031, 1032,\n",
       "       1033, 1034, 1035, 1036, 1037, 1038, 1039, 1040, 1041, 1042, 1043,\n",
       "       1044, 1045, 1046, 1047, 1048, 1049, 1050, 1051, 1052, 1053, 1054,\n",
       "       1055, 1056, 1057, 1058, 1059, 1060, 1061, 1062, 1063, 1064, 1065,\n",
       "       1066, 1067, 1068, 1069, 1070, 1071, 1072, 1073, 1074, 1075, 1076,\n",
       "       1077, 1078, 1079, 1080, 1081, 1082, 1083, 1084, 1085, 1086, 1087,\n",
       "       1088, 1089, 1090, 1092, 1093, 1094, 1095, 1096, 1097, 1098, 1099,\n",
       "       1100, 1101, 1102, 1103, 1104, 1105, 1107, 1108, 1109, 1110, 1111,\n",
       "       1112, 1113, 1114, 1115, 1116, 1117, 1118, 1119, 1120, 1121, 1122,\n",
       "       1123, 1124, 1125, 1126, 1127, 1129, 1130, 1131, 1132, 1133, 1134,\n",
       "       1135, 1136, 1137, 1138, 1139, 1140, 1141, 1142, 1143, 1144, 1145,\n",
       "       1146, 1147, 1148, 1149, 1150, 1151, 1152, 1153, 1154, 1155, 1156,\n",
       "       1157, 1158, 1159, 1160, 1161, 1162, 1163, 1164, 1165, 1166, 1167,\n",
       "       1168, 1169, 1170, 1171, 1172, 1173, 1174, 1175, 1176, 1177, 1178,\n",
       "       1179, 1180, 1181, 1182, 1183, 1184, 1185, 1186, 1187, 1188, 1189,\n",
       "       1190, 1191, 1192, 1193, 1194, 1195, 1196, 1197, 1198, 1199, 1200,\n",
       "       1201, 1202, 1203, 1204, 1205, 1206, 1207, 1208, 1209, 1210, 1211,\n",
       "       1212, 1213, 1214, 1215, 1216, 1217, 1218, 1219, 1220, 1221, 1222,\n",
       "       1223, 1224, 1225, 1226, 1227, 1228, 1229, 1230, 1232, 1233, 1234,\n",
       "       1235, 1236, 1237, 1238, 1239, 1240, 1241, 1242, 1243, 1244, 1245,\n",
       "       1246, 1247, 1248, 1249, 1250, 1251, 1252, 1253, 1254, 1255, 1256,\n",
       "       1257, 1258, 1259, 1260, 1261, 1262, 1263, 1264, 1265, 1266, 1267,\n",
       "       1268, 1269, 1270, 1271, 1272, 1273, 1274, 1275, 1276, 1277, 1278,\n",
       "       1279, 1280, 1281, 1282, 1283, 1284, 1285, 1286, 1287, 1288, 1289,\n",
       "       1290, 1291, 1292, 1293, 1294, 1295, 1296, 1297, 1298, 1299, 1300,\n",
       "       1301, 1302, 1303, 1304, 1305, 1306, 1307, 1308, 1309, 1310, 1311,\n",
       "       1312, 1313, 1314, 1315, 1316, 1317, 1318, 1319, 1320, 1321, 1322,\n",
       "       1323, 1324, 1325, 1326, 1327, 1329, 1330, 1331, 1332, 1333, 1334,\n",
       "       1335, 1336, 1337, 1338, 1339, 1340, 1341, 1342, 1343, 1344, 1345,\n",
       "       1346, 1347, 1348, 1349, 1350, 1351, 1352, 1353, 1354, 1355, 1356,\n",
       "       1357, 1358, 1359, 1360, 1361, 1362, 1363, 1364, 1365, 1366, 1367,\n",
       "       1368, 1369, 1370, 1372, 1373, 1374, 1375, 1376, 1377, 1378, 1379,\n",
       "       1380, 1381, 1382, 1383, 1384, 1385, 1386, 1387, 1388, 1389, 1390,\n",
       "       1391, 1392, 1393, 1394, 1395, 1396, 1397, 1398, 1399, 1400, 1401,\n",
       "       1402, 1403, 1404, 1405, 1406, 1407, 1408, 1409, 1410, 1411, 1412,\n",
       "       1413, 1414, 1415, 1416, 1417, 1418, 1419, 1420, 1421, 1422, 1423,\n",
       "       1424, 1425, 1426, 1427, 1428, 1429, 1430, 1431, 1432, 1433, 1434,\n",
       "       1435, 1436, 1437, 1438, 1439, 1440, 1441, 1442, 1443, 1444, 1445,\n",
       "       1446, 1447, 1448, 1449, 1450, 1451, 1452, 1453, 1454, 1455, 1456,\n",
       "       1457, 1458, 1459, 1460, 1461, 1462, 1463, 1464, 1465, 1466, 1467,\n",
       "       1468, 1469, 1470, 1471, 1472, 1474, 1475, 1476, 1477, 1478, 1479,\n",
       "       1480, 1481, 1482, 1483, 1484, 1485, 1486, 1487, 1488, 1490, 1491,\n",
       "       1492, 1493, 1494, 1495, 1496, 1497, 1498, 1499])"
      ]
     },
     "execution_count": 41,
     "metadata": {},
     "output_type": "execute_result"
    }
   ],
   "source": [
    "df_calls['user_id'].sort_values().unique()"
   ]
  },
  {
   "cell_type": "markdown",
   "metadata": {},
   "source": [
    "Посмотрим кол0во пользователей чтоб сверить после объеденнения, но не нашел метода покрасивее, если подскажите в коментах буду очень признателен )"
   ]
  },
  {
   "cell_type": "code",
   "execution_count": 42,
   "metadata": {},
   "outputs": [],
   "source": [
    "data_message = data_calls_pivot.merge(data_message_pivot, on=['user_id','month'], how='outer')"
   ]
  },
  {
   "cell_type": "markdown",
   "metadata": {},
   "source": [
    "Сведем таблицы с звонками и сообщениями "
   ]
  },
  {
   "cell_type": "code",
   "execution_count": 43,
   "metadata": {},
   "outputs": [],
   "source": [
    "data_internet = data_message.merge(df_internet_pivot, on=['user_id','month'],how='outer')"
   ]
  },
  {
   "cell_type": "markdown",
   "metadata": {},
   "source": [
    "Сведем звонки, сообщения + интернет"
   ]
  },
  {
   "cell_type": "code",
   "execution_count": 44,
   "metadata": {},
   "outputs": [
    {
     "data": {
      "text/plain": [
       "array([1000, 1001, 1002, 1003, 1004, 1005, 1006, 1007, 1008, 1009, 1010,\n",
       "       1011, 1012, 1013, 1014, 1015, 1016, 1017, 1018, 1019, 1020, 1021,\n",
       "       1022, 1023, 1024, 1025, 1026, 1027, 1028, 1029, 1030, 1031, 1032,\n",
       "       1033, 1034, 1035, 1036, 1037, 1038, 1039, 1040, 1041, 1042, 1043,\n",
       "       1044, 1045, 1046, 1047, 1048, 1049, 1050, 1051, 1052, 1053, 1054,\n",
       "       1055, 1056, 1057, 1058, 1059, 1060, 1061, 1062, 1063, 1064, 1065,\n",
       "       1066, 1067, 1068, 1069, 1070, 1071, 1072, 1073, 1074, 1075, 1076,\n",
       "       1077, 1078, 1079, 1080, 1081, 1082, 1083, 1084, 1085, 1086, 1087,\n",
       "       1088, 1089, 1090, 1091, 1092, 1093, 1094, 1095, 1096, 1097, 1098,\n",
       "       1099, 1100, 1101, 1102, 1103, 1104, 1105, 1106, 1107, 1108, 1109,\n",
       "       1110, 1111, 1112, 1113, 1114, 1115, 1116, 1117, 1118, 1119, 1120,\n",
       "       1121, 1122, 1123, 1124, 1125, 1126, 1127, 1129, 1130, 1131, 1132,\n",
       "       1133, 1134, 1135, 1136, 1137, 1138, 1139, 1140, 1141, 1142, 1143,\n",
       "       1144, 1145, 1146, 1147, 1148, 1149, 1150, 1151, 1152, 1153, 1154,\n",
       "       1155, 1156, 1157, 1158, 1159, 1160, 1161, 1162, 1163, 1164, 1165,\n",
       "       1166, 1167, 1168, 1169, 1170, 1171, 1172, 1173, 1174, 1175, 1176,\n",
       "       1177, 1178, 1179, 1180, 1181, 1182, 1183, 1184, 1185, 1186, 1187,\n",
       "       1188, 1189, 1190, 1191, 1192, 1193, 1194, 1195, 1196, 1197, 1198,\n",
       "       1199, 1200, 1201, 1202, 1203, 1204, 1205, 1206, 1207, 1208, 1209,\n",
       "       1210, 1211, 1212, 1213, 1214, 1215, 1216, 1217, 1218, 1219, 1220,\n",
       "       1221, 1222, 1223, 1224, 1225, 1226, 1227, 1228, 1229, 1230, 1231,\n",
       "       1232, 1233, 1234, 1235, 1236, 1237, 1238, 1239, 1240, 1241, 1242,\n",
       "       1243, 1244, 1245, 1246, 1247, 1248, 1249, 1250, 1251, 1252, 1253,\n",
       "       1254, 1255, 1256, 1257, 1258, 1259, 1260, 1261, 1262, 1263, 1264,\n",
       "       1265, 1266, 1267, 1268, 1269, 1270, 1271, 1272, 1273, 1274, 1275,\n",
       "       1276, 1277, 1278, 1279, 1280, 1281, 1282, 1283, 1284, 1285, 1286,\n",
       "       1287, 1288, 1289, 1290, 1291, 1292, 1293, 1294, 1295, 1296, 1297,\n",
       "       1298, 1299, 1300, 1301, 1302, 1303, 1304, 1305, 1306, 1307, 1308,\n",
       "       1309, 1310, 1311, 1312, 1313, 1314, 1315, 1316, 1317, 1318, 1319,\n",
       "       1320, 1321, 1322, 1323, 1324, 1325, 1326, 1327, 1328, 1329, 1330,\n",
       "       1331, 1332, 1333, 1334, 1335, 1336, 1337, 1338, 1339, 1340, 1341,\n",
       "       1342, 1343, 1344, 1345, 1346, 1347, 1348, 1349, 1350, 1351, 1352,\n",
       "       1353, 1354, 1355, 1356, 1357, 1358, 1359, 1360, 1361, 1362, 1363,\n",
       "       1364, 1365, 1366, 1367, 1368, 1369, 1370, 1372, 1373, 1374, 1375,\n",
       "       1376, 1377, 1378, 1379, 1380, 1381, 1382, 1383, 1384, 1385, 1386,\n",
       "       1387, 1388, 1389, 1390, 1391, 1392, 1393, 1394, 1395, 1396, 1397,\n",
       "       1398, 1399, 1400, 1401, 1402, 1403, 1404, 1405, 1406, 1407, 1408,\n",
       "       1409, 1410, 1411, 1412, 1413, 1414, 1415, 1416, 1417, 1418, 1419,\n",
       "       1420, 1421, 1422, 1423, 1424, 1425, 1426, 1427, 1428, 1429, 1430,\n",
       "       1431, 1432, 1433, 1434, 1435, 1436, 1437, 1438, 1439, 1440, 1441,\n",
       "       1442, 1443, 1444, 1445, 1446, 1447, 1448, 1449, 1450, 1451, 1452,\n",
       "       1453, 1454, 1455, 1456, 1457, 1458, 1459, 1460, 1461, 1462, 1463,\n",
       "       1464, 1465, 1466, 1467, 1468, 1469, 1470, 1471, 1472, 1473, 1474,\n",
       "       1475, 1476, 1477, 1478, 1479, 1480, 1481, 1482, 1483, 1484, 1485,\n",
       "       1486, 1487, 1488, 1489, 1490, 1491, 1492, 1493, 1494, 1495, 1496,\n",
       "       1497, 1498, 1499])"
      ]
     },
     "execution_count": 44,
     "metadata": {},
     "output_type": "execute_result"
    }
   ],
   "source": [
    "data_internet['user_id'].sort_values().unique()"
   ]
  },
  {
   "cell_type": "markdown",
   "metadata": {},
   "source": [
    "Проверим на потери "
   ]
  },
  {
   "cell_type": "code",
   "execution_count": 45,
   "metadata": {},
   "outputs": [],
   "source": [
    "total_data = data_internet.merge(df_users,on='user_id', how='left')"
   ]
  },
  {
   "cell_type": "code",
   "execution_count": 46,
   "metadata": {
    "scrolled": true
   },
   "outputs": [
    {
     "data": {
      "text/plain": [
       "array([1000, 1001, 1002, 1003, 1004, 1005, 1006, 1007, 1008, 1009, 1010,\n",
       "       1011, 1012, 1013, 1014, 1015, 1016, 1017, 1018, 1019, 1020, 1021,\n",
       "       1022, 1023, 1024, 1025, 1026, 1027, 1028, 1029, 1030, 1031, 1032,\n",
       "       1033, 1034, 1035, 1036, 1037, 1038, 1039, 1040, 1041, 1042, 1043,\n",
       "       1044, 1045, 1046, 1047, 1048, 1049, 1050, 1051, 1052, 1053, 1054,\n",
       "       1055, 1056, 1057, 1058, 1059, 1060, 1061, 1062, 1063, 1064, 1065,\n",
       "       1066, 1067, 1068, 1069, 1070, 1071, 1072, 1073, 1074, 1075, 1076,\n",
       "       1077, 1078, 1079, 1080, 1081, 1082, 1083, 1084, 1085, 1086, 1087,\n",
       "       1088, 1089, 1090, 1091, 1092, 1093, 1094, 1095, 1096, 1097, 1098,\n",
       "       1099, 1100, 1101, 1102, 1103, 1104, 1105, 1106, 1107, 1108, 1109,\n",
       "       1110, 1111, 1112, 1113, 1114, 1115, 1116, 1117, 1118, 1119, 1120,\n",
       "       1121, 1122, 1123, 1124, 1125, 1126, 1127, 1129, 1130, 1131, 1132,\n",
       "       1133, 1134, 1135, 1136, 1137, 1138, 1139, 1140, 1141, 1142, 1143,\n",
       "       1144, 1145, 1146, 1147, 1148, 1149, 1150, 1151, 1152, 1153, 1154,\n",
       "       1155, 1156, 1157, 1158, 1159, 1160, 1161, 1162, 1163, 1164, 1165,\n",
       "       1166, 1167, 1168, 1169, 1170, 1171, 1172, 1173, 1174, 1175, 1176,\n",
       "       1177, 1178, 1179, 1180, 1181, 1182, 1183, 1184, 1185, 1186, 1187,\n",
       "       1188, 1189, 1190, 1191, 1192, 1193, 1194, 1195, 1196, 1197, 1198,\n",
       "       1199, 1200, 1201, 1202, 1203, 1204, 1205, 1206, 1207, 1208, 1209,\n",
       "       1210, 1211, 1212, 1213, 1214, 1215, 1216, 1217, 1218, 1219, 1220,\n",
       "       1221, 1222, 1223, 1224, 1225, 1226, 1227, 1228, 1229, 1230, 1231,\n",
       "       1232, 1233, 1234, 1235, 1236, 1237, 1238, 1239, 1240, 1241, 1242,\n",
       "       1243, 1244, 1245, 1246, 1247, 1248, 1249, 1250, 1251, 1252, 1253,\n",
       "       1254, 1255, 1256, 1257, 1258, 1259, 1260, 1261, 1262, 1263, 1264,\n",
       "       1265, 1266, 1267, 1268, 1269, 1270, 1271, 1272, 1273, 1274, 1275,\n",
       "       1276, 1277, 1278, 1279, 1280, 1281, 1282, 1283, 1284, 1285, 1286,\n",
       "       1287, 1288, 1289, 1290, 1291, 1292, 1293, 1294, 1295, 1296, 1297,\n",
       "       1298, 1299, 1300, 1301, 1302, 1303, 1304, 1305, 1306, 1307, 1308,\n",
       "       1309, 1310, 1311, 1312, 1313, 1314, 1315, 1316, 1317, 1318, 1319,\n",
       "       1320, 1321, 1322, 1323, 1324, 1325, 1326, 1327, 1328, 1329, 1330,\n",
       "       1331, 1332, 1333, 1334, 1335, 1336, 1337, 1338, 1339, 1340, 1341,\n",
       "       1342, 1343, 1344, 1345, 1346, 1347, 1348, 1349, 1350, 1351, 1352,\n",
       "       1353, 1354, 1355, 1356, 1357, 1358, 1359, 1360, 1361, 1362, 1363,\n",
       "       1364, 1365, 1366, 1367, 1368, 1369, 1370, 1372, 1373, 1374, 1375,\n",
       "       1376, 1377, 1378, 1379, 1380, 1381, 1382, 1383, 1384, 1385, 1386,\n",
       "       1387, 1388, 1389, 1390, 1391, 1392, 1393, 1394, 1395, 1396, 1397,\n",
       "       1398, 1399, 1400, 1401, 1402, 1403, 1404, 1405, 1406, 1407, 1408,\n",
       "       1409, 1410, 1411, 1412, 1413, 1414, 1415, 1416, 1417, 1418, 1419,\n",
       "       1420, 1421, 1422, 1423, 1424, 1425, 1426, 1427, 1428, 1429, 1430,\n",
       "       1431, 1432, 1433, 1434, 1435, 1436, 1437, 1438, 1439, 1440, 1441,\n",
       "       1442, 1443, 1444, 1445, 1446, 1447, 1448, 1449, 1450, 1451, 1452,\n",
       "       1453, 1454, 1455, 1456, 1457, 1458, 1459, 1460, 1461, 1462, 1463,\n",
       "       1464, 1465, 1466, 1467, 1468, 1469, 1470, 1471, 1472, 1473, 1474,\n",
       "       1475, 1476, 1477, 1478, 1479, 1480, 1481, 1482, 1483, 1484, 1485,\n",
       "       1486, 1487, 1488, 1489, 1490, 1491, 1492, 1493, 1494, 1495, 1496,\n",
       "       1497, 1498, 1499])"
      ]
     },
     "execution_count": 46,
     "metadata": {},
     "output_type": "execute_result"
    }
   ],
   "source": [
    "total_data['user_id'].sort_values().unique()"
   ]
  },
  {
   "cell_type": "markdown",
   "metadata": {},
   "source": [
    "По user id никого не потеряли "
   ]
  },
  {
   "cell_type": "code",
   "execution_count": 47,
   "metadata": {},
   "outputs": [
    {
     "data": {
      "text/html": [
       "<div>\n",
       "<style scoped>\n",
       "    .dataframe tbody tr th:only-of-type {\n",
       "        vertical-align: middle;\n",
       "    }\n",
       "\n",
       "    .dataframe tbody tr th {\n",
       "        vertical-align: top;\n",
       "    }\n",
       "\n",
       "    .dataframe thead th {\n",
       "        text-align: right;\n",
       "    }\n",
       "</style>\n",
       "<table border=\"1\" class=\"dataframe\">\n",
       "  <thead>\n",
       "    <tr style=\"text-align: right;\">\n",
       "      <th></th>\n",
       "      <th>messages_included</th>\n",
       "      <th>mb_per_month_included</th>\n",
       "      <th>minutes_included</th>\n",
       "      <th>rub_monthly_fee</th>\n",
       "      <th>rub_per_gb</th>\n",
       "      <th>rub_per_message</th>\n",
       "      <th>rub_per_minute</th>\n",
       "      <th>tariff</th>\n",
       "      <th>gb_per_month_included</th>\n",
       "    </tr>\n",
       "  </thead>\n",
       "  <tbody>\n",
       "    <tr>\n",
       "      <th>0</th>\n",
       "      <td>50</td>\n",
       "      <td>15360</td>\n",
       "      <td>500</td>\n",
       "      <td>550</td>\n",
       "      <td>200</td>\n",
       "      <td>3</td>\n",
       "      <td>3</td>\n",
       "      <td>smart</td>\n",
       "      <td>15.0</td>\n",
       "    </tr>\n",
       "    <tr>\n",
       "      <th>1</th>\n",
       "      <td>1000</td>\n",
       "      <td>30720</td>\n",
       "      <td>3000</td>\n",
       "      <td>1950</td>\n",
       "      <td>150</td>\n",
       "      <td>1</td>\n",
       "      <td>1</td>\n",
       "      <td>ultra</td>\n",
       "      <td>30.0</td>\n",
       "    </tr>\n",
       "  </tbody>\n",
       "</table>\n",
       "</div>"
      ],
      "text/plain": [
       "   messages_included  mb_per_month_included  minutes_included  \\\n",
       "0                 50                  15360               500   \n",
       "1               1000                  30720              3000   \n",
       "\n",
       "   rub_monthly_fee  rub_per_gb  rub_per_message  rub_per_minute tariff  \\\n",
       "0              550         200                3               3  smart   \n",
       "1             1950         150                1               1  ultra   \n",
       "\n",
       "   gb_per_month_included  \n",
       "0                   15.0  \n",
       "1                   30.0  "
      ]
     },
     "metadata": {},
     "output_type": "display_data"
    }
   ],
   "source": [
    "df_tariffs = df_tariffs.rename(columns={'tariff_name': 'tariff'})\n",
    "display(df_tariffs)"
   ]
  },
  {
   "cell_type": "markdown",
   "metadata": {},
   "source": [
    "Переименуем столбец для того чтобы объеденить таблицы "
   ]
  },
  {
   "cell_type": "code",
   "execution_count": 48,
   "metadata": {},
   "outputs": [],
   "source": [
    "total_data = total_data.merge(df_tariffs,on='tariff', how='outer')"
   ]
  },
  {
   "cell_type": "markdown",
   "metadata": {},
   "source": [
    "Объеденим столбцы"
   ]
  },
  {
   "cell_type": "code",
   "execution_count": 49,
   "metadata": {
    "scrolled": true
   },
   "outputs": [
    {
     "data": {
      "text/plain": [
       "array([1000, 1001, 1002, 1003, 1004, 1005, 1006, 1007, 1008, 1009, 1010,\n",
       "       1011, 1012, 1013, 1014, 1015, 1016, 1017, 1018, 1019, 1020, 1021,\n",
       "       1022, 1023, 1024, 1025, 1026, 1027, 1028, 1029, 1030, 1031, 1032,\n",
       "       1033, 1034, 1035, 1036, 1037, 1038, 1039, 1040, 1041, 1042, 1043,\n",
       "       1044, 1045, 1046, 1047, 1048, 1049, 1050, 1051, 1052, 1053, 1054,\n",
       "       1055, 1056, 1057, 1058, 1059, 1060, 1061, 1062, 1063, 1064, 1065,\n",
       "       1066, 1067, 1068, 1069, 1070, 1071, 1072, 1073, 1074, 1075, 1076,\n",
       "       1077, 1078, 1079, 1080, 1081, 1082, 1083, 1084, 1085, 1086, 1087,\n",
       "       1088, 1089, 1090, 1091, 1092, 1093, 1094, 1095, 1096, 1097, 1098,\n",
       "       1099, 1100, 1101, 1102, 1103, 1104, 1105, 1106, 1107, 1108, 1109,\n",
       "       1110, 1111, 1112, 1113, 1114, 1115, 1116, 1117, 1118, 1119, 1120,\n",
       "       1121, 1122, 1123, 1124, 1125, 1126, 1127, 1129, 1130, 1131, 1132,\n",
       "       1133, 1134, 1135, 1136, 1137, 1138, 1139, 1140, 1141, 1142, 1143,\n",
       "       1144, 1145, 1146, 1147, 1148, 1149, 1150, 1151, 1152, 1153, 1154,\n",
       "       1155, 1156, 1157, 1158, 1159, 1160, 1161, 1162, 1163, 1164, 1165,\n",
       "       1166, 1167, 1168, 1169, 1170, 1171, 1172, 1173, 1174, 1175, 1176,\n",
       "       1177, 1178, 1179, 1180, 1181, 1182, 1183, 1184, 1185, 1186, 1187,\n",
       "       1188, 1189, 1190, 1191, 1192, 1193, 1194, 1195, 1196, 1197, 1198,\n",
       "       1199, 1200, 1201, 1202, 1203, 1204, 1205, 1206, 1207, 1208, 1209,\n",
       "       1210, 1211, 1212, 1213, 1214, 1215, 1216, 1217, 1218, 1219, 1220,\n",
       "       1221, 1222, 1223, 1224, 1225, 1226, 1227, 1228, 1229, 1230, 1231,\n",
       "       1232, 1233, 1234, 1235, 1236, 1237, 1238, 1239, 1240, 1241, 1242,\n",
       "       1243, 1244, 1245, 1246, 1247, 1248, 1249, 1250, 1251, 1252, 1253,\n",
       "       1254, 1255, 1256, 1257, 1258, 1259, 1260, 1261, 1262, 1263, 1264,\n",
       "       1265, 1266, 1267, 1268, 1269, 1270, 1271, 1272, 1273, 1274, 1275,\n",
       "       1276, 1277, 1278, 1279, 1280, 1281, 1282, 1283, 1284, 1285, 1286,\n",
       "       1287, 1288, 1289, 1290, 1291, 1292, 1293, 1294, 1295, 1296, 1297,\n",
       "       1298, 1299, 1300, 1301, 1302, 1303, 1304, 1305, 1306, 1307, 1308,\n",
       "       1309, 1310, 1311, 1312, 1313, 1314, 1315, 1316, 1317, 1318, 1319,\n",
       "       1320, 1321, 1322, 1323, 1324, 1325, 1326, 1327, 1328, 1329, 1330,\n",
       "       1331, 1332, 1333, 1334, 1335, 1336, 1337, 1338, 1339, 1340, 1341,\n",
       "       1342, 1343, 1344, 1345, 1346, 1347, 1348, 1349, 1350, 1351, 1352,\n",
       "       1353, 1354, 1355, 1356, 1357, 1358, 1359, 1360, 1361, 1362, 1363,\n",
       "       1364, 1365, 1366, 1367, 1368, 1369, 1370, 1372, 1373, 1374, 1375,\n",
       "       1376, 1377, 1378, 1379, 1380, 1381, 1382, 1383, 1384, 1385, 1386,\n",
       "       1387, 1388, 1389, 1390, 1391, 1392, 1393, 1394, 1395, 1396, 1397,\n",
       "       1398, 1399, 1400, 1401, 1402, 1403, 1404, 1405, 1406, 1407, 1408,\n",
       "       1409, 1410, 1411, 1412, 1413, 1414, 1415, 1416, 1417, 1418, 1419,\n",
       "       1420, 1421, 1422, 1423, 1424, 1425, 1426, 1427, 1428, 1429, 1430,\n",
       "       1431, 1432, 1433, 1434, 1435, 1436, 1437, 1438, 1439, 1440, 1441,\n",
       "       1442, 1443, 1444, 1445, 1446, 1447, 1448, 1449, 1450, 1451, 1452,\n",
       "       1453, 1454, 1455, 1456, 1457, 1458, 1459, 1460, 1461, 1462, 1463,\n",
       "       1464, 1465, 1466, 1467, 1468, 1469, 1470, 1471, 1472, 1473, 1474,\n",
       "       1475, 1476, 1477, 1478, 1479, 1480, 1481, 1482, 1483, 1484, 1485,\n",
       "       1486, 1487, 1488, 1489, 1490, 1491, 1492, 1493, 1494, 1495, 1496,\n",
       "       1497, 1498, 1499])"
      ]
     },
     "execution_count": 49,
     "metadata": {},
     "output_type": "execute_result"
    }
   ],
   "source": [
    "total_data['user_id'].sort_values().unique()"
   ]
  },
  {
   "cell_type": "markdown",
   "metadata": {},
   "source": [
    "Проверим на потери "
   ]
  },
  {
   "cell_type": "code",
   "execution_count": 50,
   "metadata": {},
   "outputs": [
    {
     "data": {
      "text/html": [
       "<div>\n",
       "<style scoped>\n",
       "    .dataframe tbody tr th:only-of-type {\n",
       "        vertical-align: middle;\n",
       "    }\n",
       "\n",
       "    .dataframe tbody tr th {\n",
       "        vertical-align: top;\n",
       "    }\n",
       "\n",
       "    .dataframe thead th {\n",
       "        text-align: right;\n",
       "    }\n",
       "</style>\n",
       "<table border=\"1\" class=\"dataframe\">\n",
       "  <thead>\n",
       "    <tr style=\"text-align: right;\">\n",
       "      <th></th>\n",
       "      <th>user_id</th>\n",
       "      <th>month</th>\n",
       "      <th>call_numbers</th>\n",
       "      <th>call_duration</th>\n",
       "      <th>message_numbers</th>\n",
       "      <th>gb_used</th>\n",
       "      <th>age</th>\n",
       "      <th>churn_date</th>\n",
       "      <th>city</th>\n",
       "      <th>first_name</th>\n",
       "      <th>...</th>\n",
       "      <th>tariff</th>\n",
       "      <th>tariff_id</th>\n",
       "      <th>messages_included</th>\n",
       "      <th>mb_per_month_included</th>\n",
       "      <th>minutes_included</th>\n",
       "      <th>rub_monthly_fee</th>\n",
       "      <th>rub_per_gb</th>\n",
       "      <th>rub_per_message</th>\n",
       "      <th>rub_per_minute</th>\n",
       "      <th>gb_per_month_included</th>\n",
       "    </tr>\n",
       "  </thead>\n",
       "  <tbody>\n",
       "    <tr>\n",
       "      <th>0</th>\n",
       "      <td>1000</td>\n",
       "      <td>2018-05-01</td>\n",
       "      <td>22.0</td>\n",
       "      <td>159.0</td>\n",
       "      <td>22.0</td>\n",
       "      <td>3.0</td>\n",
       "      <td>52</td>\n",
       "      <td>NaT</td>\n",
       "      <td>Краснодар</td>\n",
       "      <td>Рафаил</td>\n",
       "      <td>...</td>\n",
       "      <td>ultra</td>\n",
       "      <td>1</td>\n",
       "      <td>1000</td>\n",
       "      <td>30720</td>\n",
       "      <td>3000</td>\n",
       "      <td>1950</td>\n",
       "      <td>150</td>\n",
       "      <td>1</td>\n",
       "      <td>1</td>\n",
       "      <td>30.0</td>\n",
       "    </tr>\n",
       "    <tr>\n",
       "      <th>1</th>\n",
       "      <td>1000</td>\n",
       "      <td>2018-06-01</td>\n",
       "      <td>43.0</td>\n",
       "      <td>172.0</td>\n",
       "      <td>60.0</td>\n",
       "      <td>23.0</td>\n",
       "      <td>52</td>\n",
       "      <td>NaT</td>\n",
       "      <td>Краснодар</td>\n",
       "      <td>Рафаил</td>\n",
       "      <td>...</td>\n",
       "      <td>ultra</td>\n",
       "      <td>1</td>\n",
       "      <td>1000</td>\n",
       "      <td>30720</td>\n",
       "      <td>3000</td>\n",
       "      <td>1950</td>\n",
       "      <td>150</td>\n",
       "      <td>1</td>\n",
       "      <td>1</td>\n",
       "      <td>30.0</td>\n",
       "    </tr>\n",
       "    <tr>\n",
       "      <th>2</th>\n",
       "      <td>1000</td>\n",
       "      <td>2018-07-01</td>\n",
       "      <td>47.0</td>\n",
       "      <td>340.0</td>\n",
       "      <td>75.0</td>\n",
       "      <td>14.0</td>\n",
       "      <td>52</td>\n",
       "      <td>NaT</td>\n",
       "      <td>Краснодар</td>\n",
       "      <td>Рафаил</td>\n",
       "      <td>...</td>\n",
       "      <td>ultra</td>\n",
       "      <td>1</td>\n",
       "      <td>1000</td>\n",
       "      <td>30720</td>\n",
       "      <td>3000</td>\n",
       "      <td>1950</td>\n",
       "      <td>150</td>\n",
       "      <td>1</td>\n",
       "      <td>1</td>\n",
       "      <td>30.0</td>\n",
       "    </tr>\n",
       "    <tr>\n",
       "      <th>3</th>\n",
       "      <td>1000</td>\n",
       "      <td>2018-08-01</td>\n",
       "      <td>52.0</td>\n",
       "      <td>408.0</td>\n",
       "      <td>81.0</td>\n",
       "      <td>14.0</td>\n",
       "      <td>52</td>\n",
       "      <td>NaT</td>\n",
       "      <td>Краснодар</td>\n",
       "      <td>Рафаил</td>\n",
       "      <td>...</td>\n",
       "      <td>ultra</td>\n",
       "      <td>1</td>\n",
       "      <td>1000</td>\n",
       "      <td>30720</td>\n",
       "      <td>3000</td>\n",
       "      <td>1950</td>\n",
       "      <td>150</td>\n",
       "      <td>1</td>\n",
       "      <td>1</td>\n",
       "      <td>30.0</td>\n",
       "    </tr>\n",
       "    <tr>\n",
       "      <th>4</th>\n",
       "      <td>1000</td>\n",
       "      <td>2018-09-01</td>\n",
       "      <td>58.0</td>\n",
       "      <td>466.0</td>\n",
       "      <td>57.0</td>\n",
       "      <td>15.0</td>\n",
       "      <td>52</td>\n",
       "      <td>NaT</td>\n",
       "      <td>Краснодар</td>\n",
       "      <td>Рафаил</td>\n",
       "      <td>...</td>\n",
       "      <td>ultra</td>\n",
       "      <td>1</td>\n",
       "      <td>1000</td>\n",
       "      <td>30720</td>\n",
       "      <td>3000</td>\n",
       "      <td>1950</td>\n",
       "      <td>150</td>\n",
       "      <td>1</td>\n",
       "      <td>1</td>\n",
       "      <td>30.0</td>\n",
       "    </tr>\n",
       "    <tr>\n",
       "      <th>...</th>\n",
       "      <td>...</td>\n",
       "      <td>...</td>\n",
       "      <td>...</td>\n",
       "      <td>...</td>\n",
       "      <td>...</td>\n",
       "      <td>...</td>\n",
       "      <td>...</td>\n",
       "      <td>...</td>\n",
       "      <td>...</td>\n",
       "      <td>...</td>\n",
       "      <td>...</td>\n",
       "      <td>...</td>\n",
       "      <td>...</td>\n",
       "      <td>...</td>\n",
       "      <td>...</td>\n",
       "      <td>...</td>\n",
       "      <td>...</td>\n",
       "      <td>...</td>\n",
       "      <td>...</td>\n",
       "      <td>...</td>\n",
       "      <td>...</td>\n",
       "    </tr>\n",
       "    <tr>\n",
       "      <th>3209</th>\n",
       "      <td>1489</td>\n",
       "      <td>2018-08-01</td>\n",
       "      <td>NaN</td>\n",
       "      <td>NaN</td>\n",
       "      <td>17.0</td>\n",
       "      <td>11.0</td>\n",
       "      <td>35</td>\n",
       "      <td>NaT</td>\n",
       "      <td>Санкт-Петербург</td>\n",
       "      <td>Павел</td>\n",
       "      <td>...</td>\n",
       "      <td>smart</td>\n",
       "      <td>0</td>\n",
       "      <td>50</td>\n",
       "      <td>15360</td>\n",
       "      <td>500</td>\n",
       "      <td>550</td>\n",
       "      <td>200</td>\n",
       "      <td>3</td>\n",
       "      <td>3</td>\n",
       "      <td>15.0</td>\n",
       "    </tr>\n",
       "    <tr>\n",
       "      <th>3210</th>\n",
       "      <td>1489</td>\n",
       "      <td>2018-09-01</td>\n",
       "      <td>NaN</td>\n",
       "      <td>NaN</td>\n",
       "      <td>32.0</td>\n",
       "      <td>17.0</td>\n",
       "      <td>35</td>\n",
       "      <td>NaT</td>\n",
       "      <td>Санкт-Петербург</td>\n",
       "      <td>Павел</td>\n",
       "      <td>...</td>\n",
       "      <td>smart</td>\n",
       "      <td>0</td>\n",
       "      <td>50</td>\n",
       "      <td>15360</td>\n",
       "      <td>500</td>\n",
       "      <td>550</td>\n",
       "      <td>200</td>\n",
       "      <td>3</td>\n",
       "      <td>3</td>\n",
       "      <td>15.0</td>\n",
       "    </tr>\n",
       "    <tr>\n",
       "      <th>3211</th>\n",
       "      <td>1489</td>\n",
       "      <td>2018-10-01</td>\n",
       "      <td>NaN</td>\n",
       "      <td>NaN</td>\n",
       "      <td>21.0</td>\n",
       "      <td>20.0</td>\n",
       "      <td>35</td>\n",
       "      <td>NaT</td>\n",
       "      <td>Санкт-Петербург</td>\n",
       "      <td>Павел</td>\n",
       "      <td>...</td>\n",
       "      <td>smart</td>\n",
       "      <td>0</td>\n",
       "      <td>50</td>\n",
       "      <td>15360</td>\n",
       "      <td>500</td>\n",
       "      <td>550</td>\n",
       "      <td>200</td>\n",
       "      <td>3</td>\n",
       "      <td>3</td>\n",
       "      <td>15.0</td>\n",
       "    </tr>\n",
       "    <tr>\n",
       "      <th>3212</th>\n",
       "      <td>1489</td>\n",
       "      <td>2018-11-01</td>\n",
       "      <td>NaN</td>\n",
       "      <td>NaN</td>\n",
       "      <td>20.0</td>\n",
       "      <td>18.0</td>\n",
       "      <td>35</td>\n",
       "      <td>NaT</td>\n",
       "      <td>Санкт-Петербург</td>\n",
       "      <td>Павел</td>\n",
       "      <td>...</td>\n",
       "      <td>smart</td>\n",
       "      <td>0</td>\n",
       "      <td>50</td>\n",
       "      <td>15360</td>\n",
       "      <td>500</td>\n",
       "      <td>550</td>\n",
       "      <td>200</td>\n",
       "      <td>3</td>\n",
       "      <td>3</td>\n",
       "      <td>15.0</td>\n",
       "    </tr>\n",
       "    <tr>\n",
       "      <th>3213</th>\n",
       "      <td>1489</td>\n",
       "      <td>2018-12-01</td>\n",
       "      <td>NaN</td>\n",
       "      <td>NaN</td>\n",
       "      <td>35.0</td>\n",
       "      <td>17.0</td>\n",
       "      <td>35</td>\n",
       "      <td>NaT</td>\n",
       "      <td>Санкт-Петербург</td>\n",
       "      <td>Павел</td>\n",
       "      <td>...</td>\n",
       "      <td>smart</td>\n",
       "      <td>0</td>\n",
       "      <td>50</td>\n",
       "      <td>15360</td>\n",
       "      <td>500</td>\n",
       "      <td>550</td>\n",
       "      <td>200</td>\n",
       "      <td>3</td>\n",
       "      <td>3</td>\n",
       "      <td>15.0</td>\n",
       "    </tr>\n",
       "  </tbody>\n",
       "</table>\n",
       "<p>3214 rows × 22 columns</p>\n",
       "</div>"
      ],
      "text/plain": [
       "      user_id      month  call_numbers  call_duration  message_numbers  \\\n",
       "0        1000 2018-05-01          22.0          159.0             22.0   \n",
       "1        1000 2018-06-01          43.0          172.0             60.0   \n",
       "2        1000 2018-07-01          47.0          340.0             75.0   \n",
       "3        1000 2018-08-01          52.0          408.0             81.0   \n",
       "4        1000 2018-09-01          58.0          466.0             57.0   \n",
       "...       ...        ...           ...            ...              ...   \n",
       "3209     1489 2018-08-01           NaN            NaN             17.0   \n",
       "3210     1489 2018-09-01           NaN            NaN             32.0   \n",
       "3211     1489 2018-10-01           NaN            NaN             21.0   \n",
       "3212     1489 2018-11-01           NaN            NaN             20.0   \n",
       "3213     1489 2018-12-01           NaN            NaN             35.0   \n",
       "\n",
       "      gb_used  age churn_date             city first_name  ... tariff  \\\n",
       "0         3.0   52        NaT        Краснодар     Рафаил  ...  ultra   \n",
       "1        23.0   52        NaT        Краснодар     Рафаил  ...  ultra   \n",
       "2        14.0   52        NaT        Краснодар     Рафаил  ...  ultra   \n",
       "3        14.0   52        NaT        Краснодар     Рафаил  ...  ultra   \n",
       "4        15.0   52        NaT        Краснодар     Рафаил  ...  ultra   \n",
       "...       ...  ...        ...              ...        ...  ...    ...   \n",
       "3209     11.0   35        NaT  Санкт-Петербург      Павел  ...  smart   \n",
       "3210     17.0   35        NaT  Санкт-Петербург      Павел  ...  smart   \n",
       "3211     20.0   35        NaT  Санкт-Петербург      Павел  ...  smart   \n",
       "3212     18.0   35        NaT  Санкт-Петербург      Павел  ...  smart   \n",
       "3213     17.0   35        NaT  Санкт-Петербург      Павел  ...  smart   \n",
       "\n",
       "     tariff_id messages_included  mb_per_month_included  minutes_included  \\\n",
       "0            1              1000                  30720              3000   \n",
       "1            1              1000                  30720              3000   \n",
       "2            1              1000                  30720              3000   \n",
       "3            1              1000                  30720              3000   \n",
       "4            1              1000                  30720              3000   \n",
       "...        ...               ...                    ...               ...   \n",
       "3209         0                50                  15360               500   \n",
       "3210         0                50                  15360               500   \n",
       "3211         0                50                  15360               500   \n",
       "3212         0                50                  15360               500   \n",
       "3213         0                50                  15360               500   \n",
       "\n",
       "      rub_monthly_fee  rub_per_gb  rub_per_message  rub_per_minute  \\\n",
       "0                1950         150                1               1   \n",
       "1                1950         150                1               1   \n",
       "2                1950         150                1               1   \n",
       "3                1950         150                1               1   \n",
       "4                1950         150                1               1   \n",
       "...               ...         ...              ...             ...   \n",
       "3209              550         200                3               3   \n",
       "3210              550         200                3               3   \n",
       "3211              550         200                3               3   \n",
       "3212              550         200                3               3   \n",
       "3213              550         200                3               3   \n",
       "\n",
       "      gb_per_month_included  \n",
       "0                      30.0  \n",
       "1                      30.0  \n",
       "2                      30.0  \n",
       "3                      30.0  \n",
       "4                      30.0  \n",
       "...                     ...  \n",
       "3209                   15.0  \n",
       "3210                   15.0  \n",
       "3211                   15.0  \n",
       "3212                   15.0  \n",
       "3213                   15.0  \n",
       "\n",
       "[3214 rows x 22 columns]"
      ]
     },
     "execution_count": 50,
     "metadata": {},
     "output_type": "execute_result"
    }
   ],
   "source": [
    "total_data"
   ]
  },
  {
   "cell_type": "code",
   "execution_count": 51,
   "metadata": {},
   "outputs": [
    {
     "data": {
      "text/html": [
       "<div>\n",
       "<style scoped>\n",
       "    .dataframe tbody tr th:only-of-type {\n",
       "        vertical-align: middle;\n",
       "    }\n",
       "\n",
       "    .dataframe tbody tr th {\n",
       "        vertical-align: top;\n",
       "    }\n",
       "\n",
       "    .dataframe thead th {\n",
       "        text-align: right;\n",
       "    }\n",
       "</style>\n",
       "<table border=\"1\" class=\"dataframe\">\n",
       "  <thead>\n",
       "    <tr style=\"text-align: right;\">\n",
       "      <th></th>\n",
       "      <th>user_id</th>\n",
       "      <th>month</th>\n",
       "      <th>call_numbers</th>\n",
       "      <th>call_duration</th>\n",
       "      <th>message_numbers</th>\n",
       "      <th>gb_used</th>\n",
       "      <th>age</th>\n",
       "      <th>churn_date</th>\n",
       "      <th>city</th>\n",
       "      <th>first_name</th>\n",
       "      <th>...</th>\n",
       "      <th>tariff_id</th>\n",
       "      <th>messages_included</th>\n",
       "      <th>mb_per_month_included</th>\n",
       "      <th>minutes_included</th>\n",
       "      <th>rub_monthly_fee</th>\n",
       "      <th>rub_per_gb</th>\n",
       "      <th>rub_per_message</th>\n",
       "      <th>rub_per_minute</th>\n",
       "      <th>gb_per_month_included</th>\n",
       "      <th>total_cost</th>\n",
       "    </tr>\n",
       "  </thead>\n",
       "  <tbody>\n",
       "    <tr>\n",
       "      <th>0</th>\n",
       "      <td>1000</td>\n",
       "      <td>2018-05-01</td>\n",
       "      <td>22.0</td>\n",
       "      <td>159.0</td>\n",
       "      <td>22.0</td>\n",
       "      <td>3.0</td>\n",
       "      <td>52</td>\n",
       "      <td>NaT</td>\n",
       "      <td>Краснодар</td>\n",
       "      <td>Рафаил</td>\n",
       "      <td>...</td>\n",
       "      <td>1</td>\n",
       "      <td>1000</td>\n",
       "      <td>30720</td>\n",
       "      <td>3000</td>\n",
       "      <td>1950</td>\n",
       "      <td>150</td>\n",
       "      <td>1</td>\n",
       "      <td>1</td>\n",
       "      <td>30.0</td>\n",
       "      <td>1950.0</td>\n",
       "    </tr>\n",
       "    <tr>\n",
       "      <th>1</th>\n",
       "      <td>1000</td>\n",
       "      <td>2018-06-01</td>\n",
       "      <td>43.0</td>\n",
       "      <td>172.0</td>\n",
       "      <td>60.0</td>\n",
       "      <td>23.0</td>\n",
       "      <td>52</td>\n",
       "      <td>NaT</td>\n",
       "      <td>Краснодар</td>\n",
       "      <td>Рафаил</td>\n",
       "      <td>...</td>\n",
       "      <td>1</td>\n",
       "      <td>1000</td>\n",
       "      <td>30720</td>\n",
       "      <td>3000</td>\n",
       "      <td>1950</td>\n",
       "      <td>150</td>\n",
       "      <td>1</td>\n",
       "      <td>1</td>\n",
       "      <td>30.0</td>\n",
       "      <td>1950.0</td>\n",
       "    </tr>\n",
       "    <tr>\n",
       "      <th>2</th>\n",
       "      <td>1000</td>\n",
       "      <td>2018-07-01</td>\n",
       "      <td>47.0</td>\n",
       "      <td>340.0</td>\n",
       "      <td>75.0</td>\n",
       "      <td>14.0</td>\n",
       "      <td>52</td>\n",
       "      <td>NaT</td>\n",
       "      <td>Краснодар</td>\n",
       "      <td>Рафаил</td>\n",
       "      <td>...</td>\n",
       "      <td>1</td>\n",
       "      <td>1000</td>\n",
       "      <td>30720</td>\n",
       "      <td>3000</td>\n",
       "      <td>1950</td>\n",
       "      <td>150</td>\n",
       "      <td>1</td>\n",
       "      <td>1</td>\n",
       "      <td>30.0</td>\n",
       "      <td>1950.0</td>\n",
       "    </tr>\n",
       "    <tr>\n",
       "      <th>3</th>\n",
       "      <td>1000</td>\n",
       "      <td>2018-08-01</td>\n",
       "      <td>52.0</td>\n",
       "      <td>408.0</td>\n",
       "      <td>81.0</td>\n",
       "      <td>14.0</td>\n",
       "      <td>52</td>\n",
       "      <td>NaT</td>\n",
       "      <td>Краснодар</td>\n",
       "      <td>Рафаил</td>\n",
       "      <td>...</td>\n",
       "      <td>1</td>\n",
       "      <td>1000</td>\n",
       "      <td>30720</td>\n",
       "      <td>3000</td>\n",
       "      <td>1950</td>\n",
       "      <td>150</td>\n",
       "      <td>1</td>\n",
       "      <td>1</td>\n",
       "      <td>30.0</td>\n",
       "      <td>1950.0</td>\n",
       "    </tr>\n",
       "    <tr>\n",
       "      <th>4</th>\n",
       "      <td>1000</td>\n",
       "      <td>2018-09-01</td>\n",
       "      <td>58.0</td>\n",
       "      <td>466.0</td>\n",
       "      <td>57.0</td>\n",
       "      <td>15.0</td>\n",
       "      <td>52</td>\n",
       "      <td>NaT</td>\n",
       "      <td>Краснодар</td>\n",
       "      <td>Рафаил</td>\n",
       "      <td>...</td>\n",
       "      <td>1</td>\n",
       "      <td>1000</td>\n",
       "      <td>30720</td>\n",
       "      <td>3000</td>\n",
       "      <td>1950</td>\n",
       "      <td>150</td>\n",
       "      <td>1</td>\n",
       "      <td>1</td>\n",
       "      <td>30.0</td>\n",
       "      <td>1950.0</td>\n",
       "    </tr>\n",
       "    <tr>\n",
       "      <th>...</th>\n",
       "      <td>...</td>\n",
       "      <td>...</td>\n",
       "      <td>...</td>\n",
       "      <td>...</td>\n",
       "      <td>...</td>\n",
       "      <td>...</td>\n",
       "      <td>...</td>\n",
       "      <td>...</td>\n",
       "      <td>...</td>\n",
       "      <td>...</td>\n",
       "      <td>...</td>\n",
       "      <td>...</td>\n",
       "      <td>...</td>\n",
       "      <td>...</td>\n",
       "      <td>...</td>\n",
       "      <td>...</td>\n",
       "      <td>...</td>\n",
       "      <td>...</td>\n",
       "      <td>...</td>\n",
       "      <td>...</td>\n",
       "      <td>...</td>\n",
       "    </tr>\n",
       "    <tr>\n",
       "      <th>3209</th>\n",
       "      <td>1489</td>\n",
       "      <td>2018-08-01</td>\n",
       "      <td>NaN</td>\n",
       "      <td>NaN</td>\n",
       "      <td>17.0</td>\n",
       "      <td>11.0</td>\n",
       "      <td>35</td>\n",
       "      <td>NaT</td>\n",
       "      <td>Санкт-Петербург</td>\n",
       "      <td>Павел</td>\n",
       "      <td>...</td>\n",
       "      <td>0</td>\n",
       "      <td>50</td>\n",
       "      <td>15360</td>\n",
       "      <td>500</td>\n",
       "      <td>550</td>\n",
       "      <td>200</td>\n",
       "      <td>3</td>\n",
       "      <td>3</td>\n",
       "      <td>15.0</td>\n",
       "      <td>550.0</td>\n",
       "    </tr>\n",
       "    <tr>\n",
       "      <th>3210</th>\n",
       "      <td>1489</td>\n",
       "      <td>2018-09-01</td>\n",
       "      <td>NaN</td>\n",
       "      <td>NaN</td>\n",
       "      <td>32.0</td>\n",
       "      <td>17.0</td>\n",
       "      <td>35</td>\n",
       "      <td>NaT</td>\n",
       "      <td>Санкт-Петербург</td>\n",
       "      <td>Павел</td>\n",
       "      <td>...</td>\n",
       "      <td>0</td>\n",
       "      <td>50</td>\n",
       "      <td>15360</td>\n",
       "      <td>500</td>\n",
       "      <td>550</td>\n",
       "      <td>200</td>\n",
       "      <td>3</td>\n",
       "      <td>3</td>\n",
       "      <td>15.0</td>\n",
       "      <td>950.0</td>\n",
       "    </tr>\n",
       "    <tr>\n",
       "      <th>3211</th>\n",
       "      <td>1489</td>\n",
       "      <td>2018-10-01</td>\n",
       "      <td>NaN</td>\n",
       "      <td>NaN</td>\n",
       "      <td>21.0</td>\n",
       "      <td>20.0</td>\n",
       "      <td>35</td>\n",
       "      <td>NaT</td>\n",
       "      <td>Санкт-Петербург</td>\n",
       "      <td>Павел</td>\n",
       "      <td>...</td>\n",
       "      <td>0</td>\n",
       "      <td>50</td>\n",
       "      <td>15360</td>\n",
       "      <td>500</td>\n",
       "      <td>550</td>\n",
       "      <td>200</td>\n",
       "      <td>3</td>\n",
       "      <td>3</td>\n",
       "      <td>15.0</td>\n",
       "      <td>1550.0</td>\n",
       "    </tr>\n",
       "    <tr>\n",
       "      <th>3212</th>\n",
       "      <td>1489</td>\n",
       "      <td>2018-11-01</td>\n",
       "      <td>NaN</td>\n",
       "      <td>NaN</td>\n",
       "      <td>20.0</td>\n",
       "      <td>18.0</td>\n",
       "      <td>35</td>\n",
       "      <td>NaT</td>\n",
       "      <td>Санкт-Петербург</td>\n",
       "      <td>Павел</td>\n",
       "      <td>...</td>\n",
       "      <td>0</td>\n",
       "      <td>50</td>\n",
       "      <td>15360</td>\n",
       "      <td>500</td>\n",
       "      <td>550</td>\n",
       "      <td>200</td>\n",
       "      <td>3</td>\n",
       "      <td>3</td>\n",
       "      <td>15.0</td>\n",
       "      <td>1150.0</td>\n",
       "    </tr>\n",
       "    <tr>\n",
       "      <th>3213</th>\n",
       "      <td>1489</td>\n",
       "      <td>2018-12-01</td>\n",
       "      <td>NaN</td>\n",
       "      <td>NaN</td>\n",
       "      <td>35.0</td>\n",
       "      <td>17.0</td>\n",
       "      <td>35</td>\n",
       "      <td>NaT</td>\n",
       "      <td>Санкт-Петербург</td>\n",
       "      <td>Павел</td>\n",
       "      <td>...</td>\n",
       "      <td>0</td>\n",
       "      <td>50</td>\n",
       "      <td>15360</td>\n",
       "      <td>500</td>\n",
       "      <td>550</td>\n",
       "      <td>200</td>\n",
       "      <td>3</td>\n",
       "      <td>3</td>\n",
       "      <td>15.0</td>\n",
       "      <td>950.0</td>\n",
       "    </tr>\n",
       "  </tbody>\n",
       "</table>\n",
       "<p>3214 rows × 23 columns</p>\n",
       "</div>"
      ],
      "text/plain": [
       "      user_id      month  call_numbers  call_duration  message_numbers  \\\n",
       "0        1000 2018-05-01          22.0          159.0             22.0   \n",
       "1        1000 2018-06-01          43.0          172.0             60.0   \n",
       "2        1000 2018-07-01          47.0          340.0             75.0   \n",
       "3        1000 2018-08-01          52.0          408.0             81.0   \n",
       "4        1000 2018-09-01          58.0          466.0             57.0   \n",
       "...       ...        ...           ...            ...              ...   \n",
       "3209     1489 2018-08-01           NaN            NaN             17.0   \n",
       "3210     1489 2018-09-01           NaN            NaN             32.0   \n",
       "3211     1489 2018-10-01           NaN            NaN             21.0   \n",
       "3212     1489 2018-11-01           NaN            NaN             20.0   \n",
       "3213     1489 2018-12-01           NaN            NaN             35.0   \n",
       "\n",
       "      gb_used  age churn_date             city first_name  ... tariff_id  \\\n",
       "0         3.0   52        NaT        Краснодар     Рафаил  ...         1   \n",
       "1        23.0   52        NaT        Краснодар     Рафаил  ...         1   \n",
       "2        14.0   52        NaT        Краснодар     Рафаил  ...         1   \n",
       "3        14.0   52        NaT        Краснодар     Рафаил  ...         1   \n",
       "4        15.0   52        NaT        Краснодар     Рафаил  ...         1   \n",
       "...       ...  ...        ...              ...        ...  ...       ...   \n",
       "3209     11.0   35        NaT  Санкт-Петербург      Павел  ...         0   \n",
       "3210     17.0   35        NaT  Санкт-Петербург      Павел  ...         0   \n",
       "3211     20.0   35        NaT  Санкт-Петербург      Павел  ...         0   \n",
       "3212     18.0   35        NaT  Санкт-Петербург      Павел  ...         0   \n",
       "3213     17.0   35        NaT  Санкт-Петербург      Павел  ...         0   \n",
       "\n",
       "     messages_included mb_per_month_included  minutes_included  \\\n",
       "0                 1000                 30720              3000   \n",
       "1                 1000                 30720              3000   \n",
       "2                 1000                 30720              3000   \n",
       "3                 1000                 30720              3000   \n",
       "4                 1000                 30720              3000   \n",
       "...                ...                   ...               ...   \n",
       "3209                50                 15360               500   \n",
       "3210                50                 15360               500   \n",
       "3211                50                 15360               500   \n",
       "3212                50                 15360               500   \n",
       "3213                50                 15360               500   \n",
       "\n",
       "      rub_monthly_fee  rub_per_gb  rub_per_message  rub_per_minute  \\\n",
       "0                1950         150                1               1   \n",
       "1                1950         150                1               1   \n",
       "2                1950         150                1               1   \n",
       "3                1950         150                1               1   \n",
       "4                1950         150                1               1   \n",
       "...               ...         ...              ...             ...   \n",
       "3209              550         200                3               3   \n",
       "3210              550         200                3               3   \n",
       "3211              550         200                3               3   \n",
       "3212              550         200                3               3   \n",
       "3213              550         200                3               3   \n",
       "\n",
       "      gb_per_month_included  total_cost  \n",
       "0                      30.0      1950.0  \n",
       "1                      30.0      1950.0  \n",
       "2                      30.0      1950.0  \n",
       "3                      30.0      1950.0  \n",
       "4                      30.0      1950.0  \n",
       "...                     ...         ...  \n",
       "3209                   15.0       550.0  \n",
       "3210                   15.0       950.0  \n",
       "3211                   15.0      1550.0  \n",
       "3212                   15.0      1150.0  \n",
       "3213                   15.0       950.0  \n",
       "\n",
       "[3214 rows x 23 columns]"
      ]
     },
     "metadata": {},
     "output_type": "display_data"
    }
   ],
   "source": [
    "def total(row):\n",
    "    #messages=row['message_date']\n",
    "    #calls=row['duration']\n",
    "    #internet=row['mb_used']\n",
    "    #tariff=row['tariff']\n",
    "    \n",
    "    if row ['call_duration'] > row['minutes_included']:\n",
    "        calls_sum = (row['call_duration']-row['minutes_included'])*row['rub_per_minute']\n",
    "    else:\n",
    "        calls_sum=0\n",
    "    if row['message_numbers'] > row['messages_included']:\n",
    "        message_id = (row['message_numbers']-row['messages_included'])*row['rub_per_message']\n",
    "    else:\n",
    "        message_id = 0\n",
    "    if row['gb_used'] > row['gb_per_month_included']:\n",
    "        internet_gb = (row['gb_used']-row['gb_per_month_included'])*row['rub_per_gb']\n",
    "    else:\n",
    "        internet_gb = 0\n",
    "    total_cost = calls_sum + message_id + internet_gb + row['rub_monthly_fee']\n",
    "    return total_cost\n",
    "\n",
    "total_data['total_cost'] = total_data.apply(total, axis=1)\n",
    "display(total_data)\n",
    "\n",
    "\n",
    "# если тарифный план 'смарт'\n",
    "# количество минут разговора составило больше 500\n",
    "# вычтем из суммарного количества минут звонков бесплатный лимит, умножим на минуту разговора\n",
    "# иначе расход по звонкам равен 0\n",
    "# если количество сообщений больше 50\n",
    "# вычтем из суммарного количества сообщений бесплатный лимит, умножим на стоимость сообщения\n",
    "# иначе расход по сообщениям равен 0\n",
    "# если количество потраченного интернет-трафика больше 15 гб\n",
    "# вычтем из расхода интернет-трафика бесплатный лимит, умножим на стоимость интернет-трафика\n",
    "# иначе расход по интернет-трафику равен 0\n",
    "# помесячная выручка(total_cost) равна сумме расходов на звонки,сообщения,интернет плюс ежемесячная плата по тарифу\n",
    "# всё тоже самое по тарифу 'ultra'\n",
    "\n",
    "# создадим столбец total_cost и поместим в него помесячную выручку с каждого пользователя\n",
    "# выведем таблицу на экран"
   ]
  },
  {
   "cell_type": "code",
   "execution_count": 52,
   "metadata": {},
   "outputs": [
    {
     "data": {
      "text/plain": [
       "array([ 550.,  553.,  556.,  559.,  562.,  565.,  568.,  571.,  574.,\n",
       "        577.,  580.,  583.,  586.,  589.,  592.,  595.,  598.,  601.,\n",
       "        604.,  607.,  613.,  616.,  619.,  622.,  625.,  628.,  631.,\n",
       "        634.,  637.,  640.,  643.,  646.,  649.,  652.,  655.,  658.,\n",
       "        661.,  664.,  670.,  673.,  676.,  679.,  682.,  685.,  688.,\n",
       "        691.,  694.,  697.,  700.,  703.,  706.,  712.,  715.,  718.,\n",
       "        721.,  724.,  727.,  730.,  733.,  736.,  739.,  742.,  745.,\n",
       "        750.,  751.,  753.,  756.,  762.,  763.,  765.,  766.,  769.,\n",
       "        772.,  775.,  777.,  778.,  780.,  781.,  783.,  784.,  786.,\n",
       "        787.,  792.,  798.,  799.,  802.,  804.,  807.,  808.,  810.,\n",
       "        816.,  819.,  823.,  826.,  828.,  829.,  831.,  834.,  835.,\n",
       "        837.,  838.,  840.,  841.,  844.,  847.,  849.,  850.,  858.,\n",
       "        859.,  862.,  867.,  868.,  870.,  871.,  873.,  874.,  877.,\n",
       "        882.,  883.,  886.,  888.,  889.,  891.,  900.,  901.,  907.,\n",
       "        909.,  910.,  912.,  916.,  918.,  919.,  922.,  924.,  925.,\n",
       "        927.,  928.,  930.,  934.,  942.,  948.,  949.,  950.,  953.,\n",
       "        955.,  956.,  958.,  959.,  962.,  963.,  964.,  965.,  967.,\n",
       "        971.,  973.,  974.,  975.,  976.,  977.,  980.,  981.,  986.,\n",
       "        989.,  992.,  993.,  994.,  995.,  996.,  998., 1000., 1002.,\n",
       "       1004., 1005., 1006., 1007., 1009., 1010., 1012., 1013., 1014.,\n",
       "       1015., 1016., 1017., 1019., 1023., 1030., 1034., 1036., 1038.,\n",
       "       1039., 1040., 1043., 1045., 1046., 1047., 1049., 1051., 1055.,\n",
       "       1057., 1062., 1063., 1064., 1069., 1073., 1074., 1076., 1078.,\n",
       "       1079., 1082., 1083., 1087., 1092., 1093., 1095., 1103., 1106.,\n",
       "       1108., 1109., 1112., 1113., 1116., 1120., 1122., 1126., 1131.,\n",
       "       1133., 1135., 1137., 1138., 1139., 1140., 1141., 1145., 1146.,\n",
       "       1147., 1148., 1150., 1151., 1153., 1154., 1155., 1156., 1158.,\n",
       "       1159., 1162., 1163., 1168., 1171., 1174., 1176., 1177., 1180.,\n",
       "       1181., 1183., 1186., 1189., 1190., 1191., 1192., 1193., 1198.,\n",
       "       1202., 1205., 1208., 1214., 1216., 1219., 1227., 1228., 1234.,\n",
       "       1235., 1236., 1237., 1241., 1246., 1248., 1251., 1252., 1263.,\n",
       "       1267., 1270., 1277., 1279., 1285., 1288., 1289., 1294., 1297.,\n",
       "       1300., 1306., 1312., 1313., 1318., 1321., 1330., 1336., 1339.,\n",
       "       1342., 1348., 1350., 1354., 1356., 1359., 1362., 1365., 1368.,\n",
       "       1380., 1381., 1387., 1389., 1392., 1395., 1398., 1401., 1404.,\n",
       "       1407., 1410., 1411., 1413., 1415., 1416., 1419., 1420., 1423.,\n",
       "       1430., 1436., 1437., 1439., 1440., 1441., 1445., 1446., 1450.,\n",
       "       1454., 1455., 1461., 1464., 1467., 1470., 1473., 1476., 1479.,\n",
       "       1482., 1487., 1488., 1489., 1490., 1494., 1500., 1504., 1513.,\n",
       "       1523., 1527., 1529., 1536., 1539., 1540., 1550., 1551., 1552.,\n",
       "       1553., 1554., 1556., 1558., 1559., 1563., 1565., 1566., 1567.,\n",
       "       1570., 1571., 1573., 1574., 1576., 1577., 1580., 1583., 1587.,\n",
       "       1591., 1597., 1605., 1608., 1616., 1622., 1624., 1628., 1631.,\n",
       "       1634., 1637., 1640., 1646., 1647., 1649., 1651., 1652., 1655.,\n",
       "       1661., 1662., 1666., 1669., 1670., 1671., 1672., 1673., 1675.,\n",
       "       1679., 1681., 1683., 1684., 1685., 1688., 1696., 1697., 1698.,\n",
       "       1705., 1706., 1709., 1713., 1715., 1716., 1723., 1724., 1732.,\n",
       "       1733., 1739., 1743., 1750., 1753., 1760., 1761., 1763., 1765.,\n",
       "       1767., 1768., 1771., 1774., 1776., 1777., 1779., 1784., 1785.,\n",
       "       1789., 1790., 1798., 1804., 1805., 1806., 1807., 1812., 1813.,\n",
       "       1816., 1820., 1821., 1823., 1824., 1825., 1828., 1831., 1833.,\n",
       "       1834., 1835., 1838., 1849., 1856., 1858., 1859., 1864., 1867.,\n",
       "       1870., 1882., 1883., 1885., 1890., 1891., 1898., 1906., 1907.,\n",
       "       1908., 1909., 1911., 1912., 1915., 1923., 1930., 1942., 1943.,\n",
       "       1948., 1950., 1951., 1954., 1956., 1959., 1960., 1962., 1965.,\n",
       "       1969., 1974., 1975., 1982., 1983., 1987., 1992., 1993., 1995.,\n",
       "       1998., 2004., 2007., 2014., 2017., 2022., 2028., 2031., 2035.,\n",
       "       2041., 2046., 2049., 2055., 2062., 2063., 2064., 2065., 2067.,\n",
       "       2068., 2069., 2073., 2074., 2076., 2077., 2094., 2095., 2096.,\n",
       "       2097., 2100., 2101., 2106., 2115., 2118., 2121., 2127., 2130.,\n",
       "       2146., 2147., 2150., 2153., 2162., 2164., 2165., 2179., 2180.,\n",
       "       2182., 2185., 2186., 2187., 2189., 2190., 2191., 2194., 2201.,\n",
       "       2210., 2213., 2218., 2219., 2223., 2233., 2234., 2239., 2245.,\n",
       "       2247., 2248., 2250., 2252., 2254., 2256., 2261., 2263., 2264.,\n",
       "       2268., 2270., 2273., 2274., 2288., 2291., 2295., 2298., 2301.,\n",
       "       2307., 2309., 2310., 2313., 2322., 2323., 2332., 2343., 2350.,\n",
       "       2353., 2361., 2362., 2365., 2367., 2368., 2378., 2380., 2386.,\n",
       "       2395., 2396., 2400., 2403., 2408., 2410., 2414., 2419., 2431.,\n",
       "       2433., 2441., 2443., 2446., 2452., 2457., 2467., 2468., 2475.,\n",
       "       2480., 2489., 2510., 2537., 2548., 2550., 2553., 2559., 2568.,\n",
       "       2571., 2575., 2577., 2587., 2589., 2592., 2595., 2596., 2601.,\n",
       "       2605., 2606., 2608., 2609., 2616., 2622., 2628., 2630., 2641.,\n",
       "       2643., 2646., 2647., 2651., 2661., 2665., 2667., 2675., 2681.,\n",
       "       2688., 2697., 2700., 2704., 2705., 2712., 2721., 2725., 2750.,\n",
       "       2765., 2766., 2768., 2773., 2780., 2783., 2788., 2810., 2813.,\n",
       "       2822., 2831., 2837., 2850., 2852., 2855., 2861., 2882., 2893.,\n",
       "       2897., 2903., 2907., 2915., 2916., 2919., 2944., 2950., 2952.,\n",
       "       2953., 2962., 2965., 3000., 3004., 3028., 3036., 3037., 3040.,\n",
       "       3046., 3053., 3070., 3073., 3076., 3083., 3117., 3125., 3136.,\n",
       "       3145., 3148., 3150., 3152., 3194., 3195., 3202., 3211., 3233.,\n",
       "       3246., 3248., 3251., 3253., 3266., 3300., 3306., 3315., 3321.,\n",
       "       3342., 3350., 3375., 3393., 3409., 3410., 3432., 3448., 3449.,\n",
       "       3450., 3484., 3550., 3575., 3584., 3600., 3612., 3640., 3693.,\n",
       "       3750., 3759., 3773., 3774., 3870., 3900., 3915., 3985., 4011.,\n",
       "       4050., 4116., 4150., 4200., 4231., 4240., 4317., 4396., 4397.,\n",
       "       4427., 4473., 4550., 4650., 4664., 4800., 5014., 5252., 5321.,\n",
       "       5672., 5680., 5709., 6770.])"
      ]
     },
     "execution_count": 52,
     "metadata": {},
     "output_type": "execute_result"
    }
   ],
   "source": [
    "total_data['total_cost'].sort_values().unique()"
   ]
  },
  {
   "cell_type": "markdown",
   "metadata": {},
   "source": [
    "## Проанализируем данные"
   ]
  },
  {
   "cell_type": "code",
   "execution_count": 53,
   "metadata": {},
   "outputs": [
    {
     "data": {
      "text/html": [
       "<div>\n",
       "<style scoped>\n",
       "    .dataframe tbody tr th:only-of-type {\n",
       "        vertical-align: middle;\n",
       "    }\n",
       "\n",
       "    .dataframe tbody tr th {\n",
       "        vertical-align: top;\n",
       "    }\n",
       "\n",
       "    .dataframe thead th {\n",
       "        text-align: right;\n",
       "    }\n",
       "</style>\n",
       "<table border=\"1\" class=\"dataframe\">\n",
       "  <thead>\n",
       "    <tr style=\"text-align: right;\">\n",
       "      <th></th>\n",
       "      <th>mean</th>\n",
       "      <th>var</th>\n",
       "      <th>std</th>\n",
       "    </tr>\n",
       "    <tr>\n",
       "      <th>tariff</th>\n",
       "      <th></th>\n",
       "      <th></th>\n",
       "      <th></th>\n",
       "    </tr>\n",
       "  </thead>\n",
       "  <tbody>\n",
       "    <tr>\n",
       "      <th>smart</th>\n",
       "      <td>1294.63930</td>\n",
       "      <td>673931.321363</td>\n",
       "      <td>820.933202</td>\n",
       "    </tr>\n",
       "    <tr>\n",
       "      <th>ultra</th>\n",
       "      <td>2071.06599</td>\n",
       "      <td>143491.240560</td>\n",
       "      <td>378.802377</td>\n",
       "    </tr>\n",
       "  </tbody>\n",
       "</table>\n",
       "</div>"
      ],
      "text/plain": [
       "              mean            var         std\n",
       "tariff                                       \n",
       "smart   1294.63930  673931.321363  820.933202\n",
       "ultra   2071.06599  143491.240560  378.802377"
      ]
     },
     "metadata": {},
     "output_type": "display_data"
    }
   ],
   "source": [
    "total_tariff_cost = total_data.pivot_table(index=['tariff'],values=['total_cost'],aggfunc= ['mean', 'var','std'])\n",
    "total_tariff_cost.columns = ['mean','var','std']\n",
    "display(total_tariff_cost)"
   ]
  },
  {
   "cell_type": "markdown",
   "metadata": {},
   "source": [
    "Диспресия, среднее и стандартное отклонение по выручке по тарифам"
   ]
  },
  {
   "cell_type": "code",
   "execution_count": 54,
   "metadata": {
    "scrolled": true
   },
   "outputs": [
    {
     "data": {
      "text/html": [
       "<div>\n",
       "<style scoped>\n",
       "    .dataframe tbody tr th:only-of-type {\n",
       "        vertical-align: middle;\n",
       "    }\n",
       "\n",
       "    .dataframe tbody tr th {\n",
       "        vertical-align: top;\n",
       "    }\n",
       "\n",
       "    .dataframe thead th {\n",
       "        text-align: right;\n",
       "    }\n",
       "</style>\n",
       "<table border=\"1\" class=\"dataframe\">\n",
       "  <thead>\n",
       "    <tr style=\"text-align: right;\">\n",
       "      <th></th>\n",
       "      <th>count</th>\n",
       "      <th>mean</th>\n",
       "      <th>std</th>\n",
       "      <th>min</th>\n",
       "      <th>25%</th>\n",
       "      <th>50%</th>\n",
       "      <th>75%</th>\n",
       "      <th>max</th>\n",
       "    </tr>\n",
       "  </thead>\n",
       "  <tbody>\n",
       "    <tr>\n",
       "      <th>user_id</th>\n",
       "      <td>3214.0</td>\n",
       "      <td>1251.590230</td>\n",
       "      <td>144.659172</td>\n",
       "      <td>1000.0</td>\n",
       "      <td>1125.0</td>\n",
       "      <td>1253.0</td>\n",
       "      <td>1378.75</td>\n",
       "      <td>1499.0</td>\n",
       "    </tr>\n",
       "    <tr>\n",
       "      <th>call_numbers</th>\n",
       "      <td>3174.0</td>\n",
       "      <td>63.833333</td>\n",
       "      <td>32.678036</td>\n",
       "      <td>1.0</td>\n",
       "      <td>41.0</td>\n",
       "      <td>63.0</td>\n",
       "      <td>83.00</td>\n",
       "      <td>244.0</td>\n",
       "    </tr>\n",
       "    <tr>\n",
       "      <th>call_duration</th>\n",
       "      <td>3174.0</td>\n",
       "      <td>456.931632</td>\n",
       "      <td>238.031270</td>\n",
       "      <td>0.0</td>\n",
       "      <td>290.0</td>\n",
       "      <td>447.0</td>\n",
       "      <td>592.00</td>\n",
       "      <td>1673.0</td>\n",
       "    </tr>\n",
       "    <tr>\n",
       "      <th>message_numbers</th>\n",
       "      <td>2717.0</td>\n",
       "      <td>45.283769</td>\n",
       "      <td>35.051363</td>\n",
       "      <td>1.0</td>\n",
       "      <td>19.0</td>\n",
       "      <td>38.0</td>\n",
       "      <td>63.00</td>\n",
       "      <td>224.0</td>\n",
       "    </tr>\n",
       "    <tr>\n",
       "      <th>gb_used</th>\n",
       "      <td>3203.0</td>\n",
       "      <td>17.389323</td>\n",
       "      <td>7.354534</td>\n",
       "      <td>0.0</td>\n",
       "      <td>13.0</td>\n",
       "      <td>17.0</td>\n",
       "      <td>21.00</td>\n",
       "      <td>49.0</td>\n",
       "    </tr>\n",
       "    <tr>\n",
       "      <th>age</th>\n",
       "      <td>3214.0</td>\n",
       "      <td>46.641568</td>\n",
       "      <td>16.586109</td>\n",
       "      <td>18.0</td>\n",
       "      <td>32.0</td>\n",
       "      <td>46.0</td>\n",
       "      <td>62.00</td>\n",
       "      <td>75.0</td>\n",
       "    </tr>\n",
       "    <tr>\n",
       "      <th>tariff_id</th>\n",
       "      <td>3214.0</td>\n",
       "      <td>0.306472</td>\n",
       "      <td>0.461100</td>\n",
       "      <td>0.0</td>\n",
       "      <td>0.0</td>\n",
       "      <td>0.0</td>\n",
       "      <td>1.00</td>\n",
       "      <td>1.0</td>\n",
       "    </tr>\n",
       "    <tr>\n",
       "      <th>messages_included</th>\n",
       "      <td>3214.0</td>\n",
       "      <td>341.148102</td>\n",
       "      <td>438.044726</td>\n",
       "      <td>50.0</td>\n",
       "      <td>50.0</td>\n",
       "      <td>50.0</td>\n",
       "      <td>1000.00</td>\n",
       "      <td>1000.0</td>\n",
       "    </tr>\n",
       "    <tr>\n",
       "      <th>mb_per_month_included</th>\n",
       "      <td>3214.0</td>\n",
       "      <td>20067.405103</td>\n",
       "      <td>7082.491569</td>\n",
       "      <td>15360.0</td>\n",
       "      <td>15360.0</td>\n",
       "      <td>15360.0</td>\n",
       "      <td>30720.00</td>\n",
       "      <td>30720.0</td>\n",
       "    </tr>\n",
       "    <tr>\n",
       "      <th>minutes_included</th>\n",
       "      <td>3214.0</td>\n",
       "      <td>1266.179216</td>\n",
       "      <td>1152.749279</td>\n",
       "      <td>500.0</td>\n",
       "      <td>500.0</td>\n",
       "      <td>500.0</td>\n",
       "      <td>3000.00</td>\n",
       "      <td>3000.0</td>\n",
       "    </tr>\n",
       "    <tr>\n",
       "      <th>rub_monthly_fee</th>\n",
       "      <td>3214.0</td>\n",
       "      <td>979.060361</td>\n",
       "      <td>645.539596</td>\n",
       "      <td>550.0</td>\n",
       "      <td>550.0</td>\n",
       "      <td>550.0</td>\n",
       "      <td>1950.00</td>\n",
       "      <td>1950.0</td>\n",
       "    </tr>\n",
       "    <tr>\n",
       "      <th>rub_per_gb</th>\n",
       "      <td>3214.0</td>\n",
       "      <td>184.676416</td>\n",
       "      <td>23.054986</td>\n",
       "      <td>150.0</td>\n",
       "      <td>150.0</td>\n",
       "      <td>200.0</td>\n",
       "      <td>200.00</td>\n",
       "      <td>200.0</td>\n",
       "    </tr>\n",
       "    <tr>\n",
       "      <th>rub_per_message</th>\n",
       "      <td>3214.0</td>\n",
       "      <td>2.387057</td>\n",
       "      <td>0.922199</td>\n",
       "      <td>1.0</td>\n",
       "      <td>1.0</td>\n",
       "      <td>3.0</td>\n",
       "      <td>3.00</td>\n",
       "      <td>3.0</td>\n",
       "    </tr>\n",
       "    <tr>\n",
       "      <th>rub_per_minute</th>\n",
       "      <td>3214.0</td>\n",
       "      <td>2.387057</td>\n",
       "      <td>0.922199</td>\n",
       "      <td>1.0</td>\n",
       "      <td>1.0</td>\n",
       "      <td>3.0</td>\n",
       "      <td>3.00</td>\n",
       "      <td>3.0</td>\n",
       "    </tr>\n",
       "    <tr>\n",
       "      <th>gb_per_month_included</th>\n",
       "      <td>3214.0</td>\n",
       "      <td>19.597075</td>\n",
       "      <td>6.916496</td>\n",
       "      <td>15.0</td>\n",
       "      <td>15.0</td>\n",
       "      <td>15.0</td>\n",
       "      <td>30.00</td>\n",
       "      <td>30.0</td>\n",
       "    </tr>\n",
       "    <tr>\n",
       "      <th>total_cost</th>\n",
       "      <td>3214.0</td>\n",
       "      <td>1532.592097</td>\n",
       "      <td>799.651454</td>\n",
       "      <td>550.0</td>\n",
       "      <td>750.0</td>\n",
       "      <td>1667.5</td>\n",
       "      <td>1950.00</td>\n",
       "      <td>6770.0</td>\n",
       "    </tr>\n",
       "  </tbody>\n",
       "</table>\n",
       "</div>"
      ],
      "text/plain": [
       "                        count          mean          std      min      25%  \\\n",
       "user_id                3214.0   1251.590230   144.659172   1000.0   1125.0   \n",
       "call_numbers           3174.0     63.833333    32.678036      1.0     41.0   \n",
       "call_duration          3174.0    456.931632   238.031270      0.0    290.0   \n",
       "message_numbers        2717.0     45.283769    35.051363      1.0     19.0   \n",
       "gb_used                3203.0     17.389323     7.354534      0.0     13.0   \n",
       "age                    3214.0     46.641568    16.586109     18.0     32.0   \n",
       "tariff_id              3214.0      0.306472     0.461100      0.0      0.0   \n",
       "messages_included      3214.0    341.148102   438.044726     50.0     50.0   \n",
       "mb_per_month_included  3214.0  20067.405103  7082.491569  15360.0  15360.0   \n",
       "minutes_included       3214.0   1266.179216  1152.749279    500.0    500.0   \n",
       "rub_monthly_fee        3214.0    979.060361   645.539596    550.0    550.0   \n",
       "rub_per_gb             3214.0    184.676416    23.054986    150.0    150.0   \n",
       "rub_per_message        3214.0      2.387057     0.922199      1.0      1.0   \n",
       "rub_per_minute         3214.0      2.387057     0.922199      1.0      1.0   \n",
       "gb_per_month_included  3214.0     19.597075     6.916496     15.0     15.0   \n",
       "total_cost             3214.0   1532.592097   799.651454    550.0    750.0   \n",
       "\n",
       "                           50%       75%      max  \n",
       "user_id                 1253.0   1378.75   1499.0  \n",
       "call_numbers              63.0     83.00    244.0  \n",
       "call_duration            447.0    592.00   1673.0  \n",
       "message_numbers           38.0     63.00    224.0  \n",
       "gb_used                   17.0     21.00     49.0  \n",
       "age                       46.0     62.00     75.0  \n",
       "tariff_id                  0.0      1.00      1.0  \n",
       "messages_included         50.0   1000.00   1000.0  \n",
       "mb_per_month_included  15360.0  30720.00  30720.0  \n",
       "minutes_included         500.0   3000.00   3000.0  \n",
       "rub_monthly_fee          550.0   1950.00   1950.0  \n",
       "rub_per_gb               200.0    200.00    200.0  \n",
       "rub_per_message            3.0      3.00      3.0  \n",
       "rub_per_minute             3.0      3.00      3.0  \n",
       "gb_per_month_included     15.0     30.00     30.0  \n",
       "total_cost              1667.5   1950.00   6770.0  "
      ]
     },
     "execution_count": 54,
     "metadata": {},
     "output_type": "execute_result"
    }
   ],
   "source": [
    "total_data.describe().T"
   ]
  },
  {
   "cell_type": "code",
   "execution_count": 55,
   "metadata": {},
   "outputs": [
    {
     "data": {
      "text/html": [
       "<div>\n",
       "<style scoped>\n",
       "    .dataframe tbody tr th:only-of-type {\n",
       "        vertical-align: middle;\n",
       "    }\n",
       "\n",
       "    .dataframe tbody tr th {\n",
       "        vertical-align: top;\n",
       "    }\n",
       "\n",
       "    .dataframe thead th {\n",
       "        text-align: right;\n",
       "    }\n",
       "</style>\n",
       "<table border=\"1\" class=\"dataframe\">\n",
       "  <thead>\n",
       "    <tr style=\"text-align: right;\">\n",
       "      <th></th>\n",
       "      <th>user_id</th>\n",
       "      <th>month</th>\n",
       "      <th>call_numbers</th>\n",
       "      <th>call_duration</th>\n",
       "      <th>message_numbers</th>\n",
       "      <th>gb_used</th>\n",
       "      <th>age</th>\n",
       "      <th>churn_date</th>\n",
       "      <th>city</th>\n",
       "      <th>first_name</th>\n",
       "      <th>...</th>\n",
       "      <th>tariff_id</th>\n",
       "      <th>messages_included</th>\n",
       "      <th>mb_per_month_included</th>\n",
       "      <th>minutes_included</th>\n",
       "      <th>rub_monthly_fee</th>\n",
       "      <th>rub_per_gb</th>\n",
       "      <th>rub_per_message</th>\n",
       "      <th>rub_per_minute</th>\n",
       "      <th>gb_per_month_included</th>\n",
       "      <th>total_cost</th>\n",
       "    </tr>\n",
       "  </thead>\n",
       "  <tbody>\n",
       "    <tr>\n",
       "      <th>985</th>\n",
       "      <td>1001</td>\n",
       "      <td>2018-11-01</td>\n",
       "      <td>59.0</td>\n",
       "      <td>430.0</td>\n",
       "      <td>NaN</td>\n",
       "      <td>19.0</td>\n",
       "      <td>41</td>\n",
       "      <td>NaT</td>\n",
       "      <td>Москва</td>\n",
       "      <td>Иван</td>\n",
       "      <td>...</td>\n",
       "      <td>0</td>\n",
       "      <td>50</td>\n",
       "      <td>15360</td>\n",
       "      <td>500</td>\n",
       "      <td>550</td>\n",
       "      <td>200</td>\n",
       "      <td>3</td>\n",
       "      <td>3</td>\n",
       "      <td>15.0</td>\n",
       "      <td>1350.0</td>\n",
       "    </tr>\n",
       "    <tr>\n",
       "      <th>986</th>\n",
       "      <td>1001</td>\n",
       "      <td>2018-12-01</td>\n",
       "      <td>63.0</td>\n",
       "      <td>414.0</td>\n",
       "      <td>NaN</td>\n",
       "      <td>14.0</td>\n",
       "      <td>41</td>\n",
       "      <td>NaT</td>\n",
       "      <td>Москва</td>\n",
       "      <td>Иван</td>\n",
       "      <td>...</td>\n",
       "      <td>0</td>\n",
       "      <td>50</td>\n",
       "      <td>15360</td>\n",
       "      <td>500</td>\n",
       "      <td>550</td>\n",
       "      <td>200</td>\n",
       "      <td>3</td>\n",
       "      <td>3</td>\n",
       "      <td>15.0</td>\n",
       "      <td>550.0</td>\n",
       "    </tr>\n",
       "    <tr>\n",
       "      <th>987</th>\n",
       "      <td>1002</td>\n",
       "      <td>2018-06-01</td>\n",
       "      <td>15.0</td>\n",
       "      <td>117.0</td>\n",
       "      <td>4.0</td>\n",
       "      <td>11.0</td>\n",
       "      <td>59</td>\n",
       "      <td>NaT</td>\n",
       "      <td>Стерлитамак</td>\n",
       "      <td>Евгений</td>\n",
       "      <td>...</td>\n",
       "      <td>0</td>\n",
       "      <td>50</td>\n",
       "      <td>15360</td>\n",
       "      <td>500</td>\n",
       "      <td>550</td>\n",
       "      <td>200</td>\n",
       "      <td>3</td>\n",
       "      <td>3</td>\n",
       "      <td>15.0</td>\n",
       "      <td>550.0</td>\n",
       "    </tr>\n",
       "    <tr>\n",
       "      <th>988</th>\n",
       "      <td>1002</td>\n",
       "      <td>2018-07-01</td>\n",
       "      <td>26.0</td>\n",
       "      <td>214.0</td>\n",
       "      <td>11.0</td>\n",
       "      <td>18.0</td>\n",
       "      <td>59</td>\n",
       "      <td>NaT</td>\n",
       "      <td>Стерлитамак</td>\n",
       "      <td>Евгений</td>\n",
       "      <td>...</td>\n",
       "      <td>0</td>\n",
       "      <td>50</td>\n",
       "      <td>15360</td>\n",
       "      <td>500</td>\n",
       "      <td>550</td>\n",
       "      <td>200</td>\n",
       "      <td>3</td>\n",
       "      <td>3</td>\n",
       "      <td>15.0</td>\n",
       "      <td>1150.0</td>\n",
       "    </tr>\n",
       "    <tr>\n",
       "      <th>989</th>\n",
       "      <td>1002</td>\n",
       "      <td>2018-08-01</td>\n",
       "      <td>42.0</td>\n",
       "      <td>289.0</td>\n",
       "      <td>13.0</td>\n",
       "      <td>20.0</td>\n",
       "      <td>59</td>\n",
       "      <td>NaT</td>\n",
       "      <td>Стерлитамак</td>\n",
       "      <td>Евгений</td>\n",
       "      <td>...</td>\n",
       "      <td>0</td>\n",
       "      <td>50</td>\n",
       "      <td>15360</td>\n",
       "      <td>500</td>\n",
       "      <td>550</td>\n",
       "      <td>200</td>\n",
       "      <td>3</td>\n",
       "      <td>3</td>\n",
       "      <td>15.0</td>\n",
       "      <td>1550.0</td>\n",
       "    </tr>\n",
       "    <tr>\n",
       "      <th>...</th>\n",
       "      <td>...</td>\n",
       "      <td>...</td>\n",
       "      <td>...</td>\n",
       "      <td>...</td>\n",
       "      <td>...</td>\n",
       "      <td>...</td>\n",
       "      <td>...</td>\n",
       "      <td>...</td>\n",
       "      <td>...</td>\n",
       "      <td>...</td>\n",
       "      <td>...</td>\n",
       "      <td>...</td>\n",
       "      <td>...</td>\n",
       "      <td>...</td>\n",
       "      <td>...</td>\n",
       "      <td>...</td>\n",
       "      <td>...</td>\n",
       "      <td>...</td>\n",
       "      <td>...</td>\n",
       "      <td>...</td>\n",
       "      <td>...</td>\n",
       "    </tr>\n",
       "    <tr>\n",
       "      <th>3209</th>\n",
       "      <td>1489</td>\n",
       "      <td>2018-08-01</td>\n",
       "      <td>NaN</td>\n",
       "      <td>NaN</td>\n",
       "      <td>17.0</td>\n",
       "      <td>11.0</td>\n",
       "      <td>35</td>\n",
       "      <td>NaT</td>\n",
       "      <td>Санкт-Петербург</td>\n",
       "      <td>Павел</td>\n",
       "      <td>...</td>\n",
       "      <td>0</td>\n",
       "      <td>50</td>\n",
       "      <td>15360</td>\n",
       "      <td>500</td>\n",
       "      <td>550</td>\n",
       "      <td>200</td>\n",
       "      <td>3</td>\n",
       "      <td>3</td>\n",
       "      <td>15.0</td>\n",
       "      <td>550.0</td>\n",
       "    </tr>\n",
       "    <tr>\n",
       "      <th>3210</th>\n",
       "      <td>1489</td>\n",
       "      <td>2018-09-01</td>\n",
       "      <td>NaN</td>\n",
       "      <td>NaN</td>\n",
       "      <td>32.0</td>\n",
       "      <td>17.0</td>\n",
       "      <td>35</td>\n",
       "      <td>NaT</td>\n",
       "      <td>Санкт-Петербург</td>\n",
       "      <td>Павел</td>\n",
       "      <td>...</td>\n",
       "      <td>0</td>\n",
       "      <td>50</td>\n",
       "      <td>15360</td>\n",
       "      <td>500</td>\n",
       "      <td>550</td>\n",
       "      <td>200</td>\n",
       "      <td>3</td>\n",
       "      <td>3</td>\n",
       "      <td>15.0</td>\n",
       "      <td>950.0</td>\n",
       "    </tr>\n",
       "    <tr>\n",
       "      <th>3211</th>\n",
       "      <td>1489</td>\n",
       "      <td>2018-10-01</td>\n",
       "      <td>NaN</td>\n",
       "      <td>NaN</td>\n",
       "      <td>21.0</td>\n",
       "      <td>20.0</td>\n",
       "      <td>35</td>\n",
       "      <td>NaT</td>\n",
       "      <td>Санкт-Петербург</td>\n",
       "      <td>Павел</td>\n",
       "      <td>...</td>\n",
       "      <td>0</td>\n",
       "      <td>50</td>\n",
       "      <td>15360</td>\n",
       "      <td>500</td>\n",
       "      <td>550</td>\n",
       "      <td>200</td>\n",
       "      <td>3</td>\n",
       "      <td>3</td>\n",
       "      <td>15.0</td>\n",
       "      <td>1550.0</td>\n",
       "    </tr>\n",
       "    <tr>\n",
       "      <th>3212</th>\n",
       "      <td>1489</td>\n",
       "      <td>2018-11-01</td>\n",
       "      <td>NaN</td>\n",
       "      <td>NaN</td>\n",
       "      <td>20.0</td>\n",
       "      <td>18.0</td>\n",
       "      <td>35</td>\n",
       "      <td>NaT</td>\n",
       "      <td>Санкт-Петербург</td>\n",
       "      <td>Павел</td>\n",
       "      <td>...</td>\n",
       "      <td>0</td>\n",
       "      <td>50</td>\n",
       "      <td>15360</td>\n",
       "      <td>500</td>\n",
       "      <td>550</td>\n",
       "      <td>200</td>\n",
       "      <td>3</td>\n",
       "      <td>3</td>\n",
       "      <td>15.0</td>\n",
       "      <td>1150.0</td>\n",
       "    </tr>\n",
       "    <tr>\n",
       "      <th>3213</th>\n",
       "      <td>1489</td>\n",
       "      <td>2018-12-01</td>\n",
       "      <td>NaN</td>\n",
       "      <td>NaN</td>\n",
       "      <td>35.0</td>\n",
       "      <td>17.0</td>\n",
       "      <td>35</td>\n",
       "      <td>NaT</td>\n",
       "      <td>Санкт-Петербург</td>\n",
       "      <td>Павел</td>\n",
       "      <td>...</td>\n",
       "      <td>0</td>\n",
       "      <td>50</td>\n",
       "      <td>15360</td>\n",
       "      <td>500</td>\n",
       "      <td>550</td>\n",
       "      <td>200</td>\n",
       "      <td>3</td>\n",
       "      <td>3</td>\n",
       "      <td>15.0</td>\n",
       "      <td>950.0</td>\n",
       "    </tr>\n",
       "  </tbody>\n",
       "</table>\n",
       "<p>2229 rows × 23 columns</p>\n",
       "</div>"
      ],
      "text/plain": [
       "      user_id      month  call_numbers  call_duration  message_numbers  \\\n",
       "985      1001 2018-11-01          59.0          430.0              NaN   \n",
       "986      1001 2018-12-01          63.0          414.0              NaN   \n",
       "987      1002 2018-06-01          15.0          117.0              4.0   \n",
       "988      1002 2018-07-01          26.0          214.0             11.0   \n",
       "989      1002 2018-08-01          42.0          289.0             13.0   \n",
       "...       ...        ...           ...            ...              ...   \n",
       "3209     1489 2018-08-01           NaN            NaN             17.0   \n",
       "3210     1489 2018-09-01           NaN            NaN             32.0   \n",
       "3211     1489 2018-10-01           NaN            NaN             21.0   \n",
       "3212     1489 2018-11-01           NaN            NaN             20.0   \n",
       "3213     1489 2018-12-01           NaN            NaN             35.0   \n",
       "\n",
       "      gb_used  age churn_date             city first_name  ... tariff_id  \\\n",
       "985      19.0   41        NaT           Москва       Иван  ...         0   \n",
       "986      14.0   41        NaT           Москва       Иван  ...         0   \n",
       "987      11.0   59        NaT      Стерлитамак    Евгений  ...         0   \n",
       "988      18.0   59        NaT      Стерлитамак    Евгений  ...         0   \n",
       "989      20.0   59        NaT      Стерлитамак    Евгений  ...         0   \n",
       "...       ...  ...        ...              ...        ...  ...       ...   \n",
       "3209     11.0   35        NaT  Санкт-Петербург      Павел  ...         0   \n",
       "3210     17.0   35        NaT  Санкт-Петербург      Павел  ...         0   \n",
       "3211     20.0   35        NaT  Санкт-Петербург      Павел  ...         0   \n",
       "3212     18.0   35        NaT  Санкт-Петербург      Павел  ...         0   \n",
       "3213     17.0   35        NaT  Санкт-Петербург      Павел  ...         0   \n",
       "\n",
       "     messages_included mb_per_month_included  minutes_included  \\\n",
       "985                 50                 15360               500   \n",
       "986                 50                 15360               500   \n",
       "987                 50                 15360               500   \n",
       "988                 50                 15360               500   \n",
       "989                 50                 15360               500   \n",
       "...                ...                   ...               ...   \n",
       "3209                50                 15360               500   \n",
       "3210                50                 15360               500   \n",
       "3211                50                 15360               500   \n",
       "3212                50                 15360               500   \n",
       "3213                50                 15360               500   \n",
       "\n",
       "      rub_monthly_fee  rub_per_gb  rub_per_message  rub_per_minute  \\\n",
       "985               550         200                3               3   \n",
       "986               550         200                3               3   \n",
       "987               550         200                3               3   \n",
       "988               550         200                3               3   \n",
       "989               550         200                3               3   \n",
       "...               ...         ...              ...             ...   \n",
       "3209              550         200                3               3   \n",
       "3210              550         200                3               3   \n",
       "3211              550         200                3               3   \n",
       "3212              550         200                3               3   \n",
       "3213              550         200                3               3   \n",
       "\n",
       "      gb_per_month_included  total_cost  \n",
       "985                    15.0      1350.0  \n",
       "986                    15.0       550.0  \n",
       "987                    15.0       550.0  \n",
       "988                    15.0      1150.0  \n",
       "989                    15.0      1550.0  \n",
       "...                     ...         ...  \n",
       "3209                   15.0       550.0  \n",
       "3210                   15.0       950.0  \n",
       "3211                   15.0      1550.0  \n",
       "3212                   15.0      1150.0  \n",
       "3213                   15.0       950.0  \n",
       "\n",
       "[2229 rows x 23 columns]"
      ]
     },
     "metadata": {},
     "output_type": "display_data"
    }
   ],
   "source": [
    "sum_smart = total_data.query('tariff == \"smart\"')\n",
    "display(sum_smart)"
   ]
  },
  {
   "cell_type": "markdown",
   "metadata": {},
   "source": [
    "Срез по тарифу смарт"
   ]
  },
  {
   "cell_type": "code",
   "execution_count": 56,
   "metadata": {},
   "outputs": [
    {
     "data": {
      "text/html": [
       "<div>\n",
       "<style scoped>\n",
       "    .dataframe tbody tr th:only-of-type {\n",
       "        vertical-align: middle;\n",
       "    }\n",
       "\n",
       "    .dataframe tbody tr th {\n",
       "        vertical-align: top;\n",
       "    }\n",
       "\n",
       "    .dataframe thead th {\n",
       "        text-align: right;\n",
       "    }\n",
       "</style>\n",
       "<table border=\"1\" class=\"dataframe\">\n",
       "  <thead>\n",
       "    <tr style=\"text-align: right;\">\n",
       "      <th></th>\n",
       "      <th>count</th>\n",
       "      <th>mean</th>\n",
       "      <th>std</th>\n",
       "      <th>min</th>\n",
       "      <th>25%</th>\n",
       "      <th>50%</th>\n",
       "      <th>75%</th>\n",
       "      <th>max</th>\n",
       "    </tr>\n",
       "  </thead>\n",
       "  <tbody>\n",
       "    <tr>\n",
       "      <th>user_id</th>\n",
       "      <td>2229.0</td>\n",
       "      <td>1246.506505</td>\n",
       "      <td>146.119496</td>\n",
       "      <td>1001.0</td>\n",
       "      <td>1121.0</td>\n",
       "      <td>1239.0</td>\n",
       "      <td>1376.0</td>\n",
       "      <td>1499.0</td>\n",
       "    </tr>\n",
       "    <tr>\n",
       "      <th>call_numbers</th>\n",
       "      <td>2223.0</td>\n",
       "      <td>58.621233</td>\n",
       "      <td>25.796101</td>\n",
       "      <td>1.0</td>\n",
       "      <td>40.0</td>\n",
       "      <td>60.0</td>\n",
       "      <td>76.0</td>\n",
       "      <td>198.0</td>\n",
       "    </tr>\n",
       "    <tr>\n",
       "      <th>call_duration</th>\n",
       "      <td>2223.0</td>\n",
       "      <td>419.062978</td>\n",
       "      <td>189.325618</td>\n",
       "      <td>0.0</td>\n",
       "      <td>285.0</td>\n",
       "      <td>423.0</td>\n",
       "      <td>545.5</td>\n",
       "      <td>1435.0</td>\n",
       "    </tr>\n",
       "    <tr>\n",
       "      <th>message_numbers</th>\n",
       "      <td>1922.0</td>\n",
       "      <td>38.716441</td>\n",
       "      <td>26.787949</td>\n",
       "      <td>1.0</td>\n",
       "      <td>17.0</td>\n",
       "      <td>34.0</td>\n",
       "      <td>55.0</td>\n",
       "      <td>143.0</td>\n",
       "    </tr>\n",
       "    <tr>\n",
       "      <th>gb_used</th>\n",
       "      <td>2228.0</td>\n",
       "      <td>16.366697</td>\n",
       "      <td>5.749345</td>\n",
       "      <td>0.0</td>\n",
       "      <td>13.0</td>\n",
       "      <td>17.0</td>\n",
       "      <td>20.0</td>\n",
       "      <td>38.0</td>\n",
       "    </tr>\n",
       "    <tr>\n",
       "      <th>age</th>\n",
       "      <td>2229.0</td>\n",
       "      <td>46.556303</td>\n",
       "      <td>16.353371</td>\n",
       "      <td>18.0</td>\n",
       "      <td>32.0</td>\n",
       "      <td>47.0</td>\n",
       "      <td>62.0</td>\n",
       "      <td>75.0</td>\n",
       "    </tr>\n",
       "    <tr>\n",
       "      <th>tariff_id</th>\n",
       "      <td>2229.0</td>\n",
       "      <td>0.000000</td>\n",
       "      <td>0.000000</td>\n",
       "      <td>0.0</td>\n",
       "      <td>0.0</td>\n",
       "      <td>0.0</td>\n",
       "      <td>0.0</td>\n",
       "      <td>0.0</td>\n",
       "    </tr>\n",
       "    <tr>\n",
       "      <th>messages_included</th>\n",
       "      <td>2229.0</td>\n",
       "      <td>50.000000</td>\n",
       "      <td>0.000000</td>\n",
       "      <td>50.0</td>\n",
       "      <td>50.0</td>\n",
       "      <td>50.0</td>\n",
       "      <td>50.0</td>\n",
       "      <td>50.0</td>\n",
       "    </tr>\n",
       "    <tr>\n",
       "      <th>mb_per_month_included</th>\n",
       "      <td>2229.0</td>\n",
       "      <td>15360.000000</td>\n",
       "      <td>0.000000</td>\n",
       "      <td>15360.0</td>\n",
       "      <td>15360.0</td>\n",
       "      <td>15360.0</td>\n",
       "      <td>15360.0</td>\n",
       "      <td>15360.0</td>\n",
       "    </tr>\n",
       "    <tr>\n",
       "      <th>minutes_included</th>\n",
       "      <td>2229.0</td>\n",
       "      <td>500.000000</td>\n",
       "      <td>0.000000</td>\n",
       "      <td>500.0</td>\n",
       "      <td>500.0</td>\n",
       "      <td>500.0</td>\n",
       "      <td>500.0</td>\n",
       "      <td>500.0</td>\n",
       "    </tr>\n",
       "    <tr>\n",
       "      <th>rub_monthly_fee</th>\n",
       "      <td>2229.0</td>\n",
       "      <td>550.000000</td>\n",
       "      <td>0.000000</td>\n",
       "      <td>550.0</td>\n",
       "      <td>550.0</td>\n",
       "      <td>550.0</td>\n",
       "      <td>550.0</td>\n",
       "      <td>550.0</td>\n",
       "    </tr>\n",
       "    <tr>\n",
       "      <th>rub_per_gb</th>\n",
       "      <td>2229.0</td>\n",
       "      <td>200.000000</td>\n",
       "      <td>0.000000</td>\n",
       "      <td>200.0</td>\n",
       "      <td>200.0</td>\n",
       "      <td>200.0</td>\n",
       "      <td>200.0</td>\n",
       "      <td>200.0</td>\n",
       "    </tr>\n",
       "    <tr>\n",
       "      <th>rub_per_message</th>\n",
       "      <td>2229.0</td>\n",
       "      <td>3.000000</td>\n",
       "      <td>0.000000</td>\n",
       "      <td>3.0</td>\n",
       "      <td>3.0</td>\n",
       "      <td>3.0</td>\n",
       "      <td>3.0</td>\n",
       "      <td>3.0</td>\n",
       "    </tr>\n",
       "    <tr>\n",
       "      <th>rub_per_minute</th>\n",
       "      <td>2229.0</td>\n",
       "      <td>3.000000</td>\n",
       "      <td>0.000000</td>\n",
       "      <td>3.0</td>\n",
       "      <td>3.0</td>\n",
       "      <td>3.0</td>\n",
       "      <td>3.0</td>\n",
       "      <td>3.0</td>\n",
       "    </tr>\n",
       "    <tr>\n",
       "      <th>gb_per_month_included</th>\n",
       "      <td>2229.0</td>\n",
       "      <td>15.000000</td>\n",
       "      <td>0.000000</td>\n",
       "      <td>15.0</td>\n",
       "      <td>15.0</td>\n",
       "      <td>15.0</td>\n",
       "      <td>15.0</td>\n",
       "      <td>15.0</td>\n",
       "    </tr>\n",
       "    <tr>\n",
       "      <th>total_cost</th>\n",
       "      <td>2229.0</td>\n",
       "      <td>1294.639300</td>\n",
       "      <td>820.933202</td>\n",
       "      <td>550.0</td>\n",
       "      <td>550.0</td>\n",
       "      <td>1038.0</td>\n",
       "      <td>1750.0</td>\n",
       "      <td>6770.0</td>\n",
       "    </tr>\n",
       "  </tbody>\n",
       "</table>\n",
       "</div>"
      ],
      "text/plain": [
       "                        count          mean         std      min      25%  \\\n",
       "user_id                2229.0   1246.506505  146.119496   1001.0   1121.0   \n",
       "call_numbers           2223.0     58.621233   25.796101      1.0     40.0   \n",
       "call_duration          2223.0    419.062978  189.325618      0.0    285.0   \n",
       "message_numbers        1922.0     38.716441   26.787949      1.0     17.0   \n",
       "gb_used                2228.0     16.366697    5.749345      0.0     13.0   \n",
       "age                    2229.0     46.556303   16.353371     18.0     32.0   \n",
       "tariff_id              2229.0      0.000000    0.000000      0.0      0.0   \n",
       "messages_included      2229.0     50.000000    0.000000     50.0     50.0   \n",
       "mb_per_month_included  2229.0  15360.000000    0.000000  15360.0  15360.0   \n",
       "minutes_included       2229.0    500.000000    0.000000    500.0    500.0   \n",
       "rub_monthly_fee        2229.0    550.000000    0.000000    550.0    550.0   \n",
       "rub_per_gb             2229.0    200.000000    0.000000    200.0    200.0   \n",
       "rub_per_message        2229.0      3.000000    0.000000      3.0      3.0   \n",
       "rub_per_minute         2229.0      3.000000    0.000000      3.0      3.0   \n",
       "gb_per_month_included  2229.0     15.000000    0.000000     15.0     15.0   \n",
       "total_cost             2229.0   1294.639300  820.933202    550.0    550.0   \n",
       "\n",
       "                           50%      75%      max  \n",
       "user_id                 1239.0   1376.0   1499.0  \n",
       "call_numbers              60.0     76.0    198.0  \n",
       "call_duration            423.0    545.5   1435.0  \n",
       "message_numbers           34.0     55.0    143.0  \n",
       "gb_used                   17.0     20.0     38.0  \n",
       "age                       47.0     62.0     75.0  \n",
       "tariff_id                  0.0      0.0      0.0  \n",
       "messages_included         50.0     50.0     50.0  \n",
       "mb_per_month_included  15360.0  15360.0  15360.0  \n",
       "minutes_included         500.0    500.0    500.0  \n",
       "rub_monthly_fee          550.0    550.0    550.0  \n",
       "rub_per_gb               200.0    200.0    200.0  \n",
       "rub_per_message            3.0      3.0      3.0  \n",
       "rub_per_minute             3.0      3.0      3.0  \n",
       "gb_per_month_included     15.0     15.0     15.0  \n",
       "total_cost              1038.0   1750.0   6770.0  "
      ]
     },
     "execution_count": 56,
     "metadata": {},
     "output_type": "execute_result"
    }
   ],
   "source": [
    "sum_smart.describe().T"
   ]
  },
  {
   "cell_type": "markdown",
   "metadata": {},
   "source": [
    "Посчитаем среднее,дисперсию,стнадратно отклонение по тарифам и по всему датафрейму\n",
    "В среднем пользователи smart приносят 1294 а ultra 3071\n",
    "По тарифу смарт ползователю в среднем нужно:\n",
    "1. Минут 419\n",
    "2. Sms 38\n",
    "3. 16gb интернета \n",
    "Стандартное отклонение в колонке с выручкой - 818.4, а среднее значение - 1289.97"
   ]
  },
  {
   "cell_type": "code",
   "execution_count": 57,
   "metadata": {},
   "outputs": [
    {
     "data": {
      "text/plain": [
       "<function matplotlib.pyplot.show(close=None, block=None)>"
      ]
     },
     "execution_count": 57,
     "metadata": {},
     "output_type": "execute_result"
    },
    {
     "data": {
      "image/png": "[encoded data removed]",
      "text/plain": [
       "<Figure size 1152x432 with 1 Axes>"
      ]
     },
     "metadata": {
      "needs_background": "light"
     },
     "output_type": "display_data"
    }
   ],
   "source": [
    "\n",
    "sum_smart['call_duration'].hist(figsize=(16,6))\n",
    "plt.show"
   ]
  },
  {
   "cell_type": "markdown",
   "metadata": {},
   "source": [
    "На гистограмме видим, что в больше всего тратится от 410-590 минут на разговоры в месяц.Больше 1000 минут на звонки никто не тратит.Некоторые пользователи значительно превышают лимит в 500 минут."
   ]
  },
  {
   "cell_type": "code",
   "execution_count": 58,
   "metadata": {},
   "outputs": [
    {
     "data": {
      "text/plain": [
       "<function matplotlib.pyplot.show(close=None, block=None)>"
      ]
     },
     "execution_count": 58,
     "metadata": {},
     "output_type": "execute_result"
    },
    {
     "data": {
      "image/png": "[encoded data removed]",
      "text/plain": [
       "<Figure size 1152x432 with 1 Axes>"
      ]
     },
     "metadata": {
      "needs_background": "light"
     },
     "output_type": "display_data"
    }
   ],
   "source": [
    "sum_smart['message_numbers'].hist(figsize=(16,6))\n",
    "plt.show"
   ]
  },
  {
   "cell_type": "markdown",
   "metadata": {},
   "source": [
    "По гистограмме видно, что много кто испльзует смс в среднем от 0-30 это пик больше 100 смс почти никто не отпровляет "
   ]
  },
  {
   "cell_type": "code",
   "execution_count": 59,
   "metadata": {},
   "outputs": [
    {
     "data": {
      "text/plain": [
       "<function matplotlib.pyplot.show(close=None, block=None)>"
      ]
     },
     "execution_count": 59,
     "metadata": {},
     "output_type": "execute_result"
    },
    {
     "data": {
      "image/png": "[encoded data removed]",
      "text/plain": [
       "<Figure size 1152x432 with 1 Axes>"
      ]
     },
     "metadata": {
      "needs_background": "light"
     },
     "output_type": "display_data"
    }
   ],
   "source": [
    "sum_smart['gb_used'].hist(figsize=(16,6))\n",
    "plt.show"
   ]
  },
  {
   "cell_type": "markdown",
   "metadata": {},
   "source": [
    "Интернетом пользуються активнее, совсем мало кто его не использует а пиковые значения на 20гб "
   ]
  },
  {
   "cell_type": "code",
   "execution_count": 60,
   "metadata": {},
   "outputs": [
    {
     "data": {
      "text/plain": [
       "call_duration    35844.189551\n",
       "dtype: float64"
      ]
     },
     "metadata": {},
     "output_type": "display_data"
    },
    {
     "data": {
      "text/plain": [
       "message_numbers    26.787949\n",
       "dtype: float64"
      ]
     },
     "metadata": {},
     "output_type": "display_data"
    },
    {
     "data": {
      "text/plain": [
       "gb_used    5.749345\n",
       "dtype: float64"
      ]
     },
     "metadata": {},
     "output_type": "display_data"
    }
   ],
   "source": [
    "variance_smart_calls = np.var(sum_smart[['call_duration']], ddof=1)\n",
    "variance_smart_messages = np.std(sum_smart[['message_numbers']], ddof=1)\n",
    "variance_smart_internet = np.std(sum_smart[['gb_used']], ddof=1)\n",
    "display(variance_smart_calls)\n",
    "display(variance_smart_messages)\n",
    "display(variance_smart_internet)\n",
    "\n",
    "\n",
    "# посчитаем дисперсию по звонкам в тарифе 'smart', т.к имеем дело с выборкой указываем параметр ddof=1\n",
    "# посчитаем дисперсию по сооббщениям в тарифе 'smart'\n",
    "#посчитаем дисперсию по интернет-трафику в тарифе 'smart'"
   ]
  },
  {
   "cell_type": "markdown",
   "metadata": {},
   "source": [
    "Если будут коментарии, что по этим данным мы можем понять, буду очень благодарен)"
   ]
  },
  {
   "cell_type": "code",
   "execution_count": 61,
   "metadata": {},
   "outputs": [
    {
     "data": {
      "text/html": [
       "<div>\n",
       "<style scoped>\n",
       "    .dataframe tbody tr th:only-of-type {\n",
       "        vertical-align: middle;\n",
       "    }\n",
       "\n",
       "    .dataframe tbody tr th {\n",
       "        vertical-align: top;\n",
       "    }\n",
       "\n",
       "    .dataframe thead th {\n",
       "        text-align: right;\n",
       "    }\n",
       "</style>\n",
       "<table border=\"1\" class=\"dataframe\">\n",
       "  <thead>\n",
       "    <tr style=\"text-align: right;\">\n",
       "      <th></th>\n",
       "      <th>user_id</th>\n",
       "      <th>month</th>\n",
       "      <th>call_numbers</th>\n",
       "      <th>call_duration</th>\n",
       "      <th>message_numbers</th>\n",
       "      <th>gb_used</th>\n",
       "      <th>age</th>\n",
       "      <th>churn_date</th>\n",
       "      <th>city</th>\n",
       "      <th>first_name</th>\n",
       "      <th>...</th>\n",
       "      <th>tariff_id</th>\n",
       "      <th>messages_included</th>\n",
       "      <th>mb_per_month_included</th>\n",
       "      <th>minutes_included</th>\n",
       "      <th>rub_monthly_fee</th>\n",
       "      <th>rub_per_gb</th>\n",
       "      <th>rub_per_message</th>\n",
       "      <th>rub_per_minute</th>\n",
       "      <th>gb_per_month_included</th>\n",
       "      <th>total_cost</th>\n",
       "    </tr>\n",
       "  </thead>\n",
       "  <tbody>\n",
       "    <tr>\n",
       "      <th>0</th>\n",
       "      <td>1000</td>\n",
       "      <td>2018-05-01</td>\n",
       "      <td>22.0</td>\n",
       "      <td>159.0</td>\n",
       "      <td>22.0</td>\n",
       "      <td>3.0</td>\n",
       "      <td>52</td>\n",
       "      <td>NaT</td>\n",
       "      <td>Краснодар</td>\n",
       "      <td>Рафаил</td>\n",
       "      <td>...</td>\n",
       "      <td>1</td>\n",
       "      <td>1000</td>\n",
       "      <td>30720</td>\n",
       "      <td>3000</td>\n",
       "      <td>1950</td>\n",
       "      <td>150</td>\n",
       "      <td>1</td>\n",
       "      <td>1</td>\n",
       "      <td>30.0</td>\n",
       "      <td>1950.0</td>\n",
       "    </tr>\n",
       "    <tr>\n",
       "      <th>1</th>\n",
       "      <td>1000</td>\n",
       "      <td>2018-06-01</td>\n",
       "      <td>43.0</td>\n",
       "      <td>172.0</td>\n",
       "      <td>60.0</td>\n",
       "      <td>23.0</td>\n",
       "      <td>52</td>\n",
       "      <td>NaT</td>\n",
       "      <td>Краснодар</td>\n",
       "      <td>Рафаил</td>\n",
       "      <td>...</td>\n",
       "      <td>1</td>\n",
       "      <td>1000</td>\n",
       "      <td>30720</td>\n",
       "      <td>3000</td>\n",
       "      <td>1950</td>\n",
       "      <td>150</td>\n",
       "      <td>1</td>\n",
       "      <td>1</td>\n",
       "      <td>30.0</td>\n",
       "      <td>1950.0</td>\n",
       "    </tr>\n",
       "    <tr>\n",
       "      <th>2</th>\n",
       "      <td>1000</td>\n",
       "      <td>2018-07-01</td>\n",
       "      <td>47.0</td>\n",
       "      <td>340.0</td>\n",
       "      <td>75.0</td>\n",
       "      <td>14.0</td>\n",
       "      <td>52</td>\n",
       "      <td>NaT</td>\n",
       "      <td>Краснодар</td>\n",
       "      <td>Рафаил</td>\n",
       "      <td>...</td>\n",
       "      <td>1</td>\n",
       "      <td>1000</td>\n",
       "      <td>30720</td>\n",
       "      <td>3000</td>\n",
       "      <td>1950</td>\n",
       "      <td>150</td>\n",
       "      <td>1</td>\n",
       "      <td>1</td>\n",
       "      <td>30.0</td>\n",
       "      <td>1950.0</td>\n",
       "    </tr>\n",
       "    <tr>\n",
       "      <th>3</th>\n",
       "      <td>1000</td>\n",
       "      <td>2018-08-01</td>\n",
       "      <td>52.0</td>\n",
       "      <td>408.0</td>\n",
       "      <td>81.0</td>\n",
       "      <td>14.0</td>\n",
       "      <td>52</td>\n",
       "      <td>NaT</td>\n",
       "      <td>Краснодар</td>\n",
       "      <td>Рафаил</td>\n",
       "      <td>...</td>\n",
       "      <td>1</td>\n",
       "      <td>1000</td>\n",
       "      <td>30720</td>\n",
       "      <td>3000</td>\n",
       "      <td>1950</td>\n",
       "      <td>150</td>\n",
       "      <td>1</td>\n",
       "      <td>1</td>\n",
       "      <td>30.0</td>\n",
       "      <td>1950.0</td>\n",
       "    </tr>\n",
       "    <tr>\n",
       "      <th>4</th>\n",
       "      <td>1000</td>\n",
       "      <td>2018-09-01</td>\n",
       "      <td>58.0</td>\n",
       "      <td>466.0</td>\n",
       "      <td>57.0</td>\n",
       "      <td>15.0</td>\n",
       "      <td>52</td>\n",
       "      <td>NaT</td>\n",
       "      <td>Краснодар</td>\n",
       "      <td>Рафаил</td>\n",
       "      <td>...</td>\n",
       "      <td>1</td>\n",
       "      <td>1000</td>\n",
       "      <td>30720</td>\n",
       "      <td>3000</td>\n",
       "      <td>1950</td>\n",
       "      <td>150</td>\n",
       "      <td>1</td>\n",
       "      <td>1</td>\n",
       "      <td>30.0</td>\n",
       "      <td>1950.0</td>\n",
       "    </tr>\n",
       "    <tr>\n",
       "      <th>...</th>\n",
       "      <td>...</td>\n",
       "      <td>...</td>\n",
       "      <td>...</td>\n",
       "      <td>...</td>\n",
       "      <td>...</td>\n",
       "      <td>...</td>\n",
       "      <td>...</td>\n",
       "      <td>...</td>\n",
       "      <td>...</td>\n",
       "      <td>...</td>\n",
       "      <td>...</td>\n",
       "      <td>...</td>\n",
       "      <td>...</td>\n",
       "      <td>...</td>\n",
       "      <td>...</td>\n",
       "      <td>...</td>\n",
       "      <td>...</td>\n",
       "      <td>...</td>\n",
       "      <td>...</td>\n",
       "      <td>...</td>\n",
       "      <td>...</td>\n",
       "    </tr>\n",
       "    <tr>\n",
       "      <th>980</th>\n",
       "      <td>1473</td>\n",
       "      <td>2018-09-01</td>\n",
       "      <td>NaN</td>\n",
       "      <td>NaN</td>\n",
       "      <td>19.0</td>\n",
       "      <td>17.0</td>\n",
       "      <td>18</td>\n",
       "      <td>NaT</td>\n",
       "      <td>Красноярск</td>\n",
       "      <td>Николай</td>\n",
       "      <td>...</td>\n",
       "      <td>1</td>\n",
       "      <td>1000</td>\n",
       "      <td>30720</td>\n",
       "      <td>3000</td>\n",
       "      <td>1950</td>\n",
       "      <td>150</td>\n",
       "      <td>1</td>\n",
       "      <td>1</td>\n",
       "      <td>30.0</td>\n",
       "      <td>1950.0</td>\n",
       "    </tr>\n",
       "    <tr>\n",
       "      <th>981</th>\n",
       "      <td>1473</td>\n",
       "      <td>2018-10-01</td>\n",
       "      <td>NaN</td>\n",
       "      <td>NaN</td>\n",
       "      <td>20.0</td>\n",
       "      <td>14.0</td>\n",
       "      <td>18</td>\n",
       "      <td>NaT</td>\n",
       "      <td>Красноярск</td>\n",
       "      <td>Николай</td>\n",
       "      <td>...</td>\n",
       "      <td>1</td>\n",
       "      <td>1000</td>\n",
       "      <td>30720</td>\n",
       "      <td>3000</td>\n",
       "      <td>1950</td>\n",
       "      <td>150</td>\n",
       "      <td>1</td>\n",
       "      <td>1</td>\n",
       "      <td>30.0</td>\n",
       "      <td>1950.0</td>\n",
       "    </tr>\n",
       "    <tr>\n",
       "      <th>982</th>\n",
       "      <td>1473</td>\n",
       "      <td>2018-11-01</td>\n",
       "      <td>NaN</td>\n",
       "      <td>NaN</td>\n",
       "      <td>14.0</td>\n",
       "      <td>22.0</td>\n",
       "      <td>18</td>\n",
       "      <td>NaT</td>\n",
       "      <td>Красноярск</td>\n",
       "      <td>Николай</td>\n",
       "      <td>...</td>\n",
       "      <td>1</td>\n",
       "      <td>1000</td>\n",
       "      <td>30720</td>\n",
       "      <td>3000</td>\n",
       "      <td>1950</td>\n",
       "      <td>150</td>\n",
       "      <td>1</td>\n",
       "      <td>1</td>\n",
       "      <td>30.0</td>\n",
       "      <td>1950.0</td>\n",
       "    </tr>\n",
       "    <tr>\n",
       "      <th>983</th>\n",
       "      <td>1473</td>\n",
       "      <td>2018-12-01</td>\n",
       "      <td>NaN</td>\n",
       "      <td>NaN</td>\n",
       "      <td>20.0</td>\n",
       "      <td>18.0</td>\n",
       "      <td>18</td>\n",
       "      <td>NaT</td>\n",
       "      <td>Красноярск</td>\n",
       "      <td>Николай</td>\n",
       "      <td>...</td>\n",
       "      <td>1</td>\n",
       "      <td>1000</td>\n",
       "      <td>30720</td>\n",
       "      <td>3000</td>\n",
       "      <td>1950</td>\n",
       "      <td>150</td>\n",
       "      <td>1</td>\n",
       "      <td>1</td>\n",
       "      <td>30.0</td>\n",
       "      <td>1950.0</td>\n",
       "    </tr>\n",
       "    <tr>\n",
       "      <th>984</th>\n",
       "      <td>1476</td>\n",
       "      <td>2018-04-01</td>\n",
       "      <td>NaN</td>\n",
       "      <td>NaN</td>\n",
       "      <td>NaN</td>\n",
       "      <td>1.0</td>\n",
       "      <td>50</td>\n",
       "      <td>NaT</td>\n",
       "      <td>Москва</td>\n",
       "      <td>Валентина</td>\n",
       "      <td>...</td>\n",
       "      <td>1</td>\n",
       "      <td>1000</td>\n",
       "      <td>30720</td>\n",
       "      <td>3000</td>\n",
       "      <td>1950</td>\n",
       "      <td>150</td>\n",
       "      <td>1</td>\n",
       "      <td>1</td>\n",
       "      <td>30.0</td>\n",
       "      <td>1950.0</td>\n",
       "    </tr>\n",
       "  </tbody>\n",
       "</table>\n",
       "<p>985 rows × 23 columns</p>\n",
       "</div>"
      ],
      "text/plain": [
       "     user_id      month  call_numbers  call_duration  message_numbers  \\\n",
       "0       1000 2018-05-01          22.0          159.0             22.0   \n",
       "1       1000 2018-06-01          43.0          172.0             60.0   \n",
       "2       1000 2018-07-01          47.0          340.0             75.0   \n",
       "3       1000 2018-08-01          52.0          408.0             81.0   \n",
       "4       1000 2018-09-01          58.0          466.0             57.0   \n",
       "..       ...        ...           ...            ...              ...   \n",
       "980     1473 2018-09-01           NaN            NaN             19.0   \n",
       "981     1473 2018-10-01           NaN            NaN             20.0   \n",
       "982     1473 2018-11-01           NaN            NaN             14.0   \n",
       "983     1473 2018-12-01           NaN            NaN             20.0   \n",
       "984     1476 2018-04-01           NaN            NaN              NaN   \n",
       "\n",
       "     gb_used  age churn_date        city first_name  ... tariff_id  \\\n",
       "0        3.0   52        NaT   Краснодар     Рафаил  ...         1   \n",
       "1       23.0   52        NaT   Краснодар     Рафаил  ...         1   \n",
       "2       14.0   52        NaT   Краснодар     Рафаил  ...         1   \n",
       "3       14.0   52        NaT   Краснодар     Рафаил  ...         1   \n",
       "4       15.0   52        NaT   Краснодар     Рафаил  ...         1   \n",
       "..       ...  ...        ...         ...        ...  ...       ...   \n",
       "980     17.0   18        NaT  Красноярск    Николай  ...         1   \n",
       "981     14.0   18        NaT  Красноярск    Николай  ...         1   \n",
       "982     22.0   18        NaT  Красноярск    Николай  ...         1   \n",
       "983     18.0   18        NaT  Красноярск    Николай  ...         1   \n",
       "984      1.0   50        NaT      Москва  Валентина  ...         1   \n",
       "\n",
       "    messages_included mb_per_month_included  minutes_included  \\\n",
       "0                1000                 30720              3000   \n",
       "1                1000                 30720              3000   \n",
       "2                1000                 30720              3000   \n",
       "3                1000                 30720              3000   \n",
       "4                1000                 30720              3000   \n",
       "..                ...                   ...               ...   \n",
       "980              1000                 30720              3000   \n",
       "981              1000                 30720              3000   \n",
       "982              1000                 30720              3000   \n",
       "983              1000                 30720              3000   \n",
       "984              1000                 30720              3000   \n",
       "\n",
       "     rub_monthly_fee  rub_per_gb  rub_per_message  rub_per_minute  \\\n",
       "0               1950         150                1               1   \n",
       "1               1950         150                1               1   \n",
       "2               1950         150                1               1   \n",
       "3               1950         150                1               1   \n",
       "4               1950         150                1               1   \n",
       "..               ...         ...              ...             ...   \n",
       "980             1950         150                1               1   \n",
       "981             1950         150                1               1   \n",
       "982             1950         150                1               1   \n",
       "983             1950         150                1               1   \n",
       "984             1950         150                1               1   \n",
       "\n",
       "     gb_per_month_included  total_cost  \n",
       "0                     30.0      1950.0  \n",
       "1                     30.0      1950.0  \n",
       "2                     30.0      1950.0  \n",
       "3                     30.0      1950.0  \n",
       "4                     30.0      1950.0  \n",
       "..                     ...         ...  \n",
       "980                   30.0      1950.0  \n",
       "981                   30.0      1950.0  \n",
       "982                   30.0      1950.0  \n",
       "983                   30.0      1950.0  \n",
       "984                   30.0      1950.0  \n",
       "\n",
       "[985 rows x 23 columns]"
      ]
     },
     "metadata": {},
     "output_type": "display_data"
    }
   ],
   "source": [
    "sum_ultra = total_data.query('tariff == \"ultra\"')\n",
    "display(sum_ultra)"
   ]
  },
  {
   "cell_type": "markdown",
   "metadata": {},
   "source": [
    "Срез по тарифу ультра"
   ]
  },
  {
   "cell_type": "code",
   "execution_count": 62,
   "metadata": {},
   "outputs": [
    {
     "data": {
      "text/plain": [
       "array([1950., 2100., 2250., 2400., 2550., 2700., 2850., 3000., 3150.,\n",
       "       3300., 3450., 3600., 3750., 3900., 4050., 4200., 4650., 4800.])"
      ]
     },
     "execution_count": 62,
     "metadata": {},
     "output_type": "execute_result"
    }
   ],
   "source": [
    "sum_ultra['total_cost'].sort_values().unique()"
   ]
  },
  {
   "cell_type": "markdown",
   "metadata": {},
   "source": [
    "Проверим работу функции подсчета"
   ]
  },
  {
   "cell_type": "code",
   "execution_count": 63,
   "metadata": {},
   "outputs": [
    {
     "data": {
      "text/plain": [
       "array([1000, 1003, 1004, 1013, 1016, 1018, 1019, 1021, 1024, 1028, 1039,\n",
       "       1048, 1049, 1050, 1053, 1057, 1060, 1063, 1078, 1080, 1081, 1084,\n",
       "       1085, 1089, 1090, 1091, 1094, 1096, 1097, 1099, 1104, 1106, 1120,\n",
       "       1122, 1124, 1126, 1143, 1148, 1150, 1151, 1152, 1156, 1165, 1166,\n",
       "       1167, 1168, 1180, 1182, 1185, 1192, 1196, 1200, 1201, 1203, 1208,\n",
       "       1222, 1225, 1226, 1231, 1234, 1240, 1243, 1245, 1253, 1254, 1255,\n",
       "       1257, 1259, 1265, 1270, 1271, 1272, 1273, 1276, 1277, 1281, 1289,\n",
       "       1292, 1294, 1300, 1303, 1304, 1309, 1310, 1318, 1325, 1328, 1330,\n",
       "       1331, 1333, 1335, 1336, 1341, 1343, 1344, 1346, 1347, 1348, 1349,\n",
       "       1350, 1352, 1356, 1360, 1361, 1363, 1364, 1367, 1369, 1375, 1377,\n",
       "       1379, 1380, 1381, 1382, 1385, 1391, 1392, 1396, 1397, 1399, 1402,\n",
       "       1403, 1405, 1412, 1415, 1416, 1424, 1430, 1436, 1440, 1442, 1452,\n",
       "       1453, 1455, 1458, 1461, 1463, 1466, 1467, 1469, 1471, 1473, 1474,\n",
       "       1476, 1485, 1491, 1493, 1495])"
      ]
     },
     "execution_count": 63,
     "metadata": {},
     "output_type": "execute_result"
    }
   ],
   "source": [
    "sum_ultra['user_id'].sort_values().unique()"
   ]
  },
  {
   "cell_type": "code",
   "execution_count": 64,
   "metadata": {},
   "outputs": [
    {
     "data": {
      "text/html": [
       "<div>\n",
       "<style scoped>\n",
       "    .dataframe tbody tr th:only-of-type {\n",
       "        vertical-align: middle;\n",
       "    }\n",
       "\n",
       "    .dataframe tbody tr th {\n",
       "        vertical-align: top;\n",
       "    }\n",
       "\n",
       "    .dataframe thead th {\n",
       "        text-align: right;\n",
       "    }\n",
       "</style>\n",
       "<table border=\"1\" class=\"dataframe\">\n",
       "  <thead>\n",
       "    <tr style=\"text-align: right;\">\n",
       "      <th></th>\n",
       "      <th>count</th>\n",
       "      <th>mean</th>\n",
       "      <th>std</th>\n",
       "      <th>min</th>\n",
       "      <th>25%</th>\n",
       "      <th>50%</th>\n",
       "      <th>75%</th>\n",
       "      <th>max</th>\n",
       "    </tr>\n",
       "  </thead>\n",
       "  <tbody>\n",
       "    <tr>\n",
       "      <th>user_id</th>\n",
       "      <td>985.0</td>\n",
       "      <td>1263.094416</td>\n",
       "      <td>140.694908</td>\n",
       "      <td>1000.0</td>\n",
       "      <td>1143.0</td>\n",
       "      <td>1277.0</td>\n",
       "      <td>1381.0</td>\n",
       "      <td>1495.0</td>\n",
       "    </tr>\n",
       "    <tr>\n",
       "      <th>call_numbers</th>\n",
       "      <td>951.0</td>\n",
       "      <td>76.016824</td>\n",
       "      <td>42.403348</td>\n",
       "      <td>1.0</td>\n",
       "      <td>43.0</td>\n",
       "      <td>75.0</td>\n",
       "      <td>105.0</td>\n",
       "      <td>244.0</td>\n",
       "    </tr>\n",
       "    <tr>\n",
       "      <th>call_duration</th>\n",
       "      <td>951.0</td>\n",
       "      <td>545.451104</td>\n",
       "      <td>306.925754</td>\n",
       "      <td>0.0</td>\n",
       "      <td>310.0</td>\n",
       "      <td>528.0</td>\n",
       "      <td>756.5</td>\n",
       "      <td>1673.0</td>\n",
       "    </tr>\n",
       "    <tr>\n",
       "      <th>message_numbers</th>\n",
       "      <td>795.0</td>\n",
       "      <td>61.161006</td>\n",
       "      <td>45.931026</td>\n",
       "      <td>1.0</td>\n",
       "      <td>24.0</td>\n",
       "      <td>51.0</td>\n",
       "      <td>87.5</td>\n",
       "      <td>224.0</td>\n",
       "    </tr>\n",
       "    <tr>\n",
       "      <th>gb_used</th>\n",
       "      <td>975.0</td>\n",
       "      <td>19.726154</td>\n",
       "      <td>9.714924</td>\n",
       "      <td>0.0</td>\n",
       "      <td>12.0</td>\n",
       "      <td>19.0</td>\n",
       "      <td>27.0</td>\n",
       "      <td>49.0</td>\n",
       "    </tr>\n",
       "    <tr>\n",
       "      <th>age</th>\n",
       "      <td>985.0</td>\n",
       "      <td>46.834518</td>\n",
       "      <td>17.107979</td>\n",
       "      <td>18.0</td>\n",
       "      <td>30.0</td>\n",
       "      <td>45.0</td>\n",
       "      <td>63.0</td>\n",
       "      <td>75.0</td>\n",
       "    </tr>\n",
       "    <tr>\n",
       "      <th>tariff_id</th>\n",
       "      <td>985.0</td>\n",
       "      <td>1.000000</td>\n",
       "      <td>0.000000</td>\n",
       "      <td>1.0</td>\n",
       "      <td>1.0</td>\n",
       "      <td>1.0</td>\n",
       "      <td>1.0</td>\n",
       "      <td>1.0</td>\n",
       "    </tr>\n",
       "    <tr>\n",
       "      <th>messages_included</th>\n",
       "      <td>985.0</td>\n",
       "      <td>1000.000000</td>\n",
       "      <td>0.000000</td>\n",
       "      <td>1000.0</td>\n",
       "      <td>1000.0</td>\n",
       "      <td>1000.0</td>\n",
       "      <td>1000.0</td>\n",
       "      <td>1000.0</td>\n",
       "    </tr>\n",
       "    <tr>\n",
       "      <th>mb_per_month_included</th>\n",
       "      <td>985.0</td>\n",
       "      <td>30720.000000</td>\n",
       "      <td>0.000000</td>\n",
       "      <td>30720.0</td>\n",
       "      <td>30720.0</td>\n",
       "      <td>30720.0</td>\n",
       "      <td>30720.0</td>\n",
       "      <td>30720.0</td>\n",
       "    </tr>\n",
       "    <tr>\n",
       "      <th>minutes_included</th>\n",
       "      <td>985.0</td>\n",
       "      <td>3000.000000</td>\n",
       "      <td>0.000000</td>\n",
       "      <td>3000.0</td>\n",
       "      <td>3000.0</td>\n",
       "      <td>3000.0</td>\n",
       "      <td>3000.0</td>\n",
       "      <td>3000.0</td>\n",
       "    </tr>\n",
       "    <tr>\n",
       "      <th>rub_monthly_fee</th>\n",
       "      <td>985.0</td>\n",
       "      <td>1950.000000</td>\n",
       "      <td>0.000000</td>\n",
       "      <td>1950.0</td>\n",
       "      <td>1950.0</td>\n",
       "      <td>1950.0</td>\n",
       "      <td>1950.0</td>\n",
       "      <td>1950.0</td>\n",
       "    </tr>\n",
       "    <tr>\n",
       "      <th>rub_per_gb</th>\n",
       "      <td>985.0</td>\n",
       "      <td>150.000000</td>\n",
       "      <td>0.000000</td>\n",
       "      <td>150.0</td>\n",
       "      <td>150.0</td>\n",
       "      <td>150.0</td>\n",
       "      <td>150.0</td>\n",
       "      <td>150.0</td>\n",
       "    </tr>\n",
       "    <tr>\n",
       "      <th>rub_per_message</th>\n",
       "      <td>985.0</td>\n",
       "      <td>1.000000</td>\n",
       "      <td>0.000000</td>\n",
       "      <td>1.0</td>\n",
       "      <td>1.0</td>\n",
       "      <td>1.0</td>\n",
       "      <td>1.0</td>\n",
       "      <td>1.0</td>\n",
       "    </tr>\n",
       "    <tr>\n",
       "      <th>rub_per_minute</th>\n",
       "      <td>985.0</td>\n",
       "      <td>1.000000</td>\n",
       "      <td>0.000000</td>\n",
       "      <td>1.0</td>\n",
       "      <td>1.0</td>\n",
       "      <td>1.0</td>\n",
       "      <td>1.0</td>\n",
       "      <td>1.0</td>\n",
       "    </tr>\n",
       "    <tr>\n",
       "      <th>gb_per_month_included</th>\n",
       "      <td>985.0</td>\n",
       "      <td>30.000000</td>\n",
       "      <td>0.000000</td>\n",
       "      <td>30.0</td>\n",
       "      <td>30.0</td>\n",
       "      <td>30.0</td>\n",
       "      <td>30.0</td>\n",
       "      <td>30.0</td>\n",
       "    </tr>\n",
       "    <tr>\n",
       "      <th>total_cost</th>\n",
       "      <td>985.0</td>\n",
       "      <td>2071.065990</td>\n",
       "      <td>378.802377</td>\n",
       "      <td>1950.0</td>\n",
       "      <td>1950.0</td>\n",
       "      <td>1950.0</td>\n",
       "      <td>1950.0</td>\n",
       "      <td>4800.0</td>\n",
       "    </tr>\n",
       "  </tbody>\n",
       "</table>\n",
       "</div>"
      ],
      "text/plain": [
       "                       count          mean         std      min      25%  \\\n",
       "user_id                985.0   1263.094416  140.694908   1000.0   1143.0   \n",
       "call_numbers           951.0     76.016824   42.403348      1.0     43.0   \n",
       "call_duration          951.0    545.451104  306.925754      0.0    310.0   \n",
       "message_numbers        795.0     61.161006   45.931026      1.0     24.0   \n",
       "gb_used                975.0     19.726154    9.714924      0.0     12.0   \n",
       "age                    985.0     46.834518   17.107979     18.0     30.0   \n",
       "tariff_id              985.0      1.000000    0.000000      1.0      1.0   \n",
       "messages_included      985.0   1000.000000    0.000000   1000.0   1000.0   \n",
       "mb_per_month_included  985.0  30720.000000    0.000000  30720.0  30720.0   \n",
       "minutes_included       985.0   3000.000000    0.000000   3000.0   3000.0   \n",
       "rub_monthly_fee        985.0   1950.000000    0.000000   1950.0   1950.0   \n",
       "rub_per_gb             985.0    150.000000    0.000000    150.0    150.0   \n",
       "rub_per_message        985.0      1.000000    0.000000      1.0      1.0   \n",
       "rub_per_minute         985.0      1.000000    0.000000      1.0      1.0   \n",
       "gb_per_month_included  985.0     30.000000    0.000000     30.0     30.0   \n",
       "total_cost             985.0   2071.065990  378.802377   1950.0   1950.0   \n",
       "\n",
       "                           50%      75%      max  \n",
       "user_id                 1277.0   1381.0   1495.0  \n",
       "call_numbers              75.0    105.0    244.0  \n",
       "call_duration            528.0    756.5   1673.0  \n",
       "message_numbers           51.0     87.5    224.0  \n",
       "gb_used                   19.0     27.0     49.0  \n",
       "age                       45.0     63.0     75.0  \n",
       "tariff_id                  1.0      1.0      1.0  \n",
       "messages_included       1000.0   1000.0   1000.0  \n",
       "mb_per_month_included  30720.0  30720.0  30720.0  \n",
       "minutes_included        3000.0   3000.0   3000.0  \n",
       "rub_monthly_fee         1950.0   1950.0   1950.0  \n",
       "rub_per_gb               150.0    150.0    150.0  \n",
       "rub_per_message            1.0      1.0      1.0  \n",
       "rub_per_minute             1.0      1.0      1.0  \n",
       "gb_per_month_included     30.0     30.0     30.0  \n",
       "total_cost              1950.0   1950.0   4800.0  "
      ]
     },
     "execution_count": 64,
     "metadata": {},
     "output_type": "execute_result"
    }
   ],
   "source": [
    "sum_ultra.describe().T"
   ]
  },
  {
   "cell_type": "markdown",
   "metadata": {},
   "source": [
    "На тарифе ультра\n",
    "Минут в среднем - 545\n",
    "Смс - 61\n",
    "Гб - 20\n",
    "Стандартное отклонение в колонке с выручкой - 378.8, а среднее значение - 2070."
   ]
  },
  {
   "cell_type": "code",
   "execution_count": 65,
   "metadata": {},
   "outputs": [
    {
     "data": {
      "text/plain": [
       "<function matplotlib.pyplot.show(close=None, block=None)>"
      ]
     },
     "execution_count": 65,
     "metadata": {},
     "output_type": "execute_result"
    },
    {
     "data": {
      "image/png": "[encoded data removed]",
      "text/plain": [
       "<Figure size 1152x432 with 1 Axes>"
      ]
     },
     "metadata": {
      "needs_background": "light"
     },
     "output_type": "display_data"
    }
   ],
   "source": [
    "sum_ultra['call_duration'].hist(figsize=(16,6))\n",
    "plt.show"
   ]
  },
  {
   "cell_type": "markdown",
   "metadata": {},
   "source": [
    "Видим пик от 500-600, за лимит не выходит никто, редкто кто тратит более 1300 минут "
   ]
  },
  {
   "cell_type": "code",
   "execution_count": 66,
   "metadata": {},
   "outputs": [
    {
     "data": {
      "text/plain": [
       "<function matplotlib.pyplot.show(close=None, block=None)>"
      ]
     },
     "execution_count": 66,
     "metadata": {},
     "output_type": "execute_result"
    },
    {
     "data": {
      "image/png": "[encoded data removed]",
      "text/plain": [
       "<Figure size 1152x432 with 1 Axes>"
      ]
     },
     "metadata": {
      "needs_background": "light"
     },
     "output_type": "display_data"
    }
   ],
   "source": [
    "sum_ultra['message_numbers'].hist(figsize=(16,6))\n",
    "plt.show"
   ]
  },
  {
   "cell_type": "markdown",
   "metadata": {},
   "source": [
    "На тарифе ултра пик по смс в районе 25 более 150 мало кто использует"
   ]
  },
  {
   "cell_type": "markdown",
   "metadata": {},
   "source": [
    "Кстати как добавить больше делений что снизу на график?)"
   ]
  },
  {
   "cell_type": "code",
   "execution_count": 67,
   "metadata": {},
   "outputs": [
    {
     "data": {
      "text/plain": [
       "<function matplotlib.pyplot.show(close=None, block=None)>"
      ]
     },
     "execution_count": 67,
     "metadata": {},
     "output_type": "execute_result"
    },
    {
     "data": {
      "image/png": "[encoded data removed]",
      "text/plain": [
       "<Figure size 1152x432 with 1 Axes>"
      ]
     },
     "metadata": {
      "needs_background": "light"
     },
     "output_type": "display_data"
    }
   ],
   "source": [
    "sum_ultra['gb_used'].hist(figsize=(16,6))\n",
    "plt.show"
   ]
  },
  {
   "cell_type": "markdown",
   "metadata": {},
   "source": [
    "Пик по интернету в районе 20 гб более 40 почти не используют мало кто выходит за рамки тарифа "
   ]
  },
  {
   "cell_type": "code",
   "execution_count": 68,
   "metadata": {},
   "outputs": [
    {
     "data": {
      "image/png": "[encoded data removed]",
      "text/plain": [
       "<Figure size 1080x1080 with 1 Axes>"
      ]
     },
     "metadata": {
      "needs_background": "light"
     },
     "output_type": "display_data"
    }
   ],
   "source": [
    "\n",
    "plt.figure(figsize=(15,15))\n",
    "total_data['call_duration'][total_data['tariff'] == 'smart'].plot(kind='hist',bins=50,alpha = 0.6)\n",
    "total_data['call_duration'][total_data['tariff'] == 'ultra'].plot(kind='hist',bins=50)\n",
    "\n",
    "plt.xlabel(\"кол-во минут\")\n",
    "plt.ylabel('ползователи')\n",
    "\n",
    "plt.show()"
   ]
  },
  {
   "cell_type": "code",
   "execution_count": 69,
   "metadata": {},
   "outputs": [
    {
     "data": {
      "image/png": "[encoded data removed]",
      "text/plain": [
       "<Figure size 1080x1080 with 1 Axes>"
      ]
     },
     "metadata": {
      "needs_background": "light"
     },
     "output_type": "display_data"
    }
   ],
   "source": [
    "\n",
    "plt.figure(figsize=(15,15))\n",
    "total_data['message_numbers'][total_data['tariff'] == 'smart'].plot(kind='hist',bins=50,alpha = 0.6)\n",
    "total_data['message_numbers'][total_data['tariff'] == 'ultra'].plot(kind='hist',bins=50)\n",
    "plt.xlabel(\"кол-во смс\")\n",
    "plt.ylabel('ползователи')\n",
    "\n",
    "plt.show()"
   ]
  },
  {
   "cell_type": "code",
   "execution_count": 70,
   "metadata": {},
   "outputs": [
    {
     "data": {
      "image/png": "[encoded data removed]",
      "text/plain": [
       "<Figure size 1080x1080 with 1 Axes>"
      ]
     },
     "metadata": {
      "needs_background": "light"
     },
     "output_type": "display_data"
    }
   ],
   "source": [
    "plt.figure(figsize=(15,15))\n",
    "total_data['gb_used'][total_data['tariff'] == 'smart'].plot(kind='hist',bins=50,alpha = 0.6)\n",
    "total_data['gb_used'][total_data['tariff'] == 'ultra'].plot(kind='hist',bins=50)\n",
    "plt.xlabel(\"кол-во гб\")\n",
    "plt.ylabel('ползователи')\n",
    "\n",
    "plt.show()"
   ]
  },
  {
   "cell_type": "markdown",
   "metadata": {},
   "source": [
    "Попробывал сделать графики по кажому параметру хочу совет, как их сделать более читаемыми ) "
   ]
  },
  {
   "cell_type": "code",
   "execution_count": 71,
   "metadata": {},
   "outputs": [
    {
     "data": {
      "text/plain": [
       "call_duration    94203.418396\n",
       "dtype: float64"
      ]
     },
     "metadata": {},
     "output_type": "display_data"
    },
    {
     "data": {
      "text/plain": [
       "message_numbers    45.931026\n",
       "dtype: float64"
      ]
     },
     "metadata": {},
     "output_type": "display_data"
    },
    {
     "data": {
      "text/plain": [
       "gb_used    9.714924\n",
       "dtype: float64"
      ]
     },
     "metadata": {},
     "output_type": "display_data"
    }
   ],
   "source": [
    "variance_smart_calls = np.var(sum_ultra[['call_duration']], ddof=1)\n",
    "variance_smart_messages = np.std(sum_ultra[['message_numbers']], ddof=1)\n",
    "variance_smart_internet = np.std(sum_ultra[['gb_used']], ddof=1)\n",
    "display(variance_smart_calls)\n",
    "display(variance_smart_messages)\n",
    "display(variance_smart_internet)\n",
    "# посчитаем дисперсию по звонкам в тарифе 'ultra'\n",
    "# посчитаем дисперсию по сообщениям в тарифе 'ultra'\n",
    "#посчитаем дисперсию по интернету в тарифе 'ultra'"
   ]
  },
  {
   "cell_type": "markdown",
   "metadata": {},
   "source": [
    "Согласно числовым данным пользователям тарифа 'smart' требуется в среднем 419 минут разговора в месяц, 38-39 - сообщений и 17 - гб интернета .\n",
    "Пользователям тарифа ultra требуется в среднем 545 минут разговора в месяц, 61-сообщение, 19 - гб интернета.\n",
    "Пользователи тарифа smart используют немного меньшее количество минут в месяц, чем пользователи ultra.  \n",
    "Большинство пользователей тарифа Смарт используют сообщения в рамках лимита - 50 - всё же есть те, кто значительно превышает лимит, тем самым принося выручку компании.Основная масса пользователей ultra использует около 61 сообщения, но лимита в 1000 сообщений не достигает никто.\n",
    "Пользователи smart тарифа используют чуть меньшее количество минут звонков и сообщений в месяц, чем пользователи ultra. Лимита на звонки и минуты в ultra в среднем не достигает никто. При этом интернетом пользователи ultra и smart пользуются активно, перерасходуя лимиты."
   ]
  },
  {
   "cell_type": "markdown",
   "metadata": {},
   "source": [
    "## Проверим гипотезы"
   ]
  },
  {
   "cell_type": "markdown",
   "metadata": {},
   "source": [
    "средняя выручка пользователей тарифов «Ультра» и «Смарт» различаются;\n",
    "средняя выручка пользователей из Москвы отличается от выручки пользователей из других регионов."
   ]
  },
  {
   "cell_type": "markdown",
   "metadata": {},
   "source": [
    "Сформулируем нулевую и альтернативную гипотезы. Нулевую гипотезу будем формулировать так, чтобы использовать знак равенства. Альтернативную гипотезу сформулируем оттакливаясь от нулевой гипотезы.\n",
    "\n",
    "H₀ - средняя выручка пользователей тарифов «Ультра» и «Смарт» равна\n",
    "H₁ - средняя выручка пользователей тарифов «Ультра» и «Смарт» не равна"
   ]
  },
  {
   "cell_type": "code",
   "execution_count": 72,
   "metadata": {},
   "outputs": [],
   "source": [
    "alpha = .05\n",
    "\n",
    "#зададим критический уровень статистической значимости"
   ]
  },
  {
   "cell_type": "code",
   "execution_count": 73,
   "metadata": {},
   "outputs": [
    {
     "name": "stdout",
     "output_type": "stream",
     "text": [
      "p-значение: 2.9776448000521676e-158\n",
      "Отвергаем нулевую гипотезу\n",
      "\n",
      "Средняя выручка в месяц с пользователя тарифа smart - 1294.64\n",
      "Средняя выручка в месяц с пользователя тарифа ultra - 2071.07\n"
     ]
    }
   ],
   "source": [
    "results = st.ttest_ind(\n",
    "    sum_smart['total_cost'],\n",
    "    sum_ultra['total_cost']\n",
    ")\n",
    "\n",
    "print('p-значение:', results.pvalue)\n",
    "\n",
    "if (results.pvalue < alpha):\n",
    "    print(\"Отвергаем нулевую гипотезу\")\n",
    "else:\n",
    "    print(\"Не получилось отвергнуть нулевую гипотезу\")\n",
    "    \n",
    "print()    \n",
    "print('Средняя выручка в месяц с пользователя тарифа smart -', sum_smart['total_cost'].mean().round(2))\n",
    "print('Средняя выручка в месяц с пользователя тарифа ultra -', sum_ultra['total_cost'].mean().round(2))"
   ]
  },
  {
   "cell_type": "markdown",
   "metadata": {},
   "source": [
    "Отвергаем нулевую гипотезу, мы видим, что средняя выручка тарифа ultra, больше в 1,6 раза."
   ]
  },
  {
   "cell_type": "markdown",
   "metadata": {},
   "source": [
    "2.Средняя выручка пользователей из Москвы отличается от выручки пользователей из других регионов"
   ]
  },
  {
   "cell_type": "markdown",
   "metadata": {},
   "source": [
    "Сформулируем нулевую и альтернативную гипотезу:\n",
    "H₀ - средняя выручка пользователей из Москвы и других регионов равна\n",
    "H₁ - средняя выручка пользователей из Москвы и других регионов не равна"
   ]
  },
  {
   "cell_type": "code",
   "execution_count": 74,
   "metadata": {
    "scrolled": true
   },
   "outputs": [
    {
     "data": {
      "text/html": [
       "<div>\n",
       "<style scoped>\n",
       "    .dataframe tbody tr th:only-of-type {\n",
       "        vertical-align: middle;\n",
       "    }\n",
       "\n",
       "    .dataframe tbody tr th {\n",
       "        vertical-align: top;\n",
       "    }\n",
       "\n",
       "    .dataframe thead th {\n",
       "        text-align: right;\n",
       "    }\n",
       "</style>\n",
       "<table border=\"1\" class=\"dataframe\">\n",
       "  <thead>\n",
       "    <tr style=\"text-align: right;\">\n",
       "      <th></th>\n",
       "      <th>user_id</th>\n",
       "      <th>month</th>\n",
       "      <th>call_numbers</th>\n",
       "      <th>call_duration</th>\n",
       "      <th>message_numbers</th>\n",
       "      <th>gb_used</th>\n",
       "      <th>age</th>\n",
       "      <th>churn_date</th>\n",
       "      <th>city</th>\n",
       "      <th>first_name</th>\n",
       "      <th>...</th>\n",
       "      <th>tariff_id</th>\n",
       "      <th>messages_included</th>\n",
       "      <th>mb_per_month_included</th>\n",
       "      <th>minutes_included</th>\n",
       "      <th>rub_monthly_fee</th>\n",
       "      <th>rub_per_gb</th>\n",
       "      <th>rub_per_message</th>\n",
       "      <th>rub_per_minute</th>\n",
       "      <th>gb_per_month_included</th>\n",
       "      <th>total_cost</th>\n",
       "    </tr>\n",
       "  </thead>\n",
       "  <tbody>\n",
       "    <tr>\n",
       "      <th>8</th>\n",
       "      <td>1003</td>\n",
       "      <td>2018-08-01</td>\n",
       "      <td>55.0</td>\n",
       "      <td>380.0</td>\n",
       "      <td>37.0</td>\n",
       "      <td>9.0</td>\n",
       "      <td>23</td>\n",
       "      <td>NaT</td>\n",
       "      <td>Москва</td>\n",
       "      <td>Белла</td>\n",
       "      <td>...</td>\n",
       "      <td>1</td>\n",
       "      <td>1000</td>\n",
       "      <td>30720</td>\n",
       "      <td>3000</td>\n",
       "      <td>1950</td>\n",
       "      <td>150</td>\n",
       "      <td>1</td>\n",
       "      <td>1</td>\n",
       "      <td>30.0</td>\n",
       "      <td>1950.0</td>\n",
       "    </tr>\n",
       "    <tr>\n",
       "      <th>9</th>\n",
       "      <td>1003</td>\n",
       "      <td>2018-09-01</td>\n",
       "      <td>134.0</td>\n",
       "      <td>961.0</td>\n",
       "      <td>91.0</td>\n",
       "      <td>13.0</td>\n",
       "      <td>23</td>\n",
       "      <td>NaT</td>\n",
       "      <td>Москва</td>\n",
       "      <td>Белла</td>\n",
       "      <td>...</td>\n",
       "      <td>1</td>\n",
       "      <td>1000</td>\n",
       "      <td>30720</td>\n",
       "      <td>3000</td>\n",
       "      <td>1950</td>\n",
       "      <td>150</td>\n",
       "      <td>1</td>\n",
       "      <td>1</td>\n",
       "      <td>30.0</td>\n",
       "      <td>1950.0</td>\n",
       "    </tr>\n",
       "    <tr>\n",
       "      <th>10</th>\n",
       "      <td>1003</td>\n",
       "      <td>2018-10-01</td>\n",
       "      <td>108.0</td>\n",
       "      <td>855.0</td>\n",
       "      <td>83.0</td>\n",
       "      <td>15.0</td>\n",
       "      <td>23</td>\n",
       "      <td>NaT</td>\n",
       "      <td>Москва</td>\n",
       "      <td>Белла</td>\n",
       "      <td>...</td>\n",
       "      <td>1</td>\n",
       "      <td>1000</td>\n",
       "      <td>30720</td>\n",
       "      <td>3000</td>\n",
       "      <td>1950</td>\n",
       "      <td>150</td>\n",
       "      <td>1</td>\n",
       "      <td>1</td>\n",
       "      <td>30.0</td>\n",
       "      <td>1950.0</td>\n",
       "    </tr>\n",
       "    <tr>\n",
       "      <th>11</th>\n",
       "      <td>1003</td>\n",
       "      <td>2018-11-01</td>\n",
       "      <td>115.0</td>\n",
       "      <td>824.0</td>\n",
       "      <td>94.0</td>\n",
       "      <td>12.0</td>\n",
       "      <td>23</td>\n",
       "      <td>NaT</td>\n",
       "      <td>Москва</td>\n",
       "      <td>Белла</td>\n",
       "      <td>...</td>\n",
       "      <td>1</td>\n",
       "      <td>1000</td>\n",
       "      <td>30720</td>\n",
       "      <td>3000</td>\n",
       "      <td>1950</td>\n",
       "      <td>150</td>\n",
       "      <td>1</td>\n",
       "      <td>1</td>\n",
       "      <td>30.0</td>\n",
       "      <td>1950.0</td>\n",
       "    </tr>\n",
       "    <tr>\n",
       "      <th>12</th>\n",
       "      <td>1003</td>\n",
       "      <td>2018-12-01</td>\n",
       "      <td>108.0</td>\n",
       "      <td>802.0</td>\n",
       "      <td>75.0</td>\n",
       "      <td>10.0</td>\n",
       "      <td>23</td>\n",
       "      <td>NaT</td>\n",
       "      <td>Москва</td>\n",
       "      <td>Белла</td>\n",
       "      <td>...</td>\n",
       "      <td>1</td>\n",
       "      <td>1000</td>\n",
       "      <td>30720</td>\n",
       "      <td>3000</td>\n",
       "      <td>1950</td>\n",
       "      <td>150</td>\n",
       "      <td>1</td>\n",
       "      <td>1</td>\n",
       "      <td>30.0</td>\n",
       "      <td>1950.0</td>\n",
       "    </tr>\n",
       "  </tbody>\n",
       "</table>\n",
       "<p>5 rows × 23 columns</p>\n",
       "</div>"
      ],
      "text/plain": [
       "    user_id      month  call_numbers  call_duration  message_numbers  gb_used  \\\n",
       "8      1003 2018-08-01          55.0          380.0             37.0      9.0   \n",
       "9      1003 2018-09-01         134.0          961.0             91.0     13.0   \n",
       "10     1003 2018-10-01         108.0          855.0             83.0     15.0   \n",
       "11     1003 2018-11-01         115.0          824.0             94.0     12.0   \n",
       "12     1003 2018-12-01         108.0          802.0             75.0     10.0   \n",
       "\n",
       "    age churn_date    city first_name  ... tariff_id messages_included  \\\n",
       "8    23        NaT  Москва      Белла  ...         1              1000   \n",
       "9    23        NaT  Москва      Белла  ...         1              1000   \n",
       "10   23        NaT  Москва      Белла  ...         1              1000   \n",
       "11   23        NaT  Москва      Белла  ...         1              1000   \n",
       "12   23        NaT  Москва      Белла  ...         1              1000   \n",
       "\n",
       "   mb_per_month_included  minutes_included  rub_monthly_fee  rub_per_gb  \\\n",
       "8                  30720              3000             1950         150   \n",
       "9                  30720              3000             1950         150   \n",
       "10                 30720              3000             1950         150   \n",
       "11                 30720              3000             1950         150   \n",
       "12                 30720              3000             1950         150   \n",
       "\n",
       "    rub_per_message  rub_per_minute  gb_per_month_included  total_cost  \n",
       "8                 1               1                   30.0      1950.0  \n",
       "9                 1               1                   30.0      1950.0  \n",
       "10                1               1                   30.0      1950.0  \n",
       "11                1               1                   30.0      1950.0  \n",
       "12                1               1                   30.0      1950.0  \n",
       "\n",
       "[5 rows x 23 columns]"
      ]
     },
     "metadata": {},
     "output_type": "display_data"
    },
    {
     "data": {
      "text/html": [
       "<div>\n",
       "<style scoped>\n",
       "    .dataframe tbody tr th:only-of-type {\n",
       "        vertical-align: middle;\n",
       "    }\n",
       "\n",
       "    .dataframe tbody tr th {\n",
       "        vertical-align: top;\n",
       "    }\n",
       "\n",
       "    .dataframe thead th {\n",
       "        text-align: right;\n",
       "    }\n",
       "</style>\n",
       "<table border=\"1\" class=\"dataframe\">\n",
       "  <thead>\n",
       "    <tr style=\"text-align: right;\">\n",
       "      <th></th>\n",
       "      <th>user_id</th>\n",
       "      <th>month</th>\n",
       "      <th>call_numbers</th>\n",
       "      <th>call_duration</th>\n",
       "      <th>message_numbers</th>\n",
       "      <th>gb_used</th>\n",
       "      <th>age</th>\n",
       "      <th>churn_date</th>\n",
       "      <th>city</th>\n",
       "      <th>first_name</th>\n",
       "      <th>...</th>\n",
       "      <th>tariff_id</th>\n",
       "      <th>messages_included</th>\n",
       "      <th>mb_per_month_included</th>\n",
       "      <th>minutes_included</th>\n",
       "      <th>rub_monthly_fee</th>\n",
       "      <th>rub_per_gb</th>\n",
       "      <th>rub_per_message</th>\n",
       "      <th>rub_per_minute</th>\n",
       "      <th>gb_per_month_included</th>\n",
       "      <th>total_cost</th>\n",
       "    </tr>\n",
       "  </thead>\n",
       "  <tbody>\n",
       "    <tr>\n",
       "      <th>0</th>\n",
       "      <td>1000</td>\n",
       "      <td>2018-05-01</td>\n",
       "      <td>22.0</td>\n",
       "      <td>159.0</td>\n",
       "      <td>22.0</td>\n",
       "      <td>3.0</td>\n",
       "      <td>52</td>\n",
       "      <td>NaT</td>\n",
       "      <td>Краснодар</td>\n",
       "      <td>Рафаил</td>\n",
       "      <td>...</td>\n",
       "      <td>1</td>\n",
       "      <td>1000</td>\n",
       "      <td>30720</td>\n",
       "      <td>3000</td>\n",
       "      <td>1950</td>\n",
       "      <td>150</td>\n",
       "      <td>1</td>\n",
       "      <td>1</td>\n",
       "      <td>30.0</td>\n",
       "      <td>1950.0</td>\n",
       "    </tr>\n",
       "    <tr>\n",
       "      <th>1</th>\n",
       "      <td>1000</td>\n",
       "      <td>2018-06-01</td>\n",
       "      <td>43.0</td>\n",
       "      <td>172.0</td>\n",
       "      <td>60.0</td>\n",
       "      <td>23.0</td>\n",
       "      <td>52</td>\n",
       "      <td>NaT</td>\n",
       "      <td>Краснодар</td>\n",
       "      <td>Рафаил</td>\n",
       "      <td>...</td>\n",
       "      <td>1</td>\n",
       "      <td>1000</td>\n",
       "      <td>30720</td>\n",
       "      <td>3000</td>\n",
       "      <td>1950</td>\n",
       "      <td>150</td>\n",
       "      <td>1</td>\n",
       "      <td>1</td>\n",
       "      <td>30.0</td>\n",
       "      <td>1950.0</td>\n",
       "    </tr>\n",
       "    <tr>\n",
       "      <th>2</th>\n",
       "      <td>1000</td>\n",
       "      <td>2018-07-01</td>\n",
       "      <td>47.0</td>\n",
       "      <td>340.0</td>\n",
       "      <td>75.0</td>\n",
       "      <td>14.0</td>\n",
       "      <td>52</td>\n",
       "      <td>NaT</td>\n",
       "      <td>Краснодар</td>\n",
       "      <td>Рафаил</td>\n",
       "      <td>...</td>\n",
       "      <td>1</td>\n",
       "      <td>1000</td>\n",
       "      <td>30720</td>\n",
       "      <td>3000</td>\n",
       "      <td>1950</td>\n",
       "      <td>150</td>\n",
       "      <td>1</td>\n",
       "      <td>1</td>\n",
       "      <td>30.0</td>\n",
       "      <td>1950.0</td>\n",
       "    </tr>\n",
       "    <tr>\n",
       "      <th>3</th>\n",
       "      <td>1000</td>\n",
       "      <td>2018-08-01</td>\n",
       "      <td>52.0</td>\n",
       "      <td>408.0</td>\n",
       "      <td>81.0</td>\n",
       "      <td>14.0</td>\n",
       "      <td>52</td>\n",
       "      <td>NaT</td>\n",
       "      <td>Краснодар</td>\n",
       "      <td>Рафаил</td>\n",
       "      <td>...</td>\n",
       "      <td>1</td>\n",
       "      <td>1000</td>\n",
       "      <td>30720</td>\n",
       "      <td>3000</td>\n",
       "      <td>1950</td>\n",
       "      <td>150</td>\n",
       "      <td>1</td>\n",
       "      <td>1</td>\n",
       "      <td>30.0</td>\n",
       "      <td>1950.0</td>\n",
       "    </tr>\n",
       "    <tr>\n",
       "      <th>4</th>\n",
       "      <td>1000</td>\n",
       "      <td>2018-09-01</td>\n",
       "      <td>58.0</td>\n",
       "      <td>466.0</td>\n",
       "      <td>57.0</td>\n",
       "      <td>15.0</td>\n",
       "      <td>52</td>\n",
       "      <td>NaT</td>\n",
       "      <td>Краснодар</td>\n",
       "      <td>Рафаил</td>\n",
       "      <td>...</td>\n",
       "      <td>1</td>\n",
       "      <td>1000</td>\n",
       "      <td>30720</td>\n",
       "      <td>3000</td>\n",
       "      <td>1950</td>\n",
       "      <td>150</td>\n",
       "      <td>1</td>\n",
       "      <td>1</td>\n",
       "      <td>30.0</td>\n",
       "      <td>1950.0</td>\n",
       "    </tr>\n",
       "  </tbody>\n",
       "</table>\n",
       "<p>5 rows × 23 columns</p>\n",
       "</div>"
      ],
      "text/plain": [
       "   user_id      month  call_numbers  call_duration  message_numbers  gb_used  \\\n",
       "0     1000 2018-05-01          22.0          159.0             22.0      3.0   \n",
       "1     1000 2018-06-01          43.0          172.0             60.0     23.0   \n",
       "2     1000 2018-07-01          47.0          340.0             75.0     14.0   \n",
       "3     1000 2018-08-01          52.0          408.0             81.0     14.0   \n",
       "4     1000 2018-09-01          58.0          466.0             57.0     15.0   \n",
       "\n",
       "   age churn_date       city first_name  ... tariff_id messages_included  \\\n",
       "0   52        NaT  Краснодар     Рафаил  ...         1              1000   \n",
       "1   52        NaT  Краснодар     Рафаил  ...         1              1000   \n",
       "2   52        NaT  Краснодар     Рафаил  ...         1              1000   \n",
       "3   52        NaT  Краснодар     Рафаил  ...         1              1000   \n",
       "4   52        NaT  Краснодар     Рафаил  ...         1              1000   \n",
       "\n",
       "  mb_per_month_included  minutes_included  rub_monthly_fee  rub_per_gb  \\\n",
       "0                 30720              3000             1950         150   \n",
       "1                 30720              3000             1950         150   \n",
       "2                 30720              3000             1950         150   \n",
       "3                 30720              3000             1950         150   \n",
       "4                 30720              3000             1950         150   \n",
       "\n",
       "   rub_per_message  rub_per_minute  gb_per_month_included  total_cost  \n",
       "0                1               1                   30.0      1950.0  \n",
       "1                1               1                   30.0      1950.0  \n",
       "2                1               1                   30.0      1950.0  \n",
       "3                1               1                   30.0      1950.0  \n",
       "4                1               1                   30.0      1950.0  \n",
       "\n",
       "[5 rows x 23 columns]"
      ]
     },
     "metadata": {},
     "output_type": "display_data"
    }
   ],
   "source": [
    "from_Moscow = total_data.query('city == \"Москва\"')\n",
    "not_from_Moscow = total_data.query('city != \"Москва\"')\n",
    "display(from_Moscow.head())\n",
    "display(not_from_Moscow.head())\n",
    "\n",
    "#сделаем срез данных по городу Москва, сохраним результат в переменной from_Moscow\n",
    "#сделаем срез данных по другим городам, сохраним результат в переменной not_from_Moscow"
   ]
  },
  {
   "cell_type": "code",
   "execution_count": 75,
   "metadata": {},
   "outputs": [
    {
     "data": {
      "image/png": "[encoded data removed]",
      "text/plain": [
       "<Figure size 720x720 with 1 Axes>"
      ]
     },
     "metadata": {
      "needs_background": "light"
     },
     "output_type": "display_data"
    }
   ],
   "source": [
    "from_Moscow['total_cost'].hist(bins=15,alpha=0.8,label='Москва',figsize=(10,10))\n",
    "not_from_Moscow['total_cost'].hist(bins=15,alpha=0.4,label='Не Москва',figsize=(10,10))\n",
    "plt.legend()\n",
    "plt.show()"
   ]
  },
  {
   "cell_type": "markdown",
   "metadata": {},
   "source": [
    "Гистограмма выручки абонентов по регионам "
   ]
  },
  {
   "cell_type": "code",
   "execution_count": 76,
   "metadata": {},
   "outputs": [],
   "source": [
    "alpha = .05\n",
    "\n",
    "#зададим критический уровень статистической значимости"
   ]
  },
  {
   "cell_type": "code",
   "execution_count": 77,
   "metadata": {},
   "outputs": [
    {
     "name": "stdout",
     "output_type": "stream",
     "text": [
      "p-значение: 0.531666503831252\n",
      "Не получилось отвергнуть нулевую гипотезу\n",
      "\n",
      "Средняя выручка в месяц с пользователя из Москвы - 1550.81\n",
      "Средняя выручка в месяц с пользователя из других городов - 1528.32\n"
     ]
    }
   ],
   "source": [
    "results = st.ttest_ind(\n",
    "    from_Moscow['total_cost'],\n",
    "    not_from_Moscow['total_cost']\n",
    ")\n",
    "\n",
    "print('p-значение:', results.pvalue)\n",
    "\n",
    "if (results.pvalue < alpha):\n",
    "    print(\"Отвергаем нулевую гипотезу\")\n",
    "else:\n",
    "    print(\"Не получилось отвергнуть нулевую гипотезу\")\n",
    "    \n",
    "print()    \n",
    "print('Средняя выручка в месяц с пользователя из Москвы -', from_Moscow['total_cost'].mean().round(2))\n",
    "print('Средняя выручка в месяц с пользователя из других городов -', not_from_Moscow['total_cost'].mean().round(2))"
   ]
  },
  {
   "cell_type": "markdown",
   "metadata": {},
   "source": [
    "Не получилось огтвергнуть нулевую гипотезу, выручки почти равны"
   ]
  },
  {
   "cell_type": "markdown",
   "metadata": {},
   "source": [
    "Мы проверили две гипотезы: первую, что средняя выручка пользователей тарифов «Ультра» и «Смарт» равна - отвергли. Вторую, что\n",
    "средняя выручка пользователей из Москвы равна выручке пользователей из других регионов - отвергнуть не удалось."
   ]
  },
  {
   "cell_type": "code",
   "execution_count": 78,
   "metadata": {},
   "outputs": [
    {
     "data": {
      "image/png": "[encoded data removed]",
      "text/plain": [
       "<Figure size 1080x1080 with 1 Axes>"
      ]
     },
     "metadata": {
      "needs_background": "light"
     },
     "output_type": "display_data"
    }
   ],
   "source": [
    "plt.figure(figsize=(15,15))\n",
    "total_data['total_cost'][total_data['tariff'] == 'smart'].plot(kind='hist',bins=30,alpha = 0.6)\n",
    "total_data['total_cost'][total_data['tariff'] == 'ultra'].plot(kind='hist',bins=30)\n",
    "plt.xlabel(\"прибль\")\n",
    "plt.ylabel('ползователи')\n",
    "\n",
    "plt.show()"
   ]
  },
  {
   "cell_type": "markdown",
   "metadata": {},
   "source": [
    "## Общий вывод"
   ]
  },
  {
   "cell_type": "markdown",
   "metadata": {},
   "source": [
    "В ходе работы произвели такую работу как:\n",
    "1. Исправили ошибки в данных и привели в нужный формат \n",
    "2. Посчитали помесячную выручку с каждого пользователя\n",
    "3. Пользователи smart тарифа используют чуть меньшее количество минут звонков и сообщений в месяц, чем пользователи ultra. Лимита на звонки и минуты в ultra в среднем не достигает никто. При этом интернетом пользователи ultra и smart пользуются активнее, перерасходуя лимиты.\n"
   ]
  },
  {
   "cell_type": "markdown",
   "metadata": {},
   "source": [
    "Проверили 2 гипотезы:\n",
    "\n",
    "Средняя выручка пользователей тарифов «Ультра» и «Смарт» равна - отвергли.\n",
    "Средняя выручка пользователей из Москвы равна выручке пользователей из других городов - отвергнуть не удалось\n",
    "Тариф ultra приносит компании бОльшую выручку, в основном из-за того, что его пользователи перерасходуют лимит по звонкам и интернет-трафику."
   ]
  }
 ],
 "metadata": {
  "ExecuteTimeLog": [
   {
    "duration": 375,
    "start_time": "2022-03-25T07:05:39.476Z"
   },
   {
    "duration": 401,
    "start_time": "2022-03-25T07:05:39.853Z"
   },
   {
    "duration": 497,
    "start_time": "2022-03-25T07:05:40.256Z"
   },
   {
    "duration": 2,
    "start_time": "2022-03-25T07:05:40.755Z"
   },
   {
    "duration": 339,
    "start_time": "2022-03-25T07:05:40.762Z"
   },
   {
    "duration": 13,
    "start_time": "2022-03-25T07:06:28.495Z"
   },
   {
    "duration": 9,
    "start_time": "2022-03-25T07:06:36.577Z"
   },
   {
    "duration": 89,
    "start_time": "2022-03-25T07:07:04.210Z"
   },
   {
    "duration": 25,
    "start_time": "2022-03-25T07:07:10.802Z"
   },
   {
    "duration": 111,
    "start_time": "2022-03-25T07:08:19.743Z"
   },
   {
    "duration": 9,
    "start_time": "2022-03-25T07:09:32.532Z"
   },
   {
    "duration": 20,
    "start_time": "2022-03-25T07:14:28.702Z"
   },
   {
    "duration": 20,
    "start_time": "2022-03-25T07:14:41.926Z"
   },
   {
    "duration": 9,
    "start_time": "2022-03-25T07:14:53.858Z"
   },
   {
    "duration": 7,
    "start_time": "2022-03-25T07:19:21.684Z"
   },
   {
    "duration": 8,
    "start_time": "2022-03-25T07:19:40.407Z"
   },
   {
    "duration": 17,
    "start_time": "2022-03-25T07:19:56.390Z"
   },
   {
    "duration": 559,
    "start_time": "2022-03-26T09:20:37.141Z"
   },
   {
    "duration": 637,
    "start_time": "2022-03-26T09:20:37.703Z"
   },
   {
    "duration": 688,
    "start_time": "2022-03-26T09:20:38.343Z"
   },
   {
    "duration": 4,
    "start_time": "2022-03-26T09:20:39.033Z"
   },
   {
    "duration": 619,
    "start_time": "2022-03-26T09:20:39.039Z"
   },
   {
    "duration": 18,
    "start_time": "2022-03-26T09:20:39.660Z"
   },
   {
    "duration": 34,
    "start_time": "2022-03-26T09:20:39.681Z"
   },
   {
    "duration": 17,
    "start_time": "2022-03-26T09:20:39.717Z"
   },
   {
    "duration": 40,
    "start_time": "2022-03-26T09:20:39.737Z"
   },
   {
    "duration": 12,
    "start_time": "2022-03-26T09:20:39.784Z"
   },
   {
    "duration": 29,
    "start_time": "2022-03-26T09:20:39.798Z"
   },
   {
    "duration": 12,
    "start_time": "2022-03-26T09:20:39.829Z"
   },
   {
    "duration": 12,
    "start_time": "2022-03-26T09:20:46.606Z"
   },
   {
    "duration": 15,
    "start_time": "2022-03-26T09:21:56.940Z"
   },
   {
    "duration": 16,
    "start_time": "2022-03-26T09:22:20.289Z"
   },
   {
    "duration": 4,
    "start_time": "2022-03-26T09:54:20.798Z"
   },
   {
    "duration": 30,
    "start_time": "2022-03-26T09:54:20.804Z"
   },
   {
    "duration": 23,
    "start_time": "2022-03-26T09:54:20.836Z"
   },
   {
    "duration": 29,
    "start_time": "2022-03-26T09:54:20.861Z"
   },
   {
    "duration": 556,
    "start_time": "2022-03-26T09:54:20.894Z"
   },
   {
    "duration": 14,
    "start_time": "2022-03-26T09:54:21.453Z"
   },
   {
    "duration": 36,
    "start_time": "2022-03-26T09:54:21.469Z"
   },
   {
    "duration": 14,
    "start_time": "2022-03-26T09:54:21.508Z"
   },
   {
    "duration": 32,
    "start_time": "2022-03-26T09:54:21.524Z"
   },
   {
    "duration": 35,
    "start_time": "2022-03-26T09:54:21.558Z"
   },
   {
    "duration": 27,
    "start_time": "2022-03-26T09:54:21.595Z"
   },
   {
    "duration": 17,
    "start_time": "2022-03-26T09:54:21.624Z"
   },
   {
    "duration": 42,
    "start_time": "2022-03-26T09:54:21.643Z"
   },
   {
    "duration": 17,
    "start_time": "2022-03-26T09:54:21.688Z"
   },
   {
    "duration": 4,
    "start_time": "2022-03-26T09:54:49.209Z"
   },
   {
    "duration": 7,
    "start_time": "2022-03-26T09:54:49.216Z"
   },
   {
    "duration": 11,
    "start_time": "2022-03-26T09:54:49.225Z"
   },
   {
    "duration": 6,
    "start_time": "2022-03-26T09:54:49.238Z"
   },
   {
    "duration": 514,
    "start_time": "2022-03-26T09:54:49.247Z"
   },
   {
    "duration": 13,
    "start_time": "2022-03-26T09:54:49.764Z"
   },
   {
    "duration": 35,
    "start_time": "2022-03-26T09:54:49.779Z"
   },
   {
    "duration": 19,
    "start_time": "2022-03-26T09:54:49.817Z"
   },
   {
    "duration": 53,
    "start_time": "2022-03-26T09:54:49.839Z"
   },
   {
    "duration": 10,
    "start_time": "2022-03-26T09:54:49.895Z"
   },
   {
    "duration": 27,
    "start_time": "2022-03-26T09:54:49.907Z"
   },
   {
    "duration": 13,
    "start_time": "2022-03-26T09:54:49.937Z"
   },
   {
    "duration": 17,
    "start_time": "2022-03-26T09:54:49.984Z"
   },
   {
    "duration": 21,
    "start_time": "2022-03-26T09:54:50.004Z"
   },
   {
    "duration": 46,
    "start_time": "2022-03-26T09:58:01.173Z"
   },
   {
    "duration": 55,
    "start_time": "2022-03-26T09:58:16.375Z"
   },
   {
    "duration": 42,
    "start_time": "2022-03-26T09:58:34.868Z"
   },
   {
    "duration": 152,
    "start_time": "2022-03-26T09:59:27.334Z"
   },
   {
    "duration": 22,
    "start_time": "2022-03-26T09:59:36.502Z"
   },
   {
    "duration": 4,
    "start_time": "2022-03-26T10:28:58.637Z"
   },
   {
    "duration": 23,
    "start_time": "2022-03-26T10:29:40.951Z"
   },
   {
    "duration": 5,
    "start_time": "2022-03-26T10:30:00.709Z"
   },
   {
    "duration": 24,
    "start_time": "2022-03-26T10:30:02.139Z"
   },
   {
    "duration": 52,
    "start_time": "2022-03-26T10:30:34.155Z"
   },
   {
    "duration": 15,
    "start_time": "2022-03-26T10:33:44.963Z"
   },
   {
    "duration": 41,
    "start_time": "2022-03-26T10:38:45.988Z"
   },
   {
    "duration": 90,
    "start_time": "2022-03-26T10:38:57.116Z"
   },
   {
    "duration": 25,
    "start_time": "2022-03-26T10:38:59.009Z"
   },
   {
    "duration": 8,
    "start_time": "2022-03-26T10:40:25.064Z"
   },
   {
    "duration": 18,
    "start_time": "2022-03-26T10:40:31.208Z"
   },
   {
    "duration": 11,
    "start_time": "2022-03-26T10:41:36.358Z"
   },
   {
    "duration": 4,
    "start_time": "2022-03-26T10:42:33.255Z"
   },
   {
    "duration": 17,
    "start_time": "2022-03-26T10:43:03.520Z"
   },
   {
    "duration": 4,
    "start_time": "2022-03-26T10:43:06.249Z"
   },
   {
    "duration": 36,
    "start_time": "2022-03-26T10:43:06.256Z"
   },
   {
    "duration": 36,
    "start_time": "2022-03-26T10:43:06.294Z"
   },
   {
    "duration": 25,
    "start_time": "2022-03-26T10:43:06.333Z"
   },
   {
    "duration": 25,
    "start_time": "2022-03-26T10:43:06.361Z"
   },
   {
    "duration": 535,
    "start_time": "2022-03-26T10:43:06.388Z"
   },
   {
    "duration": 13,
    "start_time": "2022-03-26T10:43:06.925Z"
   },
   {
    "duration": 172,
    "start_time": "2022-03-26T10:43:06.941Z"
   },
   {
    "duration": 14,
    "start_time": "2022-03-26T10:43:07.115Z"
   },
   {
    "duration": 41,
    "start_time": "2022-03-26T10:43:07.131Z"
   },
   {
    "duration": 11,
    "start_time": "2022-03-26T10:43:07.183Z"
   },
   {
    "duration": 42,
    "start_time": "2022-03-26T10:43:07.196Z"
   },
   {
    "duration": 17,
    "start_time": "2022-03-26T10:43:07.242Z"
   },
   {
    "duration": 28,
    "start_time": "2022-03-26T10:43:07.261Z"
   },
   {
    "duration": 31,
    "start_time": "2022-03-26T10:43:07.292Z"
   },
   {
    "duration": 51,
    "start_time": "2022-03-26T10:43:07.325Z"
   },
   {
    "duration": 15,
    "start_time": "2022-03-26T10:43:07.379Z"
   },
   {
    "duration": 4,
    "start_time": "2022-03-26T10:43:07.396Z"
   },
   {
    "duration": 63,
    "start_time": "2022-03-26T10:43:07.403Z"
   },
   {
    "duration": 117,
    "start_time": "2022-03-26T10:43:07.468Z"
   },
   {
    "duration": 13,
    "start_time": "2022-03-26T10:43:07.588Z"
   },
   {
    "duration": 0,
    "start_time": "2022-03-26T10:43:07.603Z"
   },
   {
    "duration": 12,
    "start_time": "2022-03-26T10:50:30.333Z"
   },
   {
    "duration": 7,
    "start_time": "2022-03-26T10:50:46.690Z"
   },
   {
    "duration": 24,
    "start_time": "2022-03-26T10:50:49.220Z"
   },
   {
    "duration": 3,
    "start_time": "2022-03-26T10:51:22.532Z"
   },
   {
    "duration": 8,
    "start_time": "2022-03-26T10:51:22.538Z"
   },
   {
    "duration": 9,
    "start_time": "2022-03-26T10:51:22.548Z"
   },
   {
    "duration": 6,
    "start_time": "2022-03-26T10:51:22.560Z"
   },
   {
    "duration": 10,
    "start_time": "2022-03-26T10:51:22.569Z"
   },
   {
    "duration": 518,
    "start_time": "2022-03-26T10:51:22.581Z"
   },
   {
    "duration": 15,
    "start_time": "2022-03-26T10:51:23.101Z"
   },
   {
    "duration": 34,
    "start_time": "2022-03-26T10:51:23.118Z"
   },
   {
    "duration": 13,
    "start_time": "2022-03-26T10:51:23.154Z"
   },
   {
    "duration": 43,
    "start_time": "2022-03-26T10:51:23.169Z"
   },
   {
    "duration": 10,
    "start_time": "2022-03-26T10:51:23.216Z"
   },
   {
    "duration": 56,
    "start_time": "2022-03-26T10:51:23.228Z"
   },
   {
    "duration": 13,
    "start_time": "2022-03-26T10:51:23.286Z"
   },
   {
    "duration": 20,
    "start_time": "2022-03-26T10:51:23.301Z"
   },
   {
    "duration": 21,
    "start_time": "2022-03-26T10:51:23.323Z"
   },
   {
    "duration": 72,
    "start_time": "2022-03-26T10:51:23.346Z"
   },
   {
    "duration": 13,
    "start_time": "2022-03-26T10:51:23.420Z"
   },
   {
    "duration": 4,
    "start_time": "2022-03-26T10:51:23.435Z"
   },
   {
    "duration": 77,
    "start_time": "2022-03-26T10:51:23.441Z"
   },
   {
    "duration": 101,
    "start_time": "2022-03-26T10:51:23.521Z"
   },
   {
    "duration": 7,
    "start_time": "2022-03-26T10:51:23.624Z"
   },
   {
    "duration": 19,
    "start_time": "2022-03-26T10:51:23.633Z"
   },
   {
    "duration": 29,
    "start_time": "2022-03-26T10:52:51.154Z"
   },
   {
    "duration": 42,
    "start_time": "2022-03-26T10:53:04.258Z"
   },
   {
    "duration": 7,
    "start_time": "2022-03-26T11:14:20.861Z"
   },
   {
    "duration": 372,
    "start_time": "2022-03-26T11:14:26.294Z"
   },
   {
    "duration": 391,
    "start_time": "2022-03-26T11:14:26.668Z"
   },
   {
    "duration": 502,
    "start_time": "2022-03-26T11:14:27.061Z"
   },
   {
    "duration": 3,
    "start_time": "2022-03-26T11:14:27.564Z"
   },
   {
    "duration": 6,
    "start_time": "2022-03-26T11:14:27.569Z"
   },
   {
    "duration": 364,
    "start_time": "2022-03-26T11:14:27.577Z"
   },
   {
    "duration": 14,
    "start_time": "2022-03-26T11:14:27.943Z"
   },
   {
    "duration": 28,
    "start_time": "2022-03-26T11:14:27.959Z"
   },
   {
    "duration": 8,
    "start_time": "2022-03-26T11:14:27.989Z"
   },
   {
    "duration": 24,
    "start_time": "2022-03-26T11:14:27.998Z"
   },
   {
    "duration": 7,
    "start_time": "2022-03-26T11:14:28.024Z"
   },
   {
    "duration": 33,
    "start_time": "2022-03-26T11:14:28.032Z"
   },
   {
    "duration": 8,
    "start_time": "2022-03-26T11:14:28.068Z"
   },
   {
    "duration": 11,
    "start_time": "2022-03-26T11:14:28.080Z"
   },
   {
    "duration": 17,
    "start_time": "2022-03-26T11:14:28.092Z"
   },
   {
    "duration": 54,
    "start_time": "2022-03-26T11:14:28.111Z"
   },
   {
    "duration": 12,
    "start_time": "2022-03-26T11:14:28.167Z"
   },
   {
    "duration": 3,
    "start_time": "2022-03-26T11:14:28.180Z"
   },
   {
    "duration": 8,
    "start_time": "2022-03-26T11:14:28.184Z"
   },
   {
    "duration": 35,
    "start_time": "2022-03-26T11:14:28.193Z"
   },
   {
    "duration": 77,
    "start_time": "2022-03-26T11:14:28.230Z"
   },
   {
    "duration": 2,
    "start_time": "2022-03-26T11:14:28.308Z"
   },
   {
    "duration": 32,
    "start_time": "2022-03-26T11:14:28.312Z"
   },
   {
    "duration": 6,
    "start_time": "2022-03-26T11:14:59.743Z"
   },
   {
    "duration": 3,
    "start_time": "2022-03-26T11:15:02.744Z"
   },
   {
    "duration": 9,
    "start_time": "2022-03-26T11:15:02.749Z"
   },
   {
    "duration": 23,
    "start_time": "2022-03-26T11:15:02.759Z"
   },
   {
    "duration": 25,
    "start_time": "2022-03-26T11:15:02.784Z"
   },
   {
    "duration": 11,
    "start_time": "2022-03-26T11:15:02.811Z"
   },
   {
    "duration": 378,
    "start_time": "2022-03-26T11:15:02.823Z"
   },
   {
    "duration": 9,
    "start_time": "2022-03-26T11:15:03.203Z"
   },
   {
    "duration": 35,
    "start_time": "2022-03-26T11:15:03.214Z"
   },
   {
    "duration": 12,
    "start_time": "2022-03-26T11:15:03.251Z"
   },
   {
    "duration": 34,
    "start_time": "2022-03-26T11:15:03.264Z"
   },
   {
    "duration": 10,
    "start_time": "2022-03-26T11:15:03.300Z"
   },
   {
    "duration": 41,
    "start_time": "2022-03-26T11:15:03.312Z"
   },
   {
    "duration": 14,
    "start_time": "2022-03-26T11:15:03.355Z"
   },
   {
    "duration": 19,
    "start_time": "2022-03-26T11:15:03.372Z"
   },
   {
    "duration": 22,
    "start_time": "2022-03-26T11:15:03.392Z"
   },
   {
    "duration": 39,
    "start_time": "2022-03-26T11:15:03.416Z"
   },
   {
    "duration": 10,
    "start_time": "2022-03-26T11:15:03.456Z"
   },
   {
    "duration": 11,
    "start_time": "2022-03-26T11:15:03.468Z"
   },
   {
    "duration": 19,
    "start_time": "2022-03-26T11:15:03.480Z"
   },
   {
    "duration": 50,
    "start_time": "2022-03-26T11:15:03.500Z"
   },
   {
    "duration": 4,
    "start_time": "2022-03-26T11:15:03.552Z"
   },
   {
    "duration": 78,
    "start_time": "2022-03-26T11:15:03.558Z"
   },
   {
    "duration": 3,
    "start_time": "2022-03-26T11:15:03.637Z"
   },
   {
    "duration": 37,
    "start_time": "2022-03-26T11:15:03.641Z"
   },
   {
    "duration": 90,
    "start_time": "2022-03-26T11:17:51.133Z"
   },
   {
    "duration": 1748,
    "start_time": "2022-03-26T11:18:27.690Z"
   },
   {
    "duration": 26,
    "start_time": "2022-03-26T11:18:36.278Z"
   },
   {
    "duration": 10,
    "start_time": "2022-03-26T11:18:52.075Z"
   },
   {
    "duration": 9,
    "start_time": "2022-03-26T11:19:38.764Z"
   },
   {
    "duration": 5,
    "start_time": "2022-03-26T11:19:50.584Z"
   },
   {
    "duration": 10,
    "start_time": "2022-03-26T11:19:55.543Z"
   },
   {
    "duration": 9,
    "start_time": "2022-03-26T11:21:33.893Z"
   },
   {
    "duration": 10,
    "start_time": "2022-03-26T11:21:55.448Z"
   },
   {
    "duration": 5,
    "start_time": "2022-03-26T11:22:05.062Z"
   },
   {
    "duration": 10,
    "start_time": "2022-03-26T11:22:07.242Z"
   },
   {
    "duration": 11,
    "start_time": "2022-03-26T11:29:31.797Z"
   },
   {
    "duration": 9,
    "start_time": "2022-03-26T11:29:39.641Z"
   },
   {
    "duration": 167,
    "start_time": "2022-03-26T15:36:13.878Z"
   },
   {
    "duration": 480,
    "start_time": "2022-03-26T15:42:47.266Z"
   },
   {
    "duration": 698,
    "start_time": "2022-03-26T15:42:58.799Z"
   },
   {
    "duration": 2,
    "start_time": "2022-03-26T15:43:03.431Z"
   },
   {
    "duration": 7,
    "start_time": "2022-03-26T15:43:03.435Z"
   },
   {
    "duration": 9,
    "start_time": "2022-03-26T15:43:03.444Z"
   },
   {
    "duration": 5,
    "start_time": "2022-03-26T15:43:03.455Z"
   },
   {
    "duration": 5,
    "start_time": "2022-03-26T15:43:03.462Z"
   },
   {
    "duration": 353,
    "start_time": "2022-03-26T15:43:03.468Z"
   },
   {
    "duration": 10,
    "start_time": "2022-03-26T15:43:03.823Z"
   },
   {
    "duration": 29,
    "start_time": "2022-03-26T15:43:03.834Z"
   },
   {
    "duration": 9,
    "start_time": "2022-03-26T15:43:03.865Z"
   },
   {
    "duration": 20,
    "start_time": "2022-03-26T15:43:03.877Z"
   },
   {
    "duration": 7,
    "start_time": "2022-03-26T15:43:03.899Z"
   },
   {
    "duration": 19,
    "start_time": "2022-03-26T15:43:03.907Z"
   },
   {
    "duration": 6,
    "start_time": "2022-03-26T15:43:03.927Z"
   },
   {
    "duration": 9,
    "start_time": "2022-03-26T15:43:03.963Z"
   },
   {
    "duration": 13,
    "start_time": "2022-03-26T15:43:03.974Z"
   },
   {
    "duration": 34,
    "start_time": "2022-03-26T15:43:03.989Z"
   },
   {
    "duration": 10,
    "start_time": "2022-03-26T15:43:04.025Z"
   },
   {
    "duration": 3,
    "start_time": "2022-03-26T15:43:04.036Z"
   },
   {
    "duration": 23,
    "start_time": "2022-03-26T15:43:04.040Z"
   },
   {
    "duration": 29,
    "start_time": "2022-03-26T15:43:04.064Z"
   },
   {
    "duration": 4,
    "start_time": "2022-03-26T15:43:04.094Z"
   },
   {
    "duration": 73,
    "start_time": "2022-03-26T15:43:04.100Z"
   },
   {
    "duration": 137,
    "start_time": "2022-03-26T15:43:04.174Z"
   },
   {
    "duration": 29,
    "start_time": "2022-03-26T15:43:04.312Z"
   },
   {
    "duration": 37,
    "start_time": "2022-03-26T15:43:04.343Z"
   },
   {
    "duration": 10,
    "start_time": "2022-03-26T15:43:04.382Z"
   },
   {
    "duration": 7,
    "start_time": "2022-03-26T15:43:04.393Z"
   },
   {
    "duration": 10,
    "start_time": "2022-03-26T15:43:04.403Z"
   },
   {
    "duration": 645,
    "start_time": "2022-03-26T15:43:04.415Z"
   },
   {
    "duration": 175,
    "start_time": "2022-03-26T15:43:23.371Z"
   },
   {
    "duration": 128,
    "start_time": "2022-03-26T15:43:32.030Z"
   },
   {
    "duration": 49,
    "start_time": "2022-03-26T15:52:51.930Z"
   },
   {
    "duration": 383,
    "start_time": "2022-03-26T15:52:54.947Z"
   },
   {
    "duration": 410,
    "start_time": "2022-03-26T15:52:55.332Z"
   },
   {
    "duration": 486,
    "start_time": "2022-03-26T15:52:55.744Z"
   },
   {
    "duration": 2,
    "start_time": "2022-03-26T15:52:56.232Z"
   },
   {
    "duration": 5,
    "start_time": "2022-03-26T15:52:56.236Z"
   },
   {
    "duration": 390,
    "start_time": "2022-03-26T15:52:56.242Z"
   },
   {
    "duration": 13,
    "start_time": "2022-03-26T15:52:56.633Z"
   },
   {
    "duration": 30,
    "start_time": "2022-03-26T15:52:56.648Z"
   },
   {
    "duration": 9,
    "start_time": "2022-03-26T15:52:56.679Z"
   },
   {
    "duration": 21,
    "start_time": "2022-03-26T15:52:56.690Z"
   },
   {
    "duration": 7,
    "start_time": "2022-03-26T15:52:56.712Z"
   },
   {
    "duration": 19,
    "start_time": "2022-03-26T15:52:56.720Z"
   },
   {
    "duration": 8,
    "start_time": "2022-03-26T15:52:56.741Z"
   },
   {
    "duration": 11,
    "start_time": "2022-03-26T15:52:56.752Z"
   },
   {
    "duration": 11,
    "start_time": "2022-03-26T15:52:56.765Z"
   },
   {
    "duration": 34,
    "start_time": "2022-03-26T15:52:56.810Z"
   },
   {
    "duration": 14,
    "start_time": "2022-03-26T15:52:56.846Z"
   },
   {
    "duration": 4,
    "start_time": "2022-03-26T15:52:56.861Z"
   },
   {
    "duration": 5,
    "start_time": "2022-03-26T15:52:56.866Z"
   },
   {
    "duration": 62,
    "start_time": "2022-03-26T15:52:56.872Z"
   },
   {
    "duration": 5,
    "start_time": "2022-03-26T15:52:56.936Z"
   },
   {
    "duration": 77,
    "start_time": "2022-03-26T15:52:56.943Z"
   },
   {
    "duration": 164,
    "start_time": "2022-03-26T15:52:57.021Z"
   },
   {
    "duration": 38,
    "start_time": "2022-03-26T15:52:57.187Z"
   },
   {
    "duration": 27,
    "start_time": "2022-03-26T15:52:57.226Z"
   },
   {
    "duration": 8,
    "start_time": "2022-03-26T15:52:57.256Z"
   },
   {
    "duration": 5,
    "start_time": "2022-03-26T15:52:57.266Z"
   },
   {
    "duration": 9,
    "start_time": "2022-03-26T15:52:57.273Z"
   },
   {
    "duration": 84,
    "start_time": "2022-03-26T15:52:57.283Z"
   },
   {
    "duration": 0,
    "start_time": "2022-03-26T15:52:57.369Z"
   },
   {
    "duration": 153,
    "start_time": "2022-03-26T15:53:08.040Z"
   },
   {
    "duration": 9,
    "start_time": "2022-03-26T15:53:10.780Z"
   },
   {
    "duration": 145,
    "start_time": "2022-03-26T15:53:17.086Z"
   },
   {
    "duration": 33,
    "start_time": "2022-03-26T15:56:01.624Z"
   },
   {
    "duration": 1434,
    "start_time": "2022-03-26T15:57:30.662Z"
   },
   {
    "duration": 6,
    "start_time": "2022-03-26T15:57:41.301Z"
   },
   {
    "duration": 18,
    "start_time": "2022-03-26T15:57:59.268Z"
   },
   {
    "duration": 12,
    "start_time": "2022-03-26T15:58:01.141Z"
   },
   {
    "duration": 8,
    "start_time": "2022-03-26T15:59:13.367Z"
   },
   {
    "duration": 15,
    "start_time": "2022-03-26T15:59:20.863Z"
   },
   {
    "duration": 8,
    "start_time": "2022-03-26T15:59:29.161Z"
   },
   {
    "duration": 10,
    "start_time": "2022-03-26T16:28:38.360Z"
   },
   {
    "duration": 7,
    "start_time": "2022-03-26T16:29:07.605Z"
   },
   {
    "duration": 13,
    "start_time": "2022-03-26T16:29:17.638Z"
   },
   {
    "duration": 12,
    "start_time": "2022-03-26T16:32:51.621Z"
   },
   {
    "duration": 2,
    "start_time": "2022-03-26T16:32:54.620Z"
   },
   {
    "duration": 4,
    "start_time": "2022-03-26T16:32:54.626Z"
   },
   {
    "duration": 5,
    "start_time": "2022-03-26T16:32:54.632Z"
   },
   {
    "duration": 5,
    "start_time": "2022-03-26T16:32:54.639Z"
   },
   {
    "duration": 9,
    "start_time": "2022-03-26T16:32:54.645Z"
   },
   {
    "duration": 380,
    "start_time": "2022-03-26T16:32:54.656Z"
   },
   {
    "duration": 9,
    "start_time": "2022-03-26T16:32:55.038Z"
   },
   {
    "duration": 27,
    "start_time": "2022-03-26T16:32:55.049Z"
   },
   {
    "duration": 9,
    "start_time": "2022-03-26T16:32:55.077Z"
   },
   {
    "duration": 23,
    "start_time": "2022-03-26T16:32:55.087Z"
   },
   {
    "duration": 7,
    "start_time": "2022-03-26T16:32:55.111Z"
   },
   {
    "duration": 23,
    "start_time": "2022-03-26T16:32:55.119Z"
   },
   {
    "duration": 9,
    "start_time": "2022-03-26T16:32:55.143Z"
   },
   {
    "duration": 32,
    "start_time": "2022-03-26T16:32:55.153Z"
   },
   {
    "duration": 19,
    "start_time": "2022-03-26T16:32:55.188Z"
   },
   {
    "duration": 42,
    "start_time": "2022-03-26T16:32:55.208Z"
   },
   {
    "duration": 13,
    "start_time": "2022-03-26T16:32:55.253Z"
   },
   {
    "duration": 3,
    "start_time": "2022-03-26T16:32:55.268Z"
   },
   {
    "duration": 11,
    "start_time": "2022-03-26T16:32:55.273Z"
   },
   {
    "duration": 40,
    "start_time": "2022-03-26T16:32:55.286Z"
   },
   {
    "duration": 6,
    "start_time": "2022-03-26T16:32:55.327Z"
   },
   {
    "duration": 26,
    "start_time": "2022-03-26T16:32:55.335Z"
   },
   {
    "duration": 169,
    "start_time": "2022-03-26T16:32:55.362Z"
   },
   {
    "duration": 32,
    "start_time": "2022-03-26T16:32:55.533Z"
   },
   {
    "duration": 48,
    "start_time": "2022-03-26T16:32:55.567Z"
   },
   {
    "duration": 11,
    "start_time": "2022-03-26T16:32:55.616Z"
   },
   {
    "duration": 7,
    "start_time": "2022-03-26T16:32:55.629Z"
   },
   {
    "duration": 19,
    "start_time": "2022-03-26T16:32:55.637Z"
   },
   {
    "duration": 10,
    "start_time": "2022-03-26T16:32:55.657Z"
   },
   {
    "duration": 181,
    "start_time": "2022-03-26T16:32:55.669Z"
   },
   {
    "duration": 158,
    "start_time": "2022-03-26T16:32:55.851Z"
   },
   {
    "duration": 19,
    "start_time": "2022-03-26T16:32:56.010Z"
   },
   {
    "duration": 15,
    "start_time": "2022-03-26T16:32:56.030Z"
   },
   {
    "duration": 9,
    "start_time": "2022-03-26T16:32:56.046Z"
   },
   {
    "duration": 13,
    "start_time": "2022-03-26T16:32:56.057Z"
   },
   {
    "duration": 38,
    "start_time": "2022-03-26T16:32:56.072Z"
   },
   {
    "duration": 80,
    "start_time": "2022-03-27T16:54:46.661Z"
   },
   {
    "duration": 506,
    "start_time": "2022-03-27T16:54:53.110Z"
   },
   {
    "duration": 52083,
    "start_time": "2022-03-27T16:54:53.619Z"
   },
   {
    "duration": 909,
    "start_time": "2022-03-27T16:55:45.707Z"
   },
   {
    "duration": 7,
    "start_time": "2022-03-27T16:55:46.620Z"
   },
   {
    "duration": 20,
    "start_time": "2022-03-27T16:55:46.629Z"
   },
   {
    "duration": 718,
    "start_time": "2022-03-27T16:55:46.651Z"
   },
   {
    "duration": 30,
    "start_time": "2022-03-27T16:55:47.375Z"
   },
   {
    "duration": 72,
    "start_time": "2022-03-27T16:55:47.408Z"
   },
   {
    "duration": 20,
    "start_time": "2022-03-27T16:55:47.483Z"
   },
   {
    "duration": 47,
    "start_time": "2022-03-27T16:55:47.508Z"
   },
   {
    "duration": 27,
    "start_time": "2022-03-27T16:55:47.558Z"
   },
   {
    "duration": 50,
    "start_time": "2022-03-27T16:55:47.587Z"
   },
   {
    "duration": 42,
    "start_time": "2022-03-27T16:55:47.640Z"
   },
   {
    "duration": 33,
    "start_time": "2022-03-27T16:55:47.685Z"
   },
   {
    "duration": 26,
    "start_time": "2022-03-27T16:55:47.724Z"
   },
   {
    "duration": 67,
    "start_time": "2022-03-27T16:55:47.758Z"
   },
   {
    "duration": 35,
    "start_time": "2022-03-27T16:55:47.828Z"
   },
   {
    "duration": 21,
    "start_time": "2022-03-27T16:55:47.866Z"
   },
   {
    "duration": 15,
    "start_time": "2022-03-27T16:55:47.889Z"
   },
   {
    "duration": 104,
    "start_time": "2022-03-27T16:55:47.907Z"
   },
   {
    "duration": 9,
    "start_time": "2022-03-27T16:55:48.018Z"
   },
   {
    "duration": 62,
    "start_time": "2022-03-27T16:55:48.030Z"
   },
   {
    "duration": 357,
    "start_time": "2022-03-27T16:55:48.100Z"
   },
   {
    "duration": 76,
    "start_time": "2022-03-27T16:55:48.461Z"
   },
   {
    "duration": 94,
    "start_time": "2022-03-27T16:55:48.544Z"
   },
   {
    "duration": 66,
    "start_time": "2022-03-27T16:55:48.642Z"
   },
   {
    "duration": 36,
    "start_time": "2022-03-27T16:55:48.711Z"
   },
   {
    "duration": 46,
    "start_time": "2022-03-27T16:55:48.755Z"
   },
   {
    "duration": 60,
    "start_time": "2022-03-27T16:55:48.804Z"
   },
   {
    "duration": 26,
    "start_time": "2022-03-27T16:55:48.867Z"
   },
   {
    "duration": 328,
    "start_time": "2022-03-27T16:55:48.897Z"
   },
   {
    "duration": 315,
    "start_time": "2022-03-27T16:55:49.228Z"
   },
   {
    "duration": 48,
    "start_time": "2022-03-27T16:55:49.545Z"
   },
   {
    "duration": 21,
    "start_time": "2022-03-27T16:55:49.595Z"
   },
   {
    "duration": 16,
    "start_time": "2022-03-27T16:55:49.619Z"
   },
   {
    "duration": 14,
    "start_time": "2022-03-27T16:55:49.637Z"
   },
   {
    "duration": 50,
    "start_time": "2022-03-27T16:55:49.654Z"
   },
   {
    "duration": 98,
    "start_time": "2022-03-27T16:56:47.359Z"
   },
   {
    "duration": 12,
    "start_time": "2022-03-27T16:56:54.511Z"
   },
   {
    "duration": 16,
    "start_time": "2022-03-27T16:57:01.657Z"
   },
   {
    "duration": 15,
    "start_time": "2022-03-27T17:06:38.464Z"
   },
   {
    "duration": 68,
    "start_time": "2022-03-27T17:16:01.530Z"
   },
   {
    "duration": 61,
    "start_time": "2022-03-27T17:16:25.286Z"
   },
   {
    "duration": 56,
    "start_time": "2022-03-27T17:17:56.774Z"
   },
   {
    "duration": 12,
    "start_time": "2022-03-27T17:20:12.967Z"
   },
   {
    "duration": 11,
    "start_time": "2022-03-27T17:22:38.714Z"
   },
   {
    "duration": 4,
    "start_time": "2022-03-27T17:22:47.525Z"
   },
   {
    "duration": 8,
    "start_time": "2022-03-27T17:22:47.531Z"
   },
   {
    "duration": 8,
    "start_time": "2022-03-27T17:22:47.541Z"
   },
   {
    "duration": 7,
    "start_time": "2022-03-27T17:22:47.552Z"
   },
   {
    "duration": 11,
    "start_time": "2022-03-27T17:22:47.561Z"
   },
   {
    "duration": 517,
    "start_time": "2022-03-27T17:22:47.574Z"
   },
   {
    "duration": 15,
    "start_time": "2022-03-27T17:22:48.093Z"
   },
   {
    "duration": 36,
    "start_time": "2022-03-27T17:22:48.110Z"
   },
   {
    "duration": 38,
    "start_time": "2022-03-27T17:22:48.148Z"
   },
   {
    "duration": 33,
    "start_time": "2022-03-27T17:22:48.190Z"
   },
   {
    "duration": 11,
    "start_time": "2022-03-27T17:22:48.225Z"
   },
   {
    "duration": 64,
    "start_time": "2022-03-27T17:22:48.239Z"
   },
   {
    "duration": 13,
    "start_time": "2022-03-27T17:22:48.305Z"
   },
   {
    "duration": 16,
    "start_time": "2022-03-27T17:22:48.320Z"
   },
   {
    "duration": 54,
    "start_time": "2022-03-27T17:22:48.339Z"
   },
   {
    "duration": 41,
    "start_time": "2022-03-27T17:22:48.396Z"
   },
   {
    "duration": 13,
    "start_time": "2022-03-27T17:22:48.440Z"
   },
   {
    "duration": 4,
    "start_time": "2022-03-27T17:22:48.484Z"
   },
   {
    "duration": 13,
    "start_time": "2022-03-27T17:22:48.490Z"
   },
   {
    "duration": 47,
    "start_time": "2022-03-27T17:22:48.505Z"
   },
   {
    "duration": 33,
    "start_time": "2022-03-27T17:22:48.554Z"
   },
   {
    "duration": 36,
    "start_time": "2022-03-27T17:22:48.589Z"
   },
   {
    "duration": 258,
    "start_time": "2022-03-27T17:22:48.628Z"
   },
   {
    "duration": 39,
    "start_time": "2022-03-27T17:22:48.889Z"
   },
   {
    "duration": 64,
    "start_time": "2022-03-27T17:22:48.931Z"
   },
   {
    "duration": 14,
    "start_time": "2022-03-27T17:22:48.998Z"
   },
   {
    "duration": 9,
    "start_time": "2022-03-27T17:22:49.014Z"
   },
   {
    "duration": 62,
    "start_time": "2022-03-27T17:22:49.027Z"
   },
   {
    "duration": 30,
    "start_time": "2022-03-27T17:22:49.091Z"
   },
   {
    "duration": 16,
    "start_time": "2022-03-27T17:22:49.123Z"
   },
   {
    "duration": 271,
    "start_time": "2022-03-27T17:22:49.141Z"
   },
   {
    "duration": 251,
    "start_time": "2022-03-27T17:22:49.415Z"
   },
   {
    "duration": 32,
    "start_time": "2022-03-27T17:22:49.669Z"
   },
   {
    "duration": 21,
    "start_time": "2022-03-27T17:22:49.703Z"
   },
   {
    "duration": 11,
    "start_time": "2022-03-27T17:22:49.726Z"
   },
   {
    "duration": 48,
    "start_time": "2022-03-27T17:22:49.740Z"
   },
   {
    "duration": 18,
    "start_time": "2022-03-27T17:22:49.791Z"
   },
   {
    "duration": 15,
    "start_time": "2022-03-27T17:22:49.812Z"
   },
   {
    "duration": 107,
    "start_time": "2022-03-27T17:22:49.829Z"
   },
   {
    "duration": 13,
    "start_time": "2022-03-27T17:22:49.939Z"
   },
   {
    "duration": 35,
    "start_time": "2022-03-27T17:22:49.954Z"
   },
   {
    "duration": 38,
    "start_time": "2022-03-27T17:23:07.590Z"
   },
   {
    "duration": 41,
    "start_time": "2022-03-27T17:23:29.304Z"
   },
   {
    "duration": 56,
    "start_time": "2022-03-27T17:24:19.926Z"
   },
   {
    "duration": 41,
    "start_time": "2022-03-27T17:25:36.577Z"
   },
   {
    "duration": 16,
    "start_time": "2022-03-27T17:26:24.955Z"
   },
   {
    "duration": 4,
    "start_time": "2022-03-27T17:26:52.783Z"
   },
   {
    "duration": 5272,
    "start_time": "2022-03-27T17:26:52.790Z"
   },
   {
    "duration": 8658,
    "start_time": "2022-03-27T17:26:58.064Z"
   },
   {
    "duration": 6308,
    "start_time": "2022-03-27T17:27:06.725Z"
   },
   {
    "duration": 9461,
    "start_time": "2022-03-27T17:27:13.036Z"
   },
   {
    "duration": 10804,
    "start_time": "2022-03-27T17:27:22.500Z"
   },
   {
    "duration": 6782,
    "start_time": "2022-03-27T17:27:33.306Z"
   },
   {
    "duration": 6922,
    "start_time": "2022-03-27T17:27:40.091Z"
   },
   {
    "duration": 15,
    "start_time": "2022-03-27T17:27:47.015Z"
   },
   {
    "duration": 58,
    "start_time": "2022-03-27T17:27:47.032Z"
   },
   {
    "duration": 14,
    "start_time": "2022-03-27T17:27:47.092Z"
   },
   {
    "duration": 59,
    "start_time": "2022-03-27T17:27:47.108Z"
   },
   {
    "duration": 18,
    "start_time": "2022-03-27T17:27:47.184Z"
   },
   {
    "duration": 22,
    "start_time": "2022-03-27T17:27:47.212Z"
   },
   {
    "duration": 54,
    "start_time": "2022-03-27T17:27:47.238Z"
   },
   {
    "duration": 44,
    "start_time": "2022-03-27T17:27:47.295Z"
   },
   {
    "duration": 14,
    "start_time": "2022-03-27T17:27:47.341Z"
   },
   {
    "duration": 5,
    "start_time": "2022-03-27T17:27:47.383Z"
   },
   {
    "duration": 10,
    "start_time": "2022-03-27T17:27:47.390Z"
   },
   {
    "duration": 47,
    "start_time": "2022-03-27T17:27:47.402Z"
   },
   {
    "duration": 33,
    "start_time": "2022-03-27T17:27:47.451Z"
   },
   {
    "duration": 31,
    "start_time": "2022-03-27T17:27:47.486Z"
   },
   {
    "duration": 310,
    "start_time": "2022-03-27T17:27:47.519Z"
   },
   {
    "duration": 74,
    "start_time": "2022-03-27T17:27:47.832Z"
   },
   {
    "duration": 38,
    "start_time": "2022-03-27T17:27:47.908Z"
   },
   {
    "duration": 41,
    "start_time": "2022-03-27T17:27:47.949Z"
   },
   {
    "duration": 14,
    "start_time": "2022-03-27T17:27:47.992Z"
   },
   {
    "duration": 29,
    "start_time": "2022-03-27T17:27:48.009Z"
   },
   {
    "duration": 50,
    "start_time": "2022-03-27T17:27:48.041Z"
   },
   {
    "duration": 19,
    "start_time": "2022-03-27T17:27:48.094Z"
   },
   {
    "duration": 320,
    "start_time": "2022-03-27T17:27:48.116Z"
   },
   {
    "duration": 344,
    "start_time": "2022-03-27T17:27:48.439Z"
   },
   {
    "duration": 28,
    "start_time": "2022-03-27T17:27:48.786Z"
   },
   {
    "duration": 21,
    "start_time": "2022-03-27T17:27:48.816Z"
   },
   {
    "duration": 48,
    "start_time": "2022-03-27T17:27:48.839Z"
   },
   {
    "duration": 15,
    "start_time": "2022-03-27T17:27:48.890Z"
   },
   {
    "duration": 22,
    "start_time": "2022-03-27T17:27:48.907Z"
   },
   {
    "duration": 55,
    "start_time": "2022-03-27T17:27:48.931Z"
   },
   {
    "duration": 77,
    "start_time": "2022-03-27T17:27:48.988Z"
   },
   {
    "duration": 48,
    "start_time": "2022-03-27T17:27:49.083Z"
   },
   {
    "duration": 15,
    "start_time": "2022-03-27T17:27:49.136Z"
   },
   {
    "duration": 42,
    "start_time": "2022-03-27T17:29:44.665Z"
   },
   {
    "duration": 4,
    "start_time": "2022-03-27T17:30:23.330Z"
   },
   {
    "duration": 47,
    "start_time": "2022-03-28T13:19:21.187Z"
   },
   {
    "duration": 353,
    "start_time": "2022-03-28T13:19:24.588Z"
   },
   {
    "duration": 435,
    "start_time": "2022-03-28T13:19:24.943Z"
   },
   {
    "duration": 487,
    "start_time": "2022-03-28T13:19:25.380Z"
   },
   {
    "duration": 3,
    "start_time": "2022-03-28T13:19:25.869Z"
   },
   {
    "duration": 5,
    "start_time": "2022-03-28T13:19:25.873Z"
   },
   {
    "duration": 378,
    "start_time": "2022-03-28T13:19:25.879Z"
   },
   {
    "duration": 14,
    "start_time": "2022-03-28T13:19:26.258Z"
   },
   {
    "duration": 26,
    "start_time": "2022-03-28T13:19:26.273Z"
   },
   {
    "duration": 8,
    "start_time": "2022-03-28T13:19:26.300Z"
   },
   {
    "duration": 21,
    "start_time": "2022-03-28T13:19:26.311Z"
   },
   {
    "duration": 7,
    "start_time": "2022-03-28T13:19:26.337Z"
   },
   {
    "duration": 20,
    "start_time": "2022-03-28T13:19:26.345Z"
   },
   {
    "duration": 7,
    "start_time": "2022-03-28T13:19:26.366Z"
   },
   {
    "duration": 12,
    "start_time": "2022-03-28T13:19:26.374Z"
   },
   {
    "duration": 12,
    "start_time": "2022-03-28T13:19:26.387Z"
   },
   {
    "duration": 58,
    "start_time": "2022-03-28T13:19:26.400Z"
   },
   {
    "duration": 12,
    "start_time": "2022-03-28T13:19:26.460Z"
   },
   {
    "duration": 2,
    "start_time": "2022-03-28T13:19:26.474Z"
   },
   {
    "duration": 5,
    "start_time": "2022-03-28T13:19:26.478Z"
   },
   {
    "duration": 53,
    "start_time": "2022-03-28T13:19:26.484Z"
   },
   {
    "duration": 6,
    "start_time": "2022-03-28T13:19:26.539Z"
   },
   {
    "duration": 21,
    "start_time": "2022-03-28T13:19:26.547Z"
   },
   {
    "duration": 158,
    "start_time": "2022-03-28T13:19:26.570Z"
   },
   {
    "duration": 33,
    "start_time": "2022-03-28T13:19:26.729Z"
   },
   {
    "duration": 26,
    "start_time": "2022-03-28T13:19:26.764Z"
   },
   {
    "duration": 10,
    "start_time": "2022-03-28T13:19:26.792Z"
   },
   {
    "duration": 6,
    "start_time": "2022-03-28T13:19:26.804Z"
   },
   {
    "duration": 17,
    "start_time": "2022-03-28T13:19:26.838Z"
   },
   {
    "duration": 15,
    "start_time": "2022-03-28T13:19:26.856Z"
   },
   {
    "duration": 10,
    "start_time": "2022-03-28T13:19:26.872Z"
   },
   {
    "duration": 177,
    "start_time": "2022-03-28T13:19:26.883Z"
   },
   {
    "duration": 154,
    "start_time": "2022-03-28T13:19:27.062Z"
   },
   {
    "duration": 31,
    "start_time": "2022-03-28T13:19:27.218Z"
   },
   {
    "duration": 15,
    "start_time": "2022-03-28T13:19:27.251Z"
   },
   {
    "duration": 9,
    "start_time": "2022-03-28T13:19:27.267Z"
   },
   {
    "duration": 10,
    "start_time": "2022-03-28T13:19:27.277Z"
   },
   {
    "duration": 13,
    "start_time": "2022-03-28T13:19:27.289Z"
   },
   {
    "duration": 35,
    "start_time": "2022-03-28T13:19:27.303Z"
   },
   {
    "duration": 47,
    "start_time": "2022-03-28T13:19:27.340Z"
   },
   {
    "duration": 31,
    "start_time": "2022-03-28T13:19:27.388Z"
   },
   {
    "duration": 10,
    "start_time": "2022-03-28T13:19:27.438Z"
   },
   {
    "duration": 61,
    "start_time": "2022-03-28T13:19:27.449Z"
   },
   {
    "duration": 20,
    "start_time": "2022-03-28T13:19:41.856Z"
   },
   {
    "duration": 7,
    "start_time": "2022-03-28T13:20:00.868Z"
   },
   {
    "duration": 24,
    "start_time": "2022-03-28T13:21:40.603Z"
   },
   {
    "duration": 7,
    "start_time": "2022-03-28T13:21:45.051Z"
   },
   {
    "duration": 22,
    "start_time": "2022-03-28T13:22:48.176Z"
   },
   {
    "duration": 7,
    "start_time": "2022-03-28T13:22:49.926Z"
   },
   {
    "duration": 26,
    "start_time": "2022-03-28T13:23:37.133Z"
   },
   {
    "duration": 7,
    "start_time": "2022-03-28T13:23:38.860Z"
   },
   {
    "duration": 9,
    "start_time": "2022-03-28T13:30:55.137Z"
   },
   {
    "duration": 8,
    "start_time": "2022-03-28T13:31:08.130Z"
   },
   {
    "duration": 7,
    "start_time": "2022-03-28T13:31:25.297Z"
   },
   {
    "duration": 10,
    "start_time": "2022-03-28T13:31:48.570Z"
   },
   {
    "duration": 11,
    "start_time": "2022-03-28T13:32:37.770Z"
   },
   {
    "duration": 8,
    "start_time": "2022-03-28T13:33:53.260Z"
   },
   {
    "duration": 5,
    "start_time": "2022-03-28T13:34:36.123Z"
   },
   {
    "duration": 7,
    "start_time": "2022-03-28T13:34:40.566Z"
   },
   {
    "duration": 7,
    "start_time": "2022-03-28T13:34:46.786Z"
   },
   {
    "duration": 8,
    "start_time": "2022-03-28T13:34:51.453Z"
   },
   {
    "duration": 8,
    "start_time": "2022-03-28T13:42:07.339Z"
   },
   {
    "duration": 141,
    "start_time": "2022-03-28T17:10:53.517Z"
   },
   {
    "duration": 48,
    "start_time": "2022-03-28T17:11:16.595Z"
   },
   {
    "duration": 440,
    "start_time": "2022-03-28T17:11:20.045Z"
   },
   {
    "duration": 478,
    "start_time": "2022-03-28T17:11:20.488Z"
   },
   {
    "duration": 579,
    "start_time": "2022-03-28T17:11:20.968Z"
   },
   {
    "duration": 3,
    "start_time": "2022-03-28T17:11:21.549Z"
   },
   {
    "duration": 27,
    "start_time": "2022-03-28T17:11:21.554Z"
   },
   {
    "duration": 470,
    "start_time": "2022-03-28T17:11:21.582Z"
   },
   {
    "duration": 15,
    "start_time": "2022-03-28T17:11:22.054Z"
   },
   {
    "duration": 32,
    "start_time": "2022-03-28T17:11:22.071Z"
   },
   {
    "duration": 21,
    "start_time": "2022-03-28T17:11:22.105Z"
   },
   {
    "duration": 40,
    "start_time": "2022-03-28T17:11:22.128Z"
   },
   {
    "duration": 10,
    "start_time": "2022-03-28T17:11:22.170Z"
   },
   {
    "duration": 44,
    "start_time": "2022-03-28T17:11:22.182Z"
   },
   {
    "duration": 9,
    "start_time": "2022-03-28T17:11:22.229Z"
   },
   {
    "duration": 30,
    "start_time": "2022-03-28T17:11:22.241Z"
   },
   {
    "duration": 31,
    "start_time": "2022-03-28T17:11:22.274Z"
   },
   {
    "duration": 64,
    "start_time": "2022-03-28T17:11:22.307Z"
   },
   {
    "duration": 14,
    "start_time": "2022-03-28T17:11:22.373Z"
   },
   {
    "duration": 6,
    "start_time": "2022-03-28T17:11:22.389Z"
   },
   {
    "duration": 8,
    "start_time": "2022-03-28T17:11:22.397Z"
   },
   {
    "duration": 49,
    "start_time": "2022-03-28T17:11:22.406Z"
   },
   {
    "duration": 5,
    "start_time": "2022-03-28T17:11:22.457Z"
   },
   {
    "duration": 26,
    "start_time": "2022-03-28T17:11:22.464Z"
   },
   {
    "duration": 192,
    "start_time": "2022-03-28T17:11:22.492Z"
   },
   {
    "duration": 46,
    "start_time": "2022-03-28T17:11:22.686Z"
   },
   {
    "duration": 27,
    "start_time": "2022-03-28T17:11:22.734Z"
   },
   {
    "duration": 10,
    "start_time": "2022-03-28T17:11:22.763Z"
   },
   {
    "duration": 9,
    "start_time": "2022-03-28T17:11:22.775Z"
   },
   {
    "duration": 26,
    "start_time": "2022-03-28T17:11:22.786Z"
   },
   {
    "duration": 15,
    "start_time": "2022-03-28T17:11:22.831Z"
   },
   {
    "duration": 10,
    "start_time": "2022-03-28T17:11:22.848Z"
   },
   {
    "duration": 195,
    "start_time": "2022-03-28T17:11:22.860Z"
   },
   {
    "duration": 171,
    "start_time": "2022-03-28T17:11:23.057Z"
   },
   {
    "duration": 21,
    "start_time": "2022-03-28T17:11:23.230Z"
   },
   {
    "duration": 17,
    "start_time": "2022-03-28T17:11:23.253Z"
   },
   {
    "duration": 9,
    "start_time": "2022-03-28T17:11:23.272Z"
   },
   {
    "duration": 10,
    "start_time": "2022-03-28T17:11:23.283Z"
   },
   {
    "duration": 45,
    "start_time": "2022-03-28T17:11:23.295Z"
   },
   {
    "duration": 13,
    "start_time": "2022-03-28T17:11:23.342Z"
   },
   {
    "duration": 51,
    "start_time": "2022-03-28T17:11:23.357Z"
   },
   {
    "duration": 52,
    "start_time": "2022-03-28T17:11:23.411Z"
   },
   {
    "duration": 12,
    "start_time": "2022-03-28T17:11:23.468Z"
   },
   {
    "duration": 30,
    "start_time": "2022-03-28T17:11:23.482Z"
   },
   {
    "duration": 22,
    "start_time": "2022-03-28T17:11:23.514Z"
   },
   {
    "duration": 14,
    "start_time": "2022-03-28T17:11:23.538Z"
   },
   {
    "duration": 11,
    "start_time": "2022-03-28T17:11:23.554Z"
   },
   {
    "duration": 3,
    "start_time": "2022-03-28T17:13:38.801Z"
   },
   {
    "duration": 5,
    "start_time": "2022-03-28T17:13:38.806Z"
   },
   {
    "duration": 5,
    "start_time": "2022-03-28T17:13:38.813Z"
   },
   {
    "duration": 3,
    "start_time": "2022-03-28T17:13:38.860Z"
   },
   {
    "duration": 5,
    "start_time": "2022-03-28T17:13:38.866Z"
   },
   {
    "duration": 441,
    "start_time": "2022-03-28T17:13:38.872Z"
   },
   {
    "duration": 12,
    "start_time": "2022-03-28T17:13:39.320Z"
   },
   {
    "duration": 38,
    "start_time": "2022-03-28T17:13:39.340Z"
   },
   {
    "duration": 14,
    "start_time": "2022-03-28T17:13:39.380Z"
   },
   {
    "duration": 38,
    "start_time": "2022-03-28T17:13:39.396Z"
   },
   {
    "duration": 10,
    "start_time": "2022-03-28T17:13:39.436Z"
   },
   {
    "duration": 24,
    "start_time": "2022-03-28T17:13:39.448Z"
   },
   {
    "duration": 11,
    "start_time": "2022-03-28T17:13:39.474Z"
   },
   {
    "duration": 13,
    "start_time": "2022-03-28T17:13:39.488Z"
   },
   {
    "duration": 34,
    "start_time": "2022-03-28T17:13:39.503Z"
   },
   {
    "duration": 34,
    "start_time": "2022-03-28T17:13:39.539Z"
   },
   {
    "duration": 11,
    "start_time": "2022-03-28T17:13:39.577Z"
   },
   {
    "duration": 4,
    "start_time": "2022-03-28T17:13:39.590Z"
   },
   {
    "duration": 6,
    "start_time": "2022-03-28T17:13:39.596Z"
   },
   {
    "duration": 32,
    "start_time": "2022-03-28T17:13:39.632Z"
   },
   {
    "duration": 6,
    "start_time": "2022-03-28T17:13:39.666Z"
   },
   {
    "duration": 30,
    "start_time": "2022-03-28T17:13:39.674Z"
   },
   {
    "duration": 198,
    "start_time": "2022-03-28T17:13:39.707Z"
   },
   {
    "duration": 42,
    "start_time": "2022-03-28T17:13:39.907Z"
   },
   {
    "duration": 28,
    "start_time": "2022-03-28T17:13:39.951Z"
   },
   {
    "duration": 13,
    "start_time": "2022-03-28T17:13:39.981Z"
   },
   {
    "duration": 7,
    "start_time": "2022-03-28T17:13:39.996Z"
   },
   {
    "duration": 21,
    "start_time": "2022-03-28T17:13:40.032Z"
   },
   {
    "duration": 13,
    "start_time": "2022-03-28T17:13:40.055Z"
   },
   {
    "duration": 12,
    "start_time": "2022-03-28T17:13:40.070Z"
   },
   {
    "duration": 205,
    "start_time": "2022-03-28T17:13:40.084Z"
   },
   {
    "duration": 3104,
    "start_time": "2022-03-28T17:13:40.291Z"
   },
   {
    "duration": 0,
    "start_time": "2022-03-28T17:13:43.397Z"
   },
   {
    "duration": 0,
    "start_time": "2022-03-28T17:13:43.399Z"
   },
   {
    "duration": 0,
    "start_time": "2022-03-28T17:13:43.400Z"
   },
   {
    "duration": 0,
    "start_time": "2022-03-28T17:13:43.401Z"
   },
   {
    "duration": 0,
    "start_time": "2022-03-28T17:13:43.402Z"
   },
   {
    "duration": 0,
    "start_time": "2022-03-28T17:13:43.403Z"
   },
   {
    "duration": 0,
    "start_time": "2022-03-28T17:13:43.404Z"
   },
   {
    "duration": 0,
    "start_time": "2022-03-28T17:13:43.405Z"
   },
   {
    "duration": 0,
    "start_time": "2022-03-28T17:13:43.407Z"
   },
   {
    "duration": 0,
    "start_time": "2022-03-28T17:13:43.408Z"
   },
   {
    "duration": 0,
    "start_time": "2022-03-28T17:13:43.409Z"
   },
   {
    "duration": 0,
    "start_time": "2022-03-28T17:13:43.410Z"
   },
   {
    "duration": 0,
    "start_time": "2022-03-28T17:13:43.411Z"
   },
   {
    "duration": 148,
    "start_time": "2022-03-28T17:13:58.619Z"
   },
   {
    "duration": 195,
    "start_time": "2022-03-28T17:14:23.996Z"
   },
   {
    "duration": 140,
    "start_time": "2022-03-28T17:14:29.898Z"
   },
   {
    "duration": 2,
    "start_time": "2022-03-28T17:14:48.046Z"
   },
   {
    "duration": 14,
    "start_time": "2022-03-28T17:14:48.050Z"
   },
   {
    "duration": 11,
    "start_time": "2022-03-28T17:14:48.066Z"
   },
   {
    "duration": 2,
    "start_time": "2022-03-28T17:14:48.091Z"
   },
   {
    "duration": 5,
    "start_time": "2022-03-28T17:14:48.096Z"
   },
   {
    "duration": 436,
    "start_time": "2022-03-28T17:14:48.103Z"
   },
   {
    "duration": 11,
    "start_time": "2022-03-28T17:14:48.541Z"
   },
   {
    "duration": 28,
    "start_time": "2022-03-28T17:14:48.554Z"
   },
   {
    "duration": 10,
    "start_time": "2022-03-28T17:14:48.584Z"
   },
   {
    "duration": 47,
    "start_time": "2022-03-28T17:14:48.595Z"
   },
   {
    "duration": 8,
    "start_time": "2022-03-28T17:14:48.644Z"
   },
   {
    "duration": 26,
    "start_time": "2022-03-28T17:14:48.653Z"
   },
   {
    "duration": 8,
    "start_time": "2022-03-28T17:14:48.681Z"
   },
   {
    "duration": 100,
    "start_time": "2022-03-28T17:14:48.691Z"
   },
   {
    "duration": 14,
    "start_time": "2022-03-28T17:14:48.793Z"
   },
   {
    "duration": 48,
    "start_time": "2022-03-28T17:14:48.809Z"
   },
   {
    "duration": 13,
    "start_time": "2022-03-28T17:14:48.860Z"
   },
   {
    "duration": 4,
    "start_time": "2022-03-28T17:14:48.875Z"
   },
   {
    "duration": 5,
    "start_time": "2022-03-28T17:14:48.881Z"
   },
   {
    "duration": 60,
    "start_time": "2022-03-28T17:14:48.888Z"
   },
   {
    "duration": 5,
    "start_time": "2022-03-28T17:14:48.950Z"
   },
   {
    "duration": 32,
    "start_time": "2022-03-28T17:14:48.957Z"
   },
   {
    "duration": 175,
    "start_time": "2022-03-28T17:14:48.991Z"
   },
   {
    "duration": 32,
    "start_time": "2022-03-28T17:14:49.168Z"
   },
   {
    "duration": 49,
    "start_time": "2022-03-28T17:14:49.202Z"
   },
   {
    "duration": 11,
    "start_time": "2022-03-28T17:14:49.252Z"
   },
   {
    "duration": 17,
    "start_time": "2022-03-28T17:14:49.265Z"
   },
   {
    "duration": 37,
    "start_time": "2022-03-28T17:14:49.284Z"
   },
   {
    "duration": 13,
    "start_time": "2022-03-28T17:14:49.323Z"
   },
   {
    "duration": 14,
    "start_time": "2022-03-28T17:14:49.338Z"
   },
   {
    "duration": 171,
    "start_time": "2022-03-28T17:14:49.354Z"
   },
   {
    "duration": 148,
    "start_time": "2022-03-28T17:14:49.526Z"
   },
   {
    "duration": 21,
    "start_time": "2022-03-28T17:14:49.677Z"
   },
   {
    "duration": 33,
    "start_time": "2022-03-28T17:14:49.700Z"
   },
   {
    "duration": 9,
    "start_time": "2022-03-28T17:14:49.735Z"
   },
   {
    "duration": 10,
    "start_time": "2022-03-28T17:14:49.746Z"
   },
   {
    "duration": 27,
    "start_time": "2022-03-28T17:14:49.758Z"
   },
   {
    "duration": 21,
    "start_time": "2022-03-28T17:14:49.788Z"
   },
   {
    "duration": 61,
    "start_time": "2022-03-28T17:14:49.811Z"
   },
   {
    "duration": 35,
    "start_time": "2022-03-28T17:14:49.874Z"
   },
   {
    "duration": 24,
    "start_time": "2022-03-28T17:14:49.911Z"
   },
   {
    "duration": 14,
    "start_time": "2022-03-28T17:14:49.938Z"
   },
   {
    "duration": 0,
    "start_time": "2022-03-28T17:14:49.954Z"
   },
   {
    "duration": 0,
    "start_time": "2022-03-28T17:14:49.956Z"
   },
   {
    "duration": 0,
    "start_time": "2022-03-28T17:14:49.957Z"
   },
   {
    "duration": 24,
    "start_time": "2022-03-28T17:15:01.454Z"
   },
   {
    "duration": 32,
    "start_time": "2022-03-28T17:15:55.991Z"
   },
   {
    "duration": 29,
    "start_time": "2022-03-28T17:16:04.507Z"
   },
   {
    "duration": 6,
    "start_time": "2022-03-28T17:16:06.967Z"
   },
   {
    "duration": 13,
    "start_time": "2022-03-28T17:16:11.958Z"
   },
   {
    "duration": 8,
    "start_time": "2022-03-28T17:16:23.791Z"
   },
   {
    "duration": 28,
    "start_time": "2022-03-28T17:16:46.287Z"
   },
   {
    "duration": 6,
    "start_time": "2022-03-28T17:16:47.725Z"
   },
   {
    "duration": 12,
    "start_time": "2022-03-28T17:16:54.786Z"
   },
   {
    "duration": 434,
    "start_time": "2022-03-28T17:17:56.198Z"
   },
   {
    "duration": 289,
    "start_time": "2022-03-28T17:17:56.634Z"
   },
   {
    "duration": 521,
    "start_time": "2022-03-28T17:17:56.925Z"
   },
   {
    "duration": 3,
    "start_time": "2022-03-28T17:17:57.448Z"
   },
   {
    "duration": 4,
    "start_time": "2022-03-28T17:17:57.453Z"
   },
   {
    "duration": 456,
    "start_time": "2022-03-28T17:17:57.458Z"
   },
   {
    "duration": 17,
    "start_time": "2022-03-28T17:17:57.916Z"
   },
   {
    "duration": 28,
    "start_time": "2022-03-28T17:17:57.934Z"
   },
   {
    "duration": 10,
    "start_time": "2022-03-28T17:17:57.964Z"
   },
   {
    "duration": 27,
    "start_time": "2022-03-28T17:17:57.976Z"
   },
   {
    "duration": 28,
    "start_time": "2022-03-28T17:17:58.005Z"
   },
   {
    "duration": 22,
    "start_time": "2022-03-28T17:17:58.036Z"
   },
   {
    "duration": 9,
    "start_time": "2022-03-28T17:17:58.060Z"
   },
   {
    "duration": 17,
    "start_time": "2022-03-28T17:17:58.074Z"
   },
   {
    "duration": 43,
    "start_time": "2022-03-28T17:17:58.094Z"
   },
   {
    "duration": 36,
    "start_time": "2022-03-28T17:17:58.139Z"
   },
   {
    "duration": 13,
    "start_time": "2022-03-28T17:17:58.177Z"
   },
   {
    "duration": 4,
    "start_time": "2022-03-28T17:17:58.192Z"
   },
   {
    "duration": 34,
    "start_time": "2022-03-28T17:17:58.198Z"
   },
   {
    "duration": 38,
    "start_time": "2022-03-28T17:17:58.234Z"
   },
   {
    "duration": 7,
    "start_time": "2022-03-28T17:17:58.274Z"
   },
   {
    "duration": 24,
    "start_time": "2022-03-28T17:17:58.283Z"
   },
   {
    "duration": 209,
    "start_time": "2022-03-28T17:17:58.309Z"
   },
   {
    "duration": 35,
    "start_time": "2022-03-28T17:17:58.520Z"
   },
   {
    "duration": 31,
    "start_time": "2022-03-28T17:17:58.557Z"
   },
   {
    "duration": 10,
    "start_time": "2022-03-28T17:17:58.589Z"
   },
   {
    "duration": 33,
    "start_time": "2022-03-28T17:17:58.601Z"
   },
   {
    "duration": 28,
    "start_time": "2022-03-28T17:17:58.636Z"
   },
   {
    "duration": 16,
    "start_time": "2022-03-28T17:17:58.666Z"
   },
   {
    "duration": 11,
    "start_time": "2022-03-28T17:17:58.684Z"
   },
   {
    "duration": 199,
    "start_time": "2022-03-28T17:17:58.697Z"
   },
   {
    "duration": 153,
    "start_time": "2022-03-28T17:17:58.897Z"
   },
   {
    "duration": 20,
    "start_time": "2022-03-28T17:17:59.052Z"
   },
   {
    "duration": 16,
    "start_time": "2022-03-28T17:17:59.074Z"
   },
   {
    "duration": 8,
    "start_time": "2022-03-28T17:17:59.092Z"
   },
   {
    "duration": 33,
    "start_time": "2022-03-28T17:17:59.102Z"
   },
   {
    "duration": 16,
    "start_time": "2022-03-28T17:17:59.136Z"
   },
   {
    "duration": 18,
    "start_time": "2022-03-28T17:17:59.153Z"
   },
   {
    "duration": 69,
    "start_time": "2022-03-28T17:17:59.173Z"
   },
   {
    "duration": 34,
    "start_time": "2022-03-28T17:17:59.244Z"
   },
   {
    "duration": 11,
    "start_time": "2022-03-28T17:17:59.282Z"
   },
   {
    "duration": 49,
    "start_time": "2022-03-28T17:17:59.294Z"
   },
   {
    "duration": 5,
    "start_time": "2022-03-28T17:17:59.345Z"
   },
   {
    "duration": 82,
    "start_time": "2022-03-28T17:17:59.351Z"
   },
   {
    "duration": 0,
    "start_time": "2022-03-28T17:17:59.434Z"
   },
   {
    "duration": 6,
    "start_time": "2022-03-28T17:19:34.571Z"
   },
   {
    "duration": 29,
    "start_time": "2022-03-28T17:19:34.578Z"
   },
   {
    "duration": 7,
    "start_time": "2022-03-28T17:19:34.651Z"
   },
   {
    "duration": 365,
    "start_time": "2022-03-28T17:19:36.287Z"
   },
   {
    "duration": 348,
    "start_time": "2022-03-28T17:19:36.654Z"
   },
   {
    "duration": 542,
    "start_time": "2022-03-28T17:19:37.003Z"
   },
   {
    "duration": 3,
    "start_time": "2022-03-28T17:19:37.547Z"
   },
   {
    "duration": 19,
    "start_time": "2022-03-28T17:19:37.551Z"
   },
   {
    "duration": 441,
    "start_time": "2022-03-28T17:19:37.572Z"
   },
   {
    "duration": 16,
    "start_time": "2022-03-28T17:19:38.014Z"
   },
   {
    "duration": 37,
    "start_time": "2022-03-28T17:19:38.032Z"
   },
   {
    "duration": 10,
    "start_time": "2022-03-28T17:19:38.071Z"
   },
   {
    "duration": 39,
    "start_time": "2022-03-28T17:19:38.085Z"
   },
   {
    "duration": 9,
    "start_time": "2022-03-28T17:19:38.126Z"
   },
   {
    "duration": 31,
    "start_time": "2022-03-28T17:19:38.137Z"
   },
   {
    "duration": 19,
    "start_time": "2022-03-28T17:19:38.170Z"
   },
   {
    "duration": 25,
    "start_time": "2022-03-28T17:19:38.191Z"
   },
   {
    "duration": 27,
    "start_time": "2022-03-28T17:19:38.218Z"
   },
   {
    "duration": 54,
    "start_time": "2022-03-28T17:19:38.246Z"
   },
   {
    "duration": 13,
    "start_time": "2022-03-28T17:19:38.302Z"
   },
   {
    "duration": 7,
    "start_time": "2022-03-28T17:19:38.316Z"
   },
   {
    "duration": 11,
    "start_time": "2022-03-28T17:19:38.324Z"
   },
   {
    "duration": 56,
    "start_time": "2022-03-28T17:19:38.336Z"
   },
   {
    "duration": 6,
    "start_time": "2022-03-28T17:19:38.393Z"
   },
   {
    "duration": 36,
    "start_time": "2022-03-28T17:19:38.400Z"
   },
   {
    "duration": 170,
    "start_time": "2022-03-28T17:19:38.437Z"
   },
   {
    "duration": 37,
    "start_time": "2022-03-28T17:19:38.609Z"
   },
   {
    "duration": 26,
    "start_time": "2022-03-28T17:19:38.648Z"
   },
   {
    "duration": 9,
    "start_time": "2022-03-28T17:19:38.676Z"
   },
   {
    "duration": 27,
    "start_time": "2022-03-28T17:19:38.686Z"
   },
   {
    "duration": 31,
    "start_time": "2022-03-28T17:19:38.717Z"
   },
   {
    "duration": 13,
    "start_time": "2022-03-28T17:19:38.749Z"
   },
   {
    "duration": 15,
    "start_time": "2022-03-28T17:19:38.764Z"
   },
   {
    "duration": 179,
    "start_time": "2022-03-28T17:19:38.781Z"
   },
   {
    "duration": 149,
    "start_time": "2022-03-28T17:19:38.962Z"
   },
   {
    "duration": 26,
    "start_time": "2022-03-28T17:19:39.112Z"
   },
   {
    "duration": 25,
    "start_time": "2022-03-28T17:19:39.139Z"
   },
   {
    "duration": 14,
    "start_time": "2022-03-28T17:19:39.165Z"
   },
   {
    "duration": 29,
    "start_time": "2022-03-28T17:19:39.180Z"
   },
   {
    "duration": 29,
    "start_time": "2022-03-28T17:19:39.211Z"
   },
   {
    "duration": 12,
    "start_time": "2022-03-28T17:19:39.242Z"
   },
   {
    "duration": 64,
    "start_time": "2022-03-28T17:19:39.256Z"
   },
   {
    "duration": 46,
    "start_time": "2022-03-28T17:19:39.323Z"
   },
   {
    "duration": 15,
    "start_time": "2022-03-28T17:19:39.371Z"
   },
   {
    "duration": 45,
    "start_time": "2022-03-28T17:19:39.388Z"
   },
   {
    "duration": 26,
    "start_time": "2022-03-28T17:19:39.435Z"
   },
   {
    "duration": 22,
    "start_time": "2022-03-28T17:19:39.464Z"
   },
   {
    "duration": 8,
    "start_time": "2022-03-28T17:19:39.488Z"
   },
   {
    "duration": 3,
    "start_time": "2022-03-28T17:26:54.453Z"
   },
   {
    "duration": 5,
    "start_time": "2022-03-28T17:26:54.459Z"
   },
   {
    "duration": 4,
    "start_time": "2022-03-28T17:26:54.466Z"
   },
   {
    "duration": 7,
    "start_time": "2022-03-28T17:26:54.472Z"
   },
   {
    "duration": 4,
    "start_time": "2022-03-28T17:26:54.482Z"
   },
   {
    "duration": 481,
    "start_time": "2022-03-28T17:26:54.488Z"
   },
   {
    "duration": 11,
    "start_time": "2022-03-28T17:26:54.971Z"
   },
   {
    "duration": 30,
    "start_time": "2022-03-28T17:26:54.983Z"
   },
   {
    "duration": 10,
    "start_time": "2022-03-28T17:26:55.015Z"
   },
   {
    "duration": 26,
    "start_time": "2022-03-28T17:26:55.027Z"
   },
   {
    "duration": 9,
    "start_time": "2022-03-28T17:26:55.054Z"
   },
   {
    "duration": 23,
    "start_time": "2022-03-28T17:26:55.065Z"
   },
   {
    "duration": 7,
    "start_time": "2022-03-28T17:26:55.091Z"
   },
   {
    "duration": 35,
    "start_time": "2022-03-28T17:26:55.102Z"
   },
   {
    "duration": 15,
    "start_time": "2022-03-28T17:26:55.139Z"
   },
   {
    "duration": 32,
    "start_time": "2022-03-28T17:26:55.156Z"
   },
   {
    "duration": 11,
    "start_time": "2022-03-28T17:26:55.190Z"
   },
   {
    "duration": 3,
    "start_time": "2022-03-28T17:26:55.202Z"
   },
   {
    "duration": 3,
    "start_time": "2022-03-28T17:26:55.232Z"
   },
   {
    "duration": 36,
    "start_time": "2022-03-28T17:26:55.237Z"
   },
   {
    "duration": 5,
    "start_time": "2022-03-28T17:26:55.275Z"
   },
   {
    "duration": 24,
    "start_time": "2022-03-28T17:26:55.282Z"
   },
   {
    "duration": 181,
    "start_time": "2022-03-28T17:26:55.308Z"
   },
   {
    "duration": 44,
    "start_time": "2022-03-28T17:26:55.490Z"
   },
   {
    "duration": 28,
    "start_time": "2022-03-28T17:26:55.536Z"
   },
   {
    "duration": 17,
    "start_time": "2022-03-28T17:26:55.568Z"
   },
   {
    "duration": 7,
    "start_time": "2022-03-28T17:26:55.587Z"
   },
   {
    "duration": 40,
    "start_time": "2022-03-28T17:26:55.597Z"
   },
   {
    "duration": 13,
    "start_time": "2022-03-28T17:26:55.639Z"
   },
   {
    "duration": 13,
    "start_time": "2022-03-28T17:26:55.654Z"
   },
   {
    "duration": 202,
    "start_time": "2022-03-28T17:26:55.669Z"
   },
   {
    "duration": 172,
    "start_time": "2022-03-28T17:26:55.872Z"
   },
   {
    "duration": 23,
    "start_time": "2022-03-28T17:26:56.047Z"
   },
   {
    "duration": 16,
    "start_time": "2022-03-28T17:26:56.072Z"
   },
   {
    "duration": 9,
    "start_time": "2022-03-28T17:26:56.090Z"
   },
   {
    "duration": 38,
    "start_time": "2022-03-28T17:26:56.101Z"
   },
   {
    "duration": 21,
    "start_time": "2022-03-28T17:26:56.141Z"
   },
   {
    "duration": 14,
    "start_time": "2022-03-28T17:26:56.164Z"
   },
   {
    "duration": 63,
    "start_time": "2022-03-28T17:26:56.180Z"
   },
   {
    "duration": 35,
    "start_time": "2022-03-28T17:26:56.246Z"
   },
   {
    "duration": 11,
    "start_time": "2022-03-28T17:26:56.286Z"
   },
   {
    "duration": 156,
    "start_time": "2022-03-28T17:26:56.299Z"
   },
   {
    "duration": 0,
    "start_time": "2022-03-28T17:26:56.457Z"
   },
   {
    "duration": 0,
    "start_time": "2022-03-28T17:26:56.459Z"
   },
   {
    "duration": 0,
    "start_time": "2022-03-28T17:26:56.460Z"
   },
   {
    "duration": 588,
    "start_time": "2022-03-28T17:27:17.851Z"
   },
   {
    "duration": 0,
    "start_time": "2022-03-28T17:27:18.441Z"
   },
   {
    "duration": 576,
    "start_time": "2022-03-28T17:27:55.291Z"
   },
   {
    "duration": 0,
    "start_time": "2022-03-28T17:27:55.869Z"
   },
   {
    "duration": 34,
    "start_time": "2022-03-28T17:29:14.857Z"
   },
   {
    "duration": 27,
    "start_time": "2022-03-28T17:29:26.369Z"
   },
   {
    "duration": 7,
    "start_time": "2022-03-28T17:29:28.461Z"
   },
   {
    "duration": 31,
    "start_time": "2022-03-28T17:29:39.802Z"
   },
   {
    "duration": 9,
    "start_time": "2022-03-28T17:29:42.756Z"
   },
   {
    "duration": 8,
    "start_time": "2022-03-28T17:29:54.282Z"
   },
   {
    "duration": 10,
    "start_time": "2022-03-28T17:29:56.370Z"
   },
   {
    "duration": 35,
    "start_time": "2022-03-28T17:31:15.913Z"
   },
   {
    "duration": 9,
    "start_time": "2022-03-28T17:31:17.584Z"
   },
   {
    "duration": 3,
    "start_time": "2022-03-28T17:31:25.946Z"
   },
   {
    "duration": 7,
    "start_time": "2022-03-28T17:31:25.951Z"
   },
   {
    "duration": 6,
    "start_time": "2022-03-28T17:31:25.959Z"
   },
   {
    "duration": 7,
    "start_time": "2022-03-28T17:31:25.966Z"
   },
   {
    "duration": 5,
    "start_time": "2022-03-28T17:31:25.975Z"
   },
   {
    "duration": 468,
    "start_time": "2022-03-28T17:31:25.981Z"
   },
   {
    "duration": 11,
    "start_time": "2022-03-28T17:31:26.451Z"
   },
   {
    "duration": 28,
    "start_time": "2022-03-28T17:31:26.464Z"
   },
   {
    "duration": 10,
    "start_time": "2022-03-28T17:31:26.494Z"
   },
   {
    "duration": 34,
    "start_time": "2022-03-28T17:31:26.506Z"
   },
   {
    "duration": 8,
    "start_time": "2022-03-28T17:31:26.543Z"
   },
   {
    "duration": 23,
    "start_time": "2022-03-28T17:31:26.552Z"
   },
   {
    "duration": 8,
    "start_time": "2022-03-28T17:31:26.577Z"
   },
   {
    "duration": 15,
    "start_time": "2022-03-28T17:31:26.587Z"
   },
   {
    "duration": 39,
    "start_time": "2022-03-28T17:31:26.604Z"
   },
   {
    "duration": 34,
    "start_time": "2022-03-28T17:31:26.645Z"
   },
   {
    "duration": 11,
    "start_time": "2022-03-28T17:31:26.681Z"
   },
   {
    "duration": 4,
    "start_time": "2022-03-28T17:31:26.693Z"
   },
   {
    "duration": 9,
    "start_time": "2022-03-28T17:31:26.698Z"
   },
   {
    "duration": 49,
    "start_time": "2022-03-28T17:31:26.709Z"
   },
   {
    "duration": 4,
    "start_time": "2022-03-28T17:31:26.760Z"
   },
   {
    "duration": 27,
    "start_time": "2022-03-28T17:31:26.766Z"
   },
   {
    "duration": 182,
    "start_time": "2022-03-28T17:31:26.797Z"
   },
   {
    "duration": 31,
    "start_time": "2022-03-28T17:31:26.981Z"
   },
   {
    "duration": 39,
    "start_time": "2022-03-28T17:31:27.014Z"
   },
   {
    "duration": 10,
    "start_time": "2022-03-28T17:31:27.054Z"
   },
   {
    "duration": 23,
    "start_time": "2022-03-28T17:31:27.066Z"
   },
   {
    "duration": 28,
    "start_time": "2022-03-28T17:31:27.091Z"
   },
   {
    "duration": 19,
    "start_time": "2022-03-28T17:31:27.120Z"
   },
   {
    "duration": 11,
    "start_time": "2022-03-28T17:31:27.140Z"
   },
   {
    "duration": 181,
    "start_time": "2022-03-28T17:31:27.153Z"
   },
   {
    "duration": 225,
    "start_time": "2022-03-28T17:31:27.335Z"
   },
   {
    "duration": 20,
    "start_time": "2022-03-28T17:31:27.562Z"
   },
   {
    "duration": 19,
    "start_time": "2022-03-28T17:31:27.584Z"
   },
   {
    "duration": 9,
    "start_time": "2022-03-28T17:31:27.604Z"
   },
   {
    "duration": 8,
    "start_time": "2022-03-28T17:31:27.632Z"
   },
   {
    "duration": 26,
    "start_time": "2022-03-28T17:31:27.641Z"
   },
   {
    "duration": 17,
    "start_time": "2022-03-28T17:31:27.669Z"
   },
   {
    "duration": 48,
    "start_time": "2022-03-28T17:31:27.687Z"
   },
   {
    "duration": 32,
    "start_time": "2022-03-28T17:31:27.736Z"
   },
   {
    "duration": 10,
    "start_time": "2022-03-28T17:31:27.770Z"
   },
   {
    "duration": 32,
    "start_time": "2022-03-28T17:31:27.782Z"
   },
   {
    "duration": 21,
    "start_time": "2022-03-28T17:31:27.816Z"
   },
   {
    "duration": 25,
    "start_time": "2022-03-28T17:31:27.838Z"
   },
   {
    "duration": 10,
    "start_time": "2022-03-28T17:31:27.865Z"
   },
   {
    "duration": 468,
    "start_time": "2022-03-29T13:15:34.549Z"
   },
   {
    "duration": 438,
    "start_time": "2022-03-29T13:15:35.019Z"
   },
   {
    "duration": 563,
    "start_time": "2022-03-29T13:15:35.459Z"
   },
   {
    "duration": 3,
    "start_time": "2022-03-29T13:15:36.024Z"
   },
   {
    "duration": 6,
    "start_time": "2022-03-29T13:15:36.030Z"
   },
   {
    "duration": 390,
    "start_time": "2022-03-29T13:15:36.037Z"
   },
   {
    "duration": 15,
    "start_time": "2022-03-29T13:15:36.429Z"
   },
   {
    "duration": 42,
    "start_time": "2022-03-29T13:15:36.447Z"
   },
   {
    "duration": 14,
    "start_time": "2022-03-29T13:15:36.492Z"
   },
   {
    "duration": 24,
    "start_time": "2022-03-29T13:15:36.508Z"
   },
   {
    "duration": 35,
    "start_time": "2022-03-29T13:15:36.534Z"
   },
   {
    "duration": 23,
    "start_time": "2022-03-29T13:15:36.571Z"
   },
   {
    "duration": 7,
    "start_time": "2022-03-29T13:15:36.597Z"
   },
   {
    "duration": 12,
    "start_time": "2022-03-29T13:15:36.608Z"
   },
   {
    "duration": 13,
    "start_time": "2022-03-29T13:15:36.621Z"
   },
   {
    "duration": 62,
    "start_time": "2022-03-29T13:15:36.636Z"
   },
   {
    "duration": 15,
    "start_time": "2022-03-29T13:15:36.700Z"
   },
   {
    "duration": 3,
    "start_time": "2022-03-29T13:15:36.717Z"
   },
   {
    "duration": 10,
    "start_time": "2022-03-29T13:15:36.723Z"
   },
   {
    "duration": 88,
    "start_time": "2022-03-29T13:15:36.735Z"
   },
   {
    "duration": 8,
    "start_time": "2022-03-29T13:15:36.826Z"
   },
   {
    "duration": 49,
    "start_time": "2022-03-29T13:15:36.837Z"
   },
   {
    "duration": 290,
    "start_time": "2022-03-29T13:15:36.889Z"
   },
   {
    "duration": 37,
    "start_time": "2022-03-29T13:15:37.182Z"
   },
   {
    "duration": 49,
    "start_time": "2022-03-29T13:15:37.221Z"
   },
   {
    "duration": 10,
    "start_time": "2022-03-29T13:15:37.272Z"
   },
   {
    "duration": 8,
    "start_time": "2022-03-29T13:15:37.284Z"
   },
   {
    "duration": 21,
    "start_time": "2022-03-29T13:15:37.293Z"
   },
   {
    "duration": 13,
    "start_time": "2022-03-29T13:15:37.316Z"
   },
   {
    "duration": 12,
    "start_time": "2022-03-29T13:15:37.362Z"
   },
   {
    "duration": 152,
    "start_time": "2022-03-29T13:15:37.376Z"
   },
   {
    "duration": 134,
    "start_time": "2022-03-29T13:15:37.531Z"
   },
   {
    "duration": 28,
    "start_time": "2022-03-29T13:15:37.667Z"
   },
   {
    "duration": 16,
    "start_time": "2022-03-29T13:15:37.697Z"
   },
   {
    "duration": 10,
    "start_time": "2022-03-29T13:15:37.715Z"
   },
   {
    "duration": 10,
    "start_time": "2022-03-29T13:15:37.727Z"
   },
   {
    "duration": 36,
    "start_time": "2022-03-29T13:15:37.739Z"
   },
   {
    "duration": 16,
    "start_time": "2022-03-29T13:15:37.777Z"
   },
   {
    "duration": 82,
    "start_time": "2022-03-29T13:15:37.795Z"
   },
   {
    "duration": 47,
    "start_time": "2022-03-29T13:15:37.879Z"
   },
   {
    "duration": 15,
    "start_time": "2022-03-29T13:15:37.931Z"
   },
   {
    "duration": 33,
    "start_time": "2022-03-29T13:15:37.964Z"
   },
   {
    "duration": 11,
    "start_time": "2022-03-29T13:15:37.999Z"
   },
   {
    "duration": 12,
    "start_time": "2022-03-29T13:15:38.012Z"
   },
   {
    "duration": 45,
    "start_time": "2022-03-29T13:15:38.026Z"
   },
   {
    "duration": 3,
    "start_time": "2022-03-29T13:16:21.736Z"
   },
   {
    "duration": 9,
    "start_time": "2022-03-29T13:16:21.740Z"
   },
   {
    "duration": 5,
    "start_time": "2022-03-29T13:16:21.751Z"
   },
   {
    "duration": 6,
    "start_time": "2022-03-29T13:16:21.758Z"
   },
   {
    "duration": 8,
    "start_time": "2022-03-29T13:16:21.766Z"
   },
   {
    "duration": 388,
    "start_time": "2022-03-29T13:16:21.776Z"
   },
   {
    "duration": 11,
    "start_time": "2022-03-29T13:16:22.165Z"
   },
   {
    "duration": 45,
    "start_time": "2022-03-29T13:16:22.178Z"
   },
   {
    "duration": 14,
    "start_time": "2022-03-29T13:16:22.227Z"
   },
   {
    "duration": 35,
    "start_time": "2022-03-29T13:16:22.264Z"
   },
   {
    "duration": 12,
    "start_time": "2022-03-29T13:16:22.302Z"
   },
   {
    "duration": 57,
    "start_time": "2022-03-29T13:16:22.316Z"
   },
   {
    "duration": 11,
    "start_time": "2022-03-29T13:16:22.375Z"
   },
   {
    "duration": 17,
    "start_time": "2022-03-29T13:16:22.389Z"
   },
   {
    "duration": 18,
    "start_time": "2022-03-29T13:16:22.408Z"
   },
   {
    "duration": 73,
    "start_time": "2022-03-29T13:16:22.428Z"
   },
   {
    "duration": 18,
    "start_time": "2022-03-29T13:16:22.503Z"
   },
   {
    "duration": 5,
    "start_time": "2022-03-29T13:16:22.523Z"
   },
   {
    "duration": 7,
    "start_time": "2022-03-29T13:16:22.530Z"
   },
   {
    "duration": 57,
    "start_time": "2022-03-29T13:16:22.564Z"
   },
   {
    "duration": 8,
    "start_time": "2022-03-29T13:16:22.624Z"
   },
   {
    "duration": 46,
    "start_time": "2022-03-29T13:16:22.635Z"
   },
   {
    "duration": 274,
    "start_time": "2022-03-29T13:16:22.685Z"
   },
   {
    "duration": 35,
    "start_time": "2022-03-29T13:16:22.964Z"
   },
   {
    "duration": 28,
    "start_time": "2022-03-29T13:16:23.001Z"
   },
   {
    "duration": 35,
    "start_time": "2022-03-29T13:16:23.031Z"
   },
   {
    "duration": 7,
    "start_time": "2022-03-29T13:16:23.069Z"
   },
   {
    "duration": 38,
    "start_time": "2022-03-29T13:16:23.077Z"
   },
   {
    "duration": 14,
    "start_time": "2022-03-29T13:16:23.117Z"
   },
   {
    "duration": 14,
    "start_time": "2022-03-29T13:16:23.133Z"
   },
   {
    "duration": 180,
    "start_time": "2022-03-29T13:16:23.149Z"
   },
   {
    "duration": 151,
    "start_time": "2022-03-29T13:16:23.331Z"
   },
   {
    "duration": 20,
    "start_time": "2022-03-29T13:16:23.484Z"
   },
   {
    "duration": 15,
    "start_time": "2022-03-29T13:16:23.506Z"
   },
   {
    "duration": 9,
    "start_time": "2022-03-29T13:16:23.523Z"
   },
   {
    "duration": 38,
    "start_time": "2022-03-29T13:16:23.533Z"
   },
   {
    "duration": 18,
    "start_time": "2022-03-29T13:16:23.573Z"
   },
   {
    "duration": 11,
    "start_time": "2022-03-29T13:16:23.592Z"
   },
   {
    "duration": 95,
    "start_time": "2022-03-29T13:16:23.605Z"
   },
   {
    "duration": 36,
    "start_time": "2022-03-29T13:16:23.702Z"
   },
   {
    "duration": 29,
    "start_time": "2022-03-29T13:16:23.740Z"
   },
   {
    "duration": 43,
    "start_time": "2022-03-29T13:16:23.772Z"
   },
   {
    "duration": 14,
    "start_time": "2022-03-29T13:16:23.818Z"
   },
   {
    "duration": 30,
    "start_time": "2022-03-29T13:16:23.834Z"
   },
   {
    "duration": 10,
    "start_time": "2022-03-29T13:16:23.866Z"
   },
   {
    "duration": 411,
    "start_time": "2022-03-30T16:45:18.268Z"
   },
   {
    "duration": 479,
    "start_time": "2022-03-30T16:45:18.681Z"
   },
   {
    "duration": 547,
    "start_time": "2022-03-30T16:45:19.162Z"
   },
   {
    "duration": 3,
    "start_time": "2022-03-30T16:45:19.711Z"
   },
   {
    "duration": 6,
    "start_time": "2022-03-30T16:45:19.715Z"
   },
   {
    "duration": 447,
    "start_time": "2022-03-30T16:45:19.723Z"
   },
   {
    "duration": 15,
    "start_time": "2022-03-30T16:45:20.172Z"
   },
   {
    "duration": 29,
    "start_time": "2022-03-30T16:45:20.189Z"
   },
   {
    "duration": 14,
    "start_time": "2022-03-30T16:45:20.220Z"
   },
   {
    "duration": 29,
    "start_time": "2022-03-30T16:45:20.242Z"
   },
   {
    "duration": 7,
    "start_time": "2022-03-30T16:45:20.273Z"
   },
   {
    "duration": 28,
    "start_time": "2022-03-30T16:45:20.282Z"
   },
   {
    "duration": 8,
    "start_time": "2022-03-30T16:45:20.312Z"
   },
   {
    "duration": 23,
    "start_time": "2022-03-30T16:45:20.322Z"
   },
   {
    "duration": 17,
    "start_time": "2022-03-30T16:45:20.346Z"
   },
   {
    "duration": 37,
    "start_time": "2022-03-30T16:45:20.365Z"
   },
   {
    "duration": 31,
    "start_time": "2022-03-30T16:45:20.404Z"
   },
   {
    "duration": 3,
    "start_time": "2022-03-30T16:45:20.437Z"
   },
   {
    "duration": 11,
    "start_time": "2022-03-30T16:45:20.442Z"
   },
   {
    "duration": 39,
    "start_time": "2022-03-30T16:45:20.455Z"
   },
   {
    "duration": 6,
    "start_time": "2022-03-30T16:45:20.495Z"
   },
   {
    "duration": 45,
    "start_time": "2022-03-30T16:45:20.503Z"
   },
   {
    "duration": 191,
    "start_time": "2022-03-30T16:45:20.550Z"
   },
   {
    "duration": 29,
    "start_time": "2022-03-30T16:45:20.744Z"
   },
   {
    "duration": 29,
    "start_time": "2022-03-30T16:45:20.775Z"
   },
   {
    "duration": 39,
    "start_time": "2022-03-30T16:45:20.806Z"
   },
   {
    "duration": 8,
    "start_time": "2022-03-30T16:45:20.847Z"
   },
   {
    "duration": 19,
    "start_time": "2022-03-30T16:45:20.859Z"
   },
   {
    "duration": 17,
    "start_time": "2022-03-30T16:45:20.880Z"
   },
   {
    "duration": 37,
    "start_time": "2022-03-30T16:45:20.899Z"
   },
   {
    "duration": 182,
    "start_time": "2022-03-30T16:45:20.939Z"
   },
   {
    "duration": 172,
    "start_time": "2022-03-30T16:45:21.123Z"
   },
   {
    "duration": 21,
    "start_time": "2022-03-30T16:45:21.297Z"
   },
   {
    "duration": 28,
    "start_time": "2022-03-30T16:45:21.320Z"
   },
   {
    "duration": 9,
    "start_time": "2022-03-30T16:45:21.351Z"
   },
   {
    "duration": 12,
    "start_time": "2022-03-30T16:45:21.362Z"
   },
   {
    "duration": 16,
    "start_time": "2022-03-30T16:45:21.376Z"
   },
   {
    "duration": 43,
    "start_time": "2022-03-30T16:45:21.394Z"
   },
   {
    "duration": 56,
    "start_time": "2022-03-30T16:45:21.439Z"
   },
   {
    "duration": 47,
    "start_time": "2022-03-30T16:45:21.497Z"
   },
   {
    "duration": 12,
    "start_time": "2022-03-30T16:45:21.546Z"
   },
   {
    "duration": 30,
    "start_time": "2022-03-30T16:45:21.559Z"
   },
   {
    "duration": 9,
    "start_time": "2022-03-30T16:45:21.591Z"
   },
   {
    "duration": 3,
    "start_time": "2022-03-30T16:45:38.123Z"
   },
   {
    "duration": 15,
    "start_time": "2022-03-30T16:45:38.128Z"
   },
   {
    "duration": 10,
    "start_time": "2022-03-30T16:45:38.146Z"
   },
   {
    "duration": 8,
    "start_time": "2022-03-30T16:45:38.158Z"
   },
   {
    "duration": 8,
    "start_time": "2022-03-30T16:45:38.168Z"
   },
   {
    "duration": 440,
    "start_time": "2022-03-30T16:45:38.178Z"
   },
   {
    "duration": 13,
    "start_time": "2022-03-30T16:45:38.621Z"
   },
   {
    "duration": 42,
    "start_time": "2022-03-30T16:45:38.636Z"
   },
   {
    "duration": 11,
    "start_time": "2022-03-30T16:45:38.680Z"
   },
   {
    "duration": 35,
    "start_time": "2022-03-30T16:45:38.693Z"
   },
   {
    "duration": 12,
    "start_time": "2022-03-30T16:45:38.730Z"
   },
   {
    "duration": 30,
    "start_time": "2022-03-30T16:45:38.744Z"
   },
   {
    "duration": 8,
    "start_time": "2022-03-30T16:45:38.777Z"
   },
   {
    "duration": 15,
    "start_time": "2022-03-30T16:45:38.787Z"
   },
   {
    "duration": 34,
    "start_time": "2022-03-30T16:45:38.803Z"
   },
   {
    "duration": 43,
    "start_time": "2022-03-30T16:45:38.839Z"
   },
   {
    "duration": 11,
    "start_time": "2022-03-30T16:45:38.883Z"
   },
   {
    "duration": 3,
    "start_time": "2022-03-30T16:45:38.896Z"
   },
   {
    "duration": 6,
    "start_time": "2022-03-30T16:45:38.900Z"
   },
   {
    "duration": 58,
    "start_time": "2022-03-30T16:45:38.908Z"
   },
   {
    "duration": 5,
    "start_time": "2022-03-30T16:45:38.968Z"
   },
   {
    "duration": 26,
    "start_time": "2022-03-30T16:45:38.975Z"
   },
   {
    "duration": 191,
    "start_time": "2022-03-30T16:45:39.004Z"
   },
   {
    "duration": 40,
    "start_time": "2022-03-30T16:45:39.196Z"
   },
   {
    "duration": 31,
    "start_time": "2022-03-30T16:45:39.238Z"
   },
   {
    "duration": 10,
    "start_time": "2022-03-30T16:45:39.271Z"
   },
   {
    "duration": 6,
    "start_time": "2022-03-30T16:45:39.283Z"
   },
   {
    "duration": 58,
    "start_time": "2022-03-30T16:45:39.291Z"
   },
   {
    "duration": 17,
    "start_time": "2022-03-30T16:45:39.351Z"
   },
   {
    "duration": 12,
    "start_time": "2022-03-30T16:45:39.370Z"
   },
   {
    "duration": 210,
    "start_time": "2022-03-30T16:45:39.384Z"
   },
   {
    "duration": 169,
    "start_time": "2022-03-30T16:45:39.596Z"
   },
   {
    "duration": 20,
    "start_time": "2022-03-30T16:45:39.767Z"
   },
   {
    "duration": 16,
    "start_time": "2022-03-30T16:45:39.789Z"
   },
   {
    "duration": 33,
    "start_time": "2022-03-30T16:45:39.806Z"
   },
   {
    "duration": 17,
    "start_time": "2022-03-30T16:45:39.841Z"
   },
   {
    "duration": 12,
    "start_time": "2022-03-30T16:45:39.863Z"
   },
   {
    "duration": 11,
    "start_time": "2022-03-30T16:45:39.877Z"
   },
   {
    "duration": 89,
    "start_time": "2022-03-30T16:45:39.890Z"
   },
   {
    "duration": 35,
    "start_time": "2022-03-30T16:45:39.980Z"
   },
   {
    "duration": 34,
    "start_time": "2022-03-30T16:45:40.016Z"
   },
   {
    "duration": 24,
    "start_time": "2022-03-30T16:45:40.051Z"
   },
   {
    "duration": 11,
    "start_time": "2022-03-30T16:45:40.076Z"
   },
   {
    "duration": 138,
    "start_time": "2022-03-30T16:45:40.088Z"
   },
   {
    "duration": 9,
    "start_time": "2022-03-30T16:45:49.480Z"
   },
   {
    "duration": 11,
    "start_time": "2022-03-30T16:46:09.637Z"
   },
   {
    "duration": 9,
    "start_time": "2022-03-30T16:46:22.751Z"
   },
   {
    "duration": 10,
    "start_time": "2022-03-30T16:47:49.835Z"
   },
   {
    "duration": 11,
    "start_time": "2022-03-30T16:48:20.966Z"
   },
   {
    "duration": 7,
    "start_time": "2022-03-30T16:48:37.528Z"
   },
   {
    "duration": 10,
    "start_time": "2022-03-30T16:48:48.525Z"
   },
   {
    "duration": 9,
    "start_time": "2022-03-30T16:50:39.630Z"
   },
   {
    "duration": 15,
    "start_time": "2022-03-30T16:50:46.777Z"
   },
   {
    "duration": 13,
    "start_time": "2022-03-30T16:50:59.122Z"
   },
   {
    "duration": 16,
    "start_time": "2022-03-30T16:51:11.712Z"
   },
   {
    "duration": 7,
    "start_time": "2022-03-30T16:51:20.115Z"
   },
   {
    "duration": 15,
    "start_time": "2022-03-30T16:51:30.120Z"
   },
   {
    "duration": 15,
    "start_time": "2022-03-30T16:51:56.542Z"
   },
   {
    "duration": 9,
    "start_time": "2022-03-30T16:52:08.372Z"
   },
   {
    "duration": 13,
    "start_time": "2022-03-30T16:52:18.388Z"
   },
   {
    "duration": 1220,
    "start_time": "2022-03-30T16:53:49.008Z"
   },
   {
    "duration": 8,
    "start_time": "2022-03-30T16:54:14.419Z"
   },
   {
    "duration": 488,
    "start_time": "2022-03-30T16:54:24.453Z"
   },
   {
    "duration": 415,
    "start_time": "2022-03-30T17:22:30.731Z"
   },
   {
    "duration": 542,
    "start_time": "2022-03-30T17:22:31.148Z"
   },
   {
    "duration": 549,
    "start_time": "2022-03-30T17:22:31.693Z"
   },
   {
    "duration": 4,
    "start_time": "2022-03-30T17:22:32.243Z"
   },
   {
    "duration": 8,
    "start_time": "2022-03-30T17:22:32.250Z"
   },
   {
    "duration": 433,
    "start_time": "2022-03-30T17:22:32.260Z"
   },
   {
    "duration": 17,
    "start_time": "2022-03-30T17:22:32.695Z"
   },
   {
    "duration": 33,
    "start_time": "2022-03-30T17:22:32.714Z"
   },
   {
    "duration": 10,
    "start_time": "2022-03-30T17:22:32.749Z"
   },
   {
    "duration": 46,
    "start_time": "2022-03-30T17:22:32.761Z"
   },
   {
    "duration": 8,
    "start_time": "2022-03-30T17:22:32.809Z"
   },
   {
    "duration": 23,
    "start_time": "2022-03-30T17:22:32.819Z"
   },
   {
    "duration": 9,
    "start_time": "2022-03-30T17:22:32.844Z"
   },
   {
    "duration": 13,
    "start_time": "2022-03-30T17:22:32.857Z"
   },
   {
    "duration": 42,
    "start_time": "2022-03-30T17:22:32.871Z"
   },
   {
    "duration": 37,
    "start_time": "2022-03-30T17:22:32.914Z"
   },
   {
    "duration": 15,
    "start_time": "2022-03-30T17:22:32.953Z"
   },
   {
    "duration": 3,
    "start_time": "2022-03-30T17:22:32.970Z"
   },
   {
    "duration": 29,
    "start_time": "2022-03-30T17:22:32.974Z"
   },
   {
    "duration": 44,
    "start_time": "2022-03-30T17:22:33.005Z"
   },
   {
    "duration": 6,
    "start_time": "2022-03-30T17:22:33.051Z"
   },
   {
    "duration": 46,
    "start_time": "2022-03-30T17:22:33.058Z"
   },
   {
    "duration": 176,
    "start_time": "2022-03-30T17:22:33.106Z"
   },
   {
    "duration": 43,
    "start_time": "2022-03-30T17:22:33.284Z"
   },
   {
    "duration": 33,
    "start_time": "2022-03-30T17:22:33.329Z"
   },
   {
    "duration": 37,
    "start_time": "2022-03-30T17:22:33.364Z"
   },
   {
    "duration": 6,
    "start_time": "2022-03-30T17:22:33.404Z"
   },
   {
    "duration": 30,
    "start_time": "2022-03-30T17:22:33.412Z"
   },
   {
    "duration": 29,
    "start_time": "2022-03-30T17:22:33.444Z"
   },
   {
    "duration": 12,
    "start_time": "2022-03-30T17:22:33.475Z"
   },
   {
    "duration": 174,
    "start_time": "2022-03-30T17:22:33.488Z"
   },
   {
    "duration": 156,
    "start_time": "2022-03-30T17:22:33.664Z"
   },
   {
    "duration": 23,
    "start_time": "2022-03-30T17:22:33.822Z"
   },
   {
    "duration": 16,
    "start_time": "2022-03-30T17:22:33.847Z"
   },
   {
    "duration": 9,
    "start_time": "2022-03-30T17:22:33.865Z"
   },
   {
    "duration": 9,
    "start_time": "2022-03-30T17:22:33.902Z"
   },
   {
    "duration": 17,
    "start_time": "2022-03-30T17:22:33.913Z"
   },
   {
    "duration": 15,
    "start_time": "2022-03-30T17:22:33.932Z"
   },
   {
    "duration": 71,
    "start_time": "2022-03-30T17:22:33.949Z"
   },
   {
    "duration": 37,
    "start_time": "2022-03-30T17:22:34.022Z"
   },
   {
    "duration": 11,
    "start_time": "2022-03-30T17:22:34.063Z"
   },
   {
    "duration": 48,
    "start_time": "2022-03-30T17:22:34.076Z"
   },
   {
    "duration": 10,
    "start_time": "2022-03-30T17:22:34.126Z"
   },
   {
    "duration": 15,
    "start_time": "2022-03-30T17:22:34.138Z"
   },
   {
    "duration": 11,
    "start_time": "2022-03-30T17:22:34.155Z"
   },
   {
    "duration": 1164,
    "start_time": "2022-03-30T17:22:34.169Z"
   },
   {
    "duration": 478,
    "start_time": "2022-03-30T17:22:35.335Z"
   },
   {
    "duration": 110,
    "start_time": "2022-03-30T17:22:35.814Z"
   },
   {
    "duration": 457,
    "start_time": "2022-03-30T17:23:22.904Z"
   },
   {
    "duration": 320,
    "start_time": "2022-03-30T17:23:23.364Z"
   },
   {
    "duration": 534,
    "start_time": "2022-03-30T17:23:23.686Z"
   },
   {
    "duration": 2,
    "start_time": "2022-03-30T17:23:24.222Z"
   },
   {
    "duration": 6,
    "start_time": "2022-03-30T17:23:24.227Z"
   },
   {
    "duration": 405,
    "start_time": "2022-03-30T17:23:24.235Z"
   },
   {
    "duration": 15,
    "start_time": "2022-03-30T17:23:24.642Z"
   },
   {
    "duration": 30,
    "start_time": "2022-03-30T17:23:24.658Z"
   },
   {
    "duration": 15,
    "start_time": "2022-03-30T17:23:24.690Z"
   },
   {
    "duration": 25,
    "start_time": "2022-03-30T17:23:24.707Z"
   },
   {
    "duration": 9,
    "start_time": "2022-03-30T17:23:24.734Z"
   },
   {
    "duration": 25,
    "start_time": "2022-03-30T17:23:24.745Z"
   },
   {
    "duration": 35,
    "start_time": "2022-03-30T17:23:24.772Z"
   },
   {
    "duration": 10,
    "start_time": "2022-03-30T17:23:24.811Z"
   },
   {
    "duration": 15,
    "start_time": "2022-03-30T17:23:24.823Z"
   },
   {
    "duration": 44,
    "start_time": "2022-03-30T17:23:24.839Z"
   },
   {
    "duration": 16,
    "start_time": "2022-03-30T17:23:24.900Z"
   },
   {
    "duration": 3,
    "start_time": "2022-03-30T17:23:24.917Z"
   },
   {
    "duration": 7,
    "start_time": "2022-03-30T17:23:24.922Z"
   },
   {
    "duration": 45,
    "start_time": "2022-03-30T17:23:24.931Z"
   },
   {
    "duration": 23,
    "start_time": "2022-03-30T17:23:24.978Z"
   },
   {
    "duration": 28,
    "start_time": "2022-03-30T17:23:25.003Z"
   },
   {
    "duration": 168,
    "start_time": "2022-03-30T17:23:25.033Z"
   },
   {
    "duration": 30,
    "start_time": "2022-03-30T17:23:25.203Z"
   },
   {
    "duration": 27,
    "start_time": "2022-03-30T17:23:25.234Z"
   },
   {
    "duration": 10,
    "start_time": "2022-03-30T17:23:25.263Z"
   },
   {
    "duration": 6,
    "start_time": "2022-03-30T17:23:25.300Z"
   },
   {
    "duration": 19,
    "start_time": "2022-03-30T17:23:25.308Z"
   },
   {
    "duration": 18,
    "start_time": "2022-03-30T17:23:25.329Z"
   },
   {
    "duration": 12,
    "start_time": "2022-03-30T17:23:25.349Z"
   },
   {
    "duration": 187,
    "start_time": "2022-03-30T17:23:25.362Z"
   },
   {
    "duration": 141,
    "start_time": "2022-03-30T17:23:25.551Z"
   },
   {
    "duration": 27,
    "start_time": "2022-03-30T17:23:25.694Z"
   },
   {
    "duration": 18,
    "start_time": "2022-03-30T17:23:25.723Z"
   },
   {
    "duration": 11,
    "start_time": "2022-03-30T17:23:25.743Z"
   },
   {
    "duration": 23,
    "start_time": "2022-03-30T17:23:25.756Z"
   },
   {
    "duration": 24,
    "start_time": "2022-03-30T17:23:25.781Z"
   },
   {
    "duration": 17,
    "start_time": "2022-03-30T17:23:25.807Z"
   },
   {
    "duration": 64,
    "start_time": "2022-03-30T17:23:25.826Z"
   },
   {
    "duration": 36,
    "start_time": "2022-03-30T17:23:25.892Z"
   },
   {
    "duration": 13,
    "start_time": "2022-03-30T17:23:25.932Z"
   },
   {
    "duration": 42,
    "start_time": "2022-03-30T17:23:25.947Z"
   },
   {
    "duration": 13,
    "start_time": "2022-03-30T17:23:25.990Z"
   },
   {
    "duration": 14,
    "start_time": "2022-03-30T17:23:26.005Z"
   },
   {
    "duration": 10,
    "start_time": "2022-03-30T17:23:26.021Z"
   },
   {
    "duration": 1230,
    "start_time": "2022-03-30T17:23:26.033Z"
   },
   {
    "duration": 459,
    "start_time": "2022-03-30T17:23:27.265Z"
   },
   {
    "duration": 47,
    "start_time": "2022-03-30T17:23:39.432Z"
   },
   {
    "duration": 397,
    "start_time": "2022-03-30T17:23:45.448Z"
   },
   {
    "duration": 294,
    "start_time": "2022-03-30T17:23:45.847Z"
   },
   {
    "duration": 544,
    "start_time": "2022-03-30T17:23:46.143Z"
   },
   {
    "duration": 3,
    "start_time": "2022-03-30T17:23:46.689Z"
   },
   {
    "duration": 3,
    "start_time": "2022-03-30T17:23:46.701Z"
   },
   {
    "duration": 414,
    "start_time": "2022-03-30T17:23:46.706Z"
   },
   {
    "duration": 15,
    "start_time": "2022-03-30T17:23:47.122Z"
   },
   {
    "duration": 28,
    "start_time": "2022-03-30T17:23:47.139Z"
   },
   {
    "duration": 9,
    "start_time": "2022-03-30T17:23:47.169Z"
   },
   {
    "duration": 38,
    "start_time": "2022-03-30T17:23:47.181Z"
   },
   {
    "duration": 8,
    "start_time": "2022-03-30T17:23:47.221Z"
   },
   {
    "duration": 23,
    "start_time": "2022-03-30T17:23:47.231Z"
   },
   {
    "duration": 10,
    "start_time": "2022-03-30T17:23:47.255Z"
   },
   {
    "duration": 35,
    "start_time": "2022-03-30T17:23:47.267Z"
   },
   {
    "duration": 17,
    "start_time": "2022-03-30T17:23:47.304Z"
   },
   {
    "duration": 34,
    "start_time": "2022-03-30T17:23:47.323Z"
   },
   {
    "duration": 13,
    "start_time": "2022-03-30T17:23:47.359Z"
   },
   {
    "duration": 3,
    "start_time": "2022-03-30T17:23:47.374Z"
   },
   {
    "duration": 3,
    "start_time": "2022-03-30T17:23:47.401Z"
   },
   {
    "duration": 38,
    "start_time": "2022-03-30T17:23:47.406Z"
   },
   {
    "duration": 6,
    "start_time": "2022-03-30T17:23:47.446Z"
   },
   {
    "duration": 48,
    "start_time": "2022-03-30T17:23:47.453Z"
   },
   {
    "duration": 167,
    "start_time": "2022-03-30T17:23:47.503Z"
   },
   {
    "duration": 40,
    "start_time": "2022-03-30T17:23:47.672Z"
   },
   {
    "duration": 29,
    "start_time": "2022-03-30T17:23:47.714Z"
   },
   {
    "duration": 10,
    "start_time": "2022-03-30T17:23:47.745Z"
   },
   {
    "duration": 7,
    "start_time": "2022-03-30T17:23:47.757Z"
   },
   {
    "duration": 44,
    "start_time": "2022-03-30T17:23:47.768Z"
   },
   {
    "duration": 19,
    "start_time": "2022-03-30T17:23:47.814Z"
   },
   {
    "duration": 11,
    "start_time": "2022-03-30T17:23:47.835Z"
   },
   {
    "duration": 175,
    "start_time": "2022-03-30T17:23:47.848Z"
   },
   {
    "duration": 147,
    "start_time": "2022-03-30T17:23:48.025Z"
   },
   {
    "duration": 30,
    "start_time": "2022-03-30T17:23:48.174Z"
   },
   {
    "duration": 16,
    "start_time": "2022-03-30T17:23:48.206Z"
   },
   {
    "duration": 9,
    "start_time": "2022-03-30T17:23:48.224Z"
   },
   {
    "duration": 9,
    "start_time": "2022-03-30T17:23:48.234Z"
   },
   {
    "duration": 15,
    "start_time": "2022-03-30T17:23:48.245Z"
   },
   {
    "duration": 40,
    "start_time": "2022-03-30T17:23:48.262Z"
   },
   {
    "duration": 48,
    "start_time": "2022-03-30T17:23:48.304Z"
   },
   {
    "duration": 52,
    "start_time": "2022-03-30T17:23:48.354Z"
   },
   {
    "duration": 12,
    "start_time": "2022-03-30T17:23:48.407Z"
   },
   {
    "duration": 25,
    "start_time": "2022-03-30T17:23:48.421Z"
   },
   {
    "duration": 10,
    "start_time": "2022-03-30T17:23:48.448Z"
   },
   {
    "duration": 45,
    "start_time": "2022-03-30T17:23:48.459Z"
   },
   {
    "duration": 12,
    "start_time": "2022-03-30T17:23:48.505Z"
   },
   {
    "duration": 1117,
    "start_time": "2022-03-30T17:23:48.518Z"
   },
   {
    "duration": 466,
    "start_time": "2022-03-30T17:23:49.636Z"
   },
   {
    "duration": 435,
    "start_time": "2022-03-30T17:24:24.819Z"
   },
   {
    "duration": 300,
    "start_time": "2022-03-30T17:24:25.256Z"
   },
   {
    "duration": 564,
    "start_time": "2022-03-30T17:24:25.558Z"
   },
   {
    "duration": 3,
    "start_time": "2022-03-30T17:24:26.124Z"
   },
   {
    "duration": 9,
    "start_time": "2022-03-30T17:24:26.129Z"
   },
   {
    "duration": 401,
    "start_time": "2022-03-30T17:24:26.140Z"
   },
   {
    "duration": 16,
    "start_time": "2022-03-30T17:24:26.543Z"
   },
   {
    "duration": 29,
    "start_time": "2022-03-30T17:24:26.561Z"
   },
   {
    "duration": 17,
    "start_time": "2022-03-30T17:24:26.592Z"
   },
   {
    "duration": 24,
    "start_time": "2022-03-30T17:24:26.612Z"
   },
   {
    "duration": 9,
    "start_time": "2022-03-30T17:24:26.639Z"
   },
   {
    "duration": 25,
    "start_time": "2022-03-30T17:24:26.649Z"
   },
   {
    "duration": 9,
    "start_time": "2022-03-30T17:24:26.701Z"
   },
   {
    "duration": 14,
    "start_time": "2022-03-30T17:24:26.711Z"
   },
   {
    "duration": 16,
    "start_time": "2022-03-30T17:24:26.726Z"
   },
   {
    "duration": 61,
    "start_time": "2022-03-30T17:24:26.744Z"
   },
   {
    "duration": 14,
    "start_time": "2022-03-30T17:24:26.807Z"
   },
   {
    "duration": 3,
    "start_time": "2022-03-30T17:24:26.823Z"
   },
   {
    "duration": 14,
    "start_time": "2022-03-30T17:24:26.828Z"
   },
   {
    "duration": 41,
    "start_time": "2022-03-30T17:24:26.844Z"
   },
   {
    "duration": 19,
    "start_time": "2022-03-30T17:24:26.887Z"
   },
   {
    "duration": 31,
    "start_time": "2022-03-30T17:24:26.908Z"
   },
   {
    "duration": 168,
    "start_time": "2022-03-30T17:24:26.941Z"
   },
   {
    "duration": 29,
    "start_time": "2022-03-30T17:24:27.111Z"
   },
   {
    "duration": 28,
    "start_time": "2022-03-30T17:24:27.142Z"
   },
   {
    "duration": 37,
    "start_time": "2022-03-30T17:24:27.172Z"
   },
   {
    "duration": 6,
    "start_time": "2022-03-30T17:24:27.211Z"
   },
   {
    "duration": 20,
    "start_time": "2022-03-30T17:24:27.221Z"
   },
   {
    "duration": 17,
    "start_time": "2022-03-30T17:24:27.243Z"
   },
   {
    "duration": 12,
    "start_time": "2022-03-30T17:24:27.262Z"
   },
   {
    "duration": 164,
    "start_time": "2022-03-30T17:24:27.302Z"
   },
   {
    "duration": 159,
    "start_time": "2022-03-30T17:24:27.468Z"
   },
   {
    "duration": 22,
    "start_time": "2022-03-30T17:24:27.628Z"
   },
   {
    "duration": 16,
    "start_time": "2022-03-30T17:24:27.652Z"
   },
   {
    "duration": 33,
    "start_time": "2022-03-30T17:24:27.670Z"
   },
   {
    "duration": 13,
    "start_time": "2022-03-30T17:24:27.705Z"
   },
   {
    "duration": 125,
    "start_time": "2022-03-30T17:24:27.720Z"
   },
   {
    "duration": 19,
    "start_time": "2022-03-30T17:24:27.847Z"
   },
   {
    "duration": 51,
    "start_time": "2022-03-30T17:24:27.868Z"
   },
   {
    "duration": 35,
    "start_time": "2022-03-30T17:24:27.922Z"
   },
   {
    "duration": 12,
    "start_time": "2022-03-30T17:24:27.959Z"
   },
   {
    "duration": 41,
    "start_time": "2022-03-30T17:24:27.973Z"
   },
   {
    "duration": 10,
    "start_time": "2022-03-30T17:24:28.016Z"
   },
   {
    "duration": 17,
    "start_time": "2022-03-30T17:24:28.028Z"
   },
   {
    "duration": 11,
    "start_time": "2022-03-30T17:24:28.048Z"
   },
   {
    "duration": 1120,
    "start_time": "2022-03-30T17:24:28.062Z"
   },
   {
    "duration": 461,
    "start_time": "2022-03-30T17:24:29.184Z"
   },
   {
    "duration": 436,
    "start_time": "2022-03-30T17:24:48.914Z"
   },
   {
    "duration": 284,
    "start_time": "2022-03-30T17:24:49.352Z"
   },
   {
    "duration": 551,
    "start_time": "2022-03-30T17:24:49.638Z"
   },
   {
    "duration": 3,
    "start_time": "2022-03-30T17:24:50.191Z"
   },
   {
    "duration": 3,
    "start_time": "2022-03-30T17:24:50.201Z"
   },
   {
    "duration": 416,
    "start_time": "2022-03-30T17:24:50.205Z"
   },
   {
    "duration": 17,
    "start_time": "2022-03-30T17:24:50.623Z"
   },
   {
    "duration": 28,
    "start_time": "2022-03-30T17:24:50.642Z"
   },
   {
    "duration": 10,
    "start_time": "2022-03-30T17:24:50.672Z"
   },
   {
    "duration": 24,
    "start_time": "2022-03-30T17:24:50.701Z"
   },
   {
    "duration": 11,
    "start_time": "2022-03-30T17:24:50.727Z"
   },
   {
    "duration": 26,
    "start_time": "2022-03-30T17:24:50.740Z"
   },
   {
    "duration": 34,
    "start_time": "2022-03-30T17:24:50.767Z"
   },
   {
    "duration": 12,
    "start_time": "2022-03-30T17:24:50.803Z"
   },
   {
    "duration": 14,
    "start_time": "2022-03-30T17:24:50.816Z"
   },
   {
    "duration": 45,
    "start_time": "2022-03-30T17:24:50.832Z"
   },
   {
    "duration": 32,
    "start_time": "2022-03-30T17:24:50.880Z"
   },
   {
    "duration": 4,
    "start_time": "2022-03-30T17:24:50.915Z"
   },
   {
    "duration": 16,
    "start_time": "2022-03-30T17:24:50.921Z"
   },
   {
    "duration": 50,
    "start_time": "2022-03-30T17:24:50.939Z"
   },
   {
    "duration": 10,
    "start_time": "2022-03-30T17:24:50.991Z"
   },
   {
    "duration": 28,
    "start_time": "2022-03-30T17:24:51.003Z"
   },
   {
    "duration": 183,
    "start_time": "2022-03-30T17:24:51.033Z"
   },
   {
    "duration": 30,
    "start_time": "2022-03-30T17:24:51.218Z"
   },
   {
    "duration": 28,
    "start_time": "2022-03-30T17:24:51.250Z"
   },
   {
    "duration": 11,
    "start_time": "2022-03-30T17:24:51.301Z"
   },
   {
    "duration": 13,
    "start_time": "2022-03-30T17:24:51.314Z"
   },
   {
    "duration": 20,
    "start_time": "2022-03-30T17:24:51.331Z"
   },
   {
    "duration": 17,
    "start_time": "2022-03-30T17:24:51.353Z"
   },
   {
    "duration": 32,
    "start_time": "2022-03-30T17:24:51.372Z"
   },
   {
    "duration": 158,
    "start_time": "2022-03-30T17:24:51.405Z"
   },
   {
    "duration": 148,
    "start_time": "2022-03-30T17:24:51.565Z"
   },
   {
    "duration": 21,
    "start_time": "2022-03-30T17:24:51.715Z"
   },
   {
    "duration": 16,
    "start_time": "2022-03-30T17:24:51.738Z"
   },
   {
    "duration": 9,
    "start_time": "2022-03-30T17:24:51.756Z"
   },
   {
    "duration": 40,
    "start_time": "2022-03-30T17:24:51.767Z"
   },
   {
    "duration": 15,
    "start_time": "2022-03-30T17:24:51.809Z"
   },
   {
    "duration": 11,
    "start_time": "2022-03-30T17:24:51.826Z"
   },
   {
    "duration": 65,
    "start_time": "2022-03-30T17:24:51.839Z"
   },
   {
    "duration": 37,
    "start_time": "2022-03-30T17:24:51.906Z"
   },
   {
    "duration": 12,
    "start_time": "2022-03-30T17:24:51.944Z"
   },
   {
    "duration": 49,
    "start_time": "2022-03-30T17:24:51.958Z"
   },
   {
    "duration": 10,
    "start_time": "2022-03-30T17:24:52.009Z"
   },
   {
    "duration": 14,
    "start_time": "2022-03-30T17:24:52.021Z"
   },
   {
    "duration": 10,
    "start_time": "2022-03-30T17:24:52.037Z"
   },
   {
    "duration": 1115,
    "start_time": "2022-03-30T17:24:52.049Z"
   },
   {
    "duration": 463,
    "start_time": "2022-03-30T17:24:53.166Z"
   },
   {
    "duration": 3,
    "start_time": "2022-03-30T17:24:53.631Z"
   },
   {
    "duration": 497,
    "start_time": "2022-03-30T17:28:56.511Z"
   },
   {
    "duration": 328,
    "start_time": "2022-03-30T17:28:57.010Z"
   },
   {
    "duration": 671,
    "start_time": "2022-03-30T17:28:57.340Z"
   },
   {
    "duration": 3,
    "start_time": "2022-03-30T17:28:58.014Z"
   },
   {
    "duration": 6,
    "start_time": "2022-03-30T17:28:58.020Z"
   },
   {
    "duration": 412,
    "start_time": "2022-03-30T17:28:58.028Z"
   },
   {
    "duration": 17,
    "start_time": "2022-03-30T17:28:58.442Z"
   },
   {
    "duration": 29,
    "start_time": "2022-03-30T17:28:58.460Z"
   },
   {
    "duration": 13,
    "start_time": "2022-03-30T17:28:58.490Z"
   },
   {
    "duration": 26,
    "start_time": "2022-03-30T17:28:58.508Z"
   },
   {
    "duration": 9,
    "start_time": "2022-03-30T17:28:58.537Z"
   },
   {
    "duration": 55,
    "start_time": "2022-03-30T17:28:58.549Z"
   },
   {
    "duration": 10,
    "start_time": "2022-03-30T17:28:58.606Z"
   },
   {
    "duration": 15,
    "start_time": "2022-03-30T17:28:58.618Z"
   },
   {
    "duration": 16,
    "start_time": "2022-03-30T17:28:58.635Z"
   },
   {
    "duration": 63,
    "start_time": "2022-03-30T17:28:58.653Z"
   },
   {
    "duration": 15,
    "start_time": "2022-03-30T17:28:58.718Z"
   },
   {
    "duration": 4,
    "start_time": "2022-03-30T17:28:58.735Z"
   },
   {
    "duration": 8,
    "start_time": "2022-03-30T17:28:58.740Z"
   },
   {
    "duration": 57,
    "start_time": "2022-03-30T17:28:58.750Z"
   },
   {
    "duration": 7,
    "start_time": "2022-03-30T17:28:58.809Z"
   },
   {
    "duration": 27,
    "start_time": "2022-03-30T17:28:58.818Z"
   },
   {
    "duration": 186,
    "start_time": "2022-03-30T17:28:58.847Z"
   },
   {
    "duration": 31,
    "start_time": "2022-03-30T17:28:59.036Z"
   },
   {
    "duration": 51,
    "start_time": "2022-03-30T17:28:59.070Z"
   },
   {
    "duration": 11,
    "start_time": "2022-03-30T17:28:59.123Z"
   },
   {
    "duration": 7,
    "start_time": "2022-03-30T17:28:59.136Z"
   },
   {
    "duration": 22,
    "start_time": "2022-03-30T17:28:59.148Z"
   },
   {
    "duration": 45,
    "start_time": "2022-03-30T17:28:59.172Z"
   },
   {
    "duration": 12,
    "start_time": "2022-03-30T17:28:59.219Z"
   },
   {
    "duration": 186,
    "start_time": "2022-03-30T17:28:59.233Z"
   },
   {
    "duration": 159,
    "start_time": "2022-03-30T17:28:59.420Z"
   },
   {
    "duration": 30,
    "start_time": "2022-03-30T17:28:59.581Z"
   },
   {
    "duration": 17,
    "start_time": "2022-03-30T17:28:59.613Z"
   },
   {
    "duration": 9,
    "start_time": "2022-03-30T17:28:59.632Z"
   },
   {
    "duration": 17,
    "start_time": "2022-03-30T17:28:59.643Z"
   },
   {
    "duration": 17,
    "start_time": "2022-03-30T17:28:59.662Z"
   },
   {
    "duration": 29,
    "start_time": "2022-03-30T17:28:59.681Z"
   },
   {
    "duration": 54,
    "start_time": "2022-03-30T17:28:59.712Z"
   },
   {
    "duration": 57,
    "start_time": "2022-03-30T17:28:59.768Z"
   },
   {
    "duration": 13,
    "start_time": "2022-03-30T17:28:59.827Z"
   },
   {
    "duration": 25,
    "start_time": "2022-03-30T17:28:59.842Z"
   },
   {
    "duration": 33,
    "start_time": "2022-03-30T17:28:59.869Z"
   },
   {
    "duration": 17,
    "start_time": "2022-03-30T17:28:59.904Z"
   },
   {
    "duration": 1158,
    "start_time": "2022-03-30T17:28:59.923Z"
   },
   {
    "duration": 74,
    "start_time": "2022-03-30T17:30:53.667Z"
   },
   {
    "duration": 7,
    "start_time": "2022-03-30T17:30:56.197Z"
   },
   {
    "duration": 592,
    "start_time": "2022-03-30T17:31:04.611Z"
   },
   {
    "duration": 293,
    "start_time": "2022-03-30T17:31:06.579Z"
   },
   {
    "duration": 499,
    "start_time": "2022-03-30T17:32:28.202Z"
   },
   {
    "duration": 268,
    "start_time": "2022-03-30T17:32:28.703Z"
   },
   {
    "duration": 553,
    "start_time": "2022-03-30T17:32:28.973Z"
   },
   {
    "duration": 3,
    "start_time": "2022-03-30T17:32:29.529Z"
   },
   {
    "duration": 23,
    "start_time": "2022-03-30T17:32:29.533Z"
   },
   {
    "duration": 559,
    "start_time": "2022-03-30T17:32:29.558Z"
   },
   {
    "duration": 20,
    "start_time": "2022-03-30T17:32:30.119Z"
   },
   {
    "duration": 72,
    "start_time": "2022-03-30T17:32:30.141Z"
   },
   {
    "duration": 13,
    "start_time": "2022-03-30T17:32:30.215Z"
   },
   {
    "duration": 55,
    "start_time": "2022-03-30T17:32:30.232Z"
   },
   {
    "duration": 16,
    "start_time": "2022-03-30T17:32:30.289Z"
   },
   {
    "duration": 63,
    "start_time": "2022-03-30T17:32:30.307Z"
   },
   {
    "duration": 26,
    "start_time": "2022-03-30T17:32:30.372Z"
   },
   {
    "duration": 39,
    "start_time": "2022-03-30T17:32:30.400Z"
   },
   {
    "duration": 48,
    "start_time": "2022-03-30T17:32:30.441Z"
   },
   {
    "duration": 64,
    "start_time": "2022-03-30T17:32:30.491Z"
   },
   {
    "duration": 17,
    "start_time": "2022-03-30T17:32:30.557Z"
   },
   {
    "duration": 16,
    "start_time": "2022-03-30T17:32:30.576Z"
   },
   {
    "duration": 34,
    "start_time": "2022-03-30T17:32:30.594Z"
   },
   {
    "duration": 53,
    "start_time": "2022-03-30T17:32:30.631Z"
   },
   {
    "duration": 7,
    "start_time": "2022-03-30T17:32:30.686Z"
   },
   {
    "duration": 51,
    "start_time": "2022-03-30T17:32:30.695Z"
   },
   {
    "duration": 163,
    "start_time": "2022-03-30T17:32:30.749Z"
   },
   {
    "duration": 35,
    "start_time": "2022-03-30T17:32:30.914Z"
   },
   {
    "duration": 30,
    "start_time": "2022-03-30T17:32:30.950Z"
   },
   {
    "duration": 15,
    "start_time": "2022-03-30T17:32:31.000Z"
   },
   {
    "duration": 23,
    "start_time": "2022-03-30T17:32:31.017Z"
   },
   {
    "duration": 26,
    "start_time": "2022-03-30T17:32:31.045Z"
   },
   {
    "duration": 28,
    "start_time": "2022-03-30T17:32:31.073Z"
   },
   {
    "duration": 14,
    "start_time": "2022-03-30T17:32:31.103Z"
   },
   {
    "duration": 196,
    "start_time": "2022-03-30T17:32:31.119Z"
   },
   {
    "duration": 164,
    "start_time": "2022-03-30T17:32:31.316Z"
   },
   {
    "duration": 31,
    "start_time": "2022-03-30T17:32:31.483Z"
   },
   {
    "duration": 28,
    "start_time": "2022-03-30T17:32:31.516Z"
   },
   {
    "duration": 10,
    "start_time": "2022-03-30T17:32:31.546Z"
   },
   {
    "duration": 22,
    "start_time": "2022-03-30T17:32:31.558Z"
   },
   {
    "duration": 33,
    "start_time": "2022-03-30T17:32:31.582Z"
   },
   {
    "duration": 29,
    "start_time": "2022-03-30T17:32:31.617Z"
   },
   {
    "duration": 67,
    "start_time": "2022-03-30T17:32:31.648Z"
   },
   {
    "duration": 38,
    "start_time": "2022-03-30T17:32:31.717Z"
   },
   {
    "duration": 12,
    "start_time": "2022-03-30T17:32:31.757Z"
   },
   {
    "duration": 47,
    "start_time": "2022-03-30T17:32:31.771Z"
   },
   {
    "duration": 10,
    "start_time": "2022-03-30T17:32:31.820Z"
   },
   {
    "duration": 19,
    "start_time": "2022-03-30T17:32:31.832Z"
   },
   {
    "duration": 1177,
    "start_time": "2022-03-30T17:32:31.853Z"
   },
   {
    "duration": 52,
    "start_time": "2022-03-30T17:36:41.684Z"
   },
   {
    "duration": 472,
    "start_time": "2022-03-30T17:36:44.874Z"
   },
   {
    "duration": 319,
    "start_time": "2022-03-30T17:36:45.349Z"
   },
   {
    "duration": 582,
    "start_time": "2022-03-30T17:36:45.670Z"
   },
   {
    "duration": 2,
    "start_time": "2022-03-30T17:36:46.255Z"
   },
   {
    "duration": 6,
    "start_time": "2022-03-30T17:36:46.259Z"
   },
   {
    "duration": 411,
    "start_time": "2022-03-30T17:36:46.267Z"
   },
   {
    "duration": 15,
    "start_time": "2022-03-30T17:36:46.680Z"
   },
   {
    "duration": 29,
    "start_time": "2022-03-30T17:36:46.697Z"
   },
   {
    "duration": 11,
    "start_time": "2022-03-30T17:36:46.728Z"
   },
   {
    "duration": 27,
    "start_time": "2022-03-30T17:36:46.742Z"
   },
   {
    "duration": 8,
    "start_time": "2022-03-30T17:36:46.771Z"
   },
   {
    "duration": 21,
    "start_time": "2022-03-30T17:36:46.800Z"
   },
   {
    "duration": 8,
    "start_time": "2022-03-30T17:36:46.823Z"
   },
   {
    "duration": 20,
    "start_time": "2022-03-30T17:36:46.833Z"
   },
   {
    "duration": 18,
    "start_time": "2022-03-30T17:36:46.855Z"
   },
   {
    "duration": 50,
    "start_time": "2022-03-30T17:36:46.875Z"
   },
   {
    "duration": 14,
    "start_time": "2022-03-30T17:36:46.927Z"
   },
   {
    "duration": 3,
    "start_time": "2022-03-30T17:36:46.943Z"
   },
   {
    "duration": 16,
    "start_time": "2022-03-30T17:36:46.948Z"
   },
   {
    "duration": 58,
    "start_time": "2022-03-30T17:36:46.965Z"
   },
   {
    "duration": 6,
    "start_time": "2022-03-30T17:36:47.025Z"
   },
   {
    "duration": 26,
    "start_time": "2022-03-30T17:36:47.033Z"
   },
   {
    "duration": 187,
    "start_time": "2022-03-30T17:36:47.061Z"
   },
   {
    "duration": 50,
    "start_time": "2022-03-30T17:36:47.251Z"
   },
   {
    "duration": 33,
    "start_time": "2022-03-30T17:36:47.303Z"
   },
   {
    "duration": 12,
    "start_time": "2022-03-30T17:36:47.338Z"
   },
   {
    "duration": 21,
    "start_time": "2022-03-30T17:36:47.352Z"
   },
   {
    "duration": 33,
    "start_time": "2022-03-30T17:36:47.378Z"
   },
   {
    "duration": 20,
    "start_time": "2022-03-30T17:36:47.412Z"
   },
   {
    "duration": 12,
    "start_time": "2022-03-30T17:36:47.434Z"
   },
   {
    "duration": 199,
    "start_time": "2022-03-30T17:36:47.448Z"
   },
   {
    "duration": 154,
    "start_time": "2022-03-30T17:36:47.649Z"
   },
   {
    "duration": 22,
    "start_time": "2022-03-30T17:36:47.805Z"
   },
   {
    "duration": 17,
    "start_time": "2022-03-30T17:36:47.830Z"
   },
   {
    "duration": 9,
    "start_time": "2022-03-30T17:36:47.849Z"
   },
   {
    "duration": 40,
    "start_time": "2022-03-30T17:36:47.861Z"
   },
   {
    "duration": 14,
    "start_time": "2022-03-30T17:36:47.903Z"
   },
   {
    "duration": 11,
    "start_time": "2022-03-30T17:36:47.920Z"
   },
   {
    "duration": 77,
    "start_time": "2022-03-30T17:36:47.933Z"
   },
   {
    "duration": 35,
    "start_time": "2022-03-30T17:36:48.012Z"
   },
   {
    "duration": 11,
    "start_time": "2022-03-30T17:36:48.049Z"
   },
   {
    "duration": 46,
    "start_time": "2022-03-30T17:36:48.061Z"
   },
   {
    "duration": 9,
    "start_time": "2022-03-30T17:36:48.110Z"
   },
   {
    "duration": 15,
    "start_time": "2022-03-30T17:36:48.120Z"
   },
   {
    "duration": 1319,
    "start_time": "2022-03-30T17:36:48.137Z"
   },
   {
    "duration": 406,
    "start_time": "2022-03-30T17:37:04.228Z"
   },
   {
    "duration": 293,
    "start_time": "2022-03-30T17:37:04.637Z"
   },
   {
    "duration": 496,
    "start_time": "2022-03-30T17:37:04.932Z"
   },
   {
    "duration": 3,
    "start_time": "2022-03-30T17:37:05.431Z"
   },
   {
    "duration": 11,
    "start_time": "2022-03-30T17:37:05.436Z"
   },
   {
    "duration": 417,
    "start_time": "2022-03-30T17:37:05.449Z"
   },
   {
    "duration": 15,
    "start_time": "2022-03-30T17:37:05.868Z"
   },
   {
    "duration": 157,
    "start_time": "2022-03-30T17:37:05.885Z"
   },
   {
    "duration": 58,
    "start_time": "2022-03-30T17:37:06.044Z"
   },
   {
    "duration": 183,
    "start_time": "2022-03-30T17:37:06.105Z"
   },
   {
    "duration": 11,
    "start_time": "2022-03-30T17:37:06.290Z"
   },
   {
    "duration": 26,
    "start_time": "2022-03-30T17:37:06.303Z"
   },
   {
    "duration": 9,
    "start_time": "2022-03-30T17:37:06.331Z"
   },
   {
    "duration": 18,
    "start_time": "2022-03-30T17:37:06.342Z"
   },
   {
    "duration": 16,
    "start_time": "2022-03-30T17:37:06.362Z"
   },
   {
    "duration": 49,
    "start_time": "2022-03-30T17:37:06.379Z"
   },
   {
    "duration": 16,
    "start_time": "2022-03-30T17:37:06.430Z"
   },
   {
    "duration": 3,
    "start_time": "2022-03-30T17:37:06.447Z"
   },
   {
    "duration": 7,
    "start_time": "2022-03-30T17:37:06.452Z"
   },
   {
    "duration": 56,
    "start_time": "2022-03-30T17:37:06.461Z"
   },
   {
    "duration": 6,
    "start_time": "2022-03-30T17:37:06.519Z"
   },
   {
    "duration": 27,
    "start_time": "2022-03-30T17:37:06.527Z"
   },
   {
    "duration": 180,
    "start_time": "2022-03-30T17:37:06.556Z"
   },
   {
    "duration": 31,
    "start_time": "2022-03-30T17:37:06.738Z"
   },
   {
    "duration": 48,
    "start_time": "2022-03-30T17:37:06.771Z"
   },
   {
    "duration": 10,
    "start_time": "2022-03-30T17:37:06.821Z"
   },
   {
    "duration": 6,
    "start_time": "2022-03-30T17:37:06.833Z"
   },
   {
    "duration": 19,
    "start_time": "2022-03-30T17:37:06.843Z"
   },
   {
    "duration": 43,
    "start_time": "2022-03-30T17:37:06.864Z"
   },
   {
    "duration": 12,
    "start_time": "2022-03-30T17:37:06.909Z"
   },
   {
    "duration": 167,
    "start_time": "2022-03-30T17:37:06.923Z"
   },
   {
    "duration": 156,
    "start_time": "2022-03-30T17:37:07.091Z"
   },
   {
    "duration": 23,
    "start_time": "2022-03-30T17:37:07.248Z"
   },
   {
    "duration": 33,
    "start_time": "2022-03-30T17:37:07.273Z"
   },
   {
    "duration": 10,
    "start_time": "2022-03-30T17:37:07.308Z"
   },
   {
    "duration": 24,
    "start_time": "2022-03-30T17:37:07.320Z"
   },
   {
    "duration": 23,
    "start_time": "2022-03-30T17:37:07.346Z"
   },
   {
    "duration": 14,
    "start_time": "2022-03-30T17:37:07.371Z"
   },
   {
    "duration": 60,
    "start_time": "2022-03-30T17:37:07.388Z"
   },
   {
    "duration": 36,
    "start_time": "2022-03-30T17:37:07.450Z"
   },
   {
    "duration": 11,
    "start_time": "2022-03-30T17:37:07.502Z"
   },
   {
    "duration": 30,
    "start_time": "2022-03-30T17:37:07.516Z"
   },
   {
    "duration": 9,
    "start_time": "2022-03-30T17:37:07.548Z"
   },
   {
    "duration": 45,
    "start_time": "2022-03-30T17:37:07.559Z"
   },
   {
    "duration": 1102,
    "start_time": "2022-03-30T17:37:07.606Z"
   },
   {
    "duration": 452,
    "start_time": "2022-03-30T17:39:51.702Z"
   },
   {
    "duration": 315,
    "start_time": "2022-03-30T17:39:52.156Z"
   },
   {
    "duration": 555,
    "start_time": "2022-03-30T17:39:52.472Z"
   },
   {
    "duration": 3,
    "start_time": "2022-03-30T17:39:53.029Z"
   },
   {
    "duration": 8,
    "start_time": "2022-03-30T17:39:53.034Z"
   },
   {
    "duration": 420,
    "start_time": "2022-03-30T17:39:53.043Z"
   },
   {
    "duration": 15,
    "start_time": "2022-03-30T17:39:53.465Z"
   },
   {
    "duration": 29,
    "start_time": "2022-03-30T17:39:53.482Z"
   },
   {
    "duration": 10,
    "start_time": "2022-03-30T17:39:53.513Z"
   },
   {
    "duration": 27,
    "start_time": "2022-03-30T17:39:53.526Z"
   },
   {
    "duration": 9,
    "start_time": "2022-03-30T17:39:53.555Z"
   },
   {
    "duration": 49,
    "start_time": "2022-03-30T17:39:53.566Z"
   },
   {
    "duration": 10,
    "start_time": "2022-03-30T17:39:53.617Z"
   },
   {
    "duration": 15,
    "start_time": "2022-03-30T17:39:53.629Z"
   },
   {
    "duration": 15,
    "start_time": "2022-03-30T17:39:53.646Z"
   },
   {
    "duration": 62,
    "start_time": "2022-03-30T17:39:53.663Z"
   },
   {
    "duration": 14,
    "start_time": "2022-03-30T17:39:53.726Z"
   },
   {
    "duration": 3,
    "start_time": "2022-03-30T17:39:53.741Z"
   },
   {
    "duration": 12,
    "start_time": "2022-03-30T17:39:53.746Z"
   },
   {
    "duration": 58,
    "start_time": "2022-03-30T17:39:53.760Z"
   },
   {
    "duration": 6,
    "start_time": "2022-03-30T17:39:53.820Z"
   },
   {
    "duration": 24,
    "start_time": "2022-03-30T17:39:53.828Z"
   },
   {
    "duration": 188,
    "start_time": "2022-03-30T17:39:53.854Z"
   },
   {
    "duration": 33,
    "start_time": "2022-03-30T17:39:54.044Z"
   },
   {
    "duration": 46,
    "start_time": "2022-03-30T17:39:54.079Z"
   },
   {
    "duration": 10,
    "start_time": "2022-03-30T17:39:54.127Z"
   },
   {
    "duration": 18,
    "start_time": "2022-03-30T17:39:54.139Z"
   },
   {
    "duration": 21,
    "start_time": "2022-03-30T17:39:54.161Z"
   },
   {
    "duration": 31,
    "start_time": "2022-03-30T17:39:54.184Z"
   },
   {
    "duration": 12,
    "start_time": "2022-03-30T17:39:54.216Z"
   },
   {
    "duration": 284,
    "start_time": "2022-03-30T17:39:54.230Z"
   },
   {
    "duration": 168,
    "start_time": "2022-03-30T17:39:54.517Z"
   },
   {
    "duration": 25,
    "start_time": "2022-03-30T17:39:54.688Z"
   },
   {
    "duration": 18,
    "start_time": "2022-03-30T17:39:54.715Z"
   },
   {
    "duration": 9,
    "start_time": "2022-03-30T17:39:54.735Z"
   },
   {
    "duration": 19,
    "start_time": "2022-03-30T17:39:54.746Z"
   },
   {
    "duration": 35,
    "start_time": "2022-03-30T17:39:54.767Z"
   },
   {
    "duration": 16,
    "start_time": "2022-03-30T17:39:54.804Z"
   },
   {
    "duration": 63,
    "start_time": "2022-03-30T17:39:54.822Z"
   },
   {
    "duration": 46,
    "start_time": "2022-03-30T17:39:54.887Z"
   },
   {
    "duration": 11,
    "start_time": "2022-03-30T17:39:54.935Z"
   },
   {
    "duration": 28,
    "start_time": "2022-03-30T17:39:54.948Z"
   },
   {
    "duration": 28,
    "start_time": "2022-03-30T17:39:54.978Z"
   },
   {
    "duration": 20,
    "start_time": "2022-03-30T17:39:55.008Z"
   },
   {
    "duration": 1128,
    "start_time": "2022-03-30T17:39:55.030Z"
   },
   {
    "duration": 264,
    "start_time": "2022-03-30T17:40:20.287Z"
   },
   {
    "duration": 3,
    "start_time": "2022-03-30T17:40:21.515Z"
   },
   {
    "duration": 3,
    "start_time": "2022-03-30T17:40:31.074Z"
   },
   {
    "duration": 15,
    "start_time": "2022-03-30T17:40:31.079Z"
   },
   {
    "duration": 67,
    "start_time": "2022-03-30T17:40:31.097Z"
   },
   {
    "duration": 0,
    "start_time": "2022-03-30T17:40:31.167Z"
   },
   {
    "duration": 0,
    "start_time": "2022-03-30T17:40:31.168Z"
   },
   {
    "duration": 0,
    "start_time": "2022-03-30T17:40:31.170Z"
   },
   {
    "duration": 0,
    "start_time": "2022-03-30T17:40:31.170Z"
   },
   {
    "duration": 0,
    "start_time": "2022-03-30T17:40:31.171Z"
   },
   {
    "duration": 0,
    "start_time": "2022-03-30T17:40:31.200Z"
   },
   {
    "duration": 0,
    "start_time": "2022-03-30T17:40:31.202Z"
   },
   {
    "duration": 0,
    "start_time": "2022-03-30T17:40:31.203Z"
   },
   {
    "duration": 0,
    "start_time": "2022-03-30T17:40:31.204Z"
   },
   {
    "duration": 0,
    "start_time": "2022-03-30T17:40:31.206Z"
   },
   {
    "duration": 0,
    "start_time": "2022-03-30T17:40:31.207Z"
   },
   {
    "duration": 0,
    "start_time": "2022-03-30T17:40:31.208Z"
   },
   {
    "duration": 0,
    "start_time": "2022-03-30T17:40:31.209Z"
   },
   {
    "duration": 0,
    "start_time": "2022-03-30T17:40:31.210Z"
   },
   {
    "duration": 0,
    "start_time": "2022-03-30T17:40:31.211Z"
   },
   {
    "duration": 0,
    "start_time": "2022-03-30T17:40:31.211Z"
   },
   {
    "duration": 0,
    "start_time": "2022-03-30T17:40:31.212Z"
   },
   {
    "duration": 0,
    "start_time": "2022-03-30T17:40:31.214Z"
   },
   {
    "duration": 0,
    "start_time": "2022-03-30T17:40:31.215Z"
   },
   {
    "duration": 0,
    "start_time": "2022-03-30T17:40:31.216Z"
   },
   {
    "duration": 0,
    "start_time": "2022-03-30T17:40:31.217Z"
   },
   {
    "duration": 0,
    "start_time": "2022-03-30T17:40:31.218Z"
   },
   {
    "duration": 0,
    "start_time": "2022-03-30T17:40:31.219Z"
   },
   {
    "duration": 0,
    "start_time": "2022-03-30T17:40:31.221Z"
   },
   {
    "duration": 0,
    "start_time": "2022-03-30T17:40:31.222Z"
   },
   {
    "duration": 0,
    "start_time": "2022-03-30T17:40:31.223Z"
   },
   {
    "duration": 0,
    "start_time": "2022-03-30T17:40:31.224Z"
   },
   {
    "duration": 0,
    "start_time": "2022-03-30T17:40:31.225Z"
   },
   {
    "duration": 0,
    "start_time": "2022-03-30T17:40:31.226Z"
   },
   {
    "duration": 0,
    "start_time": "2022-03-30T17:40:31.227Z"
   },
   {
    "duration": 0,
    "start_time": "2022-03-30T17:40:31.228Z"
   },
   {
    "duration": 0,
    "start_time": "2022-03-30T17:40:31.229Z"
   },
   {
    "duration": 0,
    "start_time": "2022-03-30T17:40:31.229Z"
   },
   {
    "duration": 0,
    "start_time": "2022-03-30T17:40:31.230Z"
   },
   {
    "duration": 0,
    "start_time": "2022-03-30T17:40:31.231Z"
   },
   {
    "duration": 0,
    "start_time": "2022-03-30T17:40:31.232Z"
   },
   {
    "duration": 0,
    "start_time": "2022-03-30T17:40:31.233Z"
   },
   {
    "duration": 0,
    "start_time": "2022-03-30T17:40:31.235Z"
   },
   {
    "duration": 0,
    "start_time": "2022-03-30T17:40:31.235Z"
   },
   {
    "duration": 0,
    "start_time": "2022-03-30T17:40:31.237Z"
   },
   {
    "duration": 216,
    "start_time": "2022-03-30T17:40:47.339Z"
   },
   {
    "duration": 4,
    "start_time": "2022-03-30T17:40:47.558Z"
   },
   {
    "duration": 71,
    "start_time": "2022-03-30T17:40:47.564Z"
   },
   {
    "duration": 0,
    "start_time": "2022-03-30T17:40:47.638Z"
   },
   {
    "duration": 0,
    "start_time": "2022-03-30T17:40:47.640Z"
   },
   {
    "duration": 0,
    "start_time": "2022-03-30T17:40:47.641Z"
   },
   {
    "duration": 0,
    "start_time": "2022-03-30T17:40:47.642Z"
   },
   {
    "duration": 0,
    "start_time": "2022-03-30T17:40:47.643Z"
   },
   {
    "duration": 0,
    "start_time": "2022-03-30T17:40:47.644Z"
   },
   {
    "duration": 0,
    "start_time": "2022-03-30T17:40:47.645Z"
   },
   {
    "duration": 0,
    "start_time": "2022-03-30T17:40:47.646Z"
   },
   {
    "duration": 0,
    "start_time": "2022-03-30T17:40:47.647Z"
   },
   {
    "duration": 0,
    "start_time": "2022-03-30T17:40:47.648Z"
   },
   {
    "duration": 0,
    "start_time": "2022-03-30T17:40:47.649Z"
   },
   {
    "duration": 0,
    "start_time": "2022-03-30T17:40:47.650Z"
   },
   {
    "duration": 0,
    "start_time": "2022-03-30T17:40:47.651Z"
   },
   {
    "duration": 0,
    "start_time": "2022-03-30T17:40:47.652Z"
   },
   {
    "duration": 0,
    "start_time": "2022-03-30T17:40:47.653Z"
   },
   {
    "duration": 0,
    "start_time": "2022-03-30T17:40:47.654Z"
   },
   {
    "duration": 0,
    "start_time": "2022-03-30T17:40:47.655Z"
   },
   {
    "duration": 0,
    "start_time": "2022-03-30T17:40:47.656Z"
   },
   {
    "duration": 0,
    "start_time": "2022-03-30T17:40:47.657Z"
   },
   {
    "duration": 0,
    "start_time": "2022-03-30T17:40:47.658Z"
   },
   {
    "duration": 0,
    "start_time": "2022-03-30T17:40:47.660Z"
   },
   {
    "duration": 0,
    "start_time": "2022-03-30T17:40:47.661Z"
   },
   {
    "duration": 0,
    "start_time": "2022-03-30T17:40:47.662Z"
   },
   {
    "duration": 0,
    "start_time": "2022-03-30T17:40:47.663Z"
   },
   {
    "duration": 0,
    "start_time": "2022-03-30T17:40:47.664Z"
   },
   {
    "duration": 0,
    "start_time": "2022-03-30T17:40:47.702Z"
   },
   {
    "duration": 0,
    "start_time": "2022-03-30T17:40:47.703Z"
   },
   {
    "duration": 0,
    "start_time": "2022-03-30T17:40:47.704Z"
   },
   {
    "duration": 0,
    "start_time": "2022-03-30T17:40:47.705Z"
   },
   {
    "duration": 0,
    "start_time": "2022-03-30T17:40:47.706Z"
   },
   {
    "duration": 0,
    "start_time": "2022-03-30T17:40:47.707Z"
   },
   {
    "duration": 0,
    "start_time": "2022-03-30T17:40:47.708Z"
   },
   {
    "duration": 0,
    "start_time": "2022-03-30T17:40:47.710Z"
   },
   {
    "duration": 0,
    "start_time": "2022-03-30T17:40:47.711Z"
   },
   {
    "duration": 0,
    "start_time": "2022-03-30T17:40:47.712Z"
   },
   {
    "duration": 0,
    "start_time": "2022-03-30T17:40:47.713Z"
   },
   {
    "duration": 0,
    "start_time": "2022-03-30T17:40:47.714Z"
   },
   {
    "duration": 0,
    "start_time": "2022-03-30T17:40:47.715Z"
   },
   {
    "duration": 0,
    "start_time": "2022-03-30T17:40:47.716Z"
   },
   {
    "duration": 0,
    "start_time": "2022-03-30T17:40:47.717Z"
   },
   {
    "duration": 948,
    "start_time": "2022-03-30T17:41:44.629Z"
   },
   {
    "duration": 410,
    "start_time": "2022-03-30T17:41:45.579Z"
   },
   {
    "duration": 19,
    "start_time": "2022-03-30T17:41:45.991Z"
   },
   {
    "duration": 30,
    "start_time": "2022-03-30T17:41:46.013Z"
   },
   {
    "duration": 11,
    "start_time": "2022-03-30T17:41:46.045Z"
   },
   {
    "duration": 56,
    "start_time": "2022-03-30T17:41:46.058Z"
   },
   {
    "duration": 10,
    "start_time": "2022-03-30T17:41:46.116Z"
   },
   {
    "duration": 23,
    "start_time": "2022-03-30T17:41:46.128Z"
   },
   {
    "duration": 11,
    "start_time": "2022-03-30T17:41:46.153Z"
   },
   {
    "duration": 12,
    "start_time": "2022-03-30T17:41:46.201Z"
   },
   {
    "duration": 15,
    "start_time": "2022-03-30T17:41:46.215Z"
   },
   {
    "duration": 38,
    "start_time": "2022-03-30T17:41:46.233Z"
   },
   {
    "duration": 42,
    "start_time": "2022-03-30T17:41:46.273Z"
   },
   {
    "duration": 4,
    "start_time": "2022-03-30T17:41:46.318Z"
   },
   {
    "duration": 6,
    "start_time": "2022-03-30T17:41:46.324Z"
   },
   {
    "duration": 41,
    "start_time": "2022-03-30T17:41:46.331Z"
   },
   {
    "duration": 27,
    "start_time": "2022-03-30T17:41:46.374Z"
   },
   {
    "duration": 27,
    "start_time": "2022-03-30T17:41:46.403Z"
   },
   {
    "duration": 191,
    "start_time": "2022-03-30T17:41:46.431Z"
   },
   {
    "duration": 35,
    "start_time": "2022-03-30T17:41:46.624Z"
   },
   {
    "duration": 56,
    "start_time": "2022-03-30T17:41:46.661Z"
   },
   {
    "duration": 11,
    "start_time": "2022-03-30T17:41:46.719Z"
   },
   {
    "duration": 7,
    "start_time": "2022-03-30T17:41:46.733Z"
   },
   {
    "duration": 21,
    "start_time": "2022-03-30T17:41:46.742Z"
   },
   {
    "duration": 48,
    "start_time": "2022-03-30T17:41:46.765Z"
   },
   {
    "duration": 13,
    "start_time": "2022-03-30T17:41:46.815Z"
   },
   {
    "duration": 175,
    "start_time": "2022-03-30T17:41:46.831Z"
   },
   {
    "duration": 160,
    "start_time": "2022-03-30T17:41:47.011Z"
   },
   {
    "duration": 34,
    "start_time": "2022-03-30T17:41:47.172Z"
   },
   {
    "duration": 18,
    "start_time": "2022-03-30T17:41:47.208Z"
   },
   {
    "duration": 10,
    "start_time": "2022-03-30T17:41:47.228Z"
   },
   {
    "duration": 10,
    "start_time": "2022-03-30T17:41:47.240Z"
   },
   {
    "duration": 14,
    "start_time": "2022-03-30T17:41:47.252Z"
   },
   {
    "duration": 42,
    "start_time": "2022-03-30T17:41:47.268Z"
   },
   {
    "duration": 50,
    "start_time": "2022-03-30T17:41:47.312Z"
   },
   {
    "duration": 61,
    "start_time": "2022-03-30T17:41:47.364Z"
   },
   {
    "duration": 12,
    "start_time": "2022-03-30T17:41:47.426Z"
   },
   {
    "duration": 32,
    "start_time": "2022-03-30T17:41:47.439Z"
   },
   {
    "duration": 29,
    "start_time": "2022-03-30T17:41:47.473Z"
   },
   {
    "duration": 16,
    "start_time": "2022-03-30T17:41:47.504Z"
   },
   {
    "duration": 1147,
    "start_time": "2022-03-30T17:41:47.522Z"
   },
   {
    "duration": 1376,
    "start_time": "2022-03-30T17:42:07.291Z"
   },
   {
    "duration": 401,
    "start_time": "2022-03-30T17:42:10.531Z"
   },
   {
    "duration": 17,
    "start_time": "2022-03-30T17:42:13.224Z"
   },
   {
    "duration": 31,
    "start_time": "2022-03-30T17:42:15.693Z"
   },
   {
    "duration": 10,
    "start_time": "2022-03-30T17:42:17.902Z"
   },
   {
    "duration": 37,
    "start_time": "2022-03-30T17:42:36.613Z"
   },
   {
    "duration": 3,
    "start_time": "2022-03-30T17:42:39.615Z"
   },
   {
    "duration": 17,
    "start_time": "2022-03-30T17:42:41.845Z"
   },
   {
    "duration": 40,
    "start_time": "2022-03-30T17:42:43.618Z"
   },
   {
    "duration": 98,
    "start_time": "2022-03-30T17:42:45.423Z"
   },
   {
    "duration": 4,
    "start_time": "2022-03-30T17:45:00.747Z"
   },
   {
    "duration": 10,
    "start_time": "2022-03-30T17:45:06.419Z"
   },
   {
    "duration": 4,
    "start_time": "2022-03-30T17:45:11.267Z"
   },
   {
    "duration": 7,
    "start_time": "2022-03-30T17:45:12.795Z"
   },
   {
    "duration": 24,
    "start_time": "2022-03-30T17:45:15.263Z"
   },
   {
    "duration": 167,
    "start_time": "2022-03-30T17:45:16.701Z"
   },
   {
    "duration": 27,
    "start_time": "2022-03-30T17:45:19.676Z"
   },
   {
    "duration": 4,
    "start_time": "2022-03-30T17:45:21.910Z"
   },
   {
    "duration": 19,
    "start_time": "2022-03-30T17:45:23.328Z"
   },
   {
    "duration": 20,
    "start_time": "2022-03-30T17:45:24.899Z"
   },
   {
    "duration": 24,
    "start_time": "2022-03-30T17:45:30.379Z"
   },
   {
    "duration": 17,
    "start_time": "2022-03-30T17:45:32.066Z"
   },
   {
    "duration": 10,
    "start_time": "2022-03-30T17:45:33.652Z"
   },
   {
    "duration": 9,
    "start_time": "2022-03-30T17:45:35.778Z"
   },
   {
    "duration": 49,
    "start_time": "2022-03-30T17:45:39.409Z"
   },
   {
    "duration": 34,
    "start_time": "2022-03-30T17:45:41.535Z"
   },
   {
    "duration": 23,
    "start_time": "2022-03-30T17:45:44.650Z"
   },
   {
    "duration": 10,
    "start_time": "2022-03-30T17:45:46.949Z"
   },
   {
    "duration": 1098,
    "start_time": "2022-03-30T17:45:51.382Z"
   },
   {
    "duration": 1180,
    "start_time": "2022-03-30T17:49:27.587Z"
   },
   {
    "duration": 392,
    "start_time": "2022-03-30T17:49:28.770Z"
   },
   {
    "duration": 15,
    "start_time": "2022-03-30T17:49:29.164Z"
   },
   {
    "duration": 28,
    "start_time": "2022-03-30T17:49:29.181Z"
   },
   {
    "duration": 14,
    "start_time": "2022-03-30T17:49:29.213Z"
   },
   {
    "duration": 24,
    "start_time": "2022-03-30T17:49:29.229Z"
   },
   {
    "duration": 9,
    "start_time": "2022-03-30T17:49:29.255Z"
   },
   {
    "duration": 49,
    "start_time": "2022-03-30T17:49:29.265Z"
   },
   {
    "duration": 10,
    "start_time": "2022-03-30T17:49:29.316Z"
   },
   {
    "duration": 16,
    "start_time": "2022-03-30T17:49:29.328Z"
   },
   {
    "duration": 14,
    "start_time": "2022-03-30T17:49:29.346Z"
   },
   {
    "duration": 66,
    "start_time": "2022-03-30T17:49:29.362Z"
   },
   {
    "duration": 18,
    "start_time": "2022-03-30T17:49:29.430Z"
   },
   {
    "duration": 4,
    "start_time": "2022-03-30T17:49:29.451Z"
   },
   {
    "duration": 10,
    "start_time": "2022-03-30T17:49:29.457Z"
   },
   {
    "duration": 58,
    "start_time": "2022-03-30T17:49:29.469Z"
   },
   {
    "duration": 6,
    "start_time": "2022-03-30T17:49:29.529Z"
   },
   {
    "duration": 27,
    "start_time": "2022-03-30T17:49:29.537Z"
   },
   {
    "duration": 250,
    "start_time": "2022-03-30T17:49:29.566Z"
   },
   {
    "duration": 35,
    "start_time": "2022-03-30T17:49:29.818Z"
   },
   {
    "duration": 46,
    "start_time": "2022-03-30T17:49:29.855Z"
   },
   {
    "duration": 12,
    "start_time": "2022-03-30T17:49:29.903Z"
   },
   {
    "duration": 8,
    "start_time": "2022-03-30T17:49:29.917Z"
   },
   {
    "duration": 22,
    "start_time": "2022-03-30T17:49:29.927Z"
   },
   {
    "duration": 50,
    "start_time": "2022-03-30T17:49:29.951Z"
   },
   {
    "duration": 14,
    "start_time": "2022-03-30T17:49:30.003Z"
   },
   {
    "duration": 186,
    "start_time": "2022-03-30T17:49:30.020Z"
   },
   {
    "duration": 161,
    "start_time": "2022-03-30T17:49:30.208Z"
   },
   {
    "duration": 30,
    "start_time": "2022-03-30T17:49:30.371Z"
   },
   {
    "duration": 17,
    "start_time": "2022-03-30T17:49:30.403Z"
   },
   {
    "duration": 15,
    "start_time": "2022-03-30T17:49:30.423Z"
   },
   {
    "duration": 15,
    "start_time": "2022-03-30T17:49:30.439Z"
   },
   {
    "duration": 30,
    "start_time": "2022-03-30T17:49:30.456Z"
   },
   {
    "duration": 23,
    "start_time": "2022-03-30T17:49:30.489Z"
   },
   {
    "duration": 68,
    "start_time": "2022-03-30T17:49:30.514Z"
   },
   {
    "duration": 42,
    "start_time": "2022-03-30T17:49:30.584Z"
   },
   {
    "duration": 12,
    "start_time": "2022-03-30T17:49:30.628Z"
   },
   {
    "duration": 42,
    "start_time": "2022-03-30T17:49:30.642Z"
   },
   {
    "duration": 16,
    "start_time": "2022-03-30T17:49:30.686Z"
   },
   {
    "duration": 24,
    "start_time": "2022-03-30T17:49:30.705Z"
   },
   {
    "duration": 1168,
    "start_time": "2022-03-30T17:49:30.733Z"
   },
   {
    "duration": 116,
    "start_time": "2022-03-30T17:49:31.903Z"
   },
   {
    "duration": 15,
    "start_time": "2022-03-30T17:50:07.379Z"
   },
   {
    "duration": 15,
    "start_time": "2022-03-30T17:52:40.198Z"
   },
   {
    "duration": 19,
    "start_time": "2022-03-30T17:53:32.964Z"
   },
   {
    "duration": 3,
    "start_time": "2022-03-30T17:53:43.517Z"
   },
   {
    "duration": 400,
    "start_time": "2022-03-30T17:53:43.523Z"
   },
   {
    "duration": 12,
    "start_time": "2022-03-30T17:53:43.925Z"
   },
   {
    "duration": 31,
    "start_time": "2022-03-30T17:53:43.939Z"
   },
   {
    "duration": 12,
    "start_time": "2022-03-30T17:53:43.972Z"
   },
   {
    "duration": 36,
    "start_time": "2022-03-30T17:53:43.985Z"
   },
   {
    "duration": 10,
    "start_time": "2022-03-30T17:53:44.022Z"
   },
   {
    "duration": 26,
    "start_time": "2022-03-30T17:53:44.034Z"
   },
   {
    "duration": 38,
    "start_time": "2022-03-30T17:53:44.064Z"
   },
   {
    "duration": 25,
    "start_time": "2022-03-30T17:53:44.107Z"
   },
   {
    "duration": 25,
    "start_time": "2022-03-30T17:53:44.134Z"
   },
   {
    "duration": 41,
    "start_time": "2022-03-30T17:53:44.161Z"
   },
   {
    "duration": 12,
    "start_time": "2022-03-30T17:53:44.204Z"
   },
   {
    "duration": 5,
    "start_time": "2022-03-30T17:53:44.218Z"
   },
   {
    "duration": 5,
    "start_time": "2022-03-30T17:53:44.225Z"
   },
   {
    "duration": 37,
    "start_time": "2022-03-30T17:53:44.233Z"
   },
   {
    "duration": 30,
    "start_time": "2022-03-30T17:53:44.272Z"
   },
   {
    "duration": 25,
    "start_time": "2022-03-30T17:53:44.305Z"
   },
   {
    "duration": 186,
    "start_time": "2022-03-30T17:53:44.333Z"
   },
   {
    "duration": 35,
    "start_time": "2022-03-30T17:53:44.521Z"
   },
   {
    "duration": 65,
    "start_time": "2022-03-30T17:53:44.559Z"
   },
   {
    "duration": 16,
    "start_time": "2022-03-30T17:53:44.626Z"
   },
   {
    "duration": 14,
    "start_time": "2022-03-30T17:53:44.645Z"
   },
   {
    "duration": 37,
    "start_time": "2022-03-30T17:53:44.664Z"
   },
   {
    "duration": 18,
    "start_time": "2022-03-30T17:53:44.703Z"
   },
   {
    "duration": 14,
    "start_time": "2022-03-30T17:53:44.723Z"
   },
   {
    "duration": 185,
    "start_time": "2022-03-30T17:53:44.739Z"
   },
   {
    "duration": 187,
    "start_time": "2022-03-30T17:53:44.927Z"
   },
   {
    "duration": 24,
    "start_time": "2022-03-30T17:53:45.116Z"
   },
   {
    "duration": 18,
    "start_time": "2022-03-30T17:53:45.142Z"
   },
   {
    "duration": 13,
    "start_time": "2022-03-30T17:53:45.162Z"
   },
   {
    "duration": 12,
    "start_time": "2022-03-30T17:53:45.202Z"
   },
   {
    "duration": 25,
    "start_time": "2022-03-30T17:53:45.216Z"
   },
   {
    "duration": 14,
    "start_time": "2022-03-30T17:53:45.243Z"
   },
   {
    "duration": 76,
    "start_time": "2022-03-30T17:53:45.259Z"
   },
   {
    "duration": 32,
    "start_time": "2022-03-30T17:53:45.337Z"
   },
   {
    "duration": 12,
    "start_time": "2022-03-30T17:53:45.371Z"
   },
   {
    "duration": 29,
    "start_time": "2022-03-30T17:53:45.402Z"
   },
   {
    "duration": 13,
    "start_time": "2022-03-30T17:53:45.433Z"
   },
   {
    "duration": 18,
    "start_time": "2022-03-30T17:53:45.449Z"
   },
   {
    "duration": 23,
    "start_time": "2022-03-30T17:53:45.501Z"
   },
   {
    "duration": 0,
    "start_time": "2022-03-30T17:53:45.527Z"
   },
   {
    "duration": 16,
    "start_time": "2022-03-30T17:54:09.347Z"
   },
   {
    "duration": 48,
    "start_time": "2022-03-31T11:51:22.602Z"
   },
   {
    "duration": 1283,
    "start_time": "2022-03-31T11:51:27.440Z"
   },
   {
    "duration": 416,
    "start_time": "2022-03-31T11:51:28.726Z"
   },
   {
    "duration": 16,
    "start_time": "2022-03-31T11:51:29.143Z"
   },
   {
    "duration": 34,
    "start_time": "2022-03-31T11:51:29.162Z"
   },
   {
    "duration": 10,
    "start_time": "2022-03-31T11:51:29.200Z"
   },
   {
    "duration": 46,
    "start_time": "2022-03-31T11:51:29.212Z"
   },
   {
    "duration": 9,
    "start_time": "2022-03-31T11:51:29.261Z"
   },
   {
    "duration": 22,
    "start_time": "2022-03-31T11:51:29.272Z"
   },
   {
    "duration": 9,
    "start_time": "2022-03-31T11:51:29.296Z"
   },
   {
    "duration": 41,
    "start_time": "2022-03-31T11:51:29.307Z"
   },
   {
    "duration": 13,
    "start_time": "2022-03-31T11:51:29.351Z"
   },
   {
    "duration": 45,
    "start_time": "2022-03-31T11:51:29.367Z"
   },
   {
    "duration": 37,
    "start_time": "2022-03-31T11:51:29.414Z"
   },
   {
    "duration": 3,
    "start_time": "2022-03-31T11:51:29.456Z"
   },
   {
    "duration": 22,
    "start_time": "2022-03-31T11:51:29.461Z"
   },
   {
    "duration": 55,
    "start_time": "2022-03-31T11:51:29.485Z"
   },
   {
    "duration": 6,
    "start_time": "2022-03-31T11:51:29.542Z"
   },
   {
    "duration": 31,
    "start_time": "2022-03-31T11:51:29.550Z"
   },
   {
    "duration": 169,
    "start_time": "2022-03-31T11:51:29.583Z"
   },
   {
    "duration": 28,
    "start_time": "2022-03-31T11:51:29.754Z"
   },
   {
    "duration": 27,
    "start_time": "2022-03-31T11:51:29.784Z"
   },
   {
    "duration": 32,
    "start_time": "2022-03-31T11:51:29.813Z"
   },
   {
    "duration": 5,
    "start_time": "2022-03-31T11:51:29.847Z"
   },
   {
    "duration": 26,
    "start_time": "2022-03-31T11:51:29.854Z"
   },
   {
    "duration": 19,
    "start_time": "2022-03-31T11:51:29.882Z"
   },
   {
    "duration": 12,
    "start_time": "2022-03-31T11:51:29.903Z"
   },
   {
    "duration": 177,
    "start_time": "2022-03-31T11:51:29.937Z"
   },
   {
    "duration": 156,
    "start_time": "2022-03-31T11:51:30.116Z"
   },
   {
    "duration": 21,
    "start_time": "2022-03-31T11:51:30.274Z"
   },
   {
    "duration": 15,
    "start_time": "2022-03-31T11:51:30.297Z"
   },
   {
    "duration": 30,
    "start_time": "2022-03-31T11:51:30.314Z"
   },
   {
    "duration": 17,
    "start_time": "2022-03-31T11:51:30.346Z"
   },
   {
    "duration": 17,
    "start_time": "2022-03-31T11:51:30.364Z"
   },
   {
    "duration": 29,
    "start_time": "2022-03-31T11:51:30.383Z"
   },
   {
    "duration": 61,
    "start_time": "2022-03-31T11:51:30.414Z"
   },
   {
    "duration": 37,
    "start_time": "2022-03-31T11:51:30.476Z"
   },
   {
    "duration": 22,
    "start_time": "2022-03-31T11:51:30.515Z"
   },
   {
    "duration": 48,
    "start_time": "2022-03-31T11:51:30.539Z"
   },
   {
    "duration": 10,
    "start_time": "2022-03-31T11:51:30.588Z"
   },
   {
    "duration": 25,
    "start_time": "2022-03-31T11:51:30.600Z"
   },
   {
    "duration": 1241,
    "start_time": "2022-03-31T11:51:30.629Z"
   },
   {
    "duration": 72,
    "start_time": "2022-03-31T11:51:31.871Z"
   },
   {
    "duration": 0,
    "start_time": "2022-03-31T11:51:31.944Z"
   },
   {
    "duration": 45,
    "start_time": "2022-03-31T11:54:19.463Z"
   },
   {
    "duration": 1186,
    "start_time": "2022-03-31T11:54:29.708Z"
   },
   {
    "duration": 392,
    "start_time": "2022-03-31T11:54:30.896Z"
   },
   {
    "duration": 15,
    "start_time": "2022-03-31T11:54:31.290Z"
   },
   {
    "duration": 30,
    "start_time": "2022-03-31T11:54:31.307Z"
   },
   {
    "duration": 9,
    "start_time": "2022-03-31T11:54:31.339Z"
   },
   {
    "duration": 32,
    "start_time": "2022-03-31T11:54:31.350Z"
   },
   {
    "duration": 8,
    "start_time": "2022-03-31T11:54:31.384Z"
   },
   {
    "duration": 28,
    "start_time": "2022-03-31T11:54:31.393Z"
   },
   {
    "duration": 21,
    "start_time": "2022-03-31T11:54:31.423Z"
   },
   {
    "duration": 24,
    "start_time": "2022-03-31T11:54:31.447Z"
   },
   {
    "duration": 16,
    "start_time": "2022-03-31T11:54:31.473Z"
   },
   {
    "duration": 45,
    "start_time": "2022-03-31T11:54:31.491Z"
   },
   {
    "duration": 16,
    "start_time": "2022-03-31T11:54:31.538Z"
   },
   {
    "duration": 4,
    "start_time": "2022-03-31T11:54:31.555Z"
   },
   {
    "duration": 21,
    "start_time": "2022-03-31T11:54:31.560Z"
   },
   {
    "duration": 59,
    "start_time": "2022-03-31T11:54:31.583Z"
   },
   {
    "duration": 6,
    "start_time": "2022-03-31T11:54:31.644Z"
   },
   {
    "duration": 29,
    "start_time": "2022-03-31T11:54:31.651Z"
   },
   {
    "duration": 160,
    "start_time": "2022-03-31T11:54:31.682Z"
   },
   {
    "duration": 29,
    "start_time": "2022-03-31T11:54:31.843Z"
   },
   {
    "duration": 29,
    "start_time": "2022-03-31T11:54:31.873Z"
   },
   {
    "duration": 10,
    "start_time": "2022-03-31T11:54:31.903Z"
   },
   {
    "duration": 25,
    "start_time": "2022-03-31T11:54:31.915Z"
   },
   {
    "duration": 34,
    "start_time": "2022-03-31T11:54:31.942Z"
   },
   {
    "duration": 24,
    "start_time": "2022-03-31T11:54:31.978Z"
   },
   {
    "duration": 11,
    "start_time": "2022-03-31T11:54:32.004Z"
   },
   {
    "duration": 165,
    "start_time": "2022-03-31T11:54:32.017Z"
   },
   {
    "duration": 154,
    "start_time": "2022-03-31T11:54:32.186Z"
   },
   {
    "duration": 20,
    "start_time": "2022-03-31T11:54:32.342Z"
   },
   {
    "duration": 15,
    "start_time": "2022-03-31T11:54:32.364Z"
   },
   {
    "duration": 8,
    "start_time": "2022-03-31T11:54:32.381Z"
   },
   {
    "duration": 21,
    "start_time": "2022-03-31T11:54:32.391Z"
   },
   {
    "duration": 33,
    "start_time": "2022-03-31T11:54:32.414Z"
   },
   {
    "duration": 12,
    "start_time": "2022-03-31T11:54:32.449Z"
   },
   {
    "duration": 55,
    "start_time": "2022-03-31T11:54:32.463Z"
   },
   {
    "duration": 52,
    "start_time": "2022-03-31T11:54:32.520Z"
   },
   {
    "duration": 10,
    "start_time": "2022-03-31T11:54:32.574Z"
   },
   {
    "duration": 34,
    "start_time": "2022-03-31T11:54:32.586Z"
   },
   {
    "duration": 19,
    "start_time": "2022-03-31T11:54:32.622Z"
   },
   {
    "duration": 15,
    "start_time": "2022-03-31T11:54:32.643Z"
   },
   {
    "duration": 35,
    "start_time": "2022-03-31T11:54:32.660Z"
   },
   {
    "duration": 3,
    "start_time": "2022-03-31T11:54:32.697Z"
   },
   {
    "duration": 23,
    "start_time": "2022-03-31T11:55:42.163Z"
   },
   {
    "duration": 16,
    "start_time": "2022-03-31T11:56:27.322Z"
   },
   {
    "duration": 1295,
    "start_time": "2022-04-02T14:50:53.807Z"
   },
   {
    "duration": 359,
    "start_time": "2022-04-02T14:50:55.104Z"
   },
   {
    "duration": 12,
    "start_time": "2022-04-02T14:50:55.464Z"
   },
   {
    "duration": 23,
    "start_time": "2022-04-02T14:50:55.478Z"
   },
   {
    "duration": 7,
    "start_time": "2022-04-02T14:50:55.502Z"
   },
   {
    "duration": 24,
    "start_time": "2022-04-02T14:50:55.510Z"
   },
   {
    "duration": 7,
    "start_time": "2022-04-02T14:50:55.535Z"
   },
   {
    "duration": 18,
    "start_time": "2022-04-02T14:50:55.543Z"
   },
   {
    "duration": 23,
    "start_time": "2022-04-02T14:50:55.562Z"
   },
   {
    "duration": 11,
    "start_time": "2022-04-02T14:50:55.587Z"
   },
   {
    "duration": 15,
    "start_time": "2022-04-02T14:50:55.599Z"
   },
   {
    "duration": 32,
    "start_time": "2022-04-02T14:50:55.615Z"
   },
   {
    "duration": 11,
    "start_time": "2022-04-02T14:50:55.648Z"
   },
   {
    "duration": 20,
    "start_time": "2022-04-02T14:50:55.661Z"
   },
   {
    "duration": 3,
    "start_time": "2022-04-02T14:50:55.682Z"
   },
   {
    "duration": 36,
    "start_time": "2022-04-02T14:50:55.686Z"
   },
   {
    "duration": 5,
    "start_time": "2022-04-02T14:50:55.723Z"
   },
   {
    "duration": 30,
    "start_time": "2022-04-02T14:50:55.729Z"
   },
   {
    "duration": 157,
    "start_time": "2022-04-02T14:50:55.761Z"
   },
   {
    "duration": 27,
    "start_time": "2022-04-02T14:50:55.920Z"
   },
   {
    "duration": 41,
    "start_time": "2022-04-02T14:50:55.948Z"
   },
   {
    "duration": 9,
    "start_time": "2022-04-02T14:50:55.990Z"
   },
   {
    "duration": 4,
    "start_time": "2022-04-02T14:50:56.001Z"
   },
   {
    "duration": 85,
    "start_time": "2022-04-02T14:50:56.007Z"
   },
   {
    "duration": 16,
    "start_time": "2022-04-02T14:50:56.094Z"
   },
   {
    "duration": 9,
    "start_time": "2022-04-02T14:50:56.111Z"
   },
   {
    "duration": 160,
    "start_time": "2022-04-02T14:50:56.122Z"
   },
   {
    "duration": 128,
    "start_time": "2022-04-02T14:50:56.286Z"
   },
   {
    "duration": 21,
    "start_time": "2022-04-02T14:50:56.416Z"
   },
   {
    "duration": 13,
    "start_time": "2022-04-02T14:50:56.438Z"
   },
   {
    "duration": 7,
    "start_time": "2022-04-02T14:50:56.453Z"
   },
   {
    "duration": 7,
    "start_time": "2022-04-02T14:50:56.481Z"
   },
   {
    "duration": 12,
    "start_time": "2022-04-02T14:50:56.490Z"
   },
   {
    "duration": 10,
    "start_time": "2022-04-02T14:50:56.503Z"
   },
   {
    "duration": 40,
    "start_time": "2022-04-02T14:50:56.514Z"
   },
   {
    "duration": 49,
    "start_time": "2022-04-02T14:50:56.556Z"
   },
   {
    "duration": 9,
    "start_time": "2022-04-02T14:50:56.606Z"
   },
   {
    "duration": 23,
    "start_time": "2022-04-02T14:50:56.616Z"
   },
   {
    "duration": 7,
    "start_time": "2022-04-02T14:50:56.641Z"
   },
   {
    "duration": 32,
    "start_time": "2022-04-02T14:50:56.649Z"
   },
   {
    "duration": 26,
    "start_time": "2022-04-02T14:50:56.683Z"
   },
   {
    "duration": 19,
    "start_time": "2022-04-02T14:50:56.711Z"
   },
   {
    "duration": 10,
    "start_time": "2022-04-02T14:50:56.731Z"
   },
   {
    "duration": 10,
    "start_time": "2022-04-02T14:50:56.742Z"
   },
   {
    "duration": 105,
    "start_time": "2022-04-02T14:50:56.781Z"
   },
   {
    "duration": 9,
    "start_time": "2022-04-02T14:51:59.516Z"
   },
   {
    "duration": 3,
    "start_time": "2022-04-02T14:53:03.382Z"
   },
   {
    "duration": 381,
    "start_time": "2022-04-02T14:53:03.386Z"
   },
   {
    "duration": 9,
    "start_time": "2022-04-02T14:53:03.769Z"
   },
   {
    "duration": 27,
    "start_time": "2022-04-02T14:53:03.779Z"
   },
   {
    "duration": 8,
    "start_time": "2022-04-02T14:53:03.808Z"
   },
   {
    "duration": 21,
    "start_time": "2022-04-02T14:53:03.817Z"
   },
   {
    "duration": 7,
    "start_time": "2022-04-02T14:53:03.839Z"
   },
   {
    "duration": 35,
    "start_time": "2022-04-02T14:53:03.847Z"
   },
   {
    "duration": 6,
    "start_time": "2022-04-02T14:53:03.884Z"
   },
   {
    "duration": 11,
    "start_time": "2022-04-02T14:53:03.892Z"
   },
   {
    "duration": 10,
    "start_time": "2022-04-02T14:53:03.905Z"
   },
   {
    "duration": 27,
    "start_time": "2022-04-02T14:53:03.916Z"
   },
   {
    "duration": 9,
    "start_time": "2022-04-02T14:53:03.944Z"
   },
   {
    "duration": 27,
    "start_time": "2022-04-02T14:53:03.954Z"
   },
   {
    "duration": 3,
    "start_time": "2022-04-02T14:53:03.982Z"
   },
   {
    "duration": 30,
    "start_time": "2022-04-02T14:53:03.986Z"
   },
   {
    "duration": 3,
    "start_time": "2022-04-02T14:53:04.018Z"
   },
   {
    "duration": 21,
    "start_time": "2022-04-02T14:53:04.023Z"
   },
   {
    "duration": 139,
    "start_time": "2022-04-02T14:53:04.046Z"
   },
   {
    "duration": 24,
    "start_time": "2022-04-02T14:53:04.186Z"
   },
   {
    "duration": 23,
    "start_time": "2022-04-02T14:53:04.212Z"
   },
   {
    "duration": 7,
    "start_time": "2022-04-02T14:53:04.236Z"
   },
   {
    "duration": 4,
    "start_time": "2022-04-02T14:53:04.245Z"
   },
   {
    "duration": 41,
    "start_time": "2022-04-02T14:53:04.251Z"
   },
   {
    "duration": 13,
    "start_time": "2022-04-02T14:53:04.293Z"
   },
   {
    "duration": 9,
    "start_time": "2022-04-02T14:53:04.307Z"
   },
   {
    "duration": 139,
    "start_time": "2022-04-02T14:53:04.318Z"
   },
   {
    "duration": 123,
    "start_time": "2022-04-02T14:53:04.459Z"
   },
   {
    "duration": 17,
    "start_time": "2022-04-02T14:53:04.585Z"
   },
   {
    "duration": 12,
    "start_time": "2022-04-02T14:53:04.604Z"
   },
   {
    "duration": 6,
    "start_time": "2022-04-02T14:53:04.618Z"
   },
   {
    "duration": 7,
    "start_time": "2022-04-02T14:53:04.626Z"
   },
   {
    "duration": 11,
    "start_time": "2022-04-02T14:53:04.635Z"
   },
   {
    "duration": 35,
    "start_time": "2022-04-02T14:53:04.647Z"
   },
   {
    "duration": 40,
    "start_time": "2022-04-02T14:53:04.683Z"
   },
   {
    "duration": 28,
    "start_time": "2022-04-02T14:53:04.725Z"
   },
   {
    "duration": 29,
    "start_time": "2022-04-02T14:53:04.755Z"
   },
   {
    "duration": 21,
    "start_time": "2022-04-02T14:53:04.785Z"
   },
   {
    "duration": 7,
    "start_time": "2022-04-02T14:53:04.808Z"
   },
   {
    "duration": 11,
    "start_time": "2022-04-02T14:53:04.817Z"
   },
   {
    "duration": 7,
    "start_time": "2022-04-02T14:53:04.830Z"
   },
   {
    "duration": 6,
    "start_time": "2022-04-02T14:53:04.838Z"
   },
   {
    "duration": 36,
    "start_time": "2022-04-02T14:53:04.846Z"
   },
   {
    "duration": 10,
    "start_time": "2022-04-02T14:53:04.883Z"
   },
   {
    "duration": 10,
    "start_time": "2022-04-02T14:53:04.894Z"
   },
   {
    "duration": 8,
    "start_time": "2022-04-02T14:53:18.926Z"
   },
   {
    "duration": 3,
    "start_time": "2022-04-02T14:53:54.312Z"
   },
   {
    "duration": 358,
    "start_time": "2022-04-02T14:53:54.317Z"
   },
   {
    "duration": 9,
    "start_time": "2022-04-02T14:53:54.676Z"
   },
   {
    "duration": 24,
    "start_time": "2022-04-02T14:53:54.687Z"
   },
   {
    "duration": 7,
    "start_time": "2022-04-02T14:53:54.713Z"
   },
   {
    "duration": 20,
    "start_time": "2022-04-02T14:53:54.721Z"
   },
   {
    "duration": 7,
    "start_time": "2022-04-02T14:53:54.742Z"
   },
   {
    "duration": 34,
    "start_time": "2022-04-02T14:53:54.750Z"
   },
   {
    "duration": 6,
    "start_time": "2022-04-02T14:53:54.785Z"
   },
   {
    "duration": 9,
    "start_time": "2022-04-02T14:53:54.794Z"
   },
   {
    "duration": 12,
    "start_time": "2022-04-02T14:53:54.804Z"
   },
   {
    "duration": 29,
    "start_time": "2022-04-02T14:53:54.817Z"
   },
   {
    "duration": 9,
    "start_time": "2022-04-02T14:53:54.847Z"
   },
   {
    "duration": 24,
    "start_time": "2022-04-02T14:53:54.857Z"
   },
   {
    "duration": 6,
    "start_time": "2022-04-02T14:53:54.882Z"
   },
   {
    "duration": 30,
    "start_time": "2022-04-02T14:53:54.889Z"
   },
   {
    "duration": 4,
    "start_time": "2022-04-02T14:53:54.921Z"
   },
   {
    "duration": 25,
    "start_time": "2022-04-02T14:53:54.926Z"
   },
   {
    "duration": 133,
    "start_time": "2022-04-02T14:53:54.953Z"
   },
   {
    "duration": 23,
    "start_time": "2022-04-02T14:53:55.088Z"
   },
   {
    "duration": 22,
    "start_time": "2022-04-02T14:53:55.112Z"
   },
   {
    "duration": 8,
    "start_time": "2022-04-02T14:53:55.135Z"
   },
   {
    "duration": 5,
    "start_time": "2022-04-02T14:53:55.145Z"
   },
   {
    "duration": 37,
    "start_time": "2022-04-02T14:53:55.151Z"
   },
   {
    "duration": 12,
    "start_time": "2022-04-02T14:53:55.190Z"
   },
   {
    "duration": 9,
    "start_time": "2022-04-02T14:53:55.203Z"
   },
   {
    "duration": 136,
    "start_time": "2022-04-02T14:53:55.214Z"
   },
   {
    "duration": 131,
    "start_time": "2022-04-02T14:53:55.353Z"
   },
   {
    "duration": 17,
    "start_time": "2022-04-02T14:53:55.485Z"
   },
   {
    "duration": 13,
    "start_time": "2022-04-02T14:53:55.504Z"
   },
   {
    "duration": 7,
    "start_time": "2022-04-02T14:53:55.518Z"
   },
   {
    "duration": 6,
    "start_time": "2022-04-02T14:53:55.527Z"
   },
   {
    "duration": 12,
    "start_time": "2022-04-02T14:53:55.534Z"
   },
   {
    "duration": 33,
    "start_time": "2022-04-02T14:53:55.548Z"
   },
   {
    "duration": 100,
    "start_time": "2022-04-02T14:53:55.582Z"
   },
   {
    "duration": 25,
    "start_time": "2022-04-02T14:53:55.683Z"
   },
   {
    "duration": 9,
    "start_time": "2022-04-02T14:53:55.709Z"
   },
   {
    "duration": 19,
    "start_time": "2022-04-02T14:53:55.719Z"
   },
   {
    "duration": 9,
    "start_time": "2022-04-02T14:53:55.739Z"
   },
   {
    "duration": 42,
    "start_time": "2022-04-02T14:53:55.749Z"
   },
   {
    "duration": 8,
    "start_time": "2022-04-02T14:53:55.792Z"
   },
   {
    "duration": 7,
    "start_time": "2022-04-02T14:53:55.802Z"
   },
   {
    "duration": 6,
    "start_time": "2022-04-02T14:53:55.811Z"
   },
   {
    "duration": 12,
    "start_time": "2022-04-02T14:53:55.818Z"
   },
   {
    "duration": 8,
    "start_time": "2022-04-02T14:53:55.831Z"
   },
   {
    "duration": 6,
    "start_time": "2022-04-02T14:56:34.169Z"
   },
   {
    "duration": 18,
    "start_time": "2022-04-02T15:02:45.434Z"
   },
   {
    "duration": 21,
    "start_time": "2022-04-02T15:03:13.128Z"
   },
   {
    "duration": 4220,
    "start_time": "2022-04-02T15:36:46.714Z"
   },
   {
    "duration": 2614,
    "start_time": "2022-04-02T15:38:07.589Z"
   },
   {
    "duration": 91,
    "start_time": "2022-04-02T15:39:13.050Z"
   },
   {
    "duration": 15,
    "start_time": "2022-04-02T16:22:08.499Z"
   },
   {
    "duration": 13,
    "start_time": "2022-04-02T16:22:41.589Z"
   },
   {
    "duration": 17,
    "start_time": "2022-04-02T16:23:04.217Z"
   },
   {
    "duration": 22,
    "start_time": "2022-04-02T16:23:11.189Z"
   },
   {
    "duration": 22,
    "start_time": "2022-04-02T16:24:13.289Z"
   },
   {
    "duration": 21,
    "start_time": "2022-04-02T16:30:41.996Z"
   },
   {
    "duration": 19,
    "start_time": "2022-04-02T16:31:16.474Z"
   },
   {
    "duration": 31,
    "start_time": "2022-04-02T16:31:30.810Z"
   },
   {
    "duration": 4093,
    "start_time": "2022-04-02T16:35:50.225Z"
   },
   {
    "duration": 4147,
    "start_time": "2022-04-02T16:36:11.860Z"
   },
   {
    "duration": 221,
    "start_time": "2022-04-02T16:37:09.633Z"
   },
   {
    "duration": 788,
    "start_time": "2022-04-02T16:37:29.515Z"
   },
   {
    "duration": 113,
    "start_time": "2022-04-02T16:37:53.509Z"
   },
   {
    "duration": 113,
    "start_time": "2022-04-02T16:38:39.161Z"
   },
   {
    "duration": 191,
    "start_time": "2022-04-02T16:39:56.034Z"
   },
   {
    "duration": 116,
    "start_time": "2022-04-02T16:40:32.021Z"
   },
   {
    "duration": 134,
    "start_time": "2022-04-02T16:40:46.590Z"
   },
   {
    "duration": 661,
    "start_time": "2022-04-02T16:44:59.636Z"
   },
   {
    "duration": 21,
    "start_time": "2022-04-02T16:45:08.646Z"
   },
   {
    "duration": 32,
    "start_time": "2022-04-02T16:45:46.411Z"
   },
   {
    "duration": 104,
    "start_time": "2022-04-02T16:47:54.597Z"
   },
   {
    "duration": 122,
    "start_time": "2022-04-02T16:50:55.797Z"
   },
   {
    "duration": 134,
    "start_time": "2022-04-02T16:51:14.593Z"
   },
   {
    "duration": 146,
    "start_time": "2022-04-02T16:51:14.729Z"
   },
   {
    "duration": 22,
    "start_time": "2022-04-02T16:55:32.004Z"
   },
   {
    "duration": 12,
    "start_time": "2022-04-02T16:58:48.656Z"
   },
   {
    "duration": 12,
    "start_time": "2022-04-02T16:59:26.013Z"
   },
   {
    "duration": 25,
    "start_time": "2022-04-02T17:00:48.851Z"
   },
   {
    "duration": 29,
    "start_time": "2022-04-02T17:03:39.483Z"
   },
   {
    "duration": 143,
    "start_time": "2022-04-02T17:08:00.660Z"
   },
   {
    "duration": 132,
    "start_time": "2022-04-02T17:09:24.516Z"
   },
   {
    "duration": 125,
    "start_time": "2022-04-02T17:11:29.389Z"
   },
   {
    "duration": 13,
    "start_time": "2022-04-02T17:13:57.427Z"
   },
   {
    "duration": 1736,
    "start_time": "2022-04-03T14:10:42.535Z"
   },
   {
    "duration": 524,
    "start_time": "2022-04-03T14:10:44.274Z"
   },
   {
    "duration": 22,
    "start_time": "2022-04-03T14:10:44.800Z"
   },
   {
    "duration": 44,
    "start_time": "2022-04-03T14:10:44.825Z"
   },
   {
    "duration": 18,
    "start_time": "2022-04-03T14:10:44.872Z"
   },
   {
    "duration": 32,
    "start_time": "2022-04-03T14:10:44.892Z"
   },
   {
    "duration": 12,
    "start_time": "2022-04-03T14:10:44.926Z"
   },
   {
    "duration": 56,
    "start_time": "2022-04-03T14:10:44.940Z"
   },
   {
    "duration": 18,
    "start_time": "2022-04-03T14:10:44.998Z"
   },
   {
    "duration": 36,
    "start_time": "2022-04-03T14:10:45.020Z"
   },
   {
    "duration": 27,
    "start_time": "2022-04-03T14:10:45.058Z"
   },
   {
    "duration": 52,
    "start_time": "2022-04-03T14:10:45.088Z"
   },
   {
    "duration": 23,
    "start_time": "2022-04-03T14:10:45.142Z"
   },
   {
    "duration": 4,
    "start_time": "2022-04-03T14:10:45.184Z"
   },
   {
    "duration": 22,
    "start_time": "2022-04-03T14:10:45.190Z"
   },
   {
    "duration": 82,
    "start_time": "2022-04-03T14:10:45.214Z"
   },
   {
    "duration": 7,
    "start_time": "2022-04-03T14:10:45.298Z"
   },
   {
    "duration": 36,
    "start_time": "2022-04-03T14:10:45.307Z"
   },
   {
    "duration": 262,
    "start_time": "2022-04-03T14:10:45.345Z"
   },
   {
    "duration": 40,
    "start_time": "2022-04-03T14:10:45.609Z"
   },
   {
    "duration": 62,
    "start_time": "2022-04-03T14:10:45.651Z"
   },
   {
    "duration": 15,
    "start_time": "2022-04-03T14:10:45.715Z"
   },
   {
    "duration": 6,
    "start_time": "2022-04-03T14:10:45.732Z"
   },
   {
    "duration": 55,
    "start_time": "2022-04-03T14:10:45.741Z"
   },
   {
    "duration": 22,
    "start_time": "2022-04-03T14:10:45.798Z"
   },
   {
    "duration": 16,
    "start_time": "2022-04-03T14:10:45.822Z"
   },
   {
    "duration": 263,
    "start_time": "2022-04-03T14:10:45.840Z"
   },
   {
    "duration": 244,
    "start_time": "2022-04-03T14:10:46.109Z"
   },
   {
    "duration": 39,
    "start_time": "2022-04-03T14:10:46.355Z"
   },
   {
    "duration": 22,
    "start_time": "2022-04-03T14:10:46.396Z"
   },
   {
    "duration": 12,
    "start_time": "2022-04-03T14:10:46.420Z"
   },
   {
    "duration": 26,
    "start_time": "2022-04-03T14:10:46.434Z"
   },
   {
    "duration": 35,
    "start_time": "2022-04-03T14:10:46.463Z"
   },
   {
    "duration": 15,
    "start_time": "2022-04-03T14:10:46.500Z"
   },
   {
    "duration": 93,
    "start_time": "2022-04-03T14:10:46.517Z"
   },
   {
    "duration": 47,
    "start_time": "2022-04-03T14:10:46.612Z"
   },
   {
    "duration": 34,
    "start_time": "2022-04-03T14:10:46.662Z"
   },
   {
    "duration": 33,
    "start_time": "2022-04-03T14:10:46.699Z"
   },
   {
    "duration": 15,
    "start_time": "2022-04-03T14:10:46.735Z"
   },
   {
    "duration": 21,
    "start_time": "2022-04-03T14:10:46.785Z"
   },
   {
    "duration": 14,
    "start_time": "2022-04-03T14:10:46.808Z"
   },
   {
    "duration": 13,
    "start_time": "2022-04-03T14:10:46.825Z"
   },
   {
    "duration": 48,
    "start_time": "2022-04-03T14:10:46.841Z"
   },
   {
    "duration": 14,
    "start_time": "2022-04-03T14:10:46.892Z"
   },
   {
    "duration": 8,
    "start_time": "2022-04-03T14:10:46.909Z"
   },
   {
    "duration": 66,
    "start_time": "2022-04-03T14:10:46.919Z"
   },
   {
    "duration": 182,
    "start_time": "2022-04-03T14:10:46.988Z"
   },
   {
    "duration": 44,
    "start_time": "2022-04-03T14:10:47.172Z"
   },
   {
    "duration": 71,
    "start_time": "2022-04-03T14:10:47.218Z"
   },
   {
    "duration": 41,
    "start_time": "2022-04-03T14:10:47.291Z"
   },
   {
    "duration": 74,
    "start_time": "2022-04-03T14:10:47.334Z"
   },
   {
    "duration": 283,
    "start_time": "2022-04-03T14:10:47.410Z"
   },
   {
    "duration": 297,
    "start_time": "2022-04-03T14:10:47.695Z"
   },
   {
    "duration": 282,
    "start_time": "2022-04-03T14:10:47.994Z"
   },
   {
    "duration": 25,
    "start_time": "2022-04-03T14:10:48.278Z"
   },
   {
    "duration": 42,
    "start_time": "2022-04-03T14:10:48.305Z"
   },
   {
    "duration": 84,
    "start_time": "2022-04-03T14:10:48.349Z"
   },
   {
    "duration": 311,
    "start_time": "2022-04-03T14:10:48.435Z"
   },
   {
    "duration": 292,
    "start_time": "2022-04-03T14:10:48.748Z"
   },
   {
    "duration": 375,
    "start_time": "2022-04-03T14:10:49.042Z"
   },
   {
    "duration": 23,
    "start_time": "2022-04-03T14:10:49.421Z"
   },
   {
    "duration": 586,
    "start_time": "2022-04-03T14:23:10.702Z"
   },
   {
    "duration": 25406,
    "start_time": "2022-04-03T14:24:54.056Z"
   },
   {
    "duration": 671,
    "start_time": "2022-04-03T14:25:53.066Z"
   },
   {
    "duration": 555,
    "start_time": "2022-04-03T14:26:22.715Z"
   },
   {
    "duration": 599,
    "start_time": "2022-04-03T14:26:29.034Z"
   },
   {
    "duration": 573,
    "start_time": "2022-04-03T14:26:37.114Z"
   },
   {
    "duration": 1234,
    "start_time": "2022-04-03T14:28:37.392Z"
   },
   {
    "duration": 166,
    "start_time": "2022-04-03T14:29:46.041Z"
   },
   {
    "duration": 171,
    "start_time": "2022-04-03T14:30:01.389Z"
   },
   {
    "duration": 266,
    "start_time": "2022-04-03T14:30:29.936Z"
   },
   {
    "duration": 544,
    "start_time": "2022-04-03T14:30:58.659Z"
   },
   {
    "duration": 757,
    "start_time": "2022-04-03T14:33:21.391Z"
   },
   {
    "duration": 545,
    "start_time": "2022-04-03T14:33:40.777Z"
   },
   {
    "duration": 828,
    "start_time": "2022-04-03T14:34:39.781Z"
   },
   {
    "duration": 558,
    "start_time": "2022-04-03T14:36:28.456Z"
   },
   {
    "duration": 533,
    "start_time": "2022-04-03T14:37:27.130Z"
   },
   {
    "duration": 3,
    "start_time": "2022-04-03T14:40:13.806Z"
   },
   {
    "duration": 13,
    "start_time": "2022-04-03T14:40:30.496Z"
   },
   {
    "duration": 10,
    "start_time": "2022-04-03T14:41:00.845Z"
   },
   {
    "duration": 10,
    "start_time": "2022-04-03T14:42:13.417Z"
   },
   {
    "duration": 10,
    "start_time": "2022-04-03T14:42:23.464Z"
   },
   {
    "duration": 10,
    "start_time": "2022-04-03T14:42:30.492Z"
   },
   {
    "duration": 12,
    "start_time": "2022-04-03T14:45:57.781Z"
   },
   {
    "duration": 10,
    "start_time": "2022-04-03T14:46:12.804Z"
   },
   {
    "duration": 51,
    "start_time": "2022-04-03T15:00:03.401Z"
   },
   {
    "duration": 4,
    "start_time": "2022-04-03T15:00:34.403Z"
   },
   {
    "duration": 8,
    "start_time": "2022-04-03T15:00:38.156Z"
   },
   {
    "duration": 272,
    "start_time": "2022-04-03T15:07:29.367Z"
   },
   {
    "duration": 372,
    "start_time": "2022-04-03T15:07:44.126Z"
   },
   {
    "duration": 269,
    "start_time": "2022-04-03T15:07:51.410Z"
   },
   {
    "duration": 421,
    "start_time": "2022-04-03T15:08:20.209Z"
   },
   {
    "duration": 332,
    "start_time": "2022-04-03T15:08:32.302Z"
   },
   {
    "duration": 4,
    "start_time": "2022-04-03T15:19:17.745Z"
   },
   {
    "duration": 715,
    "start_time": "2022-04-03T15:19:17.753Z"
   },
   {
    "duration": 20,
    "start_time": "2022-04-03T15:19:18.471Z"
   },
   {
    "duration": 57,
    "start_time": "2022-04-03T15:19:18.494Z"
   },
   {
    "duration": 31,
    "start_time": "2022-04-03T15:19:18.554Z"
   },
   {
    "duration": 45,
    "start_time": "2022-04-03T15:19:18.588Z"
   },
   {
    "duration": 14,
    "start_time": "2022-04-03T15:19:18.636Z"
   },
   {
    "duration": 63,
    "start_time": "2022-04-03T15:19:18.653Z"
   },
   {
    "duration": 16,
    "start_time": "2022-04-03T15:19:18.718Z"
   },
   {
    "duration": 201,
    "start_time": "2022-04-03T15:19:18.737Z"
   },
   {
    "duration": 41,
    "start_time": "2022-04-03T15:19:18.943Z"
   },
   {
    "duration": 53,
    "start_time": "2022-04-03T15:19:18.986Z"
   },
   {
    "duration": 42,
    "start_time": "2022-04-03T15:19:19.042Z"
   },
   {
    "duration": 5,
    "start_time": "2022-04-03T15:19:19.087Z"
   },
   {
    "duration": 8,
    "start_time": "2022-04-03T15:19:19.094Z"
   },
   {
    "duration": 59,
    "start_time": "2022-04-03T15:19:19.104Z"
   },
   {
    "duration": 23,
    "start_time": "2022-04-03T15:19:19.165Z"
   },
   {
    "duration": 34,
    "start_time": "2022-04-03T15:19:19.190Z"
   },
   {
    "duration": 264,
    "start_time": "2022-04-03T15:19:19.226Z"
   },
   {
    "duration": 45,
    "start_time": "2022-04-03T15:19:19.492Z"
   },
   {
    "duration": 65,
    "start_time": "2022-04-03T15:19:19.540Z"
   },
   {
    "duration": 15,
    "start_time": "2022-04-03T15:19:19.608Z"
   },
   {
    "duration": 10,
    "start_time": "2022-04-03T15:19:19.625Z"
   },
   {
    "duration": 55,
    "start_time": "2022-04-03T15:19:19.637Z"
   },
   {
    "duration": 13,
    "start_time": "2022-04-03T15:19:19.694Z"
   },
   {
    "duration": 18,
    "start_time": "2022-04-03T15:19:19.709Z"
   },
   {
    "duration": 269,
    "start_time": "2022-04-03T15:19:19.730Z"
   },
   {
    "duration": 249,
    "start_time": "2022-04-03T15:19:20.002Z"
   },
   {
    "duration": 36,
    "start_time": "2022-04-03T15:19:20.257Z"
   },
   {
    "duration": 23,
    "start_time": "2022-04-03T15:19:20.295Z"
   },
   {
    "duration": 13,
    "start_time": "2022-04-03T15:19:20.320Z"
   },
   {
    "duration": 21,
    "start_time": "2022-04-03T15:19:20.335Z"
   },
   {
    "duration": 41,
    "start_time": "2022-04-03T15:19:20.359Z"
   },
   {
    "duration": 19,
    "start_time": "2022-04-03T15:19:20.403Z"
   },
   {
    "duration": 88,
    "start_time": "2022-04-03T15:19:20.424Z"
   },
   {
    "duration": 68,
    "start_time": "2022-04-03T15:19:20.515Z"
   },
   {
    "duration": 16,
    "start_time": "2022-04-03T15:19:20.586Z"
   },
   {
    "duration": 30,
    "start_time": "2022-04-03T15:19:20.604Z"
   },
   {
    "duration": 13,
    "start_time": "2022-04-03T15:19:20.637Z"
   },
   {
    "duration": 45,
    "start_time": "2022-04-03T15:19:20.652Z"
   },
   {
    "duration": 12,
    "start_time": "2022-04-03T15:19:20.699Z"
   },
   {
    "duration": 14,
    "start_time": "2022-04-03T15:19:20.713Z"
   },
   {
    "duration": 43,
    "start_time": "2022-04-03T15:19:20.729Z"
   },
   {
    "duration": 13,
    "start_time": "2022-04-03T15:19:20.783Z"
   },
   {
    "duration": 9,
    "start_time": "2022-04-03T15:19:20.798Z"
   },
   {
    "duration": 39,
    "start_time": "2022-04-03T15:19:20.809Z"
   },
   {
    "duration": 217,
    "start_time": "2022-04-03T15:19:20.851Z"
   },
   {
    "duration": 59,
    "start_time": "2022-04-03T15:19:21.070Z"
   },
   {
    "duration": 73,
    "start_time": "2022-04-03T15:19:21.132Z"
   },
   {
    "duration": 42,
    "start_time": "2022-04-03T15:19:21.208Z"
   },
   {
    "duration": 74,
    "start_time": "2022-04-03T15:19:21.252Z"
   },
   {
    "duration": 306,
    "start_time": "2022-04-03T15:19:21.328Z"
   },
   {
    "duration": 322,
    "start_time": "2022-04-03T15:19:21.636Z"
   },
   {
    "duration": 282,
    "start_time": "2022-04-03T15:19:21.961Z"
   },
   {
    "duration": 22,
    "start_time": "2022-04-03T15:19:22.245Z"
   },
   {
    "duration": 45,
    "start_time": "2022-04-03T15:19:22.284Z"
   },
   {
    "duration": 7,
    "start_time": "2022-04-03T15:19:22.331Z"
   },
   {
    "duration": 85,
    "start_time": "2022-04-03T15:19:22.340Z"
   },
   {
    "duration": 293,
    "start_time": "2022-04-03T15:19:22.427Z"
   },
   {
    "duration": 277,
    "start_time": "2022-04-03T15:19:22.723Z"
   },
   {
    "duration": 287,
    "start_time": "2022-04-03T15:19:23.002Z"
   },
   {
    "duration": 131,
    "start_time": "2022-04-03T15:19:23.291Z"
   },
   {
    "duration": 0,
    "start_time": "2022-04-03T15:19:23.424Z"
   },
   {
    "duration": 0,
    "start_time": "2022-04-03T15:19:23.426Z"
   },
   {
    "duration": 0,
    "start_time": "2022-04-03T15:19:23.428Z"
   },
   {
    "duration": 0,
    "start_time": "2022-04-03T15:19:23.430Z"
   },
   {
    "duration": 0,
    "start_time": "2022-04-03T15:19:23.432Z"
   },
   {
    "duration": 0,
    "start_time": "2022-04-03T15:19:23.434Z"
   },
   {
    "duration": 0,
    "start_time": "2022-04-03T15:19:23.436Z"
   },
   {
    "duration": 0,
    "start_time": "2022-04-03T15:19:23.437Z"
   },
   {
    "duration": 0,
    "start_time": "2022-04-03T15:19:23.439Z"
   },
   {
    "duration": 0,
    "start_time": "2022-04-03T15:19:23.440Z"
   },
   {
    "duration": 6,
    "start_time": "2022-04-03T15:21:20.284Z"
   },
   {
    "duration": 569,
    "start_time": "2022-04-03T15:21:20.293Z"
   },
   {
    "duration": 15,
    "start_time": "2022-04-03T15:21:20.864Z"
   },
   {
    "duration": 41,
    "start_time": "2022-04-03T15:21:20.882Z"
   },
   {
    "duration": 15,
    "start_time": "2022-04-03T15:21:20.925Z"
   },
   {
    "duration": 62,
    "start_time": "2022-04-03T15:21:20.943Z"
   },
   {
    "duration": 12,
    "start_time": "2022-04-03T15:21:21.008Z"
   },
   {
    "duration": 42,
    "start_time": "2022-04-03T15:21:21.023Z"
   },
   {
    "duration": 13,
    "start_time": "2022-04-03T15:21:21.083Z"
   },
   {
    "duration": 17,
    "start_time": "2022-04-03T15:21:21.098Z"
   },
   {
    "duration": 22,
    "start_time": "2022-04-03T15:21:21.118Z"
   },
   {
    "duration": 77,
    "start_time": "2022-04-03T15:21:21.142Z"
   },
   {
    "duration": 17,
    "start_time": "2022-04-03T15:21:21.222Z"
   },
   {
    "duration": 5,
    "start_time": "2022-04-03T15:21:21.242Z"
   },
   {
    "duration": 35,
    "start_time": "2022-04-03T15:21:21.250Z"
   },
   {
    "duration": 54,
    "start_time": "2022-04-03T15:21:21.288Z"
   },
   {
    "duration": 7,
    "start_time": "2022-04-03T15:21:21.344Z"
   },
   {
    "duration": 67,
    "start_time": "2022-04-03T15:21:21.361Z"
   },
   {
    "duration": 238,
    "start_time": "2022-04-03T15:21:21.431Z"
   },
   {
    "duration": 49,
    "start_time": "2022-04-03T15:21:21.672Z"
   },
   {
    "duration": 71,
    "start_time": "2022-04-03T15:21:21.723Z"
   },
   {
    "duration": 23,
    "start_time": "2022-04-03T15:21:21.796Z"
   },
   {
    "duration": 18,
    "start_time": "2022-04-03T15:21:21.821Z"
   },
   {
    "duration": 38,
    "start_time": "2022-04-03T15:21:21.846Z"
   },
   {
    "duration": 23,
    "start_time": "2022-04-03T15:21:21.887Z"
   },
   {
    "duration": 124,
    "start_time": "2022-04-03T15:21:21.912Z"
   },
   {
    "duration": 250,
    "start_time": "2022-04-03T15:21:22.038Z"
   },
   {
    "duration": 233,
    "start_time": "2022-04-03T15:21:22.291Z"
   },
   {
    "duration": 28,
    "start_time": "2022-04-03T15:21:22.527Z"
   },
   {
    "duration": 42,
    "start_time": "2022-04-03T15:21:22.557Z"
   },
   {
    "duration": 12,
    "start_time": "2022-04-03T15:21:22.601Z"
   },
   {
    "duration": 26,
    "start_time": "2022-04-03T15:21:22.616Z"
   },
   {
    "duration": 52,
    "start_time": "2022-04-03T15:21:22.645Z"
   },
   {
    "duration": 27,
    "start_time": "2022-04-03T15:21:22.699Z"
   },
   {
    "duration": 68,
    "start_time": "2022-04-03T15:21:22.728Z"
   },
   {
    "duration": 40,
    "start_time": "2022-04-03T15:21:22.799Z"
   },
   {
    "duration": 15,
    "start_time": "2022-04-03T15:21:22.841Z"
   },
   {
    "duration": 50,
    "start_time": "2022-04-03T15:21:22.858Z"
   },
   {
    "duration": 13,
    "start_time": "2022-04-03T15:21:22.910Z"
   },
   {
    "duration": 17,
    "start_time": "2022-04-03T15:21:22.925Z"
   },
   {
    "duration": 49,
    "start_time": "2022-04-03T15:21:22.944Z"
   },
   {
    "duration": 23,
    "start_time": "2022-04-03T15:21:22.996Z"
   },
   {
    "duration": 24,
    "start_time": "2022-04-03T15:21:23.021Z"
   },
   {
    "duration": 29,
    "start_time": "2022-04-03T15:21:23.047Z"
   },
   {
    "duration": 34,
    "start_time": "2022-04-03T15:21:23.079Z"
   },
   {
    "duration": 49,
    "start_time": "2022-04-03T15:21:23.115Z"
   },
   {
    "duration": 193,
    "start_time": "2022-04-03T15:21:23.167Z"
   },
   {
    "duration": 47,
    "start_time": "2022-04-03T15:21:23.363Z"
   },
   {
    "duration": 49,
    "start_time": "2022-04-03T15:21:23.412Z"
   },
   {
    "duration": 58,
    "start_time": "2022-04-03T15:21:23.463Z"
   },
   {
    "duration": 75,
    "start_time": "2022-04-03T15:21:23.524Z"
   },
   {
    "duration": 289,
    "start_time": "2022-04-03T15:21:23.602Z"
   },
   {
    "duration": 299,
    "start_time": "2022-04-03T15:21:23.894Z"
   },
   {
    "duration": 281,
    "start_time": "2022-04-03T15:21:24.196Z"
   },
   {
    "duration": 22,
    "start_time": "2022-04-03T15:21:24.479Z"
   },
   {
    "duration": 47,
    "start_time": "2022-04-03T15:21:24.503Z"
   },
   {
    "duration": 37,
    "start_time": "2022-04-03T15:21:24.552Z"
   },
   {
    "duration": 61,
    "start_time": "2022-04-03T15:21:24.591Z"
   },
   {
    "duration": 305,
    "start_time": "2022-04-03T15:21:24.655Z"
   },
   {
    "duration": 376,
    "start_time": "2022-04-03T15:21:24.962Z"
   },
   {
    "duration": 273,
    "start_time": "2022-04-03T15:21:25.341Z"
   },
   {
    "duration": 561,
    "start_time": "2022-04-03T15:21:25.618Z"
   },
   {
    "duration": 635,
    "start_time": "2022-04-03T15:21:26.184Z"
   },
   {
    "duration": 543,
    "start_time": "2022-04-03T15:21:26.821Z"
   },
   {
    "duration": 32,
    "start_time": "2022-04-03T15:21:27.367Z"
   },
   {
    "duration": 3,
    "start_time": "2022-04-03T15:21:27.402Z"
   },
   {
    "duration": 11,
    "start_time": "2022-04-03T15:21:27.408Z"
   },
   {
    "duration": 96,
    "start_time": "2022-04-03T15:21:27.422Z"
   },
   {
    "duration": 464,
    "start_time": "2022-04-03T15:21:27.527Z"
   },
   {
    "duration": 4,
    "start_time": "2022-04-03T15:21:27.994Z"
   },
   {
    "duration": 16,
    "start_time": "2022-04-03T15:21:28.001Z"
   },
   {
    "duration": 1080,
    "start_time": "2022-04-13T20:24:29.324Z"
   },
   {
    "duration": 355,
    "start_time": "2022-04-13T20:24:30.407Z"
   },
   {
    "duration": 14,
    "start_time": "2022-04-13T20:24:30.764Z"
   },
   {
    "duration": 27,
    "start_time": "2022-04-13T20:24:30.780Z"
   },
   {
    "duration": 8,
    "start_time": "2022-04-13T20:24:30.808Z"
   },
   {
    "duration": 45,
    "start_time": "2022-04-13T20:24:30.818Z"
   },
   {
    "duration": 17,
    "start_time": "2022-04-13T20:24:30.865Z"
   },
   {
    "duration": 23,
    "start_time": "2022-04-13T20:24:30.884Z"
   },
   {
    "duration": 16,
    "start_time": "2022-04-13T20:24:30.909Z"
   },
   {
    "duration": 42,
    "start_time": "2022-04-13T20:24:30.927Z"
   },
   {
    "duration": 23,
    "start_time": "2022-04-13T20:24:30.970Z"
   },
   {
    "duration": 36,
    "start_time": "2022-04-13T20:24:30.995Z"
   },
   {
    "duration": 16,
    "start_time": "2022-04-13T20:24:31.033Z"
   },
   {
    "duration": 3,
    "start_time": "2022-04-13T20:24:31.051Z"
   },
   {
    "duration": 9,
    "start_time": "2022-04-13T20:24:31.056Z"
   },
   {
    "duration": 34,
    "start_time": "2022-04-13T20:24:31.067Z"
   },
   {
    "duration": 24,
    "start_time": "2022-04-13T20:24:31.103Z"
   },
   {
    "duration": 31,
    "start_time": "2022-04-13T20:24:31.129Z"
   },
   {
    "duration": 145,
    "start_time": "2022-04-13T20:24:31.162Z"
   },
   {
    "duration": 30,
    "start_time": "2022-04-13T20:24:31.310Z"
   },
   {
    "duration": 23,
    "start_time": "2022-04-13T20:24:31.342Z"
   },
   {
    "duration": 9,
    "start_time": "2022-04-13T20:24:31.367Z"
   },
   {
    "duration": 10,
    "start_time": "2022-04-13T20:24:31.378Z"
   },
   {
    "duration": 43,
    "start_time": "2022-04-13T20:24:31.390Z"
   },
   {
    "duration": 16,
    "start_time": "2022-04-13T20:24:31.435Z"
   },
   {
    "duration": 10,
    "start_time": "2022-04-13T20:24:31.453Z"
   },
   {
    "duration": 152,
    "start_time": "2022-04-13T20:24:31.464Z"
   },
   {
    "duration": 123,
    "start_time": "2022-04-13T20:24:31.623Z"
   },
   {
    "duration": 19,
    "start_time": "2022-04-13T20:24:31.747Z"
   },
   {
    "duration": 14,
    "start_time": "2022-04-13T20:24:31.767Z"
   },
   {
    "duration": 8,
    "start_time": "2022-04-13T20:24:31.782Z"
   },
   {
    "duration": 32,
    "start_time": "2022-04-13T20:24:31.791Z"
   },
   {
    "duration": 11,
    "start_time": "2022-04-13T20:24:31.825Z"
   },
   {
    "duration": 13,
    "start_time": "2022-04-13T20:24:31.837Z"
   },
   {
    "duration": 42,
    "start_time": "2022-04-13T20:24:31.851Z"
   },
   {
    "duration": 46,
    "start_time": "2022-04-13T20:24:31.894Z"
   },
   {
    "duration": 9,
    "start_time": "2022-04-13T20:24:31.942Z"
   },
   {
    "duration": 21,
    "start_time": "2022-04-13T20:24:31.952Z"
   },
   {
    "duration": 9,
    "start_time": "2022-04-13T20:24:31.974Z"
   },
   {
    "duration": 16,
    "start_time": "2022-04-13T20:24:31.984Z"
   },
   {
    "duration": 8,
    "start_time": "2022-04-13T20:24:32.023Z"
   },
   {
    "duration": 7,
    "start_time": "2022-04-13T20:24:32.033Z"
   },
   {
    "duration": 6,
    "start_time": "2022-04-13T20:24:32.042Z"
   },
   {
    "duration": 7,
    "start_time": "2022-04-13T20:24:32.049Z"
   },
   {
    "duration": 7,
    "start_time": "2022-04-13T20:24:32.058Z"
   },
   {
    "duration": 21,
    "start_time": "2022-04-13T20:24:32.067Z"
   },
   {
    "duration": 124,
    "start_time": "2022-04-13T20:24:32.090Z"
   },
   {
    "duration": 23,
    "start_time": "2022-04-13T20:24:32.223Z"
   },
   {
    "duration": 29,
    "start_time": "2022-04-13T20:24:32.248Z"
   },
   {
    "duration": 49,
    "start_time": "2022-04-13T20:24:32.279Z"
   },
   {
    "duration": 31,
    "start_time": "2022-04-13T20:24:32.329Z"
   },
   {
    "duration": 150,
    "start_time": "2022-04-13T20:24:32.361Z"
   },
   {
    "duration": 155,
    "start_time": "2022-04-13T20:24:32.513Z"
   },
   {
    "duration": 140,
    "start_time": "2022-04-13T20:24:32.670Z"
   },
   {
    "duration": 14,
    "start_time": "2022-04-13T20:24:32.823Z"
   },
   {
    "duration": 26,
    "start_time": "2022-04-13T20:24:32.838Z"
   },
   {
    "duration": 5,
    "start_time": "2022-04-13T20:24:32.866Z"
   },
   {
    "duration": 58,
    "start_time": "2022-04-13T20:24:32.872Z"
   },
   {
    "duration": 152,
    "start_time": "2022-04-13T20:24:32.931Z"
   },
   {
    "duration": 146,
    "start_time": "2022-04-13T20:24:33.084Z"
   },
   {
    "duration": 211,
    "start_time": "2022-04-13T20:24:33.231Z"
   },
   {
    "duration": 277,
    "start_time": "2022-04-13T20:24:33.443Z"
   },
   {
    "duration": 259,
    "start_time": "2022-04-13T20:24:33.724Z"
   },
   {
    "duration": 275,
    "start_time": "2022-04-13T20:24:33.985Z"
   },
   {
    "duration": 16,
    "start_time": "2022-04-13T20:24:34.262Z"
   },
   {
    "duration": 3,
    "start_time": "2022-04-13T20:24:34.280Z"
   },
   {
    "duration": 11,
    "start_time": "2022-04-13T20:24:34.285Z"
   },
   {
    "duration": 34,
    "start_time": "2022-04-13T20:24:34.324Z"
   },
   {
    "duration": 194,
    "start_time": "2022-04-13T20:24:34.360Z"
   },
   {
    "duration": 4,
    "start_time": "2022-04-13T20:24:34.556Z"
   },
   {
    "duration": 8,
    "start_time": "2022-04-13T20:24:34.562Z"
   },
   {
    "duration": 10,
    "start_time": "2022-04-13T20:28:22.787Z"
   },
   {
    "duration": 12,
    "start_time": "2022-04-13T20:31:33.420Z"
   },
   {
    "duration": 293,
    "start_time": "2022-04-13T20:34:55.530Z"
   },
   {
    "duration": 360,
    "start_time": "2022-04-13T20:35:03.066Z"
   },
   {
    "duration": 1481,
    "start_time": "2022-04-13T20:36:22.445Z"
   },
   {
    "duration": 551,
    "start_time": "2022-04-13T20:36:23.929Z"
   },
   {
    "duration": 14,
    "start_time": "2022-04-13T20:36:24.482Z"
   },
   {
    "duration": 20,
    "start_time": "2022-04-13T20:36:24.499Z"
   },
   {
    "duration": 8,
    "start_time": "2022-04-13T20:36:24.521Z"
   },
   {
    "duration": 17,
    "start_time": "2022-04-13T20:36:24.532Z"
   },
   {
    "duration": 7,
    "start_time": "2022-04-13T20:36:24.551Z"
   },
   {
    "duration": 26,
    "start_time": "2022-04-13T20:36:24.560Z"
   },
   {
    "duration": 9,
    "start_time": "2022-04-13T20:36:24.588Z"
   },
   {
    "duration": 10,
    "start_time": "2022-04-13T20:36:24.623Z"
   },
   {
    "duration": 12,
    "start_time": "2022-04-13T20:36:24.635Z"
   },
   {
    "duration": 33,
    "start_time": "2022-04-13T20:36:24.648Z"
   },
   {
    "duration": 17,
    "start_time": "2022-04-13T20:36:24.682Z"
   },
   {
    "duration": 23,
    "start_time": "2022-04-13T20:36:24.701Z"
   },
   {
    "duration": 4,
    "start_time": "2022-04-13T20:36:24.726Z"
   },
   {
    "duration": 32,
    "start_time": "2022-04-13T20:36:24.732Z"
   },
   {
    "duration": 6,
    "start_time": "2022-04-13T20:36:24.766Z"
   },
   {
    "duration": 21,
    "start_time": "2022-04-13T20:36:24.773Z"
   },
   {
    "duration": 170,
    "start_time": "2022-04-13T20:36:24.796Z"
   },
   {
    "duration": 26,
    "start_time": "2022-04-13T20:36:24.967Z"
   },
   {
    "duration": 41,
    "start_time": "2022-04-13T20:36:24.995Z"
   },
   {
    "duration": 10,
    "start_time": "2022-04-13T20:36:25.037Z"
   },
   {
    "duration": 7,
    "start_time": "2022-04-13T20:36:25.049Z"
   },
   {
    "duration": 22,
    "start_time": "2022-04-13T20:36:25.058Z"
   },
   {
    "duration": 42,
    "start_time": "2022-04-13T20:36:25.082Z"
   },
   {
    "duration": 9,
    "start_time": "2022-04-13T20:36:25.126Z"
   },
   {
    "duration": 146,
    "start_time": "2022-04-13T20:36:25.136Z"
   },
   {
    "duration": 137,
    "start_time": "2022-04-13T20:36:25.286Z"
   },
   {
    "duration": 18,
    "start_time": "2022-04-13T20:36:25.425Z"
   },
   {
    "duration": 13,
    "start_time": "2022-04-13T20:36:25.445Z"
   },
   {
    "duration": 7,
    "start_time": "2022-04-13T20:36:25.460Z"
   },
   {
    "duration": 7,
    "start_time": "2022-04-13T20:36:25.469Z"
   },
   {
    "duration": 13,
    "start_time": "2022-04-13T20:36:25.478Z"
   },
   {
    "duration": 33,
    "start_time": "2022-04-13T20:36:25.493Z"
   },
   {
    "duration": 44,
    "start_time": "2022-04-13T20:36:25.527Z"
   },
   {
    "duration": 30,
    "start_time": "2022-04-13T20:36:25.572Z"
   },
   {
    "duration": 27,
    "start_time": "2022-04-13T20:36:25.604Z"
   },
   {
    "duration": 22,
    "start_time": "2022-04-13T20:36:25.632Z"
   },
   {
    "duration": 8,
    "start_time": "2022-04-13T20:36:25.655Z"
   },
   {
    "duration": 13,
    "start_time": "2022-04-13T20:36:25.664Z"
   },
   {
    "duration": 8,
    "start_time": "2022-04-13T20:36:25.678Z"
   },
   {
    "duration": 37,
    "start_time": "2022-04-13T20:36:25.687Z"
   },
   {
    "duration": 6,
    "start_time": "2022-04-13T20:36:25.725Z"
   },
   {
    "duration": 8,
    "start_time": "2022-04-13T20:36:25.732Z"
   },
   {
    "duration": 5,
    "start_time": "2022-04-13T20:36:25.742Z"
   },
   {
    "duration": 21,
    "start_time": "2022-04-13T20:36:25.749Z"
   },
   {
    "duration": 126,
    "start_time": "2022-04-13T20:36:25.771Z"
   },
   {
    "duration": 35,
    "start_time": "2022-04-13T20:36:25.899Z"
   },
   {
    "duration": 30,
    "start_time": "2022-04-13T20:36:25.936Z"
   },
   {
    "duration": 24,
    "start_time": "2022-04-13T20:36:25.968Z"
   },
   {
    "duration": 55,
    "start_time": "2022-04-13T20:36:25.994Z"
   },
   {
    "duration": 148,
    "start_time": "2022-04-13T20:36:26.051Z"
   },
   {
    "duration": 159,
    "start_time": "2022-04-13T20:36:26.201Z"
   },
   {
    "duration": 149,
    "start_time": "2022-04-13T20:36:26.362Z"
   },
   {
    "duration": 25,
    "start_time": "2022-04-13T20:36:26.512Z"
   },
   {
    "duration": 34,
    "start_time": "2022-04-13T20:36:26.539Z"
   },
   {
    "duration": 6,
    "start_time": "2022-04-13T20:36:26.575Z"
   },
   {
    "duration": 55,
    "start_time": "2022-04-13T20:36:26.583Z"
   },
   {
    "duration": 149,
    "start_time": "2022-04-13T20:36:26.640Z"
   },
   {
    "duration": 146,
    "start_time": "2022-04-13T20:36:26.790Z"
   },
   {
    "duration": 203,
    "start_time": "2022-04-13T20:36:26.938Z"
   },
   {
    "duration": 373,
    "start_time": "2022-04-13T20:36:27.142Z"
   },
   {
    "duration": 265,
    "start_time": "2022-04-13T20:36:27.516Z"
   },
   {
    "duration": 282,
    "start_time": "2022-04-13T20:36:27.782Z"
   },
   {
    "duration": 15,
    "start_time": "2022-04-13T20:36:28.065Z"
   },
   {
    "duration": 12,
    "start_time": "2022-04-13T20:36:28.082Z"
   },
   {
    "duration": 15,
    "start_time": "2022-04-13T20:36:28.097Z"
   },
   {
    "duration": 43,
    "start_time": "2022-04-13T20:36:28.114Z"
   },
   {
    "duration": 181,
    "start_time": "2022-04-13T20:36:28.158Z"
   },
   {
    "duration": 2,
    "start_time": "2022-04-13T20:36:28.341Z"
   },
   {
    "duration": 9,
    "start_time": "2022-04-13T20:36:28.345Z"
   },
   {
    "duration": 76,
    "start_time": "2022-04-14T11:01:26.547Z"
   },
   {
    "duration": 1824,
    "start_time": "2022-04-14T11:01:30.382Z"
   },
   {
    "duration": 514,
    "start_time": "2022-04-14T11:01:32.209Z"
   },
   {
    "duration": 22,
    "start_time": "2022-04-14T11:01:32.725Z"
   },
   {
    "duration": 35,
    "start_time": "2022-04-14T11:01:32.750Z"
   },
   {
    "duration": 41,
    "start_time": "2022-04-14T11:01:32.788Z"
   },
   {
    "duration": 48,
    "start_time": "2022-04-14T11:01:32.831Z"
   },
   {
    "duration": 19,
    "start_time": "2022-04-14T11:01:32.882Z"
   },
   {
    "duration": 37,
    "start_time": "2022-04-14T11:01:32.904Z"
   },
   {
    "duration": 24,
    "start_time": "2022-04-14T11:01:32.943Z"
   },
   {
    "duration": 34,
    "start_time": "2022-04-14T11:01:32.971Z"
   },
   {
    "duration": 59,
    "start_time": "2022-04-14T11:01:33.007Z"
   },
   {
    "duration": 86,
    "start_time": "2022-04-14T11:01:33.069Z"
   },
   {
    "duration": 21,
    "start_time": "2022-04-14T11:01:33.158Z"
   },
   {
    "duration": 4,
    "start_time": "2022-04-14T11:01:33.182Z"
   },
   {
    "duration": 25,
    "start_time": "2022-04-14T11:01:33.189Z"
   },
   {
    "duration": 65,
    "start_time": "2022-04-14T11:01:33.224Z"
   },
   {
    "duration": 8,
    "start_time": "2022-04-14T11:01:33.291Z"
   },
   {
    "duration": 49,
    "start_time": "2022-04-14T11:01:33.301Z"
   },
   {
    "duration": 268,
    "start_time": "2022-04-14T11:01:33.352Z"
   },
   {
    "duration": 42,
    "start_time": "2022-04-14T11:01:33.624Z"
   },
   {
    "duration": 74,
    "start_time": "2022-04-14T11:01:33.668Z"
   },
   {
    "duration": 14,
    "start_time": "2022-04-14T11:01:33.745Z"
   },
   {
    "duration": 11,
    "start_time": "2022-04-14T11:01:33.761Z"
   },
   {
    "duration": 58,
    "start_time": "2022-04-14T11:01:33.774Z"
   },
   {
    "duration": 22,
    "start_time": "2022-04-14T11:01:33.835Z"
   },
   {
    "duration": 52,
    "start_time": "2022-04-14T11:01:33.859Z"
   },
   {
    "duration": 250,
    "start_time": "2022-04-14T11:01:33.913Z"
   },
   {
    "duration": 390,
    "start_time": "2022-04-14T11:01:34.169Z"
   },
   {
    "duration": 46,
    "start_time": "2022-04-14T11:01:34.562Z"
   },
   {
    "duration": 27,
    "start_time": "2022-04-14T11:01:34.626Z"
   },
   {
    "duration": 18,
    "start_time": "2022-04-14T11:01:34.657Z"
   },
   {
    "duration": 11,
    "start_time": "2022-04-14T11:01:34.679Z"
   },
   {
    "duration": 44,
    "start_time": "2022-04-14T11:01:34.692Z"
   },
   {
    "duration": 24,
    "start_time": "2022-04-14T11:01:34.738Z"
   },
   {
    "duration": 86,
    "start_time": "2022-04-14T11:01:34.764Z"
   },
   {
    "duration": 46,
    "start_time": "2022-04-14T11:01:34.852Z"
   },
   {
    "duration": 33,
    "start_time": "2022-04-14T11:01:34.900Z"
   },
   {
    "duration": 38,
    "start_time": "2022-04-14T11:01:34.935Z"
   },
   {
    "duration": 12,
    "start_time": "2022-04-14T11:01:34.976Z"
   },
   {
    "duration": 48,
    "start_time": "2022-04-14T11:01:34.990Z"
   },
   {
    "duration": 12,
    "start_time": "2022-04-14T11:01:35.040Z"
   },
   {
    "duration": 12,
    "start_time": "2022-04-14T11:01:35.054Z"
   },
   {
    "duration": 9,
    "start_time": "2022-04-14T11:01:35.068Z"
   },
   {
    "duration": 53,
    "start_time": "2022-04-14T11:01:35.080Z"
   },
   {
    "duration": 10,
    "start_time": "2022-04-14T11:01:35.136Z"
   },
   {
    "duration": 37,
    "start_time": "2022-04-14T11:01:35.149Z"
   },
   {
    "duration": 119,
    "start_time": "2022-04-14T11:01:35.189Z"
   },
   {
    "duration": 0,
    "start_time": "2022-04-14T11:01:35.312Z"
   },
   {
    "duration": 0,
    "start_time": "2022-04-14T11:01:35.324Z"
   },
   {
    "duration": 0,
    "start_time": "2022-04-14T11:01:35.327Z"
   },
   {
    "duration": 0,
    "start_time": "2022-04-14T11:01:35.329Z"
   },
   {
    "duration": 0,
    "start_time": "2022-04-14T11:01:35.332Z"
   },
   {
    "duration": 0,
    "start_time": "2022-04-14T11:01:35.334Z"
   },
   {
    "duration": 0,
    "start_time": "2022-04-14T11:01:35.336Z"
   },
   {
    "duration": 0,
    "start_time": "2022-04-14T11:01:35.338Z"
   },
   {
    "duration": 0,
    "start_time": "2022-04-14T11:01:35.341Z"
   },
   {
    "duration": 0,
    "start_time": "2022-04-14T11:01:35.343Z"
   },
   {
    "duration": 0,
    "start_time": "2022-04-14T11:01:35.346Z"
   },
   {
    "duration": 0,
    "start_time": "2022-04-14T11:01:35.348Z"
   },
   {
    "duration": 0,
    "start_time": "2022-04-14T11:01:35.350Z"
   },
   {
    "duration": 0,
    "start_time": "2022-04-14T11:01:35.352Z"
   },
   {
    "duration": 0,
    "start_time": "2022-04-14T11:01:35.355Z"
   },
   {
    "duration": 0,
    "start_time": "2022-04-14T11:01:35.357Z"
   },
   {
    "duration": 0,
    "start_time": "2022-04-14T11:01:35.359Z"
   },
   {
    "duration": 0,
    "start_time": "2022-04-14T11:01:35.362Z"
   },
   {
    "duration": 0,
    "start_time": "2022-04-14T11:01:35.364Z"
   },
   {
    "duration": 0,
    "start_time": "2022-04-14T11:01:35.426Z"
   },
   {
    "duration": 0,
    "start_time": "2022-04-14T11:01:35.428Z"
   },
   {
    "duration": 1,
    "start_time": "2022-04-14T11:01:35.430Z"
   },
   {
    "duration": 0,
    "start_time": "2022-04-14T11:01:35.433Z"
   },
   {
    "duration": 0,
    "start_time": "2022-04-14T11:01:35.435Z"
   },
   {
    "duration": 0,
    "start_time": "2022-04-14T11:01:35.437Z"
   },
   {
    "duration": 11,
    "start_time": "2022-04-14T11:11:10.252Z"
   },
   {
    "duration": 14,
    "start_time": "2022-04-14T11:11:48.755Z"
   },
   {
    "duration": 57,
    "start_time": "2022-04-14T11:15:42.407Z"
   },
   {
    "duration": 9,
    "start_time": "2022-04-14T12:26:22.362Z"
   },
   {
    "duration": 18,
    "start_time": "2022-04-14T12:26:30.209Z"
   },
   {
    "duration": 52,
    "start_time": "2022-04-14T13:10:17.002Z"
   },
   {
    "duration": 4,
    "start_time": "2022-04-14T13:10:20.060Z"
   },
   {
    "duration": 540,
    "start_time": "2022-04-14T13:10:20.067Z"
   },
   {
    "duration": 15,
    "start_time": "2022-04-14T13:10:20.609Z"
   },
   {
    "duration": 40,
    "start_time": "2022-04-14T13:10:20.627Z"
   },
   {
    "duration": 14,
    "start_time": "2022-04-14T13:10:20.669Z"
   },
   {
    "duration": 54,
    "start_time": "2022-04-14T13:10:20.686Z"
   },
   {
    "duration": 13,
    "start_time": "2022-04-14T13:10:20.743Z"
   },
   {
    "duration": 35,
    "start_time": "2022-04-14T13:10:20.758Z"
   },
   {
    "duration": 34,
    "start_time": "2022-04-14T13:10:20.798Z"
   },
   {
    "duration": 27,
    "start_time": "2022-04-14T13:10:20.835Z"
   },
   {
    "duration": 28,
    "start_time": "2022-04-14T13:10:20.865Z"
   },
   {
    "duration": 63,
    "start_time": "2022-04-14T13:10:20.896Z"
   },
   {
    "duration": 17,
    "start_time": "2022-04-14T13:10:20.962Z"
   },
   {
    "duration": 8,
    "start_time": "2022-04-14T13:10:20.981Z"
   },
   {
    "duration": 36,
    "start_time": "2022-04-14T13:10:20.992Z"
   },
   {
    "duration": 50,
    "start_time": "2022-04-14T13:10:21.031Z"
   },
   {
    "duration": 7,
    "start_time": "2022-04-14T13:10:21.084Z"
   },
   {
    "duration": 58,
    "start_time": "2022-04-14T13:10:21.094Z"
   },
   {
    "duration": 260,
    "start_time": "2022-04-14T13:10:21.154Z"
   },
   {
    "duration": 41,
    "start_time": "2022-04-14T13:10:21.425Z"
   },
   {
    "duration": 56,
    "start_time": "2022-04-14T13:10:21.468Z"
   },
   {
    "duration": 15,
    "start_time": "2022-04-14T13:10:21.527Z"
   },
   {
    "duration": 10,
    "start_time": "2022-04-14T13:10:21.544Z"
   },
   {
    "duration": 25,
    "start_time": "2022-04-14T13:10:21.560Z"
   },
   {
    "duration": 47,
    "start_time": "2022-04-14T13:10:21.588Z"
   },
   {
    "duration": 16,
    "start_time": "2022-04-14T13:10:21.637Z"
   },
   {
    "duration": 269,
    "start_time": "2022-04-14T13:10:21.655Z"
   },
   {
    "duration": 237,
    "start_time": "2022-04-14T13:10:21.926Z"
   },
   {
    "duration": 29,
    "start_time": "2022-04-14T13:10:22.165Z"
   },
   {
    "duration": 36,
    "start_time": "2022-04-14T13:10:22.197Z"
   },
   {
    "duration": 11,
    "start_time": "2022-04-14T13:10:22.236Z"
   },
   {
    "duration": 12,
    "start_time": "2022-04-14T13:10:22.250Z"
   },
   {
    "duration": 24,
    "start_time": "2022-04-14T13:10:22.264Z"
   },
   {
    "duration": 48,
    "start_time": "2022-04-14T13:10:22.290Z"
   },
   {
    "duration": 65,
    "start_time": "2022-04-14T13:10:22.340Z"
   },
   {
    "duration": 48,
    "start_time": "2022-04-14T13:10:22.424Z"
   },
   {
    "duration": 16,
    "start_time": "2022-04-14T13:10:22.474Z"
   },
   {
    "duration": 56,
    "start_time": "2022-04-14T13:10:22.493Z"
   },
   {
    "duration": 13,
    "start_time": "2022-04-14T13:10:22.551Z"
   },
   {
    "duration": 18,
    "start_time": "2022-04-14T13:10:22.566Z"
   },
   {
    "duration": 45,
    "start_time": "2022-04-14T13:10:22.587Z"
   },
   {
    "duration": 12,
    "start_time": "2022-04-14T13:10:22.634Z"
   },
   {
    "duration": 9,
    "start_time": "2022-04-14T13:10:22.648Z"
   },
   {
    "duration": 12,
    "start_time": "2022-04-14T13:10:22.659Z"
   },
   {
    "duration": 51,
    "start_time": "2022-04-14T13:10:22.673Z"
   },
   {
    "duration": 39,
    "start_time": "2022-04-14T13:10:22.727Z"
   },
   {
    "duration": 16,
    "start_time": "2022-04-14T13:10:22.769Z"
   },
   {
    "duration": 83,
    "start_time": "2022-04-14T13:10:22.788Z"
   },
   {
    "duration": 0,
    "start_time": "2022-04-14T13:10:22.874Z"
   },
   {
    "duration": 0,
    "start_time": "2022-04-14T13:10:22.875Z"
   },
   {
    "duration": 0,
    "start_time": "2022-04-14T13:10:22.877Z"
   },
   {
    "duration": 0,
    "start_time": "2022-04-14T13:10:22.878Z"
   },
   {
    "duration": 0,
    "start_time": "2022-04-14T13:10:22.879Z"
   },
   {
    "duration": 0,
    "start_time": "2022-04-14T13:10:22.881Z"
   },
   {
    "duration": 0,
    "start_time": "2022-04-14T13:10:22.882Z"
   },
   {
    "duration": 0,
    "start_time": "2022-04-14T13:10:22.883Z"
   },
   {
    "duration": 0,
    "start_time": "2022-04-14T13:10:22.885Z"
   },
   {
    "duration": 0,
    "start_time": "2022-04-14T13:10:22.886Z"
   },
   {
    "duration": 0,
    "start_time": "2022-04-14T13:10:22.888Z"
   },
   {
    "duration": 0,
    "start_time": "2022-04-14T13:10:22.924Z"
   },
   {
    "duration": 0,
    "start_time": "2022-04-14T13:10:22.926Z"
   },
   {
    "duration": 0,
    "start_time": "2022-04-14T13:10:22.928Z"
   },
   {
    "duration": 0,
    "start_time": "2022-04-14T13:10:22.929Z"
   },
   {
    "duration": 0,
    "start_time": "2022-04-14T13:10:22.931Z"
   },
   {
    "duration": 0,
    "start_time": "2022-04-14T13:10:22.932Z"
   },
   {
    "duration": 0,
    "start_time": "2022-04-14T13:10:22.934Z"
   },
   {
    "duration": 0,
    "start_time": "2022-04-14T13:10:22.935Z"
   },
   {
    "duration": 0,
    "start_time": "2022-04-14T13:10:22.936Z"
   },
   {
    "duration": 0,
    "start_time": "2022-04-14T13:10:22.938Z"
   },
   {
    "duration": 0,
    "start_time": "2022-04-14T13:10:22.939Z"
   },
   {
    "duration": 0,
    "start_time": "2022-04-14T13:10:22.941Z"
   },
   {
    "duration": 0,
    "start_time": "2022-04-14T13:10:22.942Z"
   },
   {
    "duration": 25,
    "start_time": "2022-04-14T13:12:27.041Z"
   },
   {
    "duration": 129,
    "start_time": "2022-04-14T13:14:43.487Z"
   },
   {
    "duration": 152,
    "start_time": "2022-04-14T13:14:52.313Z"
   },
   {
    "duration": 146,
    "start_time": "2022-04-14T13:15:06.901Z"
   },
   {
    "duration": 155,
    "start_time": "2022-04-14T13:15:14.669Z"
   },
   {
    "duration": 141,
    "start_time": "2022-04-14T13:15:21.430Z"
   },
   {
    "duration": 132,
    "start_time": "2022-04-14T13:17:27.148Z"
   },
   {
    "duration": 6,
    "start_time": "2022-04-14T13:17:37.877Z"
   },
   {
    "duration": 5,
    "start_time": "2022-04-14T13:18:03.921Z"
   },
   {
    "duration": 14,
    "start_time": "2022-04-14T14:16:16.840Z"
   },
   {
    "duration": 12,
    "start_time": "2022-04-14T14:22:44.519Z"
   },
   {
    "duration": 13,
    "start_time": "2022-04-14T14:23:33.950Z"
   },
   {
    "duration": 12,
    "start_time": "2022-04-14T14:24:07.671Z"
   },
   {
    "duration": 9,
    "start_time": "2022-04-14T14:24:17.214Z"
   },
   {
    "duration": 124,
    "start_time": "2022-04-14T14:25:38.924Z"
   },
   {
    "duration": 9,
    "start_time": "2022-04-14T14:25:49.877Z"
   },
   {
    "duration": 16,
    "start_time": "2022-04-14T14:26:13.078Z"
   },
   {
    "duration": 4,
    "start_time": "2022-04-14T14:26:23.916Z"
   },
   {
    "duration": 542,
    "start_time": "2022-04-14T14:26:23.923Z"
   },
   {
    "duration": 16,
    "start_time": "2022-04-14T14:26:24.467Z"
   },
   {
    "duration": 40,
    "start_time": "2022-04-14T14:26:24.485Z"
   },
   {
    "duration": 14,
    "start_time": "2022-04-14T14:26:24.528Z"
   },
   {
    "duration": 34,
    "start_time": "2022-04-14T14:26:24.545Z"
   },
   {
    "duration": 11,
    "start_time": "2022-04-14T14:26:24.582Z"
   },
   {
    "duration": 60,
    "start_time": "2022-04-14T14:26:24.595Z"
   },
   {
    "duration": 12,
    "start_time": "2022-04-14T14:26:24.657Z"
   },
   {
    "duration": 19,
    "start_time": "2022-04-14T14:26:24.672Z"
   },
   {
    "duration": 74,
    "start_time": "2022-04-14T14:26:24.695Z"
   },
   {
    "duration": 75,
    "start_time": "2022-04-14T14:26:24.772Z"
   },
   {
    "duration": 14,
    "start_time": "2022-04-14T14:26:24.849Z"
   },
   {
    "duration": 30,
    "start_time": "2022-04-14T14:26:24.865Z"
   },
   {
    "duration": 35,
    "start_time": "2022-04-14T14:26:24.897Z"
   },
   {
    "duration": 52,
    "start_time": "2022-04-14T14:26:24.934Z"
   },
   {
    "duration": 7,
    "start_time": "2022-04-14T14:26:24.988Z"
   },
   {
    "duration": 42,
    "start_time": "2022-04-14T14:26:24.997Z"
   },
   {
    "duration": 241,
    "start_time": "2022-04-14T14:26:25.042Z"
   },
   {
    "duration": 52,
    "start_time": "2022-04-14T14:26:25.285Z"
   },
   {
    "duration": 35,
    "start_time": "2022-04-14T14:26:25.339Z"
   },
   {
    "duration": 15,
    "start_time": "2022-04-14T14:26:25.376Z"
   },
   {
    "duration": 34,
    "start_time": "2022-04-14T14:26:25.394Z"
   },
   {
    "duration": 32,
    "start_time": "2022-04-14T14:26:25.430Z"
   },
   {
    "duration": 19,
    "start_time": "2022-04-14T14:26:25.465Z"
   },
   {
    "duration": 16,
    "start_time": "2022-04-14T14:26:25.486Z"
   },
   {
    "duration": 333,
    "start_time": "2022-04-14T14:26:25.525Z"
   },
   {
    "duration": 237,
    "start_time": "2022-04-14T14:26:25.860Z"
   },
   {
    "duration": 36,
    "start_time": "2022-04-14T14:26:26.103Z"
   },
   {
    "duration": 21,
    "start_time": "2022-04-14T14:26:26.141Z"
   },
   {
    "duration": 12,
    "start_time": "2022-04-14T14:26:26.164Z"
   },
   {
    "duration": 22,
    "start_time": "2022-04-14T14:26:26.178Z"
   },
   {
    "duration": 38,
    "start_time": "2022-04-14T14:26:26.203Z"
   },
   {
    "duration": 18,
    "start_time": "2022-04-14T14:26:26.243Z"
   },
   {
    "duration": 78,
    "start_time": "2022-04-14T14:26:26.263Z"
   },
   {
    "duration": 45,
    "start_time": "2022-04-14T14:26:26.343Z"
   },
   {
    "duration": 37,
    "start_time": "2022-04-14T14:26:26.390Z"
   },
   {
    "duration": 36,
    "start_time": "2022-04-14T14:26:26.429Z"
   },
   {
    "duration": 13,
    "start_time": "2022-04-14T14:26:26.468Z"
   },
   {
    "duration": 42,
    "start_time": "2022-04-14T14:26:26.484Z"
   },
   {
    "duration": 12,
    "start_time": "2022-04-14T14:26:26.528Z"
   },
   {
    "duration": 25,
    "start_time": "2022-04-14T14:26:26.542Z"
   },
   {
    "duration": 16,
    "start_time": "2022-04-14T14:26:26.569Z"
   },
   {
    "duration": 13,
    "start_time": "2022-04-14T14:26:26.587Z"
   },
   {
    "duration": 28,
    "start_time": "2022-04-14T14:26:26.603Z"
   },
   {
    "duration": 46,
    "start_time": "2022-04-14T14:26:26.633Z"
   },
   {
    "duration": 13,
    "start_time": "2022-04-14T14:26:26.682Z"
   },
   {
    "duration": 40,
    "start_time": "2022-04-14T14:26:26.697Z"
   },
   {
    "duration": 12,
    "start_time": "2022-04-14T14:26:26.739Z"
   },
   {
    "duration": 4,
    "start_time": "2022-04-14T14:26:26.753Z"
   },
   {
    "duration": 16,
    "start_time": "2022-04-14T14:26:26.760Z"
   },
   {
    "duration": 81,
    "start_time": "2022-04-14T14:26:26.778Z"
   },
   {
    "duration": 0,
    "start_time": "2022-04-14T14:26:26.861Z"
   },
   {
    "duration": 0,
    "start_time": "2022-04-14T14:26:26.863Z"
   },
   {
    "duration": 0,
    "start_time": "2022-04-14T14:26:26.865Z"
   },
   {
    "duration": 0,
    "start_time": "2022-04-14T14:26:26.866Z"
   },
   {
    "duration": 0,
    "start_time": "2022-04-14T14:26:26.868Z"
   },
   {
    "duration": 0,
    "start_time": "2022-04-14T14:26:26.869Z"
   },
   {
    "duration": 0,
    "start_time": "2022-04-14T14:26:26.871Z"
   },
   {
    "duration": 0,
    "start_time": "2022-04-14T14:26:26.873Z"
   },
   {
    "duration": 0,
    "start_time": "2022-04-14T14:26:26.874Z"
   },
   {
    "duration": 0,
    "start_time": "2022-04-14T14:26:26.876Z"
   },
   {
    "duration": 0,
    "start_time": "2022-04-14T14:26:26.877Z"
   },
   {
    "duration": 0,
    "start_time": "2022-04-14T14:26:26.879Z"
   },
   {
    "duration": 0,
    "start_time": "2022-04-14T14:26:26.880Z"
   },
   {
    "duration": 0,
    "start_time": "2022-04-14T14:26:26.882Z"
   },
   {
    "duration": 0,
    "start_time": "2022-04-14T14:26:26.924Z"
   },
   {
    "duration": 0,
    "start_time": "2022-04-14T14:26:26.926Z"
   },
   {
    "duration": 0,
    "start_time": "2022-04-14T14:26:26.928Z"
   },
   {
    "duration": 0,
    "start_time": "2022-04-14T14:26:26.930Z"
   },
   {
    "duration": 0,
    "start_time": "2022-04-14T14:26:26.931Z"
   },
   {
    "duration": 0,
    "start_time": "2022-04-14T14:26:26.933Z"
   },
   {
    "duration": 0,
    "start_time": "2022-04-14T14:26:26.934Z"
   },
   {
    "duration": 0,
    "start_time": "2022-04-14T14:26:26.936Z"
   },
   {
    "duration": 0,
    "start_time": "2022-04-14T14:26:26.938Z"
   },
   {
    "duration": 0,
    "start_time": "2022-04-14T14:26:26.940Z"
   },
   {
    "duration": 15,
    "start_time": "2022-04-14T14:26:33.061Z"
   },
   {
    "duration": 9,
    "start_time": "2022-04-14T14:26:41.246Z"
   },
   {
    "duration": 16,
    "start_time": "2022-04-14T14:26:42.698Z"
   },
   {
    "duration": 23,
    "start_time": "2022-04-14T14:27:34.962Z"
   },
   {
    "duration": 13,
    "start_time": "2022-04-14T14:29:39.608Z"
   },
   {
    "duration": 16,
    "start_time": "2022-04-14T14:29:54.900Z"
   },
   {
    "duration": 13,
    "start_time": "2022-04-14T14:30:13.090Z"
   },
   {
    "duration": 13,
    "start_time": "2022-04-14T14:30:16.881Z"
   },
   {
    "duration": 6,
    "start_time": "2022-04-14T14:33:56.442Z"
   },
   {
    "duration": 7,
    "start_time": "2022-04-14T14:34:06.630Z"
   },
   {
    "duration": 2865,
    "start_time": "2022-04-14T14:34:59.665Z"
   },
   {
    "duration": 11,
    "start_time": "2022-04-14T14:36:52.664Z"
   },
   {
    "duration": 24,
    "start_time": "2022-04-14T14:38:51.377Z"
   },
   {
    "duration": 45,
    "start_time": "2022-04-14T14:40:11.360Z"
   },
   {
    "duration": 39,
    "start_time": "2022-04-14T14:40:20.176Z"
   },
   {
    "duration": 12,
    "start_time": "2022-04-14T14:40:51.476Z"
   },
   {
    "duration": 12,
    "start_time": "2022-04-14T14:41:20.859Z"
   },
   {
    "duration": 10,
    "start_time": "2022-04-14T14:41:28.696Z"
   },
   {
    "duration": 49,
    "start_time": "2022-04-15T06:23:00.272Z"
   },
   {
    "duration": 1288,
    "start_time": "2022-04-15T06:23:04.720Z"
   },
   {
    "duration": 371,
    "start_time": "2022-04-15T06:23:06.010Z"
   },
   {
    "duration": 18,
    "start_time": "2022-04-15T06:23:06.383Z"
   },
   {
    "duration": 43,
    "start_time": "2022-04-15T06:23:06.404Z"
   },
   {
    "duration": 13,
    "start_time": "2022-04-15T06:23:06.449Z"
   },
   {
    "duration": 35,
    "start_time": "2022-04-15T06:23:06.464Z"
   },
   {
    "duration": 11,
    "start_time": "2022-04-15T06:23:06.500Z"
   },
   {
    "duration": 45,
    "start_time": "2022-04-15T06:23:06.513Z"
   },
   {
    "duration": 12,
    "start_time": "2022-04-15T06:23:06.560Z"
   },
   {
    "duration": 17,
    "start_time": "2022-04-15T06:23:06.575Z"
   },
   {
    "duration": 16,
    "start_time": "2022-04-15T06:23:06.594Z"
   },
   {
    "duration": 69,
    "start_time": "2022-04-15T06:23:06.612Z"
   },
   {
    "duration": 17,
    "start_time": "2022-04-15T06:23:06.683Z"
   },
   {
    "duration": 4,
    "start_time": "2022-04-15T06:23:06.702Z"
   },
   {
    "duration": 10,
    "start_time": "2022-04-15T06:23:06.707Z"
   },
   {
    "duration": 69,
    "start_time": "2022-04-15T06:23:06.718Z"
   },
   {
    "duration": 6,
    "start_time": "2022-04-15T06:23:06.790Z"
   },
   {
    "duration": 31,
    "start_time": "2022-04-15T06:23:06.798Z"
   },
   {
    "duration": 247,
    "start_time": "2022-04-15T06:23:06.831Z"
   },
   {
    "duration": 44,
    "start_time": "2022-04-15T06:23:07.080Z"
   },
   {
    "duration": 55,
    "start_time": "2022-04-15T06:23:07.126Z"
   },
   {
    "duration": 14,
    "start_time": "2022-04-15T06:23:07.183Z"
   },
   {
    "duration": 7,
    "start_time": "2022-04-15T06:23:07.199Z"
   },
   {
    "duration": 29,
    "start_time": "2022-04-15T06:23:07.208Z"
   },
   {
    "duration": 33,
    "start_time": "2022-04-15T06:23:07.240Z"
   },
   {
    "duration": 15,
    "start_time": "2022-04-15T06:23:07.275Z"
   },
   {
    "duration": 239,
    "start_time": "2022-04-15T06:23:07.291Z"
   },
   {
    "duration": 218,
    "start_time": "2022-04-15T06:23:07.536Z"
   },
   {
    "duration": 33,
    "start_time": "2022-04-15T06:23:07.756Z"
   },
   {
    "duration": 19,
    "start_time": "2022-04-15T06:23:07.792Z"
   },
   {
    "duration": 10,
    "start_time": "2022-04-15T06:23:07.813Z"
   },
   {
    "duration": 31,
    "start_time": "2022-04-15T06:23:07.824Z"
   },
   {
    "duration": 16,
    "start_time": "2022-04-15T06:23:07.857Z"
   },
   {
    "duration": 19,
    "start_time": "2022-04-15T06:23:07.874Z"
   },
   {
    "duration": 43,
    "start_time": "2022-04-15T06:23:07.895Z"
   },
   {
    "duration": 44,
    "start_time": "2022-04-15T06:23:07.940Z"
   },
   {
    "duration": 10,
    "start_time": "2022-04-15T06:23:07.987Z"
   },
   {
    "duration": 24,
    "start_time": "2022-04-15T06:23:07.999Z"
   },
   {
    "duration": 33,
    "start_time": "2022-04-15T06:23:08.025Z"
   },
   {
    "duration": 15,
    "start_time": "2022-04-15T06:23:08.059Z"
   },
   {
    "duration": 8,
    "start_time": "2022-04-15T06:23:08.076Z"
   },
   {
    "duration": 8,
    "start_time": "2022-04-15T06:23:08.086Z"
   },
   {
    "duration": 7,
    "start_time": "2022-04-15T06:23:08.095Z"
   },
   {
    "duration": 8,
    "start_time": "2022-04-15T06:23:08.103Z"
   },
   {
    "duration": 46,
    "start_time": "2022-04-15T06:23:08.113Z"
   },
   {
    "duration": 22,
    "start_time": "2022-04-15T06:23:08.161Z"
   },
   {
    "duration": 8,
    "start_time": "2022-04-15T06:23:08.185Z"
   },
   {
    "duration": 31,
    "start_time": "2022-04-15T06:23:08.195Z"
   },
   {
    "duration": 33,
    "start_time": "2022-04-15T06:23:08.229Z"
   },
   {
    "duration": 11,
    "start_time": "2022-04-15T06:23:08.264Z"
   },
   {
    "duration": 36,
    "start_time": "2022-04-15T06:23:08.277Z"
   },
   {
    "duration": 157,
    "start_time": "2022-04-15T06:23:08.316Z"
   },
   {
    "duration": 0,
    "start_time": "2022-04-15T06:23:08.475Z"
   },
   {
    "duration": 0,
    "start_time": "2022-04-15T06:23:08.477Z"
   },
   {
    "duration": 0,
    "start_time": "2022-04-15T06:23:08.478Z"
   },
   {
    "duration": 0,
    "start_time": "2022-04-15T06:23:08.480Z"
   },
   {
    "duration": 0,
    "start_time": "2022-04-15T06:23:08.481Z"
   },
   {
    "duration": 0,
    "start_time": "2022-04-15T06:23:08.482Z"
   },
   {
    "duration": 0,
    "start_time": "2022-04-15T06:23:08.483Z"
   },
   {
    "duration": 0,
    "start_time": "2022-04-15T06:23:08.485Z"
   },
   {
    "duration": 0,
    "start_time": "2022-04-15T06:23:08.486Z"
   },
   {
    "duration": 0,
    "start_time": "2022-04-15T06:23:08.487Z"
   },
   {
    "duration": 0,
    "start_time": "2022-04-15T06:23:08.489Z"
   },
   {
    "duration": 0,
    "start_time": "2022-04-15T06:23:08.490Z"
   },
   {
    "duration": 0,
    "start_time": "2022-04-15T06:23:08.492Z"
   },
   {
    "duration": 0,
    "start_time": "2022-04-15T06:23:08.493Z"
   },
   {
    "duration": 0,
    "start_time": "2022-04-15T06:23:08.494Z"
   },
   {
    "duration": 0,
    "start_time": "2022-04-15T06:23:08.496Z"
   },
   {
    "duration": 0,
    "start_time": "2022-04-15T06:23:08.498Z"
   },
   {
    "duration": 0,
    "start_time": "2022-04-15T06:23:08.499Z"
   },
   {
    "duration": 0,
    "start_time": "2022-04-15T06:23:08.501Z"
   },
   {
    "duration": 0,
    "start_time": "2022-04-15T06:23:08.502Z"
   },
   {
    "duration": 0,
    "start_time": "2022-04-15T06:23:08.504Z"
   },
   {
    "duration": 0,
    "start_time": "2022-04-15T06:23:08.505Z"
   },
   {
    "duration": 0,
    "start_time": "2022-04-15T06:23:08.555Z"
   },
   {
    "duration": 0,
    "start_time": "2022-04-15T06:23:08.557Z"
   },
   {
    "duration": 0,
    "start_time": "2022-04-15T06:23:08.558Z"
   },
   {
    "duration": 2134,
    "start_time": "2022-04-15T06:23:37.406Z"
   },
   {
    "duration": 22,
    "start_time": "2022-04-15T06:30:52.153Z"
   },
   {
    "duration": 3,
    "start_time": "2022-04-15T06:32:16.635Z"
   },
   {
    "duration": 2,
    "start_time": "2022-04-15T06:32:24.607Z"
   },
   {
    "duration": 405,
    "start_time": "2022-04-15T06:32:24.611Z"
   },
   {
    "duration": 11,
    "start_time": "2022-04-15T06:32:25.019Z"
   },
   {
    "duration": 35,
    "start_time": "2022-04-15T06:32:25.031Z"
   },
   {
    "duration": 11,
    "start_time": "2022-04-15T06:32:25.068Z"
   },
   {
    "duration": 26,
    "start_time": "2022-04-15T06:32:25.081Z"
   },
   {
    "duration": 7,
    "start_time": "2022-04-15T06:32:25.109Z"
   },
   {
    "duration": 37,
    "start_time": "2022-04-15T06:32:25.118Z"
   },
   {
    "duration": 10,
    "start_time": "2022-04-15T06:32:25.157Z"
   },
   {
    "duration": 14,
    "start_time": "2022-04-15T06:32:25.169Z"
   },
   {
    "duration": 18,
    "start_time": "2022-04-15T06:32:25.187Z"
   },
   {
    "duration": 53,
    "start_time": "2022-04-15T06:32:25.207Z"
   },
   {
    "duration": 11,
    "start_time": "2022-04-15T06:32:25.262Z"
   },
   {
    "duration": 6,
    "start_time": "2022-04-15T06:32:25.275Z"
   },
   {
    "duration": 6,
    "start_time": "2022-04-15T06:32:25.282Z"
   },
   {
    "duration": 33,
    "start_time": "2022-04-15T06:32:25.290Z"
   },
   {
    "duration": 5,
    "start_time": "2022-04-15T06:32:25.324Z"
   },
   {
    "duration": 42,
    "start_time": "2022-04-15T06:32:25.330Z"
   },
   {
    "duration": 157,
    "start_time": "2022-04-15T06:32:25.374Z"
   },
   {
    "duration": 38,
    "start_time": "2022-04-15T06:32:25.533Z"
   },
   {
    "duration": 38,
    "start_time": "2022-04-15T06:32:25.573Z"
   },
   {
    "duration": 11,
    "start_time": "2022-04-15T06:32:25.613Z"
   },
   {
    "duration": 29,
    "start_time": "2022-04-15T06:32:25.626Z"
   },
   {
    "duration": 18,
    "start_time": "2022-04-15T06:32:25.657Z"
   },
   {
    "duration": 19,
    "start_time": "2022-04-15T06:32:25.678Z"
   },
   {
    "duration": 11,
    "start_time": "2022-04-15T06:32:25.699Z"
   },
   {
    "duration": 168,
    "start_time": "2022-04-15T06:32:25.712Z"
   },
   {
    "duration": 141,
    "start_time": "2022-04-15T06:32:25.883Z"
   },
   {
    "duration": 28,
    "start_time": "2022-04-15T06:32:26.029Z"
   },
   {
    "duration": 15,
    "start_time": "2022-04-15T06:32:26.059Z"
   },
   {
    "duration": 9,
    "start_time": "2022-04-15T06:32:26.075Z"
   },
   {
    "duration": 8,
    "start_time": "2022-04-15T06:32:26.085Z"
   },
   {
    "duration": 15,
    "start_time": "2022-04-15T06:32:26.095Z"
   },
   {
    "duration": 14,
    "start_time": "2022-04-15T06:32:26.112Z"
   },
   {
    "duration": 75,
    "start_time": "2022-04-15T06:32:26.127Z"
   },
   {
    "duration": 34,
    "start_time": "2022-04-15T06:32:26.204Z"
   },
   {
    "duration": 12,
    "start_time": "2022-04-15T06:32:26.255Z"
   },
   {
    "duration": 29,
    "start_time": "2022-04-15T06:32:26.269Z"
   },
   {
    "duration": 12,
    "start_time": "2022-04-15T06:32:26.300Z"
   },
   {
    "duration": 17,
    "start_time": "2022-04-15T06:32:26.314Z"
   },
   {
    "duration": 38,
    "start_time": "2022-04-15T06:32:26.332Z"
   },
   {
    "duration": 0,
    "start_time": "2022-04-15T06:32:26.371Z"
   },
   {
    "duration": 0,
    "start_time": "2022-04-15T06:32:26.373Z"
   },
   {
    "duration": 0,
    "start_time": "2022-04-15T06:32:26.374Z"
   },
   {
    "duration": 0,
    "start_time": "2022-04-15T06:32:26.375Z"
   },
   {
    "duration": 0,
    "start_time": "2022-04-15T06:32:26.376Z"
   },
   {
    "duration": 0,
    "start_time": "2022-04-15T06:32:26.377Z"
   },
   {
    "duration": 0,
    "start_time": "2022-04-15T06:32:26.378Z"
   },
   {
    "duration": 0,
    "start_time": "2022-04-15T06:32:26.378Z"
   },
   {
    "duration": 0,
    "start_time": "2022-04-15T06:32:26.379Z"
   },
   {
    "duration": 0,
    "start_time": "2022-04-15T06:32:26.383Z"
   },
   {
    "duration": 0,
    "start_time": "2022-04-15T06:32:26.385Z"
   },
   {
    "duration": 0,
    "start_time": "2022-04-15T06:32:26.386Z"
   },
   {
    "duration": 0,
    "start_time": "2022-04-15T06:32:26.387Z"
   },
   {
    "duration": 0,
    "start_time": "2022-04-15T06:32:26.388Z"
   },
   {
    "duration": 0,
    "start_time": "2022-04-15T06:32:26.389Z"
   },
   {
    "duration": 0,
    "start_time": "2022-04-15T06:32:26.390Z"
   },
   {
    "duration": 0,
    "start_time": "2022-04-15T06:32:26.391Z"
   },
   {
    "duration": 0,
    "start_time": "2022-04-15T06:32:26.392Z"
   },
   {
    "duration": 0,
    "start_time": "2022-04-15T06:32:26.393Z"
   },
   {
    "duration": 0,
    "start_time": "2022-04-15T06:32:26.394Z"
   },
   {
    "duration": 0,
    "start_time": "2022-04-15T06:32:26.395Z"
   },
   {
    "duration": 0,
    "start_time": "2022-04-15T06:32:26.397Z"
   },
   {
    "duration": 0,
    "start_time": "2022-04-15T06:32:26.398Z"
   },
   {
    "duration": 0,
    "start_time": "2022-04-15T06:32:26.399Z"
   },
   {
    "duration": 0,
    "start_time": "2022-04-15T06:32:26.400Z"
   },
   {
    "duration": 0,
    "start_time": "2022-04-15T06:32:26.401Z"
   },
   {
    "duration": 0,
    "start_time": "2022-04-15T06:32:26.456Z"
   },
   {
    "duration": 0,
    "start_time": "2022-04-15T06:32:26.458Z"
   },
   {
    "duration": 0,
    "start_time": "2022-04-15T06:32:26.459Z"
   },
   {
    "duration": 0,
    "start_time": "2022-04-15T06:32:26.460Z"
   },
   {
    "duration": 0,
    "start_time": "2022-04-15T06:32:26.461Z"
   },
   {
    "duration": 0,
    "start_time": "2022-04-15T06:32:26.462Z"
   },
   {
    "duration": 0,
    "start_time": "2022-04-15T06:32:26.463Z"
   },
   {
    "duration": 0,
    "start_time": "2022-04-15T06:32:26.464Z"
   },
   {
    "duration": 0,
    "start_time": "2022-04-15T06:32:26.465Z"
   },
   {
    "duration": 0,
    "start_time": "2022-04-15T06:32:26.466Z"
   },
   {
    "duration": 590,
    "start_time": "2022-04-15T06:33:21.886Z"
   },
   {
    "duration": 574,
    "start_time": "2022-04-15T06:33:36.483Z"
   },
   {
    "duration": 9,
    "start_time": "2022-04-15T06:33:41.295Z"
   },
   {
    "duration": 1914,
    "start_time": "2022-04-17T09:25:40.798Z"
   },
   {
    "duration": 896,
    "start_time": "2022-04-17T09:25:42.716Z"
   },
   {
    "duration": 28,
    "start_time": "2022-04-17T09:25:43.615Z"
   },
   {
    "duration": 41,
    "start_time": "2022-04-17T09:25:43.647Z"
   },
   {
    "duration": 13,
    "start_time": "2022-04-17T09:25:43.690Z"
   },
   {
    "duration": 37,
    "start_time": "2022-04-17T09:25:43.705Z"
   },
   {
    "duration": 11,
    "start_time": "2022-04-17T09:25:43.744Z"
   },
   {
    "duration": 27,
    "start_time": "2022-04-17T09:25:43.781Z"
   },
   {
    "duration": 11,
    "start_time": "2022-04-17T09:25:43.811Z"
   },
   {
    "duration": 21,
    "start_time": "2022-04-17T09:25:43.828Z"
   },
   {
    "duration": 44,
    "start_time": "2022-04-17T09:25:43.851Z"
   },
   {
    "duration": 84,
    "start_time": "2022-04-17T09:25:43.898Z"
   },
   {
    "duration": 47,
    "start_time": "2022-04-17T09:25:43.985Z"
   },
   {
    "duration": 5,
    "start_time": "2022-04-17T09:25:44.034Z"
   },
   {
    "duration": 9,
    "start_time": "2022-04-17T09:25:44.042Z"
   },
   {
    "duration": 88,
    "start_time": "2022-04-17T09:25:44.053Z"
   },
   {
    "duration": 6,
    "start_time": "2022-04-17T09:25:44.143Z"
   },
   {
    "duration": 51,
    "start_time": "2022-04-17T09:25:44.151Z"
   },
   {
    "duration": 247,
    "start_time": "2022-04-17T09:25:44.205Z"
   },
   {
    "duration": 40,
    "start_time": "2022-04-17T09:25:44.455Z"
   },
   {
    "duration": 37,
    "start_time": "2022-04-17T09:25:44.497Z"
   },
   {
    "duration": 13,
    "start_time": "2022-04-17T09:25:44.536Z"
   },
   {
    "duration": 5,
    "start_time": "2022-04-17T09:25:44.581Z"
   },
   {
    "duration": 28,
    "start_time": "2022-04-17T09:25:44.588Z"
   },
   {
    "duration": 173,
    "start_time": "2022-04-17T09:25:44.618Z"
   },
   {
    "duration": 0,
    "start_time": "2022-04-17T09:25:44.795Z"
   },
   {
    "duration": 0,
    "start_time": "2022-04-17T09:25:44.797Z"
   },
   {
    "duration": 0,
    "start_time": "2022-04-17T09:25:44.798Z"
   },
   {
    "duration": 0,
    "start_time": "2022-04-17T09:25:44.800Z"
   },
   {
    "duration": 0,
    "start_time": "2022-04-17T09:25:44.802Z"
   },
   {
    "duration": 0,
    "start_time": "2022-04-17T09:25:44.803Z"
   },
   {
    "duration": 0,
    "start_time": "2022-04-17T09:25:44.805Z"
   },
   {
    "duration": 0,
    "start_time": "2022-04-17T09:25:44.807Z"
   },
   {
    "duration": 0,
    "start_time": "2022-04-17T09:25:44.808Z"
   },
   {
    "duration": 0,
    "start_time": "2022-04-17T09:25:44.809Z"
   },
   {
    "duration": 0,
    "start_time": "2022-04-17T09:25:44.810Z"
   },
   {
    "duration": 0,
    "start_time": "2022-04-17T09:25:44.811Z"
   },
   {
    "duration": 0,
    "start_time": "2022-04-17T09:25:44.812Z"
   },
   {
    "duration": 0,
    "start_time": "2022-04-17T09:25:44.814Z"
   },
   {
    "duration": 0,
    "start_time": "2022-04-17T09:25:44.815Z"
   },
   {
    "duration": 0,
    "start_time": "2022-04-17T09:25:44.816Z"
   },
   {
    "duration": 0,
    "start_time": "2022-04-17T09:25:44.818Z"
   },
   {
    "duration": 0,
    "start_time": "2022-04-17T09:25:44.819Z"
   },
   {
    "duration": 0,
    "start_time": "2022-04-17T09:25:44.821Z"
   },
   {
    "duration": 0,
    "start_time": "2022-04-17T09:25:44.822Z"
   },
   {
    "duration": 0,
    "start_time": "2022-04-17T09:25:44.823Z"
   },
   {
    "duration": 0,
    "start_time": "2022-04-17T09:25:44.825Z"
   },
   {
    "duration": 0,
    "start_time": "2022-04-17T09:25:44.826Z"
   },
   {
    "duration": 0,
    "start_time": "2022-04-17T09:25:44.883Z"
   },
   {
    "duration": 0,
    "start_time": "2022-04-17T09:25:44.884Z"
   },
   {
    "duration": 0,
    "start_time": "2022-04-17T09:25:44.886Z"
   },
   {
    "duration": 0,
    "start_time": "2022-04-17T09:25:44.888Z"
   },
   {
    "duration": 0,
    "start_time": "2022-04-17T09:25:44.889Z"
   },
   {
    "duration": 0,
    "start_time": "2022-04-17T09:25:44.891Z"
   },
   {
    "duration": 0,
    "start_time": "2022-04-17T09:25:44.893Z"
   },
   {
    "duration": 0,
    "start_time": "2022-04-17T09:25:44.894Z"
   },
   {
    "duration": 0,
    "start_time": "2022-04-17T09:25:44.896Z"
   },
   {
    "duration": 0,
    "start_time": "2022-04-17T09:25:44.897Z"
   },
   {
    "duration": 0,
    "start_time": "2022-04-17T09:25:44.898Z"
   },
   {
    "duration": 0,
    "start_time": "2022-04-17T09:25:44.899Z"
   },
   {
    "duration": 0,
    "start_time": "2022-04-17T09:25:44.901Z"
   },
   {
    "duration": 0,
    "start_time": "2022-04-17T09:25:44.902Z"
   },
   {
    "duration": 0,
    "start_time": "2022-04-17T09:25:44.904Z"
   },
   {
    "duration": 0,
    "start_time": "2022-04-17T09:25:44.905Z"
   },
   {
    "duration": 0,
    "start_time": "2022-04-17T09:25:44.906Z"
   },
   {
    "duration": 0,
    "start_time": "2022-04-17T09:25:44.908Z"
   },
   {
    "duration": 0,
    "start_time": "2022-04-17T09:25:44.909Z"
   },
   {
    "duration": 0,
    "start_time": "2022-04-17T09:25:44.910Z"
   },
   {
    "duration": 0,
    "start_time": "2022-04-17T09:25:44.912Z"
   },
   {
    "duration": 0,
    "start_time": "2022-04-17T09:25:44.913Z"
   },
   {
    "duration": 0,
    "start_time": "2022-04-17T09:25:44.915Z"
   },
   {
    "duration": 0,
    "start_time": "2022-04-17T09:25:44.916Z"
   },
   {
    "duration": 0,
    "start_time": "2022-04-17T09:25:44.918Z"
   },
   {
    "duration": 0,
    "start_time": "2022-04-17T09:25:44.919Z"
   },
   {
    "duration": 0,
    "start_time": "2022-04-17T09:25:44.920Z"
   },
   {
    "duration": 0,
    "start_time": "2022-04-17T09:25:44.983Z"
   },
   {
    "duration": 0,
    "start_time": "2022-04-17T09:25:44.984Z"
   },
   {
    "duration": 5,
    "start_time": "2022-04-17T09:26:04.313Z"
   },
   {
    "duration": 681,
    "start_time": "2022-04-17T09:26:04.321Z"
   },
   {
    "duration": 14,
    "start_time": "2022-04-17T09:26:05.005Z"
   },
   {
    "duration": 45,
    "start_time": "2022-04-17T09:26:05.021Z"
   },
   {
    "duration": 24,
    "start_time": "2022-04-17T09:26:05.070Z"
   },
   {
    "duration": 41,
    "start_time": "2022-04-17T09:26:05.096Z"
   },
   {
    "duration": 10,
    "start_time": "2022-04-17T09:26:05.140Z"
   },
   {
    "duration": 49,
    "start_time": "2022-04-17T09:26:05.153Z"
   },
   {
    "duration": 17,
    "start_time": "2022-04-17T09:26:05.205Z"
   },
   {
    "duration": 20,
    "start_time": "2022-04-17T09:26:05.225Z"
   },
   {
    "duration": 24,
    "start_time": "2022-04-17T09:26:05.284Z"
   },
   {
    "duration": 74,
    "start_time": "2022-04-17T09:26:05.312Z"
   },
   {
    "duration": 44,
    "start_time": "2022-04-17T09:26:05.390Z"
   },
   {
    "duration": 5,
    "start_time": "2022-04-17T09:26:05.437Z"
   },
   {
    "duration": 39,
    "start_time": "2022-04-17T09:26:05.445Z"
   },
   {
    "duration": 43,
    "start_time": "2022-04-17T09:26:05.487Z"
   },
   {
    "duration": 5,
    "start_time": "2022-04-17T09:26:05.533Z"
   },
   {
    "duration": 63,
    "start_time": "2022-04-17T09:26:05.541Z"
   },
   {
    "duration": 360,
    "start_time": "2022-04-17T09:26:05.606Z"
   },
   {
    "duration": 39,
    "start_time": "2022-04-17T09:26:05.970Z"
   },
   {
    "duration": 34,
    "start_time": "2022-04-17T09:26:06.011Z"
   },
   {
    "duration": 37,
    "start_time": "2022-04-17T09:26:06.047Z"
   },
   {
    "duration": 6,
    "start_time": "2022-04-17T09:26:06.086Z"
   },
   {
    "duration": 39,
    "start_time": "2022-04-17T09:26:06.095Z"
   },
   {
    "duration": 3,
    "start_time": "2022-04-17T09:26:06.138Z"
   },
   {
    "duration": 46,
    "start_time": "2022-04-17T09:26:06.145Z"
   },
   {
    "duration": 355,
    "start_time": "2022-04-17T09:26:06.194Z"
   },
   {
    "duration": 340,
    "start_time": "2022-04-17T09:26:06.552Z"
   },
   {
    "duration": 42,
    "start_time": "2022-04-17T09:26:06.901Z"
   },
   {
    "duration": 47,
    "start_time": "2022-04-17T09:26:06.945Z"
   },
   {
    "duration": 15,
    "start_time": "2022-04-17T09:26:06.995Z"
   },
   {
    "duration": 15,
    "start_time": "2022-04-17T09:26:07.012Z"
   },
   {
    "duration": 24,
    "start_time": "2022-04-17T09:26:07.030Z"
   },
   {
    "duration": 16,
    "start_time": "2022-04-17T09:26:07.082Z"
   },
   {
    "duration": 218,
    "start_time": "2022-04-17T09:26:07.100Z"
   },
   {
    "duration": 15,
    "start_time": "2022-04-17T09:26:07.321Z"
   },
   {
    "duration": 0,
    "start_time": "2022-04-17T09:26:07.338Z"
   },
   {
    "duration": 0,
    "start_time": "2022-04-17T09:26:07.342Z"
   },
   {
    "duration": 0,
    "start_time": "2022-04-17T09:26:07.344Z"
   },
   {
    "duration": 0,
    "start_time": "2022-04-17T09:26:07.345Z"
   },
   {
    "duration": 0,
    "start_time": "2022-04-17T09:26:07.346Z"
   },
   {
    "duration": 0,
    "start_time": "2022-04-17T09:26:07.347Z"
   },
   {
    "duration": 0,
    "start_time": "2022-04-17T09:26:07.349Z"
   },
   {
    "duration": 0,
    "start_time": "2022-04-17T09:26:07.350Z"
   },
   {
    "duration": 1,
    "start_time": "2022-04-17T09:26:07.351Z"
   },
   {
    "duration": 0,
    "start_time": "2022-04-17T09:26:07.382Z"
   },
   {
    "duration": 0,
    "start_time": "2022-04-17T09:26:07.383Z"
   },
   {
    "duration": 0,
    "start_time": "2022-04-17T09:26:07.385Z"
   },
   {
    "duration": 0,
    "start_time": "2022-04-17T09:26:07.386Z"
   },
   {
    "duration": 0,
    "start_time": "2022-04-17T09:26:07.388Z"
   },
   {
    "duration": 0,
    "start_time": "2022-04-17T09:26:07.390Z"
   },
   {
    "duration": 0,
    "start_time": "2022-04-17T09:26:07.392Z"
   },
   {
    "duration": 0,
    "start_time": "2022-04-17T09:26:07.394Z"
   },
   {
    "duration": 0,
    "start_time": "2022-04-17T09:26:07.396Z"
   },
   {
    "duration": 0,
    "start_time": "2022-04-17T09:26:07.398Z"
   },
   {
    "duration": 0,
    "start_time": "2022-04-17T09:26:07.401Z"
   },
   {
    "duration": 0,
    "start_time": "2022-04-17T09:26:07.402Z"
   },
   {
    "duration": 0,
    "start_time": "2022-04-17T09:26:07.404Z"
   },
   {
    "duration": 0,
    "start_time": "2022-04-17T09:26:07.406Z"
   },
   {
    "duration": 0,
    "start_time": "2022-04-17T09:26:07.407Z"
   },
   {
    "duration": 0,
    "start_time": "2022-04-17T09:26:07.409Z"
   },
   {
    "duration": 0,
    "start_time": "2022-04-17T09:26:07.411Z"
   },
   {
    "duration": 0,
    "start_time": "2022-04-17T09:26:07.413Z"
   },
   {
    "duration": 0,
    "start_time": "2022-04-17T09:26:07.414Z"
   },
   {
    "duration": 0,
    "start_time": "2022-04-17T09:26:07.417Z"
   },
   {
    "duration": 0,
    "start_time": "2022-04-17T09:26:07.482Z"
   },
   {
    "duration": 0,
    "start_time": "2022-04-17T09:26:07.485Z"
   },
   {
    "duration": 0,
    "start_time": "2022-04-17T09:26:07.487Z"
   },
   {
    "duration": 0,
    "start_time": "2022-04-17T09:26:07.488Z"
   },
   {
    "duration": 0,
    "start_time": "2022-04-17T09:26:07.490Z"
   },
   {
    "duration": 0,
    "start_time": "2022-04-17T09:26:07.493Z"
   },
   {
    "duration": 0,
    "start_time": "2022-04-17T09:26:07.495Z"
   },
   {
    "duration": 0,
    "start_time": "2022-04-17T09:26:07.497Z"
   },
   {
    "duration": 0,
    "start_time": "2022-04-17T09:26:07.499Z"
   },
   {
    "duration": 0,
    "start_time": "2022-04-17T09:26:07.501Z"
   },
   {
    "duration": 0,
    "start_time": "2022-04-17T09:26:07.503Z"
   },
   {
    "duration": 0,
    "start_time": "2022-04-17T09:26:07.505Z"
   },
   {
    "duration": 16,
    "start_time": "2022-04-17T09:26:15.473Z"
   },
   {
    "duration": 4,
    "start_time": "2022-04-17T09:36:23.994Z"
   },
   {
    "duration": 642,
    "start_time": "2022-04-17T09:36:24.002Z"
   },
   {
    "duration": 13,
    "start_time": "2022-04-17T09:36:24.647Z"
   },
   {
    "duration": 26,
    "start_time": "2022-04-17T09:36:24.662Z"
   },
   {
    "duration": 18,
    "start_time": "2022-04-17T09:36:24.692Z"
   },
   {
    "duration": 53,
    "start_time": "2022-04-17T09:36:24.712Z"
   },
   {
    "duration": 25,
    "start_time": "2022-04-17T09:36:24.768Z"
   },
   {
    "duration": 24,
    "start_time": "2022-04-17T09:36:24.796Z"
   },
   {
    "duration": 12,
    "start_time": "2022-04-17T09:36:24.822Z"
   },
   {
    "duration": 46,
    "start_time": "2022-04-17T09:36:24.837Z"
   },
   {
    "duration": 17,
    "start_time": "2022-04-17T09:36:24.887Z"
   },
   {
    "duration": 42,
    "start_time": "2022-04-17T09:36:24.907Z"
   },
   {
    "duration": 58,
    "start_time": "2022-04-17T09:36:24.952Z"
   },
   {
    "duration": 4,
    "start_time": "2022-04-17T09:36:25.012Z"
   },
   {
    "duration": 12,
    "start_time": "2022-04-17T09:36:25.019Z"
   },
   {
    "duration": 66,
    "start_time": "2022-04-17T09:36:25.033Z"
   },
   {
    "duration": 5,
    "start_time": "2022-04-17T09:36:25.101Z"
   },
   {
    "duration": 34,
    "start_time": "2022-04-17T09:36:25.109Z"
   },
   {
    "duration": 256,
    "start_time": "2022-04-17T09:36:25.145Z"
   },
   {
    "duration": 31,
    "start_time": "2022-04-17T09:36:25.403Z"
   },
   {
    "duration": 65,
    "start_time": "2022-04-17T09:36:25.436Z"
   },
   {
    "duration": 14,
    "start_time": "2022-04-17T09:36:25.504Z"
   },
   {
    "duration": 7,
    "start_time": "2022-04-17T09:36:25.521Z"
   },
   {
    "duration": 52,
    "start_time": "2022-04-17T09:36:25.530Z"
   },
   {
    "duration": 4,
    "start_time": "2022-04-17T09:36:25.584Z"
   },
   {
    "duration": 34,
    "start_time": "2022-04-17T09:36:25.590Z"
   },
   {
    "duration": 244,
    "start_time": "2022-04-17T09:36:25.627Z"
   },
   {
    "duration": 233,
    "start_time": "2022-04-17T09:36:25.874Z"
   },
   {
    "duration": 27,
    "start_time": "2022-04-17T09:36:26.114Z"
   },
   {
    "duration": 41,
    "start_time": "2022-04-17T09:36:26.143Z"
   },
   {
    "duration": 12,
    "start_time": "2022-04-17T09:36:26.187Z"
   },
   {
    "duration": 29,
    "start_time": "2022-04-17T09:36:26.201Z"
   },
   {
    "duration": 23,
    "start_time": "2022-04-17T09:36:26.233Z"
   },
   {
    "duration": 37,
    "start_time": "2022-04-17T09:36:26.258Z"
   },
   {
    "duration": 191,
    "start_time": "2022-04-17T09:36:26.297Z"
   },
   {
    "duration": 16,
    "start_time": "2022-04-17T09:36:26.491Z"
   },
   {
    "duration": 0,
    "start_time": "2022-04-17T09:36:26.510Z"
   },
   {
    "duration": 0,
    "start_time": "2022-04-17T09:36:26.513Z"
   },
   {
    "duration": 0,
    "start_time": "2022-04-17T09:36:26.515Z"
   },
   {
    "duration": 0,
    "start_time": "2022-04-17T09:36:26.517Z"
   },
   {
    "duration": 0,
    "start_time": "2022-04-17T09:36:26.521Z"
   },
   {
    "duration": 0,
    "start_time": "2022-04-17T09:36:26.523Z"
   },
   {
    "duration": 0,
    "start_time": "2022-04-17T09:36:26.525Z"
   },
   {
    "duration": 0,
    "start_time": "2022-04-17T09:36:26.526Z"
   },
   {
    "duration": 0,
    "start_time": "2022-04-17T09:36:26.529Z"
   },
   {
    "duration": 0,
    "start_time": "2022-04-17T09:36:26.530Z"
   },
   {
    "duration": 0,
    "start_time": "2022-04-17T09:36:26.532Z"
   },
   {
    "duration": 0,
    "start_time": "2022-04-17T09:36:26.582Z"
   },
   {
    "duration": 0,
    "start_time": "2022-04-17T09:36:26.584Z"
   },
   {
    "duration": 0,
    "start_time": "2022-04-17T09:36:26.586Z"
   },
   {
    "duration": 0,
    "start_time": "2022-04-17T09:36:26.587Z"
   },
   {
    "duration": 0,
    "start_time": "2022-04-17T09:36:26.590Z"
   },
   {
    "duration": 0,
    "start_time": "2022-04-17T09:36:26.592Z"
   },
   {
    "duration": 0,
    "start_time": "2022-04-17T09:36:26.594Z"
   },
   {
    "duration": 0,
    "start_time": "2022-04-17T09:36:26.596Z"
   },
   {
    "duration": 0,
    "start_time": "2022-04-17T09:36:26.598Z"
   },
   {
    "duration": 0,
    "start_time": "2022-04-17T09:36:26.600Z"
   },
   {
    "duration": 0,
    "start_time": "2022-04-17T09:36:26.602Z"
   },
   {
    "duration": 0,
    "start_time": "2022-04-17T09:36:26.604Z"
   },
   {
    "duration": 0,
    "start_time": "2022-04-17T09:36:26.606Z"
   },
   {
    "duration": 0,
    "start_time": "2022-04-17T09:36:26.608Z"
   },
   {
    "duration": 0,
    "start_time": "2022-04-17T09:36:26.610Z"
   },
   {
    "duration": 0,
    "start_time": "2022-04-17T09:36:26.612Z"
   },
   {
    "duration": 1,
    "start_time": "2022-04-17T09:36:26.613Z"
   },
   {
    "duration": 1,
    "start_time": "2022-04-17T09:36:26.615Z"
   },
   {
    "duration": 0,
    "start_time": "2022-04-17T09:36:26.617Z"
   },
   {
    "duration": 0,
    "start_time": "2022-04-17T09:36:26.619Z"
   },
   {
    "duration": 0,
    "start_time": "2022-04-17T09:36:26.621Z"
   },
   {
    "duration": 0,
    "start_time": "2022-04-17T09:36:26.683Z"
   },
   {
    "duration": 0,
    "start_time": "2022-04-17T09:36:26.685Z"
   },
   {
    "duration": 0,
    "start_time": "2022-04-17T09:36:26.687Z"
   },
   {
    "duration": 0,
    "start_time": "2022-04-17T09:36:26.689Z"
   },
   {
    "duration": 0,
    "start_time": "2022-04-17T09:36:26.691Z"
   },
   {
    "duration": 1,
    "start_time": "2022-04-17T09:36:26.692Z"
   },
   {
    "duration": 0,
    "start_time": "2022-04-17T09:36:26.695Z"
   },
   {
    "duration": 0,
    "start_time": "2022-04-17T09:36:26.696Z"
   },
   {
    "duration": 0,
    "start_time": "2022-04-17T09:36:26.698Z"
   },
   {
    "duration": 11,
    "start_time": "2022-04-17T09:41:14.293Z"
   },
   {
    "duration": 4,
    "start_time": "2022-04-17T09:42:46.436Z"
   },
   {
    "duration": 154,
    "start_time": "2022-04-17T09:42:46.443Z"
   },
   {
    "duration": 0,
    "start_time": "2022-04-17T09:42:46.600Z"
   },
   {
    "duration": 0,
    "start_time": "2022-04-17T09:42:46.602Z"
   },
   {
    "duration": 0,
    "start_time": "2022-04-17T09:42:46.603Z"
   },
   {
    "duration": 0,
    "start_time": "2022-04-17T09:42:46.605Z"
   },
   {
    "duration": 0,
    "start_time": "2022-04-17T09:42:46.606Z"
   },
   {
    "duration": 0,
    "start_time": "2022-04-17T09:42:46.608Z"
   },
   {
    "duration": 0,
    "start_time": "2022-04-17T09:42:46.609Z"
   },
   {
    "duration": 0,
    "start_time": "2022-04-17T09:42:46.611Z"
   },
   {
    "duration": 0,
    "start_time": "2022-04-17T09:42:46.613Z"
   },
   {
    "duration": 0,
    "start_time": "2022-04-17T09:42:46.614Z"
   },
   {
    "duration": 0,
    "start_time": "2022-04-17T09:42:46.615Z"
   },
   {
    "duration": 0,
    "start_time": "2022-04-17T09:42:46.617Z"
   },
   {
    "duration": 0,
    "start_time": "2022-04-17T09:42:46.618Z"
   },
   {
    "duration": 0,
    "start_time": "2022-04-17T09:42:46.620Z"
   },
   {
    "duration": 0,
    "start_time": "2022-04-17T09:42:46.622Z"
   },
   {
    "duration": 0,
    "start_time": "2022-04-17T09:42:46.623Z"
   },
   {
    "duration": 0,
    "start_time": "2022-04-17T09:42:46.624Z"
   },
   {
    "duration": 0,
    "start_time": "2022-04-17T09:42:46.626Z"
   },
   {
    "duration": 0,
    "start_time": "2022-04-17T09:42:46.627Z"
   },
   {
    "duration": 0,
    "start_time": "2022-04-17T09:42:46.629Z"
   },
   {
    "duration": 0,
    "start_time": "2022-04-17T09:42:46.630Z"
   },
   {
    "duration": 0,
    "start_time": "2022-04-17T09:42:46.631Z"
   },
   {
    "duration": 0,
    "start_time": "2022-04-17T09:42:46.633Z"
   },
   {
    "duration": 0,
    "start_time": "2022-04-17T09:42:46.634Z"
   },
   {
    "duration": 0,
    "start_time": "2022-04-17T09:42:46.636Z"
   },
   {
    "duration": 0,
    "start_time": "2022-04-17T09:42:46.638Z"
   },
   {
    "duration": 138,
    "start_time": "2022-04-17T09:42:46.683Z"
   },
   {
    "duration": 77,
    "start_time": "2022-04-17T09:42:46.823Z"
   },
   {
    "duration": 10,
    "start_time": "2022-04-17T09:42:46.902Z"
   },
   {
    "duration": 10,
    "start_time": "2022-04-17T09:42:46.914Z"
   },
   {
    "duration": 67,
    "start_time": "2022-04-17T09:42:46.927Z"
   },
   {
    "duration": 14,
    "start_time": "2022-04-17T09:42:46.996Z"
   },
   {
    "duration": 75,
    "start_time": "2022-04-17T09:42:47.012Z"
   },
   {
    "duration": 10,
    "start_time": "2022-04-17T09:42:47.089Z"
   },
   {
    "duration": 19,
    "start_time": "2022-04-17T09:42:47.101Z"
   },
   {
    "duration": 0,
    "start_time": "2022-04-17T09:42:47.124Z"
   },
   {
    "duration": 0,
    "start_time": "2022-04-17T09:42:47.126Z"
   },
   {
    "duration": 0,
    "start_time": "2022-04-17T09:42:47.127Z"
   },
   {
    "duration": 0,
    "start_time": "2022-04-17T09:42:47.129Z"
   },
   {
    "duration": 0,
    "start_time": "2022-04-17T09:42:47.130Z"
   },
   {
    "duration": 0,
    "start_time": "2022-04-17T09:42:47.131Z"
   },
   {
    "duration": 0,
    "start_time": "2022-04-17T09:42:47.132Z"
   },
   {
    "duration": 0,
    "start_time": "2022-04-17T09:42:47.133Z"
   },
   {
    "duration": 0,
    "start_time": "2022-04-17T09:42:47.135Z"
   },
   {
    "duration": 0,
    "start_time": "2022-04-17T09:42:47.136Z"
   },
   {
    "duration": 0,
    "start_time": "2022-04-17T09:42:47.137Z"
   },
   {
    "duration": 0,
    "start_time": "2022-04-17T09:42:47.138Z"
   },
   {
    "duration": 0,
    "start_time": "2022-04-17T09:42:47.139Z"
   },
   {
    "duration": 0,
    "start_time": "2022-04-17T09:42:47.140Z"
   },
   {
    "duration": 0,
    "start_time": "2022-04-17T09:42:47.182Z"
   },
   {
    "duration": 0,
    "start_time": "2022-04-17T09:42:47.184Z"
   },
   {
    "duration": 1,
    "start_time": "2022-04-17T09:42:47.185Z"
   },
   {
    "duration": 0,
    "start_time": "2022-04-17T09:42:47.187Z"
   },
   {
    "duration": 0,
    "start_time": "2022-04-17T09:42:47.188Z"
   },
   {
    "duration": 0,
    "start_time": "2022-04-17T09:42:47.190Z"
   },
   {
    "duration": 0,
    "start_time": "2022-04-17T09:42:47.191Z"
   },
   {
    "duration": 0,
    "start_time": "2022-04-17T09:42:47.193Z"
   },
   {
    "duration": 0,
    "start_time": "2022-04-17T09:42:47.194Z"
   },
   {
    "duration": 0,
    "start_time": "2022-04-17T09:42:47.196Z"
   },
   {
    "duration": 0,
    "start_time": "2022-04-17T09:42:47.199Z"
   },
   {
    "duration": 0,
    "start_time": "2022-04-17T09:42:47.200Z"
   },
   {
    "duration": 0,
    "start_time": "2022-04-17T09:42:47.201Z"
   },
   {
    "duration": 0,
    "start_time": "2022-04-17T09:42:47.203Z"
   },
   {
    "duration": 0,
    "start_time": "2022-04-17T09:42:47.204Z"
   },
   {
    "duration": 0,
    "start_time": "2022-04-17T09:42:47.206Z"
   },
   {
    "duration": 0,
    "start_time": "2022-04-17T09:42:47.207Z"
   },
   {
    "duration": 0,
    "start_time": "2022-04-17T09:42:47.209Z"
   },
   {
    "duration": 0,
    "start_time": "2022-04-17T09:42:47.210Z"
   },
   {
    "duration": 0,
    "start_time": "2022-04-17T09:42:47.211Z"
   },
   {
    "duration": 0,
    "start_time": "2022-04-17T09:42:47.213Z"
   },
   {
    "duration": 0,
    "start_time": "2022-04-17T09:42:47.214Z"
   },
   {
    "duration": 0,
    "start_time": "2022-04-17T09:42:47.216Z"
   },
   {
    "duration": 0,
    "start_time": "2022-04-17T09:42:47.217Z"
   },
   {
    "duration": 0,
    "start_time": "2022-04-17T09:42:47.219Z"
   },
   {
    "duration": 0,
    "start_time": "2022-04-17T09:42:47.282Z"
   },
   {
    "duration": 0,
    "start_time": "2022-04-17T09:42:47.284Z"
   },
   {
    "duration": 4,
    "start_time": "2022-04-17T09:44:33.301Z"
   },
   {
    "duration": 144,
    "start_time": "2022-04-17T09:44:33.307Z"
   },
   {
    "duration": 0,
    "start_time": "2022-04-17T09:44:33.454Z"
   },
   {
    "duration": 0,
    "start_time": "2022-04-17T09:44:33.456Z"
   },
   {
    "duration": 0,
    "start_time": "2022-04-17T09:44:33.458Z"
   },
   {
    "duration": 0,
    "start_time": "2022-04-17T09:44:33.460Z"
   },
   {
    "duration": 0,
    "start_time": "2022-04-17T09:44:33.462Z"
   },
   {
    "duration": 0,
    "start_time": "2022-04-17T09:44:33.464Z"
   },
   {
    "duration": 0,
    "start_time": "2022-04-17T09:44:33.465Z"
   },
   {
    "duration": 0,
    "start_time": "2022-04-17T09:44:33.467Z"
   },
   {
    "duration": 0,
    "start_time": "2022-04-17T09:44:33.469Z"
   },
   {
    "duration": 49,
    "start_time": "2022-04-17T09:44:33.472Z"
   },
   {
    "duration": 60,
    "start_time": "2022-04-17T09:44:33.523Z"
   },
   {
    "duration": 3,
    "start_time": "2022-04-17T09:44:33.586Z"
   },
   {
    "duration": 12,
    "start_time": "2022-04-17T09:44:33.591Z"
   },
   {
    "duration": 23,
    "start_time": "2022-04-17T09:44:33.605Z"
   },
   {
    "duration": 7,
    "start_time": "2022-04-17T09:44:33.630Z"
   },
   {
    "duration": 71,
    "start_time": "2022-04-17T09:44:33.640Z"
   },
   {
    "duration": 280,
    "start_time": "2022-04-17T09:44:33.714Z"
   },
   {
    "duration": 31,
    "start_time": "2022-04-17T09:44:33.996Z"
   },
   {
    "duration": 22,
    "start_time": "2022-04-17T09:44:34.029Z"
   },
   {
    "duration": 16,
    "start_time": "2022-04-17T09:44:34.081Z"
   },
   {
    "duration": 9,
    "start_time": "2022-04-17T09:44:34.099Z"
   },
   {
    "duration": 29,
    "start_time": "2022-04-17T09:44:34.110Z"
   },
   {
    "duration": 43,
    "start_time": "2022-04-17T09:44:34.142Z"
   },
   {
    "duration": 0,
    "start_time": "2022-04-17T09:44:34.190Z"
   },
   {
    "duration": 0,
    "start_time": "2022-04-17T09:44:34.192Z"
   },
   {
    "duration": 0,
    "start_time": "2022-04-17T09:44:34.194Z"
   },
   {
    "duration": 0,
    "start_time": "2022-04-17T09:44:34.196Z"
   },
   {
    "duration": 0,
    "start_time": "2022-04-17T09:44:34.198Z"
   },
   {
    "duration": 0,
    "start_time": "2022-04-17T09:44:34.201Z"
   },
   {
    "duration": 0,
    "start_time": "2022-04-17T09:44:34.203Z"
   },
   {
    "duration": 0,
    "start_time": "2022-04-17T09:44:34.205Z"
   },
   {
    "duration": 0,
    "start_time": "2022-04-17T09:44:34.207Z"
   },
   {
    "duration": 0,
    "start_time": "2022-04-17T09:44:34.209Z"
   },
   {
    "duration": 0,
    "start_time": "2022-04-17T09:44:34.211Z"
   },
   {
    "duration": 0,
    "start_time": "2022-04-17T09:44:34.213Z"
   },
   {
    "duration": 0,
    "start_time": "2022-04-17T09:44:34.215Z"
   },
   {
    "duration": 0,
    "start_time": "2022-04-17T09:44:34.217Z"
   },
   {
    "duration": 0,
    "start_time": "2022-04-17T09:44:34.219Z"
   },
   {
    "duration": 0,
    "start_time": "2022-04-17T09:44:34.221Z"
   },
   {
    "duration": 0,
    "start_time": "2022-04-17T09:44:34.223Z"
   },
   {
    "duration": 0,
    "start_time": "2022-04-17T09:44:34.225Z"
   },
   {
    "duration": 0,
    "start_time": "2022-04-17T09:44:34.281Z"
   },
   {
    "duration": 0,
    "start_time": "2022-04-17T09:44:34.284Z"
   },
   {
    "duration": 0,
    "start_time": "2022-04-17T09:44:34.286Z"
   },
   {
    "duration": 0,
    "start_time": "2022-04-17T09:44:34.288Z"
   },
   {
    "duration": 0,
    "start_time": "2022-04-17T09:44:34.290Z"
   },
   {
    "duration": 0,
    "start_time": "2022-04-17T09:44:34.292Z"
   },
   {
    "duration": 0,
    "start_time": "2022-04-17T09:44:34.293Z"
   },
   {
    "duration": 0,
    "start_time": "2022-04-17T09:44:34.294Z"
   },
   {
    "duration": 0,
    "start_time": "2022-04-17T09:44:34.296Z"
   },
   {
    "duration": 0,
    "start_time": "2022-04-17T09:44:34.297Z"
   },
   {
    "duration": 0,
    "start_time": "2022-04-17T09:44:34.298Z"
   },
   {
    "duration": 0,
    "start_time": "2022-04-17T09:44:34.300Z"
   },
   {
    "duration": 0,
    "start_time": "2022-04-17T09:44:34.301Z"
   },
   {
    "duration": 0,
    "start_time": "2022-04-17T09:44:34.302Z"
   },
   {
    "duration": 0,
    "start_time": "2022-04-17T09:44:34.303Z"
   },
   {
    "duration": 0,
    "start_time": "2022-04-17T09:44:34.305Z"
   },
   {
    "duration": 0,
    "start_time": "2022-04-17T09:44:34.306Z"
   },
   {
    "duration": 0,
    "start_time": "2022-04-17T09:44:34.308Z"
   },
   {
    "duration": 1,
    "start_time": "2022-04-17T09:44:34.310Z"
   },
   {
    "duration": 0,
    "start_time": "2022-04-17T09:44:34.312Z"
   },
   {
    "duration": 0,
    "start_time": "2022-04-17T09:44:34.314Z"
   },
   {
    "duration": 0,
    "start_time": "2022-04-17T09:44:34.316Z"
   },
   {
    "duration": 0,
    "start_time": "2022-04-17T09:44:34.318Z"
   },
   {
    "duration": 0,
    "start_time": "2022-04-17T09:44:34.382Z"
   },
   {
    "duration": 0,
    "start_time": "2022-04-17T09:44:34.384Z"
   },
   {
    "duration": 0,
    "start_time": "2022-04-17T09:44:34.387Z"
   },
   {
    "duration": 0,
    "start_time": "2022-04-17T09:44:34.388Z"
   },
   {
    "duration": 0,
    "start_time": "2022-04-17T09:44:34.390Z"
   },
   {
    "duration": 0,
    "start_time": "2022-04-17T09:44:34.392Z"
   },
   {
    "duration": 0,
    "start_time": "2022-04-17T09:44:34.394Z"
   },
   {
    "duration": 0,
    "start_time": "2022-04-17T09:44:34.397Z"
   },
   {
    "duration": 0,
    "start_time": "2022-04-17T09:44:34.398Z"
   },
   {
    "duration": 0,
    "start_time": "2022-04-17T09:44:34.400Z"
   },
   {
    "duration": 0,
    "start_time": "2022-04-17T09:44:34.403Z"
   },
   {
    "duration": 0,
    "start_time": "2022-04-17T09:44:34.405Z"
   },
   {
    "duration": 467,
    "start_time": "2022-04-17T09:45:14.257Z"
   },
   {
    "duration": 4,
    "start_time": "2022-04-17T09:45:16.190Z"
   },
   {
    "duration": 600,
    "start_time": "2022-04-17T09:45:16.197Z"
   },
   {
    "duration": 14,
    "start_time": "2022-04-17T09:45:16.800Z"
   },
   {
    "duration": 39,
    "start_time": "2022-04-17T09:45:16.816Z"
   },
   {
    "duration": 22,
    "start_time": "2022-04-17T09:45:16.858Z"
   },
   {
    "duration": 29,
    "start_time": "2022-04-17T09:45:16.883Z"
   },
   {
    "duration": 12,
    "start_time": "2022-04-17T09:45:16.914Z"
   },
   {
    "duration": 57,
    "start_time": "2022-04-17T09:45:16.928Z"
   },
   {
    "duration": 13,
    "start_time": "2022-04-17T09:45:16.987Z"
   },
   {
    "duration": 22,
    "start_time": "2022-04-17T09:45:17.002Z"
   },
   {
    "duration": 16,
    "start_time": "2022-04-17T09:45:17.029Z"
   },
   {
    "duration": 69,
    "start_time": "2022-04-17T09:45:17.047Z"
   },
   {
    "duration": 15,
    "start_time": "2022-04-17T09:45:17.118Z"
   },
   {
    "duration": 5,
    "start_time": "2022-04-17T09:45:17.136Z"
   },
   {
    "duration": 39,
    "start_time": "2022-04-17T09:45:17.144Z"
   },
   {
    "duration": 49,
    "start_time": "2022-04-17T09:45:17.186Z"
   },
   {
    "duration": 6,
    "start_time": "2022-04-17T09:45:17.238Z"
   },
   {
    "duration": 55,
    "start_time": "2022-04-17T09:45:17.246Z"
   },
   {
    "duration": 245,
    "start_time": "2022-04-17T09:45:17.304Z"
   },
   {
    "duration": 53,
    "start_time": "2022-04-17T09:45:17.551Z"
   },
   {
    "duration": 34,
    "start_time": "2022-04-17T09:45:17.607Z"
   },
   {
    "duration": 37,
    "start_time": "2022-04-17T09:45:17.644Z"
   },
   {
    "duration": 5,
    "start_time": "2022-04-17T09:45:17.684Z"
   },
   {
    "duration": 29,
    "start_time": "2022-04-17T09:45:17.691Z"
   },
   {
    "duration": 15,
    "start_time": "2022-04-17T09:45:17.722Z"
   },
   {
    "duration": 48,
    "start_time": "2022-04-17T09:45:17.739Z"
   },
   {
    "duration": 265,
    "start_time": "2022-04-17T09:45:17.789Z"
   },
   {
    "duration": 312,
    "start_time": "2022-04-17T09:45:18.056Z"
   },
   {
    "duration": 29,
    "start_time": "2022-04-17T09:45:18.386Z"
   },
   {
    "duration": 22,
    "start_time": "2022-04-17T09:45:18.417Z"
   },
   {
    "duration": 14,
    "start_time": "2022-04-17T09:45:18.441Z"
   },
   {
    "duration": 13,
    "start_time": "2022-04-17T09:45:18.481Z"
   },
   {
    "duration": 26,
    "start_time": "2022-04-17T09:45:18.496Z"
   },
   {
    "duration": 22,
    "start_time": "2022-04-17T09:45:18.525Z"
   },
   {
    "duration": 86,
    "start_time": "2022-04-17T09:45:18.549Z"
   },
   {
    "duration": 12,
    "start_time": "2022-04-17T09:45:18.637Z"
   },
   {
    "duration": 64,
    "start_time": "2022-04-17T09:45:18.651Z"
   },
   {
    "duration": 15,
    "start_time": "2022-04-17T09:45:18.718Z"
   },
   {
    "duration": 49,
    "start_time": "2022-04-17T09:45:18.735Z"
   },
   {
    "duration": 13,
    "start_time": "2022-04-17T09:45:18.787Z"
   },
   {
    "duration": 17,
    "start_time": "2022-04-17T09:45:18.802Z"
   },
   {
    "duration": 12,
    "start_time": "2022-04-17T09:45:18.821Z"
   },
   {
    "duration": 46,
    "start_time": "2022-04-17T09:45:18.835Z"
   },
   {
    "duration": 10,
    "start_time": "2022-04-17T09:45:18.883Z"
   },
   {
    "duration": 12,
    "start_time": "2022-04-17T09:45:18.896Z"
   },
   {
    "duration": 10,
    "start_time": "2022-04-17T09:45:18.910Z"
   },
   {
    "duration": 75,
    "start_time": "2022-04-17T09:45:18.922Z"
   },
   {
    "duration": 14,
    "start_time": "2022-04-17T09:45:19.000Z"
   },
   {
    "duration": 26,
    "start_time": "2022-04-17T09:45:19.017Z"
   },
   {
    "duration": 46,
    "start_time": "2022-04-17T09:45:19.045Z"
   },
   {
    "duration": 10,
    "start_time": "2022-04-17T09:45:19.093Z"
   },
   {
    "duration": 40,
    "start_time": "2022-04-17T09:45:19.105Z"
   },
   {
    "duration": 2338,
    "start_time": "2022-04-17T09:45:19.148Z"
   },
   {
    "duration": 0,
    "start_time": "2022-04-17T09:45:21.488Z"
   },
   {
    "duration": 0,
    "start_time": "2022-04-17T09:45:21.490Z"
   },
   {
    "duration": 0,
    "start_time": "2022-04-17T09:45:21.491Z"
   },
   {
    "duration": 0,
    "start_time": "2022-04-17T09:45:21.492Z"
   },
   {
    "duration": 0,
    "start_time": "2022-04-17T09:45:21.494Z"
   },
   {
    "duration": 0,
    "start_time": "2022-04-17T09:45:21.496Z"
   },
   {
    "duration": 0,
    "start_time": "2022-04-17T09:45:21.499Z"
   },
   {
    "duration": 0,
    "start_time": "2022-04-17T09:45:21.501Z"
   },
   {
    "duration": 0,
    "start_time": "2022-04-17T09:45:21.503Z"
   },
   {
    "duration": 1,
    "start_time": "2022-04-17T09:45:21.505Z"
   },
   {
    "duration": 0,
    "start_time": "2022-04-17T09:45:21.508Z"
   },
   {
    "duration": 0,
    "start_time": "2022-04-17T09:45:21.509Z"
   },
   {
    "duration": 0,
    "start_time": "2022-04-17T09:45:21.511Z"
   },
   {
    "duration": 0,
    "start_time": "2022-04-17T09:45:21.513Z"
   },
   {
    "duration": 0,
    "start_time": "2022-04-17T09:45:21.515Z"
   },
   {
    "duration": 0,
    "start_time": "2022-04-17T09:45:21.516Z"
   },
   {
    "duration": 0,
    "start_time": "2022-04-17T09:45:21.518Z"
   },
   {
    "duration": 0,
    "start_time": "2022-04-17T09:45:21.520Z"
   },
   {
    "duration": 0,
    "start_time": "2022-04-17T09:45:21.522Z"
   },
   {
    "duration": 0,
    "start_time": "2022-04-17T09:45:21.524Z"
   },
   {
    "duration": 0,
    "start_time": "2022-04-17T09:45:21.583Z"
   },
   {
    "duration": 0,
    "start_time": "2022-04-17T09:45:21.585Z"
   },
   {
    "duration": 0,
    "start_time": "2022-04-17T09:45:21.587Z"
   },
   {
    "duration": 0,
    "start_time": "2022-04-17T09:45:21.589Z"
   },
   {
    "duration": 0,
    "start_time": "2022-04-17T09:45:21.592Z"
   },
   {
    "duration": 14,
    "start_time": "2022-04-17T09:52:40.936Z"
   },
   {
    "duration": 5,
    "start_time": "2022-04-17T10:30:02.960Z"
   },
   {
    "duration": 14,
    "start_time": "2022-04-17T10:30:08.586Z"
   },
   {
    "duration": 37,
    "start_time": "2022-04-17T10:31:28.196Z"
   },
   {
    "duration": 11,
    "start_time": "2022-04-17T10:34:54.423Z"
   },
   {
    "duration": 4,
    "start_time": "2022-04-17T10:35:04.646Z"
   },
   {
    "duration": 771,
    "start_time": "2022-04-17T10:35:04.654Z"
   },
   {
    "duration": 14,
    "start_time": "2022-04-17T10:35:05.429Z"
   },
   {
    "duration": 63,
    "start_time": "2022-04-17T10:35:05.446Z"
   },
   {
    "duration": 18,
    "start_time": "2022-04-17T10:35:05.514Z"
   },
   {
    "duration": 77,
    "start_time": "2022-04-17T10:35:05.536Z"
   },
   {
    "duration": 14,
    "start_time": "2022-04-17T10:35:05.616Z"
   },
   {
    "duration": 60,
    "start_time": "2022-04-17T10:35:05.633Z"
   },
   {
    "duration": 17,
    "start_time": "2022-04-17T10:35:05.696Z"
   },
   {
    "duration": 25,
    "start_time": "2022-04-17T10:35:05.716Z"
   },
   {
    "duration": 46,
    "start_time": "2022-04-17T10:35:05.749Z"
   },
   {
    "duration": 40,
    "start_time": "2022-04-17T10:35:05.797Z"
   },
   {
    "duration": 43,
    "start_time": "2022-04-17T10:35:05.839Z"
   },
   {
    "duration": 5,
    "start_time": "2022-04-17T10:35:05.884Z"
   },
   {
    "duration": 11,
    "start_time": "2022-04-17T10:35:05.892Z"
   },
   {
    "duration": 83,
    "start_time": "2022-04-17T10:35:05.906Z"
   },
   {
    "duration": 10,
    "start_time": "2022-04-17T10:35:05.992Z"
   },
   {
    "duration": 41,
    "start_time": "2022-04-17T10:35:06.005Z"
   },
   {
    "duration": 436,
    "start_time": "2022-04-17T10:35:06.049Z"
   },
   {
    "duration": 61,
    "start_time": "2022-04-17T10:35:06.487Z"
   },
   {
    "duration": 60,
    "start_time": "2022-04-17T10:35:06.550Z"
   },
   {
    "duration": 18,
    "start_time": "2022-04-17T10:35:06.613Z"
   },
   {
    "duration": 9,
    "start_time": "2022-04-17T10:35:06.635Z"
   },
   {
    "duration": 61,
    "start_time": "2022-04-17T10:35:06.647Z"
   },
   {
    "duration": 17,
    "start_time": "2022-04-17T10:35:06.711Z"
   },
   {
    "duration": 19,
    "start_time": "2022-04-17T10:35:06.731Z"
   },
   {
    "duration": 347,
    "start_time": "2022-04-17T10:35:06.753Z"
   },
   {
    "duration": 415,
    "start_time": "2022-04-17T10:35:07.103Z"
   },
   {
    "duration": 41,
    "start_time": "2022-04-17T10:35:07.526Z"
   },
   {
    "duration": 34,
    "start_time": "2022-04-17T10:35:07.569Z"
   },
   {
    "duration": 15,
    "start_time": "2022-04-17T10:35:07.605Z"
   },
   {
    "duration": 17,
    "start_time": "2022-04-17T10:35:07.622Z"
   },
   {
    "duration": 54,
    "start_time": "2022-04-17T10:35:07.642Z"
   },
   {
    "duration": 20,
    "start_time": "2022-04-17T10:35:07.699Z"
   },
   {
    "duration": 83,
    "start_time": "2022-04-17T10:35:07.721Z"
   },
   {
    "duration": 13,
    "start_time": "2022-04-17T10:35:07.807Z"
   },
   {
    "duration": 86,
    "start_time": "2022-04-17T10:35:07.823Z"
   },
   {
    "duration": 17,
    "start_time": "2022-04-17T10:35:07.911Z"
   },
   {
    "duration": 51,
    "start_time": "2022-04-17T10:35:07.931Z"
   },
   {
    "duration": 16,
    "start_time": "2022-04-17T10:35:07.985Z"
   },
   {
    "duration": 17,
    "start_time": "2022-04-17T10:35:08.003Z"
   },
   {
    "duration": 17,
    "start_time": "2022-04-17T10:35:08.023Z"
   },
   {
    "duration": 52,
    "start_time": "2022-04-17T10:35:08.043Z"
   },
   {
    "duration": 10,
    "start_time": "2022-04-17T10:35:08.098Z"
   },
   {
    "duration": 15,
    "start_time": "2022-04-17T10:35:08.111Z"
   },
   {
    "duration": 11,
    "start_time": "2022-04-17T10:35:08.129Z"
   },
   {
    "duration": 58,
    "start_time": "2022-04-17T10:35:08.142Z"
   },
   {
    "duration": 6,
    "start_time": "2022-04-17T10:35:08.202Z"
   },
   {
    "duration": 19,
    "start_time": "2022-04-17T10:35:08.210Z"
   },
   {
    "duration": 18,
    "start_time": "2022-04-17T10:35:08.231Z"
   },
   {
    "duration": 37,
    "start_time": "2022-04-17T10:35:08.251Z"
   },
   {
    "duration": 0,
    "start_time": "2022-04-17T10:35:08.291Z"
   },
   {
    "duration": 0,
    "start_time": "2022-04-17T10:35:08.293Z"
   },
   {
    "duration": 0,
    "start_time": "2022-04-17T10:35:08.295Z"
   },
   {
    "duration": 0,
    "start_time": "2022-04-17T10:35:08.297Z"
   },
   {
    "duration": 0,
    "start_time": "2022-04-17T10:35:08.299Z"
   },
   {
    "duration": 0,
    "start_time": "2022-04-17T10:35:08.301Z"
   },
   {
    "duration": 0,
    "start_time": "2022-04-17T10:35:08.303Z"
   },
   {
    "duration": 0,
    "start_time": "2022-04-17T10:35:08.305Z"
   },
   {
    "duration": 0,
    "start_time": "2022-04-17T10:35:08.307Z"
   },
   {
    "duration": 0,
    "start_time": "2022-04-17T10:35:08.309Z"
   },
   {
    "duration": 0,
    "start_time": "2022-04-17T10:35:08.312Z"
   },
   {
    "duration": 0,
    "start_time": "2022-04-17T10:35:08.314Z"
   },
   {
    "duration": 0,
    "start_time": "2022-04-17T10:35:08.316Z"
   },
   {
    "duration": 0,
    "start_time": "2022-04-17T10:35:08.317Z"
   },
   {
    "duration": 0,
    "start_time": "2022-04-17T10:35:08.319Z"
   },
   {
    "duration": 0,
    "start_time": "2022-04-17T10:35:08.321Z"
   },
   {
    "duration": 0,
    "start_time": "2022-04-17T10:35:08.322Z"
   },
   {
    "duration": 0,
    "start_time": "2022-04-17T10:35:08.324Z"
   },
   {
    "duration": 0,
    "start_time": "2022-04-17T10:35:08.325Z"
   },
   {
    "duration": 0,
    "start_time": "2022-04-17T10:35:08.382Z"
   },
   {
    "duration": 0,
    "start_time": "2022-04-17T10:35:08.384Z"
   },
   {
    "duration": 0,
    "start_time": "2022-04-17T10:35:08.386Z"
   },
   {
    "duration": 0,
    "start_time": "2022-04-17T10:35:08.388Z"
   },
   {
    "duration": 0,
    "start_time": "2022-04-17T10:35:08.389Z"
   },
   {
    "duration": 0,
    "start_time": "2022-04-17T10:35:08.390Z"
   },
   {
    "duration": 0,
    "start_time": "2022-04-17T10:35:08.392Z"
   },
   {
    "duration": 25,
    "start_time": "2022-04-17T10:35:40.273Z"
   },
   {
    "duration": 20,
    "start_time": "2022-04-17T10:36:00.133Z"
   },
   {
    "duration": 11,
    "start_time": "2022-04-17T10:36:21.113Z"
   },
   {
    "duration": 48,
    "start_time": "2022-04-17T10:36:27.472Z"
   },
   {
    "duration": 10,
    "start_time": "2022-04-17T10:37:12.580Z"
   },
   {
    "duration": 44,
    "start_time": "2022-04-17T10:38:35.236Z"
   },
   {
    "duration": 48,
    "start_time": "2022-04-17T10:41:30.596Z"
   },
   {
    "duration": 18,
    "start_time": "2022-04-17T10:42:33.431Z"
   },
   {
    "duration": 221,
    "start_time": "2022-04-17T10:45:29.440Z"
   },
   {
    "duration": 15,
    "start_time": "2022-04-17T10:46:27.828Z"
   },
   {
    "duration": 4,
    "start_time": "2022-04-17T10:48:03.683Z"
   },
   {
    "duration": 524,
    "start_time": "2022-04-17T10:48:03.690Z"
   },
   {
    "duration": 14,
    "start_time": "2022-04-17T10:48:04.217Z"
   },
   {
    "duration": 46,
    "start_time": "2022-04-17T10:48:04.233Z"
   },
   {
    "duration": 13,
    "start_time": "2022-04-17T10:48:04.282Z"
   },
   {
    "duration": 34,
    "start_time": "2022-04-17T10:48:04.298Z"
   },
   {
    "duration": 14,
    "start_time": "2022-04-17T10:48:04.334Z"
   },
   {
    "duration": 51,
    "start_time": "2022-04-17T10:48:04.351Z"
   },
   {
    "duration": 12,
    "start_time": "2022-04-17T10:48:04.405Z"
   },
   {
    "duration": 18,
    "start_time": "2022-04-17T10:48:04.419Z"
   },
   {
    "duration": 42,
    "start_time": "2022-04-17T10:48:04.441Z"
   },
   {
    "duration": 41,
    "start_time": "2022-04-17T10:48:04.485Z"
   },
   {
    "duration": 14,
    "start_time": "2022-04-17T10:48:04.529Z"
   },
   {
    "duration": 4,
    "start_time": "2022-04-17T10:48:04.545Z"
   },
   {
    "duration": 5,
    "start_time": "2022-04-17T10:48:04.581Z"
   },
   {
    "duration": 62,
    "start_time": "2022-04-17T10:48:04.588Z"
   },
   {
    "duration": 6,
    "start_time": "2022-04-17T10:48:04.652Z"
   },
   {
    "duration": 47,
    "start_time": "2022-04-17T10:48:04.660Z"
   },
   {
    "duration": 242,
    "start_time": "2022-04-17T10:48:04.710Z"
   },
   {
    "duration": 53,
    "start_time": "2022-04-17T10:48:04.954Z"
   },
   {
    "duration": 35,
    "start_time": "2022-04-17T10:48:05.009Z"
   },
   {
    "duration": 35,
    "start_time": "2022-04-17T10:48:05.046Z"
   },
   {
    "duration": 5,
    "start_time": "2022-04-17T10:48:05.084Z"
   },
   {
    "duration": 31,
    "start_time": "2022-04-17T10:48:05.092Z"
   },
   {
    "duration": 13,
    "start_time": "2022-04-17T10:48:05.125Z"
   },
   {
    "duration": 43,
    "start_time": "2022-04-17T10:48:05.140Z"
   },
   {
    "duration": 334,
    "start_time": "2022-04-17T10:48:05.186Z"
   },
   {
    "duration": 319,
    "start_time": "2022-04-17T10:48:05.522Z"
   },
   {
    "duration": 50,
    "start_time": "2022-04-17T10:48:05.849Z"
   },
   {
    "duration": 26,
    "start_time": "2022-04-17T10:48:05.902Z"
   },
   {
    "duration": 15,
    "start_time": "2022-04-17T10:48:05.930Z"
   },
   {
    "duration": 43,
    "start_time": "2022-04-17T10:48:05.947Z"
   },
   {
    "duration": 29,
    "start_time": "2022-04-17T10:48:05.993Z"
   },
   {
    "duration": 18,
    "start_time": "2022-04-17T10:48:06.025Z"
   },
   {
    "duration": 78,
    "start_time": "2022-04-17T10:48:06.045Z"
   },
   {
    "duration": 11,
    "start_time": "2022-04-17T10:48:06.125Z"
   },
   {
    "duration": 59,
    "start_time": "2022-04-17T10:48:06.139Z"
   },
   {
    "duration": 15,
    "start_time": "2022-04-17T10:48:06.200Z"
   },
   {
    "duration": 29,
    "start_time": "2022-04-17T10:48:06.217Z"
   },
   {
    "duration": 37,
    "start_time": "2022-04-17T10:48:06.249Z"
   },
   {
    "duration": 16,
    "start_time": "2022-04-17T10:48:06.289Z"
   },
   {
    "duration": 12,
    "start_time": "2022-04-17T10:48:06.307Z"
   },
   {
    "duration": 16,
    "start_time": "2022-04-17T10:48:06.321Z"
   },
   {
    "duration": 45,
    "start_time": "2022-04-17T10:48:06.339Z"
   },
   {
    "duration": 13,
    "start_time": "2022-04-17T10:48:06.386Z"
   },
   {
    "duration": 9,
    "start_time": "2022-04-17T10:48:06.401Z"
   },
   {
    "duration": 13,
    "start_time": "2022-04-17T10:48:06.413Z"
   },
   {
    "duration": 54,
    "start_time": "2022-04-17T10:48:06.428Z"
   },
   {
    "duration": 9,
    "start_time": "2022-04-17T10:48:06.484Z"
   },
   {
    "duration": 20,
    "start_time": "2022-04-17T10:48:06.496Z"
   },
   {
    "duration": 240,
    "start_time": "2022-04-17T10:48:06.519Z"
   },
   {
    "duration": 21,
    "start_time": "2022-04-17T10:48:06.762Z"
   },
   {
    "duration": 35,
    "start_time": "2022-04-17T10:48:06.785Z"
   },
   {
    "duration": 108,
    "start_time": "2022-04-17T10:48:06.822Z"
   },
   {
    "duration": 59,
    "start_time": "2022-04-17T10:48:06.932Z"
   },
   {
    "duration": 91,
    "start_time": "2022-04-17T10:48:06.994Z"
   },
   {
    "duration": 368,
    "start_time": "2022-04-17T10:48:07.087Z"
   },
   {
    "duration": 376,
    "start_time": "2022-04-17T10:48:07.458Z"
   },
   {
    "duration": 451,
    "start_time": "2022-04-17T10:48:07.837Z"
   },
   {
    "duration": 25,
    "start_time": "2022-04-17T10:48:08.291Z"
   },
   {
    "duration": 90,
    "start_time": "2022-04-17T10:48:08.318Z"
   },
   {
    "duration": 8,
    "start_time": "2022-04-17T10:48:08.410Z"
   },
   {
    "duration": 120,
    "start_time": "2022-04-17T10:48:08.421Z"
   },
   {
    "duration": 380,
    "start_time": "2022-04-17T10:48:08.543Z"
   },
   {
    "duration": 348,
    "start_time": "2022-04-17T10:48:08.925Z"
   },
   {
    "duration": 484,
    "start_time": "2022-04-17T10:48:09.275Z"
   },
   {
    "duration": 572,
    "start_time": "2022-04-17T10:48:09.761Z"
   },
   {
    "duration": 549,
    "start_time": "2022-04-17T10:48:10.335Z"
   },
   {
    "duration": 575,
    "start_time": "2022-04-17T10:48:10.886Z"
   },
   {
    "duration": 24,
    "start_time": "2022-04-17T10:48:11.464Z"
   },
   {
    "duration": 14,
    "start_time": "2022-04-17T10:48:11.490Z"
   },
   {
    "duration": 29,
    "start_time": "2022-04-17T10:48:11.506Z"
   },
   {
    "duration": 99,
    "start_time": "2022-04-17T10:48:11.537Z"
   },
   {
    "duration": 516,
    "start_time": "2022-04-17T10:48:11.638Z"
   },
   {
    "duration": 4,
    "start_time": "2022-04-17T10:48:12.156Z"
   },
   {
    "duration": 26,
    "start_time": "2022-04-17T10:48:12.163Z"
   },
   {
    "duration": 10,
    "start_time": "2022-04-17T10:56:47.145Z"
   },
   {
    "duration": 592,
    "start_time": "2022-04-17T10:56:47.159Z"
   },
   {
    "duration": 15,
    "start_time": "2022-04-17T10:56:47.754Z"
   },
   {
    "duration": 38,
    "start_time": "2022-04-17T10:56:47.772Z"
   },
   {
    "duration": 14,
    "start_time": "2022-04-17T10:56:47.813Z"
   },
   {
    "duration": 58,
    "start_time": "2022-04-17T10:56:47.830Z"
   },
   {
    "duration": 15,
    "start_time": "2022-04-17T10:56:47.890Z"
   },
   {
    "duration": 38,
    "start_time": "2022-04-17T10:56:47.908Z"
   },
   {
    "duration": 47,
    "start_time": "2022-04-17T10:56:47.950Z"
   },
   {
    "duration": 20,
    "start_time": "2022-04-17T10:56:48.001Z"
   },
   {
    "duration": 20,
    "start_time": "2022-04-17T10:56:48.023Z"
   },
   {
    "duration": 73,
    "start_time": "2022-04-17T10:56:48.046Z"
   },
   {
    "duration": 16,
    "start_time": "2022-04-17T10:56:48.122Z"
   },
   {
    "duration": 4,
    "start_time": "2022-04-17T10:56:48.141Z"
   },
   {
    "duration": 34,
    "start_time": "2022-04-17T10:56:48.148Z"
   },
   {
    "duration": 48,
    "start_time": "2022-04-17T10:56:48.186Z"
   },
   {
    "duration": 6,
    "start_time": "2022-04-17T10:56:48.236Z"
   },
   {
    "duration": 68,
    "start_time": "2022-04-17T10:56:48.246Z"
   },
   {
    "duration": 256,
    "start_time": "2022-04-17T10:56:48.317Z"
   },
   {
    "duration": 72,
    "start_time": "2022-04-17T10:56:48.580Z"
   },
   {
    "duration": 73,
    "start_time": "2022-04-17T10:56:48.655Z"
   },
   {
    "duration": 16,
    "start_time": "2022-04-17T10:56:48.731Z"
   },
   {
    "duration": 34,
    "start_time": "2022-04-17T10:56:48.750Z"
   },
   {
    "duration": 25,
    "start_time": "2022-04-17T10:56:48.787Z"
   },
   {
    "duration": 3,
    "start_time": "2022-04-17T10:56:48.815Z"
   },
   {
    "duration": 17,
    "start_time": "2022-04-17T10:56:48.821Z"
   },
   {
    "duration": 366,
    "start_time": "2022-04-17T10:56:48.841Z"
   },
   {
    "duration": 316,
    "start_time": "2022-04-17T10:56:49.215Z"
   },
   {
    "duration": 54,
    "start_time": "2022-04-17T10:56:49.534Z"
   },
   {
    "duration": 26,
    "start_time": "2022-04-17T10:56:49.590Z"
   },
   {
    "duration": 14,
    "start_time": "2022-04-17T10:56:49.619Z"
   },
   {
    "duration": 48,
    "start_time": "2022-04-17T10:56:49.635Z"
   },
   {
    "duration": 18,
    "start_time": "2022-04-17T10:56:49.686Z"
   },
   {
    "duration": 18,
    "start_time": "2022-04-17T10:56:49.707Z"
   },
   {
    "duration": 212,
    "start_time": "2022-04-17T10:56:49.728Z"
   },
   {
    "duration": 11,
    "start_time": "2022-04-17T10:56:49.942Z"
   },
   {
    "duration": 61,
    "start_time": "2022-04-17T10:56:49.956Z"
   },
   {
    "duration": 20,
    "start_time": "2022-04-17T10:56:50.020Z"
   },
   {
    "duration": 66,
    "start_time": "2022-04-17T10:56:50.042Z"
   },
   {
    "duration": 18,
    "start_time": "2022-04-17T10:56:50.111Z"
   },
   {
    "duration": 54,
    "start_time": "2022-04-17T10:56:50.132Z"
   },
   {
    "duration": 14,
    "start_time": "2022-04-17T10:56:50.190Z"
   },
   {
    "duration": 14,
    "start_time": "2022-04-17T10:56:50.208Z"
   },
   {
    "duration": 11,
    "start_time": "2022-04-17T10:56:50.225Z"
   },
   {
    "duration": 54,
    "start_time": "2022-04-17T10:56:50.239Z"
   },
   {
    "duration": 11,
    "start_time": "2022-04-17T10:56:50.297Z"
   },
   {
    "duration": 20,
    "start_time": "2022-04-17T10:56:50.311Z"
   },
   {
    "duration": 55,
    "start_time": "2022-04-17T10:56:50.334Z"
   },
   {
    "duration": 12,
    "start_time": "2022-04-17T10:56:50.391Z"
   },
   {
    "duration": 27,
    "start_time": "2022-04-17T10:56:50.406Z"
   },
   {
    "duration": 449,
    "start_time": "2022-04-17T10:56:50.436Z"
   },
   {
    "duration": 23,
    "start_time": "2022-04-17T10:56:50.888Z"
   },
   {
    "duration": 81,
    "start_time": "2022-04-17T10:56:50.915Z"
   },
   {
    "duration": 131,
    "start_time": "2022-04-17T10:56:50.999Z"
   },
   {
    "duration": 89,
    "start_time": "2022-04-17T10:56:51.134Z"
   },
   {
    "duration": 126,
    "start_time": "2022-04-17T10:56:51.225Z"
   },
   {
    "duration": 329,
    "start_time": "2022-04-17T10:56:51.354Z"
   },
   {
    "duration": 440,
    "start_time": "2022-04-17T10:56:51.686Z"
   },
   {
    "duration": 427,
    "start_time": "2022-04-17T10:56:52.129Z"
   },
   {
    "duration": 37,
    "start_time": "2022-04-17T10:56:52.559Z"
   },
   {
    "duration": 48,
    "start_time": "2022-04-17T10:56:52.598Z"
   },
   {
    "duration": 39,
    "start_time": "2022-04-17T10:56:52.648Z"
   },
   {
    "duration": 76,
    "start_time": "2022-04-17T10:56:52.689Z"
   },
   {
    "duration": 303,
    "start_time": "2022-04-17T10:56:52.767Z"
   },
   {
    "duration": 285,
    "start_time": "2022-04-17T10:56:53.072Z"
   },
   {
    "duration": 430,
    "start_time": "2022-04-17T10:56:53.359Z"
   },
   {
    "duration": 903,
    "start_time": "2022-04-17T10:56:53.792Z"
   },
   {
    "duration": 871,
    "start_time": "2022-04-17T10:56:54.698Z"
   },
   {
    "duration": 1124,
    "start_time": "2022-04-17T10:56:55.572Z"
   },
   {
    "duration": 29,
    "start_time": "2022-04-17T10:56:56.699Z"
   },
   {
    "duration": 4,
    "start_time": "2022-04-17T10:56:56.732Z"
   },
   {
    "duration": 20,
    "start_time": "2022-04-17T10:56:56.739Z"
   },
   {
    "duration": 75,
    "start_time": "2022-04-17T10:56:56.763Z"
   },
   {
    "duration": 680,
    "start_time": "2022-04-17T10:56:56.841Z"
   },
   {
    "duration": 59,
    "start_time": "2022-04-17T10:56:57.523Z"
   },
   {
    "duration": 12,
    "start_time": "2022-04-17T10:56:57.585Z"
   },
   {
    "duration": 41,
    "start_time": "2022-04-17T11:05:09.613Z"
   },
   {
    "duration": 6,
    "start_time": "2022-04-17T11:05:11.814Z"
   },
   {
    "duration": 568,
    "start_time": "2022-04-17T11:05:11.823Z"
   },
   {
    "duration": 16,
    "start_time": "2022-04-17T11:05:12.393Z"
   },
   {
    "duration": 36,
    "start_time": "2022-04-17T11:05:12.411Z"
   },
   {
    "duration": 33,
    "start_time": "2022-04-17T11:05:12.451Z"
   },
   {
    "duration": 31,
    "start_time": "2022-04-17T11:05:12.487Z"
   },
   {
    "duration": 12,
    "start_time": "2022-04-17T11:05:12.520Z"
   },
   {
    "duration": 61,
    "start_time": "2022-04-17T11:05:12.534Z"
   },
   {
    "duration": 12,
    "start_time": "2022-04-17T11:05:12.598Z"
   },
   {
    "duration": 16,
    "start_time": "2022-04-17T11:05:12.612Z"
   },
   {
    "duration": 51,
    "start_time": "2022-04-17T11:05:12.633Z"
   },
   {
    "duration": 44,
    "start_time": "2022-04-17T11:05:12.686Z"
   },
   {
    "duration": 14,
    "start_time": "2022-04-17T11:05:12.732Z"
   },
   {
    "duration": 37,
    "start_time": "2022-04-17T11:05:12.749Z"
   },
   {
    "duration": 9,
    "start_time": "2022-04-17T11:05:12.788Z"
   },
   {
    "duration": 48,
    "start_time": "2022-04-17T11:05:12.799Z"
   },
   {
    "duration": 6,
    "start_time": "2022-04-17T11:05:12.850Z"
   },
   {
    "duration": 50,
    "start_time": "2022-04-17T11:05:12.858Z"
   },
   {
    "duration": 238,
    "start_time": "2022-04-17T11:05:12.910Z"
   },
   {
    "duration": 53,
    "start_time": "2022-04-17T11:05:13.150Z"
   },
   {
    "duration": 35,
    "start_time": "2022-04-17T11:05:13.206Z"
   },
   {
    "duration": 38,
    "start_time": "2022-04-17T11:05:13.244Z"
   },
   {
    "duration": 5,
    "start_time": "2022-04-17T11:05:13.285Z"
   },
   {
    "duration": 29,
    "start_time": "2022-04-17T11:05:13.293Z"
   },
   {
    "duration": 3,
    "start_time": "2022-04-17T11:05:13.325Z"
   },
   {
    "duration": 51,
    "start_time": "2022-04-17T11:05:13.330Z"
   },
   {
    "duration": 253,
    "start_time": "2022-04-17T11:05:13.383Z"
   },
   {
    "duration": 246,
    "start_time": "2022-04-17T11:05:13.638Z"
   },
   {
    "duration": 28,
    "start_time": "2022-04-17T11:05:13.890Z"
   },
   {
    "duration": 20,
    "start_time": "2022-04-17T11:05:13.920Z"
   },
   {
    "duration": 12,
    "start_time": "2022-04-17T11:05:13.943Z"
   },
   {
    "duration": 11,
    "start_time": "2022-04-17T11:05:13.983Z"
   },
   {
    "duration": 22,
    "start_time": "2022-04-17T11:05:13.997Z"
   },
   {
    "duration": 19,
    "start_time": "2022-04-17T11:05:14.022Z"
   },
   {
    "duration": 93,
    "start_time": "2022-04-17T11:05:14.044Z"
   },
   {
    "duration": 12,
    "start_time": "2022-04-17T11:05:14.139Z"
   },
   {
    "duration": 78,
    "start_time": "2022-04-17T11:05:14.154Z"
   },
   {
    "duration": 16,
    "start_time": "2022-04-17T11:05:14.235Z"
   },
   {
    "duration": 54,
    "start_time": "2022-04-17T11:05:14.253Z"
   },
   {
    "duration": 15,
    "start_time": "2022-04-17T11:05:14.309Z"
   },
   {
    "duration": 17,
    "start_time": "2022-04-17T11:05:14.327Z"
   },
   {
    "duration": 53,
    "start_time": "2022-04-17T11:05:14.346Z"
   },
   {
    "duration": 0,
    "start_time": "2022-04-17T11:05:14.401Z"
   },
   {
    "duration": 0,
    "start_time": "2022-04-17T11:05:14.403Z"
   },
   {
    "duration": 0,
    "start_time": "2022-04-17T11:05:14.404Z"
   },
   {
    "duration": 0,
    "start_time": "2022-04-17T11:05:14.406Z"
   },
   {
    "duration": 0,
    "start_time": "2022-04-17T11:05:14.408Z"
   },
   {
    "duration": 0,
    "start_time": "2022-04-17T11:05:14.410Z"
   },
   {
    "duration": 0,
    "start_time": "2022-04-17T11:05:14.412Z"
   },
   {
    "duration": 0,
    "start_time": "2022-04-17T11:05:14.413Z"
   },
   {
    "duration": 0,
    "start_time": "2022-04-17T11:05:14.415Z"
   },
   {
    "duration": 0,
    "start_time": "2022-04-17T11:05:14.416Z"
   },
   {
    "duration": 0,
    "start_time": "2022-04-17T11:05:14.418Z"
   },
   {
    "duration": 0,
    "start_time": "2022-04-17T11:05:14.419Z"
   },
   {
    "duration": 0,
    "start_time": "2022-04-17T11:05:14.420Z"
   },
   {
    "duration": 0,
    "start_time": "2022-04-17T11:05:14.422Z"
   },
   {
    "duration": 0,
    "start_time": "2022-04-17T11:05:14.423Z"
   },
   {
    "duration": 0,
    "start_time": "2022-04-17T11:05:14.424Z"
   },
   {
    "duration": 0,
    "start_time": "2022-04-17T11:05:14.426Z"
   },
   {
    "duration": 0,
    "start_time": "2022-04-17T11:05:14.427Z"
   },
   {
    "duration": 0,
    "start_time": "2022-04-17T11:05:14.429Z"
   },
   {
    "duration": 0,
    "start_time": "2022-04-17T11:05:14.484Z"
   },
   {
    "duration": 0,
    "start_time": "2022-04-17T11:05:14.486Z"
   },
   {
    "duration": 0,
    "start_time": "2022-04-17T11:05:14.487Z"
   },
   {
    "duration": 0,
    "start_time": "2022-04-17T11:05:14.489Z"
   },
   {
    "duration": 0,
    "start_time": "2022-04-17T11:05:14.490Z"
   },
   {
    "duration": 0,
    "start_time": "2022-04-17T11:05:14.493Z"
   },
   {
    "duration": 0,
    "start_time": "2022-04-17T11:05:14.494Z"
   },
   {
    "duration": 0,
    "start_time": "2022-04-17T11:05:14.496Z"
   },
   {
    "duration": 0,
    "start_time": "2022-04-17T11:05:14.498Z"
   },
   {
    "duration": 0,
    "start_time": "2022-04-17T11:05:14.500Z"
   },
   {
    "duration": 0,
    "start_time": "2022-04-17T11:05:14.501Z"
   },
   {
    "duration": 0,
    "start_time": "2022-04-17T11:05:14.502Z"
   },
   {
    "duration": 0,
    "start_time": "2022-04-17T11:05:14.504Z"
   },
   {
    "duration": 0,
    "start_time": "2022-04-17T11:05:14.506Z"
   },
   {
    "duration": 0,
    "start_time": "2022-04-17T11:05:14.507Z"
   },
   {
    "duration": 4,
    "start_time": "2022-04-17T11:08:58.732Z"
   },
   {
    "duration": 4,
    "start_time": "2022-04-17T11:09:01.254Z"
   },
   {
    "duration": 601,
    "start_time": "2022-04-17T11:09:01.262Z"
   },
   {
    "duration": 15,
    "start_time": "2022-04-17T11:09:01.866Z"
   },
   {
    "duration": 63,
    "start_time": "2022-04-17T11:09:01.884Z"
   },
   {
    "duration": 31,
    "start_time": "2022-04-17T11:09:01.951Z"
   },
   {
    "duration": 47,
    "start_time": "2022-04-17T11:09:01.985Z"
   },
   {
    "duration": 14,
    "start_time": "2022-04-17T11:09:02.035Z"
   },
   {
    "duration": 52,
    "start_time": "2022-04-17T11:09:02.051Z"
   },
   {
    "duration": 16,
    "start_time": "2022-04-17T11:09:02.106Z"
   },
   {
    "duration": 22,
    "start_time": "2022-04-17T11:09:02.125Z"
   },
   {
    "duration": 54,
    "start_time": "2022-04-17T11:09:02.153Z"
   },
   {
    "duration": 56,
    "start_time": "2022-04-17T11:09:02.210Z"
   },
   {
    "duration": 24,
    "start_time": "2022-04-17T11:09:02.268Z"
   },
   {
    "duration": 6,
    "start_time": "2022-04-17T11:09:02.295Z"
   },
   {
    "duration": 22,
    "start_time": "2022-04-17T11:09:02.304Z"
   },
   {
    "duration": 68,
    "start_time": "2022-04-17T11:09:02.329Z"
   },
   {
    "duration": 6,
    "start_time": "2022-04-17T11:09:02.400Z"
   },
   {
    "duration": 53,
    "start_time": "2022-04-17T11:09:02.408Z"
   },
   {
    "duration": 295,
    "start_time": "2022-04-17T11:09:02.464Z"
   },
   {
    "duration": 62,
    "start_time": "2022-04-17T11:09:02.762Z"
   },
   {
    "duration": 76,
    "start_time": "2022-04-17T11:09:02.827Z"
   },
   {
    "duration": 18,
    "start_time": "2022-04-17T11:09:02.906Z"
   },
   {
    "duration": 7,
    "start_time": "2022-04-17T11:09:02.927Z"
   },
   {
    "duration": 59,
    "start_time": "2022-04-17T11:09:02.936Z"
   },
   {
    "duration": 6,
    "start_time": "2022-04-17T11:09:03.003Z"
   },
   {
    "duration": 23,
    "start_time": "2022-04-17T11:09:03.013Z"
   },
   {
    "duration": 325,
    "start_time": "2022-04-17T11:09:03.039Z"
   },
   {
    "duration": 274,
    "start_time": "2022-04-17T11:09:03.366Z"
   },
   {
    "duration": 53,
    "start_time": "2022-04-17T11:09:03.649Z"
   },
   {
    "duration": 35,
    "start_time": "2022-04-17T11:09:03.708Z"
   },
   {
    "duration": 15,
    "start_time": "2022-04-17T11:09:03.746Z"
   },
   {
    "duration": 32,
    "start_time": "2022-04-17T11:09:03.764Z"
   },
   {
    "duration": 28,
    "start_time": "2022-04-17T11:09:03.799Z"
   },
   {
    "duration": 19,
    "start_time": "2022-04-17T11:09:03.829Z"
   },
   {
    "duration": 124,
    "start_time": "2022-04-17T11:09:03.850Z"
   },
   {
    "duration": 17,
    "start_time": "2022-04-17T11:09:03.977Z"
   },
   {
    "duration": 70,
    "start_time": "2022-04-17T11:09:03.997Z"
   },
   {
    "duration": 21,
    "start_time": "2022-04-17T11:09:04.070Z"
   },
   {
    "duration": 67,
    "start_time": "2022-04-17T11:09:04.094Z"
   },
   {
    "duration": 18,
    "start_time": "2022-04-17T11:09:04.163Z"
   },
   {
    "duration": 22,
    "start_time": "2022-04-17T11:09:04.184Z"
   },
   {
    "duration": 27,
    "start_time": "2022-04-17T11:09:04.209Z"
   },
   {
    "duration": 14,
    "start_time": "2022-04-17T11:09:04.239Z"
   },
   {
    "duration": 40,
    "start_time": "2022-04-17T11:09:04.256Z"
   },
   {
    "duration": 29,
    "start_time": "2022-04-17T11:09:04.300Z"
   },
   {
    "duration": 9,
    "start_time": "2022-04-17T11:09:04.332Z"
   },
   {
    "duration": 39,
    "start_time": "2022-04-17T11:09:04.343Z"
   },
   {
    "duration": 37,
    "start_time": "2022-04-17T11:09:04.385Z"
   },
   {
    "duration": 12,
    "start_time": "2022-04-17T11:09:04.425Z"
   },
   {
    "duration": 21,
    "start_time": "2022-04-17T11:09:04.440Z"
   },
   {
    "duration": 342,
    "start_time": "2022-04-17T11:09:04.464Z"
   },
   {
    "duration": 16,
    "start_time": "2022-04-17T11:09:04.812Z"
   },
   {
    "duration": 65,
    "start_time": "2022-04-17T11:09:04.831Z"
   },
   {
    "duration": 107,
    "start_time": "2022-04-17T11:09:04.900Z"
   },
   {
    "duration": 92,
    "start_time": "2022-04-17T11:09:05.010Z"
   },
   {
    "duration": 94,
    "start_time": "2022-04-17T11:09:05.105Z"
   },
   {
    "duration": 376,
    "start_time": "2022-04-17T11:09:05.201Z"
   },
   {
    "duration": 417,
    "start_time": "2022-04-17T11:09:05.579Z"
   },
   {
    "duration": 319,
    "start_time": "2022-04-17T11:09:05.999Z"
   },
   {
    "duration": 24,
    "start_time": "2022-04-17T11:09:06.321Z"
   },
   {
    "duration": 92,
    "start_time": "2022-04-17T11:09:06.348Z"
   },
   {
    "duration": 8,
    "start_time": "2022-04-17T11:09:06.443Z"
   },
   {
    "duration": 142,
    "start_time": "2022-04-17T11:09:06.454Z"
   },
   {
    "duration": 405,
    "start_time": "2022-04-17T11:09:06.599Z"
   },
   {
    "duration": 505,
    "start_time": "2022-04-17T11:09:07.008Z"
   },
   {
    "duration": 318,
    "start_time": "2022-04-17T11:09:07.516Z"
   },
   {
    "duration": 693,
    "start_time": "2022-04-17T11:09:07.837Z"
   },
   {
    "duration": 659,
    "start_time": "2022-04-17T11:09:08.533Z"
   },
   {
    "duration": 733,
    "start_time": "2022-04-17T11:09:09.195Z"
   },
   {
    "duration": 24,
    "start_time": "2022-04-17T11:09:09.931Z"
   },
   {
    "duration": 5,
    "start_time": "2022-04-17T11:09:09.996Z"
   },
   {
    "duration": 36,
    "start_time": "2022-04-17T11:09:10.004Z"
   },
   {
    "duration": 96,
    "start_time": "2022-04-17T11:09:10.043Z"
   },
   {
    "duration": 422,
    "start_time": "2022-04-17T11:09:10.143Z"
   },
   {
    "duration": 17,
    "start_time": "2022-04-17T11:09:10.568Z"
   },
   {
    "duration": 33,
    "start_time": "2022-04-17T11:09:10.589Z"
   },
   {
    "duration": 355,
    "start_time": "2022-04-17T11:20:07.293Z"
   },
   {
    "duration": 21,
    "start_time": "2022-04-17T11:20:17.511Z"
   },
   {
    "duration": 43,
    "start_time": "2022-04-17T11:24:11.092Z"
   },
   {
    "duration": 575,
    "start_time": "2022-04-17T11:31:45.259Z"
   },
   {
    "duration": 883,
    "start_time": "2022-04-17T11:31:56.302Z"
   },
   {
    "duration": 729,
    "start_time": "2022-04-17T11:32:14.268Z"
   },
   {
    "duration": 4,
    "start_time": "2022-04-17T11:42:14.645Z"
   },
   {
    "duration": 553,
    "start_time": "2022-04-17T11:42:14.653Z"
   },
   {
    "duration": 14,
    "start_time": "2022-04-17T11:42:15.209Z"
   },
   {
    "duration": 35,
    "start_time": "2022-04-17T11:42:15.226Z"
   },
   {
    "duration": 21,
    "start_time": "2022-04-17T11:42:15.265Z"
   },
   {
    "duration": 28,
    "start_time": "2022-04-17T11:42:15.289Z"
   },
   {
    "duration": 10,
    "start_time": "2022-04-17T11:42:15.320Z"
   },
   {
    "duration": 53,
    "start_time": "2022-04-17T11:42:15.333Z"
   },
   {
    "duration": 12,
    "start_time": "2022-04-17T11:42:15.388Z"
   },
   {
    "duration": 20,
    "start_time": "2022-04-17T11:42:15.402Z"
   },
   {
    "duration": 24,
    "start_time": "2022-04-17T11:42:15.426Z"
   },
   {
    "duration": 64,
    "start_time": "2022-04-17T11:42:15.452Z"
   },
   {
    "duration": 13,
    "start_time": "2022-04-17T11:42:15.518Z"
   },
   {
    "duration": 8,
    "start_time": "2022-04-17T11:42:15.534Z"
   },
   {
    "duration": 8,
    "start_time": "2022-04-17T11:42:15.544Z"
   },
   {
    "duration": 72,
    "start_time": "2022-04-17T11:42:15.555Z"
   },
   {
    "duration": 6,
    "start_time": "2022-04-17T11:42:15.629Z"
   },
   {
    "duration": 44,
    "start_time": "2022-04-17T11:42:15.638Z"
   },
   {
    "duration": 242,
    "start_time": "2022-04-17T11:42:15.684Z"
   },
   {
    "duration": 55,
    "start_time": "2022-04-17T11:42:15.928Z"
   },
   {
    "duration": 37,
    "start_time": "2022-04-17T11:42:15.985Z"
   },
   {
    "duration": 14,
    "start_time": "2022-04-17T11:42:16.024Z"
   },
   {
    "duration": 8,
    "start_time": "2022-04-17T11:42:16.040Z"
   },
   {
    "duration": 51,
    "start_time": "2022-04-17T11:42:16.050Z"
   },
   {
    "duration": 4,
    "start_time": "2022-04-17T11:42:16.103Z"
   },
   {
    "duration": 17,
    "start_time": "2022-04-17T11:42:16.109Z"
   },
   {
    "duration": 278,
    "start_time": "2022-04-17T11:42:16.129Z"
   },
   {
    "duration": 239,
    "start_time": "2022-04-17T11:42:16.409Z"
   },
   {
    "duration": 40,
    "start_time": "2022-04-17T11:42:16.655Z"
   },
   {
    "duration": 21,
    "start_time": "2022-04-17T11:42:16.698Z"
   },
   {
    "duration": 12,
    "start_time": "2022-04-17T11:42:16.721Z"
   },
   {
    "duration": 15,
    "start_time": "2022-04-17T11:42:16.736Z"
   },
   {
    "duration": 44,
    "start_time": "2022-04-17T11:42:16.753Z"
   },
   {
    "duration": 17,
    "start_time": "2022-04-17T11:42:16.799Z"
   },
   {
    "duration": 78,
    "start_time": "2022-04-17T11:42:16.818Z"
   },
   {
    "duration": 12,
    "start_time": "2022-04-17T11:42:16.898Z"
   },
   {
    "duration": 43,
    "start_time": "2022-04-17T11:42:16.912Z"
   },
   {
    "duration": 37,
    "start_time": "2022-04-17T11:42:16.957Z"
   },
   {
    "duration": 34,
    "start_time": "2022-04-17T11:42:16.996Z"
   },
   {
    "duration": 12,
    "start_time": "2022-04-17T11:42:17.033Z"
   },
   {
    "duration": 44,
    "start_time": "2022-04-17T11:42:17.047Z"
   },
   {
    "duration": 12,
    "start_time": "2022-04-17T11:42:17.093Z"
   },
   {
    "duration": 0,
    "start_time": "2022-04-17T11:42:17.107Z"
   },
   {
    "duration": 0,
    "start_time": "2022-04-17T11:42:17.108Z"
   },
   {
    "duration": 0,
    "start_time": "2022-04-17T11:42:17.110Z"
   },
   {
    "duration": 0,
    "start_time": "2022-04-17T11:42:17.112Z"
   },
   {
    "duration": 0,
    "start_time": "2022-04-17T11:42:17.113Z"
   },
   {
    "duration": 0,
    "start_time": "2022-04-17T11:42:17.115Z"
   },
   {
    "duration": 0,
    "start_time": "2022-04-17T11:42:17.116Z"
   },
   {
    "duration": 0,
    "start_time": "2022-04-17T11:42:17.118Z"
   },
   {
    "duration": 0,
    "start_time": "2022-04-17T11:42:17.119Z"
   },
   {
    "duration": 0,
    "start_time": "2022-04-17T11:42:17.120Z"
   },
   {
    "duration": 0,
    "start_time": "2022-04-17T11:42:17.122Z"
   },
   {
    "duration": 0,
    "start_time": "2022-04-17T11:42:17.123Z"
   },
   {
    "duration": 0,
    "start_time": "2022-04-17T11:42:17.124Z"
   },
   {
    "duration": 0,
    "start_time": "2022-04-17T11:42:17.126Z"
   },
   {
    "duration": 0,
    "start_time": "2022-04-17T11:42:17.127Z"
   },
   {
    "duration": 0,
    "start_time": "2022-04-17T11:42:17.129Z"
   },
   {
    "duration": 0,
    "start_time": "2022-04-17T11:42:17.182Z"
   },
   {
    "duration": 0,
    "start_time": "2022-04-17T11:42:17.183Z"
   },
   {
    "duration": 0,
    "start_time": "2022-04-17T11:42:17.185Z"
   },
   {
    "duration": 0,
    "start_time": "2022-04-17T11:42:17.186Z"
   },
   {
    "duration": 0,
    "start_time": "2022-04-17T11:42:17.188Z"
   },
   {
    "duration": 0,
    "start_time": "2022-04-17T11:42:17.189Z"
   },
   {
    "duration": 0,
    "start_time": "2022-04-17T11:42:17.190Z"
   },
   {
    "duration": 0,
    "start_time": "2022-04-17T11:42:17.191Z"
   },
   {
    "duration": 0,
    "start_time": "2022-04-17T11:42:17.194Z"
   },
   {
    "duration": 0,
    "start_time": "2022-04-17T11:42:17.196Z"
   },
   {
    "duration": 0,
    "start_time": "2022-04-17T11:42:17.197Z"
   },
   {
    "duration": 0,
    "start_time": "2022-04-17T11:42:17.199Z"
   },
   {
    "duration": 0,
    "start_time": "2022-04-17T11:42:17.200Z"
   },
   {
    "duration": 0,
    "start_time": "2022-04-17T11:42:17.202Z"
   },
   {
    "duration": 0,
    "start_time": "2022-04-17T11:42:17.204Z"
   },
   {
    "duration": 0,
    "start_time": "2022-04-17T11:42:17.205Z"
   },
   {
    "duration": 1,
    "start_time": "2022-04-17T11:42:17.206Z"
   },
   {
    "duration": 0,
    "start_time": "2022-04-17T11:42:17.208Z"
   },
   {
    "duration": 0,
    "start_time": "2022-04-17T11:42:17.209Z"
   },
   {
    "duration": 15,
    "start_time": "2022-04-17T11:45:01.074Z"
   },
   {
    "duration": 6,
    "start_time": "2022-04-17T11:46:07.005Z"
   },
   {
    "duration": 12,
    "start_time": "2022-04-17T11:46:08.895Z"
   },
   {
    "duration": 15,
    "start_time": "2022-04-17T11:46:36.088Z"
   },
   {
    "duration": 13,
    "start_time": "2022-04-17T11:48:01.016Z"
   },
   {
    "duration": 11,
    "start_time": "2022-04-17T11:48:38.266Z"
   },
   {
    "duration": 21,
    "start_time": "2022-04-17T11:50:12.781Z"
   },
   {
    "duration": 4,
    "start_time": "2022-04-17T11:50:41.017Z"
   },
   {
    "duration": 742,
    "start_time": "2022-04-17T11:50:41.024Z"
   },
   {
    "duration": 23,
    "start_time": "2022-04-17T11:50:41.769Z"
   },
   {
    "duration": 64,
    "start_time": "2022-04-17T11:50:41.795Z"
   },
   {
    "duration": 28,
    "start_time": "2022-04-17T11:50:41.864Z"
   },
   {
    "duration": 40,
    "start_time": "2022-04-17T11:50:41.894Z"
   },
   {
    "duration": 11,
    "start_time": "2022-04-17T11:50:41.936Z"
   },
   {
    "duration": 54,
    "start_time": "2022-04-17T11:50:41.949Z"
   },
   {
    "duration": 15,
    "start_time": "2022-04-17T11:50:42.006Z"
   },
   {
    "duration": 18,
    "start_time": "2022-04-17T11:50:42.023Z"
   },
   {
    "duration": 55,
    "start_time": "2022-04-17T11:50:42.046Z"
   },
   {
    "duration": 49,
    "start_time": "2022-04-17T11:50:42.104Z"
   },
   {
    "duration": 49,
    "start_time": "2022-04-17T11:50:42.156Z"
   },
   {
    "duration": 5,
    "start_time": "2022-04-17T11:50:42.208Z"
   },
   {
    "duration": 8,
    "start_time": "2022-04-17T11:50:42.215Z"
   },
   {
    "duration": 60,
    "start_time": "2022-04-17T11:50:42.226Z"
   },
   {
    "duration": 6,
    "start_time": "2022-04-17T11:50:42.288Z"
   },
   {
    "duration": 43,
    "start_time": "2022-04-17T11:50:42.296Z"
   },
   {
    "duration": 257,
    "start_time": "2022-04-17T11:50:42.341Z"
   },
   {
    "duration": 83,
    "start_time": "2022-04-17T11:50:42.601Z"
   },
   {
    "duration": 59,
    "start_time": "2022-04-17T11:50:42.687Z"
   },
   {
    "duration": 36,
    "start_time": "2022-04-17T11:50:42.749Z"
   },
   {
    "duration": 9,
    "start_time": "2022-04-17T11:50:42.788Z"
   },
   {
    "duration": 29,
    "start_time": "2022-04-17T11:50:42.800Z"
   },
   {
    "duration": 4,
    "start_time": "2022-04-17T11:50:42.832Z"
   },
   {
    "duration": 53,
    "start_time": "2022-04-17T11:50:42.838Z"
   },
   {
    "duration": 282,
    "start_time": "2022-04-17T11:50:42.893Z"
   },
   {
    "duration": 363,
    "start_time": "2022-04-17T11:50:43.177Z"
   },
   {
    "duration": 57,
    "start_time": "2022-04-17T11:50:43.551Z"
   },
   {
    "duration": 28,
    "start_time": "2022-04-17T11:50:43.611Z"
   },
   {
    "duration": 36,
    "start_time": "2022-04-17T11:50:43.646Z"
   },
   {
    "duration": 21,
    "start_time": "2022-04-17T11:50:43.685Z"
   },
   {
    "duration": 22,
    "start_time": "2022-04-17T11:50:43.709Z"
   },
   {
    "duration": 51,
    "start_time": "2022-04-17T11:50:43.734Z"
   },
   {
    "duration": 95,
    "start_time": "2022-04-17T11:50:43.788Z"
   },
   {
    "duration": 17,
    "start_time": "2022-04-17T11:50:43.887Z"
   },
   {
    "duration": 53,
    "start_time": "2022-04-17T11:50:43.907Z"
   },
   {
    "duration": 17,
    "start_time": "2022-04-17T11:50:43.983Z"
   },
   {
    "duration": 32,
    "start_time": "2022-04-17T11:50:44.003Z"
   },
   {
    "duration": 45,
    "start_time": "2022-04-17T11:50:44.038Z"
   },
   {
    "duration": 24,
    "start_time": "2022-04-17T11:50:44.086Z"
   },
   {
    "duration": 17,
    "start_time": "2022-04-17T11:50:44.113Z"
   },
   {
    "duration": 56,
    "start_time": "2022-04-17T11:50:44.133Z"
   },
   {
    "duration": 0,
    "start_time": "2022-04-17T11:50:44.192Z"
   },
   {
    "duration": 0,
    "start_time": "2022-04-17T11:50:44.194Z"
   },
   {
    "duration": 0,
    "start_time": "2022-04-17T11:50:44.196Z"
   },
   {
    "duration": 1,
    "start_time": "2022-04-17T11:50:44.198Z"
   },
   {
    "duration": 0,
    "start_time": "2022-04-17T11:50:44.201Z"
   },
   {
    "duration": 0,
    "start_time": "2022-04-17T11:50:44.203Z"
   },
   {
    "duration": 0,
    "start_time": "2022-04-17T11:50:44.204Z"
   },
   {
    "duration": 0,
    "start_time": "2022-04-17T11:50:44.206Z"
   },
   {
    "duration": 0,
    "start_time": "2022-04-17T11:50:44.207Z"
   },
   {
    "duration": 0,
    "start_time": "2022-04-17T11:50:44.209Z"
   },
   {
    "duration": 0,
    "start_time": "2022-04-17T11:50:44.210Z"
   },
   {
    "duration": 0,
    "start_time": "2022-04-17T11:50:44.213Z"
   },
   {
    "duration": 0,
    "start_time": "2022-04-17T11:50:44.214Z"
   },
   {
    "duration": 0,
    "start_time": "2022-04-17T11:50:44.216Z"
   },
   {
    "duration": 0,
    "start_time": "2022-04-17T11:50:44.217Z"
   },
   {
    "duration": 0,
    "start_time": "2022-04-17T11:50:44.219Z"
   },
   {
    "duration": 0,
    "start_time": "2022-04-17T11:50:44.220Z"
   },
   {
    "duration": 0,
    "start_time": "2022-04-17T11:50:44.222Z"
   },
   {
    "duration": 0,
    "start_time": "2022-04-17T11:50:44.223Z"
   },
   {
    "duration": 0,
    "start_time": "2022-04-17T11:50:44.225Z"
   },
   {
    "duration": 0,
    "start_time": "2022-04-17T11:50:44.226Z"
   },
   {
    "duration": 0,
    "start_time": "2022-04-17T11:50:44.227Z"
   },
   {
    "duration": 0,
    "start_time": "2022-04-17T11:50:44.229Z"
   },
   {
    "duration": 0,
    "start_time": "2022-04-17T11:50:44.282Z"
   },
   {
    "duration": 0,
    "start_time": "2022-04-17T11:50:44.283Z"
   },
   {
    "duration": 0,
    "start_time": "2022-04-17T11:50:44.285Z"
   },
   {
    "duration": 0,
    "start_time": "2022-04-17T11:50:44.287Z"
   },
   {
    "duration": 0,
    "start_time": "2022-04-17T11:50:44.288Z"
   },
   {
    "duration": 0,
    "start_time": "2022-04-17T11:50:44.290Z"
   },
   {
    "duration": 0,
    "start_time": "2022-04-17T11:50:44.291Z"
   },
   {
    "duration": 0,
    "start_time": "2022-04-17T11:50:44.294Z"
   },
   {
    "duration": 0,
    "start_time": "2022-04-17T11:50:44.296Z"
   },
   {
    "duration": 0,
    "start_time": "2022-04-17T11:50:44.297Z"
   },
   {
    "duration": 0,
    "start_time": "2022-04-17T11:50:44.300Z"
   },
   {
    "duration": 5,
    "start_time": "2022-04-17T11:51:32.638Z"
   },
   {
    "duration": 556,
    "start_time": "2022-04-17T11:51:32.645Z"
   },
   {
    "duration": 15,
    "start_time": "2022-04-17T11:51:33.204Z"
   },
   {
    "duration": 34,
    "start_time": "2022-04-17T11:51:33.222Z"
   },
   {
    "duration": 30,
    "start_time": "2022-04-17T11:51:33.259Z"
   },
   {
    "duration": 30,
    "start_time": "2022-04-17T11:51:33.291Z"
   },
   {
    "duration": 12,
    "start_time": "2022-04-17T11:51:33.323Z"
   },
   {
    "duration": 66,
    "start_time": "2022-04-17T11:51:33.337Z"
   },
   {
    "duration": 12,
    "start_time": "2022-04-17T11:51:33.405Z"
   },
   {
    "duration": 16,
    "start_time": "2022-04-17T11:51:33.420Z"
   },
   {
    "duration": 46,
    "start_time": "2022-04-17T11:51:33.440Z"
   },
   {
    "duration": 41,
    "start_time": "2022-04-17T11:51:33.488Z"
   },
   {
    "duration": 14,
    "start_time": "2022-04-17T11:51:33.531Z"
   },
   {
    "duration": 4,
    "start_time": "2022-04-17T11:51:33.547Z"
   },
   {
    "duration": 30,
    "start_time": "2022-04-17T11:51:33.553Z"
   },
   {
    "duration": 49,
    "start_time": "2022-04-17T11:51:33.585Z"
   },
   {
    "duration": 5,
    "start_time": "2022-04-17T11:51:33.636Z"
   },
   {
    "duration": 55,
    "start_time": "2022-04-17T11:51:33.644Z"
   },
   {
    "duration": 252,
    "start_time": "2022-04-17T11:51:33.701Z"
   },
   {
    "duration": 49,
    "start_time": "2022-04-17T11:51:33.956Z"
   },
   {
    "duration": 35,
    "start_time": "2022-04-17T11:51:34.008Z"
   },
   {
    "duration": 38,
    "start_time": "2022-04-17T11:51:34.046Z"
   },
   {
    "duration": 6,
    "start_time": "2022-04-17T11:51:34.086Z"
   },
   {
    "duration": 24,
    "start_time": "2022-04-17T11:51:34.094Z"
   },
   {
    "duration": 3,
    "start_time": "2022-04-17T11:51:34.120Z"
   },
   {
    "duration": 22,
    "start_time": "2022-04-17T11:51:34.125Z"
   },
   {
    "duration": 388,
    "start_time": "2022-04-17T11:51:34.182Z"
   },
   {
    "duration": 234,
    "start_time": "2022-04-17T11:51:34.572Z"
   },
   {
    "duration": 45,
    "start_time": "2022-04-17T11:51:34.817Z"
   },
   {
    "duration": 40,
    "start_time": "2022-04-17T11:51:34.865Z"
   },
   {
    "duration": 18,
    "start_time": "2022-04-17T11:51:34.908Z"
   },
   {
    "duration": 15,
    "start_time": "2022-04-17T11:51:34.928Z"
   },
   {
    "duration": 54,
    "start_time": "2022-04-17T11:51:34.946Z"
   },
   {
    "duration": 22,
    "start_time": "2022-04-17T11:51:35.002Z"
   },
   {
    "duration": 117,
    "start_time": "2022-04-17T11:51:35.026Z"
   },
   {
    "duration": 16,
    "start_time": "2022-04-17T11:51:35.146Z"
   },
   {
    "duration": 61,
    "start_time": "2022-04-17T11:51:35.165Z"
   },
   {
    "duration": 16,
    "start_time": "2022-04-17T11:51:35.228Z"
   },
   {
    "duration": 68,
    "start_time": "2022-04-17T11:51:35.247Z"
   },
   {
    "duration": 18,
    "start_time": "2022-04-17T11:51:35.318Z"
   },
   {
    "duration": 48,
    "start_time": "2022-04-17T11:51:35.339Z"
   },
   {
    "duration": 17,
    "start_time": "2022-04-17T11:51:35.390Z"
   },
   {
    "duration": 16,
    "start_time": "2022-04-17T11:51:35.410Z"
   },
   {
    "duration": 11,
    "start_time": "2022-04-17T11:51:35.429Z"
   },
   {
    "duration": 51,
    "start_time": "2022-04-17T11:51:35.443Z"
   },
   {
    "duration": 11,
    "start_time": "2022-04-17T11:51:35.497Z"
   },
   {
    "duration": 14,
    "start_time": "2022-04-17T11:51:35.511Z"
   },
   {
    "duration": 14,
    "start_time": "2022-04-17T11:51:35.528Z"
   },
   {
    "duration": 46,
    "start_time": "2022-04-17T11:51:35.544Z"
   },
   {
    "duration": 50,
    "start_time": "2022-04-17T11:51:35.592Z"
   },
   {
    "duration": 224,
    "start_time": "2022-04-17T11:51:35.644Z"
   },
   {
    "duration": 262,
    "start_time": "2022-04-17T11:51:35.870Z"
   },
   {
    "duration": 14,
    "start_time": "2022-04-17T11:51:36.135Z"
   },
   {
    "duration": 52,
    "start_time": "2022-04-17T11:51:36.151Z"
   },
   {
    "duration": 124,
    "start_time": "2022-04-17T11:51:36.206Z"
   },
   {
    "duration": 99,
    "start_time": "2022-04-17T11:51:36.333Z"
   },
   {
    "duration": 128,
    "start_time": "2022-04-17T11:51:36.435Z"
   },
   {
    "duration": 424,
    "start_time": "2022-04-17T11:51:36.565Z"
   },
   {
    "duration": 311,
    "start_time": "2022-04-17T11:51:36.992Z"
   },
   {
    "duration": 283,
    "start_time": "2022-04-17T11:51:37.306Z"
   },
   {
    "duration": 21,
    "start_time": "2022-04-17T11:51:37.592Z"
   },
   {
    "duration": 80,
    "start_time": "2022-04-17T11:51:37.615Z"
   },
   {
    "duration": 7,
    "start_time": "2022-04-17T11:51:37.698Z"
   },
   {
    "duration": 93,
    "start_time": "2022-04-17T11:51:37.707Z"
   },
   {
    "duration": 292,
    "start_time": "2022-04-17T11:51:37.802Z"
   },
   {
    "duration": 280,
    "start_time": "2022-04-17T11:51:38.096Z"
   },
   {
    "duration": 277,
    "start_time": "2022-04-17T11:51:38.378Z"
   },
   {
    "duration": 589,
    "start_time": "2022-04-17T11:51:38.658Z"
   },
   {
    "duration": 557,
    "start_time": "2022-04-17T11:51:39.250Z"
   },
   {
    "duration": 723,
    "start_time": "2022-04-17T11:51:39.810Z"
   },
   {
    "duration": 20,
    "start_time": "2022-04-17T11:51:40.535Z"
   },
   {
    "duration": 24,
    "start_time": "2022-04-17T11:51:40.558Z"
   },
   {
    "duration": 11,
    "start_time": "2022-04-17T11:51:40.585Z"
   },
   {
    "duration": 94,
    "start_time": "2022-04-17T11:51:40.598Z"
   },
   {
    "duration": 348,
    "start_time": "2022-04-17T11:51:40.694Z"
   },
   {
    "duration": 4,
    "start_time": "2022-04-17T11:51:41.044Z"
   },
   {
    "duration": 13,
    "start_time": "2022-04-17T11:51:41.050Z"
   },
   {
    "duration": 4,
    "start_time": "2022-04-17T11:56:45.071Z"
   },
   {
    "duration": 568,
    "start_time": "2022-04-17T11:56:45.080Z"
   },
   {
    "duration": 14,
    "start_time": "2022-04-17T11:56:45.651Z"
   },
   {
    "duration": 46,
    "start_time": "2022-04-17T11:56:45.668Z"
   },
   {
    "duration": 13,
    "start_time": "2022-04-17T11:56:45.717Z"
   },
   {
    "duration": 31,
    "start_time": "2022-04-17T11:56:45.732Z"
   },
   {
    "duration": 11,
    "start_time": "2022-04-17T11:56:45.782Z"
   },
   {
    "duration": 28,
    "start_time": "2022-04-17T11:56:45.796Z"
   },
   {
    "duration": 12,
    "start_time": "2022-04-17T11:56:45.826Z"
   },
   {
    "duration": 49,
    "start_time": "2022-04-17T11:56:45.840Z"
   },
   {
    "duration": 16,
    "start_time": "2022-04-17T11:56:45.894Z"
   },
   {
    "duration": 42,
    "start_time": "2022-04-17T11:56:45.913Z"
   },
   {
    "duration": 36,
    "start_time": "2022-04-17T11:56:45.957Z"
   },
   {
    "duration": 4,
    "start_time": "2022-04-17T11:56:45.996Z"
   },
   {
    "duration": 6,
    "start_time": "2022-04-17T11:56:46.002Z"
   },
   {
    "duration": 80,
    "start_time": "2022-04-17T11:56:46.010Z"
   },
   {
    "duration": 5,
    "start_time": "2022-04-17T11:56:46.093Z"
   },
   {
    "duration": 29,
    "start_time": "2022-04-17T11:56:46.101Z"
   },
   {
    "duration": 260,
    "start_time": "2022-04-17T11:56:46.132Z"
   },
   {
    "duration": 43,
    "start_time": "2022-04-17T11:56:46.394Z"
   },
   {
    "duration": 64,
    "start_time": "2022-04-17T11:56:46.439Z"
   },
   {
    "duration": 16,
    "start_time": "2022-04-17T11:56:46.506Z"
   },
   {
    "duration": 7,
    "start_time": "2022-04-17T11:56:46.524Z"
   },
   {
    "duration": 58,
    "start_time": "2022-04-17T11:56:46.533Z"
   },
   {
    "duration": 4,
    "start_time": "2022-04-17T11:56:46.593Z"
   },
   {
    "duration": 18,
    "start_time": "2022-04-17T11:56:46.599Z"
   },
   {
    "duration": 267,
    "start_time": "2022-04-17T11:56:46.620Z"
   },
   {
    "duration": 232,
    "start_time": "2022-04-17T11:56:46.889Z"
   },
   {
    "duration": 30,
    "start_time": "2022-04-17T11:56:47.129Z"
   },
   {
    "duration": 37,
    "start_time": "2022-04-17T11:56:47.162Z"
   },
   {
    "duration": 14,
    "start_time": "2022-04-17T11:56:47.201Z"
   },
   {
    "duration": 14,
    "start_time": "2022-04-17T11:56:47.218Z"
   },
   {
    "duration": 59,
    "start_time": "2022-04-17T11:56:47.234Z"
   },
   {
    "duration": 16,
    "start_time": "2022-04-17T11:56:47.296Z"
   },
   {
    "duration": 85,
    "start_time": "2022-04-17T11:56:47.314Z"
   },
   {
    "duration": 12,
    "start_time": "2022-04-17T11:56:47.401Z"
   },
   {
    "duration": 46,
    "start_time": "2022-04-17T11:56:47.415Z"
   },
   {
    "duration": 35,
    "start_time": "2022-04-17T11:56:47.463Z"
   },
   {
    "duration": 35,
    "start_time": "2022-04-17T11:56:47.501Z"
   },
   {
    "duration": 48,
    "start_time": "2022-04-17T11:56:47.538Z"
   },
   {
    "duration": 16,
    "start_time": "2022-04-17T11:56:47.588Z"
   },
   {
    "duration": 13,
    "start_time": "2022-04-17T11:56:47.606Z"
   },
   {
    "duration": 13,
    "start_time": "2022-04-17T11:56:47.621Z"
   },
   {
    "duration": 49,
    "start_time": "2022-04-17T11:56:47.636Z"
   },
   {
    "duration": 13,
    "start_time": "2022-04-17T11:56:47.686Z"
   },
   {
    "duration": 7,
    "start_time": "2022-04-17T11:56:47.702Z"
   },
   {
    "duration": 13,
    "start_time": "2022-04-17T11:56:47.712Z"
   },
   {
    "duration": 56,
    "start_time": "2022-04-17T11:56:47.727Z"
   },
   {
    "duration": 8,
    "start_time": "2022-04-17T11:56:47.786Z"
   },
   {
    "duration": 48,
    "start_time": "2022-04-17T11:56:47.797Z"
   },
   {
    "duration": 290,
    "start_time": "2022-04-17T11:56:47.847Z"
   },
   {
    "duration": 14,
    "start_time": "2022-04-17T11:56:48.139Z"
   },
   {
    "duration": 58,
    "start_time": "2022-04-17T11:56:48.155Z"
   },
   {
    "duration": 97,
    "start_time": "2022-04-17T11:56:48.215Z"
   },
   {
    "duration": 94,
    "start_time": "2022-04-17T11:56:48.315Z"
   },
   {
    "duration": 90,
    "start_time": "2022-04-17T11:56:48.411Z"
   },
   {
    "duration": 296,
    "start_time": "2022-04-17T11:56:48.504Z"
   },
   {
    "duration": 428,
    "start_time": "2022-04-17T11:56:48.803Z"
   },
   {
    "duration": 292,
    "start_time": "2022-04-17T11:56:49.234Z"
   },
   {
    "duration": 23,
    "start_time": "2022-04-17T11:56:49.529Z"
   },
   {
    "duration": 72,
    "start_time": "2022-04-17T11:56:49.554Z"
   },
   {
    "duration": 7,
    "start_time": "2022-04-17T11:56:49.629Z"
   },
   {
    "duration": 101,
    "start_time": "2022-04-17T11:56:49.639Z"
   },
   {
    "duration": 295,
    "start_time": "2022-04-17T11:56:49.742Z"
   },
   {
    "duration": 297,
    "start_time": "2022-04-17T11:56:50.039Z"
   },
   {
    "duration": 275,
    "start_time": "2022-04-17T11:56:50.338Z"
   },
   {
    "duration": 734,
    "start_time": "2022-04-17T11:56:50.615Z"
   },
   {
    "duration": 842,
    "start_time": "2022-04-17T11:56:51.353Z"
   },
   {
    "duration": 871,
    "start_time": "2022-04-17T11:56:52.197Z"
   },
   {
    "duration": 32,
    "start_time": "2022-04-17T11:56:53.071Z"
   },
   {
    "duration": 4,
    "start_time": "2022-04-17T11:56:53.105Z"
   },
   {
    "duration": 11,
    "start_time": "2022-04-17T11:56:53.111Z"
   },
   {
    "duration": 116,
    "start_time": "2022-04-17T11:56:53.125Z"
   },
   {
    "duration": 365,
    "start_time": "2022-04-17T11:56:53.243Z"
   },
   {
    "duration": 4,
    "start_time": "2022-04-17T11:56:53.610Z"
   },
   {
    "duration": 14,
    "start_time": "2022-04-17T11:56:53.615Z"
   },
   {
    "duration": 532,
    "start_time": "2022-04-17T11:58:48.002Z"
   },
   {
    "duration": 560,
    "start_time": "2022-04-17T11:58:57.956Z"
   },
   {
    "duration": 32,
    "start_time": "2022-04-17T12:03:57.454Z"
   },
   {
    "duration": 574,
    "start_time": "2022-04-17T12:04:17.774Z"
   },
   {
    "duration": 22,
    "start_time": "2022-04-17T12:06:37.377Z"
   },
   {
    "duration": 13,
    "start_time": "2022-04-17T12:07:03.604Z"
   },
   {
    "duration": 17,
    "start_time": "2022-04-17T12:07:40.851Z"
   },
   {
    "duration": 12,
    "start_time": "2022-04-17T12:07:58.709Z"
   },
   {
    "duration": 8,
    "start_time": "2022-04-17T12:08:06.915Z"
   },
   {
    "duration": 8,
    "start_time": "2022-04-17T12:10:19.576Z"
   },
   {
    "duration": 9,
    "start_time": "2022-04-17T12:10:28.268Z"
   },
   {
    "duration": 13,
    "start_time": "2022-04-17T12:10:36.228Z"
   },
   {
    "duration": 7,
    "start_time": "2022-04-17T12:10:44.739Z"
   },
   {
    "duration": 714,
    "start_time": "2022-04-17T12:31:08.008Z"
   },
   {
    "duration": 683,
    "start_time": "2022-04-17T12:31:23.788Z"
   },
   {
    "duration": 475,
    "start_time": "2022-04-17T12:31:45.624Z"
   },
   {
    "duration": 980,
    "start_time": "2022-04-17T13:05:11.768Z"
   },
   {
    "duration": 306,
    "start_time": "2022-04-17T13:05:12.750Z"
   },
   {
    "duration": 13,
    "start_time": "2022-04-17T13:05:13.058Z"
   },
   {
    "duration": 22,
    "start_time": "2022-04-17T13:05:13.073Z"
   },
   {
    "duration": 9,
    "start_time": "2022-04-17T13:05:13.096Z"
   },
   {
    "duration": 20,
    "start_time": "2022-04-17T13:05:13.106Z"
   },
   {
    "duration": 7,
    "start_time": "2022-04-17T13:05:13.127Z"
   },
   {
    "duration": 16,
    "start_time": "2022-04-17T13:05:13.135Z"
   },
   {
    "duration": 8,
    "start_time": "2022-04-17T13:05:13.152Z"
   },
   {
    "duration": 12,
    "start_time": "2022-04-17T13:05:13.162Z"
   },
   {
    "duration": 13,
    "start_time": "2022-04-17T13:05:13.176Z"
   },
   {
    "duration": 55,
    "start_time": "2022-04-17T13:05:13.190Z"
   },
   {
    "duration": 15,
    "start_time": "2022-04-17T13:05:13.247Z"
   },
   {
    "duration": 3,
    "start_time": "2022-04-17T13:05:13.263Z"
   },
   {
    "duration": 5,
    "start_time": "2022-04-17T13:05:13.267Z"
   },
   {
    "duration": 34,
    "start_time": "2022-04-17T13:05:13.273Z"
   },
   {
    "duration": 15,
    "start_time": "2022-04-17T13:05:13.308Z"
   },
   {
    "duration": 18,
    "start_time": "2022-04-17T13:05:13.325Z"
   },
   {
    "duration": 142,
    "start_time": "2022-04-17T13:05:13.344Z"
   },
   {
    "duration": 22,
    "start_time": "2022-04-17T13:05:13.488Z"
   },
   {
    "duration": 32,
    "start_time": "2022-04-17T13:05:13.512Z"
   },
   {
    "duration": 8,
    "start_time": "2022-04-17T13:05:13.546Z"
   },
   {
    "duration": 8,
    "start_time": "2022-04-17T13:05:13.556Z"
   },
   {
    "duration": 15,
    "start_time": "2022-04-17T13:05:13.566Z"
   },
   {
    "duration": 2,
    "start_time": "2022-04-17T13:05:13.582Z"
   },
   {
    "duration": 10,
    "start_time": "2022-04-17T13:05:13.586Z"
   },
   {
    "duration": 141,
    "start_time": "2022-04-17T13:05:13.624Z"
   },
   {
    "duration": 119,
    "start_time": "2022-04-17T13:05:13.768Z"
   },
   {
    "duration": 17,
    "start_time": "2022-04-17T13:05:13.888Z"
   },
   {
    "duration": 24,
    "start_time": "2022-04-17T13:05:13.906Z"
   },
   {
    "duration": 7,
    "start_time": "2022-04-17T13:05:13.931Z"
   },
   {
    "duration": 6,
    "start_time": "2022-04-17T13:05:13.939Z"
   },
   {
    "duration": 13,
    "start_time": "2022-04-17T13:05:13.947Z"
   },
   {
    "duration": 8,
    "start_time": "2022-04-17T13:05:13.961Z"
   },
   {
    "duration": 53,
    "start_time": "2022-04-17T13:05:13.971Z"
   },
   {
    "duration": 8,
    "start_time": "2022-04-17T13:05:14.026Z"
   },
   {
    "duration": 33,
    "start_time": "2022-04-17T13:05:14.035Z"
   },
   {
    "duration": 9,
    "start_time": "2022-04-17T13:05:14.069Z"
   },
   {
    "duration": 51,
    "start_time": "2022-04-17T13:05:14.080Z"
   },
   {
    "duration": 9,
    "start_time": "2022-04-17T13:05:14.133Z"
   },
   {
    "duration": 14,
    "start_time": "2022-04-17T13:05:14.143Z"
   },
   {
    "duration": 8,
    "start_time": "2022-04-17T13:05:14.158Z"
   },
   {
    "duration": 8,
    "start_time": "2022-04-17T13:05:14.168Z"
   },
   {
    "duration": 6,
    "start_time": "2022-04-17T13:05:14.177Z"
   },
   {
    "duration": 43,
    "start_time": "2022-04-17T13:05:14.185Z"
   },
   {
    "duration": 9,
    "start_time": "2022-04-17T13:05:14.229Z"
   },
   {
    "duration": 8,
    "start_time": "2022-04-17T13:05:14.239Z"
   },
   {
    "duration": 6,
    "start_time": "2022-04-17T13:05:14.249Z"
   },
   {
    "duration": 4,
    "start_time": "2022-04-17T13:05:14.257Z"
   },
   {
    "duration": 25,
    "start_time": "2022-04-17T13:05:14.263Z"
   },
   {
    "duration": 155,
    "start_time": "2022-04-17T13:05:14.290Z"
   },
   {
    "duration": 8,
    "start_time": "2022-04-17T13:05:14.447Z"
   },
   {
    "duration": 20,
    "start_time": "2022-04-17T13:05:14.457Z"
   },
   {
    "duration": 57,
    "start_time": "2022-04-17T13:05:14.478Z"
   },
   {
    "duration": 28,
    "start_time": "2022-04-17T13:05:14.536Z"
   },
   {
    "duration": 58,
    "start_time": "2022-04-17T13:05:14.566Z"
   },
   {
    "duration": 132,
    "start_time": "2022-04-17T13:05:14.626Z"
   },
   {
    "duration": 141,
    "start_time": "2022-04-17T13:05:14.759Z"
   },
   {
    "duration": 138,
    "start_time": "2022-04-17T13:05:14.902Z"
   },
   {
    "duration": 13,
    "start_time": "2022-04-17T13:05:15.042Z"
   },
   {
    "duration": 28,
    "start_time": "2022-04-17T13:05:15.056Z"
   },
   {
    "duration": 5,
    "start_time": "2022-04-17T13:05:15.085Z"
   },
   {
    "duration": 32,
    "start_time": "2022-04-17T13:05:15.092Z"
   },
   {
    "duration": 41,
    "start_time": "2022-04-17T13:05:15.126Z"
   },
   {
    "duration": 148,
    "start_time": "2022-04-17T13:05:15.169Z"
   },
   {
    "duration": 135,
    "start_time": "2022-04-17T13:05:15.318Z"
   },
   {
    "duration": 194,
    "start_time": "2022-04-17T13:05:15.455Z"
   },
   {
    "duration": 264,
    "start_time": "2022-04-17T13:05:15.651Z"
   },
   {
    "duration": 255,
    "start_time": "2022-04-17T13:05:15.917Z"
   },
   {
    "duration": 263,
    "start_time": "2022-04-17T13:05:16.174Z"
   },
   {
    "duration": 13,
    "start_time": "2022-04-17T13:05:16.439Z"
   },
   {
    "duration": 3,
    "start_time": "2022-04-17T13:05:16.453Z"
   },
   {
    "duration": 9,
    "start_time": "2022-04-17T13:05:16.457Z"
   },
   {
    "duration": 61,
    "start_time": "2022-04-17T13:05:16.468Z"
   },
   {
    "duration": 173,
    "start_time": "2022-04-17T13:05:16.531Z"
   },
   {
    "duration": 3,
    "start_time": "2022-04-17T13:05:16.706Z"
   },
   {
    "duration": 15,
    "start_time": "2022-04-17T13:05:16.710Z"
   },
   {
    "duration": 231,
    "start_time": "2022-04-17T13:05:16.727Z"
   }
  ],
  "kernelspec": {
   "display_name": "Python 3 (ipykernel)",
   "language": "python",
   "name": "python3"
  },
  "language_info": {
   "codemirror_mode": {
    "name": "ipython",
    "version": 3
   },
   "file_extension": ".py",
   "mimetype": "text/x-python",
   "name": "python",
   "nbconvert_exporter": "python",
   "pygments_lexer": "ipython3",
   "version": "3.9.15"
  },
  "toc": {
   "base_numbering": 1,
   "nav_menu": {},
   "number_sections": true,
   "sideBar": true,
   "skip_h1_title": true,
   "title_cell": "Table of Contents",
   "title_sidebar": "Contents",
   "toc_cell": false,
   "toc_position": {
    "height": "calc(100% - 180px)",
    "left": "10px",
    "top": "150px",
    "width": "383.188px"
   },
   "toc_section_display": true,
   "toc_window_display": true
  }
 },
 "nbformat": 4,
 "nbformat_minor": 2
}
